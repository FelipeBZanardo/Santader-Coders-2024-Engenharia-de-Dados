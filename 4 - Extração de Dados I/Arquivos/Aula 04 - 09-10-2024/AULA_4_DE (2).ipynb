{
 "cells": [
  {
   "cell_type": "markdown",
   "metadata": {
    "application/vnd.databricks.v1+cell": {
     "cellMetadata": {},
     "inputWidgets": {},
     "nuid": "e40efcf0-60e4-48cb-bb46-2b59056ae041",
     "showTitle": false,
     "title": ""
    }
   },
   "source": [
    "## Introdução Pyspark\n",
    "\n",
    "Pandas e PySpark são bibliotecas populares no ecossistema Python para trabalhar com dados estruturados. Eles oferecem recursos de manipulação e análise de dados, mas diferem significativamente em termos de escalabilidade, desempenho e recursos de computação distribuída. \n",
    "\n",
    "**1. Escalabilidade:**\n",
    "\n",
    "- **Pandas:** O Pandas opera na memória e é adequado para lidar com conjuntos de dados menores que cabem na RAM disponível. Ele é projetado principalmente para processamento em uma única máquina.\n",
    "   \n",
    "- **PySpark:** O PySpark, por outro lado, foi projetado para computação distribuída e pode lidar com grandes conjuntos de dados que excedem a capacidade de memória de uma única máquina. Ele distribui dados por um cluster de máquinas, permitindo o processamento paralelo.\n",
    "\n",
    "**2. Desempenho:**\n",
    "\n",
    "- **Pandas:** O Pandas é otimizado para processamento em uma única máquina, o que o torna muito eficiente para conjuntos de dados de pequeno e médio porte. No entanto, pode ter dificuldades com conjuntos de dados maiores devido a limitações de memória.\n",
    "   \n",
    "- **PySpark:** o desempenho do PySpark é dimensionado de acordo com o tamanho do cluster, tornando-o adequado para processamento de big data. Ele aproveita mecanismos de computação distribuída como Apache Spark para alcançar alto desempenho.\n",
    "\n",
    "**3. Fácil de usar:**\n",
    "\n",
    "- **Pandas:** O Pandas fornece uma API intuitiva e fácil de usar que é amplamente adotada por analistas de dados e cientistas. É conhecido por sua facilidade de uso e poderosos recursos de manipulação de dados.\n",
    "   \n",
    "- **PySpark:** a API do PySpark é semelhante à do Pandas, facilitando a transição dos usuários do Pandas. No entanto, configurar um cluster Spark e lidar com conceitos de computação distribuída pode ser mais complexo.\n",
    "\n",
    "**4. Criação de DataFrame:**\n",
    "\n",
    "- **Pandas:** Pandas DataFrames são criados a partir de várias fontes de dados, como arquivos CSV, planilhas Excel, bancos de dados SQL e dicionários Python.\n",
    "\n",
    "- **PySpark:** PySpark DataFrames normalmente são criados a partir de fontes de dados distribuídas, como HDFS, Apache Hive, Apache HBase ou RDDs (Resilient Distributed Datasets) existentes.\n",
    "\n",
    "**5. Casos de uso:**\n",
    "\n",
    "- **Pandas:** O Pandas é ideal para exploração, análise e pré-processamento de dados em conjuntos de dados menores, especialmente em um ambiente de máquina única. É uma ferramenta indispensável para muitos cientistas de dados.\n",
    "\n",
    "- **PySpark:** O PySpark foi projetado para processamento de big data e é mais adequado para situações em que os dados não cabem na memória ou quando você precisa aproveitar a computação distribuída para tarefas como ETL (Extrair, Transformar, Carregar) e tarefas de grande porte. análise de dados em escala.\n",
    "\n",
    "Em resumo, Pandas e PySpark DataFrames atendem a propósitos diferentes no ecossistema de processamento de dados. O Pandas é excelente para trabalhar com conjuntos de dados de pequeno e médio porte em uma única máquina, enquanto o PySpark é excelente para lidar com tarefas de processamento de dados distribuídos em grande escala. A escolha entre eles depende do tamanho específico dos dados e dos requisitos de processamento."
   ]
  },
  {
   "cell_type": "markdown",
   "metadata": {
    "application/vnd.databricks.v1+cell": {
     "cellMetadata": {},
     "inputWidgets": {},
     "nuid": "dda6ed83-18c4-4417-b140-24bf80fa70d8",
     "showTitle": false,
     "title": ""
    }
   },
   "source": [
    "##Exemplos Pyspark x Pandas\n",
    "\n",
    "Vamos nos aprofundar nas diferenças entre Pandas e PySpark DataFrames e mostrar várias operações usando ambas as bibliotecas, incluindo leitura de arquivos CSV e JSON, adição de colunas, filtragem de dados e remoção de duplicatas.\n",
    "\n",
    "**1. Lendo arquivos CSV:**\n",
    "\n",
    "\n",
    "- **Pandas:**\n",
    "\n",
    "   ```python\n",
    "   import pandas as pd\n",
    "\n",
    "   pandas_df = pd.read_csv('data.csv')\n",
    "   ```\n",
    "\n",
    "- **PySpark:**\n",
    "\n",
    "   ```python\n",
    "   from pyspark.sql import SparkSession\n",
    "\n",
    "   spark = SparkSession.builder.appName('example').getOrCreate()\n",
    "   \n",
    "   pyspark_df = spark.read.csv('data.csv', header=True, inferSchema=True)\n",
    "   ```\n",
    "\n",
    "**2. Lendo JSON:**\n",
    "\n",
    "   - **Pandas:**\n",
    "   ```python\n",
    "   import pandas as pd\n",
    "\n",
    "   pandas_df = pd.read_json('data.json')\n",
    "   ```\n",
    "\n",
    "   - **PySpark:**\n",
    "\n",
    "   ```python\n",
    "   from pyspark.sql import SparkSession\n",
    "   \n",
    "   spark = SparkSession.builder.appName('example').getOrCreate()\n",
    "\n",
    "   pyspark_df = spark.read.json('data.json')\n",
    "   ```\n",
    "\n",
    "**3. Adicionando colunas:**\n",
    "\n",
    "   - **Pandas:**\n",
    "\n",
    "   ```python\n",
    "   import pandas as pd\n",
    "   \n",
    "   pandas_df['New_Column'] = [1, 2, 3]\n",
    "   ```\n",
    "\n",
    "   - **PySpark:**\n",
    "\n",
    "   ```python\n",
    "   from pyspark.sql.functions import lit\n",
    "\n",
    "   pyspark_df = pyspark_df.withColumn('New_Column', lit(1))\n",
    "   ```\n",
    "\n",
    "**4. Filtrando os dados:**\n",
    "\n",
    "   - **Pandas:**\n",
    "\n",
    "   ```python\n",
    "   import pandas as pd\n",
    "\n",
    "   filtered_df = pandas_df[pandas_df['Age'] > 25]\n",
    "   ```\n",
    "\n",
    "   - **PySpark:**\n",
    "\n",
    "   ```python\n",
    "   from pyspark.sql.functions import col\n",
    "\n",
    "   filtered_df = pyspark_df.filter(col('Age') > 25)\n",
    "   ```\n",
    "\n",
    "**5. Excluindo duplicatas:**\n",
    "\n",
    "   - **Pandas:**\n",
    "\n",
    "   ```python\n",
    "   import pandas as pd\n",
    "   pandas_df = pandas_df.drop_duplicates()\n",
    "   ```\n",
    "\n",
    "   - **PySpark:**\n",
    "\n",
    "   ```python\n",
    "   \n",
    "   pyspark_df = pyspark_df.dropDuplicates()\n",
    "   ```\n"
   ]
  },
  {
   "cell_type": "code",
   "execution_count": 0,
   "metadata": {
    "application/vnd.databricks.v1+cell": {
     "cellMetadata": {
      "byteLimit": 2048000,
      "rowLimit": 10000
     },
     "inputWidgets": {},
     "nuid": "544774af-678c-4adc-bc16-8b21b44810c6",
     "showTitle": false,
     "title": ""
    }
   },
   "outputs": [
    {
     "output_type": "display_data",
     "data": {
      "application/vnd.databricks.v1+bamboolib_hint": "{\"pd.DataFrames\": [], \"version\": \"0.0.1\"}",
      "text/plain": []
     },
     "metadata": {},
     "output_type": "display_data"
    }
   ],
   "source": [
    "import requests\n",
    "import pandas as pd\n",
    "\n",
    "\n",
    "API_KEY = 'c0e2494c16ae9bfc8284f2528f7dfdaa'\n",
    "lista_cidades = [\"São Paulo\", \"Ourinhos\", \"Belém\"]\n",
    "\n",
    "lista_previsao = []\n",
    "lista_dados = []\n",
    "for cidade in lista_cidades:\n",
    "  url_geo = f\"http://api.openweathermap.org/geo/1.0/direct?q={cidade}&appid={API_KEY}\"\n",
    "  response_geo = requests.get(url_geo).json()\n",
    "  dici_previsao = {\"cidade\":cidade,\"latitude\":response_geo[0][\"lat\"],\"longitude\":response_geo[0][\"lon\"]}\n",
    "  lista_previsao.append(dici_previsao)\n",
    "\n",
    "\n",
    "for item in lista_previsao:\n",
    "  url_prev = f\"https://api.openweathermap.org/data/3.0/onecall?lat={item['latitude']}&lon={item['longitude']}&appid={API_KEY}\"\n",
    "  response_prev = requests.get(url_prev).json()\n",
    "  lista_dados.append(response_prev)\n",
    "\n",
    "\n",
    "df = pd.DataFrame(lista_dados)"
   ]
  },
  {
   "cell_type": "code",
   "execution_count": 0,
   "metadata": {
    "application/vnd.databricks.v1+cell": {
     "cellMetadata": {
      "byteLimit": 2048000,
      "rowLimit": 10000
     },
     "inputWidgets": {},
     "nuid": "4a2735a5-169a-4108-87c2-c28ba32cf286",
     "showTitle": false,
     "title": ""
    }
   },
   "outputs": [],
   "source": [
    "import requests\n",
    "from pyspark.sql.functions import *\n",
    "\n",
    "API_KEY = 'c0e2494c16ae9bfc8284f2528f7dfdaa'\n",
    "lista_cidades = [\"São Paulo\", \"Ourinhos\", \"Belém\"]\n",
    "\n",
    "lista_previsao = []\n",
    "lista_dados = []\n",
    "for cidade in lista_cidades:\n",
    "  url_geo = f\"http://api.openweathermap.org/geo/1.0/direct?q={cidade}&appid={API_KEY}\"\n",
    "  response_geo = requests.get(url_geo).json()\n",
    "  dici_previsao = {\"cidade\":cidade,\"latitude\":response_geo[0][\"lat\"],\"longitude\":response_geo[0][\"lon\"]}\n",
    "  lista_previsao.append(dici_previsao)\n",
    "\n",
    "\n",
    "for item in lista_previsao:\n",
    "  url_prev = f\"https://api.openweathermap.org/data/3.0/onecall?lat={item['latitude']}&lon={item['longitude']}&appid={API_KEY}\"\n",
    "  response_prev = requests.get(url_prev).json()\n",
    "  lista_dados.append(response_prev)\n",
    "\n",
    "\n",
    "df = spark.createDataFrame(lista_dados)"
   ]
  },
  {
   "cell_type": "code",
   "execution_count": 0,
   "metadata": {
    "application/vnd.databricks.v1+cell": {
     "cellMetadata": {
      "byteLimit": 2048000,
      "rowLimit": 10000
     },
     "inputWidgets": {},
     "nuid": "2efd0882-27e0-4d7f-adab-dd8fc8f137fe",
     "showTitle": false,
     "title": ""
    }
   },
   "outputs": [],
   "source": [
    "df.createOrReplaceTempView(\"teste\")"
   ]
  },
  {
   "cell_type": "code",
   "execution_count": 0,
   "metadata": {
    "application/vnd.databricks.v1+cell": {
     "cellMetadata": {
      "byteLimit": 2048000,
      "rowLimit": 10000
     },
     "inputWidgets": {},
     "nuid": "3b69c07b-0b92-4c66-ae0c-463a2ba43bbc",
     "showTitle": false,
     "title": ""
    }
   },
   "outputs": [],
   "source": [
    "df_new = spark.read.json(sc.parallelize(lista_dados))"
   ]
  },
  {
   "cell_type": "code",
   "execution_count": 0,
   "metadata": {
    "application/vnd.databricks.v1+cell": {
     "cellMetadata": {
      "byteLimit": 2048000,
      "rowLimit": 10000
     },
     "inputWidgets": {},
     "nuid": "e1adc21f-102c-4a86-8acd-c6746c30aef1",
     "showTitle": false,
     "title": ""
    }
   },
   "outputs": [],
   "source": [
    "df_new.createOrReplaceTempView(\"teste\")"
   ]
  },
  {
   "cell_type": "code",
   "execution_count": 0,
   "metadata": {
    "application/vnd.databricks.v1+cell": {
     "cellMetadata": {
      "byteLimit": 2048000,
      "rowLimit": 10000
     },
     "inputWidgets": {},
     "nuid": "61dd0a3f-65f1-43a5-95c8-3f4845b6118b",
     "showTitle": false,
     "title": ""
    }
   },
   "outputs": [
    {
     "output_type": "display_data",
     "data": {
      "text/html": [
       "<style scoped>\n",
       "  .table-result-container {\n",
       "    max-height: 300px;\n",
       "    overflow: auto;\n",
       "  }\n",
       "  table, th, td {\n",
       "    border: 1px solid black;\n",
       "    border-collapse: collapse;\n",
       "  }\n",
       "  th, td {\n",
       "    padding: 5px;\n",
       "  }\n",
       "  th {\n",
       "    text-align: left;\n",
       "  }\n",
       "</style><div class='table-result-container'><table class='table-result'><thead style='background-color: white'><tr><th>clouds</th><th>dew_point</th><th>dt</th><th>feels_like</th><th>humidity</th><th>moon_phase</th><th>moonrise</th><th>moonset</th><th>pop</th><th>pressure</th><th>rain</th><th>summary</th><th>sunrise</th><th>sunset</th><th>temp</th><th>uvi</th><th>weather</th><th>wind_deg</th><th>wind_gust</th><th>wind_speed</th></tr></thead><tbody><tr><td>17</td><td>285.05</td><td>1728482400</td><td>List(299.96, 292.36, 291.77, 291.02)</td><td>40</td><td>0.21</td><td>1728479160</td><td>0</td><td>0.2</td><td>1015</td><td>0.18</td><td>Expect a day of partly cloudy with rain</td><td>1728463112</td><td>1728508111</td><td>List(300.07, 292.3, 300.07, 290.25, 292.1, 290.87)</td><td>8.75</td><td>List(List(light rain, 10d, 500, Rain))</td><td>157</td><td>10.45</td><td>7.51</td></tr><tr><td>100</td><td>289.01</td><td>1728568800</td><td>List(297.38, 294.28, 291.64, 292.92)</td><td>60</td><td>0.25</td><td>1728569100</td><td>1728530760</td><td>1.0</td><td>1014</td><td>5.11</td><td>Expect a day of partly cloudy with rain</td><td>1728549455</td><td>1728594535</td><td>List(297.34, 293.95, 298.91, 291.01, 291.5, 292.6)</td><td>7.58</td><td>List(List(light rain, 10d, 500, Rain))</td><td>47</td><td>9.66</td><td>5.62</td></tr><tr><td>100</td><td>291.7</td><td>1728655200</td><td>List(294.71, 298.1, 292.74, 295.07)</td><td>86</td><td>0.28</td><td>1728659220</td><td>1728620340</td><td>1.0</td><td>1012</td><td>15.85</td><td>Expect a day of partly cloudy with rain</td><td>1728635799</td><td>1728680960</td><td>List(294.29, 297.59, 302.64, 292.31, 292.31, 294.53)</td><td>9.62</td><td>List(List(moderate rain, 10d, 501, Rain))</td><td>348</td><td>14.69</td><td>8.12</td></tr><tr><td>0</td><td>284.97</td><td>1728741600</td><td>List(299.92, 298.17, 293.88, 291.75)</td><td>39</td><td>0.31</td><td>1728749460</td><td>1728709560</td><td>0.8</td><td>1014</td><td>null</td><td>Expect a day of partly cloudy with clear spells</td><td>1728722144</td><td>1728767385</td><td>List(300.09, 298.34, 303.35, 292.01, 293.56, 292.01)</td><td>11.88</td><td>List(List(clear sky, 01d, 800, Clear))</td><td>151</td><td>13.53</td><td>6.58</td></tr><tr><td>100</td><td>286.85</td><td>1728828000</td><td>List(296.48, 291.81, 290.14, 290.86)</td><td>55</td><td>0.35</td><td>1728839760</td><td>1728798600</td><td>0.0</td><td>1021</td><td>null</td><td>There will be partly cloudy today</td><td>1728808489</td><td>1728853810</td><td>List(296.64, 291.9, 296.64, 290.31, 290.31, 290.98)</td><td>9.91</td><td>List(List(overcast clouds, 04d, 804, Clouds))</td><td>140</td><td>7.81</td><td>6.07</td></tr><tr><td>89</td><td>288.01</td><td>1728914400</td><td>List(298.88, 294.05, 290.04, 292.95)</td><td>52</td><td>0.39</td><td>1728930000</td><td>1728887400</td><td>0.0</td><td>1020</td><td>null</td><td>There will be partly cloudy today</td><td>1728894835</td><td>1728940236</td><td>List(298.89, 294.0, 298.98, 290.14, 290.14, 292.86)</td><td>4.17</td><td>List(List(overcast clouds, 04d, 804, Clouds))</td><td>149</td><td>8.31</td><td>6.47</td></tr><tr><td>100</td><td>288.31</td><td>1729000800</td><td>List(299.6, 297.77, 291.56, 296.18)</td><td>50</td><td>0.43</td><td>1729020240</td><td>1728976080</td><td>0.9</td><td>1016</td><td>1.02</td><td>You can expect partly cloudy in the morning, with rain in the afternoon</td><td>1728981182</td><td>1729026663</td><td>List(299.6, 297.6, 301.65, 291.48, 291.48, 295.92)</td><td>5.0</td><td>List(List(light rain, 10d, 500, Rain))</td><td>150</td><td>8.43</td><td>4.94</td></tr><tr><td>100</td><td>287.34</td><td>1729087200</td><td>List(302.77, 302.57, 293.29, 299.68)</td><td>38</td><td>0.47</td><td>1729110600</td><td>1729064700</td><td>0.55</td><td>1010</td><td>0.42</td><td>Expect a day of partly cloudy with rain</td><td>1729067529</td><td>1729113090</td><td>List(303.29, 302.82, 305.7, 293.12, 293.12, 299.68)</td><td>5.0</td><td>List(List(light rain, 10d, 500, Rain))</td><td>336</td><td>7.95</td><td>6.0</td></tr><tr><td>75</td><td>282.75</td><td>1728486000</td><td>List(309.83, 298.2, 291.51, 293.97)</td><td>17</td><td>0.21</td><td>1728480000</td><td>0</td><td>0.58</td><td>1010</td><td>3.73</td><td>Expect a day of partly cloudy with rain</td><td>1728463907</td><td>1728508868</td><td>List(311.67, 298.2, 311.81, 291.65, 291.79, 293.91)</td><td>9.25</td><td>List(List(moderate rain, 10d, 501, Rain))</td><td>114</td><td>12.36</td><td>5.5</td></tr><tr><td>94</td><td>289.23</td><td>1728572400</td><td>List(301.36, 299.12, 292.18, 293.54)</td><td>48</td><td>0.25</td><td>1728570000</td><td>1728531480</td><td>1.0</td><td>1012</td><td>3.43</td><td>Expect a day of partly cloudy with rain</td><td>1728550252</td><td>1728595291</td><td>List(301.09, 299.12, 304.94, 291.92, 291.92, 293.09)</td><td>9.17</td><td>List(List(light rain, 10d, 500, Rain))</td><td>161</td><td>12.29</td><td>5.33</td></tr><tr><td>100</td><td>292.07</td><td>1728658800</td><td>List(302.95, 297.06, 294.01, 293.4)</td><td>55</td><td>0.28</td><td>1728660120</td><td>1728621060</td><td>1.0</td><td>1008</td><td>25.23</td><td>Expect a day of partly cloudy with rain</td><td>1728636597</td><td>1728681715</td><td>List(301.8, 296.36, 301.8, 292.87, 293.44, 292.94)</td><td>4.75</td><td>List(List(heavy intensity rain, 10d, 502, Rain))</td><td>335</td><td>12.74</td><td>5.94</td></tr><tr><td>23</td><td>285.98</td><td>1728745200</td><td>List(302.74, 299.39, 290.16, 294.27)</td><td>33</td><td>0.31</td><td>1728750360</td><td>1728710280</td><td>0.0</td><td>1013</td><td>null</td><td>Expect a day of partly cloudy with clear spells</td><td>1728722942</td><td>1728768139</td><td>List(303.74, 299.39, 304.64, 289.87, 289.87, 294.7)</td><td>12.06</td><td>List(List(few clouds, 02d, 801, Clouds))</td><td>290</td><td>7.2</td><td>2.95</td></tr><tr><td>76</td><td>286.44</td><td>1728831600</td><td>List(302.62, 300.78, 290.95, 294.89)</td><td>35</td><td>0.35</td><td>1728840600</td><td>1728799320</td><td>0.0</td><td>1018</td><td>null</td><td>There will be partly cloudy today</td><td>1728809289</td><td>1728854563</td><td>List(303.44, 300.88, 306.35, 291.07, 291.07, 294.98)</td><td>10.57</td><td>List(List(broken clouds, 04d, 803, Clouds))</td><td>119</td><td>13.85</td><td>5.27</td></tr><tr><td>95</td><td>290.16</td><td>1728918000</td><td>List(304.39, 301.62, 290.64, 295.27)</td><td>43</td><td>0.39</td><td>1728930840</td><td>1728888180</td><td>0.0</td><td>1018</td><td>null</td><td>There will be partly cloudy today</td><td>1728895636</td><td>1728940988</td><td>List(304.06, 300.79, 306.62, 290.57, 290.69, 295.11)</td><td>3.14</td><td>List(List(overcast clouds, 04d, 804, Clouds))</td><td>124</td><td>13.41</td><td>4.85</td></tr><tr><td>100</td><td>289.44</td><td>1729004400</td><td>List(304.88, 295.59, 293.11, 294.7)</td><td>40</td><td>0.43</td><td>1729021080</td><td>1728976860</td><td>0.65</td><td>1013</td><td>0.48</td><td>Expect a day of partly cloudy with rain</td><td>1728981984</td><td>1729027413</td><td>List(304.76, 295.33, 304.76, 293.01, 293.01, 294.43)</td><td>4.0</td><td>List(List(light rain, 10d, 500, Rain))</td><td>99</td><td>10.72</td><td>3.84</td></tr><tr><td>61</td><td>289.37</td><td>1729090800</td><td>List(307.07, 303.53, 292.4, 298.44)</td><td>35</td><td>0.47</td><td>1729111380</td><td>1729065540</td><td>0.28</td><td>1009</td><td>0.39</td><td>Expect a day of partly cloudy with rain</td><td>1729068332</td><td>1729113839</td><td>List(306.93, 303.73, 308.59, 292.08, 292.08, 298.21)</td><td>4.0</td><td>List(List(light rain, 10d, 500, Rain))</td><td>282</td><td>3.98</td><td>2.58</td></tr><tr><td>73</td><td>292.24</td><td>1728486000</td><td>List(310.84, 304.58, 297.24, 303.03)</td><td>40</td><td>0.21</td><td>1728482820</td><td>1728528060</td><td>0.0</td><td>1012</td><td>null</td><td>Expect a day of partly cloudy with clear spells</td><td>1728464212</td><td>1728507892</td><td>List(308.4, 301.32, 308.4, 296.52, 296.52, 300.56)</td><td>12.45</td><td>List(List(broken clouds, 04d, 803, Clouds))</td><td>344</td><td>11.94</td><td>5.62</td></tr><tr><td>59</td><td>294.5</td><td>1728572400</td><td>List(309.94, 303.75, 297.51, 299.86)</td><td>51</td><td>0.25</td><td>1728572640</td><td>0</td><td>0.0</td><td>1011</td><td>null</td><td>There will be partly cloudy today</td><td>1728550593</td><td>1728594278</td><td>List(306.25, 300.8, 306.44, 296.24, 296.63, 299.02)</td><td>12.67</td><td>List(List(broken clouds, 04d, 803, Clouds))</td><td>355</td><td>11.35</td><td>5.55</td></tr><tr><td>63</td><td>293.83</td><td>1728658800</td><td>List(310.92, 302.31, 298.71, 299.03)</td><td>46</td><td>0.28</td><td>1728662460</td><td>1728617820</td><td>0.78</td><td>1010</td><td>0.86</td><td>Expect a day of partly cloudy with rain</td><td>1728636975</td><td>1728680665</td><td>List(307.48, 299.92, 307.48, 297.95, 297.95, 298.48)</td><td>12.6</td><td>List(List(light rain, 10d, 500, Rain))</td><td>342</td><td>11.61</td><td>5.97</td></tr><tr><td>68</td><td>292.22</td><td>1728745200</td><td>List(310.42, 305.12, 296.29, 302.29)</td><td>39</td><td>0.31</td><td>1728752160</td><td>1728707580</td><td>0.0</td><td>1012</td><td>null</td><td>Expect a day of partly cloudy with clear spells</td><td>1728723357</td><td>1728767052</td><td>List(308.34, 301.72, 308.34, 295.61, 295.61, 300.48)</td><td>12.45</td><td>List(List(broken clouds, 04d, 803, Clouds))</td><td>333</td><td>11.49</td><td>5.79</td></tr><tr><td>58</td><td>292.32</td><td>1728828000</td><td>List(311.9, 307.48, 297.2, 302.8)</td><td>38</td><td>0.35</td><td>1728841800</td><td>1728797160</td><td>0.0</td><td>1013</td><td>null</td><td>There will be partly cloudy today</td><td>1728809740</td><td>1728853440</td><td>List(309.3, 305.0, 309.3, 296.51, 296.51, 300.99)</td><td>12.23</td><td>List(List(broken clouds, 04d, 803, Clouds))</td><td>346</td><td>11.37</td><td>5.07</td></tr><tr><td>0</td><td>292.7</td><td>1728914400</td><td>List(311.07, 304.9, 297.35, 301.94)</td><td>41</td><td>0.39</td><td>1728931320</td><td>1728886680</td><td>0.0</td><td>1012</td><td>null</td><td>Expect a day of partly cloudy with clear spells</td><td>1728896123</td><td>1728939829</td><td>List(308.36, 301.54, 308.36, 296.62, 296.62, 300.56)</td><td>4.34</td><td>List(List(clear sky, 01d, 800, Clear))</td><td>348</td><td>11.83</td><td>6.01</td></tr><tr><td>26</td><td>293.4</td><td>1729000800</td><td>List(310.25, 303.69, 297.24, 301.96)</td><td>45</td><td>0.43</td><td>1729020780</td><td>1728976080</td><td>0.0</td><td>1011</td><td>null</td><td>The day will start with clear sky through the late morning hours, transitioning to partly cloudy</td><td>1728982507</td><td>1729026218</td><td>List(307.3, 300.77, 307.3, 296.45, 296.45, 300.7)</td><td>5.0</td><td>List(List(scattered clouds, 03d, 802, Clouds))</td><td>355</td><td>10.0</td><td>5.5</td></tr><tr><td>5</td><td>293.14</td><td>1729087200</td><td>List(311.33, 303.13, 296.6, 301.37)</td><td>43</td><td>0.47</td><td>1729110360</td><td>1729065480</td><td>0.0</td><td>1011</td><td>null</td><td>Expect a day of partly cloudy with clear spells</td><td>1729068892</td><td>1729112607</td><td>List(308.16, 300.61, 308.16, 295.8, 295.8, 299.99)</td><td>5.0</td><td>List(List(clear sky, 01d, 800, Clear))</td><td>350</td><td>10.44</td><td>5.47</td></tr></tbody></table></div>"
      ]
     },
     "metadata": {
      "application/vnd.databricks.v1+output": {
       "addedWidgets": {},
       "aggData": [],
       "aggError": "",
       "aggOverflow": false,
       "aggSchema": [],
       "aggSeriesLimitReached": false,
       "aggType": "",
       "arguments": {},
       "columnCustomDisplayInfos": {},
       "data": [
        [
         17,
         285.05,
         1728482400,
         [
          299.96,
          292.36,
          291.77,
          291.02
         ],
         40,
         0.21,
         1728479160,
         0,
         0.2,
         1015,
         0.18,
         "Expect a day of partly cloudy with rain",
         1728463112,
         1728508111,
         [
          300.07,
          292.3,
          300.07,
          290.25,
          292.1,
          290.87
         ],
         8.75,
         [
          [
           "light rain",
           "10d",
           500,
           "Rain"
          ]
         ],
         157,
         10.45,
         7.51
        ],
        [
         100,
         289.01,
         1728568800,
         [
          297.38,
          294.28,
          291.64,
          292.92
         ],
         60,
         0.25,
         1728569100,
         1728530760,
         1.0,
         1014,
         5.11,
         "Expect a day of partly cloudy with rain",
         1728549455,
         1728594535,
         [
          297.34,
          293.95,
          298.91,
          291.01,
          291.5,
          292.6
         ],
         7.58,
         [
          [
           "light rain",
           "10d",
           500,
           "Rain"
          ]
         ],
         47,
         9.66,
         5.62
        ],
        [
         100,
         291.7,
         1728655200,
         [
          294.71,
          298.1,
          292.74,
          295.07
         ],
         86,
         0.28,
         1728659220,
         1728620340,
         1.0,
         1012,
         15.85,
         "Expect a day of partly cloudy with rain",
         1728635799,
         1728680960,
         [
          294.29,
          297.59,
          302.64,
          292.31,
          292.31,
          294.53
         ],
         9.62,
         [
          [
           "moderate rain",
           "10d",
           501,
           "Rain"
          ]
         ],
         348,
         14.69,
         8.12
        ],
        [
         0,
         284.97,
         1728741600,
         [
          299.92,
          298.17,
          293.88,
          291.75
         ],
         39,
         0.31,
         1728749460,
         1728709560,
         0.8,
         1014,
         null,
         "Expect a day of partly cloudy with clear spells",
         1728722144,
         1728767385,
         [
          300.09,
          298.34,
          303.35,
          292.01,
          293.56,
          292.01
         ],
         11.88,
         [
          [
           "clear sky",
           "01d",
           800,
           "Clear"
          ]
         ],
         151,
         13.53,
         6.58
        ],
        [
         100,
         286.85,
         1728828000,
         [
          296.48,
          291.81,
          290.14,
          290.86
         ],
         55,
         0.35,
         1728839760,
         1728798600,
         0.0,
         1021,
         null,
         "There will be partly cloudy today",
         1728808489,
         1728853810,
         [
          296.64,
          291.9,
          296.64,
          290.31,
          290.31,
          290.98
         ],
         9.91,
         [
          [
           "overcast clouds",
           "04d",
           804,
           "Clouds"
          ]
         ],
         140,
         7.81,
         6.07
        ],
        [
         89,
         288.01,
         1728914400,
         [
          298.88,
          294.05,
          290.04,
          292.95
         ],
         52,
         0.39,
         1728930000,
         1728887400,
         0.0,
         1020,
         null,
         "There will be partly cloudy today",
         1728894835,
         1728940236,
         [
          298.89,
          294.0,
          298.98,
          290.14,
          290.14,
          292.86
         ],
         4.17,
         [
          [
           "overcast clouds",
           "04d",
           804,
           "Clouds"
          ]
         ],
         149,
         8.31,
         6.47
        ],
        [
         100,
         288.31,
         1729000800,
         [
          299.6,
          297.77,
          291.56,
          296.18
         ],
         50,
         0.43,
         1729020240,
         1728976080,
         0.9,
         1016,
         1.02,
         "You can expect partly cloudy in the morning, with rain in the afternoon",
         1728981182,
         1729026663,
         [
          299.6,
          297.6,
          301.65,
          291.48,
          291.48,
          295.92
         ],
         5.0,
         [
          [
           "light rain",
           "10d",
           500,
           "Rain"
          ]
         ],
         150,
         8.43,
         4.94
        ],
        [
         100,
         287.34,
         1729087200,
         [
          302.77,
          302.57,
          293.29,
          299.68
         ],
         38,
         0.47,
         1729110600,
         1729064700,
         0.55,
         1010,
         0.42,
         "Expect a day of partly cloudy with rain",
         1729067529,
         1729113090,
         [
          303.29,
          302.82,
          305.7,
          293.12,
          293.12,
          299.68
         ],
         5.0,
         [
          [
           "light rain",
           "10d",
           500,
           "Rain"
          ]
         ],
         336,
         7.95,
         6.0
        ],
        [
         75,
         282.75,
         1728486000,
         [
          309.83,
          298.2,
          291.51,
          293.97
         ],
         17,
         0.21,
         1728480000,
         0,
         0.58,
         1010,
         3.73,
         "Expect a day of partly cloudy with rain",
         1728463907,
         1728508868,
         [
          311.67,
          298.2,
          311.81,
          291.65,
          291.79,
          293.91
         ],
         9.25,
         [
          [
           "moderate rain",
           "10d",
           501,
           "Rain"
          ]
         ],
         114,
         12.36,
         5.5
        ],
        [
         94,
         289.23,
         1728572400,
         [
          301.36,
          299.12,
          292.18,
          293.54
         ],
         48,
         0.25,
         1728570000,
         1728531480,
         1.0,
         1012,
         3.43,
         "Expect a day of partly cloudy with rain",
         1728550252,
         1728595291,
         [
          301.09,
          299.12,
          304.94,
          291.92,
          291.92,
          293.09
         ],
         9.17,
         [
          [
           "light rain",
           "10d",
           500,
           "Rain"
          ]
         ],
         161,
         12.29,
         5.33
        ],
        [
         100,
         292.07,
         1728658800,
         [
          302.95,
          297.06,
          294.01,
          293.4
         ],
         55,
         0.28,
         1728660120,
         1728621060,
         1.0,
         1008,
         25.23,
         "Expect a day of partly cloudy with rain",
         1728636597,
         1728681715,
         [
          301.8,
          296.36,
          301.8,
          292.87,
          293.44,
          292.94
         ],
         4.75,
         [
          [
           "heavy intensity rain",
           "10d",
           502,
           "Rain"
          ]
         ],
         335,
         12.74,
         5.94
        ],
        [
         23,
         285.98,
         1728745200,
         [
          302.74,
          299.39,
          290.16,
          294.27
         ],
         33,
         0.31,
         1728750360,
         1728710280,
         0.0,
         1013,
         null,
         "Expect a day of partly cloudy with clear spells",
         1728722942,
         1728768139,
         [
          303.74,
          299.39,
          304.64,
          289.87,
          289.87,
          294.7
         ],
         12.06,
         [
          [
           "few clouds",
           "02d",
           801,
           "Clouds"
          ]
         ],
         290,
         7.2,
         2.95
        ],
        [
         76,
         286.44,
         1728831600,
         [
          302.62,
          300.78,
          290.95,
          294.89
         ],
         35,
         0.35,
         1728840600,
         1728799320,
         0.0,
         1018,
         null,
         "There will be partly cloudy today",
         1728809289,
         1728854563,
         [
          303.44,
          300.88,
          306.35,
          291.07,
          291.07,
          294.98
         ],
         10.57,
         [
          [
           "broken clouds",
           "04d",
           803,
           "Clouds"
          ]
         ],
         119,
         13.85,
         5.27
        ],
        [
         95,
         290.16,
         1728918000,
         [
          304.39,
          301.62,
          290.64,
          295.27
         ],
         43,
         0.39,
         1728930840,
         1728888180,
         0.0,
         1018,
         null,
         "There will be partly cloudy today",
         1728895636,
         1728940988,
         [
          304.06,
          300.79,
          306.62,
          290.57,
          290.69,
          295.11
         ],
         3.14,
         [
          [
           "overcast clouds",
           "04d",
           804,
           "Clouds"
          ]
         ],
         124,
         13.41,
         4.85
        ],
        [
         100,
         289.44,
         1729004400,
         [
          304.88,
          295.59,
          293.11,
          294.7
         ],
         40,
         0.43,
         1729021080,
         1728976860,
         0.65,
         1013,
         0.48,
         "Expect a day of partly cloudy with rain",
         1728981984,
         1729027413,
         [
          304.76,
          295.33,
          304.76,
          293.01,
          293.01,
          294.43
         ],
         4.0,
         [
          [
           "light rain",
           "10d",
           500,
           "Rain"
          ]
         ],
         99,
         10.72,
         3.84
        ],
        [
         61,
         289.37,
         1729090800,
         [
          307.07,
          303.53,
          292.4,
          298.44
         ],
         35,
         0.47,
         1729111380,
         1729065540,
         0.28,
         1009,
         0.39,
         "Expect a day of partly cloudy with rain",
         1729068332,
         1729113839,
         [
          306.93,
          303.73,
          308.59,
          292.08,
          292.08,
          298.21
         ],
         4.0,
         [
          [
           "light rain",
           "10d",
           500,
           "Rain"
          ]
         ],
         282,
         3.98,
         2.58
        ],
        [
         73,
         292.24,
         1728486000,
         [
          310.84,
          304.58,
          297.24,
          303.03
         ],
         40,
         0.21,
         1728482820,
         1728528060,
         0.0,
         1012,
         null,
         "Expect a day of partly cloudy with clear spells",
         1728464212,
         1728507892,
         [
          308.4,
          301.32,
          308.4,
          296.52,
          296.52,
          300.56
         ],
         12.45,
         [
          [
           "broken clouds",
           "04d",
           803,
           "Clouds"
          ]
         ],
         344,
         11.94,
         5.62
        ],
        [
         59,
         294.5,
         1728572400,
         [
          309.94,
          303.75,
          297.51,
          299.86
         ],
         51,
         0.25,
         1728572640,
         0,
         0.0,
         1011,
         null,
         "There will be partly cloudy today",
         1728550593,
         1728594278,
         [
          306.25,
          300.8,
          306.44,
          296.24,
          296.63,
          299.02
         ],
         12.67,
         [
          [
           "broken clouds",
           "04d",
           803,
           "Clouds"
          ]
         ],
         355,
         11.35,
         5.55
        ],
        [
         63,
         293.83,
         1728658800,
         [
          310.92,
          302.31,
          298.71,
          299.03
         ],
         46,
         0.28,
         1728662460,
         1728617820,
         0.78,
         1010,
         0.86,
         "Expect a day of partly cloudy with rain",
         1728636975,
         1728680665,
         [
          307.48,
          299.92,
          307.48,
          297.95,
          297.95,
          298.48
         ],
         12.6,
         [
          [
           "light rain",
           "10d",
           500,
           "Rain"
          ]
         ],
         342,
         11.61,
         5.97
        ],
        [
         68,
         292.22,
         1728745200,
         [
          310.42,
          305.12,
          296.29,
          302.29
         ],
         39,
         0.31,
         1728752160,
         1728707580,
         0.0,
         1012,
         null,
         "Expect a day of partly cloudy with clear spells",
         1728723357,
         1728767052,
         [
          308.34,
          301.72,
          308.34,
          295.61,
          295.61,
          300.48
         ],
         12.45,
         [
          [
           "broken clouds",
           "04d",
           803,
           "Clouds"
          ]
         ],
         333,
         11.49,
         5.79
        ],
        [
         58,
         292.32,
         1728828000,
         [
          311.9,
          307.48,
          297.2,
          302.8
         ],
         38,
         0.35,
         1728841800,
         1728797160,
         0.0,
         1013,
         null,
         "There will be partly cloudy today",
         1728809740,
         1728853440,
         [
          309.3,
          305.0,
          309.3,
          296.51,
          296.51,
          300.99
         ],
         12.23,
         [
          [
           "broken clouds",
           "04d",
           803,
           "Clouds"
          ]
         ],
         346,
         11.37,
         5.07
        ],
        [
         0,
         292.7,
         1728914400,
         [
          311.07,
          304.9,
          297.35,
          301.94
         ],
         41,
         0.39,
         1728931320,
         1728886680,
         0.0,
         1012,
         null,
         "Expect a day of partly cloudy with clear spells",
         1728896123,
         1728939829,
         [
          308.36,
          301.54,
          308.36,
          296.62,
          296.62,
          300.56
         ],
         4.34,
         [
          [
           "clear sky",
           "01d",
           800,
           "Clear"
          ]
         ],
         348,
         11.83,
         6.01
        ],
        [
         26,
         293.4,
         1729000800,
         [
          310.25,
          303.69,
          297.24,
          301.96
         ],
         45,
         0.43,
         1729020780,
         1728976080,
         0.0,
         1011,
         null,
         "The day will start with clear sky through the late morning hours, transitioning to partly cloudy",
         1728982507,
         1729026218,
         [
          307.3,
          300.77,
          307.3,
          296.45,
          296.45,
          300.7
         ],
         5.0,
         [
          [
           "scattered clouds",
           "03d",
           802,
           "Clouds"
          ]
         ],
         355,
         10.0,
         5.5
        ],
        [
         5,
         293.14,
         1729087200,
         [
          311.33,
          303.13,
          296.6,
          301.37
         ],
         43,
         0.47,
         1729110360,
         1729065480,
         0.0,
         1011,
         null,
         "Expect a day of partly cloudy with clear spells",
         1729068892,
         1729112607,
         [
          308.16,
          300.61,
          308.16,
          295.8,
          295.8,
          299.99
         ],
         5.0,
         [
          [
           "clear sky",
           "01d",
           800,
           "Clear"
          ]
         ],
         350,
         10.44,
         5.47
        ]
       ],
       "datasetInfos": [],
       "dbfsResultPath": null,
       "isJsonSchema": true,
       "metadata": {},
       "overflow": false,
       "plotOptions": {
        "customPlotOptions": {},
        "displayType": "table",
        "pivotAggregation": null,
        "pivotColumns": null,
        "xColumns": null,
        "yColumns": null
       },
       "removedWidgets": [],
       "schema": [
        {
         "metadata": "{}",
         "name": "clouds",
         "type": "\"long\""
        },
        {
         "metadata": "{}",
         "name": "dew_point",
         "type": "\"double\""
        },
        {
         "metadata": "{}",
         "name": "dt",
         "type": "\"long\""
        },
        {
         "metadata": "{}",
         "name": "feels_like",
         "type": "{\"type\":\"struct\",\"fields\":[{\"name\":\"day\",\"type\":\"double\",\"nullable\":true,\"metadata\":{}},{\"name\":\"eve\",\"type\":\"double\",\"nullable\":true,\"metadata\":{}},{\"name\":\"morn\",\"type\":\"double\",\"nullable\":true,\"metadata\":{}},{\"name\":\"night\",\"type\":\"double\",\"nullable\":true,\"metadata\":{}}]}"
        },
        {
         "metadata": "{}",
         "name": "humidity",
         "type": "\"long\""
        },
        {
         "metadata": "{}",
         "name": "moon_phase",
         "type": "\"double\""
        },
        {
         "metadata": "{}",
         "name": "moonrise",
         "type": "\"long\""
        },
        {
         "metadata": "{}",
         "name": "moonset",
         "type": "\"long\""
        },
        {
         "metadata": "{}",
         "name": "pop",
         "type": "\"double\""
        },
        {
         "metadata": "{}",
         "name": "pressure",
         "type": "\"long\""
        },
        {
         "metadata": "{}",
         "name": "rain",
         "type": "\"double\""
        },
        {
         "metadata": "{}",
         "name": "summary",
         "type": "\"string\""
        },
        {
         "metadata": "{}",
         "name": "sunrise",
         "type": "\"long\""
        },
        {
         "metadata": "{}",
         "name": "sunset",
         "type": "\"long\""
        },
        {
         "metadata": "{}",
         "name": "temp",
         "type": "{\"type\":\"struct\",\"fields\":[{\"name\":\"day\",\"type\":\"double\",\"nullable\":true,\"metadata\":{}},{\"name\":\"eve\",\"type\":\"double\",\"nullable\":true,\"metadata\":{}},{\"name\":\"max\",\"type\":\"double\",\"nullable\":true,\"metadata\":{}},{\"name\":\"min\",\"type\":\"double\",\"nullable\":true,\"metadata\":{}},{\"name\":\"morn\",\"type\":\"double\",\"nullable\":true,\"metadata\":{}},{\"name\":\"night\",\"type\":\"double\",\"nullable\":true,\"metadata\":{}}]}"
        },
        {
         "metadata": "{}",
         "name": "uvi",
         "type": "\"double\""
        },
        {
         "metadata": "{}",
         "name": "weather",
         "type": "{\"type\":\"array\",\"elementType\":{\"type\":\"struct\",\"fields\":[{\"name\":\"description\",\"type\":\"string\",\"nullable\":true,\"metadata\":{}},{\"name\":\"icon\",\"type\":\"string\",\"nullable\":true,\"metadata\":{}},{\"name\":\"id\",\"type\":\"long\",\"nullable\":true,\"metadata\":{}},{\"name\":\"main\",\"type\":\"string\",\"nullable\":true,\"metadata\":{}}]},\"containsNull\":true}"
        },
        {
         "metadata": "{}",
         "name": "wind_deg",
         "type": "\"long\""
        },
        {
         "metadata": "{}",
         "name": "wind_gust",
         "type": "\"double\""
        },
        {
         "metadata": "{}",
         "name": "wind_speed",
         "type": "\"double\""
        }
       ],
       "type": "table"
      }
     },
     "output_type": "display_data"
    }
   ],
   "source": [
    "df_new.selectExpr(\"inline(daily)\").display()"
   ]
  },
  {
   "cell_type": "code",
   "execution_count": 0,
   "metadata": {
    "application/vnd.databricks.v1+cell": {
     "cellMetadata": {
      "byteLimit": 2048000,
      "rowLimit": 10000
     },
     "inputWidgets": {},
     "nuid": "42e29e19-2b95-475e-b0b5-b0e35979ee26",
     "showTitle": false,
     "title": ""
    }
   },
   "outputs": [
    {
     "output_type": "display_data",
     "data": {
      "text/html": [
       "<style scoped>\n",
       "  .table-result-container {\n",
       "    max-height: 300px;\n",
       "    overflow: auto;\n",
       "  }\n",
       "  table, th, td {\n",
       "    border: 1px solid black;\n",
       "    border-collapse: collapse;\n",
       "  }\n",
       "  th, td {\n",
       "    padding: 5px;\n",
       "  }\n",
       "  th {\n",
       "    text-align: left;\n",
       "  }\n",
       "</style><div class='table-result-container'><table class='table-result'><thead style='background-color: white'><tr><th>clouds</th><th>dew_point</th><th>dt</th><th>feels_like</th><th>humidity</th><th>moon_phase</th><th>moonrise</th><th>moonset</th><th>pop</th><th>pressure</th><th>rain</th><th>summary</th><th>sunrise</th><th>sunset</th><th>temp</th><th>uvi</th><th>weather</th><th>wind_deg</th><th>wind_gust</th><th>wind_speed</th></tr></thead><tbody><tr><td>17</td><td>285.05</td><td>1728482400</td><td>List(299.96, 292.36, 291.77, 291.02)</td><td>40</td><td>0.21</td><td>1728479160</td><td>0</td><td>0.2</td><td>1015</td><td>0.18</td><td>Expect a day of partly cloudy with rain</td><td>1728463112</td><td>1728508111</td><td>List(300.07, 292.3, 300.07, 290.25, 292.1, 290.87)</td><td>8.75</td><td>List(List(light rain, 10d, 500, Rain))</td><td>157</td><td>10.45</td><td>7.51</td></tr><tr><td>100</td><td>289.01</td><td>1728568800</td><td>List(297.38, 294.28, 291.64, 292.92)</td><td>60</td><td>0.25</td><td>1728569100</td><td>1728530760</td><td>1.0</td><td>1014</td><td>5.11</td><td>Expect a day of partly cloudy with rain</td><td>1728549455</td><td>1728594535</td><td>List(297.34, 293.95, 298.91, 291.01, 291.5, 292.6)</td><td>7.58</td><td>List(List(light rain, 10d, 500, Rain))</td><td>47</td><td>9.66</td><td>5.62</td></tr><tr><td>100</td><td>291.7</td><td>1728655200</td><td>List(294.71, 298.1, 292.74, 295.07)</td><td>86</td><td>0.28</td><td>1728659220</td><td>1728620340</td><td>1.0</td><td>1012</td><td>15.85</td><td>Expect a day of partly cloudy with rain</td><td>1728635799</td><td>1728680960</td><td>List(294.29, 297.59, 302.64, 292.31, 292.31, 294.53)</td><td>9.62</td><td>List(List(moderate rain, 10d, 501, Rain))</td><td>348</td><td>14.69</td><td>8.12</td></tr><tr><td>0</td><td>284.97</td><td>1728741600</td><td>List(299.92, 298.17, 293.88, 291.75)</td><td>39</td><td>0.31</td><td>1728749460</td><td>1728709560</td><td>0.8</td><td>1014</td><td>null</td><td>Expect a day of partly cloudy with clear spells</td><td>1728722144</td><td>1728767385</td><td>List(300.09, 298.34, 303.35, 292.01, 293.56, 292.01)</td><td>11.88</td><td>List(List(clear sky, 01d, 800, Clear))</td><td>151</td><td>13.53</td><td>6.58</td></tr><tr><td>100</td><td>286.85</td><td>1728828000</td><td>List(296.48, 291.81, 290.14, 290.86)</td><td>55</td><td>0.35</td><td>1728839760</td><td>1728798600</td><td>0.0</td><td>1021</td><td>null</td><td>There will be partly cloudy today</td><td>1728808489</td><td>1728853810</td><td>List(296.64, 291.9, 296.64, 290.31, 290.31, 290.98)</td><td>9.91</td><td>List(List(overcast clouds, 04d, 804, Clouds))</td><td>140</td><td>7.81</td><td>6.07</td></tr><tr><td>89</td><td>288.01</td><td>1728914400</td><td>List(298.88, 294.05, 290.04, 292.95)</td><td>52</td><td>0.39</td><td>1728930000</td><td>1728887400</td><td>0.0</td><td>1020</td><td>null</td><td>There will be partly cloudy today</td><td>1728894835</td><td>1728940236</td><td>List(298.89, 294.0, 298.98, 290.14, 290.14, 292.86)</td><td>4.17</td><td>List(List(overcast clouds, 04d, 804, Clouds))</td><td>149</td><td>8.31</td><td>6.47</td></tr><tr><td>100</td><td>288.31</td><td>1729000800</td><td>List(299.6, 297.77, 291.56, 296.18)</td><td>50</td><td>0.43</td><td>1729020240</td><td>1728976080</td><td>0.9</td><td>1016</td><td>1.02</td><td>You can expect partly cloudy in the morning, with rain in the afternoon</td><td>1728981182</td><td>1729026663</td><td>List(299.6, 297.6, 301.65, 291.48, 291.48, 295.92)</td><td>5.0</td><td>List(List(light rain, 10d, 500, Rain))</td><td>150</td><td>8.43</td><td>4.94</td></tr><tr><td>100</td><td>287.34</td><td>1729087200</td><td>List(302.77, 302.57, 293.29, 299.68)</td><td>38</td><td>0.47</td><td>1729110600</td><td>1729064700</td><td>0.55</td><td>1010</td><td>0.42</td><td>Expect a day of partly cloudy with rain</td><td>1729067529</td><td>1729113090</td><td>List(303.29, 302.82, 305.7, 293.12, 293.12, 299.68)</td><td>5.0</td><td>List(List(light rain, 10d, 500, Rain))</td><td>336</td><td>7.95</td><td>6.0</td></tr><tr><td>75</td><td>282.75</td><td>1728486000</td><td>List(309.83, 298.2, 291.51, 293.97)</td><td>17</td><td>0.21</td><td>1728480000</td><td>0</td><td>0.58</td><td>1010</td><td>3.73</td><td>Expect a day of partly cloudy with rain</td><td>1728463907</td><td>1728508868</td><td>List(311.67, 298.2, 311.81, 291.65, 291.79, 293.91)</td><td>9.25</td><td>List(List(moderate rain, 10d, 501, Rain))</td><td>114</td><td>12.36</td><td>5.5</td></tr><tr><td>94</td><td>289.23</td><td>1728572400</td><td>List(301.36, 299.12, 292.18, 293.54)</td><td>48</td><td>0.25</td><td>1728570000</td><td>1728531480</td><td>1.0</td><td>1012</td><td>3.43</td><td>Expect a day of partly cloudy with rain</td><td>1728550252</td><td>1728595291</td><td>List(301.09, 299.12, 304.94, 291.92, 291.92, 293.09)</td><td>9.17</td><td>List(List(light rain, 10d, 500, Rain))</td><td>161</td><td>12.29</td><td>5.33</td></tr><tr><td>100</td><td>292.07</td><td>1728658800</td><td>List(302.95, 297.06, 294.01, 293.4)</td><td>55</td><td>0.28</td><td>1728660120</td><td>1728621060</td><td>1.0</td><td>1008</td><td>25.23</td><td>Expect a day of partly cloudy with rain</td><td>1728636597</td><td>1728681715</td><td>List(301.8, 296.36, 301.8, 292.87, 293.44, 292.94)</td><td>4.75</td><td>List(List(heavy intensity rain, 10d, 502, Rain))</td><td>335</td><td>12.74</td><td>5.94</td></tr><tr><td>23</td><td>285.98</td><td>1728745200</td><td>List(302.74, 299.39, 290.16, 294.27)</td><td>33</td><td>0.31</td><td>1728750360</td><td>1728710280</td><td>0.0</td><td>1013</td><td>null</td><td>Expect a day of partly cloudy with clear spells</td><td>1728722942</td><td>1728768139</td><td>List(303.74, 299.39, 304.64, 289.87, 289.87, 294.7)</td><td>12.06</td><td>List(List(few clouds, 02d, 801, Clouds))</td><td>290</td><td>7.2</td><td>2.95</td></tr><tr><td>76</td><td>286.44</td><td>1728831600</td><td>List(302.62, 300.78, 290.95, 294.89)</td><td>35</td><td>0.35</td><td>1728840600</td><td>1728799320</td><td>0.0</td><td>1018</td><td>null</td><td>There will be partly cloudy today</td><td>1728809289</td><td>1728854563</td><td>List(303.44, 300.88, 306.35, 291.07, 291.07, 294.98)</td><td>10.57</td><td>List(List(broken clouds, 04d, 803, Clouds))</td><td>119</td><td>13.85</td><td>5.27</td></tr><tr><td>95</td><td>290.16</td><td>1728918000</td><td>List(304.39, 301.62, 290.64, 295.27)</td><td>43</td><td>0.39</td><td>1728930840</td><td>1728888180</td><td>0.0</td><td>1018</td><td>null</td><td>There will be partly cloudy today</td><td>1728895636</td><td>1728940988</td><td>List(304.06, 300.79, 306.62, 290.57, 290.69, 295.11)</td><td>3.14</td><td>List(List(overcast clouds, 04d, 804, Clouds))</td><td>124</td><td>13.41</td><td>4.85</td></tr><tr><td>100</td><td>289.44</td><td>1729004400</td><td>List(304.88, 295.59, 293.11, 294.7)</td><td>40</td><td>0.43</td><td>1729021080</td><td>1728976860</td><td>0.65</td><td>1013</td><td>0.48</td><td>Expect a day of partly cloudy with rain</td><td>1728981984</td><td>1729027413</td><td>List(304.76, 295.33, 304.76, 293.01, 293.01, 294.43)</td><td>4.0</td><td>List(List(light rain, 10d, 500, Rain))</td><td>99</td><td>10.72</td><td>3.84</td></tr><tr><td>61</td><td>289.37</td><td>1729090800</td><td>List(307.07, 303.53, 292.4, 298.44)</td><td>35</td><td>0.47</td><td>1729111380</td><td>1729065540</td><td>0.28</td><td>1009</td><td>0.39</td><td>Expect a day of partly cloudy with rain</td><td>1729068332</td><td>1729113839</td><td>List(306.93, 303.73, 308.59, 292.08, 292.08, 298.21)</td><td>4.0</td><td>List(List(light rain, 10d, 500, Rain))</td><td>282</td><td>3.98</td><td>2.58</td></tr><tr><td>73</td><td>292.24</td><td>1728486000</td><td>List(310.84, 304.58, 297.24, 303.03)</td><td>40</td><td>0.21</td><td>1728482820</td><td>1728528060</td><td>0.0</td><td>1012</td><td>null</td><td>Expect a day of partly cloudy with clear spells</td><td>1728464212</td><td>1728507892</td><td>List(308.4, 301.32, 308.4, 296.52, 296.52, 300.56)</td><td>12.45</td><td>List(List(broken clouds, 04d, 803, Clouds))</td><td>344</td><td>11.94</td><td>5.62</td></tr><tr><td>59</td><td>294.5</td><td>1728572400</td><td>List(309.94, 303.75, 297.51, 299.86)</td><td>51</td><td>0.25</td><td>1728572640</td><td>0</td><td>0.0</td><td>1011</td><td>null</td><td>There will be partly cloudy today</td><td>1728550593</td><td>1728594278</td><td>List(306.25, 300.8, 306.44, 296.24, 296.63, 299.02)</td><td>12.67</td><td>List(List(broken clouds, 04d, 803, Clouds))</td><td>355</td><td>11.35</td><td>5.55</td></tr><tr><td>63</td><td>293.83</td><td>1728658800</td><td>List(310.92, 302.31, 298.71, 299.03)</td><td>46</td><td>0.28</td><td>1728662460</td><td>1728617820</td><td>0.78</td><td>1010</td><td>0.86</td><td>Expect a day of partly cloudy with rain</td><td>1728636975</td><td>1728680665</td><td>List(307.48, 299.92, 307.48, 297.95, 297.95, 298.48)</td><td>12.6</td><td>List(List(light rain, 10d, 500, Rain))</td><td>342</td><td>11.61</td><td>5.97</td></tr><tr><td>68</td><td>292.22</td><td>1728745200</td><td>List(310.42, 305.12, 296.29, 302.29)</td><td>39</td><td>0.31</td><td>1728752160</td><td>1728707580</td><td>0.0</td><td>1012</td><td>null</td><td>Expect a day of partly cloudy with clear spells</td><td>1728723357</td><td>1728767052</td><td>List(308.34, 301.72, 308.34, 295.61, 295.61, 300.48)</td><td>12.45</td><td>List(List(broken clouds, 04d, 803, Clouds))</td><td>333</td><td>11.49</td><td>5.79</td></tr><tr><td>58</td><td>292.32</td><td>1728828000</td><td>List(311.9, 307.48, 297.2, 302.8)</td><td>38</td><td>0.35</td><td>1728841800</td><td>1728797160</td><td>0.0</td><td>1013</td><td>null</td><td>There will be partly cloudy today</td><td>1728809740</td><td>1728853440</td><td>List(309.3, 305.0, 309.3, 296.51, 296.51, 300.99)</td><td>12.23</td><td>List(List(broken clouds, 04d, 803, Clouds))</td><td>346</td><td>11.37</td><td>5.07</td></tr><tr><td>0</td><td>292.7</td><td>1728914400</td><td>List(311.07, 304.9, 297.35, 301.94)</td><td>41</td><td>0.39</td><td>1728931320</td><td>1728886680</td><td>0.0</td><td>1012</td><td>null</td><td>Expect a day of partly cloudy with clear spells</td><td>1728896123</td><td>1728939829</td><td>List(308.36, 301.54, 308.36, 296.62, 296.62, 300.56)</td><td>4.34</td><td>List(List(clear sky, 01d, 800, Clear))</td><td>348</td><td>11.83</td><td>6.01</td></tr><tr><td>26</td><td>293.4</td><td>1729000800</td><td>List(310.25, 303.69, 297.24, 301.96)</td><td>45</td><td>0.43</td><td>1729020780</td><td>1728976080</td><td>0.0</td><td>1011</td><td>null</td><td>The day will start with clear sky through the late morning hours, transitioning to partly cloudy</td><td>1728982507</td><td>1729026218</td><td>List(307.3, 300.77, 307.3, 296.45, 296.45, 300.7)</td><td>5.0</td><td>List(List(scattered clouds, 03d, 802, Clouds))</td><td>355</td><td>10.0</td><td>5.5</td></tr><tr><td>5</td><td>293.14</td><td>1729087200</td><td>List(311.33, 303.13, 296.6, 301.37)</td><td>43</td><td>0.47</td><td>1729110360</td><td>1729065480</td><td>0.0</td><td>1011</td><td>null</td><td>Expect a day of partly cloudy with clear spells</td><td>1729068892</td><td>1729112607</td><td>List(308.16, 300.61, 308.16, 295.8, 295.8, 299.99)</td><td>5.0</td><td>List(List(clear sky, 01d, 800, Clear))</td><td>350</td><td>10.44</td><td>5.47</td></tr></tbody></table></div>"
      ]
     },
     "metadata": {
      "application/vnd.databricks.v1+output": {
       "addedWidgets": {},
       "aggData": [],
       "aggError": "",
       "aggOverflow": false,
       "aggSchema": [],
       "aggSeriesLimitReached": false,
       "aggType": "",
       "arguments": {},
       "columnCustomDisplayInfos": {},
       "data": [
        [
         17,
         285.05,
         1728482400,
         [
          299.96,
          292.36,
          291.77,
          291.02
         ],
         40,
         0.21,
         1728479160,
         0,
         0.2,
         1015,
         0.18,
         "Expect a day of partly cloudy with rain",
         1728463112,
         1728508111,
         [
          300.07,
          292.3,
          300.07,
          290.25,
          292.1,
          290.87
         ],
         8.75,
         [
          [
           "light rain",
           "10d",
           500,
           "Rain"
          ]
         ],
         157,
         10.45,
         7.51
        ],
        [
         100,
         289.01,
         1728568800,
         [
          297.38,
          294.28,
          291.64,
          292.92
         ],
         60,
         0.25,
         1728569100,
         1728530760,
         1.0,
         1014,
         5.11,
         "Expect a day of partly cloudy with rain",
         1728549455,
         1728594535,
         [
          297.34,
          293.95,
          298.91,
          291.01,
          291.5,
          292.6
         ],
         7.58,
         [
          [
           "light rain",
           "10d",
           500,
           "Rain"
          ]
         ],
         47,
         9.66,
         5.62
        ],
        [
         100,
         291.7,
         1728655200,
         [
          294.71,
          298.1,
          292.74,
          295.07
         ],
         86,
         0.28,
         1728659220,
         1728620340,
         1.0,
         1012,
         15.85,
         "Expect a day of partly cloudy with rain",
         1728635799,
         1728680960,
         [
          294.29,
          297.59,
          302.64,
          292.31,
          292.31,
          294.53
         ],
         9.62,
         [
          [
           "moderate rain",
           "10d",
           501,
           "Rain"
          ]
         ],
         348,
         14.69,
         8.12
        ],
        [
         0,
         284.97,
         1728741600,
         [
          299.92,
          298.17,
          293.88,
          291.75
         ],
         39,
         0.31,
         1728749460,
         1728709560,
         0.8,
         1014,
         null,
         "Expect a day of partly cloudy with clear spells",
         1728722144,
         1728767385,
         [
          300.09,
          298.34,
          303.35,
          292.01,
          293.56,
          292.01
         ],
         11.88,
         [
          [
           "clear sky",
           "01d",
           800,
           "Clear"
          ]
         ],
         151,
         13.53,
         6.58
        ],
        [
         100,
         286.85,
         1728828000,
         [
          296.48,
          291.81,
          290.14,
          290.86
         ],
         55,
         0.35,
         1728839760,
         1728798600,
         0.0,
         1021,
         null,
         "There will be partly cloudy today",
         1728808489,
         1728853810,
         [
          296.64,
          291.9,
          296.64,
          290.31,
          290.31,
          290.98
         ],
         9.91,
         [
          [
           "overcast clouds",
           "04d",
           804,
           "Clouds"
          ]
         ],
         140,
         7.81,
         6.07
        ],
        [
         89,
         288.01,
         1728914400,
         [
          298.88,
          294.05,
          290.04,
          292.95
         ],
         52,
         0.39,
         1728930000,
         1728887400,
         0.0,
         1020,
         null,
         "There will be partly cloudy today",
         1728894835,
         1728940236,
         [
          298.89,
          294.0,
          298.98,
          290.14,
          290.14,
          292.86
         ],
         4.17,
         [
          [
           "overcast clouds",
           "04d",
           804,
           "Clouds"
          ]
         ],
         149,
         8.31,
         6.47
        ],
        [
         100,
         288.31,
         1729000800,
         [
          299.6,
          297.77,
          291.56,
          296.18
         ],
         50,
         0.43,
         1729020240,
         1728976080,
         0.9,
         1016,
         1.02,
         "You can expect partly cloudy in the morning, with rain in the afternoon",
         1728981182,
         1729026663,
         [
          299.6,
          297.6,
          301.65,
          291.48,
          291.48,
          295.92
         ],
         5.0,
         [
          [
           "light rain",
           "10d",
           500,
           "Rain"
          ]
         ],
         150,
         8.43,
         4.94
        ],
        [
         100,
         287.34,
         1729087200,
         [
          302.77,
          302.57,
          293.29,
          299.68
         ],
         38,
         0.47,
         1729110600,
         1729064700,
         0.55,
         1010,
         0.42,
         "Expect a day of partly cloudy with rain",
         1729067529,
         1729113090,
         [
          303.29,
          302.82,
          305.7,
          293.12,
          293.12,
          299.68
         ],
         5.0,
         [
          [
           "light rain",
           "10d",
           500,
           "Rain"
          ]
         ],
         336,
         7.95,
         6.0
        ],
        [
         75,
         282.75,
         1728486000,
         [
          309.83,
          298.2,
          291.51,
          293.97
         ],
         17,
         0.21,
         1728480000,
         0,
         0.58,
         1010,
         3.73,
         "Expect a day of partly cloudy with rain",
         1728463907,
         1728508868,
         [
          311.67,
          298.2,
          311.81,
          291.65,
          291.79,
          293.91
         ],
         9.25,
         [
          [
           "moderate rain",
           "10d",
           501,
           "Rain"
          ]
         ],
         114,
         12.36,
         5.5
        ],
        [
         94,
         289.23,
         1728572400,
         [
          301.36,
          299.12,
          292.18,
          293.54
         ],
         48,
         0.25,
         1728570000,
         1728531480,
         1.0,
         1012,
         3.43,
         "Expect a day of partly cloudy with rain",
         1728550252,
         1728595291,
         [
          301.09,
          299.12,
          304.94,
          291.92,
          291.92,
          293.09
         ],
         9.17,
         [
          [
           "light rain",
           "10d",
           500,
           "Rain"
          ]
         ],
         161,
         12.29,
         5.33
        ],
        [
         100,
         292.07,
         1728658800,
         [
          302.95,
          297.06,
          294.01,
          293.4
         ],
         55,
         0.28,
         1728660120,
         1728621060,
         1.0,
         1008,
         25.23,
         "Expect a day of partly cloudy with rain",
         1728636597,
         1728681715,
         [
          301.8,
          296.36,
          301.8,
          292.87,
          293.44,
          292.94
         ],
         4.75,
         [
          [
           "heavy intensity rain",
           "10d",
           502,
           "Rain"
          ]
         ],
         335,
         12.74,
         5.94
        ],
        [
         23,
         285.98,
         1728745200,
         [
          302.74,
          299.39,
          290.16,
          294.27
         ],
         33,
         0.31,
         1728750360,
         1728710280,
         0.0,
         1013,
         null,
         "Expect a day of partly cloudy with clear spells",
         1728722942,
         1728768139,
         [
          303.74,
          299.39,
          304.64,
          289.87,
          289.87,
          294.7
         ],
         12.06,
         [
          [
           "few clouds",
           "02d",
           801,
           "Clouds"
          ]
         ],
         290,
         7.2,
         2.95
        ],
        [
         76,
         286.44,
         1728831600,
         [
          302.62,
          300.78,
          290.95,
          294.89
         ],
         35,
         0.35,
         1728840600,
         1728799320,
         0.0,
         1018,
         null,
         "There will be partly cloudy today",
         1728809289,
         1728854563,
         [
          303.44,
          300.88,
          306.35,
          291.07,
          291.07,
          294.98
         ],
         10.57,
         [
          [
           "broken clouds",
           "04d",
           803,
           "Clouds"
          ]
         ],
         119,
         13.85,
         5.27
        ],
        [
         95,
         290.16,
         1728918000,
         [
          304.39,
          301.62,
          290.64,
          295.27
         ],
         43,
         0.39,
         1728930840,
         1728888180,
         0.0,
         1018,
         null,
         "There will be partly cloudy today",
         1728895636,
         1728940988,
         [
          304.06,
          300.79,
          306.62,
          290.57,
          290.69,
          295.11
         ],
         3.14,
         [
          [
           "overcast clouds",
           "04d",
           804,
           "Clouds"
          ]
         ],
         124,
         13.41,
         4.85
        ],
        [
         100,
         289.44,
         1729004400,
         [
          304.88,
          295.59,
          293.11,
          294.7
         ],
         40,
         0.43,
         1729021080,
         1728976860,
         0.65,
         1013,
         0.48,
         "Expect a day of partly cloudy with rain",
         1728981984,
         1729027413,
         [
          304.76,
          295.33,
          304.76,
          293.01,
          293.01,
          294.43
         ],
         4.0,
         [
          [
           "light rain",
           "10d",
           500,
           "Rain"
          ]
         ],
         99,
         10.72,
         3.84
        ],
        [
         61,
         289.37,
         1729090800,
         [
          307.07,
          303.53,
          292.4,
          298.44
         ],
         35,
         0.47,
         1729111380,
         1729065540,
         0.28,
         1009,
         0.39,
         "Expect a day of partly cloudy with rain",
         1729068332,
         1729113839,
         [
          306.93,
          303.73,
          308.59,
          292.08,
          292.08,
          298.21
         ],
         4.0,
         [
          [
           "light rain",
           "10d",
           500,
           "Rain"
          ]
         ],
         282,
         3.98,
         2.58
        ],
        [
         73,
         292.24,
         1728486000,
         [
          310.84,
          304.58,
          297.24,
          303.03
         ],
         40,
         0.21,
         1728482820,
         1728528060,
         0.0,
         1012,
         null,
         "Expect a day of partly cloudy with clear spells",
         1728464212,
         1728507892,
         [
          308.4,
          301.32,
          308.4,
          296.52,
          296.52,
          300.56
         ],
         12.45,
         [
          [
           "broken clouds",
           "04d",
           803,
           "Clouds"
          ]
         ],
         344,
         11.94,
         5.62
        ],
        [
         59,
         294.5,
         1728572400,
         [
          309.94,
          303.75,
          297.51,
          299.86
         ],
         51,
         0.25,
         1728572640,
         0,
         0.0,
         1011,
         null,
         "There will be partly cloudy today",
         1728550593,
         1728594278,
         [
          306.25,
          300.8,
          306.44,
          296.24,
          296.63,
          299.02
         ],
         12.67,
         [
          [
           "broken clouds",
           "04d",
           803,
           "Clouds"
          ]
         ],
         355,
         11.35,
         5.55
        ],
        [
         63,
         293.83,
         1728658800,
         [
          310.92,
          302.31,
          298.71,
          299.03
         ],
         46,
         0.28,
         1728662460,
         1728617820,
         0.78,
         1010,
         0.86,
         "Expect a day of partly cloudy with rain",
         1728636975,
         1728680665,
         [
          307.48,
          299.92,
          307.48,
          297.95,
          297.95,
          298.48
         ],
         12.6,
         [
          [
           "light rain",
           "10d",
           500,
           "Rain"
          ]
         ],
         342,
         11.61,
         5.97
        ],
        [
         68,
         292.22,
         1728745200,
         [
          310.42,
          305.12,
          296.29,
          302.29
         ],
         39,
         0.31,
         1728752160,
         1728707580,
         0.0,
         1012,
         null,
         "Expect a day of partly cloudy with clear spells",
         1728723357,
         1728767052,
         [
          308.34,
          301.72,
          308.34,
          295.61,
          295.61,
          300.48
         ],
         12.45,
         [
          [
           "broken clouds",
           "04d",
           803,
           "Clouds"
          ]
         ],
         333,
         11.49,
         5.79
        ],
        [
         58,
         292.32,
         1728828000,
         [
          311.9,
          307.48,
          297.2,
          302.8
         ],
         38,
         0.35,
         1728841800,
         1728797160,
         0.0,
         1013,
         null,
         "There will be partly cloudy today",
         1728809740,
         1728853440,
         [
          309.3,
          305.0,
          309.3,
          296.51,
          296.51,
          300.99
         ],
         12.23,
         [
          [
           "broken clouds",
           "04d",
           803,
           "Clouds"
          ]
         ],
         346,
         11.37,
         5.07
        ],
        [
         0,
         292.7,
         1728914400,
         [
          311.07,
          304.9,
          297.35,
          301.94
         ],
         41,
         0.39,
         1728931320,
         1728886680,
         0.0,
         1012,
         null,
         "Expect a day of partly cloudy with clear spells",
         1728896123,
         1728939829,
         [
          308.36,
          301.54,
          308.36,
          296.62,
          296.62,
          300.56
         ],
         4.34,
         [
          [
           "clear sky",
           "01d",
           800,
           "Clear"
          ]
         ],
         348,
         11.83,
         6.01
        ],
        [
         26,
         293.4,
         1729000800,
         [
          310.25,
          303.69,
          297.24,
          301.96
         ],
         45,
         0.43,
         1729020780,
         1728976080,
         0.0,
         1011,
         null,
         "The day will start with clear sky through the late morning hours, transitioning to partly cloudy",
         1728982507,
         1729026218,
         [
          307.3,
          300.77,
          307.3,
          296.45,
          296.45,
          300.7
         ],
         5.0,
         [
          [
           "scattered clouds",
           "03d",
           802,
           "Clouds"
          ]
         ],
         355,
         10.0,
         5.5
        ],
        [
         5,
         293.14,
         1729087200,
         [
          311.33,
          303.13,
          296.6,
          301.37
         ],
         43,
         0.47,
         1729110360,
         1729065480,
         0.0,
         1011,
         null,
         "Expect a day of partly cloudy with clear spells",
         1729068892,
         1729112607,
         [
          308.16,
          300.61,
          308.16,
          295.8,
          295.8,
          299.99
         ],
         5.0,
         [
          [
           "clear sky",
           "01d",
           800,
           "Clear"
          ]
         ],
         350,
         10.44,
         5.47
        ]
       ],
       "datasetInfos": [],
       "dbfsResultPath": null,
       "isJsonSchema": true,
       "metadata": {},
       "overflow": false,
       "plotOptions": {
        "customPlotOptions": {},
        "displayType": "table",
        "pivotAggregation": null,
        "pivotColumns": null,
        "xColumns": null,
        "yColumns": null
       },
       "removedWidgets": [],
       "schema": [
        {
         "metadata": "{}",
         "name": "clouds",
         "type": "\"long\""
        },
        {
         "metadata": "{}",
         "name": "dew_point",
         "type": "\"double\""
        },
        {
         "metadata": "{}",
         "name": "dt",
         "type": "\"long\""
        },
        {
         "metadata": "{}",
         "name": "feels_like",
         "type": "{\"type\":\"struct\",\"fields\":[{\"name\":\"day\",\"type\":\"double\",\"nullable\":true,\"metadata\":{}},{\"name\":\"eve\",\"type\":\"double\",\"nullable\":true,\"metadata\":{}},{\"name\":\"morn\",\"type\":\"double\",\"nullable\":true,\"metadata\":{}},{\"name\":\"night\",\"type\":\"double\",\"nullable\":true,\"metadata\":{}}]}"
        },
        {
         "metadata": "{}",
         "name": "humidity",
         "type": "\"long\""
        },
        {
         "metadata": "{}",
         "name": "moon_phase",
         "type": "\"double\""
        },
        {
         "metadata": "{}",
         "name": "moonrise",
         "type": "\"long\""
        },
        {
         "metadata": "{}",
         "name": "moonset",
         "type": "\"long\""
        },
        {
         "metadata": "{}",
         "name": "pop",
         "type": "\"double\""
        },
        {
         "metadata": "{}",
         "name": "pressure",
         "type": "\"long\""
        },
        {
         "metadata": "{}",
         "name": "rain",
         "type": "\"double\""
        },
        {
         "metadata": "{}",
         "name": "summary",
         "type": "\"string\""
        },
        {
         "metadata": "{}",
         "name": "sunrise",
         "type": "\"long\""
        },
        {
         "metadata": "{}",
         "name": "sunset",
         "type": "\"long\""
        },
        {
         "metadata": "{}",
         "name": "temp",
         "type": "{\"type\":\"struct\",\"fields\":[{\"name\":\"day\",\"type\":\"double\",\"nullable\":true,\"metadata\":{}},{\"name\":\"eve\",\"type\":\"double\",\"nullable\":true,\"metadata\":{}},{\"name\":\"max\",\"type\":\"double\",\"nullable\":true,\"metadata\":{}},{\"name\":\"min\",\"type\":\"double\",\"nullable\":true,\"metadata\":{}},{\"name\":\"morn\",\"type\":\"double\",\"nullable\":true,\"metadata\":{}},{\"name\":\"night\",\"type\":\"double\",\"nullable\":true,\"metadata\":{}}]}"
        },
        {
         "metadata": "{}",
         "name": "uvi",
         "type": "\"double\""
        },
        {
         "metadata": "{}",
         "name": "weather",
         "type": "{\"type\":\"array\",\"elementType\":{\"type\":\"struct\",\"fields\":[{\"name\":\"description\",\"type\":\"string\",\"nullable\":true,\"metadata\":{}},{\"name\":\"icon\",\"type\":\"string\",\"nullable\":true,\"metadata\":{}},{\"name\":\"id\",\"type\":\"long\",\"nullable\":true,\"metadata\":{}},{\"name\":\"main\",\"type\":\"string\",\"nullable\":true,\"metadata\":{}}]},\"containsNull\":true}"
        },
        {
         "metadata": "{}",
         "name": "wind_deg",
         "type": "\"long\""
        },
        {
         "metadata": "{}",
         "name": "wind_gust",
         "type": "\"double\""
        },
        {
         "metadata": "{}",
         "name": "wind_speed",
         "type": "\"double\""
        }
       ],
       "type": "table"
      }
     },
     "output_type": "display_data"
    }
   ],
   "source": [
    "spark.sql(\"select inline(daily) from teste\").display()"
   ]
  },
  {
   "cell_type": "code",
   "execution_count": 0,
   "metadata": {
    "application/vnd.databricks.v1+cell": {
     "cellMetadata": {
      "byteLimit": 2048000,
      "rowLimit": 10000
     },
     "inputWidgets": {},
     "nuid": "34179bbd-32d5-4425-867a-6c18fd11dfd3",
     "showTitle": false,
     "title": ""
    }
   },
   "outputs": [
    {
     "output_type": "display_data",
     "data": {
      "text/html": [
       "<style scoped>\n",
       "  .table-result-container {\n",
       "    max-height: 300px;\n",
       "    overflow: auto;\n",
       "  }\n",
       "  table, th, td {\n",
       "    border: 1px solid black;\n",
       "    border-collapse: collapse;\n",
       "  }\n",
       "  th, td {\n",
       "    padding: 5px;\n",
       "  }\n",
       "  th {\n",
       "    text-align: left;\n",
       "  }\n",
       "</style><div class='table-result-container'><table class='table-result'><thead style='background-color: white'><tr><th>current</th><th>daily</th><th>hourly</th><th>lat</th><th>lon</th><th>minutely</th><th>timezone</th><th>timezone_offset</th><th>alerts</th></tr></thead><tbody><tr><td>Map(uvi -> 0, dew_point -> null, feels_like -> null, pressure -> 1017, dt -> 1728518515, wind_deg -> 160, clouds -> 100, humidity -> 93, temp -> null, wind_speed -> null, sunrise -> 1728463112, sunset -> 1728508111, weather -> null, visibility -> 5000)</td><td>List(Map(uvi -> null, dew_point -> null, feels_like -> null, pressure -> 1015, dt -> 1728482400, pop -> null, moon_phase -> null, rain -> null, wind_deg -> 157, moonset -> 0, clouds -> 17, humidity -> 40, temp -> null, wind_speed -> null, sunrise -> 1728463112, sunset -> 1728508111, weather -> null, wind_gust -> null, summary -> null, moonrise -> 1728479160), Map(uvi -> null, dew_point -> null, feels_like -> null, pressure -> 1014, dt -> 1728568800, pop -> 1, moon_phase -> null, rain -> null, wind_deg -> 47, moonset -> 1728530760, clouds -> 100, humidity -> 60, temp -> null, wind_speed -> null, sunrise -> 1728549455, sunset -> 1728594535, weather -> null, wind_gust -> null, summary -> null, moonrise -> 1728569100), Map(uvi -> null, dew_point -> null, feels_like -> null, pressure -> 1012, dt -> 1728655200, pop -> 1, moon_phase -> null, rain -> null, wind_deg -> 348, moonset -> 1728620340, clouds -> 100, humidity -> 86, temp -> null, wind_speed -> null, sunrise -> 1728635799, sunset -> 1728680960, weather -> null, wind_gust -> null, summary -> null, moonrise -> 1728659220), Map(uvi -> null, dew_point -> null, feels_like -> null, pressure -> 1014, dt -> 1728741600, pop -> null, moon_phase -> null, wind_deg -> 151, moonset -> 1728709560, clouds -> 0, humidity -> 39, temp -> null, wind_speed -> null, sunrise -> 1728722144, sunset -> 1728767385, weather -> null, wind_gust -> null, summary -> null, moonrise -> 1728749460), Map(uvi -> null, dew_point -> null, feels_like -> null, pressure -> 1021, dt -> 1728828000, pop -> 0, moon_phase -> null, wind_deg -> 140, moonset -> 1728798600, clouds -> 100, humidity -> 55, temp -> null, wind_speed -> null, sunrise -> 1728808489, sunset -> 1728853810, weather -> null, wind_gust -> null, summary -> null, moonrise -> 1728839760), Map(uvi -> null, dew_point -> null, feels_like -> null, pressure -> 1020, dt -> 1728914400, pop -> 0, moon_phase -> null, wind_deg -> 149, moonset -> 1728887400, clouds -> 89, humidity -> 52, temp -> null, wind_speed -> null, sunrise -> 1728894835, sunset -> 1728940236, weather -> null, wind_gust -> null, summary -> null, moonrise -> 1728930000), Map(uvi -> 5, dew_point -> null, feels_like -> null, pressure -> 1016, dt -> 1729000800, pop -> null, moon_phase -> null, rain -> null, wind_deg -> 150, moonset -> 1728976080, clouds -> 100, humidity -> 50, temp -> null, wind_speed -> null, sunrise -> 1728981182, sunset -> 1729026663, weather -> null, wind_gust -> null, summary -> null, moonrise -> 1729020240), Map(uvi -> 5, dew_point -> null, feels_like -> null, pressure -> 1010, dt -> 1729087200, pop -> null, moon_phase -> null, rain -> null, wind_deg -> 336, moonset -> 1729064700, clouds -> 100, humidity -> 38, temp -> null, wind_speed -> 6, sunrise -> 1729067529, sunset -> 1729113090, weather -> null, wind_gust -> null, summary -> null, moonrise -> 1729110600))</td><td>List(Map(uvi -> 0, dew_point -> null, feels_like -> null, pressure -> 1017, dt -> 1728518400, pop -> 0, wind_deg -> 124, clouds -> 100, humidity -> 93, temp -> null, wind_speed -> null, weather -> null, wind_gust -> null, visibility -> 10000), Map(uvi -> 0, dew_point -> null, feels_like -> null, pressure -> 1017, dt -> 1728522000, pop -> 0, wind_deg -> 129, clouds -> 100, humidity -> 91, temp -> null, wind_speed -> null, weather -> null, wind_gust -> null, visibility -> 10000), Map(uvi -> 0, dew_point -> null, feels_like -> null, pressure -> 1017, dt -> 1728525600, pop -> null, rain -> null, wind_deg -> 129, clouds -> 100, humidity -> 89, temp -> null, wind_speed -> null, weather -> null, wind_gust -> null, visibility -> 10000), Map(uvi -> 0, dew_point -> null, feels_like -> null, pressure -> 1016, dt -> 1728529200, pop -> 0, wind_deg -> 126, clouds -> 100, humidity -> 90, temp -> null, wind_speed -> null, weather -> null, wind_gust -> null, visibility -> 6556), Map(uvi -> 0, dew_point -> null, feels_like -> null, pressure -> 1017, dt -> 1728532800, pop -> 0, wind_deg -> 117, clouds -> 100, humidity -> 91, temp -> null, wind_speed -> null, weather -> null, wind_gust -> null), Map(uvi -> 0, dew_point -> null, feels_like -> null, pressure -> 1016, dt -> 1728536400, pop -> null, rain -> null, wind_deg -> 99, clouds -> 100, humidity -> 89, temp -> null, wind_speed -> null, weather -> null, wind_gust -> null, visibility -> 10000), Map(uvi -> 0, dew_point -> null, feels_like -> null, pressure -> 1016, dt -> 1728540000, pop -> 0, wind_deg -> 103, clouds -> 100, humidity -> 87, temp -> null, wind_speed -> null, weather -> null, wind_gust -> null, visibility -> 10000), Map(uvi -> 0, dew_point -> null, feels_like -> null, pressure -> 1016, dt -> 1728543600, pop -> 0, wind_deg -> 90, clouds -> 100, humidity -> 86, temp -> null, wind_speed -> null, weather -> null, wind_gust -> null, visibility -> 10000), Map(uvi -> 0, dew_point -> null, feels_like -> null, pressure -> 1017, dt -> 1728547200, pop -> 0, wind_deg -> 100, clouds -> 100, humidity -> 86, temp -> null, wind_speed -> null, weather -> null, wind_gust -> null, visibility -> 10000), Map(uvi -> 0, dew_point -> null, feels_like -> null, pressure -> 1017, dt -> 1728550800, pop -> 1, rain -> null, wind_deg -> 92, clouds -> 100, humidity -> 87, temp -> null, wind_speed -> null, weather -> null, wind_gust -> null, visibility -> 10000), Map(uvi -> null, dew_point -> null, feels_like -> null, pressure -> 1017, dt -> 1728554400, pop -> 1, rain -> null, wind_deg -> 69, clouds -> 100, humidity -> 88, temp -> null, wind_speed -> null, weather -> null, wind_gust -> null, visibility -> 8524), Map(uvi -> null, dew_point -> null, feels_like -> null, pressure -> 1017, dt -> 1728558000, pop -> 1, rain -> null, wind_deg -> 63, clouds -> 100, humidity -> 88, temp -> null, wind_speed -> null, weather -> null, wind_gust -> null, visibility -> 10000), Map(uvi -> null, dew_point -> null, feels_like -> null, pressure -> 1016, dt -> 1728561600, pop -> null, wind_deg -> 55, clouds -> 100, humidity -> 82, temp -> null, wind_speed -> null, weather -> null, wind_gust -> null, visibility -> 10000), Map(uvi -> null, dew_point -> null, feels_like -> null, pressure -> 1015, dt -> 1728565200, pop -> 0, wind_deg -> 47, clouds -> 100, humidity -> 73, temp -> null, wind_speed -> null, weather -> null, wind_gust -> null, visibility -> 10000), Map(uvi -> null, dew_point -> null, feels_like -> null, pressure -> 1014, dt -> 1728568800, pop -> 0, wind_deg -> 39, clouds -> 100, humidity -> 60, temp -> null, wind_speed -> null, weather -> null, wind_gust -> null, visibility -> 10000), Map(uvi -> null, dew_point -> null, feels_like -> null, pressure -> 1013, dt -> 1728572400, pop -> 0, wind_deg -> 81, clouds -> 100, humidity -> 53, temp -> null, wind_speed -> null, weather -> null, wind_gust -> null, visibility -> 10000), Map(uvi -> null, dew_point -> null, feels_like -> null, pressure -> 1012, dt -> 1728576000, pop -> 0, wind_deg -> 157, clouds -> 100, humidity -> 53, temp -> null, wind_speed -> null, weather -> null, wind_gust -> null, visibility -> 10000), Map(uvi -> null, dew_point -> null, feels_like -> null, pressure -> 1012, dt -> 1728579600, pop -> null, rain -> null, wind_deg -> 159, clouds -> 100, humidity -> 58, temp -> null, wind_speed -> null, weather -> null, wind_gust -> null, visibility -> 10000), Map(uvi -> null, dew_point -> null, feels_like -> null, pressure -> 1012, dt -> 1728583200, pop -> null, rain -> null, wind_deg -> 151, clouds -> 100, humidity -> 70, temp -> null, wind_speed -> null, weather -> null, wind_gust -> null, visibility -> 10000), Map(uvi -> null, dew_point -> null, feels_like -> null, pressure -> 1012, dt -> 1728586800, pop -> null, rain -> null, wind_deg -> 147, clouds -> 100, humidity -> 79, temp -> null, wind_speed -> null, weather -> null, wind_gust -> null, visibility -> 10000), Map(uvi -> null, dew_point -> null, feels_like -> null, pressure -> 1013, dt -> 1728590400, pop -> 1, rain -> null, wind_deg -> 154, clouds -> 100, humidity -> 84, temp -> null, wind_speed -> null, weather -> null, wind_gust -> null, visibility -> 10000), Map(uvi -> null, dew_point -> null, feels_like -> null, pressure -> 1013, dt -> 1728594000, pop -> null, rain -> null, wind_deg -> 152, clouds -> 99, humidity -> 88, temp -> null, wind_speed -> null, weather -> null, wind_gust -> null, visibility -> 2446), Map(uvi -> 0, dew_point -> null, feels_like -> null, pressure -> 1014, dt -> 1728597600, pop -> null, rain -> null, wind_deg -> 139, clouds -> 99, humidity -> 91, temp -> null, wind_speed -> null, weather -> null, wind_gust -> null), Map(uvi -> 0, dew_point -> null, feels_like -> null, pressure -> 1015, dt -> 1728601200, pop -> null, rain -> null, wind_deg -> 125, clouds -> 99, humidity -> 89, temp -> null, wind_speed -> null, weather -> null, wind_gust -> null, visibility -> 10000), Map(uvi -> 0, dew_point -> null, feels_like -> null, pressure -> 1015, dt -> 1728604800, pop -> 1, rain -> null, wind_deg -> 106, clouds -> 99, humidity -> 88, temp -> null, wind_speed -> null, weather -> null, wind_gust -> null, visibility -> 10000), Map(uvi -> 0, dew_point -> null, feels_like -> null, pressure -> 1014, dt -> 1728608400, pop -> 1, rain -> null, wind_deg -> 71, clouds -> 99, humidity -> 88, temp -> null, wind_speed -> null, weather -> null, wind_gust -> null, visibility -> 10000), Map(uvi -> 0, dew_point -> null, feels_like -> null, pressure -> 1013, dt -> 1728612000, pop -> null, rain -> null, wind_deg -> 76, clouds -> 100, humidity -> 89, temp -> null, wind_speed -> null, weather -> null, wind_gust -> null, visibility -> 10000), Map(uvi -> 0, dew_point -> null, feels_like -> null, pressure -> 1013, dt -> 1728615600, pop -> null, wind_deg -> 60, clouds -> 100, humidity -> 91, temp -> null, wind_speed -> null, weather -> null, wind_gust -> null, visibility -> 10000), Map(uvi -> 0, dew_point -> null, feels_like -> null, pressure -> 1012, dt -> 1728619200, pop -> null, wind_deg -> 34, clouds -> 100, humidity -> 91, temp -> null, wind_speed -> null, weather -> null, wind_gust -> null, visibility -> 10000), Map(uvi -> 0, dew_point -> null, feels_like -> null, pressure -> 1012, dt -> 1728622800, pop -> null, wind_deg -> 10, clouds -> 100, humidity -> 91, temp -> null, wind_speed -> null, weather -> null, wind_gust -> null, visibility -> 10000), Map(uvi -> 0, dew_point -> null, feels_like -> null, pressure -> 1012, dt -> 1728626400, pop -> null, rain -> null, wind_deg -> 289, clouds -> 100, humidity -> 91, temp -> null, wind_speed -> null, weather -> null, wind_gust -> null, visibility -> 9854), Map(uvi -> 0, dew_point -> null, feels_like -> null, pressure -> 1013, dt -> 1728630000, pop -> 1, rain -> null, wind_deg -> 327, clouds -> 100, humidity -> 94, temp -> null, wind_speed -> null, weather -> null, wind_gust -> null, visibility -> 4696), Map(uvi -> 0, dew_point -> null, feels_like -> null, pressure -> 1012, dt -> 1728633600, pop -> 1, rain -> null, wind_deg -> 4, clouds -> 100, humidity -> 94, temp -> null, wind_speed -> null, weather -> null, wind_gust -> null, visibility -> 5452), Map(uvi -> 0, dew_point -> null, feels_like -> null, pressure -> 1012, dt -> 1728637200, pop -> 1, rain -> null, wind_deg -> 9, clouds -> 100, humidity -> 93, temp -> null, wind_speed -> null, weather -> null, wind_gust -> null, visibility -> 10000), Map(uvi -> null, dew_point -> null, feels_like -> null, pressure -> 1013, dt -> 1728640800, pop -> 1, rain -> null, wind_deg -> 350, clouds -> 100, humidity -> 94, temp -> null, wind_speed -> null, weather -> null, wind_gust -> null, visibility -> 8273), Map(uvi -> null, dew_point -> null, feels_like -> null, pressure -> 1014, dt -> 1728644400, pop -> 1, rain -> null, wind_deg -> 347, clouds -> 100, humidity -> 93, temp -> null, wind_speed -> null, weather -> null, wind_gust -> null, visibility -> 10000), Map(uvi -> null, dew_point -> null, feels_like -> null, pressure -> 1013, dt -> 1728648000, pop -> 1, rain -> null, wind_deg -> 356, clouds -> 100, humidity -> 90, temp -> null, wind_speed -> null, weather -> null, wind_gust -> null, visibility -> 10000), Map(uvi -> null, dew_point -> null, feels_like -> null, pressure -> 1012, dt -> 1728651600, pop -> null, wind_deg -> 358, clouds -> 100, humidity -> 85, temp -> null, wind_speed -> null, weather -> null, wind_gust -> null, visibility -> 10000), Map(uvi -> null, dew_point -> null, feels_like -> null, pressure -> 1012, dt -> 1728655200, pop -> null, rain -> null, wind_deg -> 357, clouds -> 100, humidity -> 86, temp -> null, wind_speed -> null, weather -> null, wind_gust -> null, visibility -> 10000), Map(uvi -> null, dew_point -> null, feels_like -> null, pressure -> 1010, dt -> 1728658800, pop -> null, wind_deg -> 9, clouds -> 100, humidity -> 73, temp -> null, wind_speed -> null, weather -> null, wind_gust -> null, visibility -> 10000), Map(uvi -> null, dew_point -> null, feels_like -> null, pressure -> 1008, dt -> 1728662400, pop -> 0, wind_deg -> 348, clouds -> 94, humidity -> 56, temp -> null, wind_speed -> null, weather -> null, wind_gust -> null, visibility -> 10000), Map(uvi -> null, dew_point -> null, feels_like -> null, pressure -> 1007, dt -> 1728666000, pop -> 0, wind_deg -> 345, clouds -> 93, humidity -> 51, temp -> null, wind_speed -> null, weather -> null, wind_gust -> null, visibility -> 10000), Map(uvi -> null, dew_point -> null, feels_like -> null, pressure -> 1005, dt -> 1728669600, pop -> 0, wind_deg -> 330, clouds -> 89, humidity -> 46, temp -> null, wind_speed -> null, weather -> null, wind_gust -> null, visibility -> 10000), Map(uvi -> null, dew_point -> null, feels_like -> null, pressure -> 1003, dt -> 1728673200, pop -> null, wind_deg -> 332, clouds -> 89, humidity -> 47, temp -> null, wind_speed -> null, weather -> null, wind_gust -> null, visibility -> 10000), Map(uvi -> null, dew_point -> null, feels_like -> null, pressure -> 1005, dt -> 1728676800, pop -> 1, rain -> null, wind_deg -> 307, clouds -> 78, humidity -> 77, temp -> null, wind_speed -> null, weather -> null, wind_gust -> null, visibility -> 10000), Map(uvi -> null, dew_point -> null, feels_like -> null, pressure -> 1008, dt -> 1728680400, pop -> 1, rain -> null, wind_deg -> 258, clouds -> 85, humidity -> 78, temp -> null, wind_speed -> null, weather -> null, wind_gust -> null, visibility -> 8210), Map(uvi -> 0, dew_point -> null, feels_like -> null, pressure -> 1008, dt -> 1728684000, pop -> 1, rain -> null, wind_deg -> 344, clouds -> 89, humidity -> 81, temp -> null, wind_speed -> null, weather -> null, wind_gust -> 14, visibility -> 10000), Map(uvi -> 0, dew_point -> null, feels_like -> null, pressure -> 1008, dt -> 1728687600, pop -> null, wind_deg -> 352, clouds -> 91, humidity -> 82, temp -> null, wind_speed -> null, weather -> null, wind_gust -> null, visibility -> 10000))</td><td>-23.5507</td><td>-46.6334</td><td>List(Map(dt -> 1728518520, precipitation -> 0), Map(dt -> 1728518580, precipitation -> 0), Map(dt -> 1728518640, precipitation -> 0), Map(dt -> 1728518700, precipitation -> 0), Map(dt -> 1728518760, precipitation -> 0), Map(dt -> 1728518820, precipitation -> 0), Map(dt -> 1728518880, precipitation -> 0), Map(dt -> 1728518940, precipitation -> 0), Map(dt -> 1728519000, precipitation -> 0), Map(dt -> 1728519060, precipitation -> 0), Map(dt -> 1728519120, precipitation -> 0), Map(dt -> 1728519180, precipitation -> 0), Map(dt -> 1728519240, precipitation -> 0), Map(dt -> 1728519300, precipitation -> 0), Map(dt -> 1728519360, precipitation -> 0), Map(dt -> 1728519420, precipitation -> 0), Map(dt -> 1728519480, precipitation -> 0), Map(dt -> 1728519540, precipitation -> 0), Map(dt -> 1728519600, precipitation -> 0), Map(dt -> 1728519660, precipitation -> 0), Map(dt -> 1728519720, precipitation -> 0), Map(dt -> 1728519780, precipitation -> 0), Map(dt -> 1728519840, precipitation -> 0), Map(dt -> 1728519900, precipitation -> 0), Map(dt -> 1728519960, precipitation -> 0), Map(dt -> 1728520020, precipitation -> 0), Map(dt -> 1728520080, precipitation -> 0), Map(dt -> 1728520140, precipitation -> 0), Map(dt -> 1728520200, precipitation -> 0), Map(dt -> 1728520260, precipitation -> 0), Map(dt -> 1728520320, precipitation -> 0), Map(dt -> 1728520380, precipitation -> 0), Map(dt -> 1728520440, precipitation -> 0), Map(dt -> 1728520500, precipitation -> 0), Map(dt -> 1728520560, precipitation -> 0), Map(dt -> 1728520620, precipitation -> 0), Map(dt -> 1728520680, precipitation -> 0), Map(dt -> 1728520740, precipitation -> 0), Map(dt -> 1728520800, precipitation -> 0), Map(dt -> 1728520860, precipitation -> 0), Map(dt -> 1728520920, precipitation -> 0), Map(dt -> 1728520980, precipitation -> 0), Map(dt -> 1728521040, precipitation -> 0), Map(dt -> 1728521100, precipitation -> 0), Map(dt -> 1728521160, precipitation -> 0), Map(dt -> 1728521220, precipitation -> 0), Map(dt -> 1728521280, precipitation -> 0), Map(dt -> 1728521340, precipitation -> 0), Map(dt -> 1728521400, precipitation -> 0), Map(dt -> 1728521460, precipitation -> 0), Map(dt -> 1728521520, precipitation -> 0), Map(dt -> 1728521580, precipitation -> 0), Map(dt -> 1728521640, precipitation -> 0), Map(dt -> 1728521700, precipitation -> 0), Map(dt -> 1728521760, precipitation -> 0), Map(dt -> 1728521820, precipitation -> 0), Map(dt -> 1728521880, precipitation -> 0), Map(dt -> 1728521940, precipitation -> 0), Map(dt -> 1728522000, precipitation -> 0), Map(dt -> 1728522060, precipitation -> 0))</td><td>America/Sao_Paulo</td><td>-10800</td><td>null</td></tr><tr><td>Map(uvi -> 0, dew_point -> null, feels_like -> null, pressure -> 1014, dt -> 1728518515, rain -> null, wind_deg -> 114, clouds -> 100, humidity -> 69, temp -> null, wind_speed -> null, sunrise -> 1728463907, sunset -> 1728508868, weather -> null, wind_gust -> null, visibility -> 10000)</td><td>List(Map(uvi -> null, dew_point -> null, feels_like -> null, pressure -> 1010, dt -> 1728486000, pop -> null, moon_phase -> null, rain -> null, wind_deg -> 114, moonset -> 0, clouds -> 75, humidity -> 17, temp -> null, wind_speed -> null, sunrise -> 1728463907, sunset -> 1728508868, weather -> null, wind_gust -> null, summary -> null, moonrise -> 1728480000), Map(uvi -> null, dew_point -> null, feels_like -> null, pressure -> 1012, dt -> 1728572400, pop -> 1, moon_phase -> null, rain -> null, wind_deg -> 161, moonset -> 1728531480, clouds -> 94, humidity -> 48, temp -> null, wind_speed -> null, sunrise -> 1728550252, sunset -> 1728595291, weather -> null, wind_gust -> null, summary -> null, moonrise -> 1728570000), Map(uvi -> null, dew_point -> null, feels_like -> null, pressure -> 1008, dt -> 1728658800, pop -> 1, moon_phase -> null, rain -> null, wind_deg -> 335, moonset -> 1728621060, clouds -> 100, humidity -> 55, temp -> null, wind_speed -> null, sunrise -> 1728636597, sunset -> 1728681715, weather -> null, wind_gust -> null, summary -> null, moonrise -> 1728660120), Map(uvi -> null, dew_point -> null, feels_like -> null, pressure -> 1013, dt -> 1728745200, pop -> 0, moon_phase -> null, wind_deg -> 290, moonset -> 1728710280, clouds -> 23, humidity -> 33, temp -> null, wind_speed -> null, sunrise -> 1728722942, sunset -> 1728768139, weather -> null, wind_gust -> null, summary -> null, moonrise -> 1728750360), Map(uvi -> null, dew_point -> null, feels_like -> null, pressure -> 1018, dt -> 1728831600, pop -> 0, moon_phase -> null, wind_deg -> 119, moonset -> 1728799320, clouds -> 76, humidity -> 35, temp -> null, wind_speed -> null, sunrise -> 1728809289, sunset -> 1728854563, weather -> null, wind_gust -> null, summary -> null, moonrise -> 1728840600), Map(uvi -> null, dew_point -> null, feels_like -> null, pressure -> 1018, dt -> 1728918000, pop -> 0, moon_phase -> null, wind_deg -> 124, moonset -> 1728888180, clouds -> 95, humidity -> 43, temp -> null, wind_speed -> null, sunrise -> 1728895636, sunset -> 1728940988, weather -> null, wind_gust -> null, summary -> null, moonrise -> 1728930840), Map(uvi -> 4, dew_point -> null, feels_like -> null, pressure -> 1013, dt -> 1729004400, pop -> null, moon_phase -> null, rain -> null, wind_deg -> 99, moonset -> 1728976860, clouds -> 100, humidity -> 40, temp -> null, wind_speed -> null, sunrise -> 1728981984, sunset -> 1729027413, weather -> null, wind_gust -> null, summary -> null, moonrise -> 1729021080), Map(uvi -> 4, dew_point -> null, feels_like -> null, pressure -> 1009, dt -> 1729090800, pop -> null, moon_phase -> null, rain -> null, wind_deg -> 282, moonset -> 1729065540, clouds -> 61, humidity -> 35, temp -> null, wind_speed -> null, sunrise -> 1729068332, sunset -> 1729113839, weather -> null, wind_gust -> null, summary -> null, moonrise -> 1729111380))</td><td>List(Map(uvi -> 0, dew_point -> null, feels_like -> null, pressure -> 1014, dt -> 1728518400, pop -> null, rain -> null, wind_deg -> 114, clouds -> 100, humidity -> 69, temp -> null, wind_speed -> null, weather -> null, wind_gust -> null, visibility -> 10000), Map(uvi -> 0, dew_point -> null, feels_like -> null, pressure -> 1014, dt -> 1728522000, pop -> null, wind_deg -> 121, clouds -> 100, humidity -> 71, temp -> null, wind_speed -> null, weather -> null, wind_gust -> null, visibility -> 10000), Map(uvi -> 0, dew_point -> null, feels_like -> null, pressure -> 1015, dt -> 1728525600, pop -> null, wind_deg -> 130, clouds -> 100, humidity -> 74, temp -> null, wind_speed -> null, weather -> null, wind_gust -> null, visibility -> 10000), Map(uvi -> 0, dew_point -> null, feels_like -> null, pressure -> 1015, dt -> 1728529200, pop -> null, wind_deg -> 140, clouds -> 100, humidity -> 77, temp -> null, wind_speed -> null, weather -> null, wind_gust -> null, visibility -> 10000), Map(uvi -> 0, dew_point -> null, feels_like -> null, pressure -> 1016, dt -> 1728532800, pop -> null, wind_deg -> 138, clouds -> 100, humidity -> 80, temp -> null, wind_speed -> null, weather -> null, wind_gust -> null, visibility -> 10000), Map(uvi -> 0, dew_point -> null, feels_like -> null, pressure -> 1016, dt -> 1728536400, pop -> null, rain -> null, wind_deg -> 93, clouds -> 100, humidity -> 87, temp -> null, wind_speed -> null, weather -> null, wind_gust -> null, visibility -> 10000), Map(uvi -> 0, dew_point -> null, feels_like -> null, pressure -> 1013, dt -> 1728540000, pop -> null, rain -> null, wind_deg -> 113, clouds -> 100, humidity -> 89, temp -> null, wind_speed -> null, weather -> null, wind_gust -> null, visibility -> 10000), Map(uvi -> 0, dew_point -> null, feels_like -> null, pressure -> 1013, dt -> 1728543600, pop -> null, rain -> null, wind_deg -> 107, clouds -> 100, humidity -> 88, temp -> null, wind_speed -> null, weather -> null, wind_gust -> null, visibility -> 10000), Map(uvi -> 0, dew_point -> null, feels_like -> null, pressure -> 1013, dt -> 1728547200, pop -> 0, wind_deg -> 100, clouds -> 100, humidity -> 89, temp -> null, wind_speed -> null, weather -> null, wind_gust -> null, visibility -> 10000), Map(uvi -> 0, dew_point -> null, feels_like -> null, pressure -> 1013, dt -> 1728550800, pop -> 0, wind_deg -> 94, clouds -> 100, humidity -> 89, temp -> null, wind_speed -> null, weather -> null, wind_gust -> null, visibility -> 10000), Map(uvi -> null, dew_point -> null, feels_like -> null, pressure -> 1013, dt -> 1728554400, pop -> 0, wind_deg -> 86, clouds -> 100, humidity -> 86, temp -> null, wind_speed -> null, weather -> null, wind_gust -> null, visibility -> 10000), Map(uvi -> null, dew_point -> null, feels_like -> null, pressure -> 1014, dt -> 1728558000, pop -> 0, wind_deg -> 76, clouds -> 100, humidity -> 76, temp -> null, wind_speed -> null, weather -> null, wind_gust -> null, visibility -> 10000), Map(uvi -> null, dew_point -> null, feels_like -> null, pressure -> 1014, dt -> 1728561600, pop -> 0, wind_deg -> 70, clouds -> 100, humidity -> 63, temp -> null, wind_speed -> null, weather -> null, wind_gust -> null, visibility -> 10000), Map(uvi -> null, dew_point -> null, feels_like -> null, pressure -> 1013, dt -> 1728565200, pop -> 0, wind_deg -> 59, clouds -> 99, humidity -> 49, temp -> null, wind_speed -> null, weather -> null, wind_gust -> null, visibility -> 10000), Map(uvi -> null, dew_point -> null, feels_like -> null, pressure -> 1012, dt -> 1728568800, pop -> 0, wind_deg -> 30, clouds -> 90, humidity -> 42, temp -> null, wind_speed -> null, weather -> null, wind_gust -> null, visibility -> 10000), Map(uvi -> null, dew_point -> null, feels_like -> null, pressure -> 1012, dt -> 1728572400, pop -> 0, wind_deg -> 3, clouds -> 94, humidity -> 48, temp -> null, wind_speed -> null, weather -> null, wind_gust -> null, visibility -> 10000), Map(uvi -> null, dew_point -> null, feels_like -> null, pressure -> 1011, dt -> 1728576000, pop -> 0, wind_deg -> 192, clouds -> 91, humidity -> 39, temp -> null, wind_speed -> null, weather -> null, wind_gust -> null, visibility -> 10000), Map(uvi -> null, dew_point -> null, feels_like -> null, pressure -> 1010, dt -> 1728579600, pop -> 0, wind_deg -> 190, clouds -> 92, humidity -> 38, temp -> null, wind_speed -> null, weather -> null, wind_gust -> null, visibility -> 10000), Map(uvi -> null, dew_point -> null, feels_like -> null, pressure -> 1009, dt -> 1728583200, pop -> null, rain -> null, wind_deg -> 185, clouds -> 92, humidity -> 39, temp -> null, wind_speed -> null, weather -> null, wind_gust -> null, visibility -> 10000), Map(uvi -> null, dew_point -> null, feels_like -> null, pressure -> 1008, dt -> 1728586800, pop -> null, wind_deg -> 173, clouds -> 94, humidity -> 45, temp -> null, wind_speed -> null, weather -> null, wind_gust -> null, visibility -> 10000), Map(uvi -> null, dew_point -> null, feels_like -> null, pressure -> 1008, dt -> 1728590400, pop -> null, wind_deg -> 175, clouds -> 97, humidity -> 53, temp -> null, wind_speed -> null, weather -> null, wind_gust -> null, visibility -> 10000), Map(uvi -> null, dew_point -> null, feels_like -> null, pressure -> 1009, dt -> 1728594000, pop -> null, wind_deg -> 161, clouds -> 77, humidity -> 57, temp -> null, wind_speed -> null, weather -> null, wind_gust -> null, visibility -> 10000), Map(uvi -> 0, dew_point -> null, feels_like -> null, pressure -> 1010, dt -> 1728597600, pop -> null, rain -> null, wind_deg -> 144, clouds -> 83, humidity -> 70, temp -> null, wind_speed -> null, weather -> null, wind_gust -> null, visibility -> 10000), Map(uvi -> 0, dew_point -> null, feels_like -> null, pressure -> 1011, dt -> 1728601200, pop -> 1, rain -> null, wind_deg -> 131, clouds -> 70, humidity -> 76, temp -> null, wind_speed -> null, weather -> null, wind_gust -> null, visibility -> 10000), Map(uvi -> 0, dew_point -> null, feels_like -> null, pressure -> 1011, dt -> 1728604800, pop -> 1, rain -> null, wind_deg -> 119, clouds -> 75, humidity -> 82, temp -> null, wind_speed -> null, weather -> null, wind_gust -> null, visibility -> 10000), Map(uvi -> 0, dew_point -> null, feels_like -> null, pressure -> 1012, dt -> 1728608400, pop -> 1, rain -> null, wind_deg -> 155, clouds -> 100, humidity -> 89, temp -> null, wind_speed -> null, weather -> null, wind_gust -> null, visibility -> 10000), Map(uvi -> 0, dew_point -> null, feels_like -> null, pressure -> 1012, dt -> 1728612000, pop -> 1, rain -> null, wind_deg -> 121, clouds -> 100, humidity -> 92, temp -> null, wind_speed -> null, weather -> null, wind_gust -> null, visibility -> 10000), Map(uvi -> 0, dew_point -> null, feels_like -> null, pressure -> 1012, dt -> 1728615600, pop -> 1, rain -> null, wind_deg -> 112, clouds -> 100, humidity -> 95, temp -> null, wind_speed -> null, weather -> null, wind_gust -> null, visibility -> 3478), Map(uvi -> 0, dew_point -> null, feels_like -> null, pressure -> 1012, dt -> 1728619200, pop -> 1, rain -> null, wind_deg -> 88, clouds -> 100, humidity -> 96, temp -> null, wind_speed -> null, weather -> null, wind_gust -> null, visibility -> 10000), Map(uvi -> 0, dew_point -> null, feels_like -> null, pressure -> 1012, dt -> 1728622800, pop -> 1, rain -> null, wind_deg -> 141, clouds -> 100, humidity -> 95, temp -> null, wind_speed -> null, weather -> null, wind_gust -> null, visibility -> 10000), Map(uvi -> 0, dew_point -> null, feels_like -> null, pressure -> 1010, dt -> 1728626400, pop -> 1, rain -> null, wind_deg -> 124, clouds -> 100, humidity -> 95, temp -> null, wind_speed -> null, weather -> null, wind_gust -> null, visibility -> 10000), Map(uvi -> 0, dew_point -> null, feels_like -> null, pressure -> 1010, dt -> 1728630000, pop -> 1, rain -> null, wind_deg -> 131, clouds -> 100, humidity -> 95, temp -> null, wind_speed -> null, weather -> null, wind_gust -> null, visibility -> 10000), Map(uvi -> 0, dew_point -> null, feels_like -> null, pressure -> 1010, dt -> 1728633600, pop -> 1, rain -> null, wind_deg -> 85, clouds -> 100, humidity -> 94, temp -> null, wind_speed -> null, weather -> null, wind_gust -> null, visibility -> 10000), Map(uvi -> 0, dew_point -> null, feels_like -> null, pressure -> 1010, dt -> 1728637200, pop -> 1, rain -> null, wind_deg -> 74, clouds -> 100, humidity -> 95, temp -> null, wind_speed -> null, weather -> null, wind_gust -> null, visibility -> 10000), Map(uvi -> null, dew_point -> null, feels_like -> null, pressure -> 1010, dt -> 1728640800, pop -> 1, rain -> null, wind_deg -> 65, clouds -> 100, humidity -> 94, temp -> null, wind_speed -> null, weather -> null, wind_gust -> null, visibility -> 10000), Map(uvi -> null, dew_point -> null, feels_like -> null, pressure -> 1011, dt -> 1728644400, pop -> 1, rain -> null, wind_deg -> 44, clouds -> 100, humidity -> 86, temp -> null, wind_speed -> null, weather -> null, wind_gust -> null, visibility -> 10000), Map(uvi -> null, dew_point -> null, feels_like -> null, pressure -> 1010, dt -> 1728648000, pop -> null, wind_deg -> 45, clouds -> 100, humidity -> 83, temp -> null, wind_speed -> 4, weather -> null, wind_gust -> null, visibility -> 10000), Map(uvi -> null, dew_point -> null, feels_like -> null, pressure -> 1009, dt -> 1728651600, pop -> 0, wind_deg -> 27, clouds -> 100, humidity -> 65, temp -> null, wind_speed -> null, weather -> null, wind_gust -> null, visibility -> 10000), Map(uvi -> null, dew_point -> null, feels_like -> null, pressure -> 1009, dt -> 1728655200, pop -> 0, wind_deg -> 18, clouds -> 100, humidity -> 68, temp -> null, wind_speed -> null, weather -> null, wind_gust -> null, visibility -> 10000), Map(uvi -> null, dew_point -> null, feels_like -> null, pressure -> 1008, dt -> 1728658800, pop -> 0, wind_deg -> 357, clouds -> 100, humidity -> 55, temp -> null, wind_speed -> null, weather -> null, wind_gust -> null, visibility -> 10000), Map(uvi -> null, dew_point -> null, feels_like -> null, pressure -> 1007, dt -> 1728662400, pop -> null, rain -> null, wind_deg -> 335, clouds -> 99, humidity -> 60, temp -> 301, wind_speed -> null, weather -> null, wind_gust -> 11, visibility -> 10000), Map(uvi -> null, dew_point -> null, feels_like -> null, pressure -> 1006, dt -> 1728666000, pop -> 1, rain -> null, wind_deg -> 283, clouds -> 99, humidity -> 93, temp -> null, wind_speed -> null, weather -> null, wind_gust -> null, visibility -> 2526), Map(uvi -> null, dew_point -> null, feels_like -> null, pressure -> 1007, dt -> 1728669600, pop -> 1, rain -> null, wind_deg -> 266, clouds -> 100, humidity -> 94, temp -> null, wind_speed -> null, weather -> null, wind_gust -> null, visibility -> 10000), Map(uvi -> null, dew_point -> null, feels_like -> null, pressure -> 1006, dt -> 1728673200, pop -> null, wind_deg -> 280, clouds -> 100, humidity -> 94, temp -> null, wind_speed -> null, weather -> null, wind_gust -> null, visibility -> 10000), Map(uvi -> null, dew_point -> null, feels_like -> null, pressure -> 1007, dt -> 1728676800, pop -> null, wind_deg -> 286, clouds -> 100, humidity -> 93, temp -> null, wind_speed -> null, weather -> null, wind_gust -> null, visibility -> 10000), Map(uvi -> null, dew_point -> null, feels_like -> null, pressure -> 1006, dt -> 1728680400, pop -> null, wind_deg -> 266, clouds -> 100, humidity -> 89, temp -> null, wind_speed -> null, weather -> null, wind_gust -> null, visibility -> 10000), Map(uvi -> 0, dew_point -> null, feels_like -> null, pressure -> 1008, dt -> 1728684000, pop -> 0, wind_deg -> 279, clouds -> 78, humidity -> 90, temp -> null, wind_speed -> null, weather -> null, wind_gust -> null, visibility -> 10000), Map(uvi -> 0, dew_point -> null, feels_like -> null, pressure -> 1010, dt -> 1728687600, pop -> null, rain -> null, wind_deg -> 262, clouds -> 81, humidity -> 91, temp -> null, wind_speed -> null, weather -> null, wind_gust -> null, visibility -> 10000))</td><td>-22.9778</td><td>-49.8682</td><td>List(Map(dt -> 1728518520, precipitation -> null), Map(dt -> 1728518580, precipitation -> null), Map(dt -> 1728518640, precipitation -> null), Map(dt -> 1728518700, precipitation -> null), Map(dt -> 1728518760, precipitation -> null), Map(dt -> 1728518820, precipitation -> null), Map(dt -> 1728518880, precipitation -> null), Map(dt -> 1728518940, precipitation -> null), Map(dt -> 1728519000, precipitation -> null), Map(dt -> 1728519060, precipitation -> null), Map(dt -> 1728519120, precipitation -> null), Map(dt -> 1728519180, precipitation -> null), Map(dt -> 1728519240, precipitation -> null), Map(dt -> 1728519300, precipitation -> null), Map(dt -> 1728519360, precipitation -> null), Map(dt -> 1728519420, precipitation -> null), Map(dt -> 1728519480, precipitation -> null), Map(dt -> 1728519540, precipitation -> null), Map(dt -> 1728519600, precipitation -> null), Map(dt -> 1728519660, precipitation -> null), Map(dt -> 1728519720, precipitation -> null), Map(dt -> 1728519780, precipitation -> null), Map(dt -> 1728519840, precipitation -> null), Map(dt -> 1728519900, precipitation -> null), Map(dt -> 1728519960, precipitation -> null), Map(dt -> 1728520020, precipitation -> null), Map(dt -> 1728520080, precipitation -> null), Map(dt -> 1728520140, precipitation -> null), Map(dt -> 1728520200, precipitation -> null), Map(dt -> 1728520260, precipitation -> null), Map(dt -> 1728520320, precipitation -> null), Map(dt -> 1728520380, precipitation -> null), Map(dt -> 1728520440, precipitation -> null), Map(dt -> 1728520500, precipitation -> null), Map(dt -> 1728520560, precipitation -> null), Map(dt -> 1728520620, precipitation -> null), Map(dt -> 1728520680, precipitation -> null), Map(dt -> 1728520740, precipitation -> null), Map(dt -> 1728520800, precipitation -> null), Map(dt -> 1728520860, precipitation -> null), Map(dt -> 1728520920, precipitation -> null), Map(dt -> 1728520980, precipitation -> null), Map(dt -> 1728521040, precipitation -> null), Map(dt -> 1728521100, precipitation -> null), Map(dt -> 1728521160, precipitation -> null), Map(dt -> 1728521220, precipitation -> null), Map(dt -> 1728521280, precipitation -> 0), Map(dt -> 1728521340, precipitation -> 0), Map(dt -> 1728521400, precipitation -> 0), Map(dt -> 1728521460, precipitation -> 0), Map(dt -> 1728521520, precipitation -> 0), Map(dt -> 1728521580, precipitation -> 0), Map(dt -> 1728521640, precipitation -> 0), Map(dt -> 1728521700, precipitation -> 0), Map(dt -> 1728521760, precipitation -> 0), Map(dt -> 1728521820, precipitation -> 0), Map(dt -> 1728521880, precipitation -> 0), Map(dt -> 1728521940, precipitation -> 0), Map(dt -> 1728522000, precipitation -> 0), Map(dt -> 1728522060, precipitation -> 0))</td><td>America/Sao_Paulo</td><td>-10800</td><td>List(Map(event -> Tempestade, description -> INMET publica aviso iniciando em: 09/10/2024 09:50. Chuva entre 20 e 30 mm/h ou até 50 mm/dia, ventos intensos (40-60 km/h), e queda de granizo. Baixo risco de corte de energia elétrica, estragos em plantações, queda de galhos de árvores e de alagamentos., tags -> [Wind], sender_name -> Instituto Nacional de Meteorologia, end -> 1728565200, start -> 1728478200))</td></tr><tr><td>Map(uvi -> 0, dew_point -> null, feels_like -> null, pressure -> 1012, dt -> 1728518515, wind_deg -> 30, clouds -> 0, humidity -> 65, temp -> null, wind_speed -> null, sunrise -> 1728464212, sunset -> 1728507892, weather -> null, visibility -> 10000)</td><td>List(Map(uvi -> null, dew_point -> null, feels_like -> null, pressure -> 1012, dt -> 1728486000, pop -> 0, moon_phase -> null, wind_deg -> 344, moonset -> 1728528060, clouds -> 73, humidity -> 40, temp -> null, wind_speed -> null, sunrise -> 1728464212, sunset -> 1728507892, weather -> null, wind_gust -> null, summary -> null, moonrise -> 1728482820), Map(uvi -> null, dew_point -> null, feels_like -> null, pressure -> 1011, dt -> 1728572400, pop -> 0, moon_phase -> null, wind_deg -> 355, moonset -> 0, clouds -> 59, humidity -> 51, temp -> null, wind_speed -> null, sunrise -> 1728550593, sunset -> 1728594278, weather -> null, wind_gust -> null, summary -> null, moonrise -> 1728572640), Map(uvi -> null, dew_point -> null, feels_like -> null, pressure -> 1010, dt -> 1728658800, pop -> null, moon_phase -> null, rain -> null, wind_deg -> 342, moonset -> 1728617820, clouds -> 63, humidity -> 46, temp -> null, wind_speed -> null, sunrise -> 1728636975, sunset -> 1728680665, weather -> null, wind_gust -> null, summary -> null, moonrise -> 1728662460), Map(uvi -> null, dew_point -> null, feels_like -> null, pressure -> 1012, dt -> 1728745200, pop -> 0, moon_phase -> null, wind_deg -> 333, moonset -> 1728707580, clouds -> 68, humidity -> 39, temp -> null, wind_speed -> null, sunrise -> 1728723357, sunset -> 1728767052, weather -> null, wind_gust -> null, summary -> null, moonrise -> 1728752160), Map(uvi -> null, dew_point -> null, feels_like -> null, pressure -> 1013, dt -> 1728828000, pop -> 0, moon_phase -> null, wind_deg -> 346, moonset -> 1728797160, clouds -> 58, humidity -> 38, temp -> null, wind_speed -> null, sunrise -> 1728809740, sunset -> 1728853440, weather -> null, wind_gust -> null, summary -> null, moonrise -> 1728841800), Map(uvi -> null, dew_point -> null, feels_like -> null, pressure -> 1012, dt -> 1728914400, pop -> 0, moon_phase -> null, wind_deg -> 348, moonset -> 1728886680, clouds -> 0, humidity -> 41, temp -> null, wind_speed -> null, sunrise -> 1728896123, sunset -> 1728939829, weather -> null, wind_gust -> null, summary -> null, moonrise -> 1728931320), Map(uvi -> 5, dew_point -> null, feels_like -> null, pressure -> 1011, dt -> 1729000800, pop -> 0, moon_phase -> null, wind_deg -> 355, moonset -> 1728976080, clouds -> 26, humidity -> 45, temp -> null, wind_speed -> null, sunrise -> 1728982507, sunset -> 1729026218, weather -> null, wind_gust -> 10, summary -> null, moonrise -> 1729020780), Map(uvi -> 5, dew_point -> null, feels_like -> null, pressure -> 1011, dt -> 1729087200, pop -> 0, moon_phase -> null, wind_deg -> 350, moonset -> 1729065480, clouds -> 5, humidity -> 43, temp -> null, wind_speed -> null, sunrise -> 1729068892, sunset -> 1729112607, weather -> null, wind_gust -> null, summary -> null, moonrise -> 1729110360))</td><td>List(Map(uvi -> 0, dew_point -> null, feels_like -> null, pressure -> 1012, dt -> 1728518400, pop -> 0, wind_deg -> 31, clouds -> 0, humidity -> 65, temp -> null, wind_speed -> null, weather -> null, wind_gust -> null, visibility -> 10000), Map(uvi -> 0, dew_point -> null, feels_like -> null, pressure -> 1012, dt -> 1728522000, pop -> 0, wind_deg -> 39, clouds -> 20, humidity -> 68, temp -> null, wind_speed -> null, weather -> null, wind_gust -> null, visibility -> 10000), Map(uvi -> 0, dew_point -> null, feels_like -> null, pressure -> 1012, dt -> 1728525600, pop -> 0, wind_deg -> 45, clouds -> 30, humidity -> 73, temp -> null, wind_speed -> null, weather -> null, wind_gust -> null, visibility -> 10000), Map(uvi -> 0, dew_point -> null, feels_like -> null, pressure -> 1012, dt -> 1728529200, pop -> 0, wind_deg -> 46, clouds -> 33, humidity -> 79, temp -> null, wind_speed -> null, weather -> null, wind_gust -> null, visibility -> 10000), Map(uvi -> 0, dew_point -> null, feels_like -> null, pressure -> 1012, dt -> 1728532800, pop -> 0, wind_deg -> 48, clouds -> 35, humidity -> 85, temp -> null, wind_speed -> null, weather -> null, wind_gust -> null, visibility -> 10000), Map(uvi -> 0, dew_point -> null, feels_like -> null, pressure -> 1011, dt -> 1728536400, pop -> 0, wind_deg -> 55, clouds -> 38, humidity -> 92, temp -> null, wind_speed -> null, weather -> null, wind_gust -> null, visibility -> 10000), Map(uvi -> 0, dew_point -> null, feels_like -> null, pressure -> 1010, dt -> 1728540000, pop -> 0, wind_deg -> 56, clouds -> 34, humidity -> 95, temp -> null, wind_speed -> null, weather -> null, wind_gust -> null, visibility -> 10000), Map(uvi -> 0, dew_point -> null, feels_like -> null, pressure -> 1010, dt -> 1728543600, pop -> 0, wind_deg -> 46, clouds -> 22, humidity -> 96, temp -> null, wind_speed -> null, weather -> null, wind_gust -> null, visibility -> 10000), Map(uvi -> 0, dew_point -> null, feels_like -> null, pressure -> 1010, dt -> 1728547200, pop -> 0, wind_deg -> 53, clouds -> 22, humidity -> 95, temp -> null, wind_speed -> null, weather -> null, wind_gust -> null, visibility -> 10000), Map(uvi -> 0, dew_point -> null, feels_like -> null, pressure -> 1010, dt -> 1728550800, pop -> 0, wind_deg -> 58, clouds -> 22, humidity -> 95, temp -> null, wind_speed -> null, weather -> null, wind_gust -> null, visibility -> 10000), Map(uvi -> null, dew_point -> 296, feels_like -> null, pressure -> 1011, dt -> 1728554400, pop -> 0, wind_deg -> 54, clouds -> 22, humidity -> 87, temp -> null, wind_speed -> null, weather -> null, wind_gust -> null, visibility -> 10000), Map(uvi -> null, dew_point -> null, feels_like -> null, pressure -> 1012, dt -> 1728558000, pop -> 0, wind_deg -> 44, clouds -> 22, humidity -> 74, temp -> null, wind_speed -> null, weather -> null, wind_gust -> null, visibility -> 10000), Map(uvi -> null, dew_point -> null, feels_like -> null, pressure -> 1012, dt -> 1728561600, pop -> 0, wind_deg -> 32, clouds -> 25, humidity -> 61, temp -> null, wind_speed -> null, weather -> null, wind_gust -> null, visibility -> 10000), Map(uvi -> null, dew_point -> null, feels_like -> null, pressure -> 1012, dt -> 1728565200, pop -> 0, wind_deg -> 1, clouds -> 36, humidity -> 51, temp -> null, wind_speed -> null, weather -> null, wind_gust -> null, visibility -> 10000), Map(uvi -> null, dew_point -> null, feels_like -> null, pressure -> 1012, dt -> 1728568800, pop -> 0, wind_deg -> 340, clouds -> 44, humidity -> 49, temp -> null, wind_speed -> null, weather -> null, wind_gust -> null, visibility -> 10000), Map(uvi -> null, dew_point -> null, feels_like -> null, pressure -> 1011, dt -> 1728572400, pop -> 0, wind_deg -> 337, clouds -> 59, humidity -> 51, temp -> null, wind_speed -> null, weather -> null, wind_gust -> null, visibility -> 10000), Map(uvi -> null, dew_point -> null, feels_like -> null, pressure -> 1010, dt -> 1728576000, pop -> 0, wind_deg -> 338, clouds -> 69, humidity -> 53, temp -> null, wind_speed -> null, weather -> null, wind_gust -> null, visibility -> 10000), Map(uvi -> null, dew_point -> null, feels_like -> null, pressure -> 1009, dt -> 1728579600, pop -> 0, wind_deg -> 339, clouds -> 61, humidity -> 54, temp -> null, wind_speed -> 5, weather -> null, wind_gust -> null, visibility -> 10000), Map(uvi -> null, dew_point -> null, feels_like -> null, pressure -> 1008, dt -> 1728583200, pop -> 0, wind_deg -> 346, clouds -> 59, humidity -> 60, temp -> null, wind_speed -> null, weather -> null, wind_gust -> null, visibility -> 10000), Map(uvi -> null, dew_point -> null, feels_like -> null, pressure -> 1008, dt -> 1728586800, pop -> 0, wind_deg -> 355, clouds -> 71, humidity -> 63, temp -> null, wind_speed -> null, weather -> null, wind_gust -> null, visibility -> 10000), Map(uvi -> null, dew_point -> null, feels_like -> null, pressure -> 1008, dt -> 1728590400, pop -> 0, wind_deg -> 0, clouds -> 84, humidity -> 74, temp -> null, wind_speed -> null, weather -> null, wind_gust -> null, visibility -> 10000), Map(uvi -> 0, dew_point -> null, feels_like -> null, pressure -> 1009, dt -> 1728594000, pop -> 0, wind_deg -> 17, clouds -> 85, humidity -> 75, temp -> null, wind_speed -> null, weather -> null, wind_gust -> null, visibility -> 10000), Map(uvi -> 0, dew_point -> null, feels_like -> null, pressure -> 1009, dt -> 1728597600, pop -> 0, wind_deg -> 11, clouds -> 69, humidity -> 77, temp -> null, wind_speed -> null, weather -> null, wind_gust -> null, visibility -> 10000), Map(uvi -> 0, dew_point -> null, feels_like -> null, pressure -> 1010, dt -> 1728601200, pop -> 0, wind_deg -> 27, clouds -> 75, humidity -> 77, temp -> null, wind_speed -> null, weather -> null, wind_gust -> null, visibility -> 10000), Map(uvi -> 0, dew_point -> null, feels_like -> null, pressure -> 1010, dt -> 1728604800, pop -> 0, wind_deg -> 42, clouds -> 78, humidity -> 79, temp -> null, wind_speed -> null, weather -> null, wind_gust -> null, visibility -> 10000), Map(uvi -> 0, dew_point -> null, feels_like -> null, pressure -> 1011, dt -> 1728608400, pop -> 0, wind_deg -> 40, clouds -> 21, humidity -> 82, temp -> null, wind_speed -> null, weather -> null, wind_gust -> null, visibility -> 10000), Map(uvi -> 0, dew_point -> null, feels_like -> null, pressure -> 1012, dt -> 1728612000, pop -> 0, wind_deg -> 63, clouds -> 62, humidity -> 84, temp -> null, wind_speed -> null, weather -> null, wind_gust -> null, visibility -> 10000), Map(uvi -> 0, dew_point -> null, feels_like -> null, pressure -> 1011, dt -> 1728615600, pop -> 0, wind_deg -> 47, clouds -> 75, humidity -> 85, temp -> null, wind_speed -> null, weather -> null, wind_gust -> null, visibility -> 10000), Map(uvi -> 0, dew_point -> null, feels_like -> null, pressure -> 1010, dt -> 1728619200, pop -> 0, wind_deg -> 48, clouds -> 67, humidity -> 85, temp -> null, wind_speed -> null, weather -> null, wind_gust -> null, visibility -> 10000), Map(uvi -> 0, dew_point -> null, feels_like -> null, pressure -> 1009, dt -> 1728622800, pop -> 0, wind_deg -> 38, clouds -> 61, humidity -> 87, temp -> null, wind_speed -> null, weather -> null, wind_gust -> null, visibility -> 10000), Map(uvi -> 0, dew_point -> null, feels_like -> null, pressure -> 1008, dt -> 1728626400, pop -> 0, wind_deg -> 35, clouds -> 59, humidity -> 88, temp -> null, wind_speed -> null, weather -> null, wind_gust -> null, visibility -> 10000), Map(uvi -> 0, dew_point -> null, feels_like -> null, pressure -> 1008, dt -> 1728630000, pop -> 0, wind_deg -> 41, clouds -> 14, humidity -> 90, temp -> 298, wind_speed -> null, weather -> null, wind_gust -> null, visibility -> 10000), Map(uvi -> 0, dew_point -> null, feels_like -> null, pressure -> 1009, dt -> 1728633600, pop -> 0, wind_deg -> 49, clouds -> 33, humidity -> 89, temp -> null, wind_speed -> null, weather -> null, wind_gust -> null, visibility -> 10000), Map(uvi -> 0, dew_point -> null, feels_like -> null, pressure -> 1009, dt -> 1728637200, pop -> 0, wind_deg -> 46, clouds -> 27, humidity -> 85, temp -> null, wind_speed -> null, weather -> null, wind_gust -> null, visibility -> 10000), Map(uvi -> null, dew_point -> null, feels_like -> null, pressure -> 1011, dt -> 1728640800, pop -> 0, wind_deg -> 74, clouds -> 23, humidity -> 80, temp -> null, wind_speed -> null, weather -> null, wind_gust -> null, visibility -> 10000), Map(uvi -> null, dew_point -> null, feels_like -> null, pressure -> 1011, dt -> 1728644400, pop -> 0, wind_deg -> 65, clouds -> 31, humidity -> 71, temp -> null, wind_speed -> null, weather -> null, wind_gust -> null, visibility -> 10000), Map(uvi -> null, dew_point -> null, feels_like -> null, pressure -> 1012, dt -> 1728648000, pop -> 0, wind_deg -> 60, clouds -> 42, humidity -> 60, temp -> null, wind_speed -> null, weather -> null, wind_gust -> null, visibility -> 10000), Map(uvi -> null, dew_point -> null, feels_like -> null, pressure -> 1012, dt -> 1728651600, pop -> 0, wind_deg -> 47, clouds -> 91, humidity -> 50, temp -> null, wind_speed -> null, weather -> null, wind_gust -> null, visibility -> 10000), Map(uvi -> null, dew_point -> null, feels_like -> null, pressure -> 1011, dt -> 1728655200, pop -> 0, wind_deg -> 8, clouds -> 61, humidity -> 44, temp -> null, wind_speed -> null, weather -> null, wind_gust -> null, visibility -> 10000), Map(uvi -> null, dew_point -> null, feels_like -> null, pressure -> 1010, dt -> 1728658800, pop -> 0, wind_deg -> 345, clouds -> 63, humidity -> 46, temp -> null, wind_speed -> null, weather -> null, wind_gust -> null, visibility -> 10000), Map(uvi -> null, dew_point -> null, feels_like -> null, pressure -> 1010, dt -> 1728662400, pop -> 0, wind_deg -> 339, clouds -> 70, humidity -> 57, temp -> null, wind_speed -> null, weather -> null, wind_gust -> null, visibility -> 10000), Map(uvi -> null, dew_point -> null, feels_like -> null, pressure -> 1009, dt -> 1728666000, pop -> 0, wind_deg -> 339, clouds -> 74, humidity -> 57, temp -> null, wind_speed -> null, weather -> null, wind_gust -> null, visibility -> 10000), Map(uvi -> null, dew_point -> null, feels_like -> null, pressure -> 1008, dt -> 1728669600, pop -> 0, wind_deg -> 342, clouds -> 70, humidity -> 60, temp -> null, wind_speed -> null, weather -> null, wind_gust -> null, visibility -> 10000), Map(uvi -> null, dew_point -> null, feels_like -> null, pressure -> 1008, dt -> 1728673200, pop -> 0, wind_deg -> 345, clouds -> 44, humidity -> 69, temp -> null, wind_speed -> null, weather -> null, wind_gust -> null, visibility -> 10000), Map(uvi -> null, dew_point -> null, feels_like -> null, pressure -> 1008, dt -> 1728676800, pop -> null, rain -> null, wind_deg -> 8, clouds -> 60, humidity -> 77, temp -> null, wind_speed -> null, weather -> null, wind_gust -> null, visibility -> 10000), Map(uvi -> 0, dew_point -> null, feels_like -> null, pressure -> 1008, dt -> 1728680400, pop -> null, rain -> null, wind_deg -> 349, clouds -> 71, humidity -> 79, temp -> null, wind_speed -> null, weather -> null, wind_gust -> null, visibility -> 10000), Map(uvi -> 0, dew_point -> null, feels_like -> null, pressure -> 1009, dt -> 1728684000, pop -> null, wind_deg -> 40, clouds -> 78, humidity -> 77, temp -> null, wind_speed -> null, weather -> null, wind_gust -> null, visibility -> 10000), Map(uvi -> 0, dew_point -> null, feels_like -> null, pressure -> 1011, dt -> 1728687600, pop -> null, wind_deg -> 75, clouds -> 82, humidity -> 75, temp -> null, wind_speed -> null, weather -> null, wind_gust -> null, visibility -> 10000))</td><td>-1.4506</td><td>-48.4682</td><td>List(Map(dt -> 1728518520, precipitation -> 0), Map(dt -> 1728518580, precipitation -> 0), Map(dt -> 1728518640, precipitation -> 0), Map(dt -> 1728518700, precipitation -> 0), Map(dt -> 1728518760, precipitation -> 0), Map(dt -> 1728518820, precipitation -> 0), Map(dt -> 1728518880, precipitation -> 0), Map(dt -> 1728518940, precipitation -> 0), Map(dt -> 1728519000, precipitation -> 0), Map(dt -> 1728519060, precipitation -> 0), Map(dt -> 1728519120, precipitation -> 0), Map(dt -> 1728519180, precipitation -> 0), Map(dt -> 1728519240, precipitation -> 0), Map(dt -> 1728519300, precipitation -> 0), Map(dt -> 1728519360, precipitation -> 0), Map(dt -> 1728519420, precipitation -> 0), Map(dt -> 1728519480, precipitation -> 0), Map(dt -> 1728519540, precipitation -> 0), Map(dt -> 1728519600, precipitation -> 0), Map(dt -> 1728519660, precipitation -> 0), Map(dt -> 1728519720, precipitation -> 0), Map(dt -> 1728519780, precipitation -> 0), Map(dt -> 1728519840, precipitation -> 0), Map(dt -> 1728519900, precipitation -> 0), Map(dt -> 1728519960, precipitation -> 0), Map(dt -> 1728520020, precipitation -> 0), Map(dt -> 1728520080, precipitation -> 0), Map(dt -> 1728520140, precipitation -> 0), Map(dt -> 1728520200, precipitation -> 0), Map(dt -> 1728520260, precipitation -> 0), Map(dt -> 1728520320, precipitation -> 0), Map(dt -> 1728520380, precipitation -> 0), Map(dt -> 1728520440, precipitation -> 0), Map(dt -> 1728520500, precipitation -> 0), Map(dt -> 1728520560, precipitation -> 0), Map(dt -> 1728520620, precipitation -> 0), Map(dt -> 1728520680, precipitation -> 0), Map(dt -> 1728520740, precipitation -> 0), Map(dt -> 1728520800, precipitation -> 0), Map(dt -> 1728520860, precipitation -> 0), Map(dt -> 1728520920, precipitation -> 0), Map(dt -> 1728520980, precipitation -> 0), Map(dt -> 1728521040, precipitation -> 0), Map(dt -> 1728521100, precipitation -> 0), Map(dt -> 1728521160, precipitation -> 0), Map(dt -> 1728521220, precipitation -> 0), Map(dt -> 1728521280, precipitation -> 0), Map(dt -> 1728521340, precipitation -> 0), Map(dt -> 1728521400, precipitation -> 0), Map(dt -> 1728521460, precipitation -> 0), Map(dt -> 1728521520, precipitation -> 0), Map(dt -> 1728521580, precipitation -> 0), Map(dt -> 1728521640, precipitation -> 0), Map(dt -> 1728521700, precipitation -> 0), Map(dt -> 1728521760, precipitation -> 0), Map(dt -> 1728521820, precipitation -> 0), Map(dt -> 1728521880, precipitation -> 0), Map(dt -> 1728521940, precipitation -> 0), Map(dt -> 1728522000, precipitation -> 0), Map(dt -> 1728522060, precipitation -> 0))</td><td>America/Belem</td><td>-10800</td><td>null</td></tr></tbody></table></div>"
      ]
     },
     "metadata": {
      "application/vnd.databricks.v1+output": {
       "addedWidgets": {},
       "aggData": [],
       "aggError": "",
       "aggOverflow": false,
       "aggSchema": [],
       "aggSeriesLimitReached": false,
       "aggType": "",
       "arguments": {},
       "columnCustomDisplayInfos": {},
       "data": [
        [
         {
          "clouds": 100,
          "dew_point": null,
          "dt": 1728518515,
          "feels_like": null,
          "humidity": 93,
          "pressure": 1017,
          "sunrise": 1728463112,
          "sunset": 1728508111,
          "temp": null,
          "uvi": 0,
          "visibility": 5000,
          "weather": null,
          "wind_deg": 160,
          "wind_speed": null
         },
         [
          {
           "clouds": 17,
           "dew_point": null,
           "dt": 1728482400,
           "feels_like": null,
           "humidity": 40,
           "moon_phase": null,
           "moonrise": 1728479160,
           "moonset": 0,
           "pop": null,
           "pressure": 1015,
           "rain": null,
           "summary": null,
           "sunrise": 1728463112,
           "sunset": 1728508111,
           "temp": null,
           "uvi": null,
           "weather": null,
           "wind_deg": 157,
           "wind_gust": null,
           "wind_speed": null
          },
          {
           "clouds": 100,
           "dew_point": null,
           "dt": 1728568800,
           "feels_like": null,
           "humidity": 60,
           "moon_phase": null,
           "moonrise": 1728569100,
           "moonset": 1728530760,
           "pop": 1,
           "pressure": 1014,
           "rain": null,
           "summary": null,
           "sunrise": 1728549455,
           "sunset": 1728594535,
           "temp": null,
           "uvi": null,
           "weather": null,
           "wind_deg": 47,
           "wind_gust": null,
           "wind_speed": null
          },
          {
           "clouds": 100,
           "dew_point": null,
           "dt": 1728655200,
           "feels_like": null,
           "humidity": 86,
           "moon_phase": null,
           "moonrise": 1728659220,
           "moonset": 1728620340,
           "pop": 1,
           "pressure": 1012,
           "rain": null,
           "summary": null,
           "sunrise": 1728635799,
           "sunset": 1728680960,
           "temp": null,
           "uvi": null,
           "weather": null,
           "wind_deg": 348,
           "wind_gust": null,
           "wind_speed": null
          },
          {
           "clouds": 0,
           "dew_point": null,
           "dt": 1728741600,
           "feels_like": null,
           "humidity": 39,
           "moon_phase": null,
           "moonrise": 1728749460,
           "moonset": 1728709560,
           "pop": null,
           "pressure": 1014,
           "summary": null,
           "sunrise": 1728722144,
           "sunset": 1728767385,
           "temp": null,
           "uvi": null,
           "weather": null,
           "wind_deg": 151,
           "wind_gust": null,
           "wind_speed": null
          },
          {
           "clouds": 100,
           "dew_point": null,
           "dt": 1728828000,
           "feels_like": null,
           "humidity": 55,
           "moon_phase": null,
           "moonrise": 1728839760,
           "moonset": 1728798600,
           "pop": 0,
           "pressure": 1021,
           "summary": null,
           "sunrise": 1728808489,
           "sunset": 1728853810,
           "temp": null,
           "uvi": null,
           "weather": null,
           "wind_deg": 140,
           "wind_gust": null,
           "wind_speed": null
          },
          {
           "clouds": 89,
           "dew_point": null,
           "dt": 1728914400,
           "feels_like": null,
           "humidity": 52,
           "moon_phase": null,
           "moonrise": 1728930000,
           "moonset": 1728887400,
           "pop": 0,
           "pressure": 1020,
           "summary": null,
           "sunrise": 1728894835,
           "sunset": 1728940236,
           "temp": null,
           "uvi": null,
           "weather": null,
           "wind_deg": 149,
           "wind_gust": null,
           "wind_speed": null
          },
          {
           "clouds": 100,
           "dew_point": null,
           "dt": 1729000800,
           "feels_like": null,
           "humidity": 50,
           "moon_phase": null,
           "moonrise": 1729020240,
           "moonset": 1728976080,
           "pop": null,
           "pressure": 1016,
           "rain": null,
           "summary": null,
           "sunrise": 1728981182,
           "sunset": 1729026663,
           "temp": null,
           "uvi": 5,
           "weather": null,
           "wind_deg": 150,
           "wind_gust": null,
           "wind_speed": null
          },
          {
           "clouds": 100,
           "dew_point": null,
           "dt": 1729087200,
           "feels_like": null,
           "humidity": 38,
           "moon_phase": null,
           "moonrise": 1729110600,
           "moonset": 1729064700,
           "pop": null,
           "pressure": 1010,
           "rain": null,
           "summary": null,
           "sunrise": 1729067529,
           "sunset": 1729113090,
           "temp": null,
           "uvi": 5,
           "weather": null,
           "wind_deg": 336,
           "wind_gust": null,
           "wind_speed": 6
          }
         ],
         [
          {
           "clouds": 100,
           "dew_point": null,
           "dt": 1728518400,
           "feels_like": null,
           "humidity": 93,
           "pop": 0,
           "pressure": 1017,
           "temp": null,
           "uvi": 0,
           "visibility": 10000,
           "weather": null,
           "wind_deg": 124,
           "wind_gust": null,
           "wind_speed": null
          },
          {
           "clouds": 100,
           "dew_point": null,
           "dt": 1728522000,
           "feels_like": null,
           "humidity": 91,
           "pop": 0,
           "pressure": 1017,
           "temp": null,
           "uvi": 0,
           "visibility": 10000,
           "weather": null,
           "wind_deg": 129,
           "wind_gust": null,
           "wind_speed": null
          },
          {
           "clouds": 100,
           "dew_point": null,
           "dt": 1728525600,
           "feels_like": null,
           "humidity": 89,
           "pop": null,
           "pressure": 1017,
           "rain": null,
           "temp": null,
           "uvi": 0,
           "visibility": 10000,
           "weather": null,
           "wind_deg": 129,
           "wind_gust": null,
           "wind_speed": null
          },
          {
           "clouds": 100,
           "dew_point": null,
           "dt": 1728529200,
           "feels_like": null,
           "humidity": 90,
           "pop": 0,
           "pressure": 1016,
           "temp": null,
           "uvi": 0,
           "visibility": 6556,
           "weather": null,
           "wind_deg": 126,
           "wind_gust": null,
           "wind_speed": null
          },
          {
           "clouds": 100,
           "dew_point": null,
           "dt": 1728532800,
           "feels_like": null,
           "humidity": 91,
           "pop": 0,
           "pressure": 1017,
           "temp": null,
           "uvi": 0,
           "weather": null,
           "wind_deg": 117,
           "wind_gust": null,
           "wind_speed": null
          },
          {
           "clouds": 100,
           "dew_point": null,
           "dt": 1728536400,
           "feels_like": null,
           "humidity": 89,
           "pop": null,
           "pressure": 1016,
           "rain": null,
           "temp": null,
           "uvi": 0,
           "visibility": 10000,
           "weather": null,
           "wind_deg": 99,
           "wind_gust": null,
           "wind_speed": null
          },
          {
           "clouds": 100,
           "dew_point": null,
           "dt": 1728540000,
           "feels_like": null,
           "humidity": 87,
           "pop": 0,
           "pressure": 1016,
           "temp": null,
           "uvi": 0,
           "visibility": 10000,
           "weather": null,
           "wind_deg": 103,
           "wind_gust": null,
           "wind_speed": null
          },
          {
           "clouds": 100,
           "dew_point": null,
           "dt": 1728543600,
           "feels_like": null,
           "humidity": 86,
           "pop": 0,
           "pressure": 1016,
           "temp": null,
           "uvi": 0,
           "visibility": 10000,
           "weather": null,
           "wind_deg": 90,
           "wind_gust": null,
           "wind_speed": null
          },
          {
           "clouds": 100,
           "dew_point": null,
           "dt": 1728547200,
           "feels_like": null,
           "humidity": 86,
           "pop": 0,
           "pressure": 1017,
           "temp": null,
           "uvi": 0,
           "visibility": 10000,
           "weather": null,
           "wind_deg": 100,
           "wind_gust": null,
           "wind_speed": null
          },
          {
           "clouds": 100,
           "dew_point": null,
           "dt": 1728550800,
           "feels_like": null,
           "humidity": 87,
           "pop": 1,
           "pressure": 1017,
           "rain": null,
           "temp": null,
           "uvi": 0,
           "visibility": 10000,
           "weather": null,
           "wind_deg": 92,
           "wind_gust": null,
           "wind_speed": null
          },
          {
           "clouds": 100,
           "dew_point": null,
           "dt": 1728554400,
           "feels_like": null,
           "humidity": 88,
           "pop": 1,
           "pressure": 1017,
           "rain": null,
           "temp": null,
           "uvi": null,
           "visibility": 8524,
           "weather": null,
           "wind_deg": 69,
           "wind_gust": null,
           "wind_speed": null
          },
          {
           "clouds": 100,
           "dew_point": null,
           "dt": 1728558000,
           "feels_like": null,
           "humidity": 88,
           "pop": 1,
           "pressure": 1017,
           "rain": null,
           "temp": null,
           "uvi": null,
           "visibility": 10000,
           "weather": null,
           "wind_deg": 63,
           "wind_gust": null,
           "wind_speed": null
          },
          {
           "clouds": 100,
           "dew_point": null,
           "dt": 1728561600,
           "feels_like": null,
           "humidity": 82,
           "pop": null,
           "pressure": 1016,
           "temp": null,
           "uvi": null,
           "visibility": 10000,
           "weather": null,
           "wind_deg": 55,
           "wind_gust": null,
           "wind_speed": null
          },
          {
           "clouds": 100,
           "dew_point": null,
           "dt": 1728565200,
           "feels_like": null,
           "humidity": 73,
           "pop": 0,
           "pressure": 1015,
           "temp": null,
           "uvi": null,
           "visibility": 10000,
           "weather": null,
           "wind_deg": 47,
           "wind_gust": null,
           "wind_speed": null
          },
          {
           "clouds": 100,
           "dew_point": null,
           "dt": 1728568800,
           "feels_like": null,
           "humidity": 60,
           "pop": 0,
           "pressure": 1014,
           "temp": null,
           "uvi": null,
           "visibility": 10000,
           "weather": null,
           "wind_deg": 39,
           "wind_gust": null,
           "wind_speed": null
          },
          {
           "clouds": 100,
           "dew_point": null,
           "dt": 1728572400,
           "feels_like": null,
           "humidity": 53,
           "pop": 0,
           "pressure": 1013,
           "temp": null,
           "uvi": null,
           "visibility": 10000,
           "weather": null,
           "wind_deg": 81,
           "wind_gust": null,
           "wind_speed": null
          },
          {
           "clouds": 100,
           "dew_point": null,
           "dt": 1728576000,
           "feels_like": null,
           "humidity": 53,
           "pop": 0,
           "pressure": 1012,
           "temp": null,
           "uvi": null,
           "visibility": 10000,
           "weather": null,
           "wind_deg": 157,
           "wind_gust": null,
           "wind_speed": null
          },
          {
           "clouds": 100,
           "dew_point": null,
           "dt": 1728579600,
           "feels_like": null,
           "humidity": 58,
           "pop": null,
           "pressure": 1012,
           "rain": null,
           "temp": null,
           "uvi": null,
           "visibility": 10000,
           "weather": null,
           "wind_deg": 159,
           "wind_gust": null,
           "wind_speed": null
          },
          {
           "clouds": 100,
           "dew_point": null,
           "dt": 1728583200,
           "feels_like": null,
           "humidity": 70,
           "pop": null,
           "pressure": 1012,
           "rain": null,
           "temp": null,
           "uvi": null,
           "visibility": 10000,
           "weather": null,
           "wind_deg": 151,
           "wind_gust": null,
           "wind_speed": null
          },
          {
           "clouds": 100,
           "dew_point": null,
           "dt": 1728586800,
           "feels_like": null,
           "humidity": 79,
           "pop": null,
           "pressure": 1012,
           "rain": null,
           "temp": null,
           "uvi": null,
           "visibility": 10000,
           "weather": null,
           "wind_deg": 147,
           "wind_gust": null,
           "wind_speed": null
          },
          {
           "clouds": 100,
           "dew_point": null,
           "dt": 1728590400,
           "feels_like": null,
           "humidity": 84,
           "pop": 1,
           "pressure": 1013,
           "rain": null,
           "temp": null,
           "uvi": null,
           "visibility": 10000,
           "weather": null,
           "wind_deg": 154,
           "wind_gust": null,
           "wind_speed": null
          },
          {
           "clouds": 99,
           "dew_point": null,
           "dt": 1728594000,
           "feels_like": null,
           "humidity": 88,
           "pop": null,
           "pressure": 1013,
           "rain": null,
           "temp": null,
           "uvi": null,
           "visibility": 2446,
           "weather": null,
           "wind_deg": 152,
           "wind_gust": null,
           "wind_speed": null
          },
          {
           "clouds": 99,
           "dew_point": null,
           "dt": 1728597600,
           "feels_like": null,
           "humidity": 91,
           "pop": null,
           "pressure": 1014,
           "rain": null,
           "temp": null,
           "uvi": 0,
           "weather": null,
           "wind_deg": 139,
           "wind_gust": null,
           "wind_speed": null
          },
          {
           "clouds": 99,
           "dew_point": null,
           "dt": 1728601200,
           "feels_like": null,
           "humidity": 89,
           "pop": null,
           "pressure": 1015,
           "rain": null,
           "temp": null,
           "uvi": 0,
           "visibility": 10000,
           "weather": null,
           "wind_deg": 125,
           "wind_gust": null,
           "wind_speed": null
          },
          {
           "clouds": 99,
           "dew_point": null,
           "dt": 1728604800,
           "feels_like": null,
           "humidity": 88,
           "pop": 1,
           "pressure": 1015,
           "rain": null,
           "temp": null,
           "uvi": 0,
           "visibility": 10000,
           "weather": null,
           "wind_deg": 106,
           "wind_gust": null,
           "wind_speed": null
          },
          {
           "clouds": 99,
           "dew_point": null,
           "dt": 1728608400,
           "feels_like": null,
           "humidity": 88,
           "pop": 1,
           "pressure": 1014,
           "rain": null,
           "temp": null,
           "uvi": 0,
           "visibility": 10000,
           "weather": null,
           "wind_deg": 71,
           "wind_gust": null,
           "wind_speed": null
          },
          {
           "clouds": 100,
           "dew_point": null,
           "dt": 1728612000,
           "feels_like": null,
           "humidity": 89,
           "pop": null,
           "pressure": 1013,
           "rain": null,
           "temp": null,
           "uvi": 0,
           "visibility": 10000,
           "weather": null,
           "wind_deg": 76,
           "wind_gust": null,
           "wind_speed": null
          },
          {
           "clouds": 100,
           "dew_point": null,
           "dt": 1728615600,
           "feels_like": null,
           "humidity": 91,
           "pop": null,
           "pressure": 1013,
           "temp": null,
           "uvi": 0,
           "visibility": 10000,
           "weather": null,
           "wind_deg": 60,
           "wind_gust": null,
           "wind_speed": null
          },
          {
           "clouds": 100,
           "dew_point": null,
           "dt": 1728619200,
           "feels_like": null,
           "humidity": 91,
           "pop": null,
           "pressure": 1012,
           "temp": null,
           "uvi": 0,
           "visibility": 10000,
           "weather": null,
           "wind_deg": 34,
           "wind_gust": null,
           "wind_speed": null
          },
          {
           "clouds": 100,
           "dew_point": null,
           "dt": 1728622800,
           "feels_like": null,
           "humidity": 91,
           "pop": null,
           "pressure": 1012,
           "temp": null,
           "uvi": 0,
           "visibility": 10000,
           "weather": null,
           "wind_deg": 10,
           "wind_gust": null,
           "wind_speed": null
          },
          {
           "clouds": 100,
           "dew_point": null,
           "dt": 1728626400,
           "feels_like": null,
           "humidity": 91,
           "pop": null,
           "pressure": 1012,
           "rain": null,
           "temp": null,
           "uvi": 0,
           "visibility": 9854,
           "weather": null,
           "wind_deg": 289,
           "wind_gust": null,
           "wind_speed": null
          },
          {
           "clouds": 100,
           "dew_point": null,
           "dt": 1728630000,
           "feels_like": null,
           "humidity": 94,
           "pop": 1,
           "pressure": 1013,
           "rain": null,
           "temp": null,
           "uvi": 0,
           "visibility": 4696,
           "weather": null,
           "wind_deg": 327,
           "wind_gust": null,
           "wind_speed": null
          },
          {
           "clouds": 100,
           "dew_point": null,
           "dt": 1728633600,
           "feels_like": null,
           "humidity": 94,
           "pop": 1,
           "pressure": 1012,
           "rain": null,
           "temp": null,
           "uvi": 0,
           "visibility": 5452,
           "weather": null,
           "wind_deg": 4,
           "wind_gust": null,
           "wind_speed": null
          },
          {
           "clouds": 100,
           "dew_point": null,
           "dt": 1728637200,
           "feels_like": null,
           "humidity": 93,
           "pop": 1,
           "pressure": 1012,
           "rain": null,
           "temp": null,
           "uvi": 0,
           "visibility": 10000,
           "weather": null,
           "wind_deg": 9,
           "wind_gust": null,
           "wind_speed": null
          },
          {
           "clouds": 100,
           "dew_point": null,
           "dt": 1728640800,
           "feels_like": null,
           "humidity": 94,
           "pop": 1,
           "pressure": 1013,
           "rain": null,
           "temp": null,
           "uvi": null,
           "visibility": 8273,
           "weather": null,
           "wind_deg": 350,
           "wind_gust": null,
           "wind_speed": null
          },
          {
           "clouds": 100,
           "dew_point": null,
           "dt": 1728644400,
           "feels_like": null,
           "humidity": 93,
           "pop": 1,
           "pressure": 1014,
           "rain": null,
           "temp": null,
           "uvi": null,
           "visibility": 10000,
           "weather": null,
           "wind_deg": 347,
           "wind_gust": null,
           "wind_speed": null
          },
          {
           "clouds": 100,
           "dew_point": null,
           "dt": 1728648000,
           "feels_like": null,
           "humidity": 90,
           "pop": 1,
           "pressure": 1013,
           "rain": null,
           "temp": null,
           "uvi": null,
           "visibility": 10000,
           "weather": null,
           "wind_deg": 356,
           "wind_gust": null,
           "wind_speed": null
          },
          {
           "clouds": 100,
           "dew_point": null,
           "dt": 1728651600,
           "feels_like": null,
           "humidity": 85,
           "pop": null,
           "pressure": 1012,
           "temp": null,
           "uvi": null,
           "visibility": 10000,
           "weather": null,
           "wind_deg": 358,
           "wind_gust": null,
           "wind_speed": null
          },
          {
           "clouds": 100,
           "dew_point": null,
           "dt": 1728655200,
           "feels_like": null,
           "humidity": 86,
           "pop": null,
           "pressure": 1012,
           "rain": null,
           "temp": null,
           "uvi": null,
           "visibility": 10000,
           "weather": null,
           "wind_deg": 357,
           "wind_gust": null,
           "wind_speed": null
          },
          {
           "clouds": 100,
           "dew_point": null,
           "dt": 1728658800,
           "feels_like": null,
           "humidity": 73,
           "pop": null,
           "pressure": 1010,
           "temp": null,
           "uvi": null,
           "visibility": 10000,
           "weather": null,
           "wind_deg": 9,
           "wind_gust": null,
           "wind_speed": null
          },
          {
           "clouds": 94,
           "dew_point": null,
           "dt": 1728662400,
           "feels_like": null,
           "humidity": 56,
           "pop": 0,
           "pressure": 1008,
           "temp": null,
           "uvi": null,
           "visibility": 10000,
           "weather": null,
           "wind_deg": 348,
           "wind_gust": null,
           "wind_speed": null
          },
          {
           "clouds": 93,
           "dew_point": null,
           "dt": 1728666000,
           "feels_like": null,
           "humidity": 51,
           "pop": 0,
           "pressure": 1007,
           "temp": null,
           "uvi": null,
           "visibility": 10000,
           "weather": null,
           "wind_deg": 345,
           "wind_gust": null,
           "wind_speed": null
          },
          {
           "clouds": 89,
           "dew_point": null,
           "dt": 1728669600,
           "feels_like": null,
           "humidity": 46,
           "pop": 0,
           "pressure": 1005,
           "temp": null,
           "uvi": null,
           "visibility": 10000,
           "weather": null,
           "wind_deg": 330,
           "wind_gust": null,
           "wind_speed": null
          },
          {
           "clouds": 89,
           "dew_point": null,
           "dt": 1728673200,
           "feels_like": null,
           "humidity": 47,
           "pop": null,
           "pressure": 1003,
           "temp": null,
           "uvi": null,
           "visibility": 10000,
           "weather": null,
           "wind_deg": 332,
           "wind_gust": null,
           "wind_speed": null
          },
          {
           "clouds": 78,
           "dew_point": null,
           "dt": 1728676800,
           "feels_like": null,
           "humidity": 77,
           "pop": 1,
           "pressure": 1005,
           "rain": null,
           "temp": null,
           "uvi": null,
           "visibility": 10000,
           "weather": null,
           "wind_deg": 307,
           "wind_gust": null,
           "wind_speed": null
          },
          {
           "clouds": 85,
           "dew_point": null,
           "dt": 1728680400,
           "feels_like": null,
           "humidity": 78,
           "pop": 1,
           "pressure": 1008,
           "rain": null,
           "temp": null,
           "uvi": null,
           "visibility": 8210,
           "weather": null,
           "wind_deg": 258,
           "wind_gust": null,
           "wind_speed": null
          },
          {
           "clouds": 89,
           "dew_point": null,
           "dt": 1728684000,
           "feels_like": null,
           "humidity": 81,
           "pop": 1,
           "pressure": 1008,
           "rain": null,
           "temp": null,
           "uvi": 0,
           "visibility": 10000,
           "weather": null,
           "wind_deg": 344,
           "wind_gust": 14,
           "wind_speed": null
          },
          {
           "clouds": 91,
           "dew_point": null,
           "dt": 1728687600,
           "feels_like": null,
           "humidity": 82,
           "pop": null,
           "pressure": 1008,
           "temp": null,
           "uvi": 0,
           "visibility": 10000,
           "weather": null,
           "wind_deg": 352,
           "wind_gust": null,
           "wind_speed": null
          }
         ],
         -23.5507,
         -46.6334,
         [
          {
           "dt": 1728518520,
           "precipitation": 0
          },
          {
           "dt": 1728518580,
           "precipitation": 0
          },
          {
           "dt": 1728518640,
           "precipitation": 0
          },
          {
           "dt": 1728518700,
           "precipitation": 0
          },
          {
           "dt": 1728518760,
           "precipitation": 0
          },
          {
           "dt": 1728518820,
           "precipitation": 0
          },
          {
           "dt": 1728518880,
           "precipitation": 0
          },
          {
           "dt": 1728518940,
           "precipitation": 0
          },
          {
           "dt": 1728519000,
           "precipitation": 0
          },
          {
           "dt": 1728519060,
           "precipitation": 0
          },
          {
           "dt": 1728519120,
           "precipitation": 0
          },
          {
           "dt": 1728519180,
           "precipitation": 0
          },
          {
           "dt": 1728519240,
           "precipitation": 0
          },
          {
           "dt": 1728519300,
           "precipitation": 0
          },
          {
           "dt": 1728519360,
           "precipitation": 0
          },
          {
           "dt": 1728519420,
           "precipitation": 0
          },
          {
           "dt": 1728519480,
           "precipitation": 0
          },
          {
           "dt": 1728519540,
           "precipitation": 0
          },
          {
           "dt": 1728519600,
           "precipitation": 0
          },
          {
           "dt": 1728519660,
           "precipitation": 0
          },
          {
           "dt": 1728519720,
           "precipitation": 0
          },
          {
           "dt": 1728519780,
           "precipitation": 0
          },
          {
           "dt": 1728519840,
           "precipitation": 0
          },
          {
           "dt": 1728519900,
           "precipitation": 0
          },
          {
           "dt": 1728519960,
           "precipitation": 0
          },
          {
           "dt": 1728520020,
           "precipitation": 0
          },
          {
           "dt": 1728520080,
           "precipitation": 0
          },
          {
           "dt": 1728520140,
           "precipitation": 0
          },
          {
           "dt": 1728520200,
           "precipitation": 0
          },
          {
           "dt": 1728520260,
           "precipitation": 0
          },
          {
           "dt": 1728520320,
           "precipitation": 0
          },
          {
           "dt": 1728520380,
           "precipitation": 0
          },
          {
           "dt": 1728520440,
           "precipitation": 0
          },
          {
           "dt": 1728520500,
           "precipitation": 0
          },
          {
           "dt": 1728520560,
           "precipitation": 0
          },
          {
           "dt": 1728520620,
           "precipitation": 0
          },
          {
           "dt": 1728520680,
           "precipitation": 0
          },
          {
           "dt": 1728520740,
           "precipitation": 0
          },
          {
           "dt": 1728520800,
           "precipitation": 0
          },
          {
           "dt": 1728520860,
           "precipitation": 0
          },
          {
           "dt": 1728520920,
           "precipitation": 0
          },
          {
           "dt": 1728520980,
           "precipitation": 0
          },
          {
           "dt": 1728521040,
           "precipitation": 0
          },
          {
           "dt": 1728521100,
           "precipitation": 0
          },
          {
           "dt": 1728521160,
           "precipitation": 0
          },
          {
           "dt": 1728521220,
           "precipitation": 0
          },
          {
           "dt": 1728521280,
           "precipitation": 0
          },
          {
           "dt": 1728521340,
           "precipitation": 0
          },
          {
           "dt": 1728521400,
           "precipitation": 0
          },
          {
           "dt": 1728521460,
           "precipitation": 0
          },
          {
           "dt": 1728521520,
           "precipitation": 0
          },
          {
           "dt": 1728521580,
           "precipitation": 0
          },
          {
           "dt": 1728521640,
           "precipitation": 0
          },
          {
           "dt": 1728521700,
           "precipitation": 0
          },
          {
           "dt": 1728521760,
           "precipitation": 0
          },
          {
           "dt": 1728521820,
           "precipitation": 0
          },
          {
           "dt": 1728521880,
           "precipitation": 0
          },
          {
           "dt": 1728521940,
           "precipitation": 0
          },
          {
           "dt": 1728522000,
           "precipitation": 0
          },
          {
           "dt": 1728522060,
           "precipitation": 0
          }
         ],
         "America/Sao_Paulo",
         -10800,
         null
        ],
        [
         {
          "clouds": 100,
          "dew_point": null,
          "dt": 1728518515,
          "feels_like": null,
          "humidity": 69,
          "pressure": 1014,
          "rain": null,
          "sunrise": 1728463907,
          "sunset": 1728508868,
          "temp": null,
          "uvi": 0,
          "visibility": 10000,
          "weather": null,
          "wind_deg": 114,
          "wind_gust": null,
          "wind_speed": null
         },
         [
          {
           "clouds": 75,
           "dew_point": null,
           "dt": 1728486000,
           "feels_like": null,
           "humidity": 17,
           "moon_phase": null,
           "moonrise": 1728480000,
           "moonset": 0,
           "pop": null,
           "pressure": 1010,
           "rain": null,
           "summary": null,
           "sunrise": 1728463907,
           "sunset": 1728508868,
           "temp": null,
           "uvi": null,
           "weather": null,
           "wind_deg": 114,
           "wind_gust": null,
           "wind_speed": null
          },
          {
           "clouds": 94,
           "dew_point": null,
           "dt": 1728572400,
           "feels_like": null,
           "humidity": 48,
           "moon_phase": null,
           "moonrise": 1728570000,
           "moonset": 1728531480,
           "pop": 1,
           "pressure": 1012,
           "rain": null,
           "summary": null,
           "sunrise": 1728550252,
           "sunset": 1728595291,
           "temp": null,
           "uvi": null,
           "weather": null,
           "wind_deg": 161,
           "wind_gust": null,
           "wind_speed": null
          },
          {
           "clouds": 100,
           "dew_point": null,
           "dt": 1728658800,
           "feels_like": null,
           "humidity": 55,
           "moon_phase": null,
           "moonrise": 1728660120,
           "moonset": 1728621060,
           "pop": 1,
           "pressure": 1008,
           "rain": null,
           "summary": null,
           "sunrise": 1728636597,
           "sunset": 1728681715,
           "temp": null,
           "uvi": null,
           "weather": null,
           "wind_deg": 335,
           "wind_gust": null,
           "wind_speed": null
          },
          {
           "clouds": 23,
           "dew_point": null,
           "dt": 1728745200,
           "feels_like": null,
           "humidity": 33,
           "moon_phase": null,
           "moonrise": 1728750360,
           "moonset": 1728710280,
           "pop": 0,
           "pressure": 1013,
           "summary": null,
           "sunrise": 1728722942,
           "sunset": 1728768139,
           "temp": null,
           "uvi": null,
           "weather": null,
           "wind_deg": 290,
           "wind_gust": null,
           "wind_speed": null
          },
          {
           "clouds": 76,
           "dew_point": null,
           "dt": 1728831600,
           "feels_like": null,
           "humidity": 35,
           "moon_phase": null,
           "moonrise": 1728840600,
           "moonset": 1728799320,
           "pop": 0,
           "pressure": 1018,
           "summary": null,
           "sunrise": 1728809289,
           "sunset": 1728854563,
           "temp": null,
           "uvi": null,
           "weather": null,
           "wind_deg": 119,
           "wind_gust": null,
           "wind_speed": null
          },
          {
           "clouds": 95,
           "dew_point": null,
           "dt": 1728918000,
           "feels_like": null,
           "humidity": 43,
           "moon_phase": null,
           "moonrise": 1728930840,
           "moonset": 1728888180,
           "pop": 0,
           "pressure": 1018,
           "summary": null,
           "sunrise": 1728895636,
           "sunset": 1728940988,
           "temp": null,
           "uvi": null,
           "weather": null,
           "wind_deg": 124,
           "wind_gust": null,
           "wind_speed": null
          },
          {
           "clouds": 100,
           "dew_point": null,
           "dt": 1729004400,
           "feels_like": null,
           "humidity": 40,
           "moon_phase": null,
           "moonrise": 1729021080,
           "moonset": 1728976860,
           "pop": null,
           "pressure": 1013,
           "rain": null,
           "summary": null,
           "sunrise": 1728981984,
           "sunset": 1729027413,
           "temp": null,
           "uvi": 4,
           "weather": null,
           "wind_deg": 99,
           "wind_gust": null,
           "wind_speed": null
          },
          {
           "clouds": 61,
           "dew_point": null,
           "dt": 1729090800,
           "feels_like": null,
           "humidity": 35,
           "moon_phase": null,
           "moonrise": 1729111380,
           "moonset": 1729065540,
           "pop": null,
           "pressure": 1009,
           "rain": null,
           "summary": null,
           "sunrise": 1729068332,
           "sunset": 1729113839,
           "temp": null,
           "uvi": 4,
           "weather": null,
           "wind_deg": 282,
           "wind_gust": null,
           "wind_speed": null
          }
         ],
         [
          {
           "clouds": 100,
           "dew_point": null,
           "dt": 1728518400,
           "feels_like": null,
           "humidity": 69,
           "pop": null,
           "pressure": 1014,
           "rain": null,
           "temp": null,
           "uvi": 0,
           "visibility": 10000,
           "weather": null,
           "wind_deg": 114,
           "wind_gust": null,
           "wind_speed": null
          },
          {
           "clouds": 100,
           "dew_point": null,
           "dt": 1728522000,
           "feels_like": null,
           "humidity": 71,
           "pop": null,
           "pressure": 1014,
           "temp": null,
           "uvi": 0,
           "visibility": 10000,
           "weather": null,
           "wind_deg": 121,
           "wind_gust": null,
           "wind_speed": null
          },
          {
           "clouds": 100,
           "dew_point": null,
           "dt": 1728525600,
           "feels_like": null,
           "humidity": 74,
           "pop": null,
           "pressure": 1015,
           "temp": null,
           "uvi": 0,
           "visibility": 10000,
           "weather": null,
           "wind_deg": 130,
           "wind_gust": null,
           "wind_speed": null
          },
          {
           "clouds": 100,
           "dew_point": null,
           "dt": 1728529200,
           "feels_like": null,
           "humidity": 77,
           "pop": null,
           "pressure": 1015,
           "temp": null,
           "uvi": 0,
           "visibility": 10000,
           "weather": null,
           "wind_deg": 140,
           "wind_gust": null,
           "wind_speed": null
          },
          {
           "clouds": 100,
           "dew_point": null,
           "dt": 1728532800,
           "feels_like": null,
           "humidity": 80,
           "pop": null,
           "pressure": 1016,
           "temp": null,
           "uvi": 0,
           "visibility": 10000,
           "weather": null,
           "wind_deg": 138,
           "wind_gust": null,
           "wind_speed": null
          },
          {
           "clouds": 100,
           "dew_point": null,
           "dt": 1728536400,
           "feels_like": null,
           "humidity": 87,
           "pop": null,
           "pressure": 1016,
           "rain": null,
           "temp": null,
           "uvi": 0,
           "visibility": 10000,
           "weather": null,
           "wind_deg": 93,
           "wind_gust": null,
           "wind_speed": null
          },
          {
           "clouds": 100,
           "dew_point": null,
           "dt": 1728540000,
           "feels_like": null,
           "humidity": 89,
           "pop": null,
           "pressure": 1013,
           "rain": null,
           "temp": null,
           "uvi": 0,
           "visibility": 10000,
           "weather": null,
           "wind_deg": 113,
           "wind_gust": null,
           "wind_speed": null
          },
          {
           "clouds": 100,
           "dew_point": null,
           "dt": 1728543600,
           "feels_like": null,
           "humidity": 88,
           "pop": null,
           "pressure": 1013,
           "rain": null,
           "temp": null,
           "uvi": 0,
           "visibility": 10000,
           "weather": null,
           "wind_deg": 107,
           "wind_gust": null,
           "wind_speed": null
          },
          {
           "clouds": 100,
           "dew_point": null,
           "dt": 1728547200,
           "feels_like": null,
           "humidity": 89,
           "pop": 0,
           "pressure": 1013,
           "temp": null,
           "uvi": 0,
           "visibility": 10000,
           "weather": null,
           "wind_deg": 100,
           "wind_gust": null,
           "wind_speed": null
          },
          {
           "clouds": 100,
           "dew_point": null,
           "dt": 1728550800,
           "feels_like": null,
           "humidity": 89,
           "pop": 0,
           "pressure": 1013,
           "temp": null,
           "uvi": 0,
           "visibility": 10000,
           "weather": null,
           "wind_deg": 94,
           "wind_gust": null,
           "wind_speed": null
          },
          {
           "clouds": 100,
           "dew_point": null,
           "dt": 1728554400,
           "feels_like": null,
           "humidity": 86,
           "pop": 0,
           "pressure": 1013,
           "temp": null,
           "uvi": null,
           "visibility": 10000,
           "weather": null,
           "wind_deg": 86,
           "wind_gust": null,
           "wind_speed": null
          },
          {
           "clouds": 100,
           "dew_point": null,
           "dt": 1728558000,
           "feels_like": null,
           "humidity": 76,
           "pop": 0,
           "pressure": 1014,
           "temp": null,
           "uvi": null,
           "visibility": 10000,
           "weather": null,
           "wind_deg": 76,
           "wind_gust": null,
           "wind_speed": null
          },
          {
           "clouds": 100,
           "dew_point": null,
           "dt": 1728561600,
           "feels_like": null,
           "humidity": 63,
           "pop": 0,
           "pressure": 1014,
           "temp": null,
           "uvi": null,
           "visibility": 10000,
           "weather": null,
           "wind_deg": 70,
           "wind_gust": null,
           "wind_speed": null
          },
          {
           "clouds": 99,
           "dew_point": null,
           "dt": 1728565200,
           "feels_like": null,
           "humidity": 49,
           "pop": 0,
           "pressure": 1013,
           "temp": null,
           "uvi": null,
           "visibility": 10000,
           "weather": null,
           "wind_deg": 59,
           "wind_gust": null,
           "wind_speed": null
          },
          {
           "clouds": 90,
           "dew_point": null,
           "dt": 1728568800,
           "feels_like": null,
           "humidity": 42,
           "pop": 0,
           "pressure": 1012,
           "temp": null,
           "uvi": null,
           "visibility": 10000,
           "weather": null,
           "wind_deg": 30,
           "wind_gust": null,
           "wind_speed": null
          },
          {
           "clouds": 94,
           "dew_point": null,
           "dt": 1728572400,
           "feels_like": null,
           "humidity": 48,
           "pop": 0,
           "pressure": 1012,
           "temp": null,
           "uvi": null,
           "visibility": 10000,
           "weather": null,
           "wind_deg": 3,
           "wind_gust": null,
           "wind_speed": null
          },
          {
           "clouds": 91,
           "dew_point": null,
           "dt": 1728576000,
           "feels_like": null,
           "humidity": 39,
           "pop": 0,
           "pressure": 1011,
           "temp": null,
           "uvi": null,
           "visibility": 10000,
           "weather": null,
           "wind_deg": 192,
           "wind_gust": null,
           "wind_speed": null
          },
          {
           "clouds": 92,
           "dew_point": null,
           "dt": 1728579600,
           "feels_like": null,
           "humidity": 38,
           "pop": 0,
           "pressure": 1010,
           "temp": null,
           "uvi": null,
           "visibility": 10000,
           "weather": null,
           "wind_deg": 190,
           "wind_gust": null,
           "wind_speed": null
          },
          {
           "clouds": 92,
           "dew_point": null,
           "dt": 1728583200,
           "feels_like": null,
           "humidity": 39,
           "pop": null,
           "pressure": 1009,
           "rain": null,
           "temp": null,
           "uvi": null,
           "visibility": 10000,
           "weather": null,
           "wind_deg": 185,
           "wind_gust": null,
           "wind_speed": null
          },
          {
           "clouds": 94,
           "dew_point": null,
           "dt": 1728586800,
           "feels_like": null,
           "humidity": 45,
           "pop": null,
           "pressure": 1008,
           "temp": null,
           "uvi": null,
           "visibility": 10000,
           "weather": null,
           "wind_deg": 173,
           "wind_gust": null,
           "wind_speed": null
          },
          {
           "clouds": 97,
           "dew_point": null,
           "dt": 1728590400,
           "feels_like": null,
           "humidity": 53,
           "pop": null,
           "pressure": 1008,
           "temp": null,
           "uvi": null,
           "visibility": 10000,
           "weather": null,
           "wind_deg": 175,
           "wind_gust": null,
           "wind_speed": null
          },
          {
           "clouds": 77,
           "dew_point": null,
           "dt": 1728594000,
           "feels_like": null,
           "humidity": 57,
           "pop": null,
           "pressure": 1009,
           "temp": null,
           "uvi": null,
           "visibility": 10000,
           "weather": null,
           "wind_deg": 161,
           "wind_gust": null,
           "wind_speed": null
          },
          {
           "clouds": 83,
           "dew_point": null,
           "dt": 1728597600,
           "feels_like": null,
           "humidity": 70,
           "pop": null,
           "pressure": 1010,
           "rain": null,
           "temp": null,
           "uvi": 0,
           "visibility": 10000,
           "weather": null,
           "wind_deg": 144,
           "wind_gust": null,
           "wind_speed": null
          },
          {
           "clouds": 70,
           "dew_point": null,
           "dt": 1728601200,
           "feels_like": null,
           "humidity": 76,
           "pop": 1,
           "pressure": 1011,
           "rain": null,
           "temp": null,
           "uvi": 0,
           "visibility": 10000,
           "weather": null,
           "wind_deg": 131,
           "wind_gust": null,
           "wind_speed": null
          },
          {
           "clouds": 75,
           "dew_point": null,
           "dt": 1728604800,
           "feels_like": null,
           "humidity": 82,
           "pop": 1,
           "pressure": 1011,
           "rain": null,
           "temp": null,
           "uvi": 0,
           "visibility": 10000,
           "weather": null,
           "wind_deg": 119,
           "wind_gust": null,
           "wind_speed": null
          },
          {
           "clouds": 100,
           "dew_point": null,
           "dt": 1728608400,
           "feels_like": null,
           "humidity": 89,
           "pop": 1,
           "pressure": 1012,
           "rain": null,
           "temp": null,
           "uvi": 0,
           "visibility": 10000,
           "weather": null,
           "wind_deg": 155,
           "wind_gust": null,
           "wind_speed": null
          },
          {
           "clouds": 100,
           "dew_point": null,
           "dt": 1728612000,
           "feels_like": null,
           "humidity": 92,
           "pop": 1,
           "pressure": 1012,
           "rain": null,
           "temp": null,
           "uvi": 0,
           "visibility": 10000,
           "weather": null,
           "wind_deg": 121,
           "wind_gust": null,
           "wind_speed": null
          },
          {
           "clouds": 100,
           "dew_point": null,
           "dt": 1728615600,
           "feels_like": null,
           "humidity": 95,
           "pop": 1,
           "pressure": 1012,
           "rain": null,
           "temp": null,
           "uvi": 0,
           "visibility": 3478,
           "weather": null,
           "wind_deg": 112,
           "wind_gust": null,
           "wind_speed": null
          },
          {
           "clouds": 100,
           "dew_point": null,
           "dt": 1728619200,
           "feels_like": null,
           "humidity": 96,
           "pop": 1,
           "pressure": 1012,
           "rain": null,
           "temp": null,
           "uvi": 0,
           "visibility": 10000,
           "weather": null,
           "wind_deg": 88,
           "wind_gust": null,
           "wind_speed": null
          },
          {
           "clouds": 100,
           "dew_point": null,
           "dt": 1728622800,
           "feels_like": null,
           "humidity": 95,
           "pop": 1,
           "pressure": 1012,
           "rain": null,
           "temp": null,
           "uvi": 0,
           "visibility": 10000,
           "weather": null,
           "wind_deg": 141,
           "wind_gust": null,
           "wind_speed": null
          },
          {
           "clouds": 100,
           "dew_point": null,
           "dt": 1728626400,
           "feels_like": null,
           "humidity": 95,
           "pop": 1,
           "pressure": 1010,
           "rain": null,
           "temp": null,
           "uvi": 0,
           "visibility": 10000,
           "weather": null,
           "wind_deg": 124,
           "wind_gust": null,
           "wind_speed": null
          },
          {
           "clouds": 100,
           "dew_point": null,
           "dt": 1728630000,
           "feels_like": null,
           "humidity": 95,
           "pop": 1,
           "pressure": 1010,
           "rain": null,
           "temp": null,
           "uvi": 0,
           "visibility": 10000,
           "weather": null,
           "wind_deg": 131,
           "wind_gust": null,
           "wind_speed": null
          },
          {
           "clouds": 100,
           "dew_point": null,
           "dt": 1728633600,
           "feels_like": null,
           "humidity": 94,
           "pop": 1,
           "pressure": 1010,
           "rain": null,
           "temp": null,
           "uvi": 0,
           "visibility": 10000,
           "weather": null,
           "wind_deg": 85,
           "wind_gust": null,
           "wind_speed": null
          },
          {
           "clouds": 100,
           "dew_point": null,
           "dt": 1728637200,
           "feels_like": null,
           "humidity": 95,
           "pop": 1,
           "pressure": 1010,
           "rain": null,
           "temp": null,
           "uvi": 0,
           "visibility": 10000,
           "weather": null,
           "wind_deg": 74,
           "wind_gust": null,
           "wind_speed": null
          },
          {
           "clouds": 100,
           "dew_point": null,
           "dt": 1728640800,
           "feels_like": null,
           "humidity": 94,
           "pop": 1,
           "pressure": 1010,
           "rain": null,
           "temp": null,
           "uvi": null,
           "visibility": 10000,
           "weather": null,
           "wind_deg": 65,
           "wind_gust": null,
           "wind_speed": null
          },
          {
           "clouds": 100,
           "dew_point": null,
           "dt": 1728644400,
           "feels_like": null,
           "humidity": 86,
           "pop": 1,
           "pressure": 1011,
           "rain": null,
           "temp": null,
           "uvi": null,
           "visibility": 10000,
           "weather": null,
           "wind_deg": 44,
           "wind_gust": null,
           "wind_speed": null
          },
          {
           "clouds": 100,
           "dew_point": null,
           "dt": 1728648000,
           "feels_like": null,
           "humidity": 83,
           "pop": null,
           "pressure": 1010,
           "temp": null,
           "uvi": null,
           "visibility": 10000,
           "weather": null,
           "wind_deg": 45,
           "wind_gust": null,
           "wind_speed": 4
          },
          {
           "clouds": 100,
           "dew_point": null,
           "dt": 1728651600,
           "feels_like": null,
           "humidity": 65,
           "pop": 0,
           "pressure": 1009,
           "temp": null,
           "uvi": null,
           "visibility": 10000,
           "weather": null,
           "wind_deg": 27,
           "wind_gust": null,
           "wind_speed": null
          },
          {
           "clouds": 100,
           "dew_point": null,
           "dt": 1728655200,
           "feels_like": null,
           "humidity": 68,
           "pop": 0,
           "pressure": 1009,
           "temp": null,
           "uvi": null,
           "visibility": 10000,
           "weather": null,
           "wind_deg": 18,
           "wind_gust": null,
           "wind_speed": null
          },
          {
           "clouds": 100,
           "dew_point": null,
           "dt": 1728658800,
           "feels_like": null,
           "humidity": 55,
           "pop": 0,
           "pressure": 1008,
           "temp": null,
           "uvi": null,
           "visibility": 10000,
           "weather": null,
           "wind_deg": 357,
           "wind_gust": null,
           "wind_speed": null
          },
          {
           "clouds": 99,
           "dew_point": null,
           "dt": 1728662400,
           "feels_like": null,
           "humidity": 60,
           "pop": null,
           "pressure": 1007,
           "rain": null,
           "temp": 301,
           "uvi": null,
           "visibility": 10000,
           "weather": null,
           "wind_deg": 335,
           "wind_gust": 11,
           "wind_speed": null
          },
          {
           "clouds": 99,
           "dew_point": null,
           "dt": 1728666000,
           "feels_like": null,
           "humidity": 93,
           "pop": 1,
           "pressure": 1006,
           "rain": null,
           "temp": null,
           "uvi": null,
           "visibility": 2526,
           "weather": null,
           "wind_deg": 283,
           "wind_gust": null,
           "wind_speed": null
          },
          {
           "clouds": 100,
           "dew_point": null,
           "dt": 1728669600,
           "feels_like": null,
           "humidity": 94,
           "pop": 1,
           "pressure": 1007,
           "rain": null,
           "temp": null,
           "uvi": null,
           "visibility": 10000,
           "weather": null,
           "wind_deg": 266,
           "wind_gust": null,
           "wind_speed": null
          },
          {
           "clouds": 100,
           "dew_point": null,
           "dt": 1728673200,
           "feels_like": null,
           "humidity": 94,
           "pop": null,
           "pressure": 1006,
           "temp": null,
           "uvi": null,
           "visibility": 10000,
           "weather": null,
           "wind_deg": 280,
           "wind_gust": null,
           "wind_speed": null
          },
          {
           "clouds": 100,
           "dew_point": null,
           "dt": 1728676800,
           "feels_like": null,
           "humidity": 93,
           "pop": null,
           "pressure": 1007,
           "temp": null,
           "uvi": null,
           "visibility": 10000,
           "weather": null,
           "wind_deg": 286,
           "wind_gust": null,
           "wind_speed": null
          },
          {
           "clouds": 100,
           "dew_point": null,
           "dt": 1728680400,
           "feels_like": null,
           "humidity": 89,
           "pop": null,
           "pressure": 1006,
           "temp": null,
           "uvi": null,
           "visibility": 10000,
           "weather": null,
           "wind_deg": 266,
           "wind_gust": null,
           "wind_speed": null
          },
          {
           "clouds": 78,
           "dew_point": null,
           "dt": 1728684000,
           "feels_like": null,
           "humidity": 90,
           "pop": 0,
           "pressure": 1008,
           "temp": null,
           "uvi": 0,
           "visibility": 10000,
           "weather": null,
           "wind_deg": 279,
           "wind_gust": null,
           "wind_speed": null
          },
          {
           "clouds": 81,
           "dew_point": null,
           "dt": 1728687600,
           "feels_like": null,
           "humidity": 91,
           "pop": null,
           "pressure": 1010,
           "rain": null,
           "temp": null,
           "uvi": 0,
           "visibility": 10000,
           "weather": null,
           "wind_deg": 262,
           "wind_gust": null,
           "wind_speed": null
          }
         ],
         -22.9778,
         -49.8682,
         [
          {
           "dt": 1728518520,
           "precipitation": null
          },
          {
           "dt": 1728518580,
           "precipitation": null
          },
          {
           "dt": 1728518640,
           "precipitation": null
          },
          {
           "dt": 1728518700,
           "precipitation": null
          },
          {
           "dt": 1728518760,
           "precipitation": null
          },
          {
           "dt": 1728518820,
           "precipitation": null
          },
          {
           "dt": 1728518880,
           "precipitation": null
          },
          {
           "dt": 1728518940,
           "precipitation": null
          },
          {
           "dt": 1728519000,
           "precipitation": null
          },
          {
           "dt": 1728519060,
           "precipitation": null
          },
          {
           "dt": 1728519120,
           "precipitation": null
          },
          {
           "dt": 1728519180,
           "precipitation": null
          },
          {
           "dt": 1728519240,
           "precipitation": null
          },
          {
           "dt": 1728519300,
           "precipitation": null
          },
          {
           "dt": 1728519360,
           "precipitation": null
          },
          {
           "dt": 1728519420,
           "precipitation": null
          },
          {
           "dt": 1728519480,
           "precipitation": null
          },
          {
           "dt": 1728519540,
           "precipitation": null
          },
          {
           "dt": 1728519600,
           "precipitation": null
          },
          {
           "dt": 1728519660,
           "precipitation": null
          },
          {
           "dt": 1728519720,
           "precipitation": null
          },
          {
           "dt": 1728519780,
           "precipitation": null
          },
          {
           "dt": 1728519840,
           "precipitation": null
          },
          {
           "dt": 1728519900,
           "precipitation": null
          },
          {
           "dt": 1728519960,
           "precipitation": null
          },
          {
           "dt": 1728520020,
           "precipitation": null
          },
          {
           "dt": 1728520080,
           "precipitation": null
          },
          {
           "dt": 1728520140,
           "precipitation": null
          },
          {
           "dt": 1728520200,
           "precipitation": null
          },
          {
           "dt": 1728520260,
           "precipitation": null
          },
          {
           "dt": 1728520320,
           "precipitation": null
          },
          {
           "dt": 1728520380,
           "precipitation": null
          },
          {
           "dt": 1728520440,
           "precipitation": null
          },
          {
           "dt": 1728520500,
           "precipitation": null
          },
          {
           "dt": 1728520560,
           "precipitation": null
          },
          {
           "dt": 1728520620,
           "precipitation": null
          },
          {
           "dt": 1728520680,
           "precipitation": null
          },
          {
           "dt": 1728520740,
           "precipitation": null
          },
          {
           "dt": 1728520800,
           "precipitation": null
          },
          {
           "dt": 1728520860,
           "precipitation": null
          },
          {
           "dt": 1728520920,
           "precipitation": null
          },
          {
           "dt": 1728520980,
           "precipitation": null
          },
          {
           "dt": 1728521040,
           "precipitation": null
          },
          {
           "dt": 1728521100,
           "precipitation": null
          },
          {
           "dt": 1728521160,
           "precipitation": null
          },
          {
           "dt": 1728521220,
           "precipitation": null
          },
          {
           "dt": 1728521280,
           "precipitation": 0
          },
          {
           "dt": 1728521340,
           "precipitation": 0
          },
          {
           "dt": 1728521400,
           "precipitation": 0
          },
          {
           "dt": 1728521460,
           "precipitation": 0
          },
          {
           "dt": 1728521520,
           "precipitation": 0
          },
          {
           "dt": 1728521580,
           "precipitation": 0
          },
          {
           "dt": 1728521640,
           "precipitation": 0
          },
          {
           "dt": 1728521700,
           "precipitation": 0
          },
          {
           "dt": 1728521760,
           "precipitation": 0
          },
          {
           "dt": 1728521820,
           "precipitation": 0
          },
          {
           "dt": 1728521880,
           "precipitation": 0
          },
          {
           "dt": 1728521940,
           "precipitation": 0
          },
          {
           "dt": 1728522000,
           "precipitation": 0
          },
          {
           "dt": 1728522060,
           "precipitation": 0
          }
         ],
         "America/Sao_Paulo",
         -10800,
         [
          {
           "description": "INMET publica aviso iniciando em: 09/10/2024 09:50. Chuva entre 20 e 30 mm/h ou até 50 mm/dia, ventos intensos (40-60 km/h), e queda de granizo. Baixo risco de corte de energia elétrica, estragos em plantações, queda de galhos de árvores e de alagamentos.",
           "end": "1728565200",
           "event": "Tempestade",
           "sender_name": "Instituto Nacional de Meteorologia",
           "start": "1728478200",
           "tags": "[Wind]"
          }
         ]
        ],
        [
         {
          "clouds": 0,
          "dew_point": null,
          "dt": 1728518515,
          "feels_like": null,
          "humidity": 65,
          "pressure": 1012,
          "sunrise": 1728464212,
          "sunset": 1728507892,
          "temp": null,
          "uvi": 0,
          "visibility": 10000,
          "weather": null,
          "wind_deg": 30,
          "wind_speed": null
         },
         [
          {
           "clouds": 73,
           "dew_point": null,
           "dt": 1728486000,
           "feels_like": null,
           "humidity": 40,
           "moon_phase": null,
           "moonrise": 1728482820,
           "moonset": 1728528060,
           "pop": 0,
           "pressure": 1012,
           "summary": null,
           "sunrise": 1728464212,
           "sunset": 1728507892,
           "temp": null,
           "uvi": null,
           "weather": null,
           "wind_deg": 344,
           "wind_gust": null,
           "wind_speed": null
          },
          {
           "clouds": 59,
           "dew_point": null,
           "dt": 1728572400,
           "feels_like": null,
           "humidity": 51,
           "moon_phase": null,
           "moonrise": 1728572640,
           "moonset": 0,
           "pop": 0,
           "pressure": 1011,
           "summary": null,
           "sunrise": 1728550593,
           "sunset": 1728594278,
           "temp": null,
           "uvi": null,
           "weather": null,
           "wind_deg": 355,
           "wind_gust": null,
           "wind_speed": null
          },
          {
           "clouds": 63,
           "dew_point": null,
           "dt": 1728658800,
           "feels_like": null,
           "humidity": 46,
           "moon_phase": null,
           "moonrise": 1728662460,
           "moonset": 1728617820,
           "pop": null,
           "pressure": 1010,
           "rain": null,
           "summary": null,
           "sunrise": 1728636975,
           "sunset": 1728680665,
           "temp": null,
           "uvi": null,
           "weather": null,
           "wind_deg": 342,
           "wind_gust": null,
           "wind_speed": null
          },
          {
           "clouds": 68,
           "dew_point": null,
           "dt": 1728745200,
           "feels_like": null,
           "humidity": 39,
           "moon_phase": null,
           "moonrise": 1728752160,
           "moonset": 1728707580,
           "pop": 0,
           "pressure": 1012,
           "summary": null,
           "sunrise": 1728723357,
           "sunset": 1728767052,
           "temp": null,
           "uvi": null,
           "weather": null,
           "wind_deg": 333,
           "wind_gust": null,
           "wind_speed": null
          },
          {
           "clouds": 58,
           "dew_point": null,
           "dt": 1728828000,
           "feels_like": null,
           "humidity": 38,
           "moon_phase": null,
           "moonrise": 1728841800,
           "moonset": 1728797160,
           "pop": 0,
           "pressure": 1013,
           "summary": null,
           "sunrise": 1728809740,
           "sunset": 1728853440,
           "temp": null,
           "uvi": null,
           "weather": null,
           "wind_deg": 346,
           "wind_gust": null,
           "wind_speed": null
          },
          {
           "clouds": 0,
           "dew_point": null,
           "dt": 1728914400,
           "feels_like": null,
           "humidity": 41,
           "moon_phase": null,
           "moonrise": 1728931320,
           "moonset": 1728886680,
           "pop": 0,
           "pressure": 1012,
           "summary": null,
           "sunrise": 1728896123,
           "sunset": 1728939829,
           "temp": null,
           "uvi": null,
           "weather": null,
           "wind_deg": 348,
           "wind_gust": null,
           "wind_speed": null
          },
          {
           "clouds": 26,
           "dew_point": null,
           "dt": 1729000800,
           "feels_like": null,
           "humidity": 45,
           "moon_phase": null,
           "moonrise": 1729020780,
           "moonset": 1728976080,
           "pop": 0,
           "pressure": 1011,
           "summary": null,
           "sunrise": 1728982507,
           "sunset": 1729026218,
           "temp": null,
           "uvi": 5,
           "weather": null,
           "wind_deg": 355,
           "wind_gust": 10,
           "wind_speed": null
          },
          {
           "clouds": 5,
           "dew_point": null,
           "dt": 1729087200,
           "feels_like": null,
           "humidity": 43,
           "moon_phase": null,
           "moonrise": 1729110360,
           "moonset": 1729065480,
           "pop": 0,
           "pressure": 1011,
           "summary": null,
           "sunrise": 1729068892,
           "sunset": 1729112607,
           "temp": null,
           "uvi": 5,
           "weather": null,
           "wind_deg": 350,
           "wind_gust": null,
           "wind_speed": null
          }
         ],
         [
          {
           "clouds": 0,
           "dew_point": null,
           "dt": 1728518400,
           "feels_like": null,
           "humidity": 65,
           "pop": 0,
           "pressure": 1012,
           "temp": null,
           "uvi": 0,
           "visibility": 10000,
           "weather": null,
           "wind_deg": 31,
           "wind_gust": null,
           "wind_speed": null
          },
          {
           "clouds": 20,
           "dew_point": null,
           "dt": 1728522000,
           "feels_like": null,
           "humidity": 68,
           "pop": 0,
           "pressure": 1012,
           "temp": null,
           "uvi": 0,
           "visibility": 10000,
           "weather": null,
           "wind_deg": 39,
           "wind_gust": null,
           "wind_speed": null
          },
          {
           "clouds": 30,
           "dew_point": null,
           "dt": 1728525600,
           "feels_like": null,
           "humidity": 73,
           "pop": 0,
           "pressure": 1012,
           "temp": null,
           "uvi": 0,
           "visibility": 10000,
           "weather": null,
           "wind_deg": 45,
           "wind_gust": null,
           "wind_speed": null
          },
          {
           "clouds": 33,
           "dew_point": null,
           "dt": 1728529200,
           "feels_like": null,
           "humidity": 79,
           "pop": 0,
           "pressure": 1012,
           "temp": null,
           "uvi": 0,
           "visibility": 10000,
           "weather": null,
           "wind_deg": 46,
           "wind_gust": null,
           "wind_speed": null
          },
          {
           "clouds": 35,
           "dew_point": null,
           "dt": 1728532800,
           "feels_like": null,
           "humidity": 85,
           "pop": 0,
           "pressure": 1012,
           "temp": null,
           "uvi": 0,
           "visibility": 10000,
           "weather": null,
           "wind_deg": 48,
           "wind_gust": null,
           "wind_speed": null
          },
          {
           "clouds": 38,
           "dew_point": null,
           "dt": 1728536400,
           "feels_like": null,
           "humidity": 92,
           "pop": 0,
           "pressure": 1011,
           "temp": null,
           "uvi": 0,
           "visibility": 10000,
           "weather": null,
           "wind_deg": 55,
           "wind_gust": null,
           "wind_speed": null
          },
          {
           "clouds": 34,
           "dew_point": null,
           "dt": 1728540000,
           "feels_like": null,
           "humidity": 95,
           "pop": 0,
           "pressure": 1010,
           "temp": null,
           "uvi": 0,
           "visibility": 10000,
           "weather": null,
           "wind_deg": 56,
           "wind_gust": null,
           "wind_speed": null
          },
          {
           "clouds": 22,
           "dew_point": null,
           "dt": 1728543600,
           "feels_like": null,
           "humidity": 96,
           "pop": 0,
           "pressure": 1010,
           "temp": null,
           "uvi": 0,
           "visibility": 10000,
           "weather": null,
           "wind_deg": 46,
           "wind_gust": null,
           "wind_speed": null
          },
          {
           "clouds": 22,
           "dew_point": null,
           "dt": 1728547200,
           "feels_like": null,
           "humidity": 95,
           "pop": 0,
           "pressure": 1010,
           "temp": null,
           "uvi": 0,
           "visibility": 10000,
           "weather": null,
           "wind_deg": 53,
           "wind_gust": null,
           "wind_speed": null
          },
          {
           "clouds": 22,
           "dew_point": null,
           "dt": 1728550800,
           "feels_like": null,
           "humidity": 95,
           "pop": 0,
           "pressure": 1010,
           "temp": null,
           "uvi": 0,
           "visibility": 10000,
           "weather": null,
           "wind_deg": 58,
           "wind_gust": null,
           "wind_speed": null
          },
          {
           "clouds": 22,
           "dew_point": 296,
           "dt": 1728554400,
           "feels_like": null,
           "humidity": 87,
           "pop": 0,
           "pressure": 1011,
           "temp": null,
           "uvi": null,
           "visibility": 10000,
           "weather": null,
           "wind_deg": 54,
           "wind_gust": null,
           "wind_speed": null
          },
          {
           "clouds": 22,
           "dew_point": null,
           "dt": 1728558000,
           "feels_like": null,
           "humidity": 74,
           "pop": 0,
           "pressure": 1012,
           "temp": null,
           "uvi": null,
           "visibility": 10000,
           "weather": null,
           "wind_deg": 44,
           "wind_gust": null,
           "wind_speed": null
          },
          {
           "clouds": 25,
           "dew_point": null,
           "dt": 1728561600,
           "feels_like": null,
           "humidity": 61,
           "pop": 0,
           "pressure": 1012,
           "temp": null,
           "uvi": null,
           "visibility": 10000,
           "weather": null,
           "wind_deg": 32,
           "wind_gust": null,
           "wind_speed": null
          },
          {
           "clouds": 36,
           "dew_point": null,
           "dt": 1728565200,
           "feels_like": null,
           "humidity": 51,
           "pop": 0,
           "pressure": 1012,
           "temp": null,
           "uvi": null,
           "visibility": 10000,
           "weather": null,
           "wind_deg": 1,
           "wind_gust": null,
           "wind_speed": null
          },
          {
           "clouds": 44,
           "dew_point": null,
           "dt": 1728568800,
           "feels_like": null,
           "humidity": 49,
           "pop": 0,
           "pressure": 1012,
           "temp": null,
           "uvi": null,
           "visibility": 10000,
           "weather": null,
           "wind_deg": 340,
           "wind_gust": null,
           "wind_speed": null
          },
          {
           "clouds": 59,
           "dew_point": null,
           "dt": 1728572400,
           "feels_like": null,
           "humidity": 51,
           "pop": 0,
           "pressure": 1011,
           "temp": null,
           "uvi": null,
           "visibility": 10000,
           "weather": null,
           "wind_deg": 337,
           "wind_gust": null,
           "wind_speed": null
          },
          {
           "clouds": 69,
           "dew_point": null,
           "dt": 1728576000,
           "feels_like": null,
           "humidity": 53,
           "pop": 0,
           "pressure": 1010,
           "temp": null,
           "uvi": null,
           "visibility": 10000,
           "weather": null,
           "wind_deg": 338,
           "wind_gust": null,
           "wind_speed": null
          },
          {
           "clouds": 61,
           "dew_point": null,
           "dt": 1728579600,
           "feels_like": null,
           "humidity": 54,
           "pop": 0,
           "pressure": 1009,
           "temp": null,
           "uvi": null,
           "visibility": 10000,
           "weather": null,
           "wind_deg": 339,
           "wind_gust": null,
           "wind_speed": 5
          },
          {
           "clouds": 59,
           "dew_point": null,
           "dt": 1728583200,
           "feels_like": null,
           "humidity": 60,
           "pop": 0,
           "pressure": 1008,
           "temp": null,
           "uvi": null,
           "visibility": 10000,
           "weather": null,
           "wind_deg": 346,
           "wind_gust": null,
           "wind_speed": null
          },
          {
           "clouds": 71,
           "dew_point": null,
           "dt": 1728586800,
           "feels_like": null,
           "humidity": 63,
           "pop": 0,
           "pressure": 1008,
           "temp": null,
           "uvi": null,
           "visibility": 10000,
           "weather": null,
           "wind_deg": 355,
           "wind_gust": null,
           "wind_speed": null
          },
          {
           "clouds": 84,
           "dew_point": null,
           "dt": 1728590400,
           "feels_like": null,
           "humidity": 74,
           "pop": 0,
           "pressure": 1008,
           "temp": null,
           "uvi": null,
           "visibility": 10000,
           "weather": null,
           "wind_deg": 0,
           "wind_gust": null,
           "wind_speed": null
          },
          {
           "clouds": 85,
           "dew_point": null,
           "dt": 1728594000,
           "feels_like": null,
           "humidity": 75,
           "pop": 0,
           "pressure": 1009,
           "temp": null,
           "uvi": 0,
           "visibility": 10000,
           "weather": null,
           "wind_deg": 17,
           "wind_gust": null,
           "wind_speed": null
          },
          {
           "clouds": 69,
           "dew_point": null,
           "dt": 1728597600,
           "feels_like": null,
           "humidity": 77,
           "pop": 0,
           "pressure": 1009,
           "temp": null,
           "uvi": 0,
           "visibility": 10000,
           "weather": null,
           "wind_deg": 11,
           "wind_gust": null,
           "wind_speed": null
          },
          {
           "clouds": 75,
           "dew_point": null,
           "dt": 1728601200,
           "feels_like": null,
           "humidity": 77,
           "pop": 0,
           "pressure": 1010,
           "temp": null,
           "uvi": 0,
           "visibility": 10000,
           "weather": null,
           "wind_deg": 27,
           "wind_gust": null,
           "wind_speed": null
          },
          {
           "clouds": 78,
           "dew_point": null,
           "dt": 1728604800,
           "feels_like": null,
           "humidity": 79,
           "pop": 0,
           "pressure": 1010,
           "temp": null,
           "uvi": 0,
           "visibility": 10000,
           "weather": null,
           "wind_deg": 42,
           "wind_gust": null,
           "wind_speed": null
          },
          {
           "clouds": 21,
           "dew_point": null,
           "dt": 1728608400,
           "feels_like": null,
           "humidity": 82,
           "pop": 0,
           "pressure": 1011,
           "temp": null,
           "uvi": 0,
           "visibility": 10000,
           "weather": null,
           "wind_deg": 40,
           "wind_gust": null,
           "wind_speed": null
          },
          {
           "clouds": 62,
           "dew_point": null,
           "dt": 1728612000,
           "feels_like": null,
           "humidity": 84,
           "pop": 0,
           "pressure": 1012,
           "temp": null,
           "uvi": 0,
           "visibility": 10000,
           "weather": null,
           "wind_deg": 63,
           "wind_gust": null,
           "wind_speed": null
          },
          {
           "clouds": 75,
           "dew_point": null,
           "dt": 1728615600,
           "feels_like": null,
           "humidity": 85,
           "pop": 0,
           "pressure": 1011,
           "temp": null,
           "uvi": 0,
           "visibility": 10000,
           "weather": null,
           "wind_deg": 47,
           "wind_gust": null,
           "wind_speed": null
          },
          {
           "clouds": 67,
           "dew_point": null,
           "dt": 1728619200,
           "feels_like": null,
           "humidity": 85,
           "pop": 0,
           "pressure": 1010,
           "temp": null,
           "uvi": 0,
           "visibility": 10000,
           "weather": null,
           "wind_deg": 48,
           "wind_gust": null,
           "wind_speed": null
          },
          {
           "clouds": 61,
           "dew_point": null,
           "dt": 1728622800,
           "feels_like": null,
           "humidity": 87,
           "pop": 0,
           "pressure": 1009,
           "temp": null,
           "uvi": 0,
           "visibility": 10000,
           "weather": null,
           "wind_deg": 38,
           "wind_gust": null,
           "wind_speed": null
          },
          {
           "clouds": 59,
           "dew_point": null,
           "dt": 1728626400,
           "feels_like": null,
           "humidity": 88,
           "pop": 0,
           "pressure": 1008,
           "temp": null,
           "uvi": 0,
           "visibility": 10000,
           "weather": null,
           "wind_deg": 35,
           "wind_gust": null,
           "wind_speed": null
          },
          {
           "clouds": 14,
           "dew_point": null,
           "dt": 1728630000,
           "feels_like": null,
           "humidity": 90,
           "pop": 0,
           "pressure": 1008,
           "temp": 298,
           "uvi": 0,
           "visibility": 10000,
           "weather": null,
           "wind_deg": 41,
           "wind_gust": null,
           "wind_speed": null
          },
          {
           "clouds": 33,
           "dew_point": null,
           "dt": 1728633600,
           "feels_like": null,
           "humidity": 89,
           "pop": 0,
           "pressure": 1009,
           "temp": null,
           "uvi": 0,
           "visibility": 10000,
           "weather": null,
           "wind_deg": 49,
           "wind_gust": null,
           "wind_speed": null
          },
          {
           "clouds": 27,
           "dew_point": null,
           "dt": 1728637200,
           "feels_like": null,
           "humidity": 85,
           "pop": 0,
           "pressure": 1009,
           "temp": null,
           "uvi": 0,
           "visibility": 10000,
           "weather": null,
           "wind_deg": 46,
           "wind_gust": null,
           "wind_speed": null
          },
          {
           "clouds": 23,
           "dew_point": null,
           "dt": 1728640800,
           "feels_like": null,
           "humidity": 80,
           "pop": 0,
           "pressure": 1011,
           "temp": null,
           "uvi": null,
           "visibility": 10000,
           "weather": null,
           "wind_deg": 74,
           "wind_gust": null,
           "wind_speed": null
          },
          {
           "clouds": 31,
           "dew_point": null,
           "dt": 1728644400,
           "feels_like": null,
           "humidity": 71,
           "pop": 0,
           "pressure": 1011,
           "temp": null,
           "uvi": null,
           "visibility": 10000,
           "weather": null,
           "wind_deg": 65,
           "wind_gust": null,
           "wind_speed": null
          },
          {
           "clouds": 42,
           "dew_point": null,
           "dt": 1728648000,
           "feels_like": null,
           "humidity": 60,
           "pop": 0,
           "pressure": 1012,
           "temp": null,
           "uvi": null,
           "visibility": 10000,
           "weather": null,
           "wind_deg": 60,
           "wind_gust": null,
           "wind_speed": null
          },
          {
           "clouds": 91,
           "dew_point": null,
           "dt": 1728651600,
           "feels_like": null,
           "humidity": 50,
           "pop": 0,
           "pressure": 1012,
           "temp": null,
           "uvi": null,
           "visibility": 10000,
           "weather": null,
           "wind_deg": 47,
           "wind_gust": null,
           "wind_speed": null
          },
          {
           "clouds": 61,
           "dew_point": null,
           "dt": 1728655200,
           "feels_like": null,
           "humidity": 44,
           "pop": 0,
           "pressure": 1011,
           "temp": null,
           "uvi": null,
           "visibility": 10000,
           "weather": null,
           "wind_deg": 8,
           "wind_gust": null,
           "wind_speed": null
          },
          {
           "clouds": 63,
           "dew_point": null,
           "dt": 1728658800,
           "feels_like": null,
           "humidity": 46,
           "pop": 0,
           "pressure": 1010,
           "temp": null,
           "uvi": null,
           "visibility": 10000,
           "weather": null,
           "wind_deg": 345,
           "wind_gust": null,
           "wind_speed": null
          },
          {
           "clouds": 70,
           "dew_point": null,
           "dt": 1728662400,
           "feels_like": null,
           "humidity": 57,
           "pop": 0,
           "pressure": 1010,
           "temp": null,
           "uvi": null,
           "visibility": 10000,
           "weather": null,
           "wind_deg": 339,
           "wind_gust": null,
           "wind_speed": null
          },
          {
           "clouds": 74,
           "dew_point": null,
           "dt": 1728666000,
           "feels_like": null,
           "humidity": 57,
           "pop": 0,
           "pressure": 1009,
           "temp": null,
           "uvi": null,
           "visibility": 10000,
           "weather": null,
           "wind_deg": 339,
           "wind_gust": null,
           "wind_speed": null
          },
          {
           "clouds": 70,
           "dew_point": null,
           "dt": 1728669600,
           "feels_like": null,
           "humidity": 60,
           "pop": 0,
           "pressure": 1008,
           "temp": null,
           "uvi": null,
           "visibility": 10000,
           "weather": null,
           "wind_deg": 342,
           "wind_gust": null,
           "wind_speed": null
          },
          {
           "clouds": 44,
           "dew_point": null,
           "dt": 1728673200,
           "feels_like": null,
           "humidity": 69,
           "pop": 0,
           "pressure": 1008,
           "temp": null,
           "uvi": null,
           "visibility": 10000,
           "weather": null,
           "wind_deg": 345,
           "wind_gust": null,
           "wind_speed": null
          },
          {
           "clouds": 60,
           "dew_point": null,
           "dt": 1728676800,
           "feels_like": null,
           "humidity": 77,
           "pop": null,
           "pressure": 1008,
           "rain": null,
           "temp": null,
           "uvi": null,
           "visibility": 10000,
           "weather": null,
           "wind_deg": 8,
           "wind_gust": null,
           "wind_speed": null
          },
          {
           "clouds": 71,
           "dew_point": null,
           "dt": 1728680400,
           "feels_like": null,
           "humidity": 79,
           "pop": null,
           "pressure": 1008,
           "rain": null,
           "temp": null,
           "uvi": 0,
           "visibility": 10000,
           "weather": null,
           "wind_deg": 349,
           "wind_gust": null,
           "wind_speed": null
          },
          {
           "clouds": 78,
           "dew_point": null,
           "dt": 1728684000,
           "feels_like": null,
           "humidity": 77,
           "pop": null,
           "pressure": 1009,
           "temp": null,
           "uvi": 0,
           "visibility": 10000,
           "weather": null,
           "wind_deg": 40,
           "wind_gust": null,
           "wind_speed": null
          },
          {
           "clouds": 82,
           "dew_point": null,
           "dt": 1728687600,
           "feels_like": null,
           "humidity": 75,
           "pop": null,
           "pressure": 1011,
           "temp": null,
           "uvi": 0,
           "visibility": 10000,
           "weather": null,
           "wind_deg": 75,
           "wind_gust": null,
           "wind_speed": null
          }
         ],
         -1.4506,
         -48.4682,
         [
          {
           "dt": 1728518520,
           "precipitation": 0
          },
          {
           "dt": 1728518580,
           "precipitation": 0
          },
          {
           "dt": 1728518640,
           "precipitation": 0
          },
          {
           "dt": 1728518700,
           "precipitation": 0
          },
          {
           "dt": 1728518760,
           "precipitation": 0
          },
          {
           "dt": 1728518820,
           "precipitation": 0
          },
          {
           "dt": 1728518880,
           "precipitation": 0
          },
          {
           "dt": 1728518940,
           "precipitation": 0
          },
          {
           "dt": 1728519000,
           "precipitation": 0
          },
          {
           "dt": 1728519060,
           "precipitation": 0
          },
          {
           "dt": 1728519120,
           "precipitation": 0
          },
          {
           "dt": 1728519180,
           "precipitation": 0
          },
          {
           "dt": 1728519240,
           "precipitation": 0
          },
          {
           "dt": 1728519300,
           "precipitation": 0
          },
          {
           "dt": 1728519360,
           "precipitation": 0
          },
          {
           "dt": 1728519420,
           "precipitation": 0
          },
          {
           "dt": 1728519480,
           "precipitation": 0
          },
          {
           "dt": 1728519540,
           "precipitation": 0
          },
          {
           "dt": 1728519600,
           "precipitation": 0
          },
          {
           "dt": 1728519660,
           "precipitation": 0
          },
          {
           "dt": 1728519720,
           "precipitation": 0
          },
          {
           "dt": 1728519780,
           "precipitation": 0
          },
          {
           "dt": 1728519840,
           "precipitation": 0
          },
          {
           "dt": 1728519900,
           "precipitation": 0
          },
          {
           "dt": 1728519960,
           "precipitation": 0
          },
          {
           "dt": 1728520020,
           "precipitation": 0
          },
          {
           "dt": 1728520080,
           "precipitation": 0
          },
          {
           "dt": 1728520140,
           "precipitation": 0
          },
          {
           "dt": 1728520200,
           "precipitation": 0
          },
          {
           "dt": 1728520260,
           "precipitation": 0
          },
          {
           "dt": 1728520320,
           "precipitation": 0
          },
          {
           "dt": 1728520380,
           "precipitation": 0
          },
          {
           "dt": 1728520440,
           "precipitation": 0
          },
          {
           "dt": 1728520500,
           "precipitation": 0
          },
          {
           "dt": 1728520560,
           "precipitation": 0
          },
          {
           "dt": 1728520620,
           "precipitation": 0
          },
          {
           "dt": 1728520680,
           "precipitation": 0
          },
          {
           "dt": 1728520740,
           "precipitation": 0
          },
          {
           "dt": 1728520800,
           "precipitation": 0
          },
          {
           "dt": 1728520860,
           "precipitation": 0
          },
          {
           "dt": 1728520920,
           "precipitation": 0
          },
          {
           "dt": 1728520980,
           "precipitation": 0
          },
          {
           "dt": 1728521040,
           "precipitation": 0
          },
          {
           "dt": 1728521100,
           "precipitation": 0
          },
          {
           "dt": 1728521160,
           "precipitation": 0
          },
          {
           "dt": 1728521220,
           "precipitation": 0
          },
          {
           "dt": 1728521280,
           "precipitation": 0
          },
          {
           "dt": 1728521340,
           "precipitation": 0
          },
          {
           "dt": 1728521400,
           "precipitation": 0
          },
          {
           "dt": 1728521460,
           "precipitation": 0
          },
          {
           "dt": 1728521520,
           "precipitation": 0
          },
          {
           "dt": 1728521580,
           "precipitation": 0
          },
          {
           "dt": 1728521640,
           "precipitation": 0
          },
          {
           "dt": 1728521700,
           "precipitation": 0
          },
          {
           "dt": 1728521760,
           "precipitation": 0
          },
          {
           "dt": 1728521820,
           "precipitation": 0
          },
          {
           "dt": 1728521880,
           "precipitation": 0
          },
          {
           "dt": 1728521940,
           "precipitation": 0
          },
          {
           "dt": 1728522000,
           "precipitation": 0
          },
          {
           "dt": 1728522060,
           "precipitation": 0
          }
         ],
         "America/Belem",
         -10800,
         null
        ]
       ],
       "datasetInfos": [],
       "dbfsResultPath": null,
       "isJsonSchema": true,
       "metadata": {},
       "overflow": false,
       "plotOptions": {
        "customPlotOptions": {},
        "displayType": "table",
        "pivotAggregation": null,
        "pivotColumns": null,
        "xColumns": null,
        "yColumns": null
       },
       "removedWidgets": [],
       "schema": [
        {
         "metadata": "{}",
         "name": "current",
         "type": "{\"type\":\"map\",\"keyType\":\"string\",\"valueType\":\"long\",\"valueContainsNull\":true}"
        },
        {
         "metadata": "{}",
         "name": "daily",
         "type": "{\"type\":\"array\",\"elementType\":{\"type\":\"map\",\"keyType\":\"string\",\"valueType\":\"long\",\"valueContainsNull\":true},\"containsNull\":true}"
        },
        {
         "metadata": "{}",
         "name": "hourly",
         "type": "{\"type\":\"array\",\"elementType\":{\"type\":\"map\",\"keyType\":\"string\",\"valueType\":\"long\",\"valueContainsNull\":true},\"containsNull\":true}"
        },
        {
         "metadata": "{}",
         "name": "lat",
         "type": "\"double\""
        },
        {
         "metadata": "{}",
         "name": "lon",
         "type": "\"double\""
        },
        {
         "metadata": "{}",
         "name": "minutely",
         "type": "{\"type\":\"array\",\"elementType\":{\"type\":\"map\",\"keyType\":\"string\",\"valueType\":\"long\",\"valueContainsNull\":true},\"containsNull\":true}"
        },
        {
         "metadata": "{}",
         "name": "timezone",
         "type": "\"string\""
        },
        {
         "metadata": "{}",
         "name": "timezone_offset",
         "type": "\"long\""
        },
        {
         "metadata": "{}",
         "name": "alerts",
         "type": "{\"type\":\"array\",\"elementType\":{\"type\":\"map\",\"keyType\":\"string\",\"valueType\":\"string\",\"valueContainsNull\":true},\"containsNull\":true}"
        }
       ],
       "type": "table"
      }
     },
     "output_type": "display_data"
    }
   ],
   "source": [
    "spark.sql(\"select * from teste\").display()"
   ]
  },
  {
   "cell_type": "code",
   "execution_count": 0,
   "metadata": {
    "application/vnd.databricks.v1+cell": {
     "cellMetadata": {
      "byteLimit": 2048000,
      "rowLimit": 10000
     },
     "inputWidgets": {},
     "nuid": "dbea8c92-ca05-461a-b3b0-287b014618ef",
     "showTitle": false,
     "title": ""
    }
   },
   "outputs": [],
   "source": [
    "df_new = df_new.withColumn(\"coluna_teste\", explode(col(\"daily\")))"
   ]
  },
  {
   "cell_type": "code",
   "execution_count": 0,
   "metadata": {
    "application/vnd.databricks.v1+cell": {
     "cellMetadata": {
      "byteLimit": 2048000,
      "rowLimit": 10000
     },
     "inputWidgets": {},
     "nuid": "316a7e72-1586-47ae-9434-4f34c749385e",
     "showTitle": false,
     "title": ""
    }
   },
   "outputs": [],
   "source": [
    "df = df_new.selectExpr(\"coluna_teste.*\").dropDuplicates()"
   ]
  },
  {
   "cell_type": "code",
   "execution_count": 0,
   "metadata": {
    "application/vnd.databricks.v1+cell": {
     "cellMetadata": {
      "byteLimit": 2048000,
      "rowLimit": 10000
     },
     "inputWidgets": {},
     "nuid": "c64db36e-4c64-45c0-ae5c-2a4553e63120",
     "showTitle": false,
     "title": ""
    }
   },
   "outputs": [],
   "source": [
    "df.write.parquet(\"/FileStore/dados_ada/dados_diarios_openweather_raw\")"
   ]
  },
  {
   "cell_type": "code",
   "execution_count": 0,
   "metadata": {
    "application/vnd.databricks.v1+cell": {
     "cellMetadata": {
      "byteLimit": 2048000,
      "rowLimit": 10000
     },
     "inputWidgets": {},
     "nuid": "8ed5630e-02a0-4e1b-9674-8acd572a4530",
     "showTitle": false,
     "title": ""
    }
   },
   "outputs": [
    {
     "output_type": "display_data",
     "data": {
      "text/plain": [
       "\u001B[0;31m---------------------------------------------------------------------------\u001B[0m\n",
       "\u001B[0;31mAnalysisException\u001B[0m                         Traceback (most recent call last)\n",
       "File \u001B[0;32m<command-1615730093238128>:1\u001B[0m\n",
       "\u001B[0;32m----> 1\u001B[0m \u001B[43mdf\u001B[49m\u001B[38;5;241;43m.\u001B[39;49m\u001B[43mwrite\u001B[49m\u001B[38;5;241;43m.\u001B[39;49m\u001B[43mcsv\u001B[49m\u001B[43m(\u001B[49m\u001B[38;5;124;43m\"\u001B[39;49m\u001B[38;5;124;43m/FileStore/dados_ada/dados_diarios_openweather_csv\u001B[39;49m\u001B[38;5;124;43m\"\u001B[39;49m\u001B[43m)\u001B[49m\n",
       "\n",
       "File \u001B[0;32m/databricks/spark/python/pyspark/instrumentation_utils.py:48\u001B[0m, in \u001B[0;36m_wrap_function.<locals>.wrapper\u001B[0;34m(*args, **kwargs)\u001B[0m\n",
       "\u001B[1;32m     46\u001B[0m start \u001B[38;5;241m=\u001B[39m time\u001B[38;5;241m.\u001B[39mperf_counter()\n",
       "\u001B[1;32m     47\u001B[0m \u001B[38;5;28;01mtry\u001B[39;00m:\n",
       "\u001B[0;32m---> 48\u001B[0m     res \u001B[38;5;241m=\u001B[39m \u001B[43mfunc\u001B[49m\u001B[43m(\u001B[49m\u001B[38;5;241;43m*\u001B[39;49m\u001B[43margs\u001B[49m\u001B[43m,\u001B[49m\u001B[43m \u001B[49m\u001B[38;5;241;43m*\u001B[39;49m\u001B[38;5;241;43m*\u001B[39;49m\u001B[43mkwargs\u001B[49m\u001B[43m)\u001B[49m\n",
       "\u001B[1;32m     49\u001B[0m     logger\u001B[38;5;241m.\u001B[39mlog_success(\n",
       "\u001B[1;32m     50\u001B[0m         module_name, class_name, function_name, time\u001B[38;5;241m.\u001B[39mperf_counter() \u001B[38;5;241m-\u001B[39m start, signature\n",
       "\u001B[1;32m     51\u001B[0m     )\n",
       "\u001B[1;32m     52\u001B[0m     \u001B[38;5;28;01mreturn\u001B[39;00m res\n",
       "\n",
       "File \u001B[0;32m/databricks/spark/python/pyspark/sql/readwriter.py:1798\u001B[0m, in \u001B[0;36mDataFrameWriter.csv\u001B[0;34m(self, path, mode, compression, sep, quote, escape, header, nullValue, escapeQuotes, quoteAll, dateFormat, timestampFormat, ignoreLeadingWhiteSpace, ignoreTrailingWhiteSpace, charToEscapeQuoteEscaping, encoding, emptyValue, lineSep)\u001B[0m\n",
       "\u001B[1;32m   1779\u001B[0m \u001B[38;5;28mself\u001B[39m\u001B[38;5;241m.\u001B[39mmode(mode)\n",
       "\u001B[1;32m   1780\u001B[0m \u001B[38;5;28mself\u001B[39m\u001B[38;5;241m.\u001B[39m_set_opts(\n",
       "\u001B[1;32m   1781\u001B[0m     compression\u001B[38;5;241m=\u001B[39mcompression,\n",
       "\u001B[1;32m   1782\u001B[0m     sep\u001B[38;5;241m=\u001B[39msep,\n",
       "\u001B[0;32m   (...)\u001B[0m\n",
       "\u001B[1;32m   1796\u001B[0m     lineSep\u001B[38;5;241m=\u001B[39mlineSep,\n",
       "\u001B[1;32m   1797\u001B[0m )\n",
       "\u001B[0;32m-> 1798\u001B[0m \u001B[38;5;28;43mself\u001B[39;49m\u001B[38;5;241;43m.\u001B[39;49m\u001B[43m_jwrite\u001B[49m\u001B[38;5;241;43m.\u001B[39;49m\u001B[43mcsv\u001B[49m\u001B[43m(\u001B[49m\u001B[43mpath\u001B[49m\u001B[43m)\u001B[49m\n",
       "\n",
       "File \u001B[0;32m/databricks/spark/python/lib/py4j-0.10.9.5-src.zip/py4j/java_gateway.py:1321\u001B[0m, in \u001B[0;36mJavaMember.__call__\u001B[0;34m(self, *args)\u001B[0m\n",
       "\u001B[1;32m   1315\u001B[0m command \u001B[38;5;241m=\u001B[39m proto\u001B[38;5;241m.\u001B[39mCALL_COMMAND_NAME \u001B[38;5;241m+\u001B[39m\\\n",
       "\u001B[1;32m   1316\u001B[0m     \u001B[38;5;28mself\u001B[39m\u001B[38;5;241m.\u001B[39mcommand_header \u001B[38;5;241m+\u001B[39m\\\n",
       "\u001B[1;32m   1317\u001B[0m     args_command \u001B[38;5;241m+\u001B[39m\\\n",
       "\u001B[1;32m   1318\u001B[0m     proto\u001B[38;5;241m.\u001B[39mEND_COMMAND_PART\n",
       "\u001B[1;32m   1320\u001B[0m answer \u001B[38;5;241m=\u001B[39m \u001B[38;5;28mself\u001B[39m\u001B[38;5;241m.\u001B[39mgateway_client\u001B[38;5;241m.\u001B[39msend_command(command)\n",
       "\u001B[0;32m-> 1321\u001B[0m return_value \u001B[38;5;241m=\u001B[39m \u001B[43mget_return_value\u001B[49m\u001B[43m(\u001B[49m\n",
       "\u001B[1;32m   1322\u001B[0m \u001B[43m    \u001B[49m\u001B[43manswer\u001B[49m\u001B[43m,\u001B[49m\u001B[43m \u001B[49m\u001B[38;5;28;43mself\u001B[39;49m\u001B[38;5;241;43m.\u001B[39;49m\u001B[43mgateway_client\u001B[49m\u001B[43m,\u001B[49m\u001B[43m \u001B[49m\u001B[38;5;28;43mself\u001B[39;49m\u001B[38;5;241;43m.\u001B[39;49m\u001B[43mtarget_id\u001B[49m\u001B[43m,\u001B[49m\u001B[43m \u001B[49m\u001B[38;5;28;43mself\u001B[39;49m\u001B[38;5;241;43m.\u001B[39;49m\u001B[43mname\u001B[49m\u001B[43m)\u001B[49m\n",
       "\u001B[1;32m   1324\u001B[0m \u001B[38;5;28;01mfor\u001B[39;00m temp_arg \u001B[38;5;129;01min\u001B[39;00m temp_args:\n",
       "\u001B[1;32m   1325\u001B[0m     temp_arg\u001B[38;5;241m.\u001B[39m_detach()\n",
       "\n",
       "File \u001B[0;32m/databricks/spark/python/pyspark/errors/exceptions.py:234\u001B[0m, in \u001B[0;36mcapture_sql_exception.<locals>.deco\u001B[0;34m(*a, **kw)\u001B[0m\n",
       "\u001B[1;32m    230\u001B[0m converted \u001B[38;5;241m=\u001B[39m convert_exception(e\u001B[38;5;241m.\u001B[39mjava_exception)\n",
       "\u001B[1;32m    231\u001B[0m \u001B[38;5;28;01mif\u001B[39;00m \u001B[38;5;129;01mnot\u001B[39;00m \u001B[38;5;28misinstance\u001B[39m(converted, UnknownException):\n",
       "\u001B[1;32m    232\u001B[0m     \u001B[38;5;66;03m# Hide where the exception came from that shows a non-Pythonic\u001B[39;00m\n",
       "\u001B[1;32m    233\u001B[0m     \u001B[38;5;66;03m# JVM exception message.\u001B[39;00m\n",
       "\u001B[0;32m--> 234\u001B[0m     \u001B[38;5;28;01mraise\u001B[39;00m converted \u001B[38;5;28;01mfrom\u001B[39;00m \u001B[38;5;28mNone\u001B[39m\n",
       "\u001B[1;32m    235\u001B[0m \u001B[38;5;28;01melse\u001B[39;00m:\n",
       "\u001B[1;32m    236\u001B[0m     \u001B[38;5;28;01mraise\u001B[39;00m\n",
       "\n",
       "\u001B[0;31mAnalysisException\u001B[0m: Column `feels_like` has a data type of struct<day:double,eve:double,morn:double,night:double>, which is not supported by CSV."
      ]
     },
     "metadata": {
      "application/vnd.databricks.v1+output": {
       "arguments": {},
       "data": "\u001B[0;31m---------------------------------------------------------------------------\u001B[0m\n\u001B[0;31mAnalysisException\u001B[0m                         Traceback (most recent call last)\nFile \u001B[0;32m<command-1615730093238128>:1\u001B[0m\n\u001B[0;32m----> 1\u001B[0m \u001B[43mdf\u001B[49m\u001B[38;5;241;43m.\u001B[39;49m\u001B[43mwrite\u001B[49m\u001B[38;5;241;43m.\u001B[39;49m\u001B[43mcsv\u001B[49m\u001B[43m(\u001B[49m\u001B[38;5;124;43m\"\u001B[39;49m\u001B[38;5;124;43m/FileStore/dados_ada/dados_diarios_openweather_csv\u001B[39;49m\u001B[38;5;124;43m\"\u001B[39;49m\u001B[43m)\u001B[49m\n\nFile \u001B[0;32m/databricks/spark/python/pyspark/instrumentation_utils.py:48\u001B[0m, in \u001B[0;36m_wrap_function.<locals>.wrapper\u001B[0;34m(*args, **kwargs)\u001B[0m\n\u001B[1;32m     46\u001B[0m start \u001B[38;5;241m=\u001B[39m time\u001B[38;5;241m.\u001B[39mperf_counter()\n\u001B[1;32m     47\u001B[0m \u001B[38;5;28;01mtry\u001B[39;00m:\n\u001B[0;32m---> 48\u001B[0m     res \u001B[38;5;241m=\u001B[39m \u001B[43mfunc\u001B[49m\u001B[43m(\u001B[49m\u001B[38;5;241;43m*\u001B[39;49m\u001B[43margs\u001B[49m\u001B[43m,\u001B[49m\u001B[43m \u001B[49m\u001B[38;5;241;43m*\u001B[39;49m\u001B[38;5;241;43m*\u001B[39;49m\u001B[43mkwargs\u001B[49m\u001B[43m)\u001B[49m\n\u001B[1;32m     49\u001B[0m     logger\u001B[38;5;241m.\u001B[39mlog_success(\n\u001B[1;32m     50\u001B[0m         module_name, class_name, function_name, time\u001B[38;5;241m.\u001B[39mperf_counter() \u001B[38;5;241m-\u001B[39m start, signature\n\u001B[1;32m     51\u001B[0m     )\n\u001B[1;32m     52\u001B[0m     \u001B[38;5;28;01mreturn\u001B[39;00m res\n\nFile \u001B[0;32m/databricks/spark/python/pyspark/sql/readwriter.py:1798\u001B[0m, in \u001B[0;36mDataFrameWriter.csv\u001B[0;34m(self, path, mode, compression, sep, quote, escape, header, nullValue, escapeQuotes, quoteAll, dateFormat, timestampFormat, ignoreLeadingWhiteSpace, ignoreTrailingWhiteSpace, charToEscapeQuoteEscaping, encoding, emptyValue, lineSep)\u001B[0m\n\u001B[1;32m   1779\u001B[0m \u001B[38;5;28mself\u001B[39m\u001B[38;5;241m.\u001B[39mmode(mode)\n\u001B[1;32m   1780\u001B[0m \u001B[38;5;28mself\u001B[39m\u001B[38;5;241m.\u001B[39m_set_opts(\n\u001B[1;32m   1781\u001B[0m     compression\u001B[38;5;241m=\u001B[39mcompression,\n\u001B[1;32m   1782\u001B[0m     sep\u001B[38;5;241m=\u001B[39msep,\n\u001B[0;32m   (...)\u001B[0m\n\u001B[1;32m   1796\u001B[0m     lineSep\u001B[38;5;241m=\u001B[39mlineSep,\n\u001B[1;32m   1797\u001B[0m )\n\u001B[0;32m-> 1798\u001B[0m \u001B[38;5;28;43mself\u001B[39;49m\u001B[38;5;241;43m.\u001B[39;49m\u001B[43m_jwrite\u001B[49m\u001B[38;5;241;43m.\u001B[39;49m\u001B[43mcsv\u001B[49m\u001B[43m(\u001B[49m\u001B[43mpath\u001B[49m\u001B[43m)\u001B[49m\n\nFile \u001B[0;32m/databricks/spark/python/lib/py4j-0.10.9.5-src.zip/py4j/java_gateway.py:1321\u001B[0m, in \u001B[0;36mJavaMember.__call__\u001B[0;34m(self, *args)\u001B[0m\n\u001B[1;32m   1315\u001B[0m command \u001B[38;5;241m=\u001B[39m proto\u001B[38;5;241m.\u001B[39mCALL_COMMAND_NAME \u001B[38;5;241m+\u001B[39m\\\n\u001B[1;32m   1316\u001B[0m     \u001B[38;5;28mself\u001B[39m\u001B[38;5;241m.\u001B[39mcommand_header \u001B[38;5;241m+\u001B[39m\\\n\u001B[1;32m   1317\u001B[0m     args_command \u001B[38;5;241m+\u001B[39m\\\n\u001B[1;32m   1318\u001B[0m     proto\u001B[38;5;241m.\u001B[39mEND_COMMAND_PART\n\u001B[1;32m   1320\u001B[0m answer \u001B[38;5;241m=\u001B[39m \u001B[38;5;28mself\u001B[39m\u001B[38;5;241m.\u001B[39mgateway_client\u001B[38;5;241m.\u001B[39msend_command(command)\n\u001B[0;32m-> 1321\u001B[0m return_value \u001B[38;5;241m=\u001B[39m \u001B[43mget_return_value\u001B[49m\u001B[43m(\u001B[49m\n\u001B[1;32m   1322\u001B[0m \u001B[43m    \u001B[49m\u001B[43manswer\u001B[49m\u001B[43m,\u001B[49m\u001B[43m \u001B[49m\u001B[38;5;28;43mself\u001B[39;49m\u001B[38;5;241;43m.\u001B[39;49m\u001B[43mgateway_client\u001B[49m\u001B[43m,\u001B[49m\u001B[43m \u001B[49m\u001B[38;5;28;43mself\u001B[39;49m\u001B[38;5;241;43m.\u001B[39;49m\u001B[43mtarget_id\u001B[49m\u001B[43m,\u001B[49m\u001B[43m \u001B[49m\u001B[38;5;28;43mself\u001B[39;49m\u001B[38;5;241;43m.\u001B[39;49m\u001B[43mname\u001B[49m\u001B[43m)\u001B[49m\n\u001B[1;32m   1324\u001B[0m \u001B[38;5;28;01mfor\u001B[39;00m temp_arg \u001B[38;5;129;01min\u001B[39;00m temp_args:\n\u001B[1;32m   1325\u001B[0m     temp_arg\u001B[38;5;241m.\u001B[39m_detach()\n\nFile \u001B[0;32m/databricks/spark/python/pyspark/errors/exceptions.py:234\u001B[0m, in \u001B[0;36mcapture_sql_exception.<locals>.deco\u001B[0;34m(*a, **kw)\u001B[0m\n\u001B[1;32m    230\u001B[0m converted \u001B[38;5;241m=\u001B[39m convert_exception(e\u001B[38;5;241m.\u001B[39mjava_exception)\n\u001B[1;32m    231\u001B[0m \u001B[38;5;28;01mif\u001B[39;00m \u001B[38;5;129;01mnot\u001B[39;00m \u001B[38;5;28misinstance\u001B[39m(converted, UnknownException):\n\u001B[1;32m    232\u001B[0m     \u001B[38;5;66;03m# Hide where the exception came from that shows a non-Pythonic\u001B[39;00m\n\u001B[1;32m    233\u001B[0m     \u001B[38;5;66;03m# JVM exception message.\u001B[39;00m\n\u001B[0;32m--> 234\u001B[0m     \u001B[38;5;28;01mraise\u001B[39;00m converted \u001B[38;5;28;01mfrom\u001B[39;00m \u001B[38;5;28mNone\u001B[39m\n\u001B[1;32m    235\u001B[0m \u001B[38;5;28;01melse\u001B[39;00m:\n\u001B[1;32m    236\u001B[0m     \u001B[38;5;28;01mraise\u001B[39;00m\n\n\u001B[0;31mAnalysisException\u001B[0m: Column `feels_like` has a data type of struct<day:double,eve:double,morn:double,night:double>, which is not supported by CSV.",
       "errorSummary": "<span class='ansi-red-fg'>AnalysisException</span>: Column `feels_like` has a data type of struct<day:double,eve:double,morn:double,night:double>, which is not supported by CSV.",
       "errorTraceType": "ansi",
       "metadata": {},
       "type": "ipynbError"
      }
     },
     "output_type": "display_data"
    }
   ],
   "source": [
    "df.write.csv(\"/FileStore/dados_ada/dados_diarios_openweather_csv\")"
   ]
  },
  {
   "cell_type": "code",
   "execution_count": 0,
   "metadata": {
    "application/vnd.databricks.v1+cell": {
     "cellMetadata": {
      "byteLimit": 2048000,
      "rowLimit": 10000
     },
     "inputWidgets": {},
     "nuid": "8209b144-8cbb-4c00-af43-b6a2ad18bad9",
     "showTitle": false,
     "title": ""
    }
   },
   "outputs": [],
   "source": [
    "df = spark.read.parquet(\"/FileStore/dados_ada/dados_diarios_openweather_raw\")"
   ]
  },
  {
   "cell_type": "code",
   "execution_count": 0,
   "metadata": {
    "application/vnd.databricks.v1+cell": {
     "cellMetadata": {
      "byteLimit": 2048000,
      "rowLimit": 10000
     },
     "inputWidgets": {},
     "nuid": "0c54c6cb-027b-4db2-a552-a135e4249f22",
     "showTitle": false,
     "title": ""
    }
   },
   "outputs": [
    {
     "output_type": "display_data",
     "data": {
      "text/html": [
       "<style scoped>\n",
       "  .table-result-container {\n",
       "    max-height: 300px;\n",
       "    overflow: auto;\n",
       "  }\n",
       "  table, th, td {\n",
       "    border: 1px solid black;\n",
       "    border-collapse: collapse;\n",
       "  }\n",
       "  th, td {\n",
       "    padding: 5px;\n",
       "  }\n",
       "  th {\n",
       "    text-align: left;\n",
       "  }\n",
       "</style><div class='table-result-container'><table class='table-result'><thead style='background-color: white'><tr><th>clouds</th><th>dew_point</th><th>dt</th><th>feels_like</th><th>humidity</th><th>moon_phase</th><th>moonrise</th><th>moonset</th><th>pop</th><th>pressure</th><th>rain</th><th>summary</th><th>sunrise</th><th>sunset</th><th>temp</th><th>uvi</th><th>weather</th><th>wind_deg</th><th>wind_gust</th><th>wind_speed</th></tr></thead><tbody><tr><td>100</td><td>288.31</td><td>1729000800</td><td>List(299.6, 297.77, 291.56, 296.18)</td><td>50</td><td>0.43</td><td>1729020240</td><td>1728976080</td><td>0.9</td><td>1016</td><td>1.02</td><td>You can expect partly cloudy in the morning, with rain in the afternoon</td><td>1728981182</td><td>1729026663</td><td>List(299.6, 297.6, 301.65, 291.48, 291.48, 295.92)</td><td>5.0</td><td>List(List(light rain, 10d, 500, Rain))</td><td>150</td><td>8.43</td><td>4.94</td></tr><tr><td>100</td><td>291.7</td><td>1728655200</td><td>List(294.71, 298.1, 292.74, 295.07)</td><td>86</td><td>0.28</td><td>1728659220</td><td>1728620340</td><td>1.0</td><td>1012</td><td>15.85</td><td>Expect a day of partly cloudy with rain</td><td>1728635799</td><td>1728680960</td><td>List(294.29, 297.59, 302.64, 292.31, 292.31, 294.53)</td><td>9.62</td><td>List(List(moderate rain, 10d, 501, Rain))</td><td>348</td><td>14.69</td><td>8.12</td></tr><tr><td>89</td><td>288.01</td><td>1728914400</td><td>List(298.88, 294.05, 290.04, 292.95)</td><td>52</td><td>0.39</td><td>1728930000</td><td>1728887400</td><td>0.0</td><td>1020</td><td>null</td><td>There will be partly cloudy today</td><td>1728894835</td><td>1728940236</td><td>List(298.89, 294.0, 298.98, 290.14, 290.14, 292.86)</td><td>4.17</td><td>List(List(overcast clouds, 04d, 804, Clouds))</td><td>149</td><td>8.31</td><td>6.47</td></tr><tr><td>100</td><td>289.01</td><td>1728568800</td><td>List(297.38, 294.28, 291.64, 292.92)</td><td>60</td><td>0.25</td><td>1728569100</td><td>1728530760</td><td>1.0</td><td>1014</td><td>5.11</td><td>Expect a day of partly cloudy with rain</td><td>1728549455</td><td>1728594535</td><td>List(297.34, 293.95, 298.91, 291.01, 291.5, 292.6)</td><td>7.58</td><td>List(List(light rain, 10d, 500, Rain))</td><td>47</td><td>9.66</td><td>5.62</td></tr><tr><td>0</td><td>284.97</td><td>1728741600</td><td>List(299.92, 298.17, 293.88, 291.75)</td><td>39</td><td>0.31</td><td>1728749460</td><td>1728709560</td><td>0.8</td><td>1014</td><td>null</td><td>Expect a day of partly cloudy with clear spells</td><td>1728722144</td><td>1728767385</td><td>List(300.09, 298.34, 303.35, 292.01, 293.56, 292.01)</td><td>11.88</td><td>List(List(clear sky, 01d, 800, Clear))</td><td>151</td><td>13.53</td><td>6.58</td></tr><tr><td>100</td><td>287.34</td><td>1729087200</td><td>List(302.77, 302.57, 293.29, 299.68)</td><td>38</td><td>0.47</td><td>1729110600</td><td>1729064700</td><td>0.55</td><td>1010</td><td>0.42</td><td>Expect a day of partly cloudy with rain</td><td>1729067529</td><td>1729113090</td><td>List(303.29, 302.82, 305.7, 293.12, 293.12, 299.68)</td><td>5.0</td><td>List(List(light rain, 10d, 500, Rain))</td><td>336</td><td>7.95</td><td>6.0</td></tr><tr><td>100</td><td>286.85</td><td>1728828000</td><td>List(296.48, 291.81, 290.14, 290.86)</td><td>55</td><td>0.35</td><td>1728839760</td><td>1728798600</td><td>0.0</td><td>1021</td><td>null</td><td>There will be partly cloudy today</td><td>1728808489</td><td>1728853810</td><td>List(296.64, 291.9, 296.64, 290.31, 290.31, 290.98)</td><td>9.91</td><td>List(List(overcast clouds, 04d, 804, Clouds))</td><td>140</td><td>7.81</td><td>6.07</td></tr><tr><td>17</td><td>285.05</td><td>1728482400</td><td>List(299.96, 292.36, 291.77, 291.02)</td><td>40</td><td>0.21</td><td>1728479160</td><td>0</td><td>0.2</td><td>1015</td><td>0.18</td><td>Expect a day of partly cloudy with rain</td><td>1728463112</td><td>1728508111</td><td>List(300.07, 292.3, 300.07, 290.25, 292.1, 290.87)</td><td>8.75</td><td>List(List(light rain, 10d, 500, Rain))</td><td>157</td><td>10.45</td><td>7.51</td></tr><tr><td>94</td><td>289.23</td><td>1728572400</td><td>List(301.36, 299.12, 292.18, 293.54)</td><td>48</td><td>0.25</td><td>1728570000</td><td>1728531480</td><td>1.0</td><td>1012</td><td>3.43</td><td>Expect a day of partly cloudy with rain</td><td>1728550252</td><td>1728595291</td><td>List(301.09, 299.12, 304.94, 291.92, 291.92, 293.09)</td><td>9.17</td><td>List(List(light rain, 10d, 500, Rain))</td><td>161</td><td>12.29</td><td>5.33</td></tr><tr><td>95</td><td>290.16</td><td>1728918000</td><td>List(304.39, 301.62, 290.64, 295.27)</td><td>43</td><td>0.39</td><td>1728930840</td><td>1728888180</td><td>0.0</td><td>1018</td><td>null</td><td>There will be partly cloudy today</td><td>1728895636</td><td>1728940988</td><td>List(304.06, 300.79, 306.62, 290.57, 290.69, 295.11)</td><td>3.14</td><td>List(List(overcast clouds, 04d, 804, Clouds))</td><td>124</td><td>13.41</td><td>4.85</td></tr><tr><td>100</td><td>289.44</td><td>1729004400</td><td>List(304.88, 295.59, 293.11, 294.7)</td><td>40</td><td>0.43</td><td>1729021080</td><td>1728976860</td><td>0.65</td><td>1013</td><td>0.48</td><td>Expect a day of partly cloudy with rain</td><td>1728981984</td><td>1729027413</td><td>List(304.76, 295.33, 304.76, 293.01, 293.01, 294.43)</td><td>4.0</td><td>List(List(light rain, 10d, 500, Rain))</td><td>99</td><td>10.72</td><td>3.84</td></tr><tr><td>23</td><td>285.98</td><td>1728745200</td><td>List(302.74, 299.39, 290.16, 294.27)</td><td>33</td><td>0.31</td><td>1728750360</td><td>1728710280</td><td>0.0</td><td>1013</td><td>null</td><td>Expect a day of partly cloudy with clear spells</td><td>1728722942</td><td>1728768139</td><td>List(303.74, 299.39, 304.64, 289.87, 289.87, 294.7)</td><td>12.06</td><td>List(List(few clouds, 02d, 801, Clouds))</td><td>290</td><td>7.2</td><td>2.95</td></tr><tr><td>100</td><td>292.07</td><td>1728658800</td><td>List(302.95, 297.06, 294.01, 293.4)</td><td>55</td><td>0.28</td><td>1728660120</td><td>1728621060</td><td>1.0</td><td>1008</td><td>25.23</td><td>Expect a day of partly cloudy with rain</td><td>1728636597</td><td>1728681715</td><td>List(301.8, 296.36, 301.8, 292.87, 293.44, 292.94)</td><td>4.75</td><td>List(List(heavy intensity rain, 10d, 502, Rain))</td><td>335</td><td>12.74</td><td>5.94</td></tr><tr><td>61</td><td>289.37</td><td>1729090800</td><td>List(307.07, 303.53, 292.4, 298.44)</td><td>35</td><td>0.47</td><td>1729111380</td><td>1729065540</td><td>0.28</td><td>1009</td><td>0.39</td><td>Expect a day of partly cloudy with rain</td><td>1729068332</td><td>1729113839</td><td>List(306.93, 303.73, 308.59, 292.08, 292.08, 298.21)</td><td>4.0</td><td>List(List(light rain, 10d, 500, Rain))</td><td>282</td><td>3.98</td><td>2.58</td></tr><tr><td>75</td><td>282.75</td><td>1728486000</td><td>List(309.83, 298.2, 291.51, 293.97)</td><td>17</td><td>0.21</td><td>1728480000</td><td>0</td><td>0.58</td><td>1010</td><td>3.73</td><td>Expect a day of partly cloudy with rain</td><td>1728463907</td><td>1728508868</td><td>List(311.67, 298.2, 311.81, 291.65, 291.79, 293.91)</td><td>9.25</td><td>List(List(moderate rain, 10d, 501, Rain))</td><td>114</td><td>12.36</td><td>5.5</td></tr><tr><td>76</td><td>286.44</td><td>1728831600</td><td>List(302.62, 300.78, 290.95, 294.89)</td><td>35</td><td>0.35</td><td>1728840600</td><td>1728799320</td><td>0.0</td><td>1018</td><td>null</td><td>There will be partly cloudy today</td><td>1728809289</td><td>1728854563</td><td>List(303.44, 300.88, 306.35, 291.07, 291.07, 294.98)</td><td>10.57</td><td>List(List(broken clouds, 04d, 803, Clouds))</td><td>119</td><td>13.85</td><td>5.27</td></tr><tr><td>26</td><td>293.4</td><td>1729000800</td><td>List(310.25, 303.69, 297.24, 301.96)</td><td>45</td><td>0.43</td><td>1729020780</td><td>1728976080</td><td>0.0</td><td>1011</td><td>null</td><td>The day will start with clear sky through the late morning hours, transitioning to partly cloudy</td><td>1728982507</td><td>1729026218</td><td>List(307.3, 300.77, 307.3, 296.45, 296.45, 300.7)</td><td>5.0</td><td>List(List(scattered clouds, 03d, 802, Clouds))</td><td>355</td><td>10.0</td><td>5.5</td></tr><tr><td>63</td><td>293.83</td><td>1728658800</td><td>List(310.92, 302.31, 298.71, 299.03)</td><td>46</td><td>0.28</td><td>1728662460</td><td>1728617820</td><td>0.78</td><td>1010</td><td>0.86</td><td>Expect a day of partly cloudy with rain</td><td>1728636975</td><td>1728680665</td><td>List(307.48, 299.92, 307.48, 297.95, 297.95, 298.48)</td><td>12.6</td><td>List(List(light rain, 10d, 500, Rain))</td><td>342</td><td>11.61</td><td>5.97</td></tr><tr><td>73</td><td>292.24</td><td>1728486000</td><td>List(310.84, 304.58, 297.24, 303.03)</td><td>40</td><td>0.21</td><td>1728482820</td><td>1728528060</td><td>0.0</td><td>1012</td><td>null</td><td>Expect a day of partly cloudy with clear spells</td><td>1728464212</td><td>1728507892</td><td>List(308.4, 301.32, 308.4, 296.52, 296.52, 300.56)</td><td>12.45</td><td>List(List(broken clouds, 04d, 803, Clouds))</td><td>344</td><td>11.94</td><td>5.62</td></tr><tr><td>58</td><td>292.32</td><td>1728828000</td><td>List(311.9, 307.48, 297.2, 302.8)</td><td>38</td><td>0.35</td><td>1728841800</td><td>1728797160</td><td>0.0</td><td>1013</td><td>null</td><td>There will be partly cloudy today</td><td>1728809740</td><td>1728853440</td><td>List(309.3, 305.0, 309.3, 296.51, 296.51, 300.99)</td><td>12.23</td><td>List(List(broken clouds, 04d, 803, Clouds))</td><td>346</td><td>11.37</td><td>5.07</td></tr><tr><td>59</td><td>294.5</td><td>1728572400</td><td>List(309.94, 303.75, 297.51, 299.86)</td><td>51</td><td>0.25</td><td>1728572640</td><td>0</td><td>0.0</td><td>1011</td><td>null</td><td>There will be partly cloudy today</td><td>1728550593</td><td>1728594278</td><td>List(306.25, 300.8, 306.44, 296.24, 296.63, 299.02)</td><td>12.67</td><td>List(List(broken clouds, 04d, 803, Clouds))</td><td>355</td><td>11.35</td><td>5.55</td></tr><tr><td>68</td><td>292.22</td><td>1728745200</td><td>List(310.42, 305.12, 296.29, 302.29)</td><td>39</td><td>0.31</td><td>1728752160</td><td>1728707580</td><td>0.0</td><td>1012</td><td>null</td><td>Expect a day of partly cloudy with clear spells</td><td>1728723357</td><td>1728767052</td><td>List(308.34, 301.72, 308.34, 295.61, 295.61, 300.48)</td><td>12.45</td><td>List(List(broken clouds, 04d, 803, Clouds))</td><td>333</td><td>11.49</td><td>5.79</td></tr><tr><td>5</td><td>293.14</td><td>1729087200</td><td>List(311.33, 303.13, 296.6, 301.37)</td><td>43</td><td>0.47</td><td>1729110360</td><td>1729065480</td><td>0.0</td><td>1011</td><td>null</td><td>Expect a day of partly cloudy with clear spells</td><td>1729068892</td><td>1729112607</td><td>List(308.16, 300.61, 308.16, 295.8, 295.8, 299.99)</td><td>5.0</td><td>List(List(clear sky, 01d, 800, Clear))</td><td>350</td><td>10.44</td><td>5.47</td></tr><tr><td>0</td><td>292.7</td><td>1728914400</td><td>List(311.07, 304.9, 297.35, 301.94)</td><td>41</td><td>0.39</td><td>1728931320</td><td>1728886680</td><td>0.0</td><td>1012</td><td>null</td><td>Expect a day of partly cloudy with clear spells</td><td>1728896123</td><td>1728939829</td><td>List(308.36, 301.54, 308.36, 296.62, 296.62, 300.56)</td><td>4.34</td><td>List(List(clear sky, 01d, 800, Clear))</td><td>348</td><td>11.83</td><td>6.01</td></tr></tbody></table></div>"
      ]
     },
     "metadata": {
      "application/vnd.databricks.v1+output": {
       "addedWidgets": {},
       "aggData": [],
       "aggError": "",
       "aggOverflow": false,
       "aggSchema": [],
       "aggSeriesLimitReached": false,
       "aggType": "",
       "arguments": {},
       "columnCustomDisplayInfos": {},
       "data": [
        [
         100,
         288.31,
         1729000800,
         [
          299.6,
          297.77,
          291.56,
          296.18
         ],
         50,
         0.43,
         1729020240,
         1728976080,
         0.9,
         1016,
         1.02,
         "You can expect partly cloudy in the morning, with rain in the afternoon",
         1728981182,
         1729026663,
         [
          299.6,
          297.6,
          301.65,
          291.48,
          291.48,
          295.92
         ],
         5.0,
         [
          [
           "light rain",
           "10d",
           500,
           "Rain"
          ]
         ],
         150,
         8.43,
         4.94
        ],
        [
         100,
         291.7,
         1728655200,
         [
          294.71,
          298.1,
          292.74,
          295.07
         ],
         86,
         0.28,
         1728659220,
         1728620340,
         1.0,
         1012,
         15.85,
         "Expect a day of partly cloudy with rain",
         1728635799,
         1728680960,
         [
          294.29,
          297.59,
          302.64,
          292.31,
          292.31,
          294.53
         ],
         9.62,
         [
          [
           "moderate rain",
           "10d",
           501,
           "Rain"
          ]
         ],
         348,
         14.69,
         8.12
        ],
        [
         89,
         288.01,
         1728914400,
         [
          298.88,
          294.05,
          290.04,
          292.95
         ],
         52,
         0.39,
         1728930000,
         1728887400,
         0.0,
         1020,
         null,
         "There will be partly cloudy today",
         1728894835,
         1728940236,
         [
          298.89,
          294.0,
          298.98,
          290.14,
          290.14,
          292.86
         ],
         4.17,
         [
          [
           "overcast clouds",
           "04d",
           804,
           "Clouds"
          ]
         ],
         149,
         8.31,
         6.47
        ],
        [
         100,
         289.01,
         1728568800,
         [
          297.38,
          294.28,
          291.64,
          292.92
         ],
         60,
         0.25,
         1728569100,
         1728530760,
         1.0,
         1014,
         5.11,
         "Expect a day of partly cloudy with rain",
         1728549455,
         1728594535,
         [
          297.34,
          293.95,
          298.91,
          291.01,
          291.5,
          292.6
         ],
         7.58,
         [
          [
           "light rain",
           "10d",
           500,
           "Rain"
          ]
         ],
         47,
         9.66,
         5.62
        ],
        [
         0,
         284.97,
         1728741600,
         [
          299.92,
          298.17,
          293.88,
          291.75
         ],
         39,
         0.31,
         1728749460,
         1728709560,
         0.8,
         1014,
         null,
         "Expect a day of partly cloudy with clear spells",
         1728722144,
         1728767385,
         [
          300.09,
          298.34,
          303.35,
          292.01,
          293.56,
          292.01
         ],
         11.88,
         [
          [
           "clear sky",
           "01d",
           800,
           "Clear"
          ]
         ],
         151,
         13.53,
         6.58
        ],
        [
         100,
         287.34,
         1729087200,
         [
          302.77,
          302.57,
          293.29,
          299.68
         ],
         38,
         0.47,
         1729110600,
         1729064700,
         0.55,
         1010,
         0.42,
         "Expect a day of partly cloudy with rain",
         1729067529,
         1729113090,
         [
          303.29,
          302.82,
          305.7,
          293.12,
          293.12,
          299.68
         ],
         5.0,
         [
          [
           "light rain",
           "10d",
           500,
           "Rain"
          ]
         ],
         336,
         7.95,
         6.0
        ],
        [
         100,
         286.85,
         1728828000,
         [
          296.48,
          291.81,
          290.14,
          290.86
         ],
         55,
         0.35,
         1728839760,
         1728798600,
         0.0,
         1021,
         null,
         "There will be partly cloudy today",
         1728808489,
         1728853810,
         [
          296.64,
          291.9,
          296.64,
          290.31,
          290.31,
          290.98
         ],
         9.91,
         [
          [
           "overcast clouds",
           "04d",
           804,
           "Clouds"
          ]
         ],
         140,
         7.81,
         6.07
        ],
        [
         17,
         285.05,
         1728482400,
         [
          299.96,
          292.36,
          291.77,
          291.02
         ],
         40,
         0.21,
         1728479160,
         0,
         0.2,
         1015,
         0.18,
         "Expect a day of partly cloudy with rain",
         1728463112,
         1728508111,
         [
          300.07,
          292.3,
          300.07,
          290.25,
          292.1,
          290.87
         ],
         8.75,
         [
          [
           "light rain",
           "10d",
           500,
           "Rain"
          ]
         ],
         157,
         10.45,
         7.51
        ],
        [
         94,
         289.23,
         1728572400,
         [
          301.36,
          299.12,
          292.18,
          293.54
         ],
         48,
         0.25,
         1728570000,
         1728531480,
         1.0,
         1012,
         3.43,
         "Expect a day of partly cloudy with rain",
         1728550252,
         1728595291,
         [
          301.09,
          299.12,
          304.94,
          291.92,
          291.92,
          293.09
         ],
         9.17,
         [
          [
           "light rain",
           "10d",
           500,
           "Rain"
          ]
         ],
         161,
         12.29,
         5.33
        ],
        [
         95,
         290.16,
         1728918000,
         [
          304.39,
          301.62,
          290.64,
          295.27
         ],
         43,
         0.39,
         1728930840,
         1728888180,
         0.0,
         1018,
         null,
         "There will be partly cloudy today",
         1728895636,
         1728940988,
         [
          304.06,
          300.79,
          306.62,
          290.57,
          290.69,
          295.11
         ],
         3.14,
         [
          [
           "overcast clouds",
           "04d",
           804,
           "Clouds"
          ]
         ],
         124,
         13.41,
         4.85
        ],
        [
         100,
         289.44,
         1729004400,
         [
          304.88,
          295.59,
          293.11,
          294.7
         ],
         40,
         0.43,
         1729021080,
         1728976860,
         0.65,
         1013,
         0.48,
         "Expect a day of partly cloudy with rain",
         1728981984,
         1729027413,
         [
          304.76,
          295.33,
          304.76,
          293.01,
          293.01,
          294.43
         ],
         4.0,
         [
          [
           "light rain",
           "10d",
           500,
           "Rain"
          ]
         ],
         99,
         10.72,
         3.84
        ],
        [
         23,
         285.98,
         1728745200,
         [
          302.74,
          299.39,
          290.16,
          294.27
         ],
         33,
         0.31,
         1728750360,
         1728710280,
         0.0,
         1013,
         null,
         "Expect a day of partly cloudy with clear spells",
         1728722942,
         1728768139,
         [
          303.74,
          299.39,
          304.64,
          289.87,
          289.87,
          294.7
         ],
         12.06,
         [
          [
           "few clouds",
           "02d",
           801,
           "Clouds"
          ]
         ],
         290,
         7.2,
         2.95
        ],
        [
         100,
         292.07,
         1728658800,
         [
          302.95,
          297.06,
          294.01,
          293.4
         ],
         55,
         0.28,
         1728660120,
         1728621060,
         1.0,
         1008,
         25.23,
         "Expect a day of partly cloudy with rain",
         1728636597,
         1728681715,
         [
          301.8,
          296.36,
          301.8,
          292.87,
          293.44,
          292.94
         ],
         4.75,
         [
          [
           "heavy intensity rain",
           "10d",
           502,
           "Rain"
          ]
         ],
         335,
         12.74,
         5.94
        ],
        [
         61,
         289.37,
         1729090800,
         [
          307.07,
          303.53,
          292.4,
          298.44
         ],
         35,
         0.47,
         1729111380,
         1729065540,
         0.28,
         1009,
         0.39,
         "Expect a day of partly cloudy with rain",
         1729068332,
         1729113839,
         [
          306.93,
          303.73,
          308.59,
          292.08,
          292.08,
          298.21
         ],
         4.0,
         [
          [
           "light rain",
           "10d",
           500,
           "Rain"
          ]
         ],
         282,
         3.98,
         2.58
        ],
        [
         75,
         282.75,
         1728486000,
         [
          309.83,
          298.2,
          291.51,
          293.97
         ],
         17,
         0.21,
         1728480000,
         0,
         0.58,
         1010,
         3.73,
         "Expect a day of partly cloudy with rain",
         1728463907,
         1728508868,
         [
          311.67,
          298.2,
          311.81,
          291.65,
          291.79,
          293.91
         ],
         9.25,
         [
          [
           "moderate rain",
           "10d",
           501,
           "Rain"
          ]
         ],
         114,
         12.36,
         5.5
        ],
        [
         76,
         286.44,
         1728831600,
         [
          302.62,
          300.78,
          290.95,
          294.89
         ],
         35,
         0.35,
         1728840600,
         1728799320,
         0.0,
         1018,
         null,
         "There will be partly cloudy today",
         1728809289,
         1728854563,
         [
          303.44,
          300.88,
          306.35,
          291.07,
          291.07,
          294.98
         ],
         10.57,
         [
          [
           "broken clouds",
           "04d",
           803,
           "Clouds"
          ]
         ],
         119,
         13.85,
         5.27
        ],
        [
         26,
         293.4,
         1729000800,
         [
          310.25,
          303.69,
          297.24,
          301.96
         ],
         45,
         0.43,
         1729020780,
         1728976080,
         0.0,
         1011,
         null,
         "The day will start with clear sky through the late morning hours, transitioning to partly cloudy",
         1728982507,
         1729026218,
         [
          307.3,
          300.77,
          307.3,
          296.45,
          296.45,
          300.7
         ],
         5.0,
         [
          [
           "scattered clouds",
           "03d",
           802,
           "Clouds"
          ]
         ],
         355,
         10.0,
         5.5
        ],
        [
         63,
         293.83,
         1728658800,
         [
          310.92,
          302.31,
          298.71,
          299.03
         ],
         46,
         0.28,
         1728662460,
         1728617820,
         0.78,
         1010,
         0.86,
         "Expect a day of partly cloudy with rain",
         1728636975,
         1728680665,
         [
          307.48,
          299.92,
          307.48,
          297.95,
          297.95,
          298.48
         ],
         12.6,
         [
          [
           "light rain",
           "10d",
           500,
           "Rain"
          ]
         ],
         342,
         11.61,
         5.97
        ],
        [
         73,
         292.24,
         1728486000,
         [
          310.84,
          304.58,
          297.24,
          303.03
         ],
         40,
         0.21,
         1728482820,
         1728528060,
         0.0,
         1012,
         null,
         "Expect a day of partly cloudy with clear spells",
         1728464212,
         1728507892,
         [
          308.4,
          301.32,
          308.4,
          296.52,
          296.52,
          300.56
         ],
         12.45,
         [
          [
           "broken clouds",
           "04d",
           803,
           "Clouds"
          ]
         ],
         344,
         11.94,
         5.62
        ],
        [
         58,
         292.32,
         1728828000,
         [
          311.9,
          307.48,
          297.2,
          302.8
         ],
         38,
         0.35,
         1728841800,
         1728797160,
         0.0,
         1013,
         null,
         "There will be partly cloudy today",
         1728809740,
         1728853440,
         [
          309.3,
          305.0,
          309.3,
          296.51,
          296.51,
          300.99
         ],
         12.23,
         [
          [
           "broken clouds",
           "04d",
           803,
           "Clouds"
          ]
         ],
         346,
         11.37,
         5.07
        ],
        [
         59,
         294.5,
         1728572400,
         [
          309.94,
          303.75,
          297.51,
          299.86
         ],
         51,
         0.25,
         1728572640,
         0,
         0.0,
         1011,
         null,
         "There will be partly cloudy today",
         1728550593,
         1728594278,
         [
          306.25,
          300.8,
          306.44,
          296.24,
          296.63,
          299.02
         ],
         12.67,
         [
          [
           "broken clouds",
           "04d",
           803,
           "Clouds"
          ]
         ],
         355,
         11.35,
         5.55
        ],
        [
         68,
         292.22,
         1728745200,
         [
          310.42,
          305.12,
          296.29,
          302.29
         ],
         39,
         0.31,
         1728752160,
         1728707580,
         0.0,
         1012,
         null,
         "Expect a day of partly cloudy with clear spells",
         1728723357,
         1728767052,
         [
          308.34,
          301.72,
          308.34,
          295.61,
          295.61,
          300.48
         ],
         12.45,
         [
          [
           "broken clouds",
           "04d",
           803,
           "Clouds"
          ]
         ],
         333,
         11.49,
         5.79
        ],
        [
         5,
         293.14,
         1729087200,
         [
          311.33,
          303.13,
          296.6,
          301.37
         ],
         43,
         0.47,
         1729110360,
         1729065480,
         0.0,
         1011,
         null,
         "Expect a day of partly cloudy with clear spells",
         1729068892,
         1729112607,
         [
          308.16,
          300.61,
          308.16,
          295.8,
          295.8,
          299.99
         ],
         5.0,
         [
          [
           "clear sky",
           "01d",
           800,
           "Clear"
          ]
         ],
         350,
         10.44,
         5.47
        ],
        [
         0,
         292.7,
         1728914400,
         [
          311.07,
          304.9,
          297.35,
          301.94
         ],
         41,
         0.39,
         1728931320,
         1728886680,
         0.0,
         1012,
         null,
         "Expect a day of partly cloudy with clear spells",
         1728896123,
         1728939829,
         [
          308.36,
          301.54,
          308.36,
          296.62,
          296.62,
          300.56
         ],
         4.34,
         [
          [
           "clear sky",
           "01d",
           800,
           "Clear"
          ]
         ],
         348,
         11.83,
         6.01
        ]
       ],
       "datasetInfos": [],
       "dbfsResultPath": null,
       "isJsonSchema": true,
       "metadata": {},
       "overflow": false,
       "plotOptions": {
        "customPlotOptions": {},
        "displayType": "table",
        "pivotAggregation": null,
        "pivotColumns": null,
        "xColumns": null,
        "yColumns": null
       },
       "removedWidgets": [],
       "schema": [
        {
         "metadata": "{}",
         "name": "clouds",
         "type": "\"long\""
        },
        {
         "metadata": "{}",
         "name": "dew_point",
         "type": "\"double\""
        },
        {
         "metadata": "{}",
         "name": "dt",
         "type": "\"long\""
        },
        {
         "metadata": "{}",
         "name": "feels_like",
         "type": "{\"type\":\"struct\",\"fields\":[{\"name\":\"day\",\"type\":\"double\",\"nullable\":true,\"metadata\":{}},{\"name\":\"eve\",\"type\":\"double\",\"nullable\":true,\"metadata\":{}},{\"name\":\"morn\",\"type\":\"double\",\"nullable\":true,\"metadata\":{}},{\"name\":\"night\",\"type\":\"double\",\"nullable\":true,\"metadata\":{}}]}"
        },
        {
         "metadata": "{}",
         "name": "humidity",
         "type": "\"long\""
        },
        {
         "metadata": "{}",
         "name": "moon_phase",
         "type": "\"double\""
        },
        {
         "metadata": "{}",
         "name": "moonrise",
         "type": "\"long\""
        },
        {
         "metadata": "{}",
         "name": "moonset",
         "type": "\"long\""
        },
        {
         "metadata": "{}",
         "name": "pop",
         "type": "\"double\""
        },
        {
         "metadata": "{}",
         "name": "pressure",
         "type": "\"long\""
        },
        {
         "metadata": "{}",
         "name": "rain",
         "type": "\"double\""
        },
        {
         "metadata": "{}",
         "name": "summary",
         "type": "\"string\""
        },
        {
         "metadata": "{}",
         "name": "sunrise",
         "type": "\"long\""
        },
        {
         "metadata": "{}",
         "name": "sunset",
         "type": "\"long\""
        },
        {
         "metadata": "{}",
         "name": "temp",
         "type": "{\"type\":\"struct\",\"fields\":[{\"name\":\"day\",\"type\":\"double\",\"nullable\":true,\"metadata\":{}},{\"name\":\"eve\",\"type\":\"double\",\"nullable\":true,\"metadata\":{}},{\"name\":\"max\",\"type\":\"double\",\"nullable\":true,\"metadata\":{}},{\"name\":\"min\",\"type\":\"double\",\"nullable\":true,\"metadata\":{}},{\"name\":\"morn\",\"type\":\"double\",\"nullable\":true,\"metadata\":{}},{\"name\":\"night\",\"type\":\"double\",\"nullable\":true,\"metadata\":{}}]}"
        },
        {
         "metadata": "{}",
         "name": "uvi",
         "type": "\"double\""
        },
        {
         "metadata": "{}",
         "name": "weather",
         "type": "{\"type\":\"array\",\"elementType\":{\"type\":\"struct\",\"fields\":[{\"name\":\"description\",\"type\":\"string\",\"nullable\":true,\"metadata\":{}},{\"name\":\"icon\",\"type\":\"string\",\"nullable\":true,\"metadata\":{}},{\"name\":\"id\",\"type\":\"long\",\"nullable\":true,\"metadata\":{}},{\"name\":\"main\",\"type\":\"string\",\"nullable\":true,\"metadata\":{}}]},\"containsNull\":true}"
        },
        {
         "metadata": "{}",
         "name": "wind_deg",
         "type": "\"long\""
        },
        {
         "metadata": "{}",
         "name": "wind_gust",
         "type": "\"double\""
        },
        {
         "metadata": "{}",
         "name": "wind_speed",
         "type": "\"double\""
        }
       ],
       "type": "table"
      }
     },
     "output_type": "display_data"
    }
   ],
   "source": [
    "df.display()"
   ]
  },
  {
   "cell_type": "code",
   "execution_count": 0,
   "metadata": {
    "application/vnd.databricks.v1+cell": {
     "cellMetadata": {
      "byteLimit": 2048000,
      "rowLimit": 10000
     },
     "inputWidgets": {},
     "nuid": "6d63cda8-8aa4-49a7-bd37-339c0846366c",
     "showTitle": false,
     "title": ""
    }
   },
   "outputs": [
    {
     "output_type": "display_data",
     "data": {
      "text/html": [
       "<div>\n",
       "<style scoped>\n",
       "    .dataframe tbody tr th:only-of-type {\n",
       "        vertical-align: middle;\n",
       "    }\n",
       "\n",
       "    .dataframe tbody tr th {\n",
       "        vertical-align: top;\n",
       "    }\n",
       "\n",
       "    .dataframe thead th {\n",
       "        text-align: right;\n",
       "    }\n",
       "</style>\n",
       "<table border=\"1\" class=\"dataframe\">\n",
       "  <thead>\n",
       "    <tr style=\"text-align: right;\">\n",
       "      <th></th>\n",
       "      <th>lat</th>\n",
       "      <th>lon</th>\n",
       "      <th>timezone</th>\n",
       "      <th>timezone_offset</th>\n",
       "      <th>current</th>\n",
       "      <th>minutely</th>\n",
       "      <th>hourly</th>\n",
       "      <th>daily</th>\n",
       "      <th>alerts</th>\n",
       "    </tr>\n",
       "  </thead>\n",
       "  <tbody>\n",
       "    <tr>\n",
       "      <th>0</th>\n",
       "      <td>-23.5507</td>\n",
       "      <td>-46.6334</td>\n",
       "      <td>America/Sao_Paulo</td>\n",
       "      <td>-10800</td>\n",
       "      <td>{'dt': 1728516562, 'sunrise': 1728463112, 'sun...</td>\n",
       "      <td>[{'dt': 1728516600, 'precipitation': 0}, {'dt'...</td>\n",
       "      <td>[{'dt': 1728514800, 'temp': 290.39, 'feels_lik...</td>\n",
       "      <td>[{'dt': 1728482400, 'sunrise': 1728463112, 'su...</td>\n",
       "      <td>NaN</td>\n",
       "    </tr>\n",
       "    <tr>\n",
       "      <th>1</th>\n",
       "      <td>-22.9778</td>\n",
       "      <td>-49.8682</td>\n",
       "      <td>America/Sao_Paulo</td>\n",
       "      <td>-10800</td>\n",
       "      <td>{'dt': 1728516563, 'sunrise': 1728463907, 'sun...</td>\n",
       "      <td>[{'dt': 1728516600, 'precipitation': 0}, {'dt'...</td>\n",
       "      <td>[{'dt': 1728514800, 'temp': 296.18, 'feels_lik...</td>\n",
       "      <td>[{'dt': 1728486000, 'sunrise': 1728463907, 'su...</td>\n",
       "      <td>[{'sender_name': 'Instituto Nacional de Meteor...</td>\n",
       "    </tr>\n",
       "    <tr>\n",
       "      <th>2</th>\n",
       "      <td>-1.4506</td>\n",
       "      <td>-48.4682</td>\n",
       "      <td>America/Belem</td>\n",
       "      <td>-10800</td>\n",
       "      <td>{'dt': 1728516563, 'sunrise': 1728464212, 'sun...</td>\n",
       "      <td>[{'dt': 1728516600, 'precipitation': 0}, {'dt'...</td>\n",
       "      <td>[{'dt': 1728514800, 'temp': 302.14, 'feels_lik...</td>\n",
       "      <td>[{'dt': 1728486000, 'sunrise': 1728464212, 'su...</td>\n",
       "      <td>NaN</td>\n",
       "    </tr>\n",
       "  </tbody>\n",
       "</table>\n",
       "</div>"
      ]
     },
     "metadata": {
      "application/vnd.databricks.v1+output": {
       "addedWidgets": {},
       "arguments": {},
       "data": "<div>\n<style scoped>\n    .dataframe tbody tr th:only-of-type {\n        vertical-align: middle;\n    }\n\n    .dataframe tbody tr th {\n        vertical-align: top;\n    }\n\n    .dataframe thead th {\n        text-align: right;\n    }\n</style>\n<table border=\"1\" class=\"dataframe\">\n  <thead>\n    <tr style=\"text-align: right;\">\n      <th></th>\n      <th>lat</th>\n      <th>lon</th>\n      <th>timezone</th>\n      <th>timezone_offset</th>\n      <th>current</th>\n      <th>minutely</th>\n      <th>hourly</th>\n      <th>daily</th>\n      <th>alerts</th>\n    </tr>\n  </thead>\n  <tbody>\n    <tr>\n      <th>0</th>\n      <td>-23.5507</td>\n      <td>-46.6334</td>\n      <td>America/Sao_Paulo</td>\n      <td>-10800</td>\n      <td>{'dt': 1728516562, 'sunrise': 1728463112, 'sun...</td>\n      <td>[{'dt': 1728516600, 'precipitation': 0}, {'dt'...</td>\n      <td>[{'dt': 1728514800, 'temp': 290.39, 'feels_lik...</td>\n      <td>[{'dt': 1728482400, 'sunrise': 1728463112, 'su...</td>\n      <td>NaN</td>\n    </tr>\n    <tr>\n      <th>1</th>\n      <td>-22.9778</td>\n      <td>-49.8682</td>\n      <td>America/Sao_Paulo</td>\n      <td>-10800</td>\n      <td>{'dt': 1728516563, 'sunrise': 1728463907, 'sun...</td>\n      <td>[{'dt': 1728516600, 'precipitation': 0}, {'dt'...</td>\n      <td>[{'dt': 1728514800, 'temp': 296.18, 'feels_lik...</td>\n      <td>[{'dt': 1728486000, 'sunrise': 1728463907, 'su...</td>\n      <td>[{'sender_name': 'Instituto Nacional de Meteor...</td>\n    </tr>\n    <tr>\n      <th>2</th>\n      <td>-1.4506</td>\n      <td>-48.4682</td>\n      <td>America/Belem</td>\n      <td>-10800</td>\n      <td>{'dt': 1728516563, 'sunrise': 1728464212, 'sun...</td>\n      <td>[{'dt': 1728516600, 'precipitation': 0}, {'dt'...</td>\n      <td>[{'dt': 1728514800, 'temp': 302.14, 'feels_lik...</td>\n      <td>[{'dt': 1728486000, 'sunrise': 1728464212, 'su...</td>\n      <td>NaN</td>\n    </tr>\n  </tbody>\n</table>\n</div>",
       "datasetInfos": [],
       "metadata": {},
       "removedWidgets": [],
       "textData": null,
       "type": "htmlSandbox"
      }
     },
     "output_type": "display_data"
    }
   ],
   "source": [
    "df.head()"
   ]
  },
  {
   "cell_type": "markdown",
   "metadata": {
    "application/vnd.databricks.v1+cell": {
     "cellMetadata": {},
     "inputWidgets": {},
     "nuid": "c9a16d9b-bccb-446c-97eb-3d7edd3fd084",
     "showTitle": false,
     "title": ""
    }
   },
   "source": [
    "## Persistência de Dados\n",
    "\n",
    "Persistir dados em vários formatos de arquivo como CSV, JSON, Parquet e outros é uma tarefa comum no processamento e análise de dados e no dia a dia de um Engenheiro de Dados. Python, Pandas e PySpark fornecem ferramentas e bibliotecas poderosas para fazer isso.\n",
    "\n",
    "**1. CSV (valores separados por vírgula):**\n",
    "\n",
    "**Exemplo - Escrevendo CSV Python:**\n",
    "\n",
    "```python\n",
    "import csv\n",
    "\n",
    "data = [\n",
    "    [\"Name\", \"Age\", \"City\"],\n",
    "    [\"Alice\", 25, \"New York\"],\n",
    "    [\"Bob\", 30, \"Los Angeles\"],\n",
    "    [\"Charlie\", 28, \"Chicago\"]\n",
    "]\n",
    "\n",
    "with open(\"data.csv\", mode='w', newline='') as file:\n",
    "    writer = csv.writer(file)\n",
    "    writer.writerows(data)\n",
    "```\n",
    "**Exemplo - Escrevendo CSV com Pandas:**\n",
    "\n",
    "```python\n",
    "import pandas as pd\n",
    "\n",
    "data = {\n",
    "    \"Name\": [\"Alice\", \"Bob\", \"Charlie\"],\n",
    "    \"Age\": [25, 30, 28],\n",
    "    \"City\": [\"New York\", \"Los Angeles\", \"Chicago\"]\n",
    "}\n",
    "\n",
    "df = pd.DataFrame(data)\n",
    "df.to_csv(\"data.csv\", index=False)\n",
    "```\n",
    "\n",
    "\n",
    "**2. JSON :**\n",
    "\n",
    "\n",
    "**Exemplo - Escrevendo JSON Python:**\n",
    "\n",
    "```python\n",
    "import json\n",
    "\n",
    "data = {\n",
    "    \"Name\": \"Alice\",\n",
    "    \"Age\": 25,\n",
    "    \"City\": \"New York\"\n",
    "}\n",
    "\n",
    "with open(\"data.json\", 'w') as file:\n",
    "    json.dump(data, file)\n",
    "```\n",
    "**Exemplo - Escrevendo JSON com Pandas:**\n",
    "\n",
    "```python\n",
    "import pandas as pd\n",
    "\n",
    "data = {\n",
    "    \"Name\": [\"Alice\", \"Bob\", \"Charlie\"],\n",
    "    \"Age\": [25, 30, 28],\n",
    "    \"City\": [\"New York\", \"Los Angeles\", \"Chicago\"]\n",
    "}\n",
    "\n",
    "df = pd.DataFrame(data)\n",
    "df.to_json(\"data.json\", orient=\"records\")\n",
    "```\n",
    "**3. Parquet:**\n",
    "\n",
    "Parquet é um formato de arquivo de armazenamento colunar altamente eficiente para processamento de big data. No PySpark, você pode usar o módulo `pyspark.sql` para ler e escrever arquivos Parquet.\n",
    "\n",
    "**Exemplo - Escrevendo Parquet com PySpark:**\n",
    "\n",
    "```python\n",
    "from pyspark.sql import SparkSession\n",
    "\n",
    "spark = SparkSession.builder.appName(\"ParquetExample\").getOrCreate()\n",
    "\n",
    "data = [(\"Alice\", 25, \"New York\"), (\"Bob\", 30, \"Los Angeles\"), (\"Charlie\", 28, \"Chicago\")]\n",
    "columns = [\"Name\", \"Age\", \"City\"]\n",
    "df = spark.createDataFrame(data, columns)\n",
    "\n",
    "df.write.parquet(\"data.parquet\")\n",
    "spark.stop()\n",
    "```\n",
    "\n",
    "**4. Outros formatos de arquivo:**\n",
    "\n",
    "Existem muitos outros formatos de arquivo comumente usados para persistência de dados, como Avro, ORC e Feather. O PySpark também suporta muitos desses formatos e você pode usá-los de forma semelhante à forma como demonstramos o Parquet.\n",
    "\n",
    "**Exemplo - Escrevendo Avro com PySpark:**\n",
    "\n",
    "```python\n",
    "from pyspark.sql import SparkSession\n",
    "\n",
    "spark = SparkSession.builder.appName(\"AvroExample\").getOrCreate()\n",
    "\n",
    "data = [(\"Alice\", 25, \"New York\"), (\"Bob\", 30, \"Los Angeles\"), (\"Charlie\", 28, \"Chicago\")]\n",
    "columns = [\"Name\", \"Age\", \"City\"]\n",
    "df = spark.createDataFrame(data, columns)\n",
    "\n",
    "df.write.format(\"avro\").save(\"data.avro\")\n",
    "spark.stop()\n",
    "```\n"
   ]
  },
  {
   "cell_type": "markdown",
   "metadata": {
    "application/vnd.databricks.v1+cell": {
     "cellMetadata": {},
     "inputWidgets": {},
     "nuid": "79560c8c-fa97-4b1d-a8ec-e40167000578",
     "showTitle": false,
     "title": ""
    }
   },
   "source": [
    "## Tipos de Arquivos para Big Data\n",
    "\n",
    "### 1. Parquet\n",
    "\n",
    "**Características:**\n",
    "- Formato de arquivo colunar e eficiente para leitura/gravação.\n",
    "- Compressão eficiente, o que resulta em menor uso de armazenamento.\n",
    "- Projetado para ser compatível com sistemas de processamento de dados distribuídos, como Hadoop e Spark.\n",
    "- Suporta esquemas complexos e aninhados.\n",
    "- Ideal para consultas analíticas rápidas em grandes conjuntos de dados.\n",
    "\n",
    "### 2. Avro\n",
    "\n",
    "**Características:**\n",
    "- Formato de arquivo serializado e compactado.\n",
    "- Suporta esquemas complexos e evolutivos.\n",
    "- Ideal para troca de dados entre diferentes sistemas, devido à sua portabilidade e interoperabilidade.\n",
    "- Pode ser utilizado para streaming de dados devido à sua capacidade de serialização rápida e eficiente."
   ]
  },
  {
   "cell_type": "markdown",
   "metadata": {
    "application/vnd.databricks.v1+cell": {
     "cellMetadata": {},
     "inputWidgets": {},
     "nuid": "6362ea71-d93f-4446-86f5-31c7a49b5a95",
     "showTitle": false,
     "title": ""
    }
   },
   "source": [
    "## ACID\n",
    "\n",
    "ACID é um acrônimo que representa um conjunto de propriedades que garantem a integridade dos dados em sistemas de banco de dados. Essas propriedades são essenciais para garantir que as transações sejam executadas de forma confiável, mesmo em ambientes distribuídos e concorrentes. Aqui está o significado de cada letra do acrônimo:\n",
    "\n",
    "### Atomicidade (Atomicity)\n",
    "\n",
    "A atomicidade garante que uma transação seja tratada como uma unidade indivisível de trabalho. Isso significa que todas as operações dentro da transação são concluídas com sucesso ou nenhuma delas é executada. Se uma parte da transação falhar, todas as operações anteriores devem ser revertidas, deixando o banco de dados em um estado consistente e pré-transação.\n",
    "\n",
    "### Consistência (Consistency)\n",
    "\n",
    "A consistência garante que apenas transações válidas, que preservem a integridade do banco de dados, sejam permitidas para execução. Isso significa que qualquer transação que leve o banco de dados de um estado consistente para outro estado consistente é aceita, enquanto as transações que violam as regras de integridade são rejeitadas.\n",
    "\n",
    "### Isolamento (Isolation)\n",
    "\n",
    "O isolamento garante que o resultado de uma transação seja independente de outras transações concorrentes. Isso significa que, mesmo em um ambiente com múltiplas transações ocorrendo simultaneamente, cada transação deve ser executada como se fosse a única transação no sistema. O isolamento previne que uma transação veja dados parcialmente atualizados ou temporários de outras transações.\n",
    "\n",
    "### Durabilidade (Durability)\n",
    "\n",
    "A durabilidade garante que os resultados de uma transação persistam no sistema mesmo após uma falha, como queda de energia ou falha de hardware. Isso significa que uma vez que uma transação é confirmada, as alterações feitas por essa transação são permanentemente gravadas no banco de dados e não serão perdidas, mesmo em caso de falha do sistema.\n",
    "\n",
    "Em conjunto, essas propriedades ACID garantem que as transações sejam executadas com segurança, consistência e confiabilidade em sistemas de banco de dados, proporcionando uma base sólida para o armazenamento e manipulação de dados críticos."
   ]
  },
  {
   "cell_type": "markdown",
   "metadata": {
    "application/vnd.databricks.v1+cell": {
     "cellMetadata": {},
     "inputWidgets": {},
     "nuid": "d6719895-d169-4869-96c6-43a6a7911bce",
     "showTitle": false,
     "title": ""
    }
   },
   "source": [
    "## Novas soluções emergentes\n",
    "\n",
    "\n",
    "<img src=\"https://miro.medium.com/v2/resize:fit:1400/1*GVIUOecJk2NmCdy3KIs52w.png\" style=\"border: 1px solid #aaa; border-radius: 10px 10px 10px 10px; box-shadow: 5px 5px 5px #aaa\"/>\n",
    "\n",
    "### Apache Hudi\n",
    "\n",
    "O Apache Hudi, que significa Hadoop Upserts Deletes & Incrementals, foi criado pela Uber Engineering e aberto para a comunidade em 2019. A motivação por trás da criação do Hudi foi resolver desafios específicos enfrentados pela Uber em seus pipelines de dados em grande escala. Eles precisavam de uma solução que permitisse ingestão incremental, atualização e exclusão eficientes de dados em ambientes distribuídos.\n",
    "\n",
    "O Hudi foi projetado para ser uma camada de abstração sobre sistemas de armazenamento distribuídos, como o Apache Hadoop e o Apache Spark, fornecendo suporte para operações de dados em tempo real e batch. Ele permite a criação de conjuntos de dados imutáveis e históricos, garantindo a consistência e a confiabilidade dos dados em pipelines de dados complexos.\n",
    "\n",
    "**Características:**\n",
    "- Framework open-source para gerenciamento de dados em grandes clusters Hadoop.\n",
    "- Suporta operações de ingestão incremental, atualização e exclusão de dados.\n",
    "- Permite a criação de conjuntos de dados imutáveis e históricos.\n",
    "- Integrado com ecossistema Hadoop, Spark e outras ferramentas de Big Data.\n",
    "- Facilita a construção de pipelines de dados robustos e confiáveis.\n",
    "\n",
    "\n",
    "### Apache Iceberg\n",
    "\n",
    "O Apache Iceberg foi criado pela Netflix em 2018 e doado para a Apache Software Foundation como um projeto de código aberto. A Netflix enfrentava desafios relacionados à evolução de esquemas e à eficiência na manipulação de grandes tabelas de dados em seus pipelines de processamento de dados.\n",
    "\n",
    "O Iceberg foi desenvolvido para fornecer uma estrutura de dados eficiente e escalável para tabelas grandes e mutáveis. Ele introduziu conceitos como transações ACID para operações de escrita, suporte para evolução de esquemas sem interromper consultas em andamento e metadados detalhados para otimizar consultas e gerenciar versões de tabelas.\n",
    "\n",
    "**Características:**\n",
    "- Estrutura de dados de código aberto para tabelas grandes e mutáveis.\n",
    "- Oferece transações ACID para operações de escrita.\n",
    "- Suporta a evolução de esquemas sem interromper consultas em andamento.\n",
    "- Fornece metadados detalhados para otimizar consultas e gerenciar versões de tabelas.\n",
    "- Ideal para cenários em que é necessário garantir a consistência e a integridade dos dados em tabelas grandes e compartilhadas.\n",
    "\n",
    "### Delta Lake\n",
    "\n",
    "O Delta Lake foi criado pela Databricks e lançado em 2019 como um projeto de código aberto. A Databricks identificou a necessidade de adicionar transações ACID e histórico de versões a data lakes existentes para suportar casos de uso mais avançados, como machine learning e análise em tempo real.\n",
    "\n",
    "O Delta Lake é construído sobre o Apache Spark e oferece recursos como transações ACID para operações de escrita, ingestão de dados em tempo real e batch, e compatibilidade com ferramentas de análise de dados existentes. Ele foi projetado para ser uma camada de armazenamento confiável e escalável para data lakes, facilitando a construção de pipelines de dados robustos e confiáveis.\n",
    "\n",
    "**Características:**\n",
    "- Solução de armazenamento de dados de código aberto construída sobre o Apache Spark.\n",
    "- Adiciona transações ACID e histórico de versões a data lakes existentes.\n",
    "- Suporta ingestão de dados em tempo real e batch.\n",
    "- Compatível com ferramentas de análise de dados existentes, como Spark, Presto e Hive.\n",
    "- Facilita a construção de pipelines de dados confiáveis e tolerantes a falhas.\n",
    "\n",
    "Essas três tecnologias, Apache Hudi, Apache Iceberg e Delta Lake, surgiram como resposta a desafios específicos enfrentados por empresas que lidam com grandes volumes de dados em ambientes distribuídos. Cada uma delas introduziu inovações importantes no espaço de Big Data, fornecendo soluções para problemas complexos relacionados à integridade, eficiência e escalabilidade dos dados.\n",
    "\n",
    "\n",
    "\n",
    "\n",
    "<img src=\"https://celerdata.com/hs-fs/hubfs/delta%20lake_iceberg_hudi_apache_data%20lake.png?width=2427&height=1246&name=delta%20lake_iceberg_hudi_apache_data%20lake.png\" style=\"border: 1px solid #aaa; border-radius: 10px 10px 10px 10px; box-shadow: 5px 5px 5px #aaa\"/>"
   ]
  },
  {
   "cell_type": "code",
   "execution_count": 0,
   "metadata": {
    "application/vnd.databricks.v1+cell": {
     "cellMetadata": {
      "byteLimit": 2048000,
      "rowLimit": 10000
     },
     "inputWidgets": {},
     "nuid": "3818e534-422e-44c5-951d-6b52c19fd2f7",
     "showTitle": false,
     "title": ""
    }
   },
   "outputs": [],
   "source": [
    "df = spark.sql(\"select 2 as teste\")\n",
    "\n",
    "df.write.mode(\"append\").format(\"delta\").saveAsTable(\"teste1\")"
   ]
  },
  {
   "cell_type": "code",
   "execution_count": 0,
   "metadata": {
    "application/vnd.databricks.v1+cell": {
     "cellMetadata": {
      "byteLimit": 2048000,
      "implicitDf": true,
      "rowLimit": 10000
     },
     "inputWidgets": {},
     "nuid": "7bceb869-84a7-47c2-9e1b-2e8a4d2edeb9",
     "showTitle": false,
     "title": ""
    }
   },
   "outputs": [
    {
     "output_type": "display_data",
     "data": {
      "text/html": [
       "<style scoped>\n",
       "  .table-result-container {\n",
       "    max-height: 300px;\n",
       "    overflow: auto;\n",
       "  }\n",
       "  table, th, td {\n",
       "    border: 1px solid black;\n",
       "    border-collapse: collapse;\n",
       "  }\n",
       "  th, td {\n",
       "    padding: 5px;\n",
       "  }\n",
       "  th {\n",
       "    text-align: left;\n",
       "  }\n",
       "</style><div class='table-result-container'><table class='table-result'><thead style='background-color: white'><tr><th>version</th><th>timestamp</th><th>userId</th><th>userName</th><th>operation</th><th>operationParameters</th><th>job</th><th>notebook</th><th>clusterId</th><th>readVersion</th><th>isolationLevel</th><th>isBlindAppend</th><th>operationMetrics</th><th>userMetadata</th><th>engineInfo</th></tr></thead><tbody><tr><td>1</td><td>2024-10-10T00:53:42.000+0000</td><td>6100076924040070</td><td>renan.raschcowetzki@ufrgs.br</td><td>WRITE</td><td>Map(mode -> Append, partitionBy -> [])</td><td>null</td><td>List(155114884900170)</td><td>1009-230658-ayq3d9ms</td><td>0</td><td>WriteSerializable</td><td>true</td><td>Map(numFiles -> 1, numOutputRows -> 1, numOutputBytes -> 583)</td><td>null</td><td>Databricks-Runtime/12.2.x-scala2.12</td></tr><tr><td>0</td><td>2024-10-10T00:48:36.000+0000</td><td>6100076924040070</td><td>renan.raschcowetzki@ufrgs.br</td><td>CREATE TABLE AS SELECT</td><td>Map(isManaged -> true, description -> null, partitionBy -> [], properties -> {})</td><td>null</td><td>List(155114884900170)</td><td>1009-230658-ayq3d9ms</td><td>null</td><td>WriteSerializable</td><td>true</td><td>Map(numFiles -> 1, numOutputRows -> 1, numOutputBytes -> 583)</td><td>null</td><td>Databricks-Runtime/12.2.x-scala2.12</td></tr></tbody></table></div>"
      ]
     },
     "metadata": {
      "application/vnd.databricks.v1+output": {
       "addedWidgets": {},
       "aggData": [],
       "aggError": "",
       "aggOverflow": false,
       "aggSchema": [],
       "aggSeriesLimitReached": false,
       "aggType": "",
       "arguments": {},
       "columnCustomDisplayInfos": {},
       "data": [
        [
         1,
         "2024-10-10T00:53:42.000+0000",
         "6100076924040070",
         "renan.raschcowetzki@ufrgs.br",
         "WRITE",
         {
          "mode": "Append",
          "partitionBy": "[]"
         },
         null,
         [
          "155114884900170"
         ],
         "1009-230658-ayq3d9ms",
         0,
         "WriteSerializable",
         true,
         {
          "numFiles": "1",
          "numOutputBytes": "583",
          "numOutputRows": "1"
         },
         null,
         "Databricks-Runtime/12.2.x-scala2.12"
        ],
        [
         0,
         "2024-10-10T00:48:36.000+0000",
         "6100076924040070",
         "renan.raschcowetzki@ufrgs.br",
         "CREATE TABLE AS SELECT",
         {
          "description": null,
          "isManaged": "true",
          "partitionBy": "[]",
          "properties": "{}"
         },
         null,
         [
          "155114884900170"
         ],
         "1009-230658-ayq3d9ms",
         null,
         "WriteSerializable",
         true,
         {
          "numFiles": "1",
          "numOutputBytes": "583",
          "numOutputRows": "1"
         },
         null,
         "Databricks-Runtime/12.2.x-scala2.12"
        ]
       ],
       "datasetInfos": [],
       "dbfsResultPath": null,
       "isJsonSchema": true,
       "metadata": {},
       "overflow": false,
       "plotOptions": {
        "customPlotOptions": {},
        "displayType": "table",
        "pivotAggregation": null,
        "pivotColumns": null,
        "xColumns": null,
        "yColumns": null
       },
       "removedWidgets": [],
       "schema": [
        {
         "metadata": "{}",
         "name": "version",
         "type": "\"long\""
        },
        {
         "metadata": "{}",
         "name": "timestamp",
         "type": "\"timestamp\""
        },
        {
         "metadata": "{}",
         "name": "userId",
         "type": "\"string\""
        },
        {
         "metadata": "{}",
         "name": "userName",
         "type": "\"string\""
        },
        {
         "metadata": "{}",
         "name": "operation",
         "type": "\"string\""
        },
        {
         "metadata": "{}",
         "name": "operationParameters",
         "type": "{\"type\":\"map\",\"keyType\":\"string\",\"valueType\":\"string\",\"valueContainsNull\":true}"
        },
        {
         "metadata": "{}",
         "name": "job",
         "type": "{\"type\":\"struct\",\"fields\":[{\"name\":\"jobId\",\"type\":\"string\",\"nullable\":true,\"metadata\":{}},{\"name\":\"jobName\",\"type\":\"string\",\"nullable\":true,\"metadata\":{}},{\"name\":\"jobRunId\",\"type\":\"string\",\"nullable\":true,\"metadata\":{}},{\"name\":\"runId\",\"type\":\"string\",\"nullable\":true,\"metadata\":{}},{\"name\":\"jobOwnerId\",\"type\":\"string\",\"nullable\":true,\"metadata\":{}},{\"name\":\"triggerType\",\"type\":\"string\",\"nullable\":true,\"metadata\":{}}]}"
        },
        {
         "metadata": "{}",
         "name": "notebook",
         "type": "{\"type\":\"struct\",\"fields\":[{\"name\":\"notebookId\",\"type\":\"string\",\"nullable\":true,\"metadata\":{}}]}"
        },
        {
         "metadata": "{}",
         "name": "clusterId",
         "type": "\"string\""
        },
        {
         "metadata": "{}",
         "name": "readVersion",
         "type": "\"long\""
        },
        {
         "metadata": "{}",
         "name": "isolationLevel",
         "type": "\"string\""
        },
        {
         "metadata": "{}",
         "name": "isBlindAppend",
         "type": "\"boolean\""
        },
        {
         "metadata": "{}",
         "name": "operationMetrics",
         "type": "{\"type\":\"map\",\"keyType\":\"string\",\"valueType\":\"string\",\"valueContainsNull\":true}"
        },
        {
         "metadata": "{}",
         "name": "userMetadata",
         "type": "\"string\""
        },
        {
         "metadata": "{}",
         "name": "engineInfo",
         "type": "\"string\""
        }
       ],
       "type": "table"
      }
     },
     "output_type": "display_data"
    }
   ],
   "source": [
    "%sql\n",
    "desc history teste1"
   ]
  },
  {
   "cell_type": "code",
   "execution_count": 0,
   "metadata": {
    "application/vnd.databricks.v1+cell": {
     "cellMetadata": {
      "byteLimit": 2048000,
      "implicitDf": true,
      "rowLimit": 10000
     },
     "inputWidgets": {},
     "nuid": "8e9aaadb-fa15-4f1f-904f-c46a88776074",
     "showTitle": false,
     "title": ""
    }
   },
   "outputs": [
    {
     "output_type": "display_data",
     "data": {
      "text/html": [
       "<style scoped>\n",
       "  .table-result-container {\n",
       "    max-height: 300px;\n",
       "    overflow: auto;\n",
       "  }\n",
       "  table, th, td {\n",
       "    border: 1px solid black;\n",
       "    border-collapse: collapse;\n",
       "  }\n",
       "  th, td {\n",
       "    padding: 5px;\n",
       "  }\n",
       "  th {\n",
       "    text-align: left;\n",
       "  }\n",
       "</style><div class='table-result-container'><table class='table-result'><thead style='background-color: white'><tr><th>teste</th></tr></thead><tbody><tr><td>1</td></tr></tbody></table></div>"
      ]
     },
     "metadata": {
      "application/vnd.databricks.v1+output": {
       "addedWidgets": {},
       "aggData": [],
       "aggError": "",
       "aggOverflow": false,
       "aggSchema": [],
       "aggSeriesLimitReached": false,
       "aggType": "",
       "arguments": {},
       "columnCustomDisplayInfos": {},
       "data": [
        [
         1
        ]
       ],
       "datasetInfos": [],
       "dbfsResultPath": null,
       "isJsonSchema": true,
       "metadata": {},
       "overflow": false,
       "plotOptions": {
        "customPlotOptions": {},
        "displayType": "table",
        "pivotAggregation": null,
        "pivotColumns": null,
        "xColumns": null,
        "yColumns": null
       },
       "removedWidgets": [],
       "schema": [
        {
         "metadata": "{}",
         "name": "teste",
         "type": "\"integer\""
        }
       ],
       "type": "table"
      }
     },
     "output_type": "display_data"
    }
   ],
   "source": [
    "%sql\n",
    "select *  from teste1  version as of 0"
   ]
  },
  {
   "cell_type": "markdown",
   "metadata": {
    "application/vnd.databricks.v1+cell": {
     "cellMetadata": {},
     "inputWidgets": {},
     "nuid": "3b29a4bf-cec2-48be-9416-990c09ac7d2f",
     "showTitle": false,
     "title": ""
    }
   },
   "source": [
    "<img src=\"https://www.dremio.com/wp-content/uploads/2022/06/Iceberg@2x-768x582.png\" style=\"border: 1px solid #aaa; border-radius: 10px 10px 10px 10px; box-shadow: 5px 5px 5px #aaa\"/>\n",
    "<img src=\"https://www.dremio.com/wp-content/uploads/2022/06/Apache-Hudi@2x-768x582.png\" style=\"border: 1px solid #aaa; border-radius: 10px 10px 10px 10px; box-shadow: 5px 5px 5px #aaa\"/>\n",
    "<img src=\"https://www.dremio.com/wp-content/uploads/2022/06/Delta-Lake@2x-768x582.png\" style=\"border: 1px solid #aaa; border-radius: 10px 10px 10px 10px; box-shadow: 5px 5px 5px #aaa\"/>\n",
    "\n",
    "\n",
    "\n"
   ]
  }
 ],
 "metadata": {
  "application/vnd.databricks.v1+notebook": {
   "dashboards": [],
   "environmentMetadata": null,
   "language": "python",
   "notebookMetadata": {
    "mostRecentlyExecutedCommandWithImplicitDF": {
     "commandId": 1615730093238132,
     "dataframes": [
      "_sqldf"
     ]
    },
    "pythonIndentUnit": 2
   },
   "notebookName": "AULA_4_DE",
   "widgets": {}
  },
  "colab": {
   "provenance": []
  },
  "kernelspec": {
   "display_name": "Python 3",
   "name": "python3"
  },
  "language_info": {
   "name": "python"
  }
 },
 "nbformat": 4,
 "nbformat_minor": 0
}
