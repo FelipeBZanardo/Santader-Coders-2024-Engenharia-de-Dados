{
 "cells": [
  {
   "cell_type": "code",
   "execution_count": 0,
   "metadata": {
    "application/vnd.databricks.v1+cell": {
     "cellMetadata": {
      "byteLimit": 2048000,
      "rowLimit": 10000
     },
     "inputWidgets": {},
     "nuid": "085cf514-3096-4efc-b4b0-049575f6603e",
     "showTitle": false,
     "title": ""
    }
   },
   "outputs": [],
   "source": [
    "import requests\n",
    "import pandas as pd\n",
    "\n",
    "\n",
    "dbutils.widgets.text(\"cidades\",\"\")\n",
    "\n",
    "API_KEY = 'c0e2494c16ae9bfc8284f2528f7dfdaa'\n",
    "lista_cidades = dbutils.widgets.get(\"cidades\").split(\",\")\n",
    "\n",
    "lista_previsao = []\n",
    "lista_dados = []\n",
    "for cidade in lista_cidades:\n",
    "  url_geo = f\"http://api.openweathermap.org/geo/1.0/direct?q={cidade}&appid={API_KEY}\"\n",
    "  response_geo = requests.get(url_geo).json()\n",
    "  dici_previsao = {\"cidade\":cidade,\"latitude\":response_geo[0][\"lat\"],\"longitude\":response_geo[0][\"lon\"]}\n",
    "  lista_previsao.append(dici_previsao)\n",
    "\n",
    "\n",
    "spark.createDataFrame(lista_previsao).write.format(\"delta\").mode(\"overwrite\").saveAsTable(\"cidades_geo\")\n"
   ]
  }
 ],
 "metadata": {
  "application/vnd.databricks.v1+notebook": {
   "dashboards": [],
   "environmentMetadata": null,
   "language": "python",
   "notebookMetadata": {
    "mostRecentlyExecutedCommandWithImplicitDF": {
     "commandId": 2418070092974093,
     "dataframes": [
      "_sqldf"
     ]
    },
    "pythonIndentUnit": 2
   },
   "notebookName": "geolocalizacao_cidades",
   "widgets": {
    "cidades": {
     "currentValue": "porto alegre,ourinhos,belem",
     "nuid": "2008a8a2-56b7-4c9b-a18a-dd5c2f96fc69",
     "typedWidgetInfo": null,
     "widgetInfo": {
      "widgetType": "text",
      "defaultValue": "",
      "label": null,
      "name": "cidades",
      "options": {
       "widgetType": "text",
       "autoCreated": null,
       "validationRegex": null
      }
     }
    }
   }
  }
 },
 "nbformat": 4,
 "nbformat_minor": 0
}
