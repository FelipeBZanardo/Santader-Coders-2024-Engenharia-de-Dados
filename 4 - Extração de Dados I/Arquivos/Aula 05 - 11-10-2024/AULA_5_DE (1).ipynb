{
 "cells": [
  {
   "cell_type": "markdown",
   "metadata": {
    "application/vnd.databricks.v1+cell": {
     "cellMetadata": {},
     "inputWidgets": {},
     "nuid": "9fe50754-1088-4958-9496-8a8a313aaf4f",
     "showTitle": false,
     "title": ""
    }
   },
   "source": [
    "# Tipos de processamento de dados: Batch x Streaming e Arquitetura Orientada a Eventos\n",
    "\n",
    "![batchxstreaming](https://nexocode.com/images/nexo_blog_thumbnail_batch_vs_stream_processing.webp)\n",
    "\n",
    "### Processamento em Lote (Batch Processing)\n",
    "\n",
    "O processamento em lote é um modelo em que os dados são processados em blocos fixos ou \"lotes\". Neste modelo:\n",
    "\n",
    "- **Características**:\n",
    "  - Os dados são coletados ao longo de um período de tempo e, em seguida, processados em um lote.\n",
    "  - O processamento é geralmente feito em intervalos regulares, como a cada hora, dia ou semana.\n",
    "  - É adequado para casos em que a latência não é crítica e é aceitável ter um certo atraso no processamento.\n",
    "  - Os dados são armazenados e processados como uma unidade.\n",
    "\n",
    "### Processamento de Streaming (Stream Processing)\n",
    "\n",
    "O processamento de streaming é um modelo em que os dados são processados à medida que chegam, em fluxo contínuo. Neste modelo:\n",
    "\n",
    "- **Características**:\n",
    "  - Os dados são processados à medida que são gerados, em tempo real ou quase em tempo real.\n",
    "  - É adequado para casos em que a latência é crítica e as respostas devem ser imediatas.\n",
    "  - Os dados são tratados como uma sequência infinita e contínua."
   ]
  },
  {
   "cell_type": "markdown",
   "metadata": {
    "application/vnd.databricks.v1+cell": {
     "cellMetadata": {},
     "inputWidgets": {},
     "nuid": "36771020-c626-4e06-bb96-60981ca9638f",
     "showTitle": false,
     "title": ""
    }
   },
   "source": [
    "### Arquitetura de Dados Orientada a Eventos\n",
    "\n",
    "Na arquitetura de dados orientada a eventos, os sistemas são construídos em torno da produção, detecção, consumo e reação a eventos. Um evento pode ser qualquer coisa que mereça atenção dentro do sistema, como a criação de um novo usuário, um pedido sendo feito, um pagamento sendo processado, entre outros.\n",
    "\n",
    "#### Componentes Principais:\n",
    "1. **Event Producer (Produtor de Eventos)**: Este componente é responsável por gerar eventos quando algo significativo acontece no sistema. Por exemplo, quando um pedido é feito em um aplicativo de comércio eletrônico, o sistema pode gerar um evento de \"Pedido Recebido\".\n",
    "\n",
    "2. **Event Consumer (Consumidor de Eventos)**: Este componente é responsável por receber e reagir aos eventos. Pode ser um serviço que está interessado em eventos específicos, como um serviço de notificação que envia e-mails quando um novo pedido é recebido.\n",
    "\n",
    "3. **Event Bus (Barramento de Eventos)**: É um mecanismo que facilita a comunicação entre produtores e consumidores de eventos. Ele recebe eventos dos produtores e os encaminha para os consumidores relevantes. Exemplos incluem Kafka, RabbitMQ, etc.\n",
    "\n",
    "4. **Event Store (Armazenamento de Eventos)**: Onde os eventos são armazenados por um período de tempo. Isso é útil para auditoria, reconstrução de estado, entre outras funcionalidades.\n",
    "\n",
    "### Webhooks na Arquitetura de Dados de Eventos\n",
    "\n",
    "Os Webhooks são uma implementação específica dessa arquitetura de eventos, comumente usada na comunicação entre sistemas web. Aqui está como eles funcionam:\n",
    "\n",
    "- Um serviço (o **Webhook Consumer**) se registra para receber notificações sobre eventos específicos de outro serviço (o **Webhook Provider**).\n",
    "\n",
    "- Quando o evento ocorre no Provider, ele envia uma solicitação HTTP POST para o URL registrado do Consumer, contendo informações sobre o evento.\n",
    "\n",
    "- O Consumer recebe essa solicitação, processa o evento e realiza ações apropriadas com base nas informações recebidas.\n",
    "\n",
    "#### Exemplo Prático:\n",
    "\n",
    "1. **Registro do Webhook**:\n",
    "   - Um serviço de pagamento (Provider) oferece a opção de Webhooks para notificar sistemas sobre pagamentos bem-sucedidos.\n",
    "   - Um sistema de comércio eletrônico (Consumer) registra um URL específico como seu Webhook para receber notificações de pagamento.\n",
    "\n",
    "2. **Evento de Pagamento**:\n",
    "   - Um cliente faz uma compra e o pagamento é processado com sucesso pelo serviço de pagamento.\n",
    "   - O serviço de pagamento gera um evento de \"Pagamento Bem-Sucedido\".\n",
    "\n",
    "3. **Notificação via Webhook**:\n",
    "   - O serviço de pagamento envia um POST para o URL do Webhook registrado pelo sistema de comércio eletrônico.\n",
    "   - A solicitação POST contém informações sobre o pagamento, como ID do pedido, valor, etc.\n",
    "\n",
    "4. **Processamento do Evento**:\n",
    "   - O sistema de comércio eletrônico recebe a solicitação POST do Webhook.\n",
    "   - Ele atualiza o status do pedido para \"Pago\" no banco de dados.\n",
    "   - Pode enviar um e-mail de confirmação para o cliente.\n",
    "\n",
    "### Vantagens dos Webhooks na Arquitetura de Dados de Eventos\n",
    "\n",
    "- **Assincronia**: Os Webhooks permitem comunicação assíncrona entre sistemas, reduzindo o acoplamento.\n",
    "\n",
    "- **Reatividade**: Os sistemas podem reagir imediatamente a eventos, desencadeando ações em tempo real.\n",
    "\n",
    "- **Escalabilidade**: Comunicação sem bloqueio permite lidar com volumes de eventos variáveis.\n",
    "\n",
    "- **Facilidade de Integração**: Simplifica a integração entre diferentes sistemas sem a necessidade de polling (repetidamente perguntar se há novos dados)."
   ]
  },
  {
   "cell_type": "markdown",
   "metadata": {
    "application/vnd.databricks.v1+cell": {
     "cellMetadata": {},
     "inputWidgets": {},
     "nuid": "7612df14-2a31-4216-b429-ac556c292eb9",
     "showTitle": false,
     "title": ""
    }
   },
   "source": [
    "## O que é Flask?\n",
    "\n",
    "![flask](https://miro.medium.com/v2/resize:fit:438/1*0G5zu7CnXdMT9pGbYUTQLQ.png)\n",
    "\n",
    "Flask é um micro framework para desenvolvimento web em Python. Uma de suas funcionalidades é a facilitação da construção de APIs REST.\n",
    "\n",
    "## Instalação do Flask\n",
    "\n",
    "```bash\n",
    "pip install Flask\n",
    "```\n",
    "\n",
    "## Estrutura Básica de uma Aplicação Flask\n",
    "\n",
    "Vamos criar um exemplo simples de aplicação Flask. Abra seu editor de texto e crie um arquivo chamado `app.py`:\n",
    "\n",
    "```python\n",
    "from flask import Flask\n",
    "\n",
    "app = Flask(\"app\")\n",
    "\n",
    "@app.route('/')\n",
    "def home():\n",
    "    return \"Olá, Flask!\"\n",
    "\n",
    "app.run()\n",
    "```\n",
    "\n",
    "## Endpoints\n",
    "Um endpoint é um URL específico que a aplicação Flask responde. Cada endpoint é associado a uma função Python que define a lógica para responder a solicitações HTTP para aquele URL.\n",
    "\n",
    "### Definindo Rotas\n",
    "\n",
    "```python\n",
    "@app.route('/about')\n",
    "def about():\n",
    "    return \"Sobre nós\"\n",
    "\n",
    "@app.route('/contact')\n",
    "def contact():\n",
    "    return \"Contato\"\n",
    "```\n",
    "\n",
    "## Métodos HTTP\n",
    "\n",
    "Por padrão, as rotas Flask respondem a solicitações GET porem podemos especificar outros métodos:\n",
    "\n",
    "```python\n",
    "@app.route('/submit', methods=['POST'])\n",
    "def submit():\n",
    "    return \"Formulário enviado!\"\n",
    "```\n",
    "\n",
    "## Variáveis de Rota\n",
    "\n",
    "Podemos criar rotas dinâmicas que aceitam parâmetros:\n",
    "\n",
    "```python\n",
    "@app.route('/user/<username>')\n",
    "def show_user_profile(username):\n",
    "    return f\"Perfil do usuário: {username}\"\n",
    "\n",
    "@app.route('/post/<int:post_id>')\n",
    "def show_post(post_id):\n",
    "    return f\"Post número: {post_id}\"\n",
    "```\n",
    "\n",
    "Essas rotas aceitam variáveis que podem ser usadas dentro das funções para gerar respostas dinâmicas."
   ]
  },
  {
   "cell_type": "code",
   "execution_count": 0,
   "metadata": {
    "application/vnd.databricks.v1+cell": {
     "cellMetadata": {
      "byteLimit": 2048000,
      "rowLimit": 10000
     },
     "inputWidgets": {},
     "nuid": "f52cbe19-2f15-426b-a6dc-8306d36c11a7",
     "showTitle": false,
     "title": ""
    }
   },
   "outputs": [
    {
     "output_type": "stream",
     "name": "stdout",
     "output_type": "stream",
     "text": [
      " * Serving Flask app 'app'\n * Debug mode: off\n"
     ]
    },
    {
     "output_type": "stream",
     "name": "stderr",
     "output_type": "stream",
     "text": [
      "\u001B[31m\u001B[1mWARNING: This is a development server. Do not use it in a production deployment. Use a production WSGI server instead.\u001B[0m\n * Running on http://127.0.0.1:5000\n\u001B[33mPress CTRL+C to quit\u001B[0m\n127.0.0.1 - - [11/Oct/2024 23:08:43] \"GET /teste HTTP/1.1\" 200 -\n"
     ]
    },
    {
     "output_type": "display_data",
     "data": {
      "text/html": [
       "<style scoped>\n",
       "  .ansiout {\n",
       "    display: block;\n",
       "    unicode-bidi: embed;\n",
       "    white-space: pre-wrap;\n",
       "    word-wrap: break-word;\n",
       "    word-break: break-all;\n",
       "    font-family: \"Menlo\", \"Monaco\", \"Consolas\", \"Ubuntu Mono\", \"Source Code Pro\", monospace;\n",
       "    font-size: 13px;\n",
       "    color: #555;\n",
       "    margin-left: 4px;\n",
       "    line-height: 19px;\n",
       "  }\n",
       "</style>"
      ]
     },
     "metadata": {
      "application/vnd.databricks.v1+output": {
       "arguments": {},
       "data": "",
       "errorSummary": "Cancelled",
       "errorTraceType": "html",
       "metadata": {},
       "type": "ipynbError"
      }
     },
     "output_type": "display_data"
    }
   ],
   "source": [
    "from flask import Flask,request\n",
    "\n",
    "app = Flask(\"app\")\n",
    "\n",
    "@app.route('/home')\n",
    "def home():\n",
    "    return \"Olá, Flask!\"\n",
    "\n",
    "@app.route('/about')\n",
    "def about():\n",
    "    return \"Sobre nós\"\n",
    "\n",
    "@app.route('/contact')\n",
    "def contact():\n",
    "    return \"Contato\"\n",
    "\n",
    "@app.route('/submit', methods=['POST'])\n",
    "def submit():\n",
    "    return \"Formulário enviado!\"\n",
    "\n",
    "@app.route('/user/<username>')\n",
    "def show_user_profile(username):\n",
    "    return f\"Perfil do usuário: {username}\"\n",
    "\n",
    "@app.route('/post/<int:post_id>')\n",
    "def show_post(post_id):\n",
    "    return f\"Post número: {post_id}\"\n",
    "  \n",
    "@app.route('/webhook', methods=['POST'])\n",
    "def webhook():\n",
    "    data = request.get_json()\n",
    "    print(\"Dados:\", data)\n",
    "    return 'Webhook OK', 200\n",
    "\n",
    "@app.route('/teste')\n",
    "def teste():\n",
    "  return \"teste diogo\"\n",
    "\n",
    "app.run()"
   ]
  },
  {
   "cell_type": "code",
   "execution_count": 0,
   "metadata": {
    "application/vnd.databricks.v1+cell": {
     "cellMetadata": {
      "byteLimit": 2048000,
      "rowLimit": 10000
     },
     "inputWidgets": {},
     "nuid": "77b97e40-5f5d-448d-8fcb-2e8ddfa959ce",
     "showTitle": false,
     "title": ""
    }
   },
   "outputs": [
    {
     "output_type": "display_data",
     "data": {
      "text/html": [
       "<style scoped>\n",
       "  .ansiout {\n",
       "    display: block;\n",
       "    unicode-bidi: embed;\n",
       "    white-space: pre-wrap;\n",
       "    word-wrap: break-word;\n",
       "    word-break: break-all;\n",
       "    font-family: \"Menlo\", \"Monaco\", \"Consolas\", \"Ubuntu Mono\", \"Source Code Pro\", monospace;\n",
       "    font-size: 13px;\n",
       "    color: #555;\n",
       "    margin-left: 4px;\n",
       "    line-height: 19px;\n",
       "  }\n",
       "</style>"
      ]
     },
     "metadata": {
      "application/vnd.databricks.v1+output": {
       "arguments": {},
       "data": "",
       "errorSummary": "Cancelled",
       "errorTraceType": "html",
       "metadata": {},
       "type": "ipynbError"
      }
     },
     "output_type": "display_data"
    }
   ],
   "source": [
    "1+1"
   ]
  },
  {
   "cell_type": "markdown",
   "metadata": {
    "application/vnd.databricks.v1+cell": {
     "cellMetadata": {},
     "inputWidgets": {},
     "nuid": "adff9a07-4fc4-4402-ab6a-21320260a3f2",
     "showTitle": false,
     "title": ""
    }
   },
   "source": [
    "## O que é FastAPI?\n",
    "\n",
    "![fastapi](https://fastapi.tiangolo.com/img/logo-margin/logo-teal.png)\n",
    "\n",
    "FastAPI é um framework moderno e de alto desempenho para construção de APIs com Python. Ele é projetado para ser fácil de usar e entender, permitindo a criação rápida de aplicações web robustas.\n",
    "\n",
    "## Instalação do FastAPI\n",
    "\n",
    "```bash\n",
    "pip install fastapi uvicorn\n",
    "```\n",
    "\n",
    "## Estrutura Básica de uma Aplicação FastAPI\n",
    "\n",
    "\n",
    "```python\n",
    "from fastapi import FastAPI\n",
    "import uvicorn\n",
    "\n",
    "app = FastAPI()\n",
    "\n",
    "@app.get(\"/\")\n",
    "def read_root():\n",
    "    return \"Olá, FastAPI!\"\n",
    "\n",
    "\n",
    "\n",
    "config = uvicorn.Config(app)\n",
    "server = uvicorn.Server(config)\n",
    "await server.serve()\n",
    "```\n",
    "\n",
    "## Endpoints\n",
    "Um endpoint é um URL específico que a aplicação FastAPI responde. Cada endpoint é associado a uma função Python que define a lógica para responder a solicitações HTTP para aquele URL.\n",
    "\n",
    "### Definindo Rotas\n",
    "\n",
    "```python\n",
    "@app.get(\"/about\")\n",
    "def read_about():\n",
    "    return \"Sobre nós\"\n",
    "\n",
    "@app.get(\"/contact\")\n",
    "def read_contact():\n",
    "    return \"Contato\"\n",
    "```\n",
    "\n",
    "## Métodos HTTP\n",
    "\n",
    "Por padrão, as rotas FastAPI respondem a solicitações GET, mas podemos especificar outros métodos:\n",
    "\n",
    "```python\n",
    "@app.post(\"/submit\")\n",
    "def submit():\n",
    "    return \"Formulário enviado!\"\n",
    "```\n",
    "\n",
    "## Variáveis de Rota\n",
    "\n",
    "Podemos criar rotas dinâmicas que aceitam parâmetros:\n",
    "\n",
    "```python\n",
    "@app.get(\"/user/{username}\")\n",
    "def read_user(username: str):\n",
    "    return f\"Perfil do usuário: {username}\"\n",
    "\n",
    "@app.get(\"/post/{post_id}\")\n",
    "def read_post(post_id: int):\n",
    "    return f\"Post número: {post_id}\n",
    "```\n",
    "\n",
    "Essas rotas aceitam variáveis que podem ser usadas dentro das funções para gerar respostas dinâmicas."
   ]
  },
  {
   "cell_type": "code",
   "execution_count": 0,
   "metadata": {
    "application/vnd.databricks.v1+cell": {
     "cellMetadata": {
      "byteLimit": 2048000,
      "rowLimit": 10000
     },
     "inputWidgets": {},
     "nuid": "7d3a690b-8309-48b8-8615-0e4a388f1fd9",
     "showTitle": false,
     "title": ""
    }
   },
   "outputs": [
    {
     "output_type": "stream",
     "name": "stdout",
     "output_type": "stream",
     "text": [
      "Python interpreter will be restarted.\nCollecting fastapi\n  Downloading fastapi-0.115.0-py3-none-any.whl (94 kB)\nCollecting uvicorn\n  Downloading uvicorn-0.31.1-py3-none-any.whl (63 kB)\nCollecting pydantic!=1.8,!=1.8.1,!=2.0.0,!=2.0.1,!=2.1.0,<3.0.0,>=1.7.4\n  Downloading pydantic-2.9.2-py3-none-any.whl (434 kB)\nCollecting typing-extensions>=4.8.0\n  Downloading typing_extensions-4.12.2-py3-none-any.whl (37 kB)\nCollecting starlette<0.39.0,>=0.37.2\n  Downloading starlette-0.38.6-py3-none-any.whl (71 kB)\nCollecting h11>=0.8\n  Downloading h11-0.14.0-py3-none-any.whl (58 kB)\nRequirement already satisfied: click>=7.0 in /local_disk0/.ephemeral_nfs/envs/pythonEnv-9852da32-5ef6-4865-899b-8fc981b21177/lib/python3.9/site-packages (from uvicorn) (8.1.7)\nCollecting annotated-types>=0.6.0\n  Downloading annotated_types-0.7.0-py3-none-any.whl (13 kB)\nCollecting pydantic-core==2.23.4\n  Downloading pydantic_core-2.23.4-cp39-cp39-manylinux_2_17_x86_64.manylinux2014_x86_64.whl (2.1 MB)\nCollecting anyio<5,>=3.4.0\n  Downloading anyio-4.6.0-py3-none-any.whl (89 kB)\nCollecting sniffio>=1.1\n  Downloading sniffio-1.3.1-py3-none-any.whl (10 kB)\nRequirement already satisfied: idna>=2.8 in /databricks/python3/lib/python3.9/site-packages (from anyio<5,>=3.4.0->starlette<0.39.0,>=0.37.2->fastapi) (3.3)\nCollecting exceptiongroup>=1.0.2\n  Downloading exceptiongroup-1.2.2-py3-none-any.whl (16 kB)\nInstalling collected packages: typing-extensions, sniffio, exceptiongroup, pydantic-core, anyio, annotated-types, starlette, pydantic, h11, uvicorn, fastapi\n  Attempting uninstall: typing-extensions\n    Found existing installation: typing-extensions 4.1.1\n    Not uninstalling typing-extensions at /databricks/python3/lib/python3.9/site-packages, outside environment /local_disk0/.ephemeral_nfs/envs/pythonEnv-9852da32-5ef6-4865-899b-8fc981b21177\n    Can't uninstall 'typing-extensions'. No files were found to uninstall.\nSuccessfully installed annotated-types-0.7.0 anyio-4.6.0 exceptiongroup-1.2.2 fastapi-0.115.0 h11-0.14.0 pydantic-2.9.2 pydantic-core-2.23.4 sniffio-1.3.1 starlette-0.38.6 typing-extensions-4.12.2 uvicorn-0.31.1\nPython interpreter will be restarted.\n"
     ]
    }
   ],
   "source": [
    "pip install fastapi    asas"
   ]
  },
  {
   "cell_type": "code",
   "execution_count": 0,
   "metadata": {
    "application/vnd.databricks.v1+cell": {
     "cellMetadata": {
      "byteLimit": 2048000,
      "rowLimit": 10000
     },
     "inputWidgets": {},
     "nuid": "81b4aa79-18e9-4934-8c99-7515392ed976",
     "showTitle": false,
     "title": ""
    }
   },
   "outputs": [
    {
     "output_type": "stream",
     "name": "stderr",
     "output_type": "stream",
     "text": [
      "INFO:     Started server process [7827]\nINFO:     Waiting for application startup.\nINFO:     Application startup complete.\nINFO:     Uvicorn running on http://127.0.0.1:8000 (Press CTRL+C to quit)\n"
     ]
    },
    {
     "output_type": "stream",
     "name": "stdout",
     "output_type": "stream",
     "text": [
      "INFO:     127.0.0.1:48792 - \"GET /about HTTP/1.1\" 200 OK\n"
     ]
    },
    {
     "output_type": "display_data",
     "data": {
      "text/html": [
       "<style scoped>\n",
       "  .ansiout {\n",
       "    display: block;\n",
       "    unicode-bidi: embed;\n",
       "    white-space: pre-wrap;\n",
       "    word-wrap: break-word;\n",
       "    word-break: break-all;\n",
       "    font-family: \"Menlo\", \"Monaco\", \"Consolas\", \"Ubuntu Mono\", \"Source Code Pro\", monospace;\n",
       "    font-size: 13px;\n",
       "    color: #555;\n",
       "    margin-left: 4px;\n",
       "    line-height: 19px;\n",
       "  }\n",
       "</style>"
      ]
     },
     "metadata": {
      "application/vnd.databricks.v1+output": {
       "arguments": {},
       "data": "",
       "errorSummary": "Cancelled",
       "errorTraceType": "html",
       "metadata": {},
       "type": "ipynbError"
      }
     },
     "output_type": "display_data"
    }
   ],
   "source": [
    "from fastapi import FastAPI\n",
    "import uvicorn\n",
    "\n",
    "app = FastAPI()\n",
    "\n",
    "@app.get(\"/\")\n",
    "def read_root():\n",
    "    return \"Olá, FastAPI!\"\n",
    "\n",
    "@app.get(\"/about\")\n",
    "def read_about():\n",
    "    return \"Sobre nós\"\n",
    "\n",
    "@app.get(\"/contact\")\n",
    "def read_contact():\n",
    "    return \"Contato\"\n",
    "\n",
    "config = uvicorn.Config(app)\n",
    "server = uvicorn.Server(config)\n",
    "await server.serve()"
   ]
  },
  {
   "cell_type": "markdown",
   "metadata": {
    "application/vnd.databricks.v1+cell": {
     "cellMetadata": {},
     "inputWidgets": {},
     "nuid": "c7965dbc-8f66-4182-903a-60cb6b2afcde",
     "showTitle": false,
     "title": ""
    }
   },
   "source": [
    "##WEBHOOKS\n",
    "\n",
    "Criando uma API para Webhooks em Python usando Flask e FastAPI\n",
    "\n",
    "\n",
    "### Configurando o ambiente\n",
    "\n",
    "\n",
    "```bash\n",
    "pip install flask fastapi uvicorn\n",
    "```\n",
    "\n",
    "### Usando Flask\n",
    "\n",
    "#### Criando uma API Flask Webhook\n",
    "\n",
    "Primeiro, vamos criar um aplicativo Flask básico que escuta solicitações de webhook recebidas e registra os dados recebidos.\n",
    "\n",
    "```python\n",
    "from flask import Flask, request\n",
    "\n",
    "app = Flask(\"app\")\n",
    "\n",
    "@app.route('/webhook', methods=['POST'])\n",
    "def webhook():\n",
    "    data = flask.request.get_json()\n",
    "    print(\"Dados:\", data)\n",
    "    return 'Webhook OK', 200\n",
    "\n",
    "app.run()\n",
    "```\n",
    "\n",
    "Neste exemplo, definimos uma rota `/webhook` que escuta solicitações POST. Quando uma solicitação é recebida, extraímos os dados JSON dela, processamos conforme necessário e registramos no console.\n",
    "\n",
    "### Usando FastAPI\n",
    "\n",
    "#### Criando uma API FastAPI Webhook\n",
    "\n",
    "FastAPI é uma estrutura web Python moderna que simplifica a criação de APIs. Vamos criar um aplicativo FastAPI que execute a mesma funcionalidade de webhook.\n",
    "\n",
    "```python\n",
    "from fastapi import FastAPI\n",
    "\n",
    "app = FastAPI()\n",
    "\n",
    "@app.get(\"/\")\n",
    "def read_root():\n",
    "    return {\"message\": \"Hello, FastAPI in Databricks!\"}\n",
    "\n",
    "\n",
    "\n",
    "\n",
    "config = uvicorn.Config(app)\n",
    "server = uvicorn.Server(config)\n",
    "await server.serve()\n",
    "```\n",
    "\n"
   ]
  },
  {
   "cell_type": "code",
   "execution_count": 0,
   "metadata": {
    "application/vnd.databricks.v1+cell": {
     "cellMetadata": {
      "byteLimit": 2048000,
      "rowLimit": 10000
     },
     "inputWidgets": {},
     "nuid": "495d2377-998f-4115-9855-c834ba909726",
     "showTitle": false,
     "title": ""
    }
   },
   "outputs": [],
   "source": [
    "pip install flask fastapi uvicorn"
   ]
  },
  {
   "cell_type": "code",
   "execution_count": 0,
   "metadata": {
    "application/vnd.databricks.v1+cell": {
     "cellMetadata": {
      "byteLimit": 2048000,
      "rowLimit": 10000
     },
     "inputWidgets": {},
     "nuid": "0a9e4ab2-677f-460f-9070-d9e4dd19d11e",
     "showTitle": false,
     "title": ""
    }
   },
   "outputs": [],
   "source": [
    "from flask import Flask, request\n",
    "import flask\n",
    "\n",
    "app = Flask(\"app\")\n",
    "\n",
    "#codigo\n",
    "@app.route(\"/\", methods=[\"GET\"])\n",
    "def ola():\n",
    "\n",
    "    return \"ola\"\n",
    "\n",
    "@app.route(\"/consome_dados\", methods=[\"POST\"])\n",
    "def consome_dados():\n",
    "    lista = []\n",
    "    data = flask.request.get_data()\n",
    "    return data\n",
    "\n",
    "@app.route(\"/query/<filtro>/<valor_filtro>/<limite>\", methods=[\"GET\"])\n",
    "def retorna_aluno(nome_aluno):\n",
    "  spark.sql(\"\"\"select * from tabela_news where \n",
    "            {filtro} = {valor_fil}\"\"\")\n",
    "  \n",
    "  return nome_aluno\n",
    "\n",
    "@app.route(\"/query/\", methods=[\"POST\"])\n",
    "def consome_query():\n",
    "    lista = []\n",
    "    data = flask.request.get_data()\n",
    "    query = data[\"query\"]\n",
    "    spark.sql(query)\n",
    "\n",
    "app.run()"
   ]
  },
  {
   "cell_type": "code",
   "execution_count": 0,
   "metadata": {
    "application/vnd.databricks.v1+cell": {
     "cellMetadata": {
      "byteLimit": 2048000,
      "rowLimit": 10000
     },
     "inputWidgets": {},
     "nuid": "df8c33cd-d27c-4c4f-a180-ec91ec99ce64",
     "showTitle": false,
     "title": ""
    }
   },
   "outputs": [],
   "source": [
    "from fastapi import FastAPI, Request\n",
    "import uvicorn\n",
    "\n",
    "app = FastAPI()\n",
    "\n",
    "@app.get(\"/\")\n",
    "def read_root():\n",
    "  return \"ola\"\n",
    "\n",
    "\n",
    "@app.post(\"/consome_dados\")\n",
    "async def consome_dados(request: Request):\n",
    "    data = await request.json()\n",
    "    print(data)\n",
    "    lista = []\n",
    "    lista.append(data)\n",
    "    df = spark.read.json((sc.parallelize(lista)))\n",
    "\n",
    "    df.write.mode(\"append\").format(\"parquet\").option(\n",
    "        \"path\", \"/FileStore/tables/tabela_webhook_fastapi\"\n",
    "    ).saveAsTable(\"tabela_webhook_fastapi\")\n",
    "    return \"Webhook OK\"\n",
    "  \n",
    "\n",
    "@app.get(\"/aluno/{nome_aluno}\")\n",
    "async def retorna_aluno(nome_aluno):\n",
    "    dados_alunos_1 = [\n",
    "        {\"Renan\": {\"Idade\": 26, \"Comida favorita\": \"XIS\"}}\n",
    "    ]\n",
    "    if nome_aluno == \"todos\":\n",
    "      return dados_alunos_1\n",
    "    \n",
    "    else:\n",
    "      for item in dados_alunos_1:\n",
    "        if nome_aluno == item.keys()[0]:\n",
    "          return item[nome_aluno]\n",
    "#codigo\n",
    "\n",
    "\n",
    "config = uvicorn.Config(app)\n",
    "server = uvicorn.Server(config)\n",
    "await server.serve()"
   ]
  }
 ],
 "metadata": {
  "application/vnd.databricks.v1+notebook": {
   "dashboards": [],
   "environmentMetadata": null,
   "language": "python",
   "notebookMetadata": {
    "mostRecentlyExecutedCommandWithImplicitDF": {
     "commandId": 3054581797744364,
     "dataframes": [
      "_sqldf"
     ]
    },
    "pythonIndentUnit": 2
   },
   "notebookName": "AULA_5_DE",
   "widgets": {}
  },
  "colab": {
   "provenance": []
  },
  "kernelspec": {
   "display_name": "Python 3",
   "name": "python3"
  },
  "language_info": {
   "name": "python"
  }
 },
 "nbformat": 4,
 "nbformat_minor": 0
}
