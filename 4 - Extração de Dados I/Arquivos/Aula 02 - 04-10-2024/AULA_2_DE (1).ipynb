{
 "cells": [
  {
   "cell_type": "markdown",
   "metadata": {
    "application/vnd.databricks.v1+cell": {
     "cellMetadata": {},
     "inputWidgets": {},
     "nuid": "9ad91775-4208-4b2d-81f6-4506396b1fec",
     "showTitle": false,
     "title": ""
    }
   },
   "source": [
    "# APIs\n",
    "\n",
    "Uma API (Interface de Programação de Aplicações) é um conjunto de regras e definições que permite que diferentes softwares se comuniquem entre si. Ela define como diferentes componentes de software devem interagir, permitindo que aplicativos, sistemas e serviços troquem informações e realizem ações de forma eficiente e padronizada.\n",
    "\n",
    "<img src=\"https://voyager.postman.com/illustration/diagram-what-is-an-api-postman-illustration.svg\" style=\"border: 1px solid #aaa; border-radius: 10px 10px 10px 10px; box-shadow: 5px 5px 5px #aaa\"/>\n",
    "\n",
    "\n",
    "\n",
    "1. **REST APIs (Representational State Transfer):**\n",
    "   - São APIs baseadas em um estilo arquitetural que enfatiza a simplicidade, escalabilidade e padronização.\n",
    "   - Utilizam os métodos HTTP padrão (GET, POST, PUT, DELETE) para acessar e manipular recursos.\n",
    "   - Retornam dados geralmente em formatos leves, como JSON ou XML.\n",
    "   - São mais comuns na web moderna devido à sua simplicidade, flexibilidade e eficiência.\n",
    "\n",
    "2. **SOAP APIs (Simple Object Access Protocol):**\n",
    "   - São APIs baseadas em um protocolo de comunicação XML para troca de mensagens em redes de computadores.\n",
    "   - São mais complexas e verbosas em comparação com as APIs REST.\n",
    "   - Podem usar protocolos como HTTP, SMTP ou outros para transporte de mensagens.\n",
    "   - São mais comuns em ambientes corporativos e em integrações entre sistemas legados, priorizando segurança e confiabilidade."
   ]
  },
  {
   "cell_type": "markdown",
   "metadata": {
    "application/vnd.databricks.v1+cell": {
     "cellMetadata": {},
     "inputWidgets": {},
     "nuid": "73ccdab9-5679-4826-ab70-eec4779eb112",
     "showTitle": false,
     "title": ""
    },
    "id": "gZp19UjIic4T"
   },
   "source": [
    "## REST APIs\n",
    "APIs REST (Representational State Transfer) são uma forma popular de permitir a comunicação e a troca de dados entre diferentes sistemas de software por HTTP. Python fornece uma biblioteca poderosa chamada `requests` para trabalhar com APIs REST, permitindo realizar vários tipos de solicitações.\n",
    "\n",
    "<img src=\"https://s3-us-west-2.amazonaws.com/assertible/blog/swagger-petstore-endpoint-methods.png\" style=\"border: 1px solid #aaa; border-radius: 10px 10px 10px 10px; box-shadow: 5px 5px 5px #aaa\"/>\n",
    "\n",
    "\n",
    "**1. GET**\n",
    "\n",
    "Uma solicitação GET é usada para recuperar dados de um servidor. É o método de solicitação HTTP mais comumente usado para buscar informações.\n",
    "\n",
    "\n",
    "\n",
    "**2. POST**\n",
    "\n",
    "Uma solicitação POST é usada para enviar dados ao servidor para criar um novo recurso. Muitas vezes é usado para enviar formulários ou fazer upload de dados.\n",
    "\n",
    "**3. PUT**\n",
    "\n",
    "Uma solicitação PUT é usada para atualizar um recurso existente no servidor ou criar um novo recurso se ele não existir. Normalmente requer a especificação de todos os dados do recurso.\n",
    "\n",
    "\n",
    "**4. DELETE**\n",
    "\n",
    "Uma solicitação DELETE é usada para remover um recurso do servidor."
   ]
  },
  {
   "cell_type": "markdown",
   "metadata": {
    "application/vnd.databricks.v1+cell": {
     "cellMetadata": {},
     "inputWidgets": {},
     "nuid": "edcfab8a-2d69-4cb5-bbd0-d76f8e4e14e6",
     "showTitle": false,
     "title": ""
    },
    "id": "7oJJ2Ggwhij1"
   },
   "source": [
    "## Response Codes\n",
    "\n",
    "<img src=\"https://static.wixstatic.com/media/850ae7_581a8111d7dd4134855ca2072370ce2d~mv2.png/v1/fill/w_640,h_406,al_c,q_85,usm_0.66_1.00_0.01,enc_auto/850ae7_581a8111d7dd4134855ca2072370ce2d~mv2.png\" style=\"border: 1px solid #aaa; border-radius: 10px 10px 10px 10px; box-shadow: 5px 5px 5px #aaa\"/>\n",
    "\n",
    "\n",
    "Os códigos de resposta HTTP, também conhecidos como códigos de status, são emitidos por um servidor em resposta à solicitação de um cliente. Eles fornecem informações sobre o resultado da solicitação e ajudam clientes e servidores a entender como lidar com a solicitação ou erro. Em Python, você pode acessar o código de resposta HTTP usando o atributo `status_code` ao usar a biblioteca `requests` para fazer solicitações HTTP.\n",
    "\n",
    "**1. 2xx - Successful**\n",
    "\n",
    "Esses códigos indicam que a solicitação foi recebida, compreendida e processada com sucesso pelo servidor.\n",
    "- `200 OK`: A solicitação foi bem-sucedida e o servidor está respondendo com os dados ou recursos solicitados.\n",
    "\n",
    "\n",
    "**2. 3xx - Redirection**\n",
    "\n",
    "Esses códigos indicam que são necessárias ações adicionais para concluir a solicitação. O cliente pode precisar seguir uma URL diferente ou realizar outra ação.\n",
    "- `301 Moved Permanently`: O recurso solicitado foi movido permanentemente para uma nova URL.\n",
    "\n",
    "**3. 4xx - Client Errors**\n",
    "\n",
    "Esses códigos indicam que houve um problema com a solicitação.\n",
    "\n",
    "- `400 Bad Request`: O servidor não conseguiu entender a solicitação do cliente devido a sintaxe inválida ou parâmetros ausentes.\n",
    "\n",
    "- `404 Not Found`: The requested resource could not be found on the server.\n",
    "\n",
    "**4. 5xx - Server Errors**\n",
    "\n",
    "Esses códigos indicam que houve um problema do lado do servidor durante o processamento da solicitação.\n",
    "\n",
    "- `500 Internal Server Error`: Uma mensagem de erro genérica indicando que algo deu errado no servidor.\n",
    "\n"
   ]
  },
  {
   "cell_type": "code",
   "execution_count": 0,
   "metadata": {
    "application/vnd.databricks.v1+cell": {
     "cellMetadata": {
      "byteLimit": 2048000,
      "rowLimit": 10000
     },
     "inputWidgets": {},
     "nuid": "e156dd5c-1686-4e2d-b00a-7ad200ab8eb8",
     "showTitle": false,
     "title": ""
    }
   },
   "outputs": [
    {
     "output_type": "stream",
     "name": "stdout",
     "output_type": "stream",
     "text": [
      "200 {\"quote\":\"Believe in your flyness...conquer your shyness.\"}\n"
     ]
    }
   ],
   "source": [
    "import requests\n",
    "\n",
    "url = \"https://api.kanye.rest\"\n"
   ]
  },
  {
   "cell_type": "markdown",
   "metadata": {
    "application/vnd.databricks.v1+cell": {
     "cellMetadata": {},
     "inputWidgets": {},
     "nuid": "fca69395-f8b9-4d7a-99c8-1f9975477ef4",
     "showTitle": false,
     "title": ""
    }
   },
   "source": [
    "## Exercício:\n",
    "\n",
    "Extrair e estruturar em formato de tabela dados de cotação do dólar em relação ao real.\n",
    "\n",
    "link: https://docs.awesomeapi.com.br/api-de-moedas"
   ]
  }
 ],
 "metadata": {
  "application/vnd.databricks.v1+notebook": {
   "dashboards": [],
   "environmentMetadata": null,
   "language": "python",
   "notebookMetadata": {
    "pythonIndentUnit": 2
   },
   "notebookName": "AULA_2_DE",
   "widgets": {}
  },
  "colab": {
   "provenance": [],
   "toc_visible": true
  },
  "kernelspec": {
   "display_name": "Python 3",
   "name": "python3"
  },
  "language_info": {
   "name": "python"
  }
 },
 "nbformat": 4,
 "nbformat_minor": 0
}
