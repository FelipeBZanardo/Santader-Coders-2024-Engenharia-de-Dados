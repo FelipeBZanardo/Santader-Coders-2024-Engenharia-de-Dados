{
 "cells": [
  {
   "cell_type": "markdown",
   "metadata": {
    "application/vnd.databricks.v1+cell": {
     "cellMetadata": {},
     "inputWidgets": {},
     "nuid": "cc00ef68-1a29-4268-831e-b4d22c989a80",
     "showTitle": false,
     "title": ""
    }
   },
   "source": [
    "#### 1. Instalação de Bibliotecas"
   ]
  },
  {
   "cell_type": "code",
   "execution_count": 0,
   "metadata": {
    "application/vnd.databricks.v1+cell": {
     "cellMetadata": {
      "byteLimit": 2048000,
      "rowLimit": 10000
     },
     "inputWidgets": {},
     "nuid": "c2d2e677-1cd7-4015-ba8f-a16fa1bde480",
     "showTitle": false,
     "title": ""
    }
   },
   "outputs": [
    {
     "output_type": "stream",
     "name": "stdout",
     "output_type": "stream",
     "text": [
      "Python interpreter will be restarted.\nCollecting kafka-python\n  Downloading kafka_python-2.0.2-py2.py3-none-any.whl (246 kB)\nInstalling collected packages: kafka-python\nSuccessfully installed kafka-python-2.0.2\nPython interpreter will be restarted.\n"
     ]
    }
   ],
   "source": [
    "pip install kafka-python"
   ]
  },
  {
   "cell_type": "code",
   "execution_count": 0,
   "metadata": {
    "application/vnd.databricks.v1+cell": {
     "cellMetadata": {
      "byteLimit": 2048000,
      "rowLimit": 10000
     },
     "inputWidgets": {},
     "nuid": "10ec3334-3590-4192-bcf2-7ae9e3d1c83c",
     "showTitle": false,
     "title": ""
    }
   },
   "outputs": [
    {
     "output_type": "stream",
     "name": "stdout",
     "output_type": "stream",
     "text": [
      "Python interpreter will be restarted.\nCollecting translate\n  Using cached translate-3.6.1-py2.py3-none-any.whl (12 kB)\nCollecting lxml\n  Using cached lxml-5.3.0-cp39-cp39-manylinux_2_28_x86_64.whl (5.0 MB)\nCollecting libretranslatepy==2.1.1\n  Using cached libretranslatepy-2.1.1-py3-none-any.whl (3.2 kB)\nRequirement already satisfied: requests in /databricks/python3/lib/python3.9/site-packages (from translate) (2.27.1)\nRequirement already satisfied: click in /databricks/python3/lib/python3.9/site-packages (from translate) (8.0.4)\nRequirement already satisfied: charset-normalizer~=2.0.0 in /databricks/python3/lib/python3.9/site-packages (from requests->translate) (2.0.4)\nRequirement already satisfied: idna<4,>=2.5 in /databricks/python3/lib/python3.9/site-packages (from requests->translate) (3.3)\nRequirement already satisfied: certifi>=2017.4.17 in /databricks/python3/lib/python3.9/site-packages (from requests->translate) (2021.10.8)\nRequirement already satisfied: urllib3<1.27,>=1.21.1 in /databricks/python3/lib/python3.9/site-packages (from requests->translate) (1.26.9)\nInstalling collected packages: lxml, libretranslatepy, translate\nSuccessfully installed libretranslatepy-2.1.1 lxml-5.3.0 translate-3.6.1\nPython interpreter will be restarted.\n"
     ]
    }
   ],
   "source": [
    "pip install translate"
   ]
  },
  {
   "cell_type": "markdown",
   "metadata": {
    "application/vnd.databricks.v1+cell": {
     "cellMetadata": {},
     "inputWidgets": {},
     "nuid": "bd9b370c-5fe9-43dc-8d75-41d809a2fc9b",
     "showTitle": false,
     "title": ""
    }
   },
   "source": [
    "#### 2. Imports"
   ]
  },
  {
   "cell_type": "code",
   "execution_count": 0,
   "metadata": {
    "application/vnd.databricks.v1+cell": {
     "cellMetadata": {
      "byteLimit": 2048000,
      "rowLimit": 10000
     },
     "inputWidgets": {},
     "nuid": "246fc481-0f91-45c4-8b8d-5aedb077473b",
     "showTitle": false,
     "title": ""
    }
   },
   "outputs": [],
   "source": [
    "from kafka import KafkaProducer\n",
    "import json\n",
    "import requests\n",
    "from translate import Translator\n",
    "from pyspark.sql.functions import *\n",
    "from pyspark.sql.types import StructType, StructField, StringType, TimestampType\n",
    "from pyspark.sql.utils import AnalysisException"
   ]
  },
  {
   "cell_type": "markdown",
   "metadata": {
    "application/vnd.databricks.v1+cell": {
     "cellMetadata": {},
     "inputWidgets": {},
     "nuid": "3207a860-3a36-4b11-950d-8975c74ac1f4",
     "showTitle": false,
     "title": ""
    }
   },
   "source": [
    "#### 3. Constantes"
   ]
  },
  {
   "cell_type": "code",
   "execution_count": 0,
   "metadata": {
    "application/vnd.databricks.v1+cell": {
     "cellMetadata": {
      "byteLimit": 2048000,
      "rowLimit": 10000
     },
     "inputWidgets": {},
     "nuid": "58a37c9f-b020-42eb-b2ae-d3c58425d648",
     "showTitle": false,
     "title": ""
    }
   },
   "outputs": [],
   "source": [
    "topico = 'meu-topico'\n",
    "\n",
    "translator = Translator(to_lang=\"en\", from_lang='pt')\n",
    "# api_key = \"844629b1a5d44eb7938b174b6285a905\"\n",
    "api_key = 'fac1628b04464126940239f493d9eda5'\n",
    "\n",
    "schema = StructType([\n",
    "        StructField(\"source\", StructType([\n",
    "            StructField(\"id\", StringType(), True),\n",
    "            StructField(\"name\", StringType(), True)\n",
    "        ]), True),\n",
    "        StructField(\"author\", StringType(), True),\n",
    "        StructField(\"title\", StringType(), True),\n",
    "        StructField(\"description\", StringType(), True),\n",
    "        StructField(\"url\", StringType(), True),\n",
    "        StructField(\"urlToImage\", StringType(), True),\n",
    "        StructField(\"publishedAt\", StringType(), True),\n",
    "        StructField(\"content\", StringType(), True)])"
   ]
  },
  {
   "cell_type": "markdown",
   "metadata": {
    "application/vnd.databricks.v1+cell": {
     "cellMetadata": {},
     "inputWidgets": {},
     "nuid": "20660711-b685-4017-848d-d1e55cdb917f",
     "showTitle": false,
     "title": ""
    }
   },
   "source": [
    "#### 4. Busca de dados da API newsapi"
   ]
  },
  {
   "cell_type": "code",
   "execution_count": 0,
   "metadata": {
    "application/vnd.databricks.v1+cell": {
     "cellMetadata": {
      "byteLimit": 2048000,
      "rowLimit": 10000
     },
     "inputWidgets": {},
     "nuid": "ce95b8f2-9117-498f-adf5-5dd336defd70",
     "showTitle": false,
     "title": ""
    }
   },
   "outputs": [],
   "source": [
    "def carregamento(palavras_chave: list[str]):\n",
    "    searchIn = 'title,description,content'\n",
    "    news_translation = list(map(translator.translate, palavras_chave))\n",
    "\n",
    "    df_articles = spark.createDataFrame([], schema)\n",
    "\n",
    "    for noticia in set(palavras_chave + news_translation):\n",
    "        url = ('https://newsapi.org/v2/everything?'\n",
    "        f'q=(\"{noticia}\")&'\n",
    "        f'searchIn={searchIn}&'\n",
    "        'sortBy=relevancy&'\n",
    "        f'apiKey={api_key}')\n",
    "\n",
    "        response = requests.get(url).json()\n",
    "        if response['status'] == 'ok':\n",
    "                df_articles = df_articles.union(spark.createDataFrame(response['articles'], schema))\n",
    "    return df_articles\n",
    "\n",
    "def processamento_raw(df):\n",
    "  df = df.dropDuplicates(['url'])\n",
    "  return df"
   ]
  },
  {
   "cell_type": "markdown",
   "metadata": {
    "application/vnd.databricks.v1+cell": {
     "cellMetadata": {},
     "inputWidgets": {},
     "nuid": "d6e9a8b2-7547-4592-91c9-c98d773a1c87",
     "showTitle": false,
     "title": ""
    }
   },
   "source": [
    "#### 5. Envia as mensagens"
   ]
  },
  {
   "cell_type": "code",
   "execution_count": 0,
   "metadata": {
    "application/vnd.databricks.v1+cell": {
     "cellMetadata": {
      "byteLimit": 2048000,
      "rowLimit": 10000
     },
     "inputWidgets": {},
     "nuid": "caa4f5d0-1f84-40bd-83de-650c99c96425",
     "showTitle": false,
     "title": ""
    }
   },
   "outputs": [
    {
     "output_type": "stream",
     "name": "stdout",
     "output_type": "stream",
     "text": [
      "Mensagem enviada: {'source': Row(id=None, name='Purepeople.com.br'), 'author': 'Purepeople BR', 'title': \"Gente? Madonna faz ensaio fotográfico dramático em velório do irmão e agita a web: 'Quem morreu foi ele'\", 'description': 'Se essa moda pega... A rainha do pop simplesmente resolveu tirar fotos em preto e branco no velório do irmão mais novo, Christopher Ciccone. Ele faleceu na semana passada, vítima de um câncer.', 'url': ' https://www.purepeople.com.br/noticia/irmao-de-madonna-morre-e-cantora-faz-ensaio-fotografico-em-preto-e-branco-web-reage-quem-morreu-foi-ele_a397493/1 ', 'urlToImage': 'https://p2.trrsf.com/image/fget/cf/1200/630/middle/images.terra.com/2024/10/12/626425138-4531625-apos-morte-do-irmao-mais-novo-madonna-c-1400x823-3.jpg', 'publishedAt': '2024-10-12T01:44:09Z', 'content': 'Madonna , que fez um show histórico no Rio de Janeiro este ano, causou polêmica nas redes sociais nesta sexta-feira (11). A rainha do pop, que tem uma conexão pouco conhecida com Bruna Marquezine, si… [+1942 chars]'}\nMensagem enviada: {'source': Row(id=None, name='Rolling Stone'), 'author': 'Charisma Madarang', 'title': '‘The Office’ Star Jenna Fischer Shares Breast Cancer Diagnosis', 'description': 'Jenna Fischer\\xa0shared on social media Tuesday that she was diagnosed with breast cancer last year and that she is now \"cancer free.\"', 'url': 'http://www.rollingstone.com/tv-movies/tv-movie-news/the-office-jenna-fischer-shares-breast-cancer-diagnosis-1235129272/', 'urlToImage': 'https://www.rollingstone.com/wp-content/uploads/2024/10/Jenna-Fischer-breast-cancer-post.jpg?w=1600&h=900&crop=1', 'publishedAt': '2024-10-08T23:16:54Z', 'content': 'Jenna Fischer\\xa0shared on social media Tuesday that she was diagnosed with breast cancer last year. \\r\\nThe Office\\xa0star\\xa0detailed her experience undergoing treatment and credited her friends, family, and … [+2704 chars]'}\nMensagem enviada: {'source': Row(id=None, name='9to5Mac'), 'author': 'Chance Miller', 'title': 'Join us in supporting St. Jude Children’s Research Hospital', 'description': 'Update September 27, 2024: Relay’s St. Jude fundraising is entering its final week! This year’s campaign is nearing $900,000 and we’d love for the 9to5Mac community to help finish strong!\\n\\n\\n\\nYou can donate and learn more about corporate matching programs on t…', 'url': 'https://9to5mac.com/2024/09/27/relay-st-jude-9to5mac-2024/', 'urlToImage': 'https://i0.wp.com/9to5mac.com/wp-content/uploads/sites/6/2024/08/st-jude-2024.jpg?resize=1200%2C628&quality=82&strip=all&ssl=1', 'publishedAt': '2024-09-27T15:44:06Z', 'content': 'Update September 27, 2024: Relay’s St. Jude fundraising is entering its final week! This year’s campaign is nearing $900,000 and we’d love for the 9to5Mac community to help finish strong!\\r\\nYou can do… [+3029 chars]'}\nMensagem enviada: {'source': Row(id='abc-news', name='ABC News'), 'author': 'DR. JADE COBERN and DR. SEJAL PAREKH', 'title': 'Indigenous women continue to face barriers to breast cancer care, report finds', 'description': 'Nicole Hallingstad credits her cat, Rudy, with finding her breast cancer.  Hallingstad had another mammogram, which this time found a golf-ball-sized tumor...', 'url': 'https://abcnews.go.com/Health/indigenous-women-continue-face-barriers-breast-cancer-care/story?id=114727383', 'urlToImage': 'https://s.yimg.com/ny/api/res/1.2/J3BBFfE.csrpAgGFte1SBw--/YXBwaWQ9aGlnaGxhbmRlcjt3PTEyMDA7aD02NzU-/https://media.zenfs.com/en/us.abcnews.gma.com/e12323710495cc91e30900c516518fd9', 'publishedAt': '2024-10-14T09:04:46Z', 'content': 'Nicole Hallingstad credits her cat, Rudy, with finding her breast cancer.\\r\\nDespite an unremarkable mammogram screening just seven months earlier, the 42-year-old knew something was wrong when Rudy ke… [+5524 chars]'}\nMensagem enviada: {'source': Row(id='abc-news', name='ABC News'), 'author': 'TIM REYNOLDS AP basketball writer', 'title': 'Dikembe Mutombo, a Hall of Fame player and tireless advocate, dies at 58 from brain cancer', 'description': 'Basketball Hall of Famer Dikembe Mutombo, one of the best defensive players in NBA history and a longtime global ambassador for the game, died Monday after a battle with brain cancer, the league announced', 'url': 'https://abcnews.go.com/Sports/wireStory/dikembe-mutombo-hall-fame-player-tireless-advocate-dies-114353087', 'urlToImage': 'https://i.abcnewsfe.com/a/e3bcc1b4-6959-42fb-9e66-f10bef80e0de/wirestory_97fcf64fd5ca6986c39e2c7a42d2410b_16x9.jpg?w=1600', 'publishedAt': '2024-09-30T15:20:14Z', 'content': 'Dikembe Mutombo, a Basketball Hall of Famer who was one of the best defensive players in NBA history and a longtime global ambassador for the game, died Monday from brain cancer, the league announced… [+3564 chars]'}\nMensagem enviada: {'source': Row(id=None, name='Catracalivre.com.br'), 'author': 'Maíra Campos', 'title': 'Câncer de intestino: alimentos que contribuem para aumento do risco da\\xa0doença', 'description': 'Um novo estudo feito nos Estados Unido, encontrou mais evidências de que o alto consumo de alimentos ultra processados \\u200b\\u200baumenta o risco de câncer de intestino (colorretal) em homens.', 'url': 'https://catracalivre.com.br/saude-bem-estar/cancer-de-intestino-alimentos-que-contribuem-para-aumento-do-risco-da-doenca/', 'urlToImage': 'https://catracalivre.com.br/cdn-cgi/image/f=auto,q=60,w=1280,h=720,fit=cover,format=jpeg/wp-content/uploads/2023/10/ultraprocessados.jpg', 'publishedAt': '2024-09-21T10:31:28Z', 'content': 'Um novo estudo liderado por pesquisadores da Universidade Tufts nos Estados Unidos, encontrou mais evidências de que o alto consumo de alimentos ultraprocessados aumenta o risco de câncer de intestin… [+3562 chars]'}\nMensagem enviada: {'source': Row(id=None, name='Catracalivre.com.br'), 'author': 'Silvia Melo', 'title': 'Câncer de mama: 7 sinais de alerta que justificam uma avaliação\\xa0médica', 'description': 'O câncer de mama é o tipo mais comum no Brasil, depois do câncer de pele. Na maioria dos casos, a doença pode ser percebida em fases iniciais, mas é', 'url': 'https://catracalivre.com.br/saude-bem-estar/cancer-de-mama-7-sinais-de-alerta-que-justificam-uma-avaliacao-medica/', 'urlToImage': 'https://catracalivre.com.br/cdn-cgi/image/f=auto,q=60,w=1280,h=720,fit=cover,format=jpeg/wp-content/uploads/2024/09/cancer-de-mama.jpg', 'publishedAt': '2024-09-26T10:20:21Z', 'content': 'O câncer de mama é o tipo mais comum no Brasil, depois do câncer de pele. Na maioria dos casos, a doença pode ser percebida em fases iniciais, mas é essencial conhecer e prestar atenção no corpo para… [+3852 chars]'}\nMensagem enviada: {'source': Row(id=None, name='Catracalivre.com.br'), 'author': 'Thatyana Costa', 'title': 'Comece a adotar estes 5 hábitos AGORA e prolongue sua vida em mais de 10\\xa0anos', 'description': 'Pesquisadores da renomada Universidade de Harvard, nos Estados Unidos, identificaram cinco hábitos que podem prolongar a vida em até uma década. O estudo,', 'url': 'https://catracalivre.com.br/saude-bem-estar/comece-a-adotar-estes-5-habitos-agora-e-prolongue-sua-vida-em-mais-de-10-anos/', 'urlToImage': 'https://catracalivre.com.br/cdn-cgi/image/f=auto,q=60,w=1280,h=720,fit=cover,format=jpeg/wp-content/uploads/2024/04/harvard-revela-qual-alimentacao-e-o-segredo-da-longevidade.jpg', 'publishedAt': '2024-09-20T19:01:50Z', 'content': 'Alimentação que pode ajudar a prolongar a vida\\r\\nPesquisadores da renomada Universidade de Harvard, nos Estados Unidos, identificaram cinco hábitos que podem prolongar a vida em até uma década. O estu… [+2100 chars]'}\nMensagem enviada: {'source': Row(id=None, name='Catracalivre.com.br'), 'author': 'Thatyana Costa', 'title': 'Como identificar sintomas de câncer silencioso em estágios\\xa0iniciais', 'description': 'O câncer afeta milhões de pessoas anualmente e, muitas vezes, apresenta sintomas sutis, dificultando o diagnóstico precoce. Esse tipo de câncer, conhecido', 'url': 'https://catracalivre.com.br/saude-bem-estar/como-identificar-sintomas-de-cancer-silencioso-em-estagios-iniciais/', 'urlToImage': 'https://catracalivre.com.br/cdn-cgi/image/f=auto,q=60,w=1280,h=720,fit=cover,format=jpeg/wp-content/uploads/2024/04/sintomas-cancer-silencioso.jpg', 'publishedAt': '2024-10-12T22:29:27Z', 'content': '8 sintomas de câncer silencioso para você ficar atento - Vadymvdrobot/DepositPhotos\\r\\nO câncer afeta milhões de pessoas anualmente e, muitas vezes, apresenta sintomas sutis, dificultando o diagnóstico… [+3086 chars]'}\nMensagem enviada: {'source': Row(id=None, name='Catracalivre.com.br'), 'author': 'Thatyana Costa', 'title': 'Como o consumo de bebidas alcoólicas pode aumentar o risco de\\xa0câncer', 'description': 'O consumo de bebidas alcoólicas está fortemente ligado ao aumento do risco de câncer, segundo especialistas. Saiba mais sobre os tipos de câncer relacionados ao álcool.', 'url': 'https://catracalivre.com.br/saude-bem-estar/como-o-consumo-de-bebidas-alcoolicas-pode-aumentar-o-risco-de-cancer/', 'urlToImage': 'https://catracalivre.com.br/cdn-cgi/image/f=auto,q=60,w=1280,h=720,fit=cover,format=jpeg/wp-content/uploads/2023/06/bebida-cancer.jpg', 'publishedAt': '2024-09-22T02:01:07Z', 'content': 'Esta bebida é porta de entrada para vários tipos de câncer\\r\\nA alimentação e os hábitos de vida exercem um papel fundamental no desenvolvimento de várias doenças, incluindo o câncer. Entre esses hábit… [+1904 chars]'}\nMensagem enviada: {'source': Row(id=None, name='Catracalivre.com.br'), 'author': 'Maíra Campos', 'title': 'Entenda como o gengibre pode ajudar a combater câncer e outras\\xa0doenças', 'description': 'O gengibre, originado no Sudeste Asiático, é aclamado por incríveis propriedades medicinais e culinárias. Com um sabor fervoroso e adocicado, a especiaria', 'url': 'https://catracalivre.com.br/saude-bem-estar/entenda-como-o-gengibre-pode-ajudar-a-combater-cancer-e-outras-doencas/', 'urlToImage': 'https://catracalivre.com.br/cdn-cgi/image/f=auto,q=60,w=1280,h=720,fit=cover,format=jpeg/wp-content/uploads/2023/08/istock-473678416-scaled.jpg', 'publishedAt': '2024-09-23T02:59:16Z', 'content': 'Conheça os benefícios do gengibre para a saúde\\r\\nO gengibre, originado no Sudeste Asiático, é aclamado por incríveis propriedades medicinais e culinárias. Com um sabor fervoroso e adocicado, a especia… [+4476 chars]'}\nMensagem enviada: {'source': Row(id=None, name='Catracalivre.com.br'), 'author': 'André Nicolau', 'title': 'Entre benefícios e malefícios, o que a ciência diz sobre o\\xa0café?', 'description': \"O café é uma das bebidas mais consumidas no mundo - e no Brasil, segundo país mais 'cafezeiro' do mundo, consome-se em média 3,8 xícaras todos os dias.\", 'url': 'https://catracalivre.com.br/saude-bem-estar/entre-beneficios-e-maleficios-o-que-a-ciencia-diz-sobre-o-cafe/', 'urlToImage': 'https://catracalivre.com.br/cdn-cgi/image/f=auto,q=60,w=1280,h=720,fit=cover,format=jpeg/wp-content/uploads/2024/02/istock-1458707594-scaled.jpg', 'publishedAt': '2024-09-29T17:31:56Z', 'content': 'Entenda os benefícios e malefícios do café, segundo a ciência iStock/Oat_Phawat - iStock/Oat_Phawat\\r\\nO café é uma das bebidas mais consumidas no mundo e no Brasil, segundo país mais cafezeiro do mund… [+3414 chars]'}\nMensagem enviada: {'source': Row(id=None, name='Catracalivre.com.br'), 'author': 'Wallace Leray', 'title': 'Os sintomas de câncer de cabeça e\\xa0pescoço', 'description': 'A dor de garganta pode surgir devido a diversas causas, mas é importante ficar atento, pois também pode ser um sintoma de câncer de cabeça e pescoço. Essa', 'url': 'https://catracalivre.com.br/saude-bem-estar/os-sintomas-de-cancer-de-cabeca-e-pescoco/', 'urlToImage': 'https://catracalivre.com.br/cdn-cgi/image/f=auto,q=60,w=1280,h=720,fit=cover,format=jpeg/wp-content/uploads/2024/09/istock-512702234.jpg', 'publishedAt': '2024-10-05T14:03:23Z', 'content': 'A dor de garganta pode surgir devido a diversas causas, mas é importante ficar atento, pois também pode ser um sintoma de câncer de cabeça e pescoço.\\r\\nEssa neoplasia abrange um grupo de tumores que p… [+3375 chars]'}\nMensagem enviada: {'source': Row(id=None, name='Catracalivre.com.br'), 'author': 'André Nicolau', 'title': 'Por que esta bebida é considerada a mais saudável do\\xa0mundo?', 'description': 'O chá verde é amplamente reconhecido como uma das bebidas mais saudáveis do mundo devido à sua rica composição de compostos bioativos, especialmente os', 'url': 'https://catracalivre.com.br/saude-bem-estar/por-que-esta-bebida-e-considerada-a-mais-saudavel-do-mundo/', 'urlToImage': 'https://catracalivre.com.br/cdn-cgi/image/f=auto,q=60,w=1280,h=720,fit=cover,format=jpeg/wp-content/uploads/2024/05/cha-pressao-alta.jpg', 'publishedAt': '2024-09-22T15:31:21Z', 'content': 'Bebida mais saudável do mundo: Um aspecto notável do chá verde é seu efeito positivo sobre o metabolismo tankist276/DepositPhotos\\r\\nO chá verde é amplamente reconhecido como uma das bebidas mais saudá… [+2515 chars]'}\nMensagem enviada: {'source': Row(id=None, name='Catracalivre.com.br'), 'author': 'Thatyana Costa', 'title': 'Vitamina B9: aliada na redução do risco de câncer de\\xa0intestino', 'description': 'Um novo estudo apresenta insights promissores sobre a prevenção do câncer de intestino, também conhecido como câncer colorretal. A pesquisa, realizada por', 'url': 'https://catracalivre.com.br/saude-bem-estar/vitamina-b9-aliada-na-reducao-do-risco-de-cancer-de-intestino/', 'urlToImage': 'https://catracalivre.com.br/cdn-cgi/image/f=auto,q=60,w=1280,h=720,fit=cover,format=jpeg/wp-content/uploads/2024/01/istock-1420804003.jpg', 'publishedAt': '2024-10-16T04:02:14Z', 'content': 'O folato se refere a uma forma natural da vitamina B9, enquanto o ácido fólico ao suplemento - iStock/pepifoto\\r\\nUm novo estudo apresenta insights promissores sobre a prevenção do câncer de intestino,… [+1717 chars]'}\nMensagem enviada: {'source': Row(id=None, name='Catracalivre.com.br'), 'author': 'Thatyana Costa', 'title': 'Vitamina B9 pode reduzir o risco de câncer de intestino em até\\xa07%', 'description': 'Um estudo conduzido por cientistas do Imperial College London e publicado no The American Journal of Clinical Nutrition trouxe novas evidências sobre a', 'url': 'https://catracalivre.com.br/saude-bem-estar/vitamina-b9-pode-reduzir-o-risco-de-cancer-de-intestino-em-ate-7/', 'urlToImage': 'https://catracalivre.com.br/cdn-cgi/image/f=auto,q=60,w=1280,h=720,fit=cover,format=jpeg/wp-content/uploads/2024/01/istock-1420804003.jpg', 'publishedAt': '2024-09-20T13:31:33Z', 'content': 'O folato se refere a uma forma natural da vitamina B9, enquanto o ácido fólico ao suplemento\\r\\nUm estudo conduzido por cientistas do Imperial College London e publicado no The American Journal of Clin… [+1486 chars]'}\nMensagem enviada: {'source': Row(id=None, name='Catracalivre.com.br'), 'author': 'Silvia Melo', 'title': 'Você conhece os sintomas de leucemia? Veja a quais sinais se atentar em seu\\xa0corpo', 'description': 'A leucemia é um tipo comum de câncer de sangue. De acordo com o A.C. Camargo Cancer Center, os estágios iniciais dificilmente provoca, sintomas. Mas', 'url': 'https://catracalivre.com.br/saude-bem-estar/voce-conhece-os-sintomas-de-leucemia-veja-a-quais-sinais-se-atentar-em-seu-corpo/', 'urlToImage': 'https://catracalivre.com.br/cdn-cgi/image/f=auto,q=60,w=1280,h=720,fit=cover,format=jpeg/wp-content/uploads/2024/09/leucemia-sintomas.jpg', 'publishedAt': '2024-09-19T18:32:42Z', 'content': 'A leucemia é um tipo comum de câncer de sangue. De acordo com o A.C. Camargo Cancer Center, os estágios iniciais dificilmente provoca, sintomas. Mas quando eles surgem, variam de pessoa para pessoa e… [+2930 chars]'}\nMensagem enviada: {'source': Row(id=None, name='Yahoo Entertainment'), 'author': 'Lawrence Bonk', 'title': 'WordPress founder sued for alleged libel and attempted extortion', 'description': 'The WP Engine web hosting service is suing WordPress co-founder Matt Mullenweg and his company Automattic. This follows a public feud over the WordPress trademark. The federal lawsuit accuses Mullenweg of “abuse of power, extortion and greed.”\\nThis is the lat…', 'url': 'https://consent.yahoo.com/v2/collectConsent?sessionId=1_cc-session_159cf17f-c38b-42e9-bd77-8a425b627be6', 'urlToImage': None, 'publishedAt': '2024-10-03T15:29:57Z', 'content': \"If you click 'Accept all', we and our partners, including 240 who are part of the IAB Transparency &amp; Consent Framework, will also store and/or access information on a device (in other words, use … [+678 chars]\"}\nMensagem enviada: {'source': Row(id=None, name='Yahoo Entertainment'), 'author': None, 'title': 'Utah mom with terminal cancer plans her own funeral after three month diagnosis', 'description': None, 'url': 'https://consent.yahoo.com/v2/collectConsent?sessionId=1_cc-session_2084142d-6639-4b6d-99bb-82958baa3bb7', 'urlToImage': None, 'publishedAt': '2024-09-30T04:21:39Z', 'content': \"If you click 'Accept all', we and our partners, including 240 who are part of the IAB Transparency &amp; Consent Framework, will also store and/or access information on a device (in other words, use … [+678 chars]\"}\nMensagem enviada: {'source': Row(id=None, name='Yahoo Entertainment'), 'author': 'Mariella Moon', 'title': \"159 employees leave WordPress founder's company after extortion lawsuit\", 'description': 'The feud between WP Engine and Matt Mullenweg, WordPress co-founder and Automattic CEO, recently came to a head when the web hosting service sued the latter, accusing him of \"abuse of power, extortion and greed.\" In a new blog post, Mullenweg said his opponen…', 'url': 'https://consent.yahoo.com/v2/collectConsent?sessionId=1_cc-session_9f38c056-9c8e-4952-a812-5a763ed75a17', 'urlToImage': None, 'publishedAt': '2024-10-04T13:30:40Z', 'content': \"If you click 'Accept all', we and our partners, including 240 who are part of the IAB Transparency &amp; Consent Framework, will also store and/or access information on a device (in other words, use … [+678 chars]\"}\nMensagem enviada: {'source': Row(id=None, name='Dinheirama.com'), 'author': 'Redação Dinheirama', 'title': 'Nvidia e Foxconn anunciam novo supercomputador', 'description': 'A Nvidia (NVDA;\\xa0NVDC34) anunciou nesta terça-feira, 8, que está construindo “o maior supercomputador de Taiwan”, em parceria com a gigante de tecnologia Foxconn. O projeto…\\n------ Este artigo foi escrito por Redação Dinheirama. Este artigo apareceu originalme…', 'url': 'https://dinheirama.com/nvidia-e-foxconn-anunciam-novo-supercomputador/', 'urlToImage': 'https://media.dinheirama.com/medias/uploads/2024/03/20240319-nvidia.jpg', 'publishedAt': '2024-10-08T17:44:39Z', 'content': '2A Nvidia (NVDA;\\xa0NVDC34) anunciou nesta terça-feira, 8, que está construindo “o maior supercomputador de Taiwan”, em parceria com a gigante de tecnologia Foxconn. \\r\\nO projeto vai utilizar os novos ch… [+579 chars]'}\nMensagem enviada: {'source': Row(id=None, name='Gizmodo.com'), 'author': 'Isaiah Colbert', 'title': 'Black Panther‘s Lupita Nyong’o Says Marvel Was Nervous About the Film’s Chances', 'description': \"Nyong'o also revealed she hasn't seen the 2018 film since Chadwick Boseman's tragic passing in 2020.\", 'url': 'https://gizmodo.com/black-panthers-lupita-nyongo-says-marvel-was-nervous-about-the-films-chances-2000512031', 'urlToImage': 'https://gizmodo.com/app/uploads/2024/10/Nakia_Tchalla.jpg', 'publishedAt': '2024-10-15T18:30:08Z', 'content': 'Now more than ever, Marvel is walking a tightrope to see whether the shotgun method of its slate of films and TV shows will land with fans or miss the mark. While fans often get caught wearing rose-t… [+2947 chars]'}\nMensagem enviada: {'source': Row(id=None, name='Gizmodo.com'), 'author': 'Germain Lussier', 'title': 'Watch Deadpool & Wolverine‘s Biggest Spoilers Prep for Battle', 'description': 'io9 has an exclusive clip featuring Gambit, Elektra, and Blade from the Marvel Studios film.', 'url': 'https://gizmodo.com/deadpool-wolverine-home-release-clip-blade-gambit-2000504141', 'urlToImage': 'https://gizmodo.com/app/uploads/2024/09/blade-elektra-exclusive.jpg', 'publishedAt': '2024-09-30T15:15:01Z', 'content': 'Let’s be honest. No one saw this coming. Okay, Jennifer Garner we knew about. That Deadpool &amp; Wolverine news leaked. But when Wesley Snipes came out as Blade and Channing Tatum came out as Gambit… [+3156 chars]'}\nMensagem enviada: {'source': Row(id=None, name='Gizmodo.com'), 'author': 'Germain Lussier', 'title': 'Deadpool & Wolverine Will Slice and Dice Its Way Home October 1', 'description': \"The Marvel Studios hit arrives on digital next week—plus, we've got all the details on the Blu-ray release coming October 22.\", 'url': 'https://gizmodo.com/deadpool-wolverine-home-release-date-bluray-4k-steelbooks-2000502910', 'urlToImage': 'https://gizmodo.com/app/uploads/2024/09/deadpool-wolverine-steelbooks.jpg', 'publishedAt': '2024-09-25T14:00:35Z', 'content': 'Next week, you can finally see your favorite ketchup and mustard-colored superheroes at home. Deadpool &amp; Wolverine will be available for digital download October 1, followed by a physical media r… [+3503 chars]'}\nMensagem enviada: {'source': Row(id=None, name='Gizmodo.com'), 'author': 'Ed Cara', 'title': 'Fluoride in Our Drinking Water May Not Be as Useful as It Used to Be', 'description': 'A new comprehensive review of the data suggests the \"benefits of fluoridating water have declined in recent decades.\"', 'url': 'https://gizmodo.com/fluoride-in-our-drinking-water-may-not-be-as-useful-as-it-used-to-be-2000507454', 'urlToImage': 'https://gizmodo.com/app/uploads/2024/10/water-faucet.jpg', 'publishedAt': '2024-10-06T10:00:04Z', 'content': 'The benefits of putting fluoride in our drinking water might have weakened over time. In a new review of the evidence, scientists have found that while water fluoridation may still slightly reduce th… [+3690 chars]'}\nMensagem enviada: {'source': Row(id=None, name='Gizmodo.com'), 'author': 'Daniel Kolitz', 'title': 'How Do People Actually ‘Die From Old Age’?', 'description': '\"Old age\" sounds like a pleasant way to go, comparatively—a peaceful winding-down. But what exactly does it look like?', 'url': 'https://gizmodo.com/how-do-people-actually-die-old-age-1844521439', 'urlToImage': 'https://gizmodo.com/app/uploads/2020/08/zzno4crigsanrvb1duo7.jpg', 'publishedAt': '2024-09-22T14:26:00Z', 'content': 'Thousands are currently engaged in solving the problem of death. Maybe theyll succeed, and out of sheer boredom Ill reread this sentence when Im 900 years old, reflecting fondly on the first wasted c… [+11880 chars]'}\nMensagem enviada: {'source': Row(id=None, name='Gizmodo.com'), 'author': 'Ed Cara', 'title': 'Human Lifespan May Have a Hard Ceiling, Research Suggests', 'description': \"New research finds that humankind's once-steady rise in life expectancy is slowing down, raising the question of whether we'll be able to expand our lifespan much further.\", 'url': 'https://gizmodo.com/human-lifespan-may-have-a-hard-ceiling-research-suggests-2000507719', 'urlToImage': 'https://gizmodo.com/app/uploads/2024/10/older-hands.jpg', 'publishedAt': '2024-10-07T15:00:53Z', 'content': 'Our longevity may actually turn out to have a hard limit. In a new study this week, scientists show that the long rise in our collective life expectancy seen during the 20th century has started to sl… [+5358 chars]'}\nMensagem enviada: {'source': Row(id=None, name='Gizmodo.com'), 'author': 'Ed Cara', 'title': 'Gizmodo Science Fair: A Longer Life for Big Dogs', 'description': \"The biotech company Loyal is developing several drugs that will try, for the first time, to directly extend a dog's life.\", 'url': 'https://gizmodo.com/science-fair-loyal-longer-life-for-dogs-1851462292', 'urlToImage': 'https://gizmodo.com/app/uploads/2024/09/Boo-dog_r.jpg', 'publishedAt': '2024-09-24T12:00:55Z', 'content': 'Scientists at the animal pharmaceutical company Loyal are winners of the 2024 Gizmodo Science Fair for their research into drugs that could extend the lifespans of big and small dogs alike.\\r\\nThe ques… [+3992 chars]'}\nMensagem enviada: {'source': Row(id=None, name='Gizmodo.com'), 'author': 'Harri Weber', 'title': 'Supreme Court Snubs Martin Shkreli’s Last-Ditch Bid to Avoid $64 Million Fine', 'description': 'There were no generic alternatives to a lifesaving drug when Shkreli jacked up its price by more than $700 per pill in 2015.', 'url': 'https://gizmodo.com/supreme-court-snubs-martin-shkrelis-last-ditch-bid-to-avoid-64-million-fine-2000508300', 'urlToImage': 'https://gizmodo.com/app/uploads/2024/10/martin-shkreli-trial.jpg', 'publishedAt': '2024-10-07T18:15:08Z', 'content': 'Martin Shkreli has been fighting a $64.6 million fine he acquired in 2022 for blocking affordable alternatives to Daraprim, a lifesaving antiparasitic drug. Shockingly, it turns out nobody on the Sup… [+1767 chars]'}\nMensagem enviada: {'source': Row(id=None, name='Gizmodo.com'), 'author': 'Matthew Gault', 'title': 'The Confusing and Extremely Online Politics of Zyn Nicotine Pouches', 'desc\n\n*** WARNING: max output size exceeded, skipping output. ***\n\nções, como na hereditariedade genética. Contudo, no caso de Hen… [+6921 chars]'}\nMensagem enviada: {'source': Row(id=None, name='Tecmundo.com.br'), 'author': 'Felipe Gugelmin', 'title': 'O Preço da Verdade é inspirado em história real? Conheça a verdade por trás do filme', 'description': 'Lançado em 2019 nos cinemas, o filme O Preço da Verdade (Dark Waters) chegou recentemente à Netflix, onde tem encontrado grande sucesso. Dirigido por Todd Haynes, ele conta a história de Robert Bilott, um advogado de Cincinnati que se transforma no principal …', 'url': 'https://www.tecmundo.com.br/minha-serie/290302-preco-verdade-inspirado-historia-real-conheca-verdade.htm', 'urlToImage': 'https://tm.ibxk.com.br/2024/10/02/02125109927158.jpg?ims=1200xorig', 'publishedAt': '2024-10-02T21:30:01Z', 'content': 'Lançado em 2019 nos cinemas, o filme O Preço da Verdade (Dark Waters) chegou recentemente à Netflix, onde tem encontrado grande sucesso. Dirigido por Todd Haynes, ele conta a história de Robert Bilot… [+3487 chars]'}\nMensagem enviada: {'source': Row(id=None, name='Terra.com.br'), 'author': 'Blog Sala de TV', 'title': 'Roberto Carlos vai à festa de 9 anos de sua neta Laura, filha do saudoso Dudu', 'description': 'Roberto Carlos compareceu à festa de aniversário de sua neta Laura, a Lalá, que completou 9 anos ...', 'url': 'https://www.terra.com.br/diversao/gente/roberto-carlos-vai-a-festa-de-9-anos-de-sua-neta-laura-filha-do-saudoso-dudu,c7eeccbd6da1324f1d7c565a407d89481vigcamp.html', 'urlToImage': 'https://p2.trrsf.com/image/fget/cf/1200/630/middle/images.terra.com/2024/10/15/aniversario01-1jyg1ca6d2gj7.jpg', 'publishedAt': '2024-10-15T21:53:46Z', 'content': 'Roberto Carlos compareceu à festa de aniversário de sua neta Laura, a Lalá, que completou 9 anos na segunda-feira, dia 14.\\xa0\\r\\nA bela garota é a caçula do radialista e produtor musical Dudu Braga, filh… [+415 chars]'}\nMensagem enviada: {'source': Row(id=None, name='Terra.com.br'), 'author': 'Jogada10', 'title': 'Marta visita jogadora da Seleção em sessão final de quimioterapia', 'description': 'Marta e outras jogadoras estiveram no hospital onde Luana Bertolucci fez sua última sessão de quimioterapia; ela luta contra um tipo de câncer', 'url': 'https://www.terra.com.br/esportes/brasil/marta-visita-jogadora-da-selecao-em-sessao-final-de-quimioterapia,ec6e5ce119ce925a2bd01fcab948dcfaptxh7gc0.html', 'urlToImage': 'https://p2.trrsf.com/image/fget/cf/1200/630/middle/images.terra.com/2024/10/05/742322006-luana-bertolucci-selecao-brasileira-610x400.jpg', 'publishedAt': '2024-10-05T02:02:17Z', 'content': 'Diagnosticada com câncer em abril deste ano, a jogadora da Seleção Brasileira Luana Bertolucci terminou suas sessões de quimioterapia na última quinta-feira (03). Para comemorar o momento, ela recebe… [+1223 chars]'}\nMensagem enviada: {'source': Row(id=None, name='Terra.com.br'), 'author': 'Homework', 'title': 'Aracaju recebe Romário e Cafu em jogo solidário', 'description': 'Partida é beneficente e alimentos arrecadados irão para Associação de Apoio ao Adulto com Câncer do Estado de Sergipe (AAACASE)', 'url': 'https://www.terra.com.br/esportes/futebol/aracaju-recebe-romario-e-cafu-em-jogo-solidario,16676479488562e73acc3eccf7607133s17sfa7s.html', 'urlToImage': 'https://s1.trrsf.com/update-1698692222/fe/zaz-mod-t360-icons/svg/logos/terra-16x9-borda.png', 'publishedAt': '2024-10-05T09:13:25Z', 'content': 'ResumoLegends Game Brasil terá quinta edição em Aracaju, com presença de Romário e Cafu, celebrando grandes ícones do esporte e entretenimento brasileiro.\\r\\nA quinta edição da partida de futsal festiv… [+1771 chars]'}\nMensagem enviada: {'source': Row(id=None, name='Terra.com.br'), 'author': 'João Bidu', 'title': 'João Bidu revela: conheça qual é o seu inferno astral', 'description': 'Você já sentiu que em certos momentos do ano tudo parece dar errado? Pode ser que você esteja ...', 'url': 'https://www.terra.com.br/vida-e-estilo/horoscopo/joao-bidu-revela-conheca-qual-e-o-seu-inferno-astral,3ec605bbb2cba966108a02cd2e87c61fa4ytte0c.html', 'urlToImage': 'https://p2.trrsf.com/image/fget/cf/1200/630/middle/images.terra.com/2024/09/20/1261812872-shutterstock2468075801.jpg', 'publishedAt': '2024-09-20T11:02:03Z', 'content': 'Você já sentiu que em certos momentos do ano tudo parece dar errado? Pode ser que você esteja passando pelo seu inferno astral. Esse período ocorre cerca de um mês antes do seu aniversário, e é marca… [+4072 chars]'}\nMensagem enviada: {'source': Row(id=None, name='Terra.com.br'), 'author': 'João Bidu', 'title': 'Os signos mais inseguros em um relacionamento', 'description': 'Descubra quais são os signos mais inseguros em um relacionamento e como essas características podem impactar a vida amorosa.', 'url': 'https://www.terra.com.br/vida-e-estilo/horoscopo/os-signos-mais-inseguros-em-um-relacionamento,5f12a822ed454fc516c8aa7351f9540c6e16nxxt.html', 'urlToImage': 'https://p2.trrsf.com/image/fget/cf/1200/630/middle/images.terra.com/2024/09/24/1776964836-os-signos-mais-inseguros-1.jpg', 'publishedAt': '2024-09-24T12:02:03Z', 'content': 'No universo da astrologia, cada signo possui características únicas que influenciam não só a personalidade, mas também o comportamento nas relações amorosas. Enquanto alguns signos são naturalmente c… [+3061 chars]'}\nMensagem enviada: {'source': Row(id=None, name='Terra.com.br'), 'author': 'Saúde em Dia', 'title': 'Câncer de mama: entenda mais sobre a doença', 'description': 'O câncer de mama é uma doença decorrente da multiplicação desordenada de células anormais da ...', 'url': 'https://www.terra.com.br/vida-e-estilo/saude/cancer-de-mama-entenda-mais-sobre-a-doenca,17bbc0121e9d9efda24930b4d10974b2fezy8yeo.html', 'urlToImage': 'https://p2.trrsf.com/image/fget/cf/1200/630/middle/images.terra.com/2024/10/04/227722956-cancer-de-mama.png', 'publishedAt': '2024-10-04T19:52:43Z', 'content': 'O câncer de mama é uma doença decorrente da multiplicação desordenada de células anormais da mama. Elas formam um tumor com potencial de invadir outros órgãos e representam um grande perigo para a sa… [+4521 chars]'}\nMensagem enviada: {'source': Row(id=None, name='Terra.com.br'), 'author': 'Revista Malu', 'title': 'Câncer no abdômen', 'description': 'Conheça os tipos de neoplasias mais frequentes que podem acometer a cavidade abdominal e como reconhecer os sinais No começo deste ano, Kate Middleton, a Princesa de Gales, revelou que recebeu um diagnóstico de câncer na região abdominal - sem revelar maiores…', 'url': 'https://www.terra.com.br/vida-e-estilo/saude/cancer-no-abdomen,8d55a6b0205bbb345c3db567a1682d12wy1zbsar.html', 'urlToImage': 'https://p2.trrsf.com/image/fget/cf/1200/630/middle/images.terra.com/2024/10/16/1816453242-shutterstock2052568853-scaled.jpg', 'publishedAt': '2024-10-16T18:02:15Z', 'content': 'No começo deste ano, Kate Middleton, a Princesa de Gales, revelou que recebeu um diagnóstico de câncer na região abdominal - sem revelar maiores detalhes. A neoplasia foi descoberta durante uma cirur… [+3069 chars]'}\nMensagem enviada: {'source': Row(id=None, name='Terra.com.br'), 'author': 'Estadão Conteúdo', 'title': 'Como a IA pode impulsionar desde a prevenção de doenças até a criação de vacinas', 'description': 'Especialistas defendem que é preciso melhorar e padronizar dados para que os algoritmos gerem resultados confiáveis', 'url': 'https://www.terra.com.br/vida-e-estilo/saude/como-a-ia-pode-impulsionar-desde-a-prevencao-de-doencas-ate-a-criacao-de-vacinas,247f3a47d2147760105feb1d6d827e0f4q5bp420.html', 'urlToImage': 'https://p2.trrsf.com/image/fget/cf/1200/630/middle/images.terra.com/2024/10/14/1113850033-cbxoxhir4rhg3ayditynkkg6ge.jpg', 'publishedAt': '2024-10-14T16:22:42Z', 'content': 'Melhorar a coleta de dados e criar conexão entre diferentes sistemas é tarefa fundamental para garantir a eficiência da inteligência artificial (IA) e seu potencial na área da saúde. É o que defendem… [+5343 chars]'}\nMensagem enviada: {'source': Row(id=None, name='TMZ'), 'author': 'TMZ Staff', 'title': \"'Days of Our Lives' Actor Drake Hogestyn Cause of Death Revealed\", 'description': '\"Days of Our Lives\" actor Drake Hogestyn\\'s official cause of death has been confirmed as pancreatic cancer. According to docs obtained by TMZ, the L.A. Medical Examiner\\'s report states pancreatic cancer was the immediate cause of his death. Other…', 'url': 'https://www.tmz.com/2024/10/09/days-of-our-lives-drake-hogestyn-cause-of-death-revealed/', 'urlToImage': 'https://imagez.tmz.com/image/14/16by9/2024/10/09/14d2c1c71f6f4ebcbc0726767a8c5b40_xl.jpg', 'publishedAt': '2024-10-09T18:53:40Z', 'content': \"According to docs obtained by TMZ, the L.A. Medical Examiner's report states pancreatic cancer was the immediate cause of his death. Other significant conditions contributing to his death, but not di… [+74 chars]\"}\nMensagem enviada: {'source': Row(id=None, name='TMZ'), 'author': 'TMZ Staff', 'title': 'TikTok Star Rachel Yaffe Dead at 27 After Battling Rare Liver Cancer', 'description': 'TikTok star Rachel Yaffe has died after battling cancer for several years ... her family confirmed in an obituary. According to her loved ones, the Internet personality passed away on Friday ... following a 7-year battle with a rare liver cancer.…', 'url': 'https://www.tmz.com/2024/10/16/tiktok-star-rachel-yaffe-dead/', 'urlToImage': 'https://imagez.tmz.com/image/6d/16by9/2024/10/16/6d86bffe82c74376900310b16b1971c8_xl.jpg', 'publishedAt': '2024-10-16T15:00:19Z', 'content': 'TikTok star Rachel Yaffe has died after battling cancer for several years ... her family confirmed in an obituary.\\r\\nAccording to her loved ones, the Internet personality passed away on Friday ... fol… [+1313 chars]'}\nMensagem enviada: {'source': Row(id=None, name='Uol.com.br'), 'author': 'Bruno Madrid', 'title': None, 'description': 'O Athletico, a Chapecoense, o Grêmio, o Fluminense, o Santos e o Sport lançaram, nesta terça (1), uniformes especiais em alusão ao Outubro Rosa. Os seis times têm parceria com a Umbro, que idealizou a novidade em parceria com a Femama (Federação Brasil', 'url': 'https://www.uol.com.br/esporte/futebol/ultimas-noticias/2024/10/01/umbro-femama.htm', 'urlToImage': 'https://conteudo.imguol.com.br/c/esporte/e0/2024/10/01/novas-camisas-de-athletico-chapecoense-gremio-fluminense-santos-e-sport-tem-alusao-ao-outubro-rosa-1727819644084_v2_615x300.jpg', 'publishedAt': '2024-10-02T00:38:40Z', 'content': 'Parte da renda será revertida para a Femama. Os valores dos trajes não foram divulgados pela fornecedora esportiva.\\r\\nÉ o quarto ano de parceria entre Umbro e a instituição — em todos eles, houve traj… [+811 chars]'}\nMensagem enviada: {'source': Row(id=None, name='Uol.com.br'), 'author': 'André Martins', 'title': None, 'description': 'O ex-jogador de basquete Dikembe Mutombo, astro da NBA, morreu aos 58 anos.O que aconteceuEle foi vítima de um câncer no cérebro. O anúncio foi feito pela própria liga norte-americana, que lamentou a morte.Mutombo foi o primeiro embaixador global da NB', 'url': 'https://www.uol.com.br/esporte/ultimas-noticias/2024/09/30/lenda-da-nba-dikembe-mutombo-morre-aos-58-anos.htm', 'urlToImage': 'https://conteudo.imguol.com.br/c/esporte/a9/2023/06/09/dikembe-mutombo-do-denver-nuggets-celebra-vitoria-contra-o-seattle-supersonics-em-1994-1686344182349_v2_615x300.jpg', 'publishedAt': '2024-09-30T16:06:49Z', 'content': 'O ex-jogador de basquete Dikembe Mutombo, astro da NBA, morreu aos 58 anos.\\r\\nEle foi vítima de um câncer no cérebro. O anúncio foi feito pela própria liga norte-americana, que lamentou a morte.\\r\\nMuto… [+282 chars]'}\nMensagem enviada: {'source': Row(id=None, name='Uol.com.br'), 'author': 'Heloísa Barrense', 'title': None, 'description': 'A artista Preta Gil, 50, visitou o Santuário de Nossa Senhora Aparecida, em Aparecida (SP), neste domingo. Ela, que está passando por um novo tratamento de câncer, compartilhou o momento nas redes sociais afirmando que esteve no local para agradecer.O', 'url': 'https://www.uol.com.br/splash/noticias/2024/09/22/preta-gil-santuario-aparecida.htm', 'urlToImage': 'https://conteudo.imguol.com.br/c/entretenimento/6f/2024/09/22/preta-gil-mostra-ida-a-aparecida-interior-de-sao-paulo-neste-domingo-1727047084353_v2_615x300.jpg', 'publishedAt': '2024-09-23T00:22:41Z', 'content': 'A artista Preta Gil, 50, visitou o Santuário de Nossa Senhora Aparecida, em Aparecida (SP), neste domingo. Ela, que está passando por um novo tratamento de câncer, compartilhou o momento nas redes so… [+330 chars]'}\nMensagem enviada: {'source': Row(id=None, name='Uol.com.br'), 'author': 'Ricardo Pedro Cruz', 'title': None, 'description': 'Maggie Smith enfrentou um câncer de mama, em 2007, durante as gravações do filme \"Harry Potter e o Enigma do Príncipe\". A atriz morreu na manhã desta sexta-feira (27), aos 89 anos, \"pacificamente\". A causa não foi divulgada.Artista', 'url': 'https://www.uol.com.br/splash/noticias/2024/09/27/maggie-smith-teve-cancer-durante-gravacoes-de-filme-da-saga-harry-potter.htm', 'urlToImage': 'https://conteudo.imguol.com.br/c/noticias/cd/2018/11/03/professora-minerva-mcgonagall-maggie-smith-da-franquia-harry-potter-1541273415755_v2_615x300.jpg', 'publishedAt': '2024-09-27T17:42:51Z', 'content': 'Maggie Smith enfrentou um câncer de mama, em 2007, durante as gravações do filme \"Harry Potter e o Enigma do Príncipe\". A atriz morreu na manhã desta sexta-feira (27), aos 89 anos, \"pacificamente\". A… [+464 chars]'}\nMensagem enviada: {'source': Row(id=None, name='Uol.com.br'), 'author': 'Ane Cristina', 'title': None, 'description': 'Pit Passarell, baixista do Viper, morreu nesta sexta-feira (27), aos 56 anos. A morte foi anunciada no Instagram da banda.O que aconteceuOntem, a banda anunciou que Pit estava com câncer no pâncreas. No início desta manhã, foi confirmada a morte. É com', 'url': 'https://www.uol.com.br/splash/noticias/2024/09/27/pitt-passarell-baixista-do-viper-morre-aos-56-anos.htm', 'urlToImage': 'https://conteudo.imguol.com.br/c/splash/ef/2024/09/27/pit-passarell-1727440051119_v2_615x300.jpg', 'publishedAt': '2024-09-27T13:12:21Z', 'content': 'Pit Passarell, baixista do Viper, morreu nesta sexta-feira (27), aos 56 anos. A morte foi anunciada no Instagram da banda.\\r\\nOntem, a banda anunciou que Pit estava com câncer no pâncreas. No início de… [+291 chars]'}\nMensagem enviada: {'source': Row(id=None, name='Uol.com.br'), 'author': 'Pietra Carvalho', 'title': None, 'description': 'John David Ashton morreu na quinta-feira (26), aos 76 anos, após enfrentar o tratamento contra um câncer. O ator ficou famoso por seu papel como John Taggart na franquia \"Um Tira da Pesada\", protagonizada por Eddie Murphy.A informação foi con', 'url': 'https://www.uol.com.br/splash/noticias/2024/09/29/ator-de-um-tira-da-pesada-morre-aos-76-anos.htm', 'urlToImage': 'https://conteudo.imguol.com.br/c/splash/76/2024/09/29/ator-tratava-cancer-segundo-o-tmz-1727634283544_v2_615x300.png', 'publishedAt': '2024-09-29T20:23:20Z', 'content': 'Com uma carreira de 50 anos em Hollywood, John acumulou mais de 200 participações em filmes, séries e peças de teatro, apesar de ter conquistado fama mundial com seu papel na franquia, que começou em… [+629 chars]'}\nMensagem enviada: {'source': Row(id=None, name='Uol.com.br'), 'author': 'Luiza Stevanatto', 'title': None, 'description': 'Drake Hogestyn, astro da novela americana \"Days of Our Lives\", morreu no sábado (28) aos 70 anos.O ator interpretou o personagem John Black por 38 anos. Uma das novelas mais longas do mundo, \"Days Of Our Lives\" está no ar há 59 anos', 'url': 'https://www.uol.com.br/splash/noticias/2024/09/29/drake-hogestyn.htm', 'urlToImage': 'https://conteudo.imguol.com.br/c/splash/da/2024/09/29/o-ator-americano-drake-hogestyn-morreu-aos-70-anos-1727612147412_v2_615x300.png', 'publishedAt': '2024-09-29T13:58:05Z', 'content': 'Drake Hogestyn, astro da novela americana \"Days of Our Lives\", morreu no sábado (28) aos 70 anos.\\r\\nO ator interpretou o personagem John Black por 38 anos. Uma das novelas mais longas do mundo, \"Days … [+377 chars]'}\nMensagem enviada: {'source': Row(id=None, name='Uol.com.br'), 'author': 'Felipe Brandão', 'title': None, 'description': 'A Rainha Elizabeth (1926-2022) teria passado o último ano de sua vida lutando contra um câncer nos ossos.O que aconteceuA afirmação foi feita pelo ex-primeiro-ministro do Reino Unido Boris Johnson, 60, em sua nova autobiografia, \"Unleashed\".', 'url': 'https://www.uol.com.br/splash/noticias/2024/09/30/elizabeth-lutou-contra-cancer-antes-de-morrer-afirma-ex-primeiro-ministro.htm', 'urlToImage': 'https://conteudo.imguol.com.br/c/entretenimento/d4/2023/03/08/a-rainha-elizabeth-2-com-seus-corgis-em-2016-1678281441296_v2_615x300.jpg', 'publishedAt': '2024-09-30T22:42:03Z', 'content': 'A Rainha Elizabeth (1926-2022) teria passado o último ano de sua vida lutando contra um câncer nos ossos.\\r\\nA afirmação foi feita pelo ex-primeiro-ministro do Reino Unido Boris Johnson, 60, em sua nov… [+532 chars]'}\nMensagem enviada: {'source': Row(id=None, name='Uol.com.br'), 'author': 'Estadão', 'title': None, 'description': 'Boninho e Ana Furtado participaram de um leilão beneficente com outras personalidades na terça-feira, 24. O casal arrematou uma joia que pertenceu à Hebe Camargo (1929-2012), um colar de pérolas, e comemorou nas redes sociais.O objetivo do evento, que', 'url': 'https://www.uol.com.br/splash/noticias/estadao-conteudo/2024/09/25/boninho-e-ana-furtado-arrematam-joia-de-hebe-camargo-em-leilao-beneficente.htm', 'urlToImage': 'https://conteudo.imguol.com.br/c/splash/6e/2024/09/25/ana-furtado-com-o-colar-que-foi-de-hebe-1727283945696_v2_615x300.jpg', 'publishedAt': '2024-09-25T17:57:41Z', 'content': 'Ao conquistar o acessório, a apresentadora pulou de alegria com a aquisição, e logo o colocou no pescoço. No Instagram, compartilhou fotos da noite. \"Tive a oportunidade de participar de um leilão e … [+876 chars]'}\nMensagem enviada: {'source': Row(id=None, name='Uol.com.br'), 'author': 'Hysa Conrado,', 'title': None, 'description': 'Depois de tratar um nódulo benigno aos 20 anos, a designer Carolina Magalhães desenvolveu o hábito de vez ou outra apalpar as mamas em busca de qualquer alteração. Aos 29, encontrou algo que não sentia antes no seios e decidiu procurar um médico. &quot', 'url': 'https://www.uol.com.br/universa/noticias/redacao/2024/10/18/descobri-cancer-de-mama-aos-29-anos-no-melhor-momento-da-minha-vida.htm', 'urlToImage': 'https://conteudo.imguol.com.br/c/entretenimento/28/2024/10/17/carolina-magalhaes-1729181021679_v2_615x300.jpg', 'publishedAt': '2024-10-18T09:15:04Z', 'content': 'A cirurgia para retirada da mama foi necessária porque, além do nódulo estar muito grande, as primeiras biópsias deram inconclusivas sobre a real situação de Carolina. Não é comum a ocorrência de cân… [+1046 chars]'}\nMensagem enviada: {'source': Row(id=None, name='Uol.com.br'), 'author': 'Lúcia Helena', 'title': None, 'description': 'Todas as mulheres deveriam fazer uma mamografia anual a partir dos 40 anos — e o Outubro Rosa existe justamente para relembrá-las desse compromisso consigo mesmas. Mesmo assim, praticamente oito em cada dez brasileiras andam em falta com esse exa', 'url': 'https://www.uol.com.br/vivabem/colunas/lucia-helena/2024/10/03/ia-enxerga-o-risco-de-cancer-de-mama-no-resultado-do-exame-de-sangue-comum.htm', 'urlToImage': 'https://conteudo.imguol.com.br/c/entretenimento/68/2024/10/02/exame-de-sangue-laboratorio-1727900997309_v2_615x300.jpg', 'publishedAt': '2024-10-03T16:40:29Z', 'content': '\"Se chamássemos todas elas para fazer a mamografia, encontraríamos um caso de câncer em cada 500, aproximadamente\", estima Daniella. \"No entanto, se eu buscar apenas quem tem alto risco, de acordo co… [+2452 chars]'}\nMensagem enviada: {'source': Row(id=None, name='Uol.com.br'), 'author': None, 'title': None, 'description': 'Com os avanços no tratamento e no diagnóstico precoce de tumores, cada vez mais pessoas vivem bem e por anos após descobrir um câncer.Nos EUA, por exemplo, nas últimas três década houve uma redução de 33% no índice de mortes causadas por neoplasias &md', 'url': 'https://www.uol.com.br/vivabem/noticias/redacao/2024/09/27/espero-poder-dizer-que-pessoas-terao-risco-muito-baixo-de-morrer-de-cancer.htm', 'urlToImage': 'https://conteudo.imguol.com.br/c/entretenimento/a0/2024/09/26/eliav-barr-medico-e-vice-presidente-da-msd-1727388533716_v2_615x300.jpg', 'publishedAt': '2024-09-27T15:53:13Z', 'content': '\"Tivemos muitos progressos no tratamento. Novos medicamentos estão nos movendo rapidamente para uma era em que as pessoas têm muitos anos de vida após um câncer e o risco de recorrência da doença é m… [+1178 chars]'}\nMensagem enviada: {'source': Row(id=None, name='Uol.com.br'), 'author': 'Colaboração para VivaBem', 'title': None, 'description': 'Associada a problemas cardiovasculares, diabetes e até alguns tipos de câncer, a obesidade é uma das doenças crônicas que mais crescem no mundo. Quem sofre enfrenta ainda uma pressão extra: a ideia de que só com o IMC (Índice de Massa Corporal) conside', 'url': 'https://www.uol.com.br/vivabem/noticias/redacao/2024/10/16/obesidade-controlada-voce-nao-precisa-de-imc-perfeito-para-ganhar-saude.htm', 'urlToImage': 'https://conteudo.imguol.com.br/c/entretenimento/d1/2023/07/11/obesidade-tratamento-1689090574200_v2_615x300.jpg', 'publishedAt': '2024-10-16T09:08:06Z', 'content': '\"Qualquer perda de peso é bem-vinda, independente do IMC atingido\", resume Cintia Cercato, endocrinologista do Grupo de Obesidade do Hospital das Clínicas da Faculdade de Medicina da USP.\\r\\n\"Inclusive… [+1148 chars]'}\nMensagem enviada: {'source': Row(id=None, name='Uol.com.br'), 'author': 'Danielle Sanches', 'title': None, 'description': 'Mesmo sabendo que o câncer é considerado uma das principais causas de morte no mundo atualmente, os números ainda assustam. Dados do Globocan 2022, relatório do GCO (Global Cancer Observatory), plataforma de dados ligada à OMS, estimam, até 2050, terem', 'url': 'https://www.uol.com.br/vivabem/noticias/redacao/2024/10/16/rastreio-de-cancer-por-que-e-quando-fazer.htm', 'urlToImage': 'https://conteudo.imguol.com.br/c/entretenimento/b5/2024/10/14/rastreio-prevencao-saude-integral-genes-genetica-preventivo-cancer-1728926014335_v2_615x300.jpg', 'publishedAt': '2024-10-16T12:38:24Z', 'content': 'Imagem: iStock\\r\\nEm alguns casos, o médico pode recomendar a realização de exames genéticos para o rastreio do câncer. A orientação geralmente é feita quando há histórico familiar ou pessoal de câncer… [+1146 chars]'}\nMensagem enviada: {'source': Row(id='wired', name='Wired'), 'author': 'Kristin Canning', 'title': '9 Best Sunscreens, WIRED Tested and Reviewed', 'description': 'We spent all summer road-testing sunscreen, from mineral and chemical to tinted and spray versions. These are our top picks in each category.', 'url': 'https://www.wired.com/gallery/best-sunscreens/', 'urlToImage': 'https://media.wired.com/photos/6709a746c447831581532850/191:100/w_2580,c_limit/Best-Sunscreens-Reviewer-Collage-102024-SOURCE-Kristin-Canning.jpg', 'publishedAt': '2024-10-12T13:39:00Z', 'content': 'I wasnt always a sunscreen devotee. Like so many millennials, I didnt understand the risks of turning into a lobster at the beach when I was in high school or spending hours in tanning beds leading u… [+6340 chars]'}\nMensagem enviada: {'source': Row(id=None, name='Yanko Design'), 'author': 'Ida Torres', 'title': 'Helmet helps mitigate hair loss for cancer patients undergoing chemotherapy', 'description': 'Helmet helps mitigate hair loss for cancer patients undergoing chemotherapyOne of the most common side effects on patients undergoing chemotherapy is the loss of hair. It may seem like not a big deal anymore...', 'url': 'https://www.yankodesign.com/2024/09/24/helmet-helps-mitigate-hair-loss-for-cancer-patients-undergoing-chemotherapy/', 'urlToImage': 'https://www.yankodesign.com/images/design_news/2024/09/helmet-helps-mitigate-hair-loss-for-cancer-patients-undergoing-chemotherapy/1.jpg', 'publishedAt': '2024-09-24T10:07:58Z', 'content': 'One of the most common side effects on patients undergoing chemotherapy is the loss of hair. It may seem like not a big deal anymore these days because people are more “accepting” of baldness, but th… [+1566 chars]'}\nMensagem enviada: {'source': Row(id=None, name='Uol.com.br'), 'author': None, 'title': None, 'description': 'As maiores quedas foram entre as entrevistadas com carteira assinada e freelancers', 'url': 'https://www1.folha.uol.com.br/mercado/2024/10/mulheres-sofrem-com-perda-do-emprego-apos-diagnostico-de-cancer-de-mama-aponta-datafolha.shtml', 'urlToImage': 'https://f.i.uol.com.br/fotografia/2024/10/11/172865419867092b768fff0_1728654198_3x2_rt.jpg', 'publishedAt': '2024-10-17T11:35:10Z', 'content': 'Um total de 4 em cada 10 mulheres que tinham atividade profissional deixaram de trabalhar após descobrirem câncer de mama, aponta pesquisa realizada pelo Datafolha a pedido da empresa farmacêutica As… [+3647 chars]'}\n"
     ]
    }
   ],
   "source": [
    "# Função de serialização para converter em bytes\n",
    "def serializer(message):\n",
    "    return json.dumps(message).encode('utf-8')\n",
    "\n",
    "# Criando o produtor\n",
    "producer = KafkaProducer(\n",
    "    bootstrap_servers=['localhost:9092'],  # Endereço do Kafka\n",
    "    value_serializer=serializer  # Serializando mensagens\n",
    ")\n",
    "\n",
    "# Enviando mensagens\n",
    "def enviar_mensagens(dataFrame):\n",
    "    for row in dataFrame.collect():\n",
    "        producer.send(topico, value=row.asDict())\n",
    "        print(f\"Mensagem enviada: {row.asDict()}\")\n",
    "\n",
    "palavras_chave = ['câncer']\n",
    "\n",
    "df = carregamento(palavras_chave)\n",
    "df_processada = processamento_raw(df)\n",
    "\n",
    "enviar_mensagens(df_processada)\n",
    "\n",
    "# Fecha o produtor\n",
    "producer.close()"
   ]
  }
 ],
 "metadata": {
  "application/vnd.databricks.v1+notebook": {
   "dashboards": [],
   "environmentMetadata": null,
   "language": "python",
   "notebookMetadata": {
    "pythonIndentUnit": 4
   },
   "notebookName": "Produtor - Kafka",
   "widgets": {}
  }
 },
 "nbformat": 4,
 "nbformat_minor": 0
}
