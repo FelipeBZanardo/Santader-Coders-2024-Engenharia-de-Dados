{
 "cells": [
  {
   "cell_type": "code",
   "execution_count": 0,
   "metadata": {
    "application/vnd.databricks.v1+cell": {
     "cellMetadata": {
      "byteLimit": 2048000,
      "rowLimit": 10000
     },
     "inputWidgets": {},
     "nuid": "356c9322-9070-4800-9dfa-01407ac78775",
     "showTitle": false,
     "title": ""
    }
   },
   "outputs": [],
   "source": [
    "path_raw = '/Filestore/projeto/dados_raw'\n",
    "path_dados_completos = '/Filestore/projeto/dados_final/dados_completos'\n",
    "path_quantidade_noticias_dia = '/Filestore/projeto/dados_final/quantidade_noticias_dia'\n",
    "path_quantidade_noticias_mes = '/Filestore/projeto/dados_final/quantidade_noticias_mes'\n",
    "path_quantidade_noticias_ano = '/Filestore/projeto/dados_final/quantidade_noticias_ano'\n",
    "path_quantidade_noticias_fonte = '/Filestore/projeto/dados_final/quantidade_noticias_fonte'\n",
    "path_quantidade_noticias_autor = '/Filestore/projeto/dados_final/quantidade_noticias_autor'\n",
    "path_quantidade_palavras_chaves = '/Filestore/projeto/dados_final/quantidade_palavras_chaves'\n",
    "\n",
    "paths = [path_raw, path_dados_completos, path_quantidade_noticias_dia, path_quantidade_noticias_mes, path_quantidade_noticias_ano, path_quantidade_noticias_fonte, path_quantidade_noticias_autor, path_quantidade_palavras_chaves]"
   ]
  },
  {
   "cell_type": "code",
   "execution_count": 0,
   "metadata": {
    "application/vnd.databricks.v1+cell": {
     "cellMetadata": {
      "byteLimit": 2048000,
      "rowLimit": 10000
     },
     "inputWidgets": {},
     "nuid": "c8109a2b-3409-40d3-9bd2-37733ab3306a",
     "showTitle": false,
     "title": ""
    }
   },
   "outputs": [
    {
     "output_type": "display_data",
     "data": {
      "text/html": [
       "<style scoped>\n",
       "  .table-result-container {\n",
       "    max-height: 300px;\n",
       "    overflow: auto;\n",
       "  }\n",
       "  table, th, td {\n",
       "    border: 1px solid black;\n",
       "    border-collapse: collapse;\n",
       "  }\n",
       "  th, td {\n",
       "    padding: 5px;\n",
       "  }\n",
       "  th {\n",
       "    text-align: left;\n",
       "  }\n",
       "</style><div class='table-result-container'><table class='table-result'><thead style='background-color: white'><tr><th>palavra_chave</th><th>data</th><th>count</th></tr></thead><tbody><tr><td>DNA</td><td>2024-09-19</td><td>2</td></tr><tr><td>DNA</td><td>2024-09-22</td><td>1</td></tr><tr><td>DNA</td><td>2024-09-24</td><td>1</td></tr><tr><td>DNA</td><td>2024-09-25</td><td>1</td></tr><tr><td>DNA</td><td>2024-09-26</td><td>2</td></tr><tr><td>doença genética</td><td>2024-09-27</td><td>1</td></tr><tr><td>DNA</td><td>2024-09-29</td><td>1</td></tr><tr><td>outubro rosa</td><td>2024-09-30</td><td>1</td></tr><tr><td>DNA</td><td>2024-09-30</td><td>2</td></tr><tr><td>DNA</td><td>2024-10-01</td><td>1</td></tr><tr><td>outubro rosa</td><td>2024-10-01</td><td>4</td></tr><tr><td>outubro rosa</td><td>2024-10-02</td><td>1</td></tr><tr><td>outubro rosa</td><td>2024-10-03</td><td>3</td></tr><tr><td>outubro rosa</td><td>2024-10-04</td><td>2</td></tr><tr><td>DNA</td><td>2024-10-04</td><td>3</td></tr><tr><td>DNA</td><td>2024-10-07</td><td>1</td></tr><tr><td>outubro rosa</td><td>2024-10-07</td><td>1</td></tr><tr><td>outubro rosa</td><td>2024-10-08</td><td>2</td></tr><tr><td>outubro rosa</td><td>2024-10-09</td><td>1</td></tr><tr><td>DNA</td><td>2024-10-09</td><td>3</td></tr><tr><td>outubro rosa</td><td>2024-10-10</td><td>2</td></tr><tr><td>terapia genética</td><td>2024-10-10</td><td>1</td></tr><tr><td>outubro rosa</td><td>2024-10-11</td><td>2</td></tr><tr><td>DNA</td><td>2024-10-11</td><td>3</td></tr><tr><td>outubro rosa</td><td>2024-10-12</td><td>1</td></tr><tr><td>DNA</td><td>2024-10-12</td><td>1</td></tr><tr><td>DNA</td><td>2024-10-14</td><td>1</td></tr><tr><td>outubro rosa</td><td>2024-10-15</td><td>1</td></tr><tr><td>terapia genética</td><td>2024-10-15</td><td>1</td></tr><tr><td>DNA</td><td>2024-10-16</td><td>1</td></tr><tr><td>outubro rosa</td><td>2024-10-17</td><td>1</td></tr><tr><td>DNA</td><td>2024-10-17</td><td>3</td></tr><tr><td>outubro rosa</td><td>2024-10-18</td><td>1</td></tr><tr><td>outubro rosa</td><td>2024-10-19</td><td>1</td></tr></tbody></table></div>"
      ]
     },
     "metadata": {
      "application/vnd.databricks.v1+output": {
       "addedWidgets": {},
       "aggData": [],
       "aggError": "",
       "aggOverflow": false,
       "aggSchema": [],
       "aggSeriesLimitReached": false,
       "aggType": "",
       "arguments": {},
       "columnCustomDisplayInfos": {},
       "data": [
        [
         "DNA",
         "2024-09-19",
         2
        ],
        [
         "DNA",
         "2024-09-22",
         1
        ],
        [
         "DNA",
         "2024-09-24",
         1
        ],
        [
         "DNA",
         "2024-09-25",
         1
        ],
        [
         "DNA",
         "2024-09-26",
         2
        ],
        [
         "doença genética",
         "2024-09-27",
         1
        ],
        [
         "DNA",
         "2024-09-29",
         1
        ],
        [
         "outubro rosa",
         "2024-09-30",
         1
        ],
        [
         "DNA",
         "2024-09-30",
         2
        ],
        [
         "DNA",
         "2024-10-01",
         1
        ],
        [
         "outubro rosa",
         "2024-10-01",
         4
        ],
        [
         "outubro rosa",
         "2024-10-02",
         1
        ],
        [
         "outubro rosa",
         "2024-10-03",
         3
        ],
        [
         "outubro rosa",
         "2024-10-04",
         2
        ],
        [
         "DNA",
         "2024-10-04",
         3
        ],
        [
         "DNA",
         "2024-10-07",
         1
        ],
        [
         "outubro rosa",
         "2024-10-07",
         1
        ],
        [
         "outubro rosa",
         "2024-10-08",
         2
        ],
        [
         "outubro rosa",
         "2024-10-09",
         1
        ],
        [
         "DNA",
         "2024-10-09",
         3
        ],
        [
         "outubro rosa",
         "2024-10-10",
         2
        ],
        [
         "terapia genética",
         "2024-10-10",
         1
        ],
        [
         "outubro rosa",
         "2024-10-11",
         2
        ],
        [
         "DNA",
         "2024-10-11",
         3
        ],
        [
         "outubro rosa",
         "2024-10-12",
         1
        ],
        [
         "DNA",
         "2024-10-12",
         1
        ],
        [
         "DNA",
         "2024-10-14",
         1
        ],
        [
         "outubro rosa",
         "2024-10-15",
         1
        ],
        [
         "terapia genética",
         "2024-10-15",
         1
        ],
        [
         "DNA",
         "2024-10-16",
         1
        ],
        [
         "outubro rosa",
         "2024-10-17",
         1
        ],
        [
         "DNA",
         "2024-10-17",
         3
        ],
        [
         "outubro rosa",
         "2024-10-18",
         1
        ],
        [
         "outubro rosa",
         "2024-10-19",
         1
        ]
       ],
       "datasetInfos": [],
       "dbfsResultPath": null,
       "isJsonSchema": true,
       "metadata": {},
       "overflow": false,
       "plotOptions": {
        "customPlotOptions": {},
        "displayType": "table",
        "pivotAggregation": null,
        "pivotColumns": null,
        "xColumns": null,
        "yColumns": null
       },
       "removedWidgets": [],
       "schema": [
        {
         "metadata": "{}",
         "name": "palavra_chave",
         "type": "\"string\""
        },
        {
         "metadata": "{}",
         "name": "data",
         "type": "\"date\""
        },
        {
         "metadata": "{}",
         "name": "count",
         "type": "\"long\""
        }
       ],
       "type": "table"
      }
     },
     "output_type": "display_data"
    }
   ],
   "source": [
    "# Leitura dos dados\n",
    "df_leitura = spark.read.parquet(path_quantidade_palavras_chaves)\n",
    "display(df_leitura)"
   ]
  },
  {
   "cell_type": "code",
   "execution_count": 0,
   "metadata": {
    "application/vnd.databricks.v1+cell": {
     "cellMetadata": {
      "byteLimit": 2048000,
      "rowLimit": 10000
     },
     "inputWidgets": {},
     "nuid": "a92deaa9-1687-4cc2-8fb6-5be3e2ea2eb1",
     "showTitle": false,
     "title": ""
    }
   },
   "outputs": [
    {
     "output_type": "display_data",
     "data": {
      "text/plain": [
       ""
      ]
     },
     "metadata": {
      "application/vnd.databricks.v1+output": {
       "arguments": {},
       "data": "",
       "errorSummary": "Command skipped",
       "errorTraceType": "ansi",
       "metadata": {},
       "type": "ipynbError"
      }
     },
     "output_type": "display_data"
    }
   ],
   "source": [
    "for path in paths:\n",
    "    dbutils.fs.rm(path, True)\n",
    "\n",
    "# apenas para teste: exclui todos os arquivos parquet"
   ]
  }
 ],
 "metadata": {
  "application/vnd.databricks.v1+notebook": {
   "dashboards": [],
   "environmentMetadata": null,
   "language": "python",
   "notebookMetadata": {
    "mostRecentlyExecutedCommandWithImplicitDF": {
     "commandId": 2190415835218507,
     "dataframes": [
      "_sqldf"
     ]
    },
    "pythonIndentUnit": 4
   },
   "notebookName": "Usado apenas na apresentação",
   "widgets": {}
  }
 },
 "nbformat": 4,
 "nbformat_minor": 0
}
