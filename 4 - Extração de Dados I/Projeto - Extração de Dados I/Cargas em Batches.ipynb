{
 "cells": [
  {
   "cell_type": "markdown",
   "metadata": {
    "application/vnd.databricks.v1+cell": {
     "cellMetadata": {
      "byteLimit": 2048000,
      "rowLimit": 10000
     },
     "inputWidgets": {},
     "nuid": "7db71a06-f29f-407d-adbe-f04d5fb2d7d8",
     "showTitle": false,
     "title": ""
    }
   },
   "source": [
    "## Extração dados API"
   ]
  },
  {
   "cell_type": "markdown",
   "metadata": {
    "application/vnd.databricks.v1+cell": {
     "cellMetadata": {
      "byteLimit": 2048000,
      "rowLimit": 10000
     },
     "inputWidgets": {},
     "nuid": "802e7483-6f04-4275-bf14-197137773638",
     "showTitle": false,
     "title": ""
    }
   },
   "source": [
    "#### 1. Instalação das Bibliotecas"
   ]
  },
  {
   "cell_type": "code",
   "execution_count": 0,
   "metadata": {
    "application/vnd.databricks.v1+cell": {
     "cellMetadata": {
      "byteLimit": 2048000,
      "rowLimit": 10000
     },
     "inputWidgets": {},
     "nuid": "73572f5f-7c76-491b-adea-d9a1a46f0034",
     "showTitle": false,
     "title": ""
    }
   },
   "outputs": [
    {
     "output_type": "stream",
     "name": "stdout",
     "output_type": "stream",
     "text": [
      "Python interpreter will be restarted.\nRequirement already satisfied: translate in /local_disk0/.ephemeral_nfs/envs/pythonEnv-9d745cdd-ddf2-409f-9d51-9773629a78d9/lib/python3.9/site-packages (3.6.1)\nRequirement already satisfied: lxml in /local_disk0/.ephemeral_nfs/envs/pythonEnv-9d745cdd-ddf2-409f-9d51-9773629a78d9/lib/python3.9/site-packages (from translate) (5.3.0)\nRequirement already satisfied: libretranslatepy==2.1.1 in /local_disk0/.ephemeral_nfs/envs/pythonEnv-9d745cdd-ddf2-409f-9d51-9773629a78d9/lib/python3.9/site-packages (from translate) (2.1.1)\nRequirement already satisfied: requests in /databricks/python3/lib/python3.9/site-packages (from translate) (2.27.1)\nRequirement already satisfied: click in /databricks/python3/lib/python3.9/site-packages (from translate) (8.0.4)\nRequirement already satisfied: charset-normalizer~=2.0.0 in /databricks/python3/lib/python3.9/site-packages (from requests->translate) (2.0.4)\nRequirement already satisfied: idna<4,>=2.5 in /databricks/python3/lib/python3.9/site-packages (from requests->translate) (3.3)\nRequirement already satisfied: certifi>=2017.4.17 in /databricks/python3/lib/python3.9/site-packages (from requests->translate) (2021.10.8)\nRequirement already satisfied: urllib3<1.27,>=1.21.1 in /databricks/python3/lib/python3.9/site-packages (from requests->translate) (1.26.9)\nPython interpreter will be restarted.\n"
     ]
    }
   ],
   "source": [
    "pip install translate"
   ]
  },
  {
   "cell_type": "code",
   "execution_count": 0,
   "metadata": {
    "application/vnd.databricks.v1+cell": {
     "cellMetadata": {
      "byteLimit": 2048000,
      "rowLimit": 10000
     },
     "inputWidgets": {},
     "nuid": "242d9941-4c1f-472c-9fc3-e6ddbc20caa6",
     "showTitle": false,
     "title": ""
    }
   },
   "outputs": [
    {
     "output_type": "stream",
     "name": "stdout",
     "output_type": "stream",
     "text": [
      "Python interpreter will be restarted.\nRequirement already satisfied: schedule in /local_disk0/.ephemeral_nfs/envs/pythonEnv-9d745cdd-ddf2-409f-9d51-9773629a78d9/lib/python3.9/site-packages (1.2.2)\nPython interpreter will be restarted.\n"
     ]
    }
   ],
   "source": [
    "pip install schedule"
   ]
  },
  {
   "cell_type": "markdown",
   "metadata": {
    "application/vnd.databricks.v1+cell": {
     "cellMetadata": {
      "byteLimit": 2048000,
      "rowLimit": 10000
     },
     "inputWidgets": {},
     "nuid": "e2e2ed7e-be47-4527-80fe-0257d2d6def5",
     "showTitle": false,
     "title": ""
    }
   },
   "source": [
    "#### 2. Imports"
   ]
  },
  {
   "cell_type": "code",
   "execution_count": 0,
   "metadata": {
    "application/vnd.databricks.v1+cell": {
     "cellMetadata": {
      "byteLimit": 2048000,
      "rowLimit": 10000
     },
     "inputWidgets": {},
     "nuid": "c8ec595f-1a85-421c-98c7-445511232b54",
     "showTitle": false,
     "title": ""
    }
   },
   "outputs": [],
   "source": [
    "import requests\n",
    "import time\n",
    "from translate import Translator\n",
    "from pyspark.sql.functions import *\n",
    "from pyspark.sql.types import StructType, StructField, StringType, TimestampType\n",
    "from pyspark.sql.utils import AnalysisException\n",
    "import schedule"
   ]
  },
  {
   "cell_type": "markdown",
   "metadata": {
    "application/vnd.databricks.v1+cell": {
     "cellMetadata": {
      "byteLimit": 2048000,
      "rowLimit": 10000
     },
     "inputWidgets": {},
     "nuid": "f335ce00-e7e3-4950-ab35-4cbc2f2939f7",
     "showTitle": false,
     "title": ""
    }
   },
   "source": [
    "#### 3. Constantes"
   ]
  },
  {
   "cell_type": "code",
   "execution_count": 0,
   "metadata": {
    "application/vnd.databricks.v1+cell": {
     "cellMetadata": {
      "byteLimit": 2048000,
      "rowLimit": 10000
     },
     "inputWidgets": {},
     "nuid": "54e0a03f-0166-45c8-b13f-4958396679a7",
     "showTitle": false,
     "title": ""
    }
   },
   "outputs": [],
   "source": [
    "path = '/Filestore/projeto/dados_raw'\n",
    "\n",
    "translator = Translator(to_lang=\"en\", from_lang='pt')\n",
    "api_key = \"844629b1a5d44eb7938b174b6285a905\"\n",
    "\n",
    "palavras_chave =  ['outubro rosa', 'DNA', 'doença genética', 'terapia genética']\n",
    "\n",
    "schema = StructType([\n",
    "        StructField(\"source\", StructType([\n",
    "            StructField(\"id\", StringType(), True),\n",
    "            StructField(\"name\", StringType(), True)\n",
    "        ]), True),\n",
    "        StructField(\"author\", StringType(), True),\n",
    "        StructField(\"title\", StringType(), True),\n",
    "        StructField(\"description\", StringType(), True),\n",
    "        StructField(\"url\", StringType(), True),\n",
    "        StructField(\"urlToImage\", StringType(), True),\n",
    "        StructField(\"publishedAt\", StringType(), True),\n",
    "        StructField(\"content\", StringType(), True)])"
   ]
  },
  {
   "cell_type": "markdown",
   "metadata": {
    "application/vnd.databricks.v1+cell": {
     "cellMetadata": {
      "byteLimit": 2048000,
      "rowLimit": 10000
     },
     "inputWidgets": {},
     "nuid": "c39b9aee-9756-4c05-a427-0e4abb8e6bd5",
     "showTitle": false,
     "title": ""
    }
   },
   "source": [
    "#### 4. Extração e carregamento das notícias"
   ]
  },
  {
   "cell_type": "code",
   "execution_count": 0,
   "metadata": {
    "application/vnd.databricks.v1+cell": {
     "cellMetadata": {
      "byteLimit": 2048000,
      "rowLimit": 10000
     },
     "inputWidgets": {},
     "nuid": "3c51872b-110e-461f-b453-93361c6a38a4",
     "showTitle": false,
     "title": ""
    }
   },
   "outputs": [],
   "source": [
    "def carregamento(palavras_chave: list[str]):\n",
    "    searchIn = 'title,description,content'\n",
    "    news_translation = list(map(translator.translate, palavras_chave))\n",
    "\n",
    "    df_articles = spark.createDataFrame([], schema)\n",
    "\n",
    "    for noticia in set(palavras_chave + news_translation):\n",
    "        url = ('https://newsapi.org/v2/everything?'\n",
    "        f'q=(\"{noticia}\")&'\n",
    "        f'searchIn={searchIn}&'\n",
    "        'sortBy=relevancy&'\n",
    "        f'apiKey={api_key}')\n",
    "\n",
    "        response = requests.get(url).json()\n",
    "        if response['status'] == 'ok':\n",
    "                df_articles = df_articles.union(spark.createDataFrame(response['articles'], schema))\n",
    "    return df_articles\n",
    "\n",
    "def processamento_raw(df):\n",
    "  df = df.dropDuplicates(['url'])\n",
    "  df = df.withColumn('data_processamento', current_timestamp())\n",
    "  return df\n",
    "\n",
    "def save_data(df):\n",
    "  df.write.format('delta').mode('append').parquet(path)\n",
    "  print(f\"{df.count()} novas notícias foram persistidas\")\n",
    "  \n",
    "  \n",
    "def obter_dados_nao_salvos(df):\n",
    "  try:\n",
    "    df_leitura = spark.read.parquet(path)\n",
    "    df_left_join = df.alias(\"df1\").join(df_leitura.alias(\"df2\"), on=\"url\", how=\"left\")\n",
    "    left_exclude = df_left_join.filter(col(\"df2.url\").isNull()).select(\"df1.*\")\n",
    "    return left_exclude\n",
    "  except AnalysisException:\n",
    "    return df\n",
    "  \n",
    "  \n"
   ]
  },
  {
   "cell_type": "code",
   "execution_count": 0,
   "metadata": {
    "application/vnd.databricks.v1+cell": {
     "cellMetadata": {
      "byteLimit": 2048000,
      "rowLimit": 10000
     },
     "inputWidgets": {},
     "nuid": "10ef4877-bc7e-4fd1-b483-0fd21c7be956",
     "showTitle": false,
     "title": ""
    }
   },
   "outputs": [],
   "source": [
    "def proc_lotes():\n",
    "    print(\"O processo começou\")\n",
    "    df = carregamento(palavras_chave)\n",
    "    df_processada = processamento_raw(df)\n",
    "    df_novas_noticias = obter_dados_nao_salvos(df_processada)\n",
    "    save_data(df_novas_noticias)"
   ]
  },
  {
   "cell_type": "code",
   "execution_count": 0,
   "metadata": {
    "application/vnd.databricks.v1+cell": {
     "cellMetadata": {
      "byteLimit": 2048000,
      "rowLimit": 10000
     },
     "inputWidgets": {},
     "nuid": "71eddab9-dc02-4c19-9106-f7b0afe821d4",
     "showTitle": false,
     "title": ""
    }
   },
   "outputs": [
    {
     "output_type": "stream",
     "name": "stdout",
     "output_type": "stream",
     "text": [
      "O processo começou\n420 novas notícias foram persistidas\nO processo começou\n3 novas notícias foram persistidas\n"
     ]
    },
    {
     "output_type": "display_data",
     "data": {
      "text/html": [
       "<style scoped>\n",
       "  .ansiout {\n",
       "    display: block;\n",
       "    unicode-bidi: embed;\n",
       "    white-space: pre-wrap;\n",
       "    word-wrap: break-word;\n",
       "    word-break: break-all;\n",
       "    font-family: \"Menlo\", \"Monaco\", \"Consolas\", \"Ubuntu Mono\", \"Source Code Pro\", monospace;\n",
       "    font-size: 13px;\n",
       "    color: #555;\n",
       "    margin-left: 4px;\n",
       "    line-height: 19px;\n",
       "  }\n",
       "</style>"
      ]
     },
     "metadata": {
      "application/vnd.databricks.v1+output": {
       "arguments": {},
       "data": "",
       "errorSummary": "Cancelled",
       "errorTraceType": "html",
       "metadata": {},
       "type": "ipynbError"
      }
     },
     "output_type": "display_data"
    }
   ],
   "source": [
    "# schedule.every().hour.do(proc_lotes)          #executa a cada uma hora\n",
    "schedule.every().minute.do(proc_lotes)        #executa a cada um minuto. Apenas para teste\n",
    "while True:\n",
    "    schedule.run_pending()\n",
    "    time.sleep(1)"
   ]
  }
 ],
 "metadata": {
  "application/vnd.databricks.v1+notebook": {
   "dashboards": [],
   "environmentMetadata": null,
   "language": "python",
   "notebookMetadata": {
    "mostRecentlyExecutedCommandWithImplicitDF": {
     "commandId": 1937876184825379,
     "dataframes": [
      "_sqldf"
     ]
    },
    "pythonIndentUnit": 4
   },
   "notebookName": "Cargas em Batches",
   "widgets": {}
  }
 },
 "nbformat": 4,
 "nbformat_minor": 0
}
