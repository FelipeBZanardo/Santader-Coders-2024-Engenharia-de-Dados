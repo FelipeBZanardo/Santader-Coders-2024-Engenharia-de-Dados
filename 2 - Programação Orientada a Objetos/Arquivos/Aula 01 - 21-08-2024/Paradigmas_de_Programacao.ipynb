{
 "cells": [
  {
   "cell_type": "markdown",
   "metadata": {},
   "source": [
    "<img src='letscodebr_cover.jpeg' align='left' width=100%/>"
   ]
  },
  {
   "cell_type": "markdown",
   "metadata": {
    "slideshow": {
     "slide_type": "slide"
    }
   },
   "source": [
    "# Ada Tech [DS-PY-002] Programação Orientada a Objetos (PY) Aula 1 : Paradigmas de Programação. "
   ]
  },
  {
   "cell_type": "markdown",
   "metadata": {},
   "source": [
    "## Paradigma Declarativo"
   ]
  },
  {
   "cell_type": "markdown",
   "metadata": {},
   "source": [
    "### Paradigma Declarativo: Programação Funcional"
   ]
  },
  {
   "cell_type": "markdown",
   "metadata": {},
   "source": [
    "Vamos começar filtrando uma lista de números por aqueles acima de 5:"
   ]
  },
  {
   "cell_type": "code",
   "execution_count": 2,
   "metadata": {},
   "outputs": [
    {
     "name": "stdout",
     "output_type": "stream",
     "text": [
      "Before:\n",
      "\t number: [1, 2, 3, 4, 5, 6, 7, 8, 9, 10]\n",
      "\t results: []\n",
      "After:\n",
      "\t number: [1, 2, 3, 4, 5, 6, 7, 8, 9, 10]\n",
      "\t results: [6, 7, 8, 9, 10]\n"
     ]
    }
   ],
   "source": [
    "cutoff = 5 \n",
    "numbers = [1, 2, 3, 4, 5, 6, 7, 8, 9, 10]\n",
    "results = []\n",
    "\n",
    "print('Before:')\n",
    "print('\\t number:', numbers)\n",
    "print('\\t results:', results)\n",
    "\n",
    "results = list(filter(lambda number: number > cutoff, numbers))\n",
    "\n",
    "print('After:')\n",
    "print('\\t number:', numbers)\n",
    "print('\\t results:', results)"
   ]
  },
  {
   "cell_type": "markdown",
   "metadata": {},
   "source": [
    "#### Paradigma Declarativo: Programação Funcional (Modularização)"
   ]
  },
  {
   "cell_type": "markdown",
   "metadata": {},
   "source": [
    "Criamos uma função para filtrar valores."
   ]
  },
  {
   "cell_type": "code",
   "execution_count": 3,
   "metadata": {},
   "outputs": [],
   "source": [
    "cutoff = 5 \n",
    "numbers = [1, 2, 3, 4, 5, 6, 7, 8, 9, 10]\n",
    "def Filter_Numbers(cutoff, numbers):\n",
    "\n",
    "    results = []\n",
    "\n",
    "    print('Before:')\n",
    "    print('\\t number:', numbers)\n",
    "    print('\\t results:', results)\n",
    "\n",
    "    results = list(filter(lambda number: number > cutoff, numbers))\n",
    "\n",
    "    print('After:')\n",
    "    print('\\t number:', numbers)\n",
    "    print('\\t results:', results)\n",
    "\n",
    "    return results"
   ]
  },
  {
   "cell_type": "markdown",
   "metadata": {},
   "source": [
    "Chamamos a função criada."
   ]
  },
  {
   "cell_type": "code",
   "execution_count": 4,
   "metadata": {},
   "outputs": [
    {
     "name": "stdout",
     "output_type": "stream",
     "text": [
      "Before:\n",
      "\t number: [1, 2, 3, 4, 5, 6, 7, 8, 9, 10]\n",
      "\t results: []\n",
      "After:\n",
      "\t number: [1, 2, 3, 4, 5, 6, 7, 8, 9, 10]\n",
      "\t results: [6, 7, 8, 9, 10]\n"
     ]
    },
    {
     "data": {
      "text/plain": [
       "[6, 7, 8, 9, 10]"
      ]
     },
     "execution_count": 4,
     "metadata": {},
     "output_type": "execute_result"
    }
   ],
   "source": [
    "Filter_Numbers(cutoff = 5, numbers = [1, 2, 3, 4, 5, 6, 7, 8, 9, 10])"
   ]
  },
  {
   "cell_type": "markdown",
   "metadata": {},
   "source": [
    "### Paradigma Declarativo: Programação Lógica"
   ]
  },
  {
   "cell_type": "markdown",
   "metadata": {},
   "source": [
    "Criamos funções de teste com lógicas de filtragem de valores."
   ]
  },
  {
   "cell_type": "code",
   "execution_count": 47,
   "metadata": {},
   "outputs": [],
   "source": [
    "import random\n",
    "\n",
    "def test_1(list_values, cutoff_value):\n",
    "\n",
    "    if list_values[0] > cutoff_value:\n",
    "        print(f\"O primeiro número é maior que: {cutoff_value}\")\n",
    "\n",
    "    if (list_values[0] > cutoff_value) and (list_values[1] > cutoff_value):\n",
    "        print(f\"Os dois primeiros número são maiores que: {cutoff_value}\")\n",
    "\n",
    "    if (list_values[0] > cutoff_value) or (list_values[1] > cutoff_value):\n",
    "        print(f\"Pelo menos um dos números é maior que: {cutoff_value}\")\n",
    "\n",
    "    if (list_values[0] > cutoff_value) or (list_values[2] > cutoff_value):\n",
    "        print(f\"Pelo menos um dos números é maior que: {cutoff_value}\")        \n",
    "\n",
    "    if (list_values[0] < cutoff_value) or (list_values[1] < cutoff_value):\n",
    "        print(f\"Pelo menos um dos números é menor que: {cutoff_value}\")\n",
    "\n",
    "    else:\n",
    "        print('Nenhuma condição foi atendida.')"
   ]
  },
  {
   "cell_type": "markdown",
   "metadata": {},
   "source": [
    "Chamamos a função de teste 1."
   ]
  },
  {
   "cell_type": "code",
   "execution_count": 48,
   "metadata": {},
   "outputs": [
    {
     "name": "stdout",
     "output_type": "stream",
     "text": [
      "O primeiro número é maior que: 0\n",
      "Os dois primeiros número são maiores que: 0\n",
      "Pelo menos um dos números é maior que: 0\n",
      "Pelo menos um dos números é maior que: 0\n",
      "Nenhuma condição foi atendida.\n"
     ]
    }
   ],
   "source": [
    "test_1(\n",
    "    list_values = [10, 10, -10], \n",
    "    cutoff_value = 0\n",
    "    )"
   ]
  },
  {
   "cell_type": "code",
   "execution_count": 35,
   "metadata": {},
   "outputs": [
    {
     "name": "stdout",
     "output_type": "stream",
     "text": [
      "list_values_random: [7, 8, 3]\n",
      "cutoff_value_random: -200\n"
     ]
    }
   ],
   "source": [
    "list_values_random = [random.randint(3, 9), random.randint(3, 9), random.randint(3, 9)]\n",
    "cutoff_value_random = random.randint(-1000, 1000)\n",
    "\n",
    "print('list_values_random:', list_values_random)\n",
    "print('cutoff_value_random:', cutoff_value_random)"
   ]
  },
  {
   "cell_type": "code",
   "execution_count": 36,
   "metadata": {},
   "outputs": [
    {
     "name": "stdout",
     "output_type": "stream",
     "text": [
      "O primeiro número é maior que: -200\n",
      "Os dois primeiros número são maiores que: -200\n",
      "Pelo menos um dos números é maior que: -200\n",
      "Pelo menos um dos números é maior que: -200\n",
      "Nenhuma condição foi atendida.\n"
     ]
    }
   ],
   "source": [
    "test_1(\n",
    "    list_values = list_values_random, \n",
    "    cutoff_value = cutoff_value_random\n",
    "    )"
   ]
  },
  {
   "cell_type": "markdown",
   "metadata": {},
   "source": [
    "Chamamos a função de teste 2."
   ]
  },
  {
   "cell_type": "code",
   "execution_count": null,
   "metadata": {},
   "outputs": [],
   "source": []
  },
  {
   "cell_type": "markdown",
   "metadata": {
    "slideshow": {
     "slide_type": "slide"
    },
    "toc-hr-collapsed": false
   },
   "source": [
    "## Paradigma Imperativo\n",
    "\n",
    "Para filtrar uma lista de números por aqueles acima de 5:"
   ]
  },
  {
   "cell_type": "code",
   "execution_count": 44,
   "metadata": {},
   "outputs": [
    {
     "name": "stdout",
     "output_type": "stream",
     "text": [
      "Before:\n",
      "\t numbers: [0, 1, 2, 3, 4, 5, 6, 7, 8, 9, 10]\n",
      "\t results: []\n",
      "i: 0 , numbers[i]: 0\n",
      "i: 1 , numbers[i]: 1\n",
      "i: 2 , numbers[i]: 2\n",
      "i: 3 , numbers[i]: 3\n",
      "i: 4 , numbers[i]: 4\n",
      "i: 5 , numbers[i]: 5\n",
      "i: 6 , numbers[i]: 6\n",
      "i: 7 , numbers[i]: 7\n",
      "i: 8 , numbers[i]: 8\n",
      "i: 9 , numbers[i]: 9\n",
      "i: 10 , numbers[i]: 10\n",
      "After:\n",
      "\t numbers: [0, 1, 2, 3, 4, 5, 6, 7, 8, 9, 10]\n",
      "\t results: [6, 7, 8, 9, 10]\n"
     ]
    }
   ],
   "source": [
    "cutoff = 5\n",
    "numbers = [0, 1, 2, 3, 4, 5, 6, 7, 8, 9, 10]\n",
    "results = []\n",
    "\n",
    "print('Before:')\n",
    "print('\\t numbers:', numbers)\n",
    "print('\\t results:', results)\n",
    "\n",
    "#for i in range(0,len(numbers), 1):\n",
    "for i in numbers:\n",
    "    print('i:', i, f', numbers[i]:', numbers[i])\n",
    "    if numbers[i] > cutoff: \n",
    "        results.append(numbers[i])\n",
    "    else: pass\n",
    "\n",
    "print('After:')\n",
    "print('\\t numbers:', numbers)\n",
    "print('\\t results:', results)\n"
   ]
  },
  {
   "cell_type": "markdown",
   "metadata": {},
   "source": [
    "### Paradigma Imperativo: Programação Estruturada/Modular"
   ]
  },
  {
   "cell_type": "markdown",
   "metadata": {},
   "source": [
    "Checamos valores de i maiores que um valor específico usando `while`:"
   ]
  },
  {
   "cell_type": "code",
   "execution_count": 52,
   "metadata": {},
   "outputs": [
    {
     "name": "stdout",
     "output_type": "stream",
     "text": [
      "i: 0\n",
      "i: 1\n",
      "i: 2\n",
      "i: 3\n",
      "i: 4\n",
      "i: 5\n",
      "i: 6\n",
      "i: 7\n",
      "i: 8\n",
      "i: 9\n",
      "i: 10\n"
     ]
    }
   ],
   "source": [
    "i = 0\n",
    "cutoff = 10\n",
    "while i <= cutoff:\n",
    "    print('i:', i)\n",
    "    #i = i + 1\n",
    "    i += 1"
   ]
  },
  {
   "cell_type": "markdown",
   "metadata": {},
   "source": [
    "Usando `for`:"
   ]
  },
  {
   "cell_type": "code",
   "execution_count": 58,
   "metadata": {},
   "outputs": [],
   "source": [
    "#type(range(0, 60 , 1))"
   ]
  },
  {
   "cell_type": "code",
   "execution_count": 60,
   "metadata": {},
   "outputs": [
    {
     "name": "stdout",
     "output_type": "stream",
     "text": [
      "i: 0\n",
      "i: 1\n",
      "i: 2\n",
      "i: 3\n",
      "i: 4\n",
      "i: 5\n",
      "i: 6\n",
      "i: 7\n",
      "i: 8\n",
      "i: 9\n"
     ]
    }
   ],
   "source": [
    "for i in range(0, 10 , 1):\n",
    "    print('i:', i)\n",
    "    i += 1"
   ]
  },
  {
   "cell_type": "markdown",
   "metadata": {},
   "source": [
    "Usando `if`/ `else`:"
   ]
  },
  {
   "cell_type": "code",
   "execution_count": 63,
   "metadata": {},
   "outputs": [
    {
     "name": "stdout",
     "output_type": "stream",
     "text": [
      "i: 0\n",
      "i: 1\n",
      "i: 2\n",
      "i: 3\n",
      "i: 4\n",
      "i: 5\n",
      "i: 6\n",
      "i: 7\n",
      "i: 8\n",
      "i: 9\n"
     ]
    }
   ],
   "source": [
    "i = 0 \n",
    "cutoff = 10\n",
    "for i in range(0, 10 , 1):\n",
    "    if i < cutoff:\n",
    "        print('i:', i)\n",
    "        i += 1\n",
    "    else:\n",
    "        pass    "
   ]
  },
  {
   "cell_type": "markdown",
   "metadata": {},
   "source": [
    "### Paradigma Imperativo: Programação Procedural"
   ]
  },
  {
   "cell_type": "markdown",
   "metadata": {},
   "source": [
    "Criamos funções para tesar operações matemáticas."
   ]
  },
  {
   "cell_type": "code",
   "execution_count": 76,
   "metadata": {},
   "outputs": [],
   "source": [
    "def Sum(sample_list):\n",
    "    total = 0\n",
    "    for x in sample_list:\n",
    "        total += x\n",
    "        #total = total + x\n",
    "    print('total:', total)\n",
    "\n",
    "def Subtract(sample_list):\n",
    "    total = 0\n",
    "    for x in sample_list:\n",
    "        total -= x\n",
    "        #total = total + x\n",
    "    print('total:', total)    \n",
    "\n",
    "\n",
    "def Multiply(sample_list):\n",
    "    total = 1\n",
    "    for x in sample_list:\n",
    "        total *= x\n",
    "        #total = total + x\n",
    "    print('total:', total)    \n",
    "\n",
    "def Divide(sample_list):\n",
    "    total = 1\n",
    "    for x in sample_list:\n",
    "        total /= x\n",
    "        #total = total + x\n",
    "    print('total:', total)    "
   ]
  },
  {
   "cell_type": "markdown",
   "metadata": {},
   "source": [
    "Chamando as funções definidas."
   ]
  },
  {
   "cell_type": "code",
   "execution_count": 79,
   "metadata": {},
   "outputs": [
    {
     "name": "stdout",
     "output_type": "stream",
     "text": [
      "total: 330\n",
      "total: -330\n",
      "total: 7000000\n",
      "total: 1.4285714285714287e-07\n",
      "\n",
      "total: -65\n",
      "total: 65\n",
      "total: 33037658864\n",
      "total: 3.0268488578943034e-11\n"
     ]
    }
   ],
   "source": [
    "list1 = [10, 200, 50, 70]\n",
    "list_values_random = [random.randint(-1000, 1000), random.randint(-1000, 1000), random.randint(-1000, 1000), random.randint(-1000, 1000)]\n",
    "\n",
    "Sum(sample_list = list1)\n",
    "Subtract(sample_list = list1)\n",
    "Multiply(sample_list = list1)\n",
    "Divide(sample_list = list1)\n",
    "print('')\n",
    "Sum(sample_list = list_values_random)\n",
    "Subtract(sample_list = list_values_random)\n",
    "Multiply(sample_list = list_values_random)\n",
    "Divide(sample_list = list_values_random)"
   ]
  },
  {
   "cell_type": "markdown",
   "metadata": {},
   "source": [
    "### Paradigma Imperativo: Linguagem de Requisição a Bancos de Dados\n",
    "\n",
    "- [How To Use the sqlite3 Module in Python 3](https://www.digitalocean.com/community/tutorials/how-to-use-the-sqlite3-module-in-python-3)"
   ]
  },
  {
   "cell_type": "markdown",
   "metadata": {},
   "source": [
    "Inicializamos uma conexão."
   ]
  },
  {
   "cell_type": "code",
   "execution_count": 80,
   "metadata": {},
   "outputs": [
    {
     "name": "stdout",
     "output_type": "stream",
     "text": [
      "0\n"
     ]
    }
   ],
   "source": [
    "import sqlite3\n",
    "\n",
    "connection = sqlite3.connect(\"aquarium.db\")\n",
    "\n",
    "print(connection.total_changes)"
   ]
  },
  {
   "cell_type": "markdown",
   "metadata": {},
   "source": [
    "Escrevemos e executamos `queries`.\n",
    "\n",
    "- [SQLite Database is Locked: How to Resolve](https://sqldocs.org/sqlite/sqlite-database-is-locked/)"
   ]
  },
  {
   "cell_type": "code",
   "execution_count": 81,
   "metadata": {},
   "outputs": [],
   "source": [
    "table_name = 'fish'\n",
    "\n",
    "query = f''' SELECT name FROM sqlite_master WHERE type='table' AND name='{table_name}';'''\n",
    "#query = ''' DROP TABLE fish; '''\n",
    "\n",
    "\n",
    "cursor = connection.cursor()\n",
    "cursor.execute(query)\n",
    "cursor.close()"
   ]
  },
  {
   "cell_type": "code",
   "execution_count": 82,
   "metadata": {},
   "outputs": [
    {
     "data": {
      "text/plain": [
       "<sqlite3.Cursor at 0x1075f4a40>"
      ]
     },
     "execution_count": 82,
     "metadata": {},
     "output_type": "execute_result"
    }
   ],
   "source": [
    "cursor = connection.cursor()\n",
    "cursor.execute(\"CREATE TABLE fish (name TEXT, species TEXT, tank_number INTEGER)\")"
   ]
  },
  {
   "cell_type": "code",
   "execution_count": 83,
   "metadata": {},
   "outputs": [
    {
     "data": {
      "text/plain": [
       "<sqlite3.Cursor at 0x1075f4a40>"
      ]
     },
     "execution_count": 83,
     "metadata": {},
     "output_type": "execute_result"
    }
   ],
   "source": [
    "cursor.execute(\"INSERT INTO fish VALUES ('Sammy', 'shark', 1)\")\n",
    "cursor.execute(\"INSERT INTO fish VALUES ('Jamie', 'cuttlefish', 7)\")"
   ]
  },
  {
   "cell_type": "code",
   "execution_count": 84,
   "metadata": {},
   "outputs": [
    {
     "name": "stdout",
     "output_type": "stream",
     "text": [
      "[('Sammy', 'shark', 1), ('Jamie', 'cuttlefish', 7)]\n"
     ]
    }
   ],
   "source": [
    "rows = cursor.execute(\"SELECT name, species, tank_number FROM fish\").fetchall()\n",
    "\n",
    "print(rows)"
   ]
  },
  {
   "cell_type": "code",
   "execution_count": 85,
   "metadata": {},
   "outputs": [],
   "source": [
    "import os\n",
    "filePath = 'aquarium.db';\n",
    "\n",
    "if os.path.exists(filePath):\n",
    "    os.remove(filePath)\n",
    "\t#print(\"Successfully! The File has been removed\")\n",
    "else:\n",
    "    pass\n",
    "    #print(\"Can not delete the file as it doesn't exists\")"
   ]
  },
  {
   "cell_type": "code",
   "execution_count": null,
   "metadata": {},
   "outputs": [],
   "source": []
  },
  {
   "cell_type": "code",
   "execution_count": null,
   "metadata": {},
   "outputs": [],
   "source": []
  },
  {
   "cell_type": "markdown",
   "metadata": {},
   "source": [
    "Removemos o database `'aquarium.db'`."
   ]
  },
  {
   "cell_type": "code",
   "execution_count": null,
   "metadata": {},
   "outputs": [],
   "source": []
  },
  {
   "cell_type": "markdown",
   "metadata": {},
   "source": [
    "### Paradigma Imperativo: Programação Orientada a Objeto (POO)"
   ]
  },
  {
   "cell_type": "markdown",
   "metadata": {},
   "source": [
    "Definindo a classe Bolo.\n",
    "\n",
    "Os parâmetros da classe são:\n",
    "\n",
    "- `__init__(self, sabor, tamanho, cobertura)`: Inicializa um novo objeto Bolo.\n",
    "- `self.sabor = sabor`: Atributos/Propriedades de sabor.\n",
    "- `self.tamanho = tamanho`: Atributos/Propriedades de tamanho (pequeno, médio, grande).\n",
    "- `self.cobertura = cobertura`: Atributos/Propriedades de cobertura.\n",
    "\n",
    "As funções para classe são:\n",
    "\n",
    "- cozinhar(self): Processo de cozinhar o bolo.\n",
    "- adicionar_cobertura(self): Adicionar cobertura ao bolo.\n",
    "\n",
    "\n"
   ]
  },
  {
   "cell_type": "code",
   "execution_count": 92,
   "metadata": {},
   "outputs": [],
   "source": [
    "class Bolo:\n",
    "\n",
    "    def __init__(self, sabor, tamanho, cobertura):\n",
    "        self.sabor = sabor\n",
    "        self.tamanho = tamanho\n",
    "        self.cobertura = cobertura\n",
    "\n",
    "    def cozinhar(self):\n",
    "        print(f\"Preparando de tamanho {self.tamanho} de sabor {self.sabor}...\")\n",
    "\n",
    "    def adicionar_cobertura(self):\n",
    "        print(f\"Adicionando cobertura de {self.cobertura} ao bolo...\")"
   ]
  },
  {
   "cell_type": "markdown",
   "metadata": {},
   "source": [
    "Criando objetos da classe Bolo.\n",
    "\n",
    "- bolo_chocolate: Objeto 1, bolo de chocolate.\n",
    "- bolo_baunilha: Objeto 2, bolo de baunilha."
   ]
  },
  {
   "cell_type": "code",
   "execution_count": 94,
   "metadata": {},
   "outputs": [
    {
     "name": "stdout",
     "output_type": "stream",
     "text": [
      "bolobolo_chocolate: <__main__.Bolo object at 0x10bad6d90>\n",
      "bolobolo_morango: <__main__.Bolo object at 0x107273400>\n"
     ]
    }
   ],
   "source": [
    "bolo_chocolate = Bolo(sabor = 'chocolate', tamanho = 'médio', cobertura = 'chocolate')\n",
    "print('bolobolo_chocolate:', bolo_chocolate)\n",
    "\n",
    "bolo_morango = Bolo(sabor = 'morango', tamanho = 'médio', cobertura = 'chocolate')\n",
    "print('bolobolo_morango:', bolo_morango)"
   ]
  },
  {
   "cell_type": "markdown",
   "metadata": {},
   "source": [
    "Usando Objetos"
   ]
  },
  {
   "cell_type": "code",
   "execution_count": 95,
   "metadata": {},
   "outputs": [
    {
     "name": "stdout",
     "output_type": "stream",
     "text": [
      "Preparando de tamanho médio de sabor chocolate...\n",
      "Preparando de tamanho médio de sabor morango...\n"
     ]
    }
   ],
   "source": [
    "bolo_chocolate.cozinhar()\n",
    "bolo_morango.cozinhar()"
   ]
  },
  {
   "cell_type": "code",
   "execution_count": 96,
   "metadata": {},
   "outputs": [
    {
     "name": "stdout",
     "output_type": "stream",
     "text": [
      "Adicionando cobertura de chocolate ao bolo...\n"
     ]
    }
   ],
   "source": [
    "bolo_morango.adicionar_cobertura()"
   ]
  },
  {
   "cell_type": "code",
   "execution_count": 27,
   "metadata": {},
   "outputs": [
    {
     "ename": "NameError",
     "evalue": "name 'stop' is not defined",
     "output_type": "error",
     "traceback": [
      "\u001b[0;31m---------------------------------------------------------------------------\u001b[0m",
      "\u001b[0;31mNameError\u001b[0m                                 Traceback (most recent call last)",
      "Cell \u001b[0;32mIn[27], line 1\u001b[0m\n\u001b[0;32m----> 1\u001b[0m \u001b[43mstop\u001b[49m\u001b[38;5;241m.\u001b[39mhere()\n",
      "\u001b[0;31mNameError\u001b[0m: name 'stop' is not defined"
     ]
    }
   ],
   "source": [
    "stop.here()"
   ]
  },
  {
   "cell_type": "code",
   "execution_count": null,
   "metadata": {},
   "outputs": [],
   "source": []
  }
 ],
 "metadata": {
  "kernelspec": {
   "display_name": "Python 3",
   "language": "python",
   "name": "python3"
  },
  "language_info": {
   "codemirror_mode": {
    "name": "ipython",
    "version": 3
   },
   "file_extension": ".py",
   "mimetype": "text/x-python",
   "name": "python",
   "nbconvert_exporter": "python",
   "pygments_lexer": "ipython3",
   "version": "3.9.6"
  },
  "toc-autonumbering": false,
  "toc-showcode": true
 },
 "nbformat": 4,
 "nbformat_minor": 4
}
