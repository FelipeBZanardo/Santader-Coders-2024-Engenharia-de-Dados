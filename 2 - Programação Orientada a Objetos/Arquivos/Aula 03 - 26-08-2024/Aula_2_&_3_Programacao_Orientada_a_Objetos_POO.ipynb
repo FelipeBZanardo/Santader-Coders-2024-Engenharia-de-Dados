{
 "cells": [
  {
   "cell_type": "markdown",
   "metadata": {},
   "source": [
    "<img src='letscodebr_cover.jpeg' align='left' width=100%/>"
   ]
  },
  {
   "cell_type": "markdown",
   "metadata": {
    "slideshow": {
     "slide_type": "slide"
    }
   },
   "source": [
    "# Ada Tech [DS-PY-002] Programação Orientada a Objetos (PY) Aula 2 : Programação Orientada a Objetos (POO). "
   ]
  },
  {
   "cell_type": "markdown",
   "metadata": {},
   "source": [
    "## Aula 02 |  Programação Orientada a Objetos (POO)"
   ]
  },
  {
   "cell_type": "markdown",
   "metadata": {},
   "source": [
    "### Definição de uma classe"
   ]
  },
  {
   "cell_type": "markdown",
   "metadata": {},
   "source": [
    "Vamos definir uma classe."
   ]
  },
  {
   "cell_type": "code",
   "execution_count": 2,
   "metadata": {},
   "outputs": [],
   "source": [
    "class Carro:\n",
    "    pass"
   ]
  },
  {
   "cell_type": "code",
   "execution_count": 3,
   "metadata": {},
   "outputs": [],
   "source": [
    "class Carro:\n",
    "    def __init__(self, nome, ano_fabricacao):\n",
    "        self.nome = nome\n",
    "        self.ano_fabricacao = ano_fabricacao"
   ]
  },
  {
   "cell_type": "code",
   "execution_count": 4,
   "metadata": {},
   "outputs": [],
   "source": [
    "class Carro:\n",
    "    marca = \"VW\"\n",
    "    def __init__(self, nome, ano_fabricacao):\n",
    "        self.nome = nome\n",
    "        self.ano_fabricacao = ano_fabricacao"
   ]
  },
  {
   "cell_type": "markdown",
   "metadata": {},
   "source": [
    "### A instanciação de uma classe"
   ]
  },
  {
   "cell_type": "markdown",
   "metadata": {},
   "source": [
    "Instanciamos objetos de classes."
   ]
  },
  {
   "cell_type": "code",
   "execution_count": 5,
   "metadata": {},
   "outputs": [
    {
     "data": {
      "text/plain": [
       "<__main__.Carro at 0x107ee5a30>"
      ]
     },
     "execution_count": 5,
     "metadata": {},
     "output_type": "execute_result"
    }
   ],
   "source": [
    "class Carro:\n",
    "    pass\n",
    "\n",
    "Carro()"
   ]
  },
  {
   "cell_type": "code",
   "execution_count": 6,
   "metadata": {},
   "outputs": [
    {
     "data": {
      "text/plain": [
       "<__main__.Carro at 0x107ee58e0>"
      ]
     },
     "execution_count": 6,
     "metadata": {},
     "output_type": "execute_result"
    }
   ],
   "source": [
    "Carro()"
   ]
  },
  {
   "cell_type": "code",
   "execution_count": 7,
   "metadata": {},
   "outputs": [],
   "source": [
    "Carro_1 = Carro()\n",
    "Carro_2 = Carro()"
   ]
  },
  {
   "cell_type": "code",
   "execution_count": 8,
   "metadata": {},
   "outputs": [
    {
     "name": "stdout",
     "output_type": "stream",
     "text": [
      "Carro_1: <__main__.Carro object at 0x107ee6be0>\n",
      "Carro_2: <__main__.Carro object at 0x107ee5940>\n"
     ]
    }
   ],
   "source": [
    "print('Carro_1:', Carro_1)\n",
    "print('Carro_2:', Carro_2)"
   ]
  },
  {
   "cell_type": "code",
   "execution_count": 9,
   "metadata": {},
   "outputs": [
    {
     "name": "stdout",
     "output_type": "stream",
     "text": [
      "Carro_1 == Carro_2: False\n"
     ]
    }
   ],
   "source": [
    "print('Carro_1 == Carro_2:', Carro_1 == Carro_2)"
   ]
  },
  {
   "cell_type": "markdown",
   "metadata": {},
   "source": [
    "#### Atributos de Classes e Instâncias"
   ]
  },
  {
   "cell_type": "markdown",
   "metadata": {},
   "source": [
    "Definimos a classe novamente."
   ]
  },
  {
   "cell_type": "code",
   "execution_count": 10,
   "metadata": {},
   "outputs": [],
   "source": [
    "class Carro:\n",
    "    marca = \"VW\"\n",
    "    def __init__(self, nome, ano_fabricacao):\n",
    "        self.nome = nome\n",
    "        self.ano_fabricacao = ano_fabricacao"
   ]
  },
  {
   "cell_type": "markdown",
   "metadata": {},
   "source": [
    "É necessário providenciar os parâmetros de nome e ano de fabricação a chamarmos a classe."
   ]
  },
  {
   "cell_type": "code",
   "execution_count": 11,
   "metadata": {},
   "outputs": [
    {
     "name": "stdout",
     "output_type": "stream",
     "text": [
      "An error occured: __init__() missing 2 required positional arguments: 'nome' and 'ano_fabricacao'\n"
     ]
    }
   ],
   "source": [
    "try:\n",
    "    Carro()\n",
    "except Exception as error:\n",
    "    print(\"An error occured:\", error)"
   ]
  },
  {
   "cell_type": "markdown",
   "metadata": {},
   "source": [
    "Agora atribuímos valores aos parâmetros."
   ]
  },
  {
   "cell_type": "code",
   "execution_count": 12,
   "metadata": {},
   "outputs": [],
   "source": [
    "Passat = Carro(nome = 'Passat', ano_fabricacao = 2005)\n",
    "Golf = Carro(nome = 'Golf', ano_fabricacao = 2015)"
   ]
  },
  {
   "cell_type": "markdown",
   "metadata": {},
   "source": [
    "Recumeramos os atributos de cada objeto."
   ]
  },
  {
   "cell_type": "code",
   "execution_count": 13,
   "metadata": {},
   "outputs": [
    {
     "name": "stdout",
     "output_type": "stream",
     "text": [
      "Passat.nome: Passat\n",
      "Golf.nome: Golf\n"
     ]
    }
   ],
   "source": [
    "print('Passat.nome:', Passat.nome)\n",
    "print('Golf.nome:', Golf.nome)"
   ]
  },
  {
   "cell_type": "code",
   "execution_count": 14,
   "metadata": {},
   "outputs": [
    {
     "name": "stdout",
     "output_type": "stream",
     "text": [
      "Passat.ano_fabricacao: 2005\n",
      "Golf.ano_fabricacao: 2015\n"
     ]
    }
   ],
   "source": [
    "print('Passat.ano_fabricacao:', Passat.ano_fabricacao)\n",
    "print('Golf.ano_fabricacao:', Golf.ano_fabricacao)"
   ]
  },
  {
   "cell_type": "code",
   "execution_count": 15,
   "metadata": {},
   "outputs": [
    {
     "name": "stdout",
     "output_type": "stream",
     "text": [
      "Passat.marca: VW\n",
      "Golf.marca: VW\n"
     ]
    }
   ],
   "source": [
    "print('Passat.marca:', Passat.marca)\n",
    "print('Golf.marca:', Golf.marca)"
   ]
  },
  {
   "cell_type": "markdown",
   "metadata": {},
   "source": [
    "Alteramos valores."
   ]
  },
  {
   "cell_type": "code",
   "execution_count": 16,
   "metadata": {},
   "outputs": [
    {
     "name": "stdout",
     "output_type": "stream",
     "text": [
      "Passat.ano_fabricacao: 2008\n"
     ]
    }
   ],
   "source": [
    "Passat.ano_fabricacao = 2008\n",
    "print('Passat.ano_fabricacao:', Passat.ano_fabricacao)"
   ]
  },
  {
   "cell_type": "code",
   "execution_count": 17,
   "metadata": {},
   "outputs": [
    {
     "name": "stdout",
     "output_type": "stream",
     "text": [
      "Golf.marca: Audi\n"
     ]
    }
   ],
   "source": [
    "Golf.marca = 'Audi'\n",
    "print('Golf.marca:', Golf.marca)"
   ]
  },
  {
   "cell_type": "code",
   "execution_count": 18,
   "metadata": {},
   "outputs": [
    {
     "name": "stdout",
     "output_type": "stream",
     "text": [
      "Passat.marca: VW\n"
     ]
    }
   ],
   "source": [
    "print('Passat.marca:', Passat.marca)"
   ]
  },
  {
   "cell_type": "markdown",
   "metadata": {},
   "source": [
    "#### Métodos de Instâncias"
   ]
  },
  {
   "cell_type": "markdown",
   "metadata": {},
   "source": [
    "incluindo métodos à classe Carros."
   ]
  },
  {
   "cell_type": "code",
   "execution_count": 19,
   "metadata": {},
   "outputs": [],
   "source": [
    "class Carro:\n",
    "    marca = \"VW\"\n",
    "    ano_atual = 2024\n",
    "\n",
    "    def __init__(self, nome, ano_fabricacao):\n",
    "        self.nome = nome\n",
    "        self.ano_fabricacao = ano_fabricacao\n",
    "\n",
    "    def idade(self):\n",
    "        return f\"{self.nome} tem {self.ano_atual - self.ano_fabricacao} anos\"\n",
    "    \n",
    "    def ruido(self, som):\n",
    "        return f\"{self.nome} faz {som}\""
   ]
  },
  {
   "cell_type": "markdown",
   "metadata": {},
   "source": [
    "Instânciamos mais um objeto."
   ]
  },
  {
   "cell_type": "code",
   "execution_count": 20,
   "metadata": {},
   "outputs": [],
   "source": [
    "Jetta = Carro(nome = 'Jetta', ano_fabricacao = 2020)"
   ]
  },
  {
   "cell_type": "markdown",
   "metadata": {},
   "source": [
    "Checamos suas propriedades."
   ]
  },
  {
   "cell_type": "code",
   "execution_count": 21,
   "metadata": {},
   "outputs": [
    {
     "name": "stdout",
     "output_type": "stream",
     "text": [
      "Jetta.nome: Jetta\n",
      "Jetta.ano_fabricacao: 2020\n"
     ]
    }
   ],
   "source": [
    "print('Jetta.nome:', Jetta.nome)\n",
    "print('Jetta.ano_fabricacao:', Jetta.ano_fabricacao)"
   ]
  },
  {
   "cell_type": "markdown",
   "metadata": {},
   "source": [
    "Chamamos os novos atributos definidos."
   ]
  },
  {
   "cell_type": "code",
   "execution_count": 22,
   "metadata": {},
   "outputs": [
    {
     "name": "stdout",
     "output_type": "stream",
     "text": [
      "Jetta.idade(): Jetta tem 4 anos\n",
      "Jetta.ruido(): Jetta faz Vroom Vroom\n"
     ]
    }
   ],
   "source": [
    "print('Jetta.idade():', Jetta.idade())\n",
    "print('Jetta.ruido():', Jetta.ruido(som = \"Vroom Vroom\"))"
   ]
  },
  {
   "cell_type": "markdown",
   "metadata": {},
   "source": [
    "Não confundir strings e instâncias."
   ]
  },
  {
   "cell_type": "code",
   "execution_count": 23,
   "metadata": {},
   "outputs": [
    {
     "name": "stdout",
     "output_type": "stream",
     "text": [
      "['Golf', 'Passat', 'Jetta',]: ['Golf', 'Passat', 'Jetta']\n",
      "\n",
      "Golf <__main__.Carro object at 0x107ee5cd0>\n",
      "Passat <__main__.Carro object at 0x107ee64f0>\n",
      "Jetta <__main__.Carro object at 0x107e9a640>\n"
     ]
    }
   ],
   "source": [
    "print(\"['Golf', 'Passat', 'Jetta',]:\", ['Golf', 'Passat', 'Jetta',])\n",
    "print('')\n",
    "print('Golf', Golf)\n",
    "print('Passat', Passat)\n",
    "print('Jetta', Jetta)"
   ]
  },
  {
   "cell_type": "code",
   "execution_count": 24,
   "metadata": {},
   "outputs": [
    {
     "data": {
      "text/plain": [
       "__main__.Carro"
      ]
     },
     "execution_count": 24,
     "metadata": {},
     "output_type": "execute_result"
    }
   ],
   "source": [
    "type(Golf)"
   ]
  },
  {
   "cell_type": "code",
   "execution_count": 25,
   "metadata": {},
   "outputs": [
    {
     "data": {
      "text/plain": [
       "str"
      ]
     },
     "execution_count": 25,
     "metadata": {},
     "output_type": "execute_result"
    }
   ],
   "source": [
    "type('Golf')"
   ]
  },
  {
   "cell_type": "markdown",
   "metadata": {},
   "source": [
    "Trocando o método `idade()` por `__str__(self)`"
   ]
  },
  {
   "cell_type": "code",
   "execution_count": 26,
   "metadata": {},
   "outputs": [],
   "source": [
    "class Carro:\n",
    "    marca = \"VW\"\n",
    "    ano_atual = 2024\n",
    "\n",
    "    def __init__(self, nome, ano_fabricacao):\n",
    "        self.nome = nome\n",
    "        self.ano_fabricacao = ano_fabricacao\n",
    "\n",
    "    def idade(self):\n",
    "        return f\"{self.nome} tem {self.ano_atual - self.ano_fabricacao} anos\"\n",
    "    \n",
    "    def ruido(self, som):\n",
    "        return f\"{self.nome} faz {som}\"\n",
    "    \n",
    "    def __str__(self):\n",
    "        #return f\"{self.nome} tem {self.ano_atual - self.ano_fabricacao} anos\"\n",
    "        return f\"{self.nome} é um veículo da marca {self.marca}\"\n",
    "        "
   ]
  },
  {
   "cell_type": "code",
   "execution_count": 27,
   "metadata": {},
   "outputs": [],
   "source": [
    "Sirocco = Carro(nome = 'Sirocco', ano_fabricacao = 2022)"
   ]
  },
  {
   "cell_type": "code",
   "execution_count": 28,
   "metadata": {},
   "outputs": [
    {
     "name": "stdout",
     "output_type": "stream",
     "text": [
      "Sirocco é um veículo da marca VW\n"
     ]
    }
   ],
   "source": [
    "print(Sirocco)"
   ]
  },
  {
   "cell_type": "code",
   "execution_count": 29,
   "metadata": {},
   "outputs": [
    {
     "data": {
      "text/plain": [
       "'Sirocco tem 2 anos'"
      ]
     },
     "execution_count": 29,
     "metadata": {},
     "output_type": "execute_result"
    }
   ],
   "source": [
    "Sirocco.idade()"
   ]
  },
  {
   "cell_type": "markdown",
   "metadata": {},
   "source": [
    "### A herança de outra Classe"
   ]
  },
  {
   "cell_type": "markdown",
   "metadata": {},
   "source": [
    "Vamos criar uma classe pai."
   ]
  },
  {
   "cell_type": "code",
   "execution_count": 30,
   "metadata": {},
   "outputs": [],
   "source": [
    "class Pai:\n",
    "    cor_de_cabelo = 'castanho'\n",
    "\n",
    "class Filho(Pai):\n",
    "    pass        "
   ]
  },
  {
   "cell_type": "code",
   "execution_count": 32,
   "metadata": {},
   "outputs": [],
   "source": [
    "class Pai:\n",
    "    cor_de_cabelo = 'castanho'\n",
    "\n",
    "class Filho(Pai):\n",
    "    cor_de_cabelo = 'moreno'"
   ]
  },
  {
   "cell_type": "markdown",
   "metadata": {},
   "source": [
    "Adicionamos estender os atributos da classe pai."
   ]
  },
  {
   "cell_type": "code",
   "execution_count": 79,
   "metadata": {},
   "outputs": [],
   "source": [
    "class Pai:\n",
    "    lingua = ['Inglês']\n",
    "\n",
    "class Mae:\n",
    "    linguas = ['javanês']\n",
    "    #hobby = ['pintar']\n",
    "\n",
    "class Filho(Pai, Mae):\n",
    "    def __init__(self):\n",
    "        super().__init__()\n",
    "        self.lingua.append('Francês')\n",
    "        self.linguas.append('Francês')\n",
    "        #self.hobby.append('correr')"
   ]
  },
  {
   "cell_type": "code",
   "execution_count": 80,
   "metadata": {},
   "outputs": [
    {
     "data": {
      "text/plain": [
       "['Inglês']"
      ]
     },
     "execution_count": 80,
     "metadata": {},
     "output_type": "execute_result"
    }
   ],
   "source": [
    "pai = Pai()\n",
    "pai.lingua"
   ]
  },
  {
   "cell_type": "code",
   "execution_count": 81,
   "metadata": {},
   "outputs": [
    {
     "data": {
      "text/plain": [
       "['javanês']"
      ]
     },
     "execution_count": 81,
     "metadata": {},
     "output_type": "execute_result"
    }
   ],
   "source": [
    "mae = Mae()\n",
    "#mae.hobby\n",
    "mae.linguas"
   ]
  },
  {
   "cell_type": "code",
   "execution_count": 82,
   "metadata": {},
   "outputs": [
    {
     "name": "stdout",
     "output_type": "stream",
     "text": [
      "filho.lingua: ['Inglês', 'Francês']\n",
      "filho.linguas: ['javanês', 'Francês']\n"
     ]
    }
   ],
   "source": [
    "filho = Filho()\n",
    "print('filho.lingua:', filho.lingua)\n",
    "print('filho.linguas:', filho.linguas)\n",
    "#print('filho.hobby:', filho.hobby)"
   ]
  },
  {
   "cell_type": "markdown",
   "metadata": {},
   "source": [
    "#### Exemplo de herança."
   ]
  },
  {
   "cell_type": "markdown",
   "metadata": {},
   "source": [
    "Vamos adicionar um atributo de categoria."
   ]
  },
  {
   "cell_type": "code",
   "execution_count": 35,
   "metadata": {},
   "outputs": [],
   "source": [
    "class Carro:\n",
    "    marca = \"VW\"\n",
    "    ano_atual = 2024\n",
    "\n",
    "    def __init__(self, nome, ano_fabricacao, categoria):\n",
    "        self.nome = nome\n",
    "        self.ano_fabricacao = ano_fabricacao\n",
    "        self.categoria = categoria\n",
    "\n",
    "    def idade(self):\n",
    "        return f\"{self.nome} tem {self.ano_atual - self.ano_fabricacao} anos\"\n",
    "    \n",
    "    def ruido(self, som):\n",
    "        return f\"{self.nome} faz {som}\"\n",
    "    \n",
    "    def __str__(self):\n",
    "        #return f\"{self.nome} tem {self.ano_atual - self.ano_fabricacao} anos\"\n",
    "        return f\"{self.nome} é um veículo da marca {self.marca}\""
   ]
  },
  {
   "cell_type": "markdown",
   "metadata": {},
   "source": [
    "Instanciamos nossos objetos"
   ]
  },
  {
   "cell_type": "code",
   "execution_count": 36,
   "metadata": {},
   "outputs": [],
   "source": [
    "Passat = Carro(nome = 'Passat', ano_fabricacao = 2005, categoria = 'Sedan')\n",
    "Golf = Carro(nome = 'Golf', ano_fabricacao = 2015, categoria = 'hatchback')\n",
    "Jetta = Carro(nome = 'Jetta', ano_fabricacao = 2020, categoria = 'Compact_Sedan')\n",
    "Sirocco = Carro(nome = 'Sirocco', ano_fabricacao = 2022, categoria = 'sport_compact')"
   ]
  },
  {
   "cell_type": "markdown",
   "metadata": {},
   "source": [
    "Chamamos o atributo `.ruido()` de cada objeto."
   ]
  },
  {
   "cell_type": "code",
   "execution_count": 37,
   "metadata": {},
   "outputs": [
    {
     "name": "stdout",
     "output_type": "stream",
     "text": [
      "Passat.ruido(): Passat faz Vroom Vroom\n",
      "Golf.ruido(): Golf faz Whir Whir\n",
      "Jetta.ruido(): Jetta faz Purr Purr\n",
      "Sirocco.ruido(): Sirocco faz Roar Roar\n"
     ]
    }
   ],
   "source": [
    "print('Passat.ruido():', Passat.ruido(som = \"Vroom Vroom\") )\n",
    "print('Golf.ruido():', Golf.ruido(som = \"Whir Whir\") )\n",
    "print('Jetta.ruido():', Jetta.ruido(som = \"Purr Purr\") )\n",
    "print('Sirocco.ruido():', Sirocco.ruido(som = \"Roar Roar\") )"
   ]
  },
  {
   "cell_type": "markdown",
   "metadata": {},
   "source": [
    "#### Classes pai vs classes filho"
   ]
  },
  {
   "cell_type": "markdown",
   "metadata": {},
   "source": [
    "Tomamos a definição de nossa classe, removendo o atributo de `categoria`."
   ]
  },
  {
   "cell_type": "code",
   "execution_count": 96,
   "metadata": {},
   "outputs": [],
   "source": [
    "class Carro:\n",
    "    marca = \"VW\"\n",
    "    ano_atual = 2024\n",
    "\n",
    "    def __init__(self, nome, ano_fabricacao,):\n",
    "        self.nome = nome\n",
    "        self.ano_fabricacao = ano_fabricacao        \n",
    "\n",
    "    def idade(self):\n",
    "        return f\"{self.nome} tem {self.ano_atual - self.ano_fabricacao} anos\"\n",
    "    \n",
    "    def ruido(self, som):\n",
    "        return f\"{self.nome} faz {som}\"\n",
    "    \n",
    "    def __str__(self):\n",
    "        #return f\"{self.nome} tem {self.ano_atual - self.ano_fabricacao} anos\"\n",
    "        return f\"{self.nome} é um veículo da marca {self.marca}\""
   ]
  },
  {
   "cell_type": "markdown",
   "metadata": {},
   "source": [
    "Criamos classes de categoria, filhas da classe `Carro()`."
   ]
  },
  {
   "cell_type": "code",
   "execution_count": 97,
   "metadata": {},
   "outputs": [],
   "source": [
    "class Sedan(Carro):\n",
    "    pass\n",
    "class hatchback(Carro):\n",
    "    pass\n",
    "class Compact_Sedan(Carro):\n",
    "    pass\n",
    "class sport_compact(Carro):\n",
    "    pass"
   ]
  },
  {
   "cell_type": "markdown",
   "metadata": {},
   "source": [
    "Re-instanciamos nossos objetos."
   ]
  },
  {
   "cell_type": "code",
   "execution_count": 98,
   "metadata": {},
   "outputs": [],
   "source": [
    "Passat = Sedan(nome = 'Passat', ano_fabricacao = 2005,)\n",
    "Golf = hatchback(nome = 'Golf', ano_fabricacao = 2015,)\n",
    "Jetta = Compact_Sedan(nome = 'Jetta', ano_fabricacao = 2020,)\n",
    "Sirocco = sport_compact(nome = 'Sirocco', ano_fabricacao = 2022,)"
   ]
  },
  {
   "cell_type": "markdown",
   "metadata": {},
   "source": [
    "Testamos alguns novos atributos."
   ]
  },
  {
   "cell_type": "code",
   "execution_count": 99,
   "metadata": {},
   "outputs": [
    {
     "name": "stdout",
     "output_type": "stream",
     "text": [
      "Passat.nome: Passat\n",
      "Golf.marca: VW\n",
      "Jetta é um veículo da marca VW\n",
      "Sirocco.ruido: Sirocco faz Roar Roar\n"
     ]
    }
   ],
   "source": [
    "print('Passat.nome:', Passat.nome)\n",
    "print('Golf.marca:', Golf.marca)\n",
    "print(Jetta)\n",
    "print('Sirocco.ruido:', Sirocco.ruido(som = \"Roar Roar\"))"
   ]
  },
  {
   "cell_type": "markdown",
   "metadata": {},
   "source": [
    "Checando o tipo do objeto `Jetta`."
   ]
  },
  {
   "cell_type": "code",
   "execution_count": 100,
   "metadata": {},
   "outputs": [
    {
     "data": {
      "text/plain": [
       "__main__.Compact_Sedan"
      ]
     },
     "execution_count": 100,
     "metadata": {},
     "output_type": "execute_result"
    }
   ],
   "source": [
    "type(Jetta)"
   ]
  },
  {
   "cell_type": "markdown",
   "metadata": {},
   "source": [
    "Checamos se um objeto é uma instância de uma classe com o método `isinstance()`."
   ]
  },
  {
   "cell_type": "code",
   "execution_count": 101,
   "metadata": {},
   "outputs": [
    {
     "data": {
      "text/plain": [
       "True"
      ]
     },
     "execution_count": 101,
     "metadata": {},
     "output_type": "execute_result"
    }
   ],
   "source": [
    "isinstance(Golf, Carro)"
   ]
  },
  {
   "cell_type": "code",
   "execution_count": 102,
   "metadata": {},
   "outputs": [
    {
     "data": {
      "text/plain": [
       "False"
      ]
     },
     "execution_count": 102,
     "metadata": {},
     "output_type": "execute_result"
    }
   ],
   "source": [
    "isinstance(Golf, Sedan)"
   ]
  },
  {
   "cell_type": "code",
   "execution_count": 103,
   "metadata": {},
   "outputs": [
    {
     "data": {
      "text/plain": [
       "True"
      ]
     },
     "execution_count": 103,
     "metadata": {},
     "output_type": "execute_result"
    }
   ],
   "source": [
    "isinstance(Golf, hatchback)"
   ]
  },
  {
   "cell_type": "markdown",
   "metadata": {},
   "source": [
    "#### Funcionalidades Extensivas da Classe Pai"
   ]
  },
  {
   "cell_type": "markdown",
   "metadata": {},
   "source": [
    "Redefinimos nossas classes."
   ]
  },
  {
   "cell_type": "code",
   "execution_count": 104,
   "metadata": {},
   "outputs": [],
   "source": [
    "class Sedan(Carro):\n",
    "    def ruido(self, som = 'Vroom Vroom'):\n",
    "        return f\"{self.nome} faz {som}\"\n",
    "class hatchback(Carro):\n",
    "    def ruido(self, som = 'Whir Whir'):\n",
    "        return f\"{self.nome} faz {som}\"\n",
    "class Compact_Sedan(Carro):\n",
    "    def ruido(self, som = 'Purr Purr'):\n",
    "        return f\"{self.nome} faz {som}\"\n",
    "class sport_compact(Carro):\n",
    "    def ruido(self, som = 'Roar Roar'):\n",
    "        return f\"{self.nome} faz {som}\""
   ]
  },
  {
   "cell_type": "markdown",
   "metadata": {},
   "source": [
    "Instanciamos novamente nossos objetos."
   ]
  },
  {
   "cell_type": "code",
   "execution_count": 105,
   "metadata": {},
   "outputs": [],
   "source": [
    "Passat = Sedan(nome = 'Passat', ano_fabricacao = 2005)\n",
    "Golf = hatchback(nome = 'Golf', ano_fabricacao = 2015)\n",
    "Jetta = Compact_Sedan(nome = 'Jetta', ano_fabricacao = 2020)\n",
    "Sirocco = sport_compact(nome = 'Sirocco', ano_fabricacao = 2022)"
   ]
  },
  {
   "cell_type": "markdown",
   "metadata": {},
   "source": [
    "E checamos seus atributos."
   ]
  },
  {
   "cell_type": "code",
   "execution_count": 106,
   "metadata": {},
   "outputs": [
    {
     "name": "stdout",
     "output_type": "stream",
     "text": [
      "Passat.ruido(): Passat faz Vroom Vroom\n",
      "Golf.ruido(): Golf faz Whir Whir\n",
      "Jetta.ruido(): Jetta faz Purr Purr\n",
      "Sirocco.ruido(): Sirocco faz Roar Roar\n"
     ]
    }
   ],
   "source": [
    "print('Passat.ruido():', Passat.ruido())\n",
    "print('Golf.ruido():', Golf.ruido())\n",
    "print('Jetta.ruido():', Jetta.ruido())\n",
    "print('Sirocco.ruido():', Sirocco.ruido())"
   ]
  },
  {
   "cell_type": "markdown",
   "metadata": {},
   "source": [
    "É possível atualizar um atributo."
   ]
  },
  {
   "cell_type": "code",
   "execution_count": 107,
   "metadata": {},
   "outputs": [
    {
     "name": "stdout",
     "output_type": "stream",
     "text": [
      "Passat.ruido(): Passat faz Roar Roar\n"
     ]
    }
   ],
   "source": [
    "print('Passat.ruido():', Passat.ruido(som = \"Roar Roar\"))"
   ]
  },
  {
   "cell_type": "markdown",
   "metadata": {},
   "source": [
    "Acessamos a classe pai de dentro de um método de uma classe filha usando super():"
   ]
  },
  {
   "cell_type": "code",
   "execution_count": 111,
   "metadata": {},
   "outputs": [],
   "source": [
    "class Sedan(Carro):\n",
    "    def ruido(self, som = 'Vroom Vroom'):\n",
    "        return super().ruido(som)\n",
    "class hatchback(Carro):\n",
    "    def ruido(self, som = 'Whir Whir'):\n",
    "        return super().ruido(som)\n",
    "class Compact_Sedan(Carro):\n",
    "    def ruido(self, som = 'Purr Purr'):\n",
    "        return super().ruido(som)\n",
    "class sport_compact(Carro):\n",
    "    def ruido(self, som = 'Roar Roar'):\n",
    "        return super().ruido(som)"
   ]
  },
  {
   "cell_type": "markdown",
   "metadata": {},
   "source": [
    "Reinstanciamos nossos objetos."
   ]
  },
  {
   "cell_type": "code",
   "execution_count": 112,
   "metadata": {},
   "outputs": [],
   "source": [
    "Passat = Sedan(nome = 'Passat', ano_fabricacao = 2005)\n",
    "Golf = hatchback(nome = 'Golf', ano_fabricacao = 2015)\n",
    "Jetta = Compact_Sedan(nome = 'Jetta', ano_fabricacao = 2020)\n",
    "Sirocco = sport_compact(nome = 'Sirocco', ano_fabricacao = 2022)"
   ]
  },
  {
   "cell_type": "markdown",
   "metadata": {},
   "source": [
    "E chamamos o atributo `.ruido()`."
   ]
  },
  {
   "cell_type": "code",
   "execution_count": 113,
   "metadata": {},
   "outputs": [
    {
     "name": "stdout",
     "output_type": "stream",
     "text": [
      "Passat.ruido(): Passat faz Vroom Vroom\n",
      "Golf.ruido(): Golf faz Whir Whir\n",
      "Jetta.ruido(): Jetta faz Purr Purr\n",
      "Sirocco.ruido(): Sirocco faz Roar Roar\n"
     ]
    }
   ],
   "source": [
    "print('Passat.ruido():', Passat.ruido())\n",
    "print('Golf.ruido():', Golf.ruido())\n",
    "print('Jetta.ruido():', Jetta.ruido())\n",
    "print('Sirocco.ruido():', Sirocco.ruido())"
   ]
  },
  {
   "cell_type": "markdown",
   "metadata": {},
   "source": [
    "### Polimorfismo em Python"
   ]
  },
  {
   "cell_type": "markdown",
   "metadata": {},
   "source": [
    "#### Polimorfismo no operador de adição"
   ]
  },
  {
   "cell_type": "code",
   "execution_count": 114,
   "metadata": {},
   "outputs": [
    {
     "name": "stdout",
     "output_type": "stream",
     "text": [
      "num1 + num2: 3\n"
     ]
    }
   ],
   "source": [
    "num1 = 1\n",
    "num2 = 2\n",
    "print('num1 + num2:', num1 + num2)"
   ]
  },
  {
   "cell_type": "markdown",
   "metadata": {},
   "source": [
    "O sinal (+) pode significar uma soma entre números ou uma concatenação entre strings."
   ]
  },
  {
   "cell_type": "code",
   "execution_count": 116,
   "metadata": {},
   "outputs": [
    {
     "name": "stdout",
     "output_type": "stream",
     "text": [
      "str1 + str2: Python Programming\n"
     ]
    }
   ],
   "source": [
    "str1 = \"Python\"\n",
    "str2 = \"Programming\"\n",
    "print('str1 + str2:', str1 + ' ' + str2)"
   ]
  },
  {
   "cell_type": "markdown",
   "metadata": {},
   "source": [
    "#### Polimorfismo de Função em Python"
   ]
  },
  {
   "cell_type": "markdown",
   "metadata": {},
   "source": [
    "Há funções em Python que são compatíveis com múltiplos tipos de dados."
   ]
  },
  {
   "cell_type": "code",
   "execution_count": 117,
   "metadata": {},
   "outputs": [
    {
     "name": "stdout",
     "output_type": "stream",
     "text": [
      "11\n",
      "3\n",
      "2\n"
     ]
    }
   ],
   "source": [
    "print(len(\"programming\"))\n",
    "print(len([\"Python\", \"Java\", \"C\"]))\n",
    "print(len({\"Name\": \"John\", \"Address\": \"Nepal\"}))"
   ]
  },
  {
   "cell_type": "markdown",
   "metadata": {},
   "source": [
    "#### Polimorfismo de classe em Python"
   ]
  },
  {
   "cell_type": "markdown",
   "metadata": {},
   "source": [
    "Ao criar métodos de classe, Python permite que diferentes classes tenham métodos com o mesmo nome. Pode-se generalizar a chamada desses métodos, independentemente do objeto chamado."
   ]
  },
  {
   "cell_type": "code",
   "execution_count": 118,
   "metadata": {},
   "outputs": [],
   "source": [
    "class Gato:\n",
    "\n",
    "    def __init__(self, nome, idade):\n",
    "        self.nome = nome\n",
    "        self.idade = idade\n",
    "\n",
    "    def info(self): \n",
    "        print(f\"Eu sou um gato, meu nome é {self.nome}. Tenho {self.idade} anos de idade\")\n",
    "        \n",
    "    def make_sound(self):\n",
    "        som = 'Miau'\n",
    "        print(som)\n",
    "    \n",
    "class Rato:\n",
    "\n",
    "    def __init__(self, nome, idade):\n",
    "        self.nome = nome\n",
    "        self.idade = idade\n",
    "\n",
    "    def info(self): \n",
    "        print(f\"Eu sou um rato, meu nome é {self.nome}. Tenho {self.idade} anos de idade\")\n",
    "\n",
    "    def make_sound(self):\n",
    "        som = 'Som de rato'\n",
    "        print(som)    "
   ]
  },
  {
   "cell_type": "code",
   "execution_count": 119,
   "metadata": {},
   "outputs": [
    {
     "name": "stdout",
     "output_type": "stream",
     "text": [
      "gato: <__main__.Gato object at 0x114058be0>\n",
      "rato: <__main__.Rato object at 0x107ee56a0>\n"
     ]
    }
   ],
   "source": [
    "gato = Gato(nome = 'Tom', idade = 5)\n",
    "print('gato:', gato)\n",
    "\n",
    "rato = Rato(nome = 'Jerry', idade = 4)\n",
    "print('rato:', rato)"
   ]
  },
  {
   "cell_type": "code",
   "execution_count": 120,
   "metadata": {},
   "outputs": [
    {
     "name": "stdout",
     "output_type": "stream",
     "text": [
      "Eu sou um gato, meu nome é Tom. Tenho 5 anos de idade\n",
      "Miau\n",
      "\n",
      "Eu sou um rato, meu nome é Jerry. Tenho 4 anos de idade\n",
      "Som de rato\n",
      "\n"
     ]
    }
   ],
   "source": [
    "for animal in (gato, rato):\n",
    "\n",
    "    animal.info()\n",
    "    animal.make_sound()\n",
    "    print('')"
   ]
  },
  {
   "cell_type": "markdown",
   "metadata": {},
   "source": [
    "Polimorfismo e Herança"
   ]
  },
  {
   "cell_type": "markdown",
   "metadata": {},
   "source": [
    "Classes filhas em Python herdam métodos e atributos da classe pai. Pode-se re-definir certos métodos e atributos especificamente para se adequarem à classe filha."
   ]
  },
  {
   "cell_type": "code",
   "execution_count": 124,
   "metadata": {},
   "outputs": [],
   "source": [
    "from math import pi\n",
    "\n",
    "class Forma:\n",
    "\n",
    "    def __init__(self, name):\n",
    "        self.name = name\n",
    "    def area(self):\n",
    "        pass\n",
    "    def info(self):\n",
    "        return print('Tenho uma forma bi-dimensional.')\n",
    "    def __str__(self) -> str:\n",
    "        return self.name\n",
    "\n",
    "class Quadrado(Forma):\n",
    "\n",
    "    def __init__(self, length):\n",
    "        super().__init__(\"Quadrado\")\n",
    "        self.length = length\n",
    "\n",
    "    def area(self):\n",
    "        return self.length ** 2\n",
    "\n",
    "    def info(self):\n",
    "        return print('Quadrados têm ângulos de 90 graus.')\n",
    "    \n",
    "class Circulo(Forma):\n",
    "    def __init__(self, radius):\n",
    "        super().__init__(\"Circulo\")\n",
    "        self.radius = radius\n",
    "\n",
    "    def area(self):\n",
    "        return pi + self.radius ** 2\n"
   ]
  },
  {
   "cell_type": "code",
   "execution_count": 130,
   "metadata": {},
   "outputs": [
    {
     "name": "stdout",
     "output_type": "stream",
     "text": [
      "Circulo\n",
      "Tenho uma forma bi-dimensional.\n",
      "b.info(): None\n",
      "Quadrados têm ângulos de 90 graus.\n",
      "a.info(): None\n",
      "b.area(): 52.1415926535898\n"
     ]
    }
   ],
   "source": [
    "a = Quadrado(4)\n",
    "b = Circulo(7)\n",
    "\n",
    "print(b)\n",
    "print('b.info():', b.info())\n",
    "print('a.info():', a.info())\n",
    "print('b.area():', b.area())\n",
    "#"
   ]
  },
  {
   "cell_type": "markdown",
   "metadata": {},
   "source": [
    "### Métodos Especiais e Protocolos"
   ]
  },
  {
   "cell_type": "code",
   "execution_count": 131,
   "metadata": {},
   "outputs": [],
   "source": [
    "class Carro:\n",
    "    marca = \"VW\"\n",
    "    ano_atual = 2024\n",
    "\n",
    "    def __init__(self, nome, ano_fabricacao,):\n",
    "        self.nome = nome\n",
    "        self.ano_fabricacao = ano_fabricacao        \n",
    "\n",
    "    def idade(self):\n",
    "        return f\"{self.nome} tem {self.ano_atual - self.ano_fabricacao} anos\"\n",
    "    \n",
    "    def ruido(self, som):\n",
    "        return f\"{self.nome} faz {som}\""
   ]
  },
  {
   "cell_type": "code",
   "execution_count": 133,
   "metadata": {},
   "outputs": [],
   "source": [
    "class Carro:\n",
    "\n",
    "    def __init__(self, fabricante, modelo, cor, ano):\n",
    "        self.fabricante = fabricante\n",
    "        self.modelo = modelo\n",
    "        self.cor = cor\n",
    "        self.ano = ano\n",
    "\n",
    "    def __str__(self):\n",
    "        return f\"{self.fabricante}, {self.modelo}, {self.cor}, {self.ano}\"\n",
    "    \n",
    "    def __repr__(self):\n",
    "        return(\n",
    "            f\"{type(self).__name__}\"\n",
    "            f'(fabricante : \"{self.fabricante}\", '\n",
    "            f'modelo : \"{self.modelo}\", '\n",
    "            f\"ano : {self.ano}, \"\n",
    "            f'cor : \"{self.cor}\")'            \n",
    "        )"
   ]
  },
  {
   "cell_type": "code",
   "execution_count": 134,
   "metadata": {},
   "outputs": [],
   "source": [
    "toyota_camry = Carro(\n",
    "    fabricante = \"Toyota\",\n",
    "    modelo = \"Camry\",\n",
    "    ano = 2022,\n",
    "    cor = \"Red\"\n",
    "    )"
   ]
  },
  {
   "cell_type": "markdown",
   "metadata": {},
   "source": [
    "Informal string representation `.__str__()` retornar uma string que representa o objeto de maneira amigável"
   ]
  },
  {
   "cell_type": "code",
   "execution_count": 135,
   "metadata": {},
   "outputs": [
    {
     "data": {
      "text/plain": [
       "'Toyota, Camry, Red, 2022'"
      ]
     },
     "execution_count": 135,
     "metadata": {},
     "output_type": "execute_result"
    }
   ],
   "source": [
    "str(toyota_camry)"
   ]
  },
  {
   "cell_type": "code",
   "execution_count": 138,
   "metadata": {},
   "outputs": [
    {
     "name": "stdout",
     "output_type": "stream",
     "text": [
      "Toyota, Camry, Red, 2022\n"
     ]
    }
   ],
   "source": [
    "print(toyota_camry)"
   ]
  },
  {
   "cell_type": "markdown",
   "metadata": {},
   "source": [
    "Formal string representation `.__repr__()` retorna uma string que permite recriar o objeto, se possível."
   ]
  },
  {
   "cell_type": "code",
   "execution_count": 139,
   "metadata": {},
   "outputs": [
    {
     "data": {
      "text/plain": [
       "'Carro(fabricante : \"Toyota\", modelo : \"Camry\", ano : 2022, cor : \"Red\")'"
      ]
     },
     "execution_count": 139,
     "metadata": {},
     "output_type": "execute_result"
    }
   ],
   "source": [
    "repr(toyota_camry)"
   ]
  },
  {
   "cell_type": "markdown",
   "metadata": {},
   "source": [
    "Os protocolos consistem em um ou mais métodos especiais que suportam um determinado recurso ou funcionalidade"
   ]
  },
  {
   "cell_type": "code",
   "execution_count": 141,
   "metadata": {},
   "outputs": [],
   "source": [
    "class Pontos_3D:\n",
    "    def __init__(self, x, y, z):\n",
    "        self.x = x\n",
    "        self.y = y\n",
    "        self.z = z\n",
    "    def __iter__(self):\n",
    "        yield from (self.x, self.y, self.z)"
   ]
  },
  {
   "cell_type": "code",
   "execution_count": 142,
   "metadata": {},
   "outputs": [
    {
     "data": {
      "text/plain": [
       "<__main__.Pontos_3D at 0x1141423a0>"
      ]
     },
     "execution_count": 142,
     "metadata": {},
     "output_type": "execute_result"
    }
   ],
   "source": [
    "Pontos_3D(x = 4, y = 8, z = 16)"
   ]
  },
  {
   "cell_type": "code",
   "execution_count": 143,
   "metadata": {},
   "outputs": [
    {
     "data": {
      "text/plain": [
       "[4, 8, 16]"
      ]
     },
     "execution_count": 143,
     "metadata": {},
     "output_type": "execute_result"
    }
   ],
   "source": [
    "list(Pontos_3D(x = 4, y = 8, z = 16))"
   ]
  },
  {
   "cell_type": "code",
   "execution_count": 145,
   "metadata": {},
   "outputs": [
    {
     "data": {
      "text/plain": [
       "[2, 11, 16]"
      ]
     },
     "execution_count": 145,
     "metadata": {},
     "output_type": "execute_result"
    }
   ],
   "source": [
    "list(Pontos_3D(x = (4 - 2), y = (8 + 3), z = 16))"
   ]
  },
  {
   "cell_type": "markdown",
   "metadata": {},
   "source": [
    "### Métodos de classe"
   ]
  },
  {
   "cell_type": "markdown",
   "metadata": {},
   "source": [
    "Um método de classe é um método que toma o objeto da classe como seu primeiro argumento, em vez de tomar self. Nesse caso, a convenção vigente é chamar esse argumento de cls."
   ]
  },
  {
   "cell_type": "code",
   "execution_count": 146,
   "metadata": {},
   "outputs": [],
   "source": [
    "class Pontos_3D:\n",
    "    def __init__(self, x, y, z):\n",
    "        self.x = x\n",
    "        self.y = y\n",
    "        self.z = z\n",
    "    def __iter__(self):\n",
    "        yield from (self.x, self.y, self.z)\n",
    "\n",
    "    @classmethod\n",
    "    def from_sequence(cls, sequence):\n",
    "        return cls(*sequence)\n",
    "    \n",
    "    def __repr__(self):\n",
    "        return f\"{type(self).__name__}({self.x}, {self.y}, {self.z})\""
   ]
  },
  {
   "cell_type": "code",
   "execution_count": 147,
   "metadata": {},
   "outputs": [
    {
     "data": {
      "text/plain": [
       "Pontos_3D(4, 8, 16)"
      ]
     },
     "execution_count": 147,
     "metadata": {},
     "output_type": "execute_result"
    }
   ],
   "source": [
    "Pontos_3D.from_sequence((4, 8, 16))"
   ]
  },
  {
   "cell_type": "code",
   "execution_count": 155,
   "metadata": {},
   "outputs": [
    {
     "name": "stdout",
     "output_type": "stream",
     "text": [
      "ponto: Pontos_3D(7, 14, 21)\n"
     ]
    }
   ],
   "source": [
    "ponto = Pontos_3D(x = 7, y = 14, z = 21)\n",
    "print('ponto:', ponto)"
   ]
  },
  {
   "cell_type": "code",
   "execution_count": 156,
   "metadata": {},
   "outputs": [
    {
     "data": {
      "text/plain": [
       "Pontos_3D(7, 14, 21)"
      ]
     },
     "execution_count": 156,
     "metadata": {},
     "output_type": "execute_result"
    }
   ],
   "source": [
    "ponto.from_sequence((7, 14, 21))"
   ]
  },
  {
   "cell_type": "code",
   "execution_count": 157,
   "metadata": {},
   "outputs": [
    {
     "data": {
      "text/plain": [
       "Pontos_3D(3, 6, 9)"
      ]
     },
     "execution_count": 157,
     "metadata": {},
     "output_type": "execute_result"
    }
   ],
   "source": [
    "ponto.from_sequence((3, 6, 9))"
   ]
  },
  {
   "cell_type": "code",
   "execution_count": 158,
   "metadata": {},
   "outputs": [],
   "source": [
    "ponto_2 = Pontos_3D(x = 3, y = 6, z = 9)"
   ]
  },
  {
   "cell_type": "code",
   "execution_count": 159,
   "metadata": {},
   "outputs": [
    {
     "data": {
      "text/plain": [
       "Pontos_3D(3, 6, 9)"
      ]
     },
     "execution_count": 159,
     "metadata": {},
     "output_type": "execute_result"
    }
   ],
   "source": [
    "ponto_2.from_sequence((3, 6, 9))"
   ]
  },
  {
   "cell_type": "markdown",
   "metadata": {},
   "source": [
    "### Métodos Estático"
   ]
  },
  {
   "cell_type": "code",
   "execution_count": 161,
   "metadata": {},
   "outputs": [],
   "source": [
    "class Pontos_3D:\n",
    "    def __init__(self, x, y, z):\n",
    "        self.x = x\n",
    "        self.y = y\n",
    "        self.z = z\n",
    "    def __iter__(self):\n",
    "        yield from (self.x, self.y, self.z)\n",
    "\n",
    "    @classmethod\n",
    "    def from_sequence(cls, sequence):\n",
    "        return cls(*sequence)\n",
    "    \n",
    "    @staticmethod\n",
    "    def show_intro_message(name):\n",
    "        print(f\"Olá {name}! Esse é seu ponto em 3D!\")\n",
    "\n",
    "    def __repr__(self):\n",
    "        return f\"{type(self).__name__}({self.x}, {self.y}, {self.z})\""
   ]
  },
  {
   "cell_type": "code",
   "execution_count": 162,
   "metadata": {},
   "outputs": [
    {
     "name": "stdout",
     "output_type": "stream",
     "text": [
      "Olá Cientista de dados! Esse é seu ponto em 3D!\n"
     ]
    }
   ],
   "source": [
    "Pontos_3D.show_intro_message(\"Cientista de dados\")"
   ]
  },
  {
   "cell_type": "code",
   "execution_count": 163,
   "metadata": {},
   "outputs": [
    {
     "name": "stdout",
     "output_type": "stream",
     "text": [
      "Olá Entusiasta dos dados! Esse é seu ponto em 3D!\n"
     ]
    }
   ],
   "source": [
    "ponto = Pontos_3D(2, 4, 6)\n",
    "ponto.show_intro_message(\"Entusiasta dos dados\")"
   ]
  },
  {
   "cell_type": "markdown",
   "metadata": {},
   "source": [
    "### Módulos em Python"
   ]
  },
  {
   "cell_type": "markdown",
   "metadata": {},
   "source": [
    "Vamos criar um módulo `aritmetica.py` contendo o seguinte código."
   ]
  },
  {
   "cell_type": "code",
   "execution_count": 164,
   "metadata": {},
   "outputs": [],
   "source": [
    "def add(a, b):\n",
    "    result = a + b \n",
    "    return result \n",
    "\n",
    "def sub(a, b):\n",
    "    result = a - b \n",
    "    return result\n",
    "\n",
    "def div(a, b):\n",
    "    result = a / b \n",
    "    return result\n",
    "\n",
    "def mul(a, b):\n",
    "    result = a * b \n",
    "    return result"
   ]
  },
  {
   "cell_type": "markdown",
   "metadata": {},
   "source": [
    "Importamos o módulo `aritmetica`."
   ]
  },
  {
   "cell_type": "code",
   "execution_count": 172,
   "metadata": {},
   "outputs": [],
   "source": [
    "import aritmetica"
   ]
  },
  {
   "cell_type": "code",
   "execution_count": 173,
   "metadata": {},
   "outputs": [
    {
     "name": "stdout",
     "output_type": "stream",
     "text": [
      "type(aritmetica): <class 'module'>\n"
     ]
    }
   ],
   "source": [
    "print('type(aritmetica):', type(aritmetica))"
   ]
  },
  {
   "cell_type": "markdown",
   "metadata": {},
   "source": [
    "E chamamos algumas operações."
   ]
  },
  {
   "cell_type": "code",
   "execution_count": 174,
   "metadata": {},
   "outputs": [
    {
     "name": "stdout",
     "output_type": "stream",
     "text": [
      "aritmetica.add(4, 5): 9\n",
      "aritmetica.sub(4, 5): -1\n",
      "aritmetica.div(4, 5): 0.8\n",
      "aritmetica.mul(4, 5): 20\n"
     ]
    }
   ],
   "source": [
    "a = 4\n",
    "b = 5\n",
    "\n",
    "print(f'aritmetica.add({a}, {b}):', aritmetica.add(a, b))\n",
    "print(f'aritmetica.sub({a}, {b}):', aritmetica.sub(a, b))\n",
    "print(f'aritmetica.div({a}, {b}):', aritmetica.div(a, b))\n",
    "print(f'aritmetica.mul({a}, {b}):', aritmetica.mul(a, b))"
   ]
  },
  {
   "cell_type": "markdown",
   "metadata": {},
   "source": [
    "Importamos a bibliotaca padrão `math`"
   ]
  },
  {
   "cell_type": "code",
   "execution_count": 175,
   "metadata": {},
   "outputs": [],
   "source": [
    "import math"
   ]
  },
  {
   "cell_type": "code",
   "execution_count": 176,
   "metadata": {},
   "outputs": [
    {
     "data": {
      "text/plain": [
       "module"
      ]
     },
     "execution_count": 176,
     "metadata": {},
     "output_type": "execute_result"
    }
   ],
   "source": [
    "type(math)"
   ]
  },
  {
   "cell_type": "markdown",
   "metadata": {},
   "source": [
    "Podemos renomear o módulo."
   ]
  },
  {
   "cell_type": "code",
   "execution_count": 178,
   "metadata": {},
   "outputs": [
    {
     "data": {
      "text/plain": [
       "3.141592653589793"
      ]
     },
     "execution_count": 178,
     "metadata": {},
     "output_type": "execute_result"
    }
   ],
   "source": [
    "import math as m\n",
    "\n",
    "math.pi"
   ]
  },
  {
   "cell_type": "markdown",
   "metadata": {},
   "source": [
    "podemos usar o comando `from` para importar. "
   ]
  },
  {
   "cell_type": "code",
   "execution_count": 179,
   "metadata": {},
   "outputs": [],
   "source": [
    "from math import pi"
   ]
  },
  {
   "cell_type": "markdown",
   "metadata": {},
   "source": [
    "O asterisco implica na importação de todos os atributos do módulo."
   ]
  },
  {
   "cell_type": "code",
   "execution_count": 180,
   "metadata": {},
   "outputs": [],
   "source": [
    "from math import *"
   ]
  },
  {
   "cell_type": "markdown",
   "metadata": {},
   "source": [
    "O método `dir()` retorna a lista de atributos válidos do objeto passado.."
   ]
  },
  {
   "cell_type": "code",
   "execution_count": 181,
   "metadata": {},
   "outputs": [
    {
     "data": {
      "text/plain": [
       "['__builtins__',\n",
       " '__cached__',\n",
       " '__doc__',\n",
       " '__file__',\n",
       " '__loader__',\n",
       " '__name__',\n",
       " '__package__',\n",
       " '__spec__',\n",
       " 'add',\n",
       " 'div',\n",
       " 'mul',\n",
       " 'sub']"
      ]
     },
     "execution_count": 181,
     "metadata": {},
     "output_type": "execute_result"
    }
   ],
   "source": [
    "dir(aritmetica)"
   ]
  },
  {
   "cell_type": "code",
   "execution_count": 190,
   "metadata": {},
   "outputs": [
    {
     "data": {
      "text/plain": [
       "ModuleSpec(name='aritmetica', loader=<_frozen_importlib_external.SourceFileLoader object at 0x11405a2e0>, origin='/Users/rudineycasali/Documents/Project_Ada_Tech/Ada_Tech/cursos/[DS-PY-002] Programação Orientada a Objetos (PY)/Aula_2/aritmetica.py')"
      ]
     },
     "execution_count": 190,
     "metadata": {},
     "output_type": "execute_result"
    }
   ],
   "source": [
    "import aritmetica\n",
    "\n",
    "#aritmetica.__name__\n",
    "#aritmetica.__builtins__\n",
    "#aritmetica.__cached__\n",
    "#aritmetica.__doc__\n",
    "#aritmetica.__file__\n",
    "#aritmetica.__loader__\n",
    "#aritmetica.__name__\n",
    "#aritmetica.__package__\n",
    "aritmetica.__spec__"
   ]
  },
  {
   "cell_type": "markdown",
   "metadata": {},
   "source": [
    "A lista de atributos válidos de diferentes tipos de objeto. "
   ]
  },
  {
   "cell_type": "code",
   "execution_count": 191,
   "metadata": {},
   "outputs": [],
   "source": [
    "tupla_1 = (0, 1, 2, 3, 4, 5)\n",
    "lista_1 = [0, 1, 2, 3, 4, 5]\n",
    "lista_2 = []\n",
    "set_1 = {0, 1, 2, 3, 4, 5}\n",
    "dict_1 = {'0' : 0, '1' : 1, '2' : 2, '3' : 3, '4' : 4, '5' : 5}\n",
    "\n",
    "dict_objetos = {\n",
    "    'tupla_1' : tupla_1,\n",
    "    'lista_1' : lista_1,\n",
    "    'lista_2' : lista_2,\n",
    "    'set_1' : set_1,\n",
    "    'dict_1' : dict_1,\n",
    "    }"
   ]
  },
  {
   "cell_type": "code",
   "execution_count": 192,
   "metadata": {},
   "outputs": [
    {
     "data": {
      "text/plain": [
       "dict_items([('tupla_1', (0, 1, 2, 3, 4, 5)), ('lista_1', [0, 1, 2, 3, 4, 5]), ('lista_2', []), ('set_1', {0, 1, 2, 3, 4, 5}), ('dict_1', {'0': 0, '1': 1, '2': 2, '3': 3, '4': 4, '5': 5})])"
      ]
     },
     "execution_count": 192,
     "metadata": {},
     "output_type": "execute_result"
    }
   ],
   "source": [
    "dict_objetos.items()"
   ]
  },
  {
   "cell_type": "code",
   "execution_count": 194,
   "metadata": {},
   "outputs": [
    {
     "name": "stdout",
     "output_type": "stream",
     "text": [
      "\n",
      "nome_objeto: tupla_1\n",
      "\t type(tupla_1): <class 'tuple'>\n",
      "\t len(nome_objeto): 6\n",
      "\t dir(tupla_1): ['__add__', '__class__', '__class_getitem__', '__contains__', '__delattr__', '__dir__', '__doc__', '__eq__', '__format__', '__ge__', '__getattribute__', '__getitem__', '__getnewargs__', '__gt__', '__hash__', '__init__', '__init_subclass__', '__iter__', '__le__', '__len__', '__lt__', '__mul__', '__ne__', '__new__', '__reduce__', '__reduce_ex__', '__repr__', '__rmul__', '__setattr__', '__sizeof__', '__str__', '__subclasshook__', 'count', 'index']\n",
      "\t len(dir(tupla_1)): 34\n",
      "\n",
      "nome_objeto: lista_1\n",
      "\t type(lista_1): <class 'list'>\n",
      "\t len(nome_objeto): 6\n",
      "\t dir(lista_1): ['__add__', '__class__', '__class_getitem__', '__contains__', '__delattr__', '__delitem__', '__dir__', '__doc__', '__eq__', '__format__', '__ge__', '__getattribute__', '__getitem__', '__gt__', '__hash__', '__iadd__', '__imul__', '__init__', '__init_subclass__', '__iter__', '__le__', '__len__', '__lt__', '__mul__', '__ne__', '__new__', '__reduce__', '__reduce_ex__', '__repr__', '__reversed__', '__rmul__', '__setattr__', '__setitem__', '__sizeof__', '__str__', '__subclasshook__', 'append', 'clear', 'copy', 'count', 'extend', 'index', 'insert', 'pop', 'remove', 'reverse', 'sort']\n",
      "\t len(dir(lista_1)): 47\n",
      "\n",
      "nome_objeto: lista_2\n",
      "\t type(lista_2): <class 'list'>\n",
      "\t len(nome_objeto): 0\n",
      "\t dir(lista_2): ['__add__', '__class__', '__class_getitem__', '__contains__', '__delattr__', '__delitem__', '__dir__', '__doc__', '__eq__', '__format__', '__ge__', '__getattribute__', '__getitem__', '__gt__', '__hash__', '__iadd__', '__imul__', '__init__', '__init_subclass__', '__iter__', '__le__', '__len__', '__lt__', '__mul__', '__ne__', '__new__', '__reduce__', '__reduce_ex__', '__repr__', '__reversed__', '__rmul__', '__setattr__', '__setitem__', '__sizeof__', '__str__', '__subclasshook__', 'append', 'clear', 'copy', 'count', 'extend', 'index', 'insert', 'pop', 'remove', 'reverse', 'sort']\n",
      "\t len(dir(lista_2)): 47\n",
      "\n",
      "nome_objeto: set_1\n",
      "\t type(set_1): <class 'set'>\n",
      "\t len(nome_objeto): 6\n",
      "\t dir(set_1): ['__and__', '__class__', '__class_getitem__', '__contains__', '__delattr__', '__dir__', '__doc__', '__eq__', '__format__', '__ge__', '__getattribute__', '__gt__', '__hash__', '__iand__', '__init__', '__init_subclass__', '__ior__', '__isub__', '__iter__', '__ixor__', '__le__', '__len__', '__lt__', '__ne__', '__new__', '__or__', '__rand__', '__reduce__', '__reduce_ex__', '__repr__', '__ror__', '__rsub__', '__rxor__', '__setattr__', '__sizeof__', '__str__', '__sub__', '__subclasshook__', '__xor__', 'add', 'clear', 'copy', 'difference', 'difference_update', 'discard', 'intersection', 'intersection_update', 'isdisjoint', 'issubset', 'issuperset', 'pop', 'remove', 'symmetric_difference', 'symmetric_difference_update', 'union', 'update']\n",
      "\t len(dir(set_1)): 56\n",
      "\n",
      "nome_objeto: dict_1\n",
      "\t type(dict_1): <class 'dict'>\n",
      "\t len(nome_objeto): 6\n",
      "\t dir(dict_1): ['__class__', '__class_getitem__', '__contains__', '__delattr__', '__delitem__', '__dir__', '__doc__', '__eq__', '__format__', '__ge__', '__getattribute__', '__getitem__', '__gt__', '__hash__', '__init__', '__init_subclass__', '__ior__', '__iter__', '__le__', '__len__', '__lt__', '__ne__', '__new__', '__or__', '__reduce__', '__reduce_ex__', '__repr__', '__reversed__', '__ror__', '__setattr__', '__setitem__', '__sizeof__', '__str__', '__subclasshook__', 'clear', 'copy', 'fromkeys', 'get', 'items', 'keys', 'pop', 'popitem', 'setdefault', 'update', 'values']\n",
      "\t len(dir(dict_1)): 45\n"
     ]
    }
   ],
   "source": [
    "for nome_objeto, objeto in dict_objetos.items():\n",
    "    \n",
    "    print('')\n",
    "    print('nome_objeto:', nome_objeto)\n",
    "    print(f'\\t type({nome_objeto}):', type(objeto))\n",
    "    print(f'\\t len(nome_objeto):', len(objeto))\n",
    "    print(f'\\t dir({nome_objeto}):', dir(objeto))\n",
    "    print(f'\\t len(dir({nome_objeto})):', len(dir(objeto)))"
   ]
  },
  {
   "cell_type": "markdown",
   "metadata": {},
   "source": [
    "Podemos usar `dir()` para acessar os atributos de uma classe definida."
   ]
  },
  {
   "cell_type": "code",
   "execution_count": 196,
   "metadata": {},
   "outputs": [],
   "source": [
    "class Pessoa:\n",
    "    def __dir__(self):\n",
    "        return ['nome', 'idade', 'salário']\n",
    "\n",
    "funcionário = Pessoa()\n",
    "\n"
   ]
  },
  {
   "cell_type": "code",
   "execution_count": 197,
   "metadata": {},
   "outputs": [
    {
     "name": "stdout",
     "output_type": "stream",
     "text": [
      "\n",
      "funcionário: <__main__.Pessoa object at 0x114253070>\n",
      "\t type({funcionário}): <class '__main__.Pessoa'>\n",
      "\t dir({funcionário}): ['idade', 'nome', 'salário']\n",
      "\t len(dir({funcionário})): 3\n"
     ]
    }
   ],
   "source": [
    "print('')\n",
    "print('funcionário:', funcionário)\n",
    "print('\\t type({funcionário}):', type(funcionário))\n",
    "#print('\\t len(funcionário):', len(funcionário))\n",
    "print('\\t dir({funcionário}):', dir(funcionário))\n",
    "print('\\t len(dir({funcionário})):', len(dir(funcionário)))"
   ]
  },
  {
   "cell_type": "code",
   "execution_count": 31,
   "metadata": {},
   "outputs": [
    {
     "ename": "NameError",
     "evalue": "name 'stop' is not defined",
     "output_type": "error",
     "traceback": [
      "\u001b[0;31m---------------------------------------------------------------------------\u001b[0m",
      "\u001b[0;31mNameError\u001b[0m                                 Traceback (most recent call last)",
      "Cell \u001b[0;32mIn[31], line 1\u001b[0m\n\u001b[0;32m----> 1\u001b[0m \u001b[43mstop\u001b[49m\u001b[38;5;241m.\u001b[39mhere()\n",
      "\u001b[0;31mNameError\u001b[0m: name 'stop' is not defined"
     ]
    }
   ],
   "source": [
    "stop.here()"
   ]
  },
  {
   "cell_type": "code",
   "execution_count": null,
   "metadata": {},
   "outputs": [],
   "source": []
  },
  {
   "cell_type": "markdown",
   "metadata": {},
   "source": []
  },
  {
   "cell_type": "markdown",
   "metadata": {},
   "source": []
  }
 ],
 "metadata": {
  "kernelspec": {
   "display_name": "Python 3",
   "language": "python",
   "name": "python3"
  },
  "language_info": {
   "codemirror_mode": {
    "name": "ipython",
    "version": 3
   },
   "file_extension": ".py",
   "mimetype": "text/x-python",
   "name": "python",
   "nbconvert_exporter": "python",
   "pygments_lexer": "ipython3",
   "version": "3.9.6"
  },
  "toc-autonumbering": false,
  "toc-showcode": true
 },
 "nbformat": 4,
 "nbformat_minor": 4
}
