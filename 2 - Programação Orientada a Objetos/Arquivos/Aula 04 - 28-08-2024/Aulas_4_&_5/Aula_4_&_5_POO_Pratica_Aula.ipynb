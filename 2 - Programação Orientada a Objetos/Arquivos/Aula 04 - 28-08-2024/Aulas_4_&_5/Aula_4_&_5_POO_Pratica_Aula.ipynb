{
 "cells": [
  {
   "cell_type": "markdown",
   "metadata": {},
   "source": [
    "<img src='../letscodebr_cover.jpeg' align='left' width=100%/>"
   ]
  },
  {
   "cell_type": "code",
   "execution_count": null,
   "metadata": {},
   "outputs": [],
   "source": []
  },
  {
   "cell_type": "markdown",
   "metadata": {
    "slideshow": {
     "slide_type": "slide"
    }
   },
   "source": [
    "# Ada Tech [DS-PY-002] Programação Orientada a Objetos (PY) Aulas 4 e 5: Programação Orientada a Objetos (POO). "
   ]
  },
  {
   "cell_type": "markdown",
   "metadata": {},
   "source": [
    "## Our world in data\n",
    "- [pip install owid-catalog](https://pypi.org/project/owid-catalog/): \"Core data types used by OWID for managing data.\"\n",
    "- [Our World In Data – Bias and Credibility](https://mediabiasfactcheck.com/our-world-in-data/) : \"Overall, we rate Our World in Data (OWID) Left-Center biased due to their story selection (reporting from left perspective) and highly factual due to the utilization of credible sources.\"\n",
    "\n",
    "- [seanpm2001/OWID_OWID-Catalog-Py](https://github.com/seanpm2001/OWID_OWID-Catalog-Py)"
   ]
  },
  {
   "cell_type": "markdown",
   "metadata": {},
   "source": [
    "### A biblioteca OWID"
   ]
  },
  {
   "cell_type": "markdown",
   "metadata": {},
   "source": [
    "Vamos conhecer algumas funções da biblioteca owid\n",
    "\n",
    "- Podemos acessar os dados da página [our worldindata](https://ourworldindata.org/);\n",
    "\n",
    "- OWID API;\n",
    "  - [pip install owid-catalog](https://pypi.org/project/owid-catalog/): Uma API Pythonica para trabalhar com o catálogo de dados do OWID.\n",
    "  \n",
    "    - `Charts` A API tenta fornecer exatamente os dados contidos em um gráfico em do site.\n",
    "      - owid_slug_value;\n",
    "      - owid_link_value;\n",
    "\n",
    "\n",
    "Definimos alguns prefixos para diferentes tipos de dados:\n",
    "\n",
    "- owidccCF : `<class 'owid.catalog.catalogs.CatalogFrame'>`\n",
    "- owidctT : `<class 'owid.catalog.tables.Table'>`\n",
    "- pdf : `<class 'pandas.core.frame.DataFrame'>`"
   ]
  },
  {
   "cell_type": "markdown",
   "metadata": {},
   "source": [
    "### Explorando a biblioteca"
   ]
  },
  {
   "cell_type": "markdown",
   "metadata": {},
   "source": [
    "#### `slug_into_dataframe()`:\n",
    "\n",
    "    Uma função para baixar dados presentes em gráficos (`charts`)"
   ]
  },
  {
   "cell_type": "markdown",
   "metadata": {},
   "source": [
    "Primeiramente, podemos acessar os dados que apresentam gráficos, através da função `charts.get_data()`."
   ]
  },
  {
   "cell_type": "code",
   "execution_count": null,
   "metadata": {},
   "outputs": [],
   "source": []
  },
  {
   "cell_type": "markdown",
   "metadata": {},
   "source": [
    "A última parte da `URL` é o `slug` do gráfico, seu identificador, neste caso a expectativa de vida. Usar o `slug` sozinho também funciona."
   ]
  },
  {
   "cell_type": "code",
   "execution_count": null,
   "metadata": {},
   "outputs": [],
   "source": []
  },
  {
   "cell_type": "markdown",
   "metadata": {},
   "source": [
    "Definimos uma função para essa operação."
   ]
  },
  {
   "cell_type": "code",
   "execution_count": null,
   "metadata": {},
   "outputs": [],
   "source": []
  },
  {
   "cell_type": "code",
   "execution_count": null,
   "metadata": {},
   "outputs": [],
   "source": []
  },
  {
   "cell_type": "markdown",
   "metadata": {},
   "source": [
    "É possível "
   ]
  },
  {
   "cell_type": "markdown",
   "metadata": {},
   "source": [
    "#### `slugs_search_value_in_list()`:\n",
    "\n",
    "\n",
    "    Uma função para procurar valores entre os tópicos da lista de slugs"
   ]
  },
  {
   "cell_type": "code",
   "execution_count": null,
   "metadata": {},
   "outputs": [],
   "source": []
  },
  {
   "cell_type": "markdown",
   "metadata": {},
   "source": [
    "Podemos acessar qualquer uma dessas bases."
   ]
  },
  {
   "cell_type": "code",
   "execution_count": null,
   "metadata": {},
   "outputs": [],
   "source": []
  },
  {
   "cell_type": "markdown",
   "metadata": {},
   "source": [
    "Podemos realizar buscas por palavras chave nas listas de slugs:"
   ]
  },
  {
   "cell_type": "code",
   "execution_count": null,
   "metadata": {},
   "outputs": [],
   "source": []
  },
  {
   "cell_type": "markdown",
   "metadata": {},
   "source": [
    "E criamos uma função para isso:"
   ]
  },
  {
   "cell_type": "code",
   "execution_count": null,
   "metadata": {},
   "outputs": [],
   "source": []
  },
  {
   "cell_type": "code",
   "execution_count": null,
   "metadata": {},
   "outputs": [],
   "source": []
  },
  {
   "cell_type": "markdown",
   "metadata": {},
   "source": [
    "Para cada uma dessas bases podemos criar um dicionário, com o nome da base e as colunas que contém."
   ]
  },
  {
   "cell_type": "markdown",
   "metadata": {},
   "source": [
    "#### `slugs_columns_to_dictionary()`:"
   ]
  },
  {
   "cell_type": "code",
   "execution_count": null,
   "metadata": {},
   "outputs": [],
   "source": []
  },
  {
   "cell_type": "code",
   "execution_count": null,
   "metadata": {},
   "outputs": [],
   "source": []
  },
  {
   "cell_type": "markdown",
   "metadata": {},
   "source": [
    "Dada a lista de slugs que contém um determinado valor, é possível procurar por colunas em comum."
   ]
  },
  {
   "cell_type": "code",
   "execution_count": null,
   "metadata": {},
   "outputs": [],
   "source": []
  },
  {
   "cell_type": "markdown",
   "metadata": {},
   "source": [
    "E para esse processo criamos uma função."
   ]
  },
  {
   "cell_type": "code",
   "execution_count": null,
   "metadata": {},
   "outputs": [],
   "source": []
  },
  {
   "cell_type": "code",
   "execution_count": null,
   "metadata": {},
   "outputs": [],
   "source": []
  },
  {
   "cell_type": "markdown",
   "metadata": {},
   "source": [
    "Se encontrarmos colunas em comun, podemos unir diferentes bases, criando assim novas associações entre diferentes características do problema."
   ]
  },
  {
   "cell_type": "markdown",
   "metadata": {},
   "source": [
    "#### `slugs_intersect_columns()`:\n",
    "\n",
    "    Função para encontrar as columnas em comum em um conjunto de dataframes"
   ]
  },
  {
   "cell_type": "code",
   "execution_count": null,
   "metadata": {},
   "outputs": [],
   "source": []
  },
  {
   "cell_type": "code",
   "execution_count": null,
   "metadata": {},
   "outputs": [],
   "source": []
  },
  {
   "cell_type": "code",
   "execution_count": null,
   "metadata": {},
   "outputs": [],
   "source": []
  },
  {
   "cell_type": "markdown",
   "metadata": {},
   "source": [
    "Podemos também encontrar as colunas únicas."
   ]
  },
  {
   "cell_type": "markdown",
   "metadata": {},
   "source": [
    "#### `slugs_difference_columns()`:\n",
    "    "
   ]
  },
  {
   "cell_type": "code",
   "execution_count": null,
   "metadata": {},
   "outputs": [],
   "source": []
  },
  {
   "cell_type": "code",
   "execution_count": null,
   "metadata": {},
   "outputs": [],
   "source": []
  },
  {
   "cell_type": "markdown",
   "metadata": {},
   "source": [
    "#### `slugs_merge_by_comon_columns()`:"
   ]
  },
  {
   "cell_type": "markdown",
   "metadata": {},
   "source": []
  },
  {
   "cell_type": "code",
   "execution_count": null,
   "metadata": {},
   "outputs": [],
   "source": []
  },
  {
   "cell_type": "code",
   "execution_count": null,
   "metadata": {},
   "outputs": [],
   "source": []
  },
  {
   "cell_type": "code",
   "execution_count": null,
   "metadata": {},
   "outputs": [],
   "source": []
  },
  {
   "cell_type": "code",
   "execution_count": null,
   "metadata": {},
   "outputs": [],
   "source": []
  },
  {
   "cell_type": "code",
   "execution_count": null,
   "metadata": {},
   "outputs": [],
   "source": []
  },
  {
   "cell_type": "code",
   "execution_count": null,
   "metadata": {},
   "outputs": [],
   "source": []
  },
  {
   "cell_type": "markdown",
   "metadata": {},
   "source": [
    "#### `find_search_value_in_pdf()`:"
   ]
  },
  {
   "cell_type": "markdown",
   "metadata": {},
   "source": [
    "Para acessar mais dados do que os disponíveis no site, em formato binário eficiente (Feather), usamos a API de ciência de dados da OWID. O método `catalog.find()` retorna um quadro de dados de correspondências."
   ]
  },
  {
   "cell_type": "code",
   "execution_count": null,
   "metadata": {},
   "outputs": [],
   "source": []
  },
  {
   "cell_type": "code",
   "execution_count": null,
   "metadata": {},
   "outputs": [],
   "source": []
  },
  {
   "cell_type": "code",
   "execution_count": null,
   "metadata": {},
   "outputs": [],
   "source": []
  },
  {
   "cell_type": "markdown",
   "metadata": {},
   "source": [
    "#### `find_intersect_columns()`:"
   ]
  },
  {
   "cell_type": "code",
   "execution_count": null,
   "metadata": {},
   "outputs": [],
   "source": []
  },
  {
   "cell_type": "code",
   "execution_count": null,
   "metadata": {},
   "outputs": [],
   "source": []
  },
  {
   "cell_type": "code",
   "execution_count": null,
   "metadata": {},
   "outputs": [],
   "source": []
  },
  {
   "cell_type": "code",
   "execution_count": null,
   "metadata": {},
   "outputs": [],
   "source": []
  },
  {
   "cell_type": "markdown",
   "metadata": {},
   "source": [
    "#### `find_merge_by_comonn_columns()`:"
   ]
  },
  {
   "cell_type": "code",
   "execution_count": null,
   "metadata": {},
   "outputs": [],
   "source": []
  },
  {
   "cell_type": "code",
   "execution_count": null,
   "metadata": {},
   "outputs": [],
   "source": []
  },
  {
   "cell_type": "code",
   "execution_count": null,
   "metadata": {},
   "outputs": [],
   "source": []
  },
  {
   "cell_type": "code",
   "execution_count": null,
   "metadata": {},
   "outputs": [],
   "source": []
  },
  {
   "cell_type": "markdown",
   "metadata": {},
   "source": [
    "### Criando Classes"
   ]
  },
  {
   "cell_type": "code",
   "execution_count": null,
   "metadata": {},
   "outputs": [],
   "source": []
  },
  {
   "cell_type": "code",
   "execution_count": null,
   "metadata": {},
   "outputs": [],
   "source": []
  },
  {
   "cell_type": "markdown",
   "metadata": {},
   "source": [
    "Instanciamos um objeto de `OWID`."
   ]
  },
  {
   "cell_type": "code",
   "execution_count": null,
   "metadata": {},
   "outputs": [],
   "source": []
  },
  {
   "cell_type": "markdown",
   "metadata": {},
   "source": [
    "Procuramos pelo primeiro `slug`."
   ]
  },
  {
   "cell_type": "code",
   "execution_count": null,
   "metadata": {},
   "outputs": [],
   "source": []
  },
  {
   "cell_type": "markdown",
   "metadata": {},
   "source": [
    "Procuramos por uma lista de fontes com tópicos semelhantes."
   ]
  },
  {
   "cell_type": "code",
   "execution_count": null,
   "metadata": {},
   "outputs": [],
   "source": []
  },
  {
   "cell_type": "markdown",
   "metadata": {},
   "source": [
    "Guardamos em um dicionário as colunas relativas à cada base na lista de tópicos semelhantes."
   ]
  },
  {
   "cell_type": "code",
   "execution_count": null,
   "metadata": {},
   "outputs": [],
   "source": []
  },
  {
   "cell_type": "code",
   "execution_count": null,
   "metadata": {},
   "outputs": [],
   "source": []
  },
  {
   "cell_type": "code",
   "execution_count": null,
   "metadata": {},
   "outputs": [],
   "source": []
  },
  {
   "cell_type": "code",
   "execution_count": null,
   "metadata": {},
   "outputs": [],
   "source": []
  },
  {
   "cell_type": "markdown",
   "metadata": {},
   "source": [
    "Vamos fundir dataframes com tópicos semelhantes."
   ]
  },
  {
   "cell_type": "code",
   "execution_count": null,
   "metadata": {},
   "outputs": [],
   "source": []
  },
  {
   "cell_type": "code",
   "execution_count": 19,
   "metadata": {},
   "outputs": [
    {
     "data": {
      "text/html": [
       "<div>\n",
       "<style scoped>\n",
       "    .dataframe tbody tr th:only-of-type {\n",
       "        vertical-align: middle;\n",
       "    }\n",
       "\n",
       "    .dataframe tbody tr th {\n",
       "        vertical-align: top;\n",
       "    }\n",
       "\n",
       "    .dataframe thead th {\n",
       "        text-align: right;\n",
       "    }\n",
       "</style>\n",
       "<table border=\"1\" class=\"dataframe\">\n",
       "  <thead>\n",
       "    <tr style=\"text-align: right;\">\n",
       "      <th></th>\n",
       "      <th>years</th>\n",
       "      <th>entities</th>\n",
       "      <th>difference_in_female_and_male_life_expectancy_at_age_45</th>\n",
       "      <th>difference_in_female_and_male_life_expectancy_at_birth</th>\n",
       "      <th>life_expectancy_fm_diff__type_period__sex_both__age_0</th>\n",
       "      <th>obs_value__unit_of_measure_deaths_per_100_live_births__indicator_under_five_mortality_rate__sex_both_sexes__wealth_quintile_all_wealth_quintiles</th>\n",
       "      <th>population</th>\n",
       "      <th>classification</th>\n",
       "    </tr>\n",
       "  </thead>\n",
       "  <tbody>\n",
       "    <tr>\n",
       "      <th>0</th>\n",
       "      <td>-10000</td>\n",
       "      <td>Afghanistan</td>\n",
       "      <td>NaN</td>\n",
       "      <td>NaN</td>\n",
       "      <td>NaN</td>\n",
       "      <td>NaN</td>\n",
       "      <td>1.473700e+04</td>\n",
       "      <td>NaN</td>\n",
       "    </tr>\n",
       "    <tr>\n",
       "      <th>1</th>\n",
       "      <td>-10000</td>\n",
       "      <td>Africa</td>\n",
       "      <td>NaN</td>\n",
       "      <td>NaN</td>\n",
       "      <td>NaN</td>\n",
       "      <td>NaN</td>\n",
       "      <td>1.118546e+06</td>\n",
       "      <td>NaN</td>\n",
       "    </tr>\n",
       "    <tr>\n",
       "      <th>2</th>\n",
       "      <td>-10000</td>\n",
       "      <td>Albania</td>\n",
       "      <td>NaN</td>\n",
       "      <td>NaN</td>\n",
       "      <td>NaN</td>\n",
       "      <td>NaN</td>\n",
       "      <td>1.199000e+03</td>\n",
       "      <td>NaN</td>\n",
       "    </tr>\n",
       "    <tr>\n",
       "      <th>3</th>\n",
       "      <td>-10000</td>\n",
       "      <td>Algeria</td>\n",
       "      <td>NaN</td>\n",
       "      <td>NaN</td>\n",
       "      <td>NaN</td>\n",
       "      <td>NaN</td>\n",
       "      <td>1.209000e+04</td>\n",
       "      <td>NaN</td>\n",
       "    </tr>\n",
       "    <tr>\n",
       "      <th>4</th>\n",
       "      <td>-10000</td>\n",
       "      <td>Andorra</td>\n",
       "      <td>NaN</td>\n",
       "      <td>NaN</td>\n",
       "      <td>NaN</td>\n",
       "      <td>NaN</td>\n",
       "      <td>2.500000e+01</td>\n",
       "      <td>NaN</td>\n",
       "    </tr>\n",
       "    <tr>\n",
       "      <th>...</th>\n",
       "      <td>...</td>\n",
       "      <td>...</td>\n",
       "      <td>...</td>\n",
       "      <td>...</td>\n",
       "      <td>...</td>\n",
       "      <td>...</td>\n",
       "      <td>...</td>\n",
       "      <td>...</td>\n",
       "    </tr>\n",
       "    <tr>\n",
       "      <th>80749</th>\n",
       "      <td>2100</td>\n",
       "      <td>Western Sahara</td>\n",
       "      <td>NaN</td>\n",
       "      <td>NaN</td>\n",
       "      <td>NaN</td>\n",
       "      <td>NaN</td>\n",
       "      <td>8.312930e+05</td>\n",
       "      <td>NaN</td>\n",
       "    </tr>\n",
       "    <tr>\n",
       "      <th>80750</th>\n",
       "      <td>2100</td>\n",
       "      <td>World</td>\n",
       "      <td>NaN</td>\n",
       "      <td>NaN</td>\n",
       "      <td>NaN</td>\n",
       "      <td>NaN</td>\n",
       "      <td>1.018016e+10</td>\n",
       "      <td>NaN</td>\n",
       "    </tr>\n",
       "    <tr>\n",
       "      <th>80751</th>\n",
       "      <td>2100</td>\n",
       "      <td>Yemen</td>\n",
       "      <td>NaN</td>\n",
       "      <td>NaN</td>\n",
       "      <td>NaN</td>\n",
       "      <td>NaN</td>\n",
       "      <td>1.100356e+08</td>\n",
       "      <td>NaN</td>\n",
       "    </tr>\n",
       "    <tr>\n",
       "      <th>80752</th>\n",
       "      <td>2100</td>\n",
       "      <td>Zambia</td>\n",
       "      <td>NaN</td>\n",
       "      <td>NaN</td>\n",
       "      <td>NaN</td>\n",
       "      <td>NaN</td>\n",
       "      <td>6.447392e+07</td>\n",
       "      <td>NaN</td>\n",
       "    </tr>\n",
       "    <tr>\n",
       "      <th>80753</th>\n",
       "      <td>2100</td>\n",
       "      <td>Zimbabwe</td>\n",
       "      <td>NaN</td>\n",
       "      <td>NaN</td>\n",
       "      <td>NaN</td>\n",
       "      <td>NaN</td>\n",
       "      <td>3.716657e+07</td>\n",
       "      <td>NaN</td>\n",
       "    </tr>\n",
       "  </tbody>\n",
       "</table>\n",
       "<p>80754 rows × 8 columns</p>\n",
       "</div>"
      ],
      "text/plain": [
       "       years        entities  \\\n",
       "0     -10000     Afghanistan   \n",
       "1     -10000          Africa   \n",
       "2     -10000         Albania   \n",
       "3     -10000         Algeria   \n",
       "4     -10000         Andorra   \n",
       "...      ...             ...   \n",
       "80749   2100  Western Sahara   \n",
       "80750   2100           World   \n",
       "80751   2100           Yemen   \n",
       "80752   2100          Zambia   \n",
       "80753   2100        Zimbabwe   \n",
       "\n",
       "       difference_in_female_and_male_life_expectancy_at_age_45  \\\n",
       "0                                                    NaN         \n",
       "1                                                    NaN         \n",
       "2                                                    NaN         \n",
       "3                                                    NaN         \n",
       "4                                                    NaN         \n",
       "...                                                  ...         \n",
       "80749                                                NaN         \n",
       "80750                                                NaN         \n",
       "80751                                                NaN         \n",
       "80752                                                NaN         \n",
       "80753                                                NaN         \n",
       "\n",
       "       difference_in_female_and_male_life_expectancy_at_birth  \\\n",
       "0                                                    NaN        \n",
       "1                                                    NaN        \n",
       "2                                                    NaN        \n",
       "3                                                    NaN        \n",
       "4                                                    NaN        \n",
       "...                                                  ...        \n",
       "80749                                                NaN        \n",
       "80750                                                NaN        \n",
       "80751                                                NaN        \n",
       "80752                                                NaN        \n",
       "80753                                                NaN        \n",
       "\n",
       "       life_expectancy_fm_diff__type_period__sex_both__age_0  \\\n",
       "0                                                    NaN       \n",
       "1                                                    NaN       \n",
       "2                                                    NaN       \n",
       "3                                                    NaN       \n",
       "4                                                    NaN       \n",
       "...                                                  ...       \n",
       "80749                                                NaN       \n",
       "80750                                                NaN       \n",
       "80751                                                NaN       \n",
       "80752                                                NaN       \n",
       "80753                                                NaN       \n",
       "\n",
       "       obs_value__unit_of_measure_deaths_per_100_live_births__indicator_under_five_mortality_rate__sex_both_sexes__wealth_quintile_all_wealth_quintiles  \\\n",
       "0                                                    NaN                                                                                                  \n",
       "1                                                    NaN                                                                                                  \n",
       "2                                                    NaN                                                                                                  \n",
       "3                                                    NaN                                                                                                  \n",
       "4                                                    NaN                                                                                                  \n",
       "...                                                  ...                                                                                                  \n",
       "80749                                                NaN                                                                                                  \n",
       "80750                                                NaN                                                                                                  \n",
       "80751                                                NaN                                                                                                  \n",
       "80752                                                NaN                                                                                                  \n",
       "80753                                                NaN                                                                                                  \n",
       "\n",
       "         population classification  \n",
       "0      1.473700e+04            NaN  \n",
       "1      1.118546e+06            NaN  \n",
       "2      1.199000e+03            NaN  \n",
       "3      1.209000e+04            NaN  \n",
       "4      2.500000e+01            NaN  \n",
       "...             ...            ...  \n",
       "80749  8.312930e+05            NaN  \n",
       "80750  1.018016e+10            NaN  \n",
       "80751  1.100356e+08            NaN  \n",
       "80752  6.447392e+07            NaN  \n",
       "80753  3.716657e+07            NaN  \n",
       "\n",
       "[80754 rows x 8 columns]"
      ]
     },
     "execution_count": 19,
     "metadata": {},
     "output_type": "execute_result"
    }
   ],
   "source": [
    "pdf_life_expectancy_output_merged_a"
   ]
  },
  {
   "cell_type": "code",
   "execution_count": 20,
   "metadata": {},
   "outputs": [
    {
     "data": {
      "text/html": [
       "<div>\n",
       "<style scoped>\n",
       "    .dataframe tbody tr th:only-of-type {\n",
       "        vertical-align: middle;\n",
       "    }\n",
       "\n",
       "    .dataframe tbody tr th {\n",
       "        vertical-align: top;\n",
       "    }\n",
       "\n",
       "    .dataframe thead th {\n",
       "        text-align: right;\n",
       "    }\n",
       "</style>\n",
       "<table border=\"1\" class=\"dataframe\">\n",
       "  <thead>\n",
       "    <tr style=\"text-align: right;\">\n",
       "      <th></th>\n",
       "      <th>years</th>\n",
       "      <th>entities</th>\n",
       "      <th>difference_in_female_and_male_life_expectancy_at_age_45</th>\n",
       "      <th>difference_in_female_and_male_life_expectancy_at_birth</th>\n",
       "      <th>life_expectancy_fm_diff__type_period__sex_both__age_0</th>\n",
       "      <th>obs_value__unit_of_measure_deaths_per_100_live_births__indicator_under_five_mortality_rate__sex_both_sexes__wealth_quintile_all_wealth_quintiles</th>\n",
       "      <th>population</th>\n",
       "      <th>classification</th>\n",
       "    </tr>\n",
       "  </thead>\n",
       "  <tbody>\n",
       "    <tr>\n",
       "      <th>0</th>\n",
       "      <td>-10000</td>\n",
       "      <td>Afghanistan</td>\n",
       "      <td>NaN</td>\n",
       "      <td>NaN</td>\n",
       "      <td>NaN</td>\n",
       "      <td>NaN</td>\n",
       "      <td>1.473700e+04</td>\n",
       "      <td>NaN</td>\n",
       "    </tr>\n",
       "    <tr>\n",
       "      <th>1</th>\n",
       "      <td>-10000</td>\n",
       "      <td>Africa</td>\n",
       "      <td>NaN</td>\n",
       "      <td>NaN</td>\n",
       "      <td>NaN</td>\n",
       "      <td>NaN</td>\n",
       "      <td>1.118546e+06</td>\n",
       "      <td>NaN</td>\n",
       "    </tr>\n",
       "    <tr>\n",
       "      <th>2</th>\n",
       "      <td>-10000</td>\n",
       "      <td>Albania</td>\n",
       "      <td>NaN</td>\n",
       "      <td>NaN</td>\n",
       "      <td>NaN</td>\n",
       "      <td>NaN</td>\n",
       "      <td>1.199000e+03</td>\n",
       "      <td>NaN</td>\n",
       "    </tr>\n",
       "    <tr>\n",
       "      <th>3</th>\n",
       "      <td>-10000</td>\n",
       "      <td>Algeria</td>\n",
       "      <td>NaN</td>\n",
       "      <td>NaN</td>\n",
       "      <td>NaN</td>\n",
       "      <td>NaN</td>\n",
       "      <td>1.209000e+04</td>\n",
       "      <td>NaN</td>\n",
       "    </tr>\n",
       "    <tr>\n",
       "      <th>4</th>\n",
       "      <td>-10000</td>\n",
       "      <td>Andorra</td>\n",
       "      <td>NaN</td>\n",
       "      <td>NaN</td>\n",
       "      <td>NaN</td>\n",
       "      <td>NaN</td>\n",
       "      <td>2.500000e+01</td>\n",
       "      <td>NaN</td>\n",
       "    </tr>\n",
       "    <tr>\n",
       "      <th>...</th>\n",
       "      <td>...</td>\n",
       "      <td>...</td>\n",
       "      <td>...</td>\n",
       "      <td>...</td>\n",
       "      <td>...</td>\n",
       "      <td>...</td>\n",
       "      <td>...</td>\n",
       "      <td>...</td>\n",
       "    </tr>\n",
       "    <tr>\n",
       "      <th>80749</th>\n",
       "      <td>2100</td>\n",
       "      <td>Western Sahara</td>\n",
       "      <td>NaN</td>\n",
       "      <td>NaN</td>\n",
       "      <td>NaN</td>\n",
       "      <td>NaN</td>\n",
       "      <td>8.312930e+05</td>\n",
       "      <td>NaN</td>\n",
       "    </tr>\n",
       "    <tr>\n",
       "      <th>80750</th>\n",
       "      <td>2100</td>\n",
       "      <td>World</td>\n",
       "      <td>NaN</td>\n",
       "      <td>NaN</td>\n",
       "      <td>NaN</td>\n",
       "      <td>NaN</td>\n",
       "      <td>1.018016e+10</td>\n",
       "      <td>NaN</td>\n",
       "    </tr>\n",
       "    <tr>\n",
       "      <th>80751</th>\n",
       "      <td>2100</td>\n",
       "      <td>Yemen</td>\n",
       "      <td>NaN</td>\n",
       "      <td>NaN</td>\n",
       "      <td>NaN</td>\n",
       "      <td>NaN</td>\n",
       "      <td>1.100356e+08</td>\n",
       "      <td>NaN</td>\n",
       "    </tr>\n",
       "    <tr>\n",
       "      <th>80752</th>\n",
       "      <td>2100</td>\n",
       "      <td>Zambia</td>\n",
       "      <td>NaN</td>\n",
       "      <td>NaN</td>\n",
       "      <td>NaN</td>\n",
       "      <td>NaN</td>\n",
       "      <td>6.447392e+07</td>\n",
       "      <td>NaN</td>\n",
       "    </tr>\n",
       "    <tr>\n",
       "      <th>80753</th>\n",
       "      <td>2100</td>\n",
       "      <td>Zimbabwe</td>\n",
       "      <td>NaN</td>\n",
       "      <td>NaN</td>\n",
       "      <td>NaN</td>\n",
       "      <td>NaN</td>\n",
       "      <td>3.716657e+07</td>\n",
       "      <td>NaN</td>\n",
       "    </tr>\n",
       "  </tbody>\n",
       "</table>\n",
       "<p>80754 rows × 8 columns</p>\n",
       "</div>"
      ],
      "text/plain": [
       "       years        entities  \\\n",
       "0     -10000     Afghanistan   \n",
       "1     -10000          Africa   \n",
       "2     -10000         Albania   \n",
       "3     -10000         Algeria   \n",
       "4     -10000         Andorra   \n",
       "...      ...             ...   \n",
       "80749   2100  Western Sahara   \n",
       "80750   2100           World   \n",
       "80751   2100           Yemen   \n",
       "80752   2100          Zambia   \n",
       "80753   2100        Zimbabwe   \n",
       "\n",
       "       difference_in_female_and_male_life_expectancy_at_age_45  \\\n",
       "0                                                    NaN         \n",
       "1                                                    NaN         \n",
       "2                                                    NaN         \n",
       "3                                                    NaN         \n",
       "4                                                    NaN         \n",
       "...                                                  ...         \n",
       "80749                                                NaN         \n",
       "80750                                                NaN         \n",
       "80751                                                NaN         \n",
       "80752                                                NaN         \n",
       "80753                                                NaN         \n",
       "\n",
       "       difference_in_female_and_male_life_expectancy_at_birth  \\\n",
       "0                                                    NaN        \n",
       "1                                                    NaN        \n",
       "2                                                    NaN        \n",
       "3                                                    NaN        \n",
       "4                                                    NaN        \n",
       "...                                                  ...        \n",
       "80749                                                NaN        \n",
       "80750                                                NaN        \n",
       "80751                                                NaN        \n",
       "80752                                                NaN        \n",
       "80753                                                NaN        \n",
       "\n",
       "       life_expectancy_fm_diff__type_period__sex_both__age_0  \\\n",
       "0                                                    NaN       \n",
       "1                                                    NaN       \n",
       "2                                                    NaN       \n",
       "3                                                    NaN       \n",
       "4                                                    NaN       \n",
       "...                                                  ...       \n",
       "80749                                                NaN       \n",
       "80750                                                NaN       \n",
       "80751                                                NaN       \n",
       "80752                                                NaN       \n",
       "80753                                                NaN       \n",
       "\n",
       "       obs_value__unit_of_measure_deaths_per_100_live_births__indicator_under_five_mortality_rate__sex_both_sexes__wealth_quintile_all_wealth_quintiles  \\\n",
       "0                                                    NaN                                                                                                  \n",
       "1                                                    NaN                                                                                                  \n",
       "2                                                    NaN                                                                                                  \n",
       "3                                                    NaN                                                                                                  \n",
       "4                                                    NaN                                                                                                  \n",
       "...                                                  ...                                                                                                  \n",
       "80749                                                NaN                                                                                                  \n",
       "80750                                                NaN                                                                                                  \n",
       "80751                                                NaN                                                                                                  \n",
       "80752                                                NaN                                                                                                  \n",
       "80753                                                NaN                                                                                                  \n",
       "\n",
       "         population classification  \n",
       "0      1.473700e+04            NaN  \n",
       "1      1.118546e+06            NaN  \n",
       "2      1.199000e+03            NaN  \n",
       "3      1.209000e+04            NaN  \n",
       "4      2.500000e+01            NaN  \n",
       "...             ...            ...  \n",
       "80749  8.312930e+05            NaN  \n",
       "80750  1.018016e+10            NaN  \n",
       "80751  1.100356e+08            NaN  \n",
       "80752  6.447392e+07            NaN  \n",
       "80753  3.716657e+07            NaN  \n",
       "\n",
       "[80754 rows x 8 columns]"
      ]
     },
     "execution_count": 20,
     "metadata": {},
     "output_type": "execute_result"
    }
   ],
   "source": [
    "pdf_life_expectancy_output_merged_sorted_a"
   ]
  },
  {
   "cell_type": "markdown",
   "metadata": {},
   "source": []
  },
  {
   "cell_type": "code",
   "execution_count": null,
   "metadata": {},
   "outputs": [],
   "source": []
  },
  {
   "cell_type": "code",
   "execution_count": null,
   "metadata": {},
   "outputs": [],
   "source": []
  },
  {
   "cell_type": "code",
   "execution_count": null,
   "metadata": {},
   "outputs": [],
   "source": []
  },
  {
   "cell_type": "code",
   "execution_count": null,
   "metadata": {},
   "outputs": [],
   "source": []
  },
  {
   "cell_type": "markdown",
   "metadata": {},
   "source": []
  },
  {
   "cell_type": "code",
   "execution_count": null,
   "metadata": {},
   "outputs": [],
   "source": []
  },
  {
   "cell_type": "code",
   "execution_count": null,
   "metadata": {},
   "outputs": [],
   "source": []
  },
  {
   "cell_type": "code",
   "execution_count": null,
   "metadata": {},
   "outputs": [],
   "source": []
  },
  {
   "cell_type": "code",
   "execution_count": null,
   "metadata": {},
   "outputs": [],
   "source": []
  },
  {
   "cell_type": "code",
   "execution_count": null,
   "metadata": {},
   "outputs": [],
   "source": []
  },
  {
   "cell_type": "code",
   "execution_count": null,
   "metadata": {},
   "outputs": [],
   "source": []
  },
  {
   "cell_type": "code",
   "execution_count": null,
   "metadata": {},
   "outputs": [],
   "source": []
  },
  {
   "cell_type": "code",
   "execution_count": 21,
   "metadata": {},
   "outputs": [
    {
     "ename": "NameError",
     "evalue": "name 'stop' is not defined",
     "output_type": "error",
     "traceback": [
      "\u001b[0;31m---------------------------------------------------------------------------\u001b[0m",
      "\u001b[0;31mNameError\u001b[0m                                 Traceback (most recent call last)",
      "Cell \u001b[0;32mIn[21], line 1\u001b[0m\n\u001b[0;32m----> 1\u001b[0m \u001b[43mstop\u001b[49m\u001b[38;5;241m.\u001b[39mhere()\n",
      "\u001b[0;31mNameError\u001b[0m: name 'stop' is not defined"
     ]
    }
   ],
   "source": [
    "stop.here()"
   ]
  },
  {
   "cell_type": "code",
   "execution_count": null,
   "metadata": {},
   "outputs": [],
   "source": []
  }
 ],
 "metadata": {
  "kernelspec": {
   "display_name": "Python 3",
   "language": "python",
   "name": "python3"
  },
  "language_info": {
   "codemirror_mode": {
    "name": "ipython",
    "version": 3
   },
   "file_extension": ".py",
   "mimetype": "text/x-python",
   "name": "python",
   "nbconvert_exporter": "python",
   "pygments_lexer": "ipython3",
   "version": "3.9.6"
  },
  "toc-autonumbering": false,
  "toc-showcode": true
 },
 "nbformat": 4,
 "nbformat_minor": 4
}
