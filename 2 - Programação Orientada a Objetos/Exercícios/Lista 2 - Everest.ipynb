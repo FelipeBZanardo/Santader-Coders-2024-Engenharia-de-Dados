{
 "cells": [
  {
   "cell_type": "markdown",
   "metadata": {},
   "source": [
    "Crie uma classe de nome Calculadora com quatro funcoes, soma, subtracao, divisao, e multiplicacao, e recebe dois numeros float e retorna um número também float. A restrição é que devemos chamar as funções diretamente da classe, sem criar um objeto."
   ]
  },
  {
   "cell_type": "code",
   "execution_count": null,
   "metadata": {},
   "outputs": [],
   "source": [
    "class Calculadora:\n",
    "\t\n",
    "    @staticmethod\n",
    "    def soma(numero1: float, numero2: float) -> float:\n",
    "        return numero1 + numero2\n",
    "\n",
    "    @staticmethod\n",
    "    def subtracao(numero1: float, numero2: float) -> float:\n",
    "        return numero1 - numero2\n",
    "\n",
    "    @staticmethod\n",
    "    def divisao(numero1: float, numero2: float) -> float:\n",
    "        return numero1 / numero2\n",
    "\n",
    "    @staticmethod\n",
    "    def multiplicacao(numero1: float, numero2: float) -> float:\n",
    "        return numero1 * numero2"
   ]
  },
  {
   "cell_type": "markdown",
   "metadata": {},
   "source": [
    "Uma empresa está começando a criar um cadastro de pessoas que trabalham na empresa, e quer dividir essas pessoas em categorias: PessoaMensalista, PessoaHorista e PessoaSemApontamento. A pessoa mensalista tem um salário fixo por mês, dependendo da quantidade de horas trabalhadas; a pessoa horista recebe por hora trabalhada e a pessoa sem apontamento recebe um salario mensal independente de horas trabalhadas.\n",
    "\n",
    "Codifique uma estrutura de classes onde a pessoa tem nome e idade, a pessoa mensalista tem total_horas_trabalhadas e  valor_salario, pessoa horista tem total_horas_trabalhadas e valor_hora, e pessoa sem apontamento tem valor_salario.\n",
    "\n",
    "As três classes devem ter o método calcular_salario, de acordo com as regras:\n",
    "\n",
    "Se pessoa mensalista, o valor de salario é proporcional ao numero de horas trabalhadas até 160 horas. Se trabalhou mais de 160, o valor é o teto (ou seja, o valor do salário),\n",
    "se pessoa horista, multiplicar o total de horas pelo valor por hora, e\n",
    "se pessoa sem apontamento, mostrar o salário como informado.\n",
    "O retorno do método calcular_salario deve ser:\n",
    "\n",
    "\"A pessoa de nome {nome} tem a receber R$ {salario}\""
   ]
  },
  {
   "cell_type": "code",
   "execution_count": null,
   "metadata": {},
   "outputs": [],
   "source": [
    "class Pessoa:\n",
    "\tdef __init__(self, nome:str, idade:int) -> None:\n",
    "\t\tself.nome = nome\n",
    "\t\tself.idade = idade\n",
    "\n",
    "\n",
    "class PessoaHorista(Pessoa):\n",
    "\tdef __init__(self, nome: str, idade: int, total_horas_trabalhadas, valor_hora: float) -> None:\n",
    "\t\tsuper().__init__(nome, idade)\n",
    "\t\tself.total_horas_trabalhadas = total_horas_trabalhadas\n",
    "\t\tself.valor_hora = valor_hora\n",
    "\t\n",
    "\tdef calcular_salario(self):\n",
    "\t\tsalario = self.total_horas_trabalhadas * self.valor_hora\n",
    "\t\treturn f\"A pessoa de nome {self.nome} tem a receber R$ {int(salario)}\"\n",
    "\t\n",
    "\n",
    "class PessoaMensalista(Pessoa):\n",
    "\tdef __init__(self, nome: str, idade: int, total_horas_trabalhadas, valor_salario: float) -> None:\n",
    "\t\tsuper().__init__(nome, idade)\n",
    "\t\tself.total_horas_trabalhadas = total_horas_trabalhadas\n",
    "\t\tself.valor_salario = valor_salario\n",
    "\n",
    "\tdef calcular_salario(self):\n",
    "\t\tsalario = self.total_horas_trabalhadas * self.valor_salario / 160\n",
    "\t\treturn f\"A pessoa de nome {self.nome} tem a receber R$ {int(salario)}\"\n",
    "\n",
    "class PessoaSemApontamento(Pessoa):\n",
    "\tdef __init__(self, nome: str, idade: int, valor_salario: float) -> None:\n",
    "\t\tsuper().__init__(nome, idade)\n",
    "\t\tself.valor_salario = valor_salario\n",
    "\n",
    "\tdef calcular_salario(self):\n",
    "\t\treturn f\"A pessoa de nome {self.nome} tem a receber R$ {int(self.valor_salario)}\""
   ]
  },
  {
   "cell_type": "markdown",
   "metadata": {},
   "source": [
    "Para o cadastro de um cliente (objeto Cliente), precisamos dos seguintes dados:\n",
    "\n",
    "nome\n",
    "sobrenome\n",
    "idade\n",
    "Alem desses dados, devemos entregar mais dois campos extras, que devem ser acessados como campos do objeto, e não como um método:\n",
    "\n",
    "nome_completo: junção de nome e sobrenome\n",
    "endereco_email: no formato \"{nome}.{sobrenome}@minhaempresa.com\", com todas as letras em minusculo.\n",
    "maior_de_idade: True se maior ou igual a 18, ou False"
   ]
  },
  {
   "cell_type": "code",
   "execution_count": null,
   "metadata": {},
   "outputs": [],
   "source": [
    "class Cliente:\n",
    "\tdef __init__(self, nome: str, sobrenome: str, idade: int) -> None:\n",
    "\t\tself.nome = nome\n",
    "\t\tself.sobrenome = sobrenome\n",
    "\t\tself.idade = idade\n",
    "\t\tself.nome_completo = nome + \" \" + sobrenome\n",
    "\t\tself.endereco_email = f\"{nome.lower()}.{sobrenome.lower()}@minhaempresa.com\"\n",
    "\t\tself.maior_de_idade = idade >= 18"
   ]
  },
  {
   "cell_type": "markdown",
   "metadata": {},
   "source": [
    "Um professor desafiou os alunos a criar uma classe Ponto que define um ponto cartesiano (com valores de x e y), e que seja possível, usando o operador de - (menos), calcular a distância entre dois pontos.\n",
    "\n",
    "A fórmula da distância entre dois pontos é: elevar ao quadrado a diferença entre as coordenadas x, somar com o quadrado da diferenca das coordenadas do ponto y, e obter a raiz quadrada desse valor; ou, em notação matemática:\n",
    "\n",
    "√((x2 - x1)² + (y2 - y1)²)"
   ]
  },
  {
   "cell_type": "code",
   "execution_count": null,
   "metadata": {},
   "outputs": [],
   "source": [
    "class Ponto:\n",
    "    def __init__(self, x: float, y: float) -> None:\n",
    "        self.x = x\n",
    "        self.y = y\n",
    "\n",
    "    def __sub__(self, other):\n",
    "        return ((other.x - self.x)**2 + (other.y - self.y)**2)**0.5"
   ]
  },
  {
   "cell_type": "markdown",
   "metadata": {},
   "source": [
    "Criar uma classe que, no momento da instanciação, receba o nome de uma pessoa e, ao chamar a funcao falar_bom_dia, retorne o texto \"Bom dia, <nome da pessoa>\"."
   ]
  },
  {
   "cell_type": "code",
   "execution_count": null,
   "metadata": {},
   "outputs": [],
   "source": [
    "class Saudacao:\n",
    "    def __init__(self, nome: str) -> None:\n",
    "        self.nome = nome\n",
    "\n",
    "    def falar_bom_dia(self):\n",
    "        return f\"Bom dia, {self.nome}\""
   ]
  },
  {
   "cell_type": "markdown",
   "metadata": {},
   "source": [
    "Uma empresa está criando um sistema para transportar Objetos em Caixas. A ideia é criar uma Caixa com a quantidade máxima de Objetos definida no momento da criação do objeto (com o parametro qtd_max_objetos) e, posteriormente, adicionar cada Objeto através do método adicionar_objeto.\n",
    "\n",
    "Caso tente adicionar um novo Objeto na Caixa e esta já estiver cheia, deve retornar False, caso contrário retornar True.\n",
    "\n",
    "Uma vez que a Caixa é criada, deve ser possivel receber uma listagem simples, em texto, com o nome de todos os itens armazenados, em ordem alfabética, um por linha, usando o método listar_itens.\n",
    "\n",
    "A classe Objeto tem os campos nome e tipo, e a classe Caixa tem o campo qtd_max_objetos."
   ]
  },
  {
   "cell_type": "code",
   "execution_count": null,
   "metadata": {},
   "outputs": [],
   "source": [
    "class Objeto:\n",
    "\tdef __init__(self, nome: str, tipo: str) -> None:\n",
    "\t\tself.nome = nome\n",
    "\t\tself.tipo = tipo\n",
    "\n",
    "class Caixa:\n",
    "\tdef __init__(self, qtd_max_objetos: int) -> None:\n",
    "\t\tself.qtd_max_objetos = qtd_max_objetos\n",
    "\t\tself.itens = []\n",
    "\t\t\n",
    "\tdef adicionar_objeto(self, objeto: Objeto):\n",
    "\t\tif len(self.itens) < self.qtd_max_objetos:\n",
    "\t\t\tself.itens.append(objeto)\n",
    "\t\t\treturn True\n",
    "\t\treturn False\n",
    "\n",
    "\tdef listar_itens(self):\n",
    "\t\tnomes_itens = sorted(list(map(lambda item: item.nome, self.itens)))\n",
    "\t\titens = \"\"\n",
    "\t\tfor nome in nomes_itens:\n",
    "\t\t\titens += nome + \"\\n\"\n",
    "\t\treturn itens[:-1]"
   ]
  },
  {
   "cell_type": "markdown",
   "metadata": {},
   "source": [
    "Para ajudar a lojinha do seu tio, voce vai criar uma classe que simula um caixa de registro de produtos.\n",
    "\n",
    "A classe principal, CaixaRegistradora, deve ter um método iniciar_venda que cria uma nova Venda. Com essa venda, usando o método registrar_produto, você vai registrar um produto com o nome, o valor_unitario e a quantidade desse produto (qtd_produtos).\n",
    "\n",
    "Ao final da venda, você roda o método listar_produtos, que gera uma tupla de tuplas com quatro campos:\n",
    "\n",
    "nome do produto\n",
    "valor unitario\n",
    "quantidade comprada\n",
    "valor total do produto\n",
    "E rodando o método obter_valor_total, a resposta é o valor total da venda. E depois, rodando o método finalizar_venda, o valor recebido é adicionado à CaixaRegistradora pelo método adicionar_pagamento.\n",
    "\n",
    "Finalmente, após todas as vendas, podemos usar o método obter_saldo_atual na CaixaRegistradora para obter o saldo total até o momento."
   ]
  },
  {
   "cell_type": "code",
   "execution_count": null,
   "metadata": {},
   "outputs": [],
   "source": [
    "class Venda:\n",
    "    def __init__(self):\n",
    "        self.produtos = []\n",
    "\n",
    "    def adicionar_produto(self, nome, valor_unitario, qtd_produtos):\n",
    "        produto = {\n",
    "            'nome': nome,\n",
    "            'valor_unitario': valor_unitario,\n",
    "            'qtd_produtos': qtd_produtos,\n",
    "            'valor_total': valor_unitario * qtd_produtos\n",
    "        }\n",
    "        self.produtos.append(produto)\n",
    "\n",
    "    def listar_produtos(self):\n",
    "        return tuple((p['nome'], p['valor_unitario'], p['qtd_produtos'], p['valor_total']) for p in self.produtos)\n",
    "\n",
    "    def obter_valor_total(self):\n",
    "        return sum(p['valor_total'] for p in self.produtos)\n",
    "\n",
    "    def finalizar_venda(self, caixa):\n",
    "        valor_total = self.obter_valor_total()\n",
    "        caixa.adicionar_pagamento(valor_total)\n",
    "\n",
    "\n",
    "class CaixaRegistradora:\n",
    "    def __init__(self):\n",
    "        self.saldo = 0\n",
    "\n",
    "    def iniciar_venda(self):\n",
    "        return Venda()\n",
    "\n",
    "    def adicionar_pagamento(self, valor):\n",
    "        self.saldo += valor\n",
    "\n",
    "    def obter_saldo_atual(self):\n",
    "        return self.saldo"
   ]
  },
  {
   "cell_type": "markdown",
   "metadata": {},
   "source": [
    "Crie uma classe de nome Pessoa que tenha tenha os campos nome, sobrenome e cidade_de_residencia e data_de_criacao como um campo privado. Crie uma função chamada nova_pessoa que recebe os 3 primeiros campos e devolve uma instância criada com os 4 campos criados."
   ]
  },
  {
   "cell_type": "code",
   "execution_count": null,
   "metadata": {},
   "outputs": [],
   "source": [
    "from datetime import datetime\n",
    "class Pessoa:\n",
    "    def __init__(self, nome: str, sobrenome: str, cidade_de_residencia: str, data_de_criacao: datetime) -> None:\n",
    "        self.nome = nome\n",
    "        self.sobrenome = sobrenome\n",
    "        self.cidade_de_residencia = cidade_de_residencia\n",
    "        self._data_de_criacao = data_de_criacao\n",
    "\n",
    "    @classmethod\n",
    "    def nova_pessoa(cls, nome: str, sobrenome: str, cidade_de_residencia: str):\n",
    "        return cls(nome, sobrenome, cidade_de_residencia, datetime.now())"
   ]
  },
  {
   "cell_type": "markdown",
   "metadata": {},
   "source": [
    "Uma professora cansou de fazer o cálculo das notas dos estudantes manualmente, e pediu ajuda a você para fazer isso.\n",
    "\n",
    "Ela quer uma classe Estudante que receba o nome do estudante, e quer um método adicionar_notas onde ela entre com uma lista de quatro notas deste estudante, no formato float, e consiga obter a média deste estudante, usando o método obter_media. Se a quantidade de notas for diferente de 4 ou alguma das notas informadas não estiver no formato de float, deve retornar um erro QuantidadeErradaNotasError\n",
    "\n",
    "Mas, além disso, ela quer uma classe Turma, que tem um nome, e que agrupa todos os estudantes no campo estudantes do objeto, e onde ela quer os dados dos estudantes como um dicionário no formato\n",
    "\n",
    "{\n",
    "    \"nro_matricula\": 123,\n",
    "    \"estudante\": objeto Estudante\n",
    "}\n",
    "E para adicionar o estudante na turma, ela quer o método adicionar_estudante, que recebe dois valores, a matrícula e os dados de estudante. Se já houver um estudante com o número de matrícula, deve retornar o erro EstudanteJaRegistradoError\n",
    "\n",
    "E ela quer, ainda, um método onde ela passe o número da avaliação (1, 2, 3 ou 4) e retorne a média de nota dos alunos nessa avaliação. Foi definido que este método de Turma será chamado obter_media_prova."
   ]
  },
  {
   "cell_type": "code",
   "execution_count": null,
   "metadata": {},
   "outputs": [],
   "source": [
    "class QuantidadeErradaNotasError(Exception):\n",
    "    pass\n",
    "\n",
    "class EstudanteJaRegistradoError(Exception):\n",
    "    pass\n",
    "\n",
    "class Estudante:\n",
    "    def __init__(self, nome):\n",
    "        self.nome = nome\n",
    "        self.notas = []\n",
    "\n",
    "    def adicionar_notas(self, *notas):\n",
    "        if len(notas) == 1 and isinstance(notas[0], (list, tuple)):\n",
    "            notas = notas[0]\n",
    "        try:\n",
    "            notas = [float(nota) for nota in notas]\n",
    "        except ValueError:\n",
    "            raise QuantidadeErradaNotasError(\"As notas devem ser quatro valores no formato float.\")\n",
    "\n",
    "        if len(notas) != 4:\n",
    "            raise QuantidadeErradaNotasError(\"As notas devem ser quatro valores no formato float.\")\n",
    "        self.notas = notas\n",
    "\n",
    "    def obter_media(self):\n",
    "        return sum(self.notas) / len(self.notas)\n",
    "\n",
    "class Turma:\n",
    "    def __init__(self, nome):\n",
    "        self.nome = nome\n",
    "        self.estudantes = {}\n",
    "\n",
    "    def adicionar_estudante(self, nro_matricula, estudante):\n",
    "        if nro_matricula in self.estudantes:\n",
    "            raise EstudanteJaRegistradoError(\"Estudante com essa matrícula já registrado.\")\n",
    "        self.estudantes[nro_matricula] = estudante\n",
    "\n",
    "    def obter_media_prova(self, numero_prova):\n",
    "        if not 1 <= numero_prova <= 4:\n",
    "            raise ValueError(\"Número da prova deve ser entre 1 e 4.\")\n",
    "        soma_notas = 0\n",
    "        quantidade_estudantes = len(self.estudantes)\n",
    "        for estudante in self.estudantes.values():\n",
    "            soma_notas += estudante.notas[numero_prova - 1]\n",
    "        return soma_notas / quantidade_estudantes if quantidade_estudantes > 0 else 0\n",
    "\n"
   ]
  },
  {
   "cell_type": "markdown",
   "metadata": {},
   "source": [
    "Crie uma classe de nome Turma que deve receber o nome da turma no momento da instanciação, e tem os métodos adicionar_pessoa, que adiciona o nome de uma pessoa à turma, e o método mostrar_turma que retorna uma tupla com as pessoas adicionadas à turma, em ordem alfabética."
   ]
  },
  {
   "cell_type": "code",
   "execution_count": null,
   "metadata": {},
   "outputs": [],
   "source": [
    "class Turma:\n",
    "    def __init__(self, nome):\n",
    "        self.nome = nome\n",
    "        self.pessoas = list()\n",
    "    \n",
    "    def adicionar_pessoa(self, nome):\n",
    "        self.pessoas.append(nome)\n",
    "\n",
    "    def mostrar_turma(self):\n",
    "        return tuple(self.pessoas)"
   ]
  }
 ],
 "metadata": {
  "kernelspec": {
   "display_name": "Python 3",
   "language": "python",
   "name": "python3"
  },
  "language_info": {
   "codemirror_mode": {
    "name": "ipython",
    "version": 3
   },
   "file_extension": ".py",
   "mimetype": "text/x-python",
   "name": "python",
   "nbconvert_exporter": "python",
   "pygments_lexer": "ipython3",
   "version": "3.11.5"
  }
 },
 "nbformat": 4,
 "nbformat_minor": 2
}
