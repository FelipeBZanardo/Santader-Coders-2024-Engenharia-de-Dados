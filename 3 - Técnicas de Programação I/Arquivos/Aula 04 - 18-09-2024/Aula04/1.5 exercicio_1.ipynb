{
 "cells": [
  {
   "cell_type": "markdown",
   "metadata": {},
   "source": [
    "<img src='letscodebr_cover.jpeg' align='left' width=100%/>"
   ]
  },
  {
   "cell_type": "markdown",
   "metadata": {},
   "source": [
    "# Aulas 4: Pandas - Enunciado do Exercício 1."
   ]
  },
  {
   "cell_type": "markdown",
   "metadata": {},
   "source": [
    "## Documentação pandas\n",
    "\n",
    "O [`Pandas`](https://pandas.pydata.org/pandas-docs/stable/index.html) é uma biblioteca de software escrita para a linguagem de programação Python para manipulação e análise de dados. Em particular, ele oferece estruturas de dados e operações para manipular tabelas numéricas e séries temporais."
   ]
  },
  {
   "cell_type": "markdown",
   "metadata": {},
   "source": [
    "### Conjunto de dados\n",
    "\n",
    "O conjunto de dados que usaremos é uma versão muito condensada dos dados de uma Pesquisa de Domicílios Permanentes (pesquisa realizada por um instituto de pesuisas estatisticas e censos demográficos). É uma pesquisa contínua que tem como objetivo principal gerar informações sobre o funcionamento do mercado de trabalho.\n",
    "\n",
    "Utilizaremos apenas algumas variáveis como idade, escolaridade, número de horas trabalhadas, qualificação da tarefa e renda do trabalho e alguns casos empregados, ou seja, aqueles que trabalharam pelo menos uma hora na semana anterior à pesquisa.\n",
    "\n",
    "Este conjunto de dados é o mesmo que usaremos na aula presencial, e nesses exercícios procuramos nos familiarizar com ele e revisar alguns tópicos."
   ]
  },
  {
   "cell_type": "markdown",
   "metadata": {},
   "source": [
    "Importamos a biblioteca do `Pandas` e atribuímos pd como um apelido (alias):"
   ]
  },
  {
   "cell_type": "code",
   "execution_count": 1,
   "metadata": {},
   "outputs": [],
   "source": [
    "import pandas as pd"
   ]
  },
  {
   "cell_type": "markdown",
   "metadata": {},
   "source": [
    "## Exercicio 1\n",
    "\n",
    "Vamos Aplicar o método [`read_csv()`](https://pandas.pydata.org/pandas-docs/stable/reference/api/pandas.read_csv.html) e ler em um `DataFrame` chamado `data` os dados do arquivo \"**./dados/dados_filt.csv**\"\n",
    "\n",
    "Este arquivo contém alguns dados numéricos e alguns tipos de string de caracteres.\n",
    "\n",
    "As colunas são:\n",
    "\n",
    "- ch06: int, idade\n",
    "\n",
    "- nivel_ed: string, nivel educacional\n",
    "\n",
    "- htot: int, quantidade de horas totais trabalhadas no período\n",
    "\n",
    "- qualif: string, qualificação da tarefa\n",
    "\n",
    "- p47t: int, entrada"
   ]
  },
  {
   "cell_type": "code",
   "execution_count": null,
   "metadata": {},
   "outputs": [],
   "source": []
  },
  {
   "cell_type": "markdown",
   "metadata": {},
   "source": [
    "## Exercício 2\n",
    "\n",
    "Obtenha uma descrição do intervalo dos índices do `DataFrame` `data`. Obtenha também uma descrição das colunas do `DataFrame` `data`."
   ]
  },
  {
   "cell_type": "code",
   "execution_count": null,
   "metadata": {},
   "outputs": [],
   "source": []
  },
  {
   "cell_type": "code",
   "execution_count": null,
   "metadata": {},
   "outputs": [],
   "source": []
  },
  {
   "cell_type": "markdown",
   "metadata": {},
   "source": [
    "Agora vamos modificar o índice de dados, para que o valor do índice não coincida com a posição e podemos notar diferenças nos exercícios que se seguem."
   ]
  },
  {
   "cell_type": "code",
   "execution_count": null,
   "metadata": {},
   "outputs": [],
   "source": []
  },
  {
   "cell_type": "markdown",
   "metadata": {},
   "source": [
    "## Exercício 3\n",
    "\n",
    "Vamos revisar o uso de `loc` e` iloc`\n",
    "\n",
    "- `loc` nos permite acessar um elemento por seu índice\n",
    "\n",
    "- `iloc` nos permite acessar um elemento por sua posição\n",
    "\n",
    "Vamos ler com `loc` e com` iloc` a quarta linha de dados\n",
    "\n",
    "Como acessamos o valor do índice na quarta linha?"
   ]
  },
  {
   "cell_type": "code",
   "execution_count": null,
   "metadata": {},
   "outputs": [],
   "source": []
  },
  {
   "cell_type": "markdown",
   "metadata": {},
   "source": [
    "## Exercício 4\n",
    "\n",
    "Vamos revisar o uso de `loc` combinado com máscaras booleanas. Queremos construir um objeto `DataFrame` com os registros com idade inferior a $15$ ou superior a $70$."
   ]
  },
  {
   "cell_type": "code",
   "execution_count": null,
   "metadata": {},
   "outputs": [],
   "source": []
  },
  {
   "cell_type": "markdown",
   "metadata": {},
   "source": [
    "## Exercício 5\n",
    "\n",
    "Vamos calcular algumas métricas em um objeto `DataFrame`\n",
    "\n",
    "- Idade Média;\n",
    "\n",
    "- Máximo de horas trabalhadas;\n",
    "\n",
    "- Renda mediana."
   ]
  },
  {
   "cell_type": "code",
   "execution_count": null,
   "metadata": {},
   "outputs": [],
   "source": []
  }
 ],
 "metadata": {
  "kernelspec": {
   "display_name": "Python 3",
   "language": "python",
   "name": "python3"
  },
  "language_info": {
   "codemirror_mode": {
    "name": "ipython",
    "version": 3
   },
   "file_extension": ".py",
   "mimetype": "text/x-python",
   "name": "python",
   "nbconvert_exporter": "python",
   "pygments_lexer": "ipython3",
   "version": "3.12.2"
  }
 },
 "nbformat": 4,
 "nbformat_minor": 4
}
