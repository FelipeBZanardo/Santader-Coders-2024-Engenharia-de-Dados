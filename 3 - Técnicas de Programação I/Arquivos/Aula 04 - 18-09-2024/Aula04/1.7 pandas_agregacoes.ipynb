{
 "cells": [
  {
   "cell_type": "markdown",
   "metadata": {},
   "source": [
    "<img src='letscodebr_cover.jpeg' align='left' width=100%/>"
   ]
  },
  {
   "cell_type": "markdown",
   "metadata": {},
   "source": [
    "# Aulas 4: Pandas - Agregação."
   ]
  },
  {
   "cell_type": "markdown",
   "metadata": {},
   "source": [
    "## Intro  - Split, Apply, Combine\n",
    "\n",
    "Separar um conjunto de dados em categorias e aplicar uma função a cada grupo, que pode ser agregação, transformação ou filtro, é uma etapa muito comum em um fluxo de trabalho de análise de dados.\n",
    "\n",
    "Depois de carregar e preparar um conjunto de dados, podemos precisar calcular estatísticas de grupo ou, possivelmente, tabelas dinâmicas para gerar relatórios ou visualizações.\n",
    "\n",
    "`pandas` fornece métodos que nos permitem realizar essas tarefas naturalmente.\n",
    "\n",
    "Nestes guias, aprenderemos a\n",
    "\n",
    "* Dividir um objeto `pandas` em partes usando uma ou mais keys\n",
    "\n",
    "* Calcular medidas de resumo em grupos, como quantidade, média, desvio padrão ou qualquer função definida pelo usuário\n",
    "\n",
    "* Aplicar transformações por grupos.\n",
    "\n",
    "* Construir tabelas dinâmicas"
   ]
  },
  {
   "cell_type": "markdown",
   "metadata": {},
   "source": [
    "## Dataset\n",
    "\n",
    "O [GCBA](https://www.buenosaires.gob.ar/) realiza pesquisas com turistas que vêm aos centros de atendimento. Pergunta-se o motivo da consulta, os dias da viagem, o país de origem, entre outros.\n",
    "\n",
    "O conjunto de dados está publicamente acessível no portal de dados abertos do [GCBA](https://dados.buenosaires.gob.ar/dadosset/encuesta-centros-atencion-turistica-cat).\n",
    "\n",
    "Neste guia usaremos o dataset Resultado de pesquisas em Centros de Atenção ao Turista (CAT) em 2017-2018."
   ]
  },
  {
   "cell_type": "markdown",
   "metadata": {},
   "source": [
    "## Problema\n",
    "\n",
    "A partir dos dados das consultas aos postos de turismo da cidade de Buenos Aires, vamos responder a perguntas sobre o país de origem dos turistas, algumas medidas estatísticas sobre o número de dias de permanência na cidade e o número de visitantes."
   ]
  },
  {
   "cell_type": "markdown",
   "metadata": {},
   "source": [
    "## GroupBy\n",
    "\n",
    "Podemos descrever as operações em grupos com o termo *split-apply-combine*.\n",
    "\n",
    "Na primeira etapa do processo, os dados em um objeto `pandas` (uma instância de `Series` ou de `DataFrame`) se dividem em grupos (*split*) com base em uma ou mais keys que definimos. Esta divisão é feita por linhas (axis = 0) ou por colunas (axis = 1).\n",
    "\n",
    "Como um segundo estágio, aplicamos uma função a cada um dos grupos (*apply*) resultando em um novo valor por grupo.\n",
    "\n",
    "Na última etapa, os resultados da aplicação da função em cada um dos grupos são combinados em um objeto de resultado (*combine*).\n",
    "\n",
    "\n",
    "As chaves que agrupamos podem ser especificadas de várias maneiras diferentes:\n",
    "\n",
    "* Uma lista ou numpy array do mesmo tamanho que o eixo selecionado\n",
    "\n",
    "* Para objetos DataFrame, uma string que indica o nome da coluna pela qual vamos agrupar.\n",
    "\n",
    "* Para objetos DataFrame, uma string que indica o nome do índice pelo qual vamos agrupar.\n",
    "\n",
    "* Um dicionário ou Series que estabelece um mapeamento entre um valor e o nome do grupo.\n",
    "\n",
    "* Uma função python que será avaliada em cada um dos rótulos dos eixos.\n",
    "\n",
    "* Uma lista com qualquer uma das opções acima.\n",
    "\n",
    "\n",
    "Observe que o resultado de cada uma dessas opções é **produzir uma matriz de valores que usaremos para dividir** o objeto Series ou DataFrame.\n"
   ]
  },
  {
   "cell_type": "markdown",
   "metadata": {},
   "source": [
    "Vamos ler os dados da pesquisa de turismo GCBA, ver o quão grande é o DataFrame, quais colunas ele tem, que tipo de dados ele é e os primeiros registros lidos."
   ]
  },
  {
   "cell_type": "code",
   "execution_count": 55,
   "metadata": {},
   "outputs": [],
   "source": [
    "import pandas as pd\n",
    "import numpy as np"
   ]
  },
  {
   "cell_type": "code",
   "execution_count": 56,
   "metadata": {},
   "outputs": [
    {
     "name": "stdout",
     "output_type": "stream",
     "text": [
      "(1105, 20)\n",
      "Index(['id', 'fecha', 'centro_atencion_turistica', 'barrio', 'comuna',\n",
      "       'pasajeros', 'pais_residencia_si_extranjero',\n",
      "       'otro_pais_residencia_si_extranjero',\n",
      "       'provincia_residencia_si_argentino', 'pernoctaciones',\n",
      "       'medio_transporte_llegada', 'alojamiento', 'otro_alojamiento',\n",
      "       'barrio.1', 'otro_barrio', 'primera_vez', 'motivo_viaje',\n",
      "       'otro_motivo_viaje', 'motivo_consulta', 'otro_motivo_consulta'],\n",
      "      dtype='object')\n",
      "id                                      int64\n",
      "fecha                                  object\n",
      "centro_atencion_turistica              object\n",
      "barrio                                 object\n",
      "comuna                                 object\n",
      "pasajeros                               int64\n",
      "pais_residencia_si_extranjero          object\n",
      "otro_pais_residencia_si_extranjero     object\n",
      "provincia_residencia_si_argentino      object\n",
      "pernoctaciones                        float64\n",
      "medio_transporte_llegada               object\n",
      "alojamiento                            object\n",
      "otro_alojamiento                      float64\n",
      "barrio.1                               object\n",
      "otro_barrio                           float64\n",
      "primera_vez                            object\n",
      "motivo_viaje                           object\n",
      "otro_motivo_viaje                     float64\n",
      "motivo_consulta                        object\n",
      "otro_motivo_consulta                   object\n",
      "dtype: object\n"
     ]
    },
    {
     "data": {
      "text/html": [
       "<div>\n",
       "<style scoped>\n",
       "    .dataframe tbody tr th:only-of-type {\n",
       "        vertical-align: middle;\n",
       "    }\n",
       "\n",
       "    .dataframe tbody tr th {\n",
       "        vertical-align: top;\n",
       "    }\n",
       "\n",
       "    .dataframe thead th {\n",
       "        text-align: right;\n",
       "    }\n",
       "</style>\n",
       "<table border=\"1\" class=\"dataframe\">\n",
       "  <thead>\n",
       "    <tr style=\"text-align: right;\">\n",
       "      <th></th>\n",
       "      <th>id</th>\n",
       "      <th>fecha</th>\n",
       "      <th>centro_atencion_turistica</th>\n",
       "      <th>barrio</th>\n",
       "      <th>comuna</th>\n",
       "      <th>pasajeros</th>\n",
       "      <th>pais_residencia_si_extranjero</th>\n",
       "      <th>otro_pais_residencia_si_extranjero</th>\n",
       "      <th>provincia_residencia_si_argentino</th>\n",
       "      <th>pernoctaciones</th>\n",
       "      <th>medio_transporte_llegada</th>\n",
       "      <th>alojamiento</th>\n",
       "      <th>otro_alojamiento</th>\n",
       "      <th>barrio.1</th>\n",
       "      <th>otro_barrio</th>\n",
       "      <th>primera_vez</th>\n",
       "      <th>motivo_viaje</th>\n",
       "      <th>otro_motivo_viaje</th>\n",
       "      <th>motivo_consulta</th>\n",
       "      <th>otro_motivo_consulta</th>\n",
       "    </tr>\n",
       "  </thead>\n",
       "  <tbody>\n",
       "    <tr>\n",
       "      <th>0</th>\n",
       "      <td>1</td>\n",
       "      <td>2017-01-02</td>\n",
       "      <td>retiro</td>\n",
       "      <td>RETIRO</td>\n",
       "      <td>COMUNA 1</td>\n",
       "      <td>2</td>\n",
       "      <td>Chile</td>\n",
       "      <td>NaN</td>\n",
       "      <td>NaN</td>\n",
       "      <td>7.0</td>\n",
       "      <td>No especifica</td>\n",
       "      <td>NaN</td>\n",
       "      <td>NaN</td>\n",
       "      <td>NaN</td>\n",
       "      <td>NaN</td>\n",
       "      <td>No especifica</td>\n",
       "      <td>No especifica</td>\n",
       "      <td>NaN</td>\n",
       "      <td>Mapas Orientacion alojamiento</td>\n",
       "      <td>NaN</td>\n",
       "    </tr>\n",
       "    <tr>\n",
       "      <th>1</th>\n",
       "      <td>2</td>\n",
       "      <td>2017-01-02</td>\n",
       "      <td>retiro</td>\n",
       "      <td>RETIRO</td>\n",
       "      <td>COMUNA 1</td>\n",
       "      <td>1</td>\n",
       "      <td>NaN</td>\n",
       "      <td>NaN</td>\n",
       "      <td>Provincia de Buenos Aires</td>\n",
       "      <td>2.0</td>\n",
       "      <td>No especifica</td>\n",
       "      <td>NaN</td>\n",
       "      <td>NaN</td>\n",
       "      <td>NaN</td>\n",
       "      <td>NaN</td>\n",
       "      <td>No especifica</td>\n",
       "      <td>No especifica</td>\n",
       "      <td>NaN</td>\n",
       "      <td>Mapas Orientacion</td>\n",
       "      <td>NaN</td>\n",
       "    </tr>\n",
       "    <tr>\n",
       "      <th>2</th>\n",
       "      <td>3</td>\n",
       "      <td>2017-01-02</td>\n",
       "      <td>retiro</td>\n",
       "      <td>RETIRO</td>\n",
       "      <td>COMUNA 1</td>\n",
       "      <td>2</td>\n",
       "      <td>NaN</td>\n",
       "      <td>NaN</td>\n",
       "      <td>Córdoba</td>\n",
       "      <td>0.0</td>\n",
       "      <td>No especifica</td>\n",
       "      <td>No pernocta en Buenos Aires</td>\n",
       "      <td>NaN</td>\n",
       "      <td>NaN</td>\n",
       "      <td>NaN</td>\n",
       "      <td>No especifica</td>\n",
       "      <td>No especifica</td>\n",
       "      <td>NaN</td>\n",
       "      <td>Mapas Orientacion alrededores</td>\n",
       "      <td>NaN</td>\n",
       "    </tr>\n",
       "  </tbody>\n",
       "</table>\n",
       "</div>"
      ],
      "text/plain": [
       "   id       fecha centro_atencion_turistica  barrio    comuna  pasajeros  \\\n",
       "0   1  2017-01-02                    retiro  RETIRO  COMUNA 1          2   \n",
       "1   2  2017-01-02                    retiro  RETIRO  COMUNA 1          1   \n",
       "2   3  2017-01-02                    retiro  RETIRO  COMUNA 1          2   \n",
       "\n",
       "  pais_residencia_si_extranjero otro_pais_residencia_si_extranjero  \\\n",
       "0                         Chile                                NaN   \n",
       "1                           NaN                                NaN   \n",
       "2                           NaN                                NaN   \n",
       "\n",
       "  provincia_residencia_si_argentino  pernoctaciones medio_transporte_llegada  \\\n",
       "0                               NaN             7.0            No especifica   \n",
       "1         Provincia de Buenos Aires             2.0            No especifica   \n",
       "2                           Córdoba             0.0            No especifica   \n",
       "\n",
       "                   alojamiento  otro_alojamiento barrio.1  otro_barrio  \\\n",
       "0                          NaN               NaN      NaN          NaN   \n",
       "1                          NaN               NaN      NaN          NaN   \n",
       "2  No pernocta en Buenos Aires               NaN      NaN          NaN   \n",
       "\n",
       "     primera_vez   motivo_viaje  otro_motivo_viaje  \\\n",
       "0  No especifica  No especifica                NaN   \n",
       "1  No especifica  No especifica                NaN   \n",
       "2  No especifica  No especifica                NaN   \n",
       "\n",
       "                 motivo_consulta otro_motivo_consulta  \n",
       "0  Mapas Orientacion alojamiento                  NaN  \n",
       "1              Mapas Orientacion                  NaN  \n",
       "2  Mapas Orientacion alrededores                  NaN  "
      ]
     },
     "execution_count": 56,
     "metadata": {},
     "output_type": "execute_result"
    }
   ],
   "source": [
    "# low_memorybool, default True\n",
    "# Internally process the file in chunks, resulting in lower memory use while parsing, \n",
    "# but possibly mixed type inference. To ensure no mixed types either set False, \n",
    "# or specify the type with the dtype parameter. \n",
    "# Note that the entire file is read into a single DataFrame regardless, \n",
    "# use the chunksize or iterator parameter to return the data in chunks. (Only valid with C parser).\n",
    "\n",
    "data = pd.read_csv(\"./dados/resultado-de-encuestas-2017-2018.csv\", sep = \",\", low_memory = False) \n",
    "\n",
    "print(data.shape)\n",
    "print(data.columns)\n",
    "print(data.dtypes)\n",
    "\n",
    "data.head(3)"
   ]
  },
  {
   "cell_type": "markdown",
   "metadata": {},
   "source": [
    "Vamos ver qual porcentagem de registros nulos em cada coluna:"
   ]
  },
  {
   "cell_type": "code",
   "execution_count": 57,
   "metadata": {},
   "outputs": [
    {
     "data": {
      "text/plain": [
       "id                                    0.000000\n",
       "fecha                                 0.000000\n",
       "centro_atencion_turistica             0.000000\n",
       "barrio                                0.000000\n",
       "comuna                                0.000000\n",
       "pasajeros                             0.000000\n",
       "pais_residencia_si_extranjero         0.386425\n",
       "otro_pais_residencia_si_extranjero    0.993665\n",
       "provincia_residencia_si_argentino     0.629864\n",
       "pernoctaciones                        0.687783\n",
       "medio_transporte_llegada              0.000000\n",
       "alojamiento                           0.259729\n",
       "otro_alojamiento                      1.000000\n",
       "barrio.1                              0.959276\n",
       "otro_barrio                           1.000000\n",
       "primera_vez                           0.000000\n",
       "motivo_viaje                          0.051584\n",
       "otro_motivo_viaje                     1.000000\n",
       "motivo_consulta                       0.000000\n",
       "otro_motivo_consulta                  0.994570\n",
       "dtype: float64"
      ]
     },
     "execution_count": 57,
     "metadata": {},
     "output_type": "execute_result"
    }
   ],
   "source": [
    "data.isnull().sum() / data.shape[0]"
   ]
  },
  {
   "cell_type": "markdown",
   "metadata": {},
   "source": [
    "Vemos que existem várias colunas com uma porcentagem muito alta de valores nulos."
   ]
  },
  {
   "cell_type": "markdown",
   "metadata": {},
   "source": [
    "## Agregações simples"
   ]
  },
  {
   "cell_type": "markdown",
   "metadata": {},
   "source": [
    "### Pergunta 1:\n",
    "\n",
    "A coluna `['pernoctaciones']` é do tipo numérica (float64), vamos calcular quantos dias no total e em média dura a viagem das pessoas que vieram a estes centros de atendimento."
   ]
  },
  {
   "cell_type": "code",
   "execution_count": 58,
   "metadata": {},
   "outputs": [
    {
     "name": "stdout",
     "output_type": "stream",
     "text": [
      "Duração média da viagem: 5.3826086956521735\n",
      "Duração total da viagem: 1857.0\n"
     ]
    }
   ],
   "source": [
    "pernoites_serie = data.pernoctaciones\n",
    "print(\"Duração média da viagem:\", pernoites_serie.mean())\n",
    "print(\"Duração total da viagem:\", pernoites_serie.sum())"
   ]
  },
  {
   "cell_type": "markdown",
   "metadata": {},
   "source": [
    "### Pergunta 2:\n",
    "\n",
    "**2.a** Quantos e quais são os motivos da consulta?\n",
    "\n",
    "Vamos analisar o campo `motivo_consulta` que não possui valores nulos.\n",
    "\n",
    "Ajuda: [`pandas.Series.value_counts()`](https://pandas.pydata.org/pandas-docs/stable/reference/api/pandas.Series.value_counts.html)\n",
    "\n",
    "**2.b** Quais são os 5 motivos mais consultados?\n",
    "\n",
    "Ajuda: Vamos indexar a Series ordenada que é o resultado de value_counts.\n",
    "\n",
    "(value_counts retorna a Series ordenada)."
   ]
  },
  {
   "cell_type": "code",
   "execution_count": 59,
   "metadata": {},
   "outputs": [
    {
     "data": {
      "text/plain": [
       "motivo_consulta\n",
       "Bus                  169\n",
       "Orientacion          154\n",
       "Mapas Orientacion    114\n",
       "Name: count, dtype: int64"
      ]
     },
     "execution_count": 59,
     "metadata": {},
     "output_type": "execute_result"
    }
   ],
   "source": [
    "motivos = data.motivo_consulta.value_counts()\n",
    "motivos.head(3)"
   ]
  },
  {
   "cell_type": "code",
   "execution_count": 60,
   "metadata": {},
   "outputs": [
    {
     "data": {
      "text/plain": [
       "motivo_consulta\n",
       "Bus                  169\n",
       "Orientacion          154\n",
       "Mapas Orientacion    114\n",
       "Mapas                 97\n",
       "Bus Mapas             35\n",
       "Name: count, dtype: int64"
      ]
     },
     "execution_count": 60,
     "metadata": {},
     "output_type": "execute_result"
    }
   ],
   "source": [
    "motivos_top5 = motivos[0 : 5]\n",
    "motivos_top5"
   ]
  },
  {
   "cell_type": "markdown",
   "metadata": {},
   "source": [
    "### Pergunta 3:\n",
    "\n",
    "Usando o método [`pandas.DataFrame.describe()`](https://pandas.pydata.org/pandas-docs/stable/reference/api/pandas.DataFrame.describe.html), vamos avaliar as colunas pasajeros (passageiros) e pernoctaciones (pernoites).\n",
    "\n",
    "Este método retorna um DataFrame, usando esse resultado vamos responder qual é o número médio de passageiros."
   ]
  },
  {
   "cell_type": "code",
   "execution_count": 61,
   "metadata": {},
   "outputs": [
    {
     "name": "stdout",
     "output_type": "stream",
     "text": [
      "<class 'pandas.core.frame.DataFrame'>\n",
      "Número médio de passageiros:  2.01\n"
     ]
    },
    {
     "data": {
      "text/html": [
       "<div>\n",
       "<style scoped>\n",
       "    .dataframe tbody tr th:only-of-type {\n",
       "        vertical-align: middle;\n",
       "    }\n",
       "\n",
       "    .dataframe tbody tr th {\n",
       "        vertical-align: top;\n",
       "    }\n",
       "\n",
       "    .dataframe thead th {\n",
       "        text-align: right;\n",
       "    }\n",
       "</style>\n",
       "<table border=\"1\" class=\"dataframe\">\n",
       "  <thead>\n",
       "    <tr style=\"text-align: right;\">\n",
       "      <th></th>\n",
       "      <th>pasajeros</th>\n",
       "      <th>pernoctaciones</th>\n",
       "    </tr>\n",
       "  </thead>\n",
       "  <tbody>\n",
       "    <tr>\n",
       "      <th>count</th>\n",
       "      <td>1105.000000</td>\n",
       "      <td>345.000000</td>\n",
       "    </tr>\n",
       "    <tr>\n",
       "      <th>mean</th>\n",
       "      <td>2.011765</td>\n",
       "      <td>5.382609</td>\n",
       "    </tr>\n",
       "    <tr>\n",
       "      <th>std</th>\n",
       "      <td>1.172931</td>\n",
       "      <td>10.865656</td>\n",
       "    </tr>\n",
       "    <tr>\n",
       "      <th>min</th>\n",
       "      <td>1.000000</td>\n",
       "      <td>0.000000</td>\n",
       "    </tr>\n",
       "    <tr>\n",
       "      <th>25%</th>\n",
       "      <td>1.000000</td>\n",
       "      <td>3.000000</td>\n",
       "    </tr>\n",
       "    <tr>\n",
       "      <th>50%</th>\n",
       "      <td>2.000000</td>\n",
       "      <td>4.000000</td>\n",
       "    </tr>\n",
       "    <tr>\n",
       "      <th>75%</th>\n",
       "      <td>2.000000</td>\n",
       "      <td>6.000000</td>\n",
       "    </tr>\n",
       "    <tr>\n",
       "      <th>max</th>\n",
       "      <td>12.000000</td>\n",
       "      <td>180.000000</td>\n",
       "    </tr>\n",
       "  </tbody>\n",
       "</table>\n",
       "</div>"
      ],
      "text/plain": [
       "         pasajeros  pernoctaciones\n",
       "count  1105.000000      345.000000\n",
       "mean      2.011765        5.382609\n",
       "std       1.172931       10.865656\n",
       "min       1.000000        0.000000\n",
       "25%       1.000000        3.000000\n",
       "50%       2.000000        4.000000\n",
       "75%       2.000000        6.000000\n",
       "max      12.000000      180.000000"
      ]
     },
     "execution_count": 61,
     "metadata": {},
     "output_type": "execute_result"
    }
   ],
   "source": [
    "medidas = data[[\"pasajeros\", \"pernoctaciones\"]].describe()\n",
    "print(type(medidas))\n",
    "print(\"Número médio de passageiros: \", medidas.loc[\"mean\", \"pasajeros\"].round(2))\n",
    "medidas"
   ]
  },
  {
   "cell_type": "markdown",
   "metadata": {},
   "source": [
    "Vemos que o número máximo de dormidas é de 690 e o número máximo de passageiros é de 150.\n",
    "\n",
    "Vamos ver quais registros têm esses valores. E vamos tentar entender se correspondem ou não a um erro."
   ]
  },
  {
   "cell_type": "code",
   "execution_count": 62,
   "metadata": {},
   "outputs": [
    {
     "data": {
      "text/html": [
       "<div>\n",
       "<style scoped>\n",
       "    .dataframe tbody tr th:only-of-type {\n",
       "        vertical-align: middle;\n",
       "    }\n",
       "\n",
       "    .dataframe tbody tr th {\n",
       "        vertical-align: top;\n",
       "    }\n",
       "\n",
       "    .dataframe thead th {\n",
       "        text-align: right;\n",
       "    }\n",
       "</style>\n",
       "<table border=\"1\" class=\"dataframe\">\n",
       "  <thead>\n",
       "    <tr style=\"text-align: right;\">\n",
       "      <th></th>\n",
       "      <th>id</th>\n",
       "      <th>fecha</th>\n",
       "      <th>centro_atencion_turistica</th>\n",
       "      <th>barrio</th>\n",
       "      <th>comuna</th>\n",
       "      <th>pasajeros</th>\n",
       "      <th>pais_residencia_si_extranjero</th>\n",
       "      <th>otro_pais_residencia_si_extranjero</th>\n",
       "      <th>provincia_residencia_si_argentino</th>\n",
       "      <th>pernoctaciones</th>\n",
       "      <th>medio_transporte_llegada</th>\n",
       "      <th>alojamiento</th>\n",
       "      <th>otro_alojamiento</th>\n",
       "      <th>barrio.1</th>\n",
       "      <th>otro_barrio</th>\n",
       "      <th>primera_vez</th>\n",
       "      <th>motivo_viaje</th>\n",
       "      <th>otro_motivo_viaje</th>\n",
       "      <th>motivo_consulta</th>\n",
       "      <th>otro_motivo_consulta</th>\n",
       "    </tr>\n",
       "  </thead>\n",
       "  <tbody>\n",
       "  </tbody>\n",
       "</table>\n",
       "</div>"
      ],
      "text/plain": [
       "Empty DataFrame\n",
       "Columns: [id, fecha, centro_atencion_turistica, barrio, comuna, pasajeros, pais_residencia_si_extranjero, otro_pais_residencia_si_extranjero, provincia_residencia_si_argentino, pernoctaciones, medio_transporte_llegada, alojamiento, otro_alojamiento, barrio.1, otro_barrio, primera_vez, motivo_viaje, otro_motivo_viaje, motivo_consulta, otro_motivo_consulta]\n",
       "Index: []"
      ]
     },
     "execution_count": 62,
     "metadata": {},
     "output_type": "execute_result"
    }
   ],
   "source": [
    "data_passageiros_150_mask = data.pasajeros == 150\n",
    "data_passageiros_150 = data.loc[data_passageiros_150_mask, ]\n",
    "data_passageiros_150"
   ]
  },
  {
   "cell_type": "markdown",
   "metadata": {},
   "source": [
    "Parece ser um contingente de estudantes franceses em trânsito (\"Não pernoite em Buenos Aires\")."
   ]
  },
  {
   "cell_type": "code",
   "execution_count": 63,
   "metadata": {},
   "outputs": [
    {
     "data": {
      "text/html": [
       "<div>\n",
       "<style scoped>\n",
       "    .dataframe tbody tr th:only-of-type {\n",
       "        vertical-align: middle;\n",
       "    }\n",
       "\n",
       "    .dataframe tbody tr th {\n",
       "        vertical-align: top;\n",
       "    }\n",
       "\n",
       "    .dataframe thead th {\n",
       "        text-align: right;\n",
       "    }\n",
       "</style>\n",
       "<table border=\"1\" class=\"dataframe\">\n",
       "  <thead>\n",
       "    <tr style=\"text-align: right;\">\n",
       "      <th></th>\n",
       "      <th>id</th>\n",
       "      <th>fecha</th>\n",
       "      <th>centro_atencion_turistica</th>\n",
       "      <th>barrio</th>\n",
       "      <th>comuna</th>\n",
       "      <th>pasajeros</th>\n",
       "      <th>pais_residencia_si_extranjero</th>\n",
       "      <th>otro_pais_residencia_si_extranjero</th>\n",
       "      <th>provincia_residencia_si_argentino</th>\n",
       "      <th>pernoctaciones</th>\n",
       "      <th>medio_transporte_llegada</th>\n",
       "      <th>alojamiento</th>\n",
       "      <th>otro_alojamiento</th>\n",
       "      <th>barrio.1</th>\n",
       "      <th>otro_barrio</th>\n",
       "      <th>primera_vez</th>\n",
       "      <th>motivo_viaje</th>\n",
       "      <th>otro_motivo_viaje</th>\n",
       "      <th>motivo_consulta</th>\n",
       "      <th>otro_motivo_consulta</th>\n",
       "    </tr>\n",
       "  </thead>\n",
       "  <tbody>\n",
       "  </tbody>\n",
       "</table>\n",
       "</div>"
      ],
      "text/plain": [
       "Empty DataFrame\n",
       "Columns: [id, fecha, centro_atencion_turistica, barrio, comuna, pasajeros, pais_residencia_si_extranjero, otro_pais_residencia_si_extranjero, provincia_residencia_si_argentino, pernoctaciones, medio_transporte_llegada, alojamiento, otro_alojamiento, barrio.1, otro_barrio, primera_vez, motivo_viaje, otro_motivo_viaje, motivo_consulta, otro_motivo_consulta]\n",
       "Index: []"
      ]
     },
     "execution_count": 63,
     "metadata": {},
     "output_type": "execute_result"
    }
   ],
   "source": [
    "data_pernoites_690_mask = data.pernoctaciones == 690\n",
    "data_pernoites_690 = data.loc[data_pernoites_690_mask, ]\n",
    "data_pernoites_690"
   ]
  },
  {
   "cell_type": "markdown",
   "metadata": {},
   "source": [
    "Desse cadastro não podemos extrair informações que justifiquem 690 dias de permanência."
   ]
  },
  {
   "cell_type": "markdown",
   "metadata": {},
   "source": [
    "##  Como construímos grupos?"
   ]
  },
  {
   "cell_type": "markdown",
   "metadata": {},
   "source": [
    "\n",
    "### DataFrameGroupBy\n",
    "\n",
    "\n",
    "A definição abstrata de agrupamento é fornecer um mapeamento entre valores e (rótulos ou) nomes de grupos.\n",
    "\n",
    "Um objeto [`pandas.DataFrame.groupby`](https://pandas.pydata.org/pandas-docs/stable/reference/api/pandas.DataFrame.groupby.html) não calcula nada, mas cria uma estrutura intermediária com todas as informações necessárias para posteriormente aplicar alguma operação a cada grupo.\n",
    "\n",
    "O **resultado dessa operação** é retornado em um Series ou DataFrame **indexado pelos valores exclusivos da key groupby**.\n",
    "\n",
    "As operações que podemos aplicar em um objeto `groupby` estão listadas [aqui](https://pandas.pydata.org/pandas-docs/stable/reference/groupby.html) Usando o resultado de uma operação de agrupamento por nome de coluna como exemplo, vamos apresentar algumas propriedades e métodos deste objeto.\n",
    "\n",
    "Vamos agrupar os dados por coluna em `pais_residencia_si_extranjero`."
   ]
  },
  {
   "cell_type": "markdown",
   "metadata": {},
   "source": [
    "#### Tipo \n",
    "\n",
    "Vamos ver que tipo é o objeto retornado:\n"
   ]
  },
  {
   "cell_type": "code",
   "execution_count": 64,
   "metadata": {},
   "outputs": [
    {
     "data": {
      "text/plain": [
       "pandas.core.groupby.generic.DataFrameGroupBy"
      ]
     },
     "execution_count": 64,
     "metadata": {},
     "output_type": "execute_result"
    }
   ],
   "source": [
    "data_grouped = data.groupby('pais_residencia_si_extranjero')\n",
    "type(data_grouped)"
   ]
  },
  {
   "cell_type": "markdown",
   "metadata": {},
   "source": [
    "#### size\n",
    "\n",
    "Vamos ver o número de registros em cada grupo e quantos registros do `DataFrame` original são atribuídos a algum grupo com o atributo [`.size()`](https://pandas.pydata.org/pandas-docs/stable/reference/api/pandas.core.groupby.GroupBy.size.html)."
   ]
  },
  {
   "cell_type": "code",
   "execution_count": 65,
   "metadata": {},
   "outputs": [
    {
     "data": {
      "text/plain": [
       "pais_residencia_si_extranjero\n",
       "Alemania                                     25\n",
       "Australia                                    12\n",
       "Bolivia                                      11\n",
       "Brasil                                      213\n",
       "Canadá                                        7\n",
       "Chile                                        31\n",
       "China                                        14\n",
       "Colombia                                     71\n",
       "Corea del Sur                                 1\n",
       "Costa Rica                                    5\n",
       "Ecuador                                       8\n",
       "España                                       54\n",
       "Estados Unidos                               50\n",
       "Francia                                      37\n",
       "India                                         2\n",
       "Israel                                        5\n",
       "Italia                                       29\n",
       "Japón                                         1\n",
       "México                                       10\n",
       "Noruega                                       4\n",
       "Otro país de residencia si es extranjero      7\n",
       "Paraguay                                      7\n",
       "Países Bajos                                  3\n",
       "Perú                                         11\n",
       "Polonia                                       2\n",
       "Reino Unido                                  21\n",
       "Suiza                                         3\n",
       "Turquía                                       3\n",
       "Uruguay                                      18\n",
       "Venezuela                                    13\n",
       "dtype: int64"
      ]
     },
     "execution_count": 65,
     "metadata": {},
     "output_type": "execute_result"
    }
   ],
   "source": [
    "data_grouped.size()"
   ]
  },
  {
   "cell_type": "code",
   "execution_count": 66,
   "metadata": {},
   "outputs": [
    {
     "data": {
      "text/plain": [
       "678"
      ]
     },
     "execution_count": 66,
     "metadata": {},
     "output_type": "execute_result"
    }
   ],
   "source": [
    "data_grouped.size().sum()"
   ]
  },
  {
   "cell_type": "code",
   "execution_count": 67,
   "metadata": {},
   "outputs": [
    {
     "data": {
      "text/plain": [
       "0.6135746606334842"
      ]
     },
     "execution_count": 67,
     "metadata": {},
     "output_type": "execute_result"
    }
   ],
   "source": [
    "data_grouped.size().sum() / data.shape[0]"
   ]
  },
  {
   "cell_type": "markdown",
   "metadata": {},
   "source": [
    "Apenas $52\\%$ dos registros foram atribuídos a um grupo.\n",
    "\n",
    "Vamos ver se esse número de registros atribuídos a um grupo corresponde ao número de registros não nulos nesse campo."
   ]
  },
  {
   "cell_type": "code",
   "execution_count": 68,
   "metadata": {},
   "outputs": [
    {
     "data": {
      "text/plain": [
       "678"
      ]
     },
     "execution_count": 68,
     "metadata": {},
     "output_type": "execute_result"
    }
   ],
   "source": [
    "data.loc[data.pais_residencia_si_extranjero.notnull(), ].shape[0]"
   ]
  },
  {
   "cell_type": "markdown",
   "metadata": {},
   "source": [
    "#### Índices\n",
    "\n",
    "É um dicionário cujas chaves são os valores únicos das chaves groupby, neste caso os valores da coluna `country_residence_if_extranjero`, e cujos valores são uma matriz com os [índices](https://pandas.pydata.org/pandas-docs/stable/reference/api/pandas.core.groupby.GroupBy.indices.html#pandas.core.groupby.GroupBy.indices) do DataFrame cujo valor nessa coluna é igual ao da chave."
   ]
  },
  {
   "cell_type": "code",
   "execution_count": 69,
   "metadata": {},
   "outputs": [
    {
     "name": "stdout",
     "output_type": "stream",
     "text": [
      "<class 'dict'>\n"
     ]
    }
   ],
   "source": [
    "print(type(data_grouped.indices))\n",
    "#data_grouped.indices"
   ]
  },
  {
   "cell_type": "markdown",
   "metadata": {},
   "source": [
    "Neste exemplo, os índices 48, 108, 147, ... correspondem à Alemanha; os índices 33, 242, 267, ... correspondem à Austrália, os índices 6, 8, 28, ... ao Uruguai. Vamos verificar isso:"
   ]
  },
  {
   "cell_type": "code",
   "execution_count": 70,
   "metadata": {},
   "outputs": [
    {
     "data": {
      "text/plain": [
       "48     Alemania\n",
       "108    Alemania\n",
       "147    Alemania\n",
       "Name: pais_residencia_si_extranjero, dtype: object"
      ]
     },
     "execution_count": 70,
     "metadata": {},
     "output_type": "execute_result"
    }
   ],
   "source": [
    "data.pais_residencia_si_extranjero.loc[[48, 108, 147]]"
   ]
  },
  {
   "cell_type": "code",
   "execution_count": 71,
   "metadata": {},
   "outputs": [
    {
     "data": {
      "text/plain": [
       "33     Australia\n",
       "242    Australia\n",
       "267    Australia\n",
       "Name: pais_residencia_si_extranjero, dtype: object"
      ]
     },
     "execution_count": 71,
     "metadata": {},
     "output_type": "execute_result"
    }
   ],
   "source": [
    "data.pais_residencia_si_extranjero.loc[[33, 242, 267]]"
   ]
  },
  {
   "cell_type": "code",
   "execution_count": 72,
   "metadata": {},
   "outputs": [
    {
     "data": {
      "text/plain": [
       "6     Uruguay\n",
       "8     Uruguay\n",
       "28    Uruguay\n",
       "Name: pais_residencia_si_extranjero, dtype: object"
      ]
     },
     "execution_count": 72,
     "metadata": {},
     "output_type": "execute_result"
    }
   ],
   "source": [
    "data.pais_residencia_si_extranjero.loc[[ 6, 8, 28]]"
   ]
  },
  {
   "cell_type": "markdown",
   "metadata": {},
   "source": [
    "#### groups\n",
    "\n",
    "É semelhante a `index`, mas associando as chaves do groupby a objetos do tipo Index."
   ]
  },
  {
   "cell_type": "code",
   "execution_count": 73,
   "metadata": {},
   "outputs": [],
   "source": [
    "#data_grouped.groups"
   ]
  },
  {
   "cell_type": "markdown",
   "metadata": {},
   "source": [
    "### Groupby com dicionários e Series como chave\n",
    "\n",
    "Até agora vimos como definir uma ou mais colunas de um DataFrame como a key do groupby. Quando fazemos isso, estamos definindo para cada registro um rótulo (o valor do campo ou campos-chave nesse registro) que usaremos para determinar a qual grupo ele pertence.\n",
    "\n",
    "A seguir, veremos exemplos de Series e dicionários como chaves do groupby.\n",
    "\n",
    "Para agrupar usando uma instância de Series ou dicionário como chave, precisamos que os valores do índice da Series ou das chaves do dicionário sejam os mesmos do índice do DataFrame no qual queremos grupo.\n",
    "\n",
    "Vamos definir um dicionário que associa os países ao seu contêiner:"
   ]
  },
  {
   "cell_type": "code",
   "execution_count": 74,
   "metadata": {},
   "outputs": [],
   "source": [
    "pais_em_continente = {\n",
    "    'Chile': 'America', 'Francia': 'Europa', 'México': 'America', 'Colombia': 'America', \n",
    "    'Uruguay': 'America', 'Estados Unidos': 'America', 'España': 'Europa', 'Italia': 'Europa', \n",
    "    'India': 'Asia', 'Ecuador': 'America', 'Brasil': 'America',\n",
    "    'Australia': 'Oceania', 'Bolivia': 'America', 'Reino Unido': 'Europa', \n",
    "    'Alemania': 'Europa', 'Israel': 'Asia', 'China': 'Asia', \n",
    "    'Venezuela': 'America', 'Países Bajos': 'Europa', 'Canadá': 'America', 'Suiza': 'Europa', 'Turquía': 'Europa',\n",
    "    'Noruega': 'Europa', 'Corea del Sur': 'Asia', 'Polonia': 'Europa', 'Perú': 'America', 'Paraguay': 'America',\n",
    "    'Costa Rica': 'America', 'Japón': 'Asia', 'Marruecos': 'Africa', 'Bélgica': 'Europa', 'Malasia': 'Asia', \n",
    "    'Rusia': 'Europa', 'Sudáfrica': 'Africa', 'Nueva Zelanda': 'Oceania'        \n",
    "}"
   ]
  },
  {
   "cell_type": "markdown",
   "metadata": {},
   "source": [
    "Vamos atribuir como índice do DataFrame os valores do campo pais_residencia_si_extranjero, que coincidem com as chaves do dicionário que definimos acima."
   ]
  },
  {
   "cell_type": "code",
   "execution_count": 75,
   "metadata": {},
   "outputs": [],
   "source": [
    "data.index = data.pais_residencia_si_extranjero"
   ]
  },
  {
   "cell_type": "markdown",
   "metadata": {},
   "source": [
    "Vamos contar quantos turistas de cada continente solicitaram informações no posto de turismo."
   ]
  },
  {
   "cell_type": "code",
   "execution_count": 76,
   "metadata": {},
   "outputs": [
    {
     "data": {
      "text/plain": [
       "pais_residencia_si_extranjero\n",
       "America    1028\n",
       "Asia         38\n",
       "Europa      387\n",
       "Oceania      23\n",
       "Name: pasajeros, dtype: int64"
      ]
     },
     "execution_count": 76,
     "metadata": {},
     "output_type": "execute_result"
    }
   ],
   "source": [
    "data_grouped_continente = data.groupby(pais_em_continente)\n",
    "data_grouped_continente[\"pasajeros\"].sum()"
   ]
  },
  {
   "cell_type": "markdown",
   "metadata": {},
   "source": [
    "Da mesma forma, podemos indexar Series com dicionários:"
   ]
  },
  {
   "cell_type": "code",
   "execution_count": 77,
   "metadata": {},
   "outputs": [
    {
     "data": {
      "text/plain": [
       "pais_residencia_si_extranjero\n",
       "America    1028\n",
       "Asia         38\n",
       "Europa      387\n",
       "Oceania      23\n",
       "Name: pasajeros, dtype: int64"
      ]
     },
     "execution_count": 77,
     "metadata": {},
     "output_type": "execute_result"
    }
   ],
   "source": [
    "# criamos a série\n",
    "serie_passageiros = data.pasajeros\n",
    "\n",
    "# atribuímos como índice o valor do campo pais_residencia_si_extranjero para esse registro\n",
    "serie_passageiros.index = data.pais_residencia_si_extranjero\n",
    "\n",
    "# agrupamos e somamos\n",
    "serie_passageiros.groupby(pais_em_continente).sum()"
   ]
  },
  {
   "cell_type": "markdown",
   "metadata": {},
   "source": [
    "Agora queremos indexar um DataFrame com um objeto Series.\n",
    "\n",
    "Vamos transformar o dicionário pais_en_continente em uma instância Series e usá-lo para indexar."
   ]
  },
  {
   "cell_type": "code",
   "execution_count": 78,
   "metadata": {},
   "outputs": [
    {
     "data": {
      "text/plain": [
       "Chile             America\n",
       "Francia            Europa\n",
       "México            America\n",
       "Colombia          America\n",
       "Uruguay           America\n",
       "Estados Unidos    America\n",
       "España             Europa\n",
       "Italia             Europa\n",
       "India                Asia\n",
       "Ecuador           America\n",
       "Brasil            America\n",
       "Australia         Oceania\n",
       "Bolivia           America\n",
       "Reino Unido        Europa\n",
       "Alemania           Europa\n",
       "Israel               Asia\n",
       "China                Asia\n",
       "Venezuela         America\n",
       "Países Bajos       Europa\n",
       "Canadá            America\n",
       "Suiza              Europa\n",
       "Turquía            Europa\n",
       "Noruega            Europa\n",
       "Corea del Sur        Asia\n",
       "Polonia            Europa\n",
       "Perú              America\n",
       "Paraguay          America\n",
       "Costa Rica        America\n",
       "Japón                Asia\n",
       "Marruecos          Africa\n",
       "Bélgica            Europa\n",
       "Malasia              Asia\n",
       "Rusia              Europa\n",
       "Sudáfrica          Africa\n",
       "Nueva Zelanda     Oceania\n",
       "dtype: object"
      ]
     },
     "execution_count": 78,
     "metadata": {},
     "output_type": "execute_result"
    }
   ],
   "source": [
    "pais_em_continente_serie = pd.Series(pais_em_continente)\n",
    "pais_em_continente_serie"
   ]
  },
  {
   "cell_type": "code",
   "execution_count": 79,
   "metadata": {},
   "outputs": [
    {
     "data": {
      "text/plain": [
       "America    1028\n",
       "Asia         38\n",
       "Europa      387\n",
       "Oceania      23\n",
       "Name: pasajeros, dtype: int64"
      ]
     },
     "execution_count": 79,
     "metadata": {},
     "output_type": "execute_result"
    }
   ],
   "source": [
    "data.index = data.pais_residencia_si_extranjero\n",
    "data_grouped_continente_2 = data.groupby(pais_em_continente_serie)\n",
    "data_grouped_continente_2[\"pasajeros\"].sum()"
   ]
  },
  {
   "cell_type": "markdown",
   "metadata": {},
   "source": [
    "## Groupby com funções\n",
    "\n",
    "Qualquer função que passarmos como uma chave de grupo será chamada uma vez para cada valor do índice e o resultado será o nome do grupo.\n",
    "\n",
    "Vejamos um exemplo:"
   ]
  },
  {
   "cell_type": "markdown",
   "metadata": {},
   "source": [
    "Definimos uma função que, dada uma string que representa um país, retorna o nome do contêiner daquele país:"
   ]
  },
  {
   "cell_type": "code",
   "execution_count": 80,
   "metadata": {},
   "outputs": [],
   "source": [
    "def get_continente(pais):\n",
    "    pais_em_continente = {\n",
    "    'Chile': 'America', 'Francia': 'Europa', 'México': 'America', 'Colombia': 'America', \n",
    "    'Uruguay': 'America', 'Estados Unidos': 'America', 'España': 'Europa', 'Italia': 'Europa', \n",
    "    'India': 'Asia', 'Ecuador': 'America', 'Brasil': 'America',\n",
    "    'Australia': 'Oceania', 'Bolivia': 'America', 'Reino Unido': 'Europa', \n",
    "    'Alemania': 'Europa', 'Israel': 'Asia', 'China': 'Asia', \n",
    "    'Venezuela': 'America', 'Países Bajos': 'Europa', 'Canadá': 'America', 'Suiza': 'Europa', 'Turquía': 'Europa',\n",
    "    'Noruega': 'Europa', 'Corea del Sur': 'Asia', 'Polonia': 'Europa', 'Perú': 'America', 'Paraguay': 'America',\n",
    "    'Costa Rica': 'America', 'Japón': 'Asia', 'Marruecos': 'Africa', 'Bélgica': 'Europa', 'Malasia': 'Asia', \n",
    "    'Rusia': 'Europa', 'Sudáfrica': 'Africa', 'Nueva Zelanda': 'Oceania'}\n",
    "    if pais in pais_em_continente:\n",
    "        result = pais_em_continente[pais]\n",
    "    else:\n",
    "        result = \"desconocido\"\n",
    "    return result\n",
    "    "
   ]
  },
  {
   "cell_type": "markdown",
   "metadata": {},
   "source": [
    "Repetimos o exercício anterior agrupando com esta função.\n",
    "\n",
    "Lembre-se que **a função que é a chave do groupby recebe como argumento o valor do índice de cada registro** quando axis = 0 (que é o valor padrão do eixo) e recebe o valor da coluna quando axis = 1.\n",
    "\n",
    "Em todos os exercícios desta prática, agrupamos por linhas (axis = 0), mas a mesma lógica se aplica se quisermos agrupar por colunas."
   ]
  },
  {
   "cell_type": "code",
   "execution_count": 81,
   "metadata": {},
   "outputs": [
    {
     "name": "stderr",
     "output_type": "stream",
     "text": [
      "C:\\Users\\costa\\AppData\\Local\\Temp\\ipykernel_26296\\3354891323.py:2: FutureWarning: The 'axis' keyword in DataFrame.groupby is deprecated and will be removed in a future version.\n",
      "  data_grouped_func = data.groupby(get_continente, axis = 0)\n"
     ]
    },
    {
     "data": {
      "text/plain": [
       "pais_residencia_si_extranjero\n",
       "America        1028\n",
       "Asia             38\n",
       "Europa          387\n",
       "Oceania          23\n",
       "desconocido     747\n",
       "Name: pasajeros, dtype: int64"
      ]
     },
     "execution_count": 81,
     "metadata": {},
     "output_type": "execute_result"
    }
   ],
   "source": [
    "data.index = data.pais_residencia_si_extranjero\n",
    "data_grouped_func = data.groupby(get_continente, axis = 0)\n",
    "data_grouped_func[\"pasajeros\"].sum()"
   ]
  },
  {
   "cell_type": "markdown",
   "metadata": {},
   "source": [
    "## Que operações podemos fazer em grupos?"
   ]
  },
  {
   "cell_type": "code",
   "execution_count": 82,
   "metadata": {},
   "outputs": [],
   "source": [
    "# redefinimos o índice de dados, que modificamos nos exercícios anteriores\n",
    "\n",
    "data = data.reset_index(drop = True)\n",
    "data_grouped = data.groupby('pais_residencia_si_extranjero')"
   ]
  },
  {
   "cell_type": "markdown",
   "metadata": {},
   "source": [
    "### Estatísticas descritivas sobre grupos\n",
    "\n",
    "Vamos calcular o número de turistas de cada país que solicitaram informações.\n",
    "\n",
    "Para tanto vamos selecionar a coluna `passageiros` do objeto [`DataFrameGroupBy`](https://pandas.pydata.org/pandas-docs/stable/reference/groupby.html#computations-descriptive-stats) e adicionar esse campo nos registros que compõem cada grupo."
   ]
  },
  {
   "cell_type": "code",
   "execution_count": 83,
   "metadata": {},
   "outputs": [
    {
     "name": "stdout",
     "output_type": "stream",
     "text": [
      "<class 'pandas.core.series.Series'>\n"
     ]
    },
    {
     "data": {
      "text/plain": [
       "pais_residencia_si_extranjero\n",
       "Alemania                                     52\n",
       "Australia                                    23\n",
       "Bolivia                                      28\n",
       "Brasil                                      501\n",
       "Canadá                                       12\n",
       "Chile                                        65\n",
       "China                                        20\n",
       "Colombia                                    161\n",
       "Corea del Sur                                 1\n",
       "Costa Rica                                   10\n",
       "Ecuador                                      19\n",
       "España                                      118\n",
       "Estados Unidos                              101\n",
       "Francia                                      82\n",
       "India                                         4\n",
       "Israel                                       11\n",
       "Italia                                       55\n",
       "Japón                                         2\n",
       "México                                       25\n",
       "Noruega                                      10\n",
       "Otro país de residencia si es extranjero      9\n",
       "Paraguay                                     15\n",
       "Países Bajos                                  6\n",
       "Perú                                         26\n",
       "Polonia                                       3\n",
       "Reino Unido                                  50\n",
       "Suiza                                         6\n",
       "Turquía                                       5\n",
       "Uruguay                                      39\n",
       "Venezuela                                    26\n",
       "Name: pasajeros, dtype: int64"
      ]
     },
     "execution_count": 83,
     "metadata": {},
     "output_type": "execute_result"
    }
   ],
   "source": [
    "sum_por_pais = data_grouped[\"pasajeros\"].sum()\n",
    "print(type(sum_por_pais))\n",
    "sum_por_pais"
   ]
  },
  {
   "cell_type": "markdown",
   "metadata": {},
   "source": [
    "Vemos que o resultado é um objeto do tipo Series e seu índice são os valores únicos do campo que usamos como a chave do groupby.\n",
    "\n",
    "Agora queremos ver um ranking dos países com base no número de turistas que visitam a cidade de Buenos Aires. Para isso ordenamos a série resultante do ponto anterior do maior para o menor, usando o método [`pandas.Series.sort_values()`](https://pandas.pydata.org/pandas-docs/stable/reference/api/pandas.Series.sort_values.html)."
   ]
  },
  {
   "cell_type": "code",
   "execution_count": 84,
   "metadata": {},
   "outputs": [
    {
     "data": {
      "text/plain": [
       "pais_residencia_si_extranjero\n",
       "Brasil                                      501\n",
       "Colombia                                    161\n",
       "España                                      118\n",
       "Estados Unidos                              101\n",
       "Francia                                      82\n",
       "Chile                                        65\n",
       "Italia                                       55\n",
       "Alemania                                     52\n",
       "Reino Unido                                  50\n",
       "Uruguay                                      39\n",
       "Bolivia                                      28\n",
       "Perú                                         26\n",
       "Venezuela                                    26\n",
       "México                                       25\n",
       "Australia                                    23\n",
       "China                                        20\n",
       "Ecuador                                      19\n",
       "Paraguay                                     15\n",
       "Canadá                                       12\n",
       "Israel                                       11\n",
       "Noruega                                      10\n",
       "Costa Rica                                   10\n",
       "Otro país de residencia si es extranjero      9\n",
       "Países Bajos                                  6\n",
       "Suiza                                         6\n",
       "Turquía                                       5\n",
       "India                                         4\n",
       "Polonia                                       3\n",
       "Japón                                         2\n",
       "Corea del Sur                                 1\n",
       "Name: pasajeros, dtype: int64"
      ]
     },
     "execution_count": 84,
     "metadata": {},
     "output_type": "execute_result"
    }
   ],
   "source": [
    "sum_por_pais_sorted = sum_por_pais.sort_values(ascending = False)\n",
    "sum_por_pais_sorted"
   ]
  },
  {
   "cell_type": "markdown",
   "metadata": {},
   "source": [
    "Calculemos agora a média e o desvio padrão das dormidas por país.\n",
    "\n",
    "Já calculamos groupby por país e atribuímos à variável [`data_grouped`](https://realpython.com/pandas-groupby/), selecionamos o campo pernoites e calculamos essas medidas.\n",
    "\n",
    "- [`pandas.core.groupby.GroupBy.mean()`](https://pandas.pydata.org/pandas-docs/stable/reference/api/pandas.core.groupby.GroupBy.mean.html#pandas.core.groupby.GroupBy.mean)\n",
    "\n",
    "- [`pandas.core.groupby.GroupBy.std()`](https://pandas.pydata.org/pandas-docs/stable/reference/api/pandas.core.groupby.GroupBy.std.html#pandas.core.groupby.GroupBy.std)\n",
    "\n",
    "Também podemos usar [`pandas.core.groupby.DataFrameGroupBy.describe()`](https://pandas.pydata.org/pandas-docs/stable/reference/api/pandas.core.groupby.DataFrameGroupBy.describe.html) sobre os grupos."
   ]
  },
  {
   "cell_type": "code",
   "execution_count": 85,
   "metadata": {},
   "outputs": [
    {
     "data": {
      "text/plain": [
       "pais_residencia_si_extranjero\n",
       "Alemania                                     4.600000\n",
       "Australia                                    3.666667\n",
       "Bolivia                                     40.400000\n",
       "Brasil                                       4.696970\n",
       "Canadá                                      25.500000\n",
       "Chile                                        4.083333\n",
       "China                                        5.000000\n",
       "Colombia                                     6.000000\n",
       "Corea del Sur                                     NaN\n",
       "Costa Rica                                   5.500000\n",
       "Ecuador                                      5.500000\n",
       "España                                       4.428571\n",
       "Estados Unidos                               4.800000\n",
       "Francia                                      4.466667\n",
       "India                                        3.000000\n",
       "Israel                                       2.500000\n",
       "Italia                                       4.400000\n",
       "Japón                                             NaN\n",
       "México                                       4.800000\n",
       "Noruega                                           NaN\n",
       "Otro país de residencia si es extranjero     3.666667\n",
       "Paraguay                                     3.000000\n",
       "Países Bajos                                 3.000000\n",
       "Perú                                         5.250000\n",
       "Polonia                                      4.000000\n",
       "Reino Unido                                  3.750000\n",
       "Suiza                                        4.000000\n",
       "Turquía                                           NaN\n",
       "Uruguay                                      2.000000\n",
       "Venezuela                                    5.000000\n",
       "Name: pernoctaciones, dtype: float64"
      ]
     },
     "execution_count": 85,
     "metadata": {},
     "output_type": "execute_result"
    }
   ],
   "source": [
    "data_grouped[\"pernoctaciones\"].mean()"
   ]
  },
  {
   "cell_type": "code",
   "execution_count": 86,
   "metadata": {},
   "outputs": [
    {
     "data": {
      "text/plain": [
       "pais_residencia_si_extranjero\n",
       "Alemania                                     2.319004\n",
       "Australia                                    1.154701\n",
       "Bolivia                                     78.082008\n",
       "Brasil                                       2.287743\n",
       "Canadá                                      43.023250\n",
       "Chile                                        1.880925\n",
       "China                                             NaN\n",
       "Colombia                                     2.904270\n",
       "Corea del Sur                                     NaN\n",
       "Costa Rica                                   0.707107\n",
       "Ecuador                                      0.707107\n",
       "España                                       1.776835\n",
       "Estados Unidos                               4.538722\n",
       "Francia                                      1.684665\n",
       "India                                             NaN\n",
       "Israel                                       2.886751\n",
       "Italia                                       1.298351\n",
       "Japón                                             NaN\n",
       "México                                       2.774887\n",
       "Noruega                                           NaN\n",
       "Otro país de residencia si es extranjero     2.250926\n",
       "Paraguay                                     0.816497\n",
       "Países Bajos                                      NaN\n",
       "Perú                                         4.787136\n",
       "Polonia                                           NaN\n",
       "Reino Unido                                  1.707825\n",
       "Suiza                                        0.000000\n",
       "Turquía                                           NaN\n",
       "Uruguay                                      2.000000\n",
       "Venezuela                                    1.527525\n",
       "Name: pernoctaciones, dtype: float64"
      ]
     },
     "execution_count": 86,
     "metadata": {},
     "output_type": "execute_result"
    }
   ],
   "source": [
    "data_grouped[\"pernoctaciones\"].std()"
   ]
  },
  {
   "cell_type": "code",
   "execution_count": 87,
   "metadata": {},
   "outputs": [
    {
     "data": {
      "text/html": [
       "<div>\n",
       "<style scoped>\n",
       "    .dataframe tbody tr th:only-of-type {\n",
       "        vertical-align: middle;\n",
       "    }\n",
       "\n",
       "    .dataframe tbody tr th {\n",
       "        vertical-align: top;\n",
       "    }\n",
       "\n",
       "    .dataframe thead th {\n",
       "        text-align: right;\n",
       "    }\n",
       "</style>\n",
       "<table border=\"1\" class=\"dataframe\">\n",
       "  <thead>\n",
       "    <tr style=\"text-align: right;\">\n",
       "      <th></th>\n",
       "      <th>count</th>\n",
       "      <th>mean</th>\n",
       "      <th>std</th>\n",
       "      <th>min</th>\n",
       "      <th>25%</th>\n",
       "      <th>50%</th>\n",
       "      <th>75%</th>\n",
       "      <th>max</th>\n",
       "    </tr>\n",
       "    <tr>\n",
       "      <th>pais_residencia_si_extranjero</th>\n",
       "      <th></th>\n",
       "      <th></th>\n",
       "      <th></th>\n",
       "      <th></th>\n",
       "      <th></th>\n",
       "      <th></th>\n",
       "      <th></th>\n",
       "      <th></th>\n",
       "    </tr>\n",
       "  </thead>\n",
       "  <tbody>\n",
       "    <tr>\n",
       "      <th>Alemania</th>\n",
       "      <td>10.0</td>\n",
       "      <td>4.600000</td>\n",
       "      <td>2.319004</td>\n",
       "      <td>2.0</td>\n",
       "      <td>3.25</td>\n",
       "      <td>4.5</td>\n",
       "      <td>5.00</td>\n",
       "      <td>10.0</td>\n",
       "    </tr>\n",
       "    <tr>\n",
       "      <th>Australia</th>\n",
       "      <td>3.0</td>\n",
       "      <td>3.666667</td>\n",
       "      <td>1.154701</td>\n",
       "      <td>3.0</td>\n",
       "      <td>3.00</td>\n",
       "      <td>3.0</td>\n",
       "      <td>4.00</td>\n",
       "      <td>5.0</td>\n",
       "    </tr>\n",
       "    <tr>\n",
       "      <th>Bolivia</th>\n",
       "      <td>5.0</td>\n",
       "      <td>40.400000</td>\n",
       "      <td>78.082008</td>\n",
       "      <td>2.0</td>\n",
       "      <td>4.00</td>\n",
       "      <td>8.0</td>\n",
       "      <td>8.00</td>\n",
       "      <td>180.0</td>\n",
       "    </tr>\n",
       "    <tr>\n",
       "      <th>Brasil</th>\n",
       "      <td>99.0</td>\n",
       "      <td>4.696970</td>\n",
       "      <td>2.287743</td>\n",
       "      <td>1.0</td>\n",
       "      <td>3.00</td>\n",
       "      <td>5.0</td>\n",
       "      <td>6.00</td>\n",
       "      <td>15.0</td>\n",
       "    </tr>\n",
       "    <tr>\n",
       "      <th>Canadá</th>\n",
       "      <td>4.0</td>\n",
       "      <td>25.500000</td>\n",
       "      <td>43.023250</td>\n",
       "      <td>3.0</td>\n",
       "      <td>3.00</td>\n",
       "      <td>4.5</td>\n",
       "      <td>27.00</td>\n",
       "      <td>90.0</td>\n",
       "    </tr>\n",
       "    <tr>\n",
       "      <th>Chile</th>\n",
       "      <td>12.0</td>\n",
       "      <td>4.083333</td>\n",
       "      <td>1.880925</td>\n",
       "      <td>1.0</td>\n",
       "      <td>3.00</td>\n",
       "      <td>4.0</td>\n",
       "      <td>5.25</td>\n",
       "      <td>7.0</td>\n",
       "    </tr>\n",
       "    <tr>\n",
       "      <th>China</th>\n",
       "      <td>1.0</td>\n",
       "      <td>5.000000</td>\n",
       "      <td>NaN</td>\n",
       "      <td>5.0</td>\n",
       "      <td>5.00</td>\n",
       "      <td>5.0</td>\n",
       "      <td>5.00</td>\n",
       "      <td>5.0</td>\n",
       "    </tr>\n",
       "    <tr>\n",
       "      <th>Colombia</th>\n",
       "      <td>24.0</td>\n",
       "      <td>6.000000</td>\n",
       "      <td>2.904270</td>\n",
       "      <td>2.0</td>\n",
       "      <td>4.00</td>\n",
       "      <td>5.5</td>\n",
       "      <td>7.00</td>\n",
       "      <td>15.0</td>\n",
       "    </tr>\n",
       "    <tr>\n",
       "      <th>Corea del Sur</th>\n",
       "      <td>0.0</td>\n",
       "      <td>NaN</td>\n",
       "      <td>NaN</td>\n",
       "      <td>NaN</td>\n",
       "      <td>NaN</td>\n",
       "      <td>NaN</td>\n",
       "      <td>NaN</td>\n",
       "      <td>NaN</td>\n",
       "    </tr>\n",
       "    <tr>\n",
       "      <th>Costa Rica</th>\n",
       "      <td>2.0</td>\n",
       "      <td>5.500000</td>\n",
       "      <td>0.707107</td>\n",
       "      <td>5.0</td>\n",
       "      <td>5.25</td>\n",
       "      <td>5.5</td>\n",
       "      <td>5.75</td>\n",
       "      <td>6.0</td>\n",
       "    </tr>\n",
       "    <tr>\n",
       "      <th>Ecuador</th>\n",
       "      <td>2.0</td>\n",
       "      <td>5.500000</td>\n",
       "      <td>0.707107</td>\n",
       "      <td>5.0</td>\n",
       "      <td>5.25</td>\n",
       "      <td>5.5</td>\n",
       "      <td>5.75</td>\n",
       "      <td>6.0</td>\n",
       "    </tr>\n",
       "    <tr>\n",
       "      <th>España</th>\n",
       "      <td>21.0</td>\n",
       "      <td>4.428571</td>\n",
       "      <td>1.776835</td>\n",
       "      <td>2.0</td>\n",
       "      <td>3.00</td>\n",
       "      <td>5.0</td>\n",
       "      <td>5.00</td>\n",
       "      <td>8.0</td>\n",
       "    </tr>\n",
       "    <tr>\n",
       "      <th>Estados Unidos</th>\n",
       "      <td>15.0</td>\n",
       "      <td>4.800000</td>\n",
       "      <td>4.538722</td>\n",
       "      <td>1.0</td>\n",
       "      <td>2.00</td>\n",
       "      <td>4.0</td>\n",
       "      <td>5.50</td>\n",
       "      <td>20.0</td>\n",
       "    </tr>\n",
       "    <tr>\n",
       "      <th>Francia</th>\n",
       "      <td>15.0</td>\n",
       "      <td>4.466667</td>\n",
       "      <td>1.684665</td>\n",
       "      <td>2.0</td>\n",
       "      <td>3.00</td>\n",
       "      <td>5.0</td>\n",
       "      <td>5.50</td>\n",
       "      <td>8.0</td>\n",
       "    </tr>\n",
       "    <tr>\n",
       "      <th>India</th>\n",
       "      <td>1.0</td>\n",
       "      <td>3.000000</td>\n",
       "      <td>NaN</td>\n",
       "      <td>3.0</td>\n",
       "      <td>3.00</td>\n",
       "      <td>3.0</td>\n",
       "      <td>3.00</td>\n",
       "      <td>3.0</td>\n",
       "    </tr>\n",
       "    <tr>\n",
       "      <th>Israel</th>\n",
       "      <td>4.0</td>\n",
       "      <td>2.500000</td>\n",
       "      <td>2.886751</td>\n",
       "      <td>0.0</td>\n",
       "      <td>0.00</td>\n",
       "      <td>2.5</td>\n",
       "      <td>5.00</td>\n",
       "      <td>5.0</td>\n",
       "    </tr>\n",
       "    <tr>\n",
       "      <th>Italia</th>\n",
       "      <td>15.0</td>\n",
       "      <td>4.400000</td>\n",
       "      <td>1.298351</td>\n",
       "      <td>3.0</td>\n",
       "      <td>3.00</td>\n",
       "      <td>4.0</td>\n",
       "      <td>5.00</td>\n",
       "      <td>7.0</td>\n",
       "    </tr>\n",
       "    <tr>\n",
       "      <th>Japón</th>\n",
       "      <td>0.0</td>\n",
       "      <td>NaN</td>\n",
       "      <td>NaN</td>\n",
       "      <td>NaN</td>\n",
       "      <td>NaN</td>\n",
       "      <td>NaN</td>\n",
       "      <td>NaN</td>\n",
       "      <td>NaN</td>\n",
       "    </tr>\n",
       "    <tr>\n",
       "      <th>México</th>\n",
       "      <td>5.0</td>\n",
       "      <td>4.800000</td>\n",
       "      <td>2.774887</td>\n",
       "      <td>0.0</td>\n",
       "      <td>5.00</td>\n",
       "      <td>6.0</td>\n",
       "      <td>6.00</td>\n",
       "      <td>7.0</td>\n",
       "    </tr>\n",
       "    <tr>\n",
       "      <th>Noruega</th>\n",
       "      <td>0.0</td>\n",
       "      <td>NaN</td>\n",
       "      <td>NaN</td>\n",
       "      <td>NaN</td>\n",
       "      <td>NaN</td>\n",
       "      <td>NaN</td>\n",
       "      <td>NaN</td>\n",
       "      <td>NaN</td>\n",
       "    </tr>\n",
       "    <tr>\n",
       "      <th>Otro país de residencia si es extranjero</th>\n",
       "      <td>6.0</td>\n",
       "      <td>3.666667</td>\n",
       "      <td>2.250926</td>\n",
       "      <td>0.0</td>\n",
       "      <td>3.00</td>\n",
       "      <td>3.5</td>\n",
       "      <td>5.50</td>\n",
       "      <td>6.0</td>\n",
       "    </tr>\n",
       "    <tr>\n",
       "      <th>Paraguay</th>\n",
       "      <td>4.0</td>\n",
       "      <td>3.000000</td>\n",
       "      <td>0.816497</td>\n",
       "      <td>2.0</td>\n",
       "      <td>2.75</td>\n",
       "      <td>3.0</td>\n",
       "      <td>3.25</td>\n",
       "      <td>4.0</td>\n",
       "    </tr>\n",
       "    <tr>\n",
       "      <th>Países Bajos</th>\n",
       "      <td>1.0</td>\n",
       "      <td>3.000000</td>\n",
       "      <td>NaN</td>\n",
       "      <td>3.0</td>\n",
       "      <td>3.00</td>\n",
       "      <td>3.0</td>\n",
       "      <td>3.00</td>\n",
       "      <td>3.0</td>\n",
       "    </tr>\n",
       "    <tr>\n",
       "      <th>Perú</th>\n",
       "      <td>4.0</td>\n",
       "      <td>5.250000</td>\n",
       "      <td>4.787136</td>\n",
       "      <td>0.0</td>\n",
       "      <td>2.25</td>\n",
       "      <td>5.0</td>\n",
       "      <td>8.00</td>\n",
       "      <td>11.0</td>\n",
       "    </tr>\n",
       "    <tr>\n",
       "      <th>Polonia</th>\n",
       "      <td>1.0</td>\n",
       "      <td>4.000000</td>\n",
       "      <td>NaN</td>\n",
       "      <td>4.0</td>\n",
       "      <td>4.00</td>\n",
       "      <td>4.0</td>\n",
       "      <td>4.00</td>\n",
       "      <td>4.0</td>\n",
       "    </tr>\n",
       "    <tr>\n",
       "      <th>Reino Unido</th>\n",
       "      <td>4.0</td>\n",
       "      <td>3.750000</td>\n",
       "      <td>1.707825</td>\n",
       "      <td>2.0</td>\n",
       "      <td>2.75</td>\n",
       "      <td>3.5</td>\n",
       "      <td>4.50</td>\n",
       "      <td>6.0</td>\n",
       "    </tr>\n",
       "    <tr>\n",
       "      <th>Suiza</th>\n",
       "      <td>2.0</td>\n",
       "      <td>4.000000</td>\n",
       "      <td>0.000000</td>\n",
       "      <td>4.0</td>\n",
       "      <td>4.00</td>\n",
       "      <td>4.0</td>\n",
       "      <td>4.00</td>\n",
       "      <td>4.0</td>\n",
       "    </tr>\n",
       "    <tr>\n",
       "      <th>Turquía</th>\n",
       "      <td>0.0</td>\n",
       "      <td>NaN</td>\n",
       "      <td>NaN</td>\n",
       "      <td>NaN</td>\n",
       "      <td>NaN</td>\n",
       "      <td>NaN</td>\n",
       "      <td>NaN</td>\n",
       "      <td>NaN</td>\n",
       "    </tr>\n",
       "    <tr>\n",
       "      <th>Uruguay</th>\n",
       "      <td>3.0</td>\n",
       "      <td>2.000000</td>\n",
       "      <td>2.000000</td>\n",
       "      <td>0.0</td>\n",
       "      <td>1.00</td>\n",
       "      <td>2.0</td>\n",
       "      <td>3.00</td>\n",
       "      <td>4.0</td>\n",
       "    </tr>\n",
       "    <tr>\n",
       "      <th>Venezuela</th>\n",
       "      <td>7.0</td>\n",
       "      <td>5.000000</td>\n",
       "      <td>1.527525</td>\n",
       "      <td>3.0</td>\n",
       "      <td>4.00</td>\n",
       "      <td>5.0</td>\n",
       "      <td>6.00</td>\n",
       "      <td>7.0</td>\n",
       "    </tr>\n",
       "  </tbody>\n",
       "</table>\n",
       "</div>"
      ],
      "text/plain": [
       "                                          count       mean        std  min  \\\n",
       "pais_residencia_si_extranjero                                                \n",
       "Alemania                                   10.0   4.600000   2.319004  2.0   \n",
       "Australia                                   3.0   3.666667   1.154701  3.0   \n",
       "Bolivia                                     5.0  40.400000  78.082008  2.0   \n",
       "Brasil                                     99.0   4.696970   2.287743  1.0   \n",
       "Canadá                                      4.0  25.500000  43.023250  3.0   \n",
       "Chile                                      12.0   4.083333   1.880925  1.0   \n",
       "China                                       1.0   5.000000        NaN  5.0   \n",
       "Colombia                                   24.0   6.000000   2.904270  2.0   \n",
       "Corea del Sur                               0.0        NaN        NaN  NaN   \n",
       "Costa Rica                                  2.0   5.500000   0.707107  5.0   \n",
       "Ecuador                                     2.0   5.500000   0.707107  5.0   \n",
       "España                                     21.0   4.428571   1.776835  2.0   \n",
       "Estados Unidos                             15.0   4.800000   4.538722  1.0   \n",
       "Francia                                    15.0   4.466667   1.684665  2.0   \n",
       "India                                       1.0   3.000000        NaN  3.0   \n",
       "Israel                                      4.0   2.500000   2.886751  0.0   \n",
       "Italia                                     15.0   4.400000   1.298351  3.0   \n",
       "Japón                                       0.0        NaN        NaN  NaN   \n",
       "México                                      5.0   4.800000   2.774887  0.0   \n",
       "Noruega                                     0.0        NaN        NaN  NaN   \n",
       "Otro país de residencia si es extranjero    6.0   3.666667   2.250926  0.0   \n",
       "Paraguay                                    4.0   3.000000   0.816497  2.0   \n",
       "Países Bajos                                1.0   3.000000        NaN  3.0   \n",
       "Perú                                        4.0   5.250000   4.787136  0.0   \n",
       "Polonia                                     1.0   4.000000        NaN  4.0   \n",
       "Reino Unido                                 4.0   3.750000   1.707825  2.0   \n",
       "Suiza                                       2.0   4.000000   0.000000  4.0   \n",
       "Turquía                                     0.0        NaN        NaN  NaN   \n",
       "Uruguay                                     3.0   2.000000   2.000000  0.0   \n",
       "Venezuela                                   7.0   5.000000   1.527525  3.0   \n",
       "\n",
       "                                           25%  50%    75%    max  \n",
       "pais_residencia_si_extranjero                                      \n",
       "Alemania                                  3.25  4.5   5.00   10.0  \n",
       "Australia                                 3.00  3.0   4.00    5.0  \n",
       "Bolivia                                   4.00  8.0   8.00  180.0  \n",
       "Brasil                                    3.00  5.0   6.00   15.0  \n",
       "Canadá                                    3.00  4.5  27.00   90.0  \n",
       "Chile                                     3.00  4.0   5.25    7.0  \n",
       "China                                     5.00  5.0   5.00    5.0  \n",
       "Colombia                                  4.00  5.5   7.00   15.0  \n",
       "Corea del Sur                              NaN  NaN    NaN    NaN  \n",
       "Costa Rica                                5.25  5.5   5.75    6.0  \n",
       "Ecuador                                   5.25  5.5   5.75    6.0  \n",
       "España                                    3.00  5.0   5.00    8.0  \n",
       "Estados Unidos                            2.00  4.0   5.50   20.0  \n",
       "Francia                                   3.00  5.0   5.50    8.0  \n",
       "India                                     3.00  3.0   3.00    3.0  \n",
       "Israel                                    0.00  2.5   5.00    5.0  \n",
       "Italia                                    3.00  4.0   5.00    7.0  \n",
       "Japón                                      NaN  NaN    NaN    NaN  \n",
       "México                                    5.00  6.0   6.00    7.0  \n",
       "Noruega                                    NaN  NaN    NaN    NaN  \n",
       "Otro país de residencia si es extranjero  3.00  3.5   5.50    6.0  \n",
       "Paraguay                                  2.75  3.0   3.25    4.0  \n",
       "Países Bajos                              3.00  3.0   3.00    3.0  \n",
       "Perú                                      2.25  5.0   8.00   11.0  \n",
       "Polonia                                   4.00  4.0   4.00    4.0  \n",
       "Reino Unido                               2.75  3.5   4.50    6.0  \n",
       "Suiza                                     4.00  4.0   4.00    4.0  \n",
       "Turquía                                    NaN  NaN    NaN    NaN  \n",
       "Uruguay                                   1.00  2.0   3.00    4.0  \n",
       "Venezuela                                 4.00  5.0   6.00    7.0  "
      ]
     },
     "execution_count": 87,
     "metadata": {},
     "output_type": "execute_result"
    }
   ],
   "source": [
    "data_grouped[\"pernoctaciones\"].describe()"
   ]
  },
  {
   "cell_type": "markdown",
   "metadata": {},
   "source": [
    "### Índices hierárquicos\n",
    "\n",
    "Podemos agrupar por mais de um campo, e o resultado será uma Series ou DataFrame com um índice hierárquico definido pelos campos-chave do agrupamento.\n",
    "\n",
    "Vamos ver como o número de turistas é distribuído por país de residência por bairro."
   ]
  },
  {
   "cell_type": "code",
   "execution_count": 88,
   "metadata": {},
   "outputs": [
    {
     "data": {
      "text/plain": [
       "pais_residencia_si_extranjero  barrio       \n",
       "Alemania                       PUERTO MADERO    11\n",
       "                               RECOLETA          4\n",
       "                               RETIRO            2\n",
       "                               SAN NICOLAS      35\n",
       "Australia                      PUERTO MADERO     3\n",
       "                                                ..\n",
       "Uruguay                        RETIRO            1\n",
       "                               SAN NICOLAS      32\n",
       "Venezuela                      PALERMO           2\n",
       "                               PUERTO MADERO     8\n",
       "                               SAN NICOLAS      16\n",
       "Name: pasajeros, Length: 99, dtype: int64"
      ]
     },
     "execution_count": 88,
     "metadata": {},
     "output_type": "execute_result"
    }
   ],
   "source": [
    "data_grouped_pais_bairro = data.groupby([\"pais_residencia_si_extranjero\", \"barrio\"])\n",
    "quantidade_pasajeros_pais_bairro = data_grouped_pais_bairro[\"pasajeros\"].sum()\n",
    "quantidade_pasajeros_pais_bairro"
   ]
  },
  {
   "cell_type": "markdown",
   "metadata": {},
   "source": [
    "Vemos que o índice do objeto Result Series possui dois níveis. Se quisermos ver como foi definido:"
   ]
  },
  {
   "cell_type": "code",
   "execution_count": 89,
   "metadata": {},
   "outputs": [
    {
     "data": {
      "text/plain": [
       "MultiIndex([(                                'Alemania', 'PUERTO MADERO'),\n",
       "            (                                'Alemania',      'RECOLETA'),\n",
       "            (                                'Alemania',        'RETIRO'),\n",
       "            (                                'Alemania',   'SAN NICOLAS'),\n",
       "            (                               'Australia', 'PUERTO MADERO'),\n",
       "            (                               'Australia',      'RECOLETA'),\n",
       "            (                               'Australia',   'SAN NICOLAS'),\n",
       "            (                                 'Bolivia', 'PUERTO MADERO'),\n",
       "            (                                 'Bolivia',        'RETIRO'),\n",
       "            (                                 'Bolivia',   'SAN NICOLAS'),\n",
       "            (                                  'Brasil',          'BOCA'),\n",
       "            (                                  'Brasil',       'PALERMO'),\n",
       "            (                                  'Brasil', 'PUERTO MADERO'),\n",
       "            (                                  'Brasil',      'RECOLETA'),\n",
       "            (                                  'Brasil',        'RETIRO'),\n",
       "            (                                  'Brasil',   'SAN NICOLAS'),\n",
       "            (                                  'Canadá',        'RETIRO'),\n",
       "            (                                  'Canadá',   'SAN NICOLAS'),\n",
       "            (                                   'Chile',       'PALERMO'),\n",
       "            (                                   'Chile', 'PUERTO MADERO'),\n",
       "            (                                   'Chile',      'RECOLETA'),\n",
       "            (                                   'Chile',        'RETIRO'),\n",
       "            (                                   'Chile',   'SAN NICOLAS'),\n",
       "            (                                   'China', 'PUERTO MADERO'),\n",
       "            (                                   'China',        'RETIRO'),\n",
       "            (                                   'China',   'SAN NICOLAS'),\n",
       "            (                                'Colombia',          'BOCA'),\n",
       "            (                                'Colombia',       'PALERMO'),\n",
       "            (                                'Colombia', 'PUERTO MADERO'),\n",
       "            (                                'Colombia',      'RECOLETA'),\n",
       "            (                                'Colombia',   'SAN NICOLAS'),\n",
       "            (                           'Corea del Sur',      'RECOLETA'),\n",
       "            (                              'Costa Rica',      'RECOLETA'),\n",
       "            (                              'Costa Rica',   'SAN NICOLAS'),\n",
       "            (                                 'Ecuador', 'PUERTO MADERO'),\n",
       "            (                                 'Ecuador',      'RECOLETA'),\n",
       "            (                                 'Ecuador',   'SAN NICOLAS'),\n",
       "            (                                  'España',          'BOCA'),\n",
       "            (                                  'España',       'PALERMO'),\n",
       "            (                                  'España', 'PUERTO MADERO'),\n",
       "            (                                  'España',      'RECOLETA'),\n",
       "            (                                  'España',   'SAN NICOLAS'),\n",
       "            (                          'Estados Unidos',          'BOCA'),\n",
       "            (                          'Estados Unidos', 'PUERTO MADERO'),\n",
       "            (                          'Estados Unidos',      'RECOLETA'),\n",
       "            (                          'Estados Unidos',   'SAN NICOLAS'),\n",
       "            (                                 'Francia',          'BOCA'),\n",
       "            (                                 'Francia',       'PALERMO'),\n",
       "            (                                 'Francia', 'PUERTO MADERO'),\n",
       "            (                                 'Francia',      'RECOLETA'),\n",
       "            (                                 'Francia',        'RETIRO'),\n",
       "            (                                 'Francia',   'SAN NICOLAS'),\n",
       "            (                                   'India',      'RECOLETA'),\n",
       "            (                                   'India',   'SAN NICOLAS'),\n",
       "            (                                  'Israel', 'PUERTO MADERO'),\n",
       "            (                                  'Israel',        'RETIRO'),\n",
       "            (                                  'Israel',   'SAN NICOLAS'),\n",
       "            (                                  'Italia',       'PALERMO'),\n",
       "            (                                  'Italia', 'PUERTO MADERO'),\n",
       "            (                                  'Italia',      'RECOLETA'),\n",
       "            (                                  'Italia',        'RETIRO'),\n",
       "            (                                  'Italia',   'SAN NICOLAS'),\n",
       "            (                                   'Japón', 'PUERTO MADERO'),\n",
       "            (                                  'México',          'BOCA'),\n",
       "            (                                  'México', 'PUERTO MADERO'),\n",
       "            (                                  'México',      'RECOLETA'),\n",
       "            (                                  'México',        'RETIRO'),\n",
       "            (                                  'México',   'SAN NICOLAS'),\n",
       "            (                                 'Noruega',      'RECOLETA'),\n",
       "            (                                 'Noruega',   'SAN NICOLAS'),\n",
       "            ('Otro país de residencia si es extranjero',       'PALERMO'),\n",
       "            ('Otro país de residencia si es extranjero', 'PUERTO MADERO'),\n",
       "            ('Otro país de residencia si es extranjero',      'RECOLETA'),\n",
       "            ('Otro país de residencia si es extranjero',        'RETIRO'),\n",
       "            ('Otro país de residencia si es extranjero',   'SAN NICOLAS'),\n",
       "            (                                'Paraguay',       'PALERMO'),\n",
       "            (                                'Paraguay', 'PUERTO MADERO'),\n",
       "            (                                'Paraguay',   'SAN NICOLAS'),\n",
       "            (                            'Países Bajos',          'BOCA'),\n",
       "            (                            'Países Bajos', 'PUERTO MADERO'),\n",
       "            (                            'Países Bajos',   'SAN NICOLAS'),\n",
       "            (                                    'Perú',       'PALERMO'),\n",
       "            (                                    'Perú', 'PUERTO MADERO'),\n",
       "            (                                    'Perú',        'RETIRO'),\n",
       "            (                                    'Perú',   'SAN NICOLAS'),\n",
       "            (                                 'Polonia', 'PUERTO MADERO'),\n",
       "            (                                 'Polonia',   'SAN NICOLAS'),\n",
       "            (                             'Reino Unido',          'BOCA'),\n",
       "            (                             'Reino Unido', 'PUERTO MADERO'),\n",
       "            (                             'Reino Unido',      'RECOLETA'),\n",
       "            (                             'Reino Unido',   'SAN NICOLAS'),\n",
       "            (                                   'Suiza', 'PUERTO MADERO'),\n",
       "            (                                 'Turquía',   'SAN NICOLAS'),\n",
       "            (                                 'Uruguay', 'PUERTO MADERO'),\n",
       "            (                                 'Uruguay',        'RETIRO'),\n",
       "            (                                 'Uruguay',   'SAN NICOLAS'),\n",
       "            (                               'Venezuela',       'PALERMO'),\n",
       "            (                               'Venezuela', 'PUERTO MADERO'),\n",
       "            (                               'Venezuela',   'SAN NICOLAS')],\n",
       "           names=['pais_residencia_si_extranjero', 'barrio'])"
      ]
     },
     "execution_count": 89,
     "metadata": {},
     "output_type": "execute_result"
    }
   ],
   "source": [
    "quantidade_pasajeros_pais_bairro.index"
   ]
  },
  {
   "cell_type": "markdown",
   "metadata": {},
   "source": [
    "Podemos usar o método [`pandas.Series.unstack()`](https://pandas.pydata.org/pandas-docs/stable/reference/api/pandas.Series.unstack.html) para criar um DataFrame a partir deste objeto Series."
   ]
  },
  {
   "cell_type": "code",
   "execution_count": 90,
   "metadata": {},
   "outputs": [
    {
     "name": "stdout",
     "output_type": "stream",
     "text": [
      "<class 'pandas.core.frame.DataFrame'>\n"
     ]
    },
    {
     "data": {
      "text/html": [
       "<div>\n",
       "<style scoped>\n",
       "    .dataframe tbody tr th:only-of-type {\n",
       "        vertical-align: middle;\n",
       "    }\n",
       "\n",
       "    .dataframe tbody tr th {\n",
       "        vertical-align: top;\n",
       "    }\n",
       "\n",
       "    .dataframe thead th {\n",
       "        text-align: right;\n",
       "    }\n",
       "</style>\n",
       "<table border=\"1\" class=\"dataframe\">\n",
       "  <thead>\n",
       "    <tr style=\"text-align: right;\">\n",
       "      <th>barrio</th>\n",
       "      <th>BOCA</th>\n",
       "      <th>PALERMO</th>\n",
       "      <th>PUERTO MADERO</th>\n",
       "      <th>RECOLETA</th>\n",
       "      <th>RETIRO</th>\n",
       "      <th>SAN NICOLAS</th>\n",
       "    </tr>\n",
       "    <tr>\n",
       "      <th>pais_residencia_si_extranjero</th>\n",
       "      <th></th>\n",
       "      <th></th>\n",
       "      <th></th>\n",
       "      <th></th>\n",
       "      <th></th>\n",
       "      <th></th>\n",
       "    </tr>\n",
       "  </thead>\n",
       "  <tbody>\n",
       "    <tr>\n",
       "      <th>Alemania</th>\n",
       "      <td>NaN</td>\n",
       "      <td>NaN</td>\n",
       "      <td>11.0</td>\n",
       "      <td>4.0</td>\n",
       "      <td>2.0</td>\n",
       "      <td>35.0</td>\n",
       "    </tr>\n",
       "    <tr>\n",
       "      <th>Australia</th>\n",
       "      <td>NaN</td>\n",
       "      <td>NaN</td>\n",
       "      <td>3.0</td>\n",
       "      <td>6.0</td>\n",
       "      <td>NaN</td>\n",
       "      <td>14.0</td>\n",
       "    </tr>\n",
       "    <tr>\n",
       "      <th>Bolivia</th>\n",
       "      <td>NaN</td>\n",
       "      <td>NaN</td>\n",
       "      <td>5.0</td>\n",
       "      <td>NaN</td>\n",
       "      <td>6.0</td>\n",
       "      <td>17.0</td>\n",
       "    </tr>\n",
       "  </tbody>\n",
       "</table>\n",
       "</div>"
      ],
      "text/plain": [
       "barrio                         BOCA  PALERMO  PUERTO MADERO  RECOLETA  RETIRO  \\\n",
       "pais_residencia_si_extranjero                                                   \n",
       "Alemania                        NaN      NaN           11.0       4.0     2.0   \n",
       "Australia                       NaN      NaN            3.0       6.0     NaN   \n",
       "Bolivia                         NaN      NaN            5.0       NaN     6.0   \n",
       "\n",
       "barrio                         SAN NICOLAS  \n",
       "pais_residencia_si_extranjero               \n",
       "Alemania                              35.0  \n",
       "Australia                             14.0  \n",
       "Bolivia                               17.0  "
      ]
     },
     "execution_count": 90,
     "metadata": {},
     "output_type": "execute_result"
    }
   ],
   "source": [
    "quantidade_pasajeros_pais_bairro_df = quantidade_pasajeros_pais_bairro.unstack()\n",
    "print(type(quantidade_pasajeros_pais_bairro_df))\n",
    "quantidade_pasajeros_pais_bairro_df.head(3)"
   ]
  },
  {
   "cell_type": "markdown",
   "metadata": {},
   "source": [
    "\n",
    "<a id=\"section_aggregate_transform_filter\"></a> \n",
    "### Aggregate, transform, filter\n",
    "\n",
    "\n",
    "Uma vez construídos os grupos (como resultado da etapa `Split`), na etapa `Apply` podemos realizar as operações sobre eles, quais sejam:\n",
    "\n",
    "* **agregação**: cálculo das estatísticas de resumo para cada grupo. Por exemplo, soma ou média\n",
    "\n",
    "* **transformação**: cálculos específicos do grupo retornando novos objetos indexados da mesma maneira. Por exemplo, preencha os NAs dentro de um grupo com um valor calculado nesse grupo, como média, mediana, máximo, etc.\n",
    "\n",
    "* **filtro**: descarte alguns grupos de acordo com algum cálculo no grupo que retorna Verdadeiro ou Falso. Por exemplo, descarte grupos com poucos membros."
   ]
  },
  {
   "cell_type": "markdown",
   "metadata": {},
   "source": [
    "Exemplos de operações de agregação são todos os que vimos até agora. Depois de construir um grupo com qualquer uma das alternativas que apresentamos, calculamos uma medida em cada um desses grupos."
   ]
  },
  {
   "cell_type": "markdown",
   "metadata": {},
   "source": [
    "#### Transformação\n",
    "\n",
    "Vimos que no domínio das dormidas existe uma percentagem muito elevada de nulos.\n",
    "\n",
    "Vamos completar os valores deste campo, atribuindo a média das dormidas agrupadas por `pais_residencia_si_extranjero` e `bairro`.\n",
    "\n",
    "Sabemos que `groupby` não configura grupos definidos por nulos, portanto aqueles registros que possuem `null` nos campos que são chave para `groupby` não serão atribuídos a nenhum grupo.\n",
    "\n",
    "Antes de começar, vamos remover esses registros."
   ]
  },
  {
   "cell_type": "code",
   "execution_count": 91,
   "metadata": {},
   "outputs": [
    {
     "data": {
      "text/plain": [
       "(678, 20)"
      ]
     },
     "execution_count": 91,
     "metadata": {},
     "output_type": "execute_result"
    }
   ],
   "source": [
    "data_key_not_null_mask = np.logical_and(data.pais_residencia_si_extranjero.notnull(), data.barrio.notnull())\n",
    "data_key_not_null = data.loc[data_key_not_null_mask, :]\n",
    "data_key_not_null.shape"
   ]
  },
  {
   "cell_type": "markdown",
   "metadata": {},
   "source": [
    "Re-definimos os índices com a função [`reset_index()`](https://pandas.pydata.org/pandas-docs/stable/reference/api/pandas.DataFrame.reset_index.html)"
   ]
  },
  {
   "cell_type": "code",
   "execution_count": 92,
   "metadata": {},
   "outputs": [],
   "source": [
    "# se necessário, eliminamos o índice que atribuímos aos exercícios agrupados por série ou dicionário:\n",
    "data_key_not_null = data_key_not_null.reset_index(drop = True)\n",
    "\n",
    "#data_key_not_null.head(3)"
   ]
  },
  {
   "cell_type": "code",
   "execution_count": 93,
   "metadata": {},
   "outputs": [],
   "source": [
    "data_key_not_null_grouped_pais_bairro = data_key_not_null.groupby([\"pais_residencia_si_extranjero\", \"barrio\"])"
   ]
  },
  {
   "cell_type": "markdown",
   "metadata": {},
   "source": [
    "Qual porcentagem de valores nulos estão na coluna pernoctaciones em data_key_not_null?"
   ]
  },
  {
   "cell_type": "code",
   "execution_count": 94,
   "metadata": {},
   "outputs": [
    {
     "data": {
      "text/plain": [
       "0.6017699115044248"
      ]
     },
     "execution_count": 94,
     "metadata": {},
     "output_type": "execute_result"
    }
   ],
   "source": [
    "data_key_not_null[\"pernoctaciones\"].isnull().sum() / data_key_not_null.shape[0]"
   ]
  },
  {
   "cell_type": "markdown",
   "metadata": {},
   "source": [
    "Usamos [`transform`](https://pandas.pydata.org/pandas-docs/stable/user_guide/groupby.html#transformation) para preencher os valores nulos com a média por grupo e contamos quantos valores nulos restam."
   ]
  },
  {
   "cell_type": "code",
   "execution_count": 95,
   "metadata": {},
   "outputs": [
    {
     "data": {
      "text/plain": [
       "0      7.000000\n",
       "1      4.000000\n",
       "2      0.000000\n",
       "3      6.375000\n",
       "4           NaN\n",
       "         ...   \n",
       "673    4.000000\n",
       "674    5.000000\n",
       "675    6.000000\n",
       "676    5.500000\n",
       "677    5.533333\n",
       "Name: pernoctaciones, Length: 678, dtype: float64"
      ]
     },
     "execution_count": 95,
     "metadata": {},
     "output_type": "execute_result"
    }
   ],
   "source": [
    "data_filled = data_key_not_null_grouped_pais_bairro[\"pernoctaciones\"].transform(lambda grp: grp.fillna(grp.mean()))\n",
    "data_filled"
   ]
  },
  {
   "cell_type": "code",
   "execution_count": 96,
   "metadata": {},
   "outputs": [
    {
     "data": {
      "text/plain": [
       "82"
      ]
     },
     "execution_count": 96,
     "metadata": {},
     "output_type": "execute_result"
    }
   ],
   "source": [
    "data_filled.isnull().sum()"
   ]
  },
  {
   "cell_type": "markdown",
   "metadata": {},
   "source": [
    "Vemos que existem 10 registros restantes que foram atribuídos a um grupo, mas eles ainda são nulos. **O que aconteceu?**\n",
    "\n",
    "Vejamos o que são esses registros e quais valores eles têm nos campos \"pais_residencia_si_extranjero\" e \"barrio\"."
   ]
  },
  {
   "cell_type": "code",
   "execution_count": 97,
   "metadata": {},
   "outputs": [],
   "source": [
    "data_not_filled = data_filled.loc[data_filled.isnull()]"
   ]
  },
  {
   "cell_type": "code",
   "execution_count": 98,
   "metadata": {},
   "outputs": [
    {
     "data": {
      "text/html": [
       "<div>\n",
       "<style scoped>\n",
       "    .dataframe tbody tr th:only-of-type {\n",
       "        vertical-align: middle;\n",
       "    }\n",
       "\n",
       "    .dataframe tbody tr th {\n",
       "        vertical-align: top;\n",
       "    }\n",
       "\n",
       "    .dataframe thead th {\n",
       "        text-align: right;\n",
       "    }\n",
       "</style>\n",
       "<table border=\"1\" class=\"dataframe\">\n",
       "  <thead>\n",
       "    <tr style=\"text-align: right;\">\n",
       "      <th></th>\n",
       "      <th>pais_residencia_si_extranjero</th>\n",
       "      <th>barrio</th>\n",
       "    </tr>\n",
       "  </thead>\n",
       "  <tbody>\n",
       "    <tr>\n",
       "      <th>4</th>\n",
       "      <td>Uruguay</td>\n",
       "      <td>SAN NICOLAS</td>\n",
       "    </tr>\n",
       "    <tr>\n",
       "      <th>6</th>\n",
       "      <td>Uruguay</td>\n",
       "      <td>SAN NICOLAS</td>\n",
       "    </tr>\n",
       "    <tr>\n",
       "      <th>17</th>\n",
       "      <td>Uruguay</td>\n",
       "      <td>SAN NICOLAS</td>\n",
       "    </tr>\n",
       "    <tr>\n",
       "      <th>40</th>\n",
       "      <td>India</td>\n",
       "      <td>SAN NICOLAS</td>\n",
       "    </tr>\n",
       "    <tr>\n",
       "      <th>42</th>\n",
       "      <td>Israel</td>\n",
       "      <td>SAN NICOLAS</td>\n",
       "    </tr>\n",
       "    <tr>\n",
       "      <th>...</th>\n",
       "      <td>...</td>\n",
       "      <td>...</td>\n",
       "    </tr>\n",
       "    <tr>\n",
       "      <th>648</th>\n",
       "      <td>Uruguay</td>\n",
       "      <td>SAN NICOLAS</td>\n",
       "    </tr>\n",
       "    <tr>\n",
       "      <th>653</th>\n",
       "      <td>Uruguay</td>\n",
       "      <td>SAN NICOLAS</td>\n",
       "    </tr>\n",
       "    <tr>\n",
       "      <th>658</th>\n",
       "      <td>México</td>\n",
       "      <td>RECOLETA</td>\n",
       "    </tr>\n",
       "    <tr>\n",
       "      <th>660</th>\n",
       "      <td>Uruguay</td>\n",
       "      <td>SAN NICOLAS</td>\n",
       "    </tr>\n",
       "    <tr>\n",
       "      <th>662</th>\n",
       "      <td>Uruguay</td>\n",
       "      <td>SAN NICOLAS</td>\n",
       "    </tr>\n",
       "  </tbody>\n",
       "</table>\n",
       "<p>82 rows × 2 columns</p>\n",
       "</div>"
      ],
      "text/plain": [
       "    pais_residencia_si_extranjero       barrio\n",
       "4                         Uruguay  SAN NICOLAS\n",
       "6                         Uruguay  SAN NICOLAS\n",
       "17                        Uruguay  SAN NICOLAS\n",
       "40                          India  SAN NICOLAS\n",
       "42                         Israel  SAN NICOLAS\n",
       "..                            ...          ...\n",
       "648                       Uruguay  SAN NICOLAS\n",
       "653                       Uruguay  SAN NICOLAS\n",
       "658                        México     RECOLETA\n",
       "660                       Uruguay  SAN NICOLAS\n",
       "662                       Uruguay  SAN NICOLAS\n",
       "\n",
       "[82 rows x 2 columns]"
      ]
     },
     "execution_count": 98,
     "metadata": {},
     "output_type": "execute_result"
    }
   ],
   "source": [
    "data_key_not_null.loc[data_not_filled.index, [ \"pais_residencia_si_extranjero\", \"barrio\"]]"
   ]
  },
  {
   "cell_type": "markdown",
   "metadata": {},
   "source": [
    "Miremos los valores en el campo \"pernoctaciones\" de los registros de los grupos \n",
    "Vejamos os valores no campo \"pernoctaciones\" dos registros de grupo\n",
    "* Malasia\tRECOLETA\t\n",
    "* Marruecos\tPALERMO\t\n",
    "* Estados Unidos\tNÃO IDENTIFICADO\n",
    "* Brasil\tNÃO IDENTIFICADO"
   ]
  },
  {
   "cell_type": "code",
   "execution_count": 99,
   "metadata": {},
   "outputs": [
    {
     "data": {
      "text/plain": [
       "Series([], Name: pernoctaciones, dtype: float64)"
      ]
     },
     "execution_count": 99,
     "metadata": {},
     "output_type": "execute_result"
    }
   ],
   "source": [
    "malasia_recoleta_mask = np.logical_and(data_key_not_null.pais_residencia_si_extranjero  == 'Malasia', \n",
    "                                        data_key_not_null.barrio == \"RECOLETA\")\n",
    "\n",
    "data_key_not_null.loc[malasia_recoleta_mask, \"pernoctaciones\"]"
   ]
  },
  {
   "cell_type": "code",
   "execution_count": 100,
   "metadata": {},
   "outputs": [
    {
     "data": {
      "text/plain": [
       "Series([], Name: pernoctaciones, dtype: float64)"
      ]
     },
     "execution_count": 100,
     "metadata": {},
     "output_type": "execute_result"
    }
   ],
   "source": [
    "marruecos_palermo_mask = np.logical_and(data_key_not_null.pais_residencia_si_extranjero  == 'Marruecos', \n",
    "                                        data_key_not_null.barrio == \"PALERMO\")\n",
    "\n",
    "data_key_not_null.loc[marruecos_palermo_mask, \"pernoctaciones\"]"
   ]
  },
  {
   "cell_type": "code",
   "execution_count": 101,
   "metadata": {},
   "outputs": [
    {
     "data": {
      "text/plain": [
       "Series([], Name: pernoctaciones, dtype: float64)"
      ]
     },
     "execution_count": 101,
     "metadata": {},
     "output_type": "execute_result"
    }
   ],
   "source": [
    "usa_sinid_mask = np.logical_and(data_key_not_null.pais_residencia_si_extranjero  == 'Estados Unidos', \n",
    "                                        data_key_not_null.barrio == \"SIN IDENTIFICAR\")\n",
    "\n",
    "data_key_not_null.loc[usa_sinid_mask, \"pernoctaciones\"]"
   ]
  },
  {
   "cell_type": "code",
   "execution_count": 102,
   "metadata": {},
   "outputs": [
    {
     "data": {
      "text/plain": [
       "Series([], Name: pernoctaciones, dtype: float64)"
      ]
     },
     "execution_count": 102,
     "metadata": {},
     "output_type": "execute_result"
    }
   ],
   "source": [
    "brasil_sinid_mask = np.logical_and(data_key_not_null.pais_residencia_si_extranjero  == 'Brasil', \n",
    "                                        data_key_not_null.barrio == \"SIN IDENTIFICAR\")\n",
    "\n",
    "data_key_not_null.loc[brasil_sinid_mask, \"pernoctaciones\"]"
   ]
  },
  {
   "cell_type": "markdown",
   "metadata": {},
   "source": [
    "Vemos que todos os registros desses grupos têm valor nulo no campo de pernoites, portanto a média por grupo também é nula e novamente temos nulo como preenchimento por grupo."
   ]
  },
  {
   "cell_type": "markdown",
   "metadata": {},
   "source": [
    "#### Filtro\n",
    "\n",
    "O método [`filtration`](https://pandas.pydata.org/pandas-docs/stable/user_guide/groupby.html#filtration) retorna um subconjunto do objeto original.\n",
    "\n",
    "Suponha que desejamos retornar os registros que correspondem a países com mais de 1000 visitas."
   ]
  },
  {
   "cell_type": "code",
   "execution_count": 103,
   "metadata": {},
   "outputs": [
    {
     "data": {
      "text/plain": [
       "pais_residencia_si_extranjero\n",
       "Alemania                                     25\n",
       "Australia                                    12\n",
       "Bolivia                                      11\n",
       "Brasil                                      213\n",
       "Canadá                                        7\n",
       "Chile                                        31\n",
       "China                                        14\n",
       "Colombia                                     71\n",
       "Corea del Sur                                 1\n",
       "Costa Rica                                    5\n",
       "Ecuador                                       8\n",
       "España                                       54\n",
       "Estados Unidos                               50\n",
       "Francia                                      37\n",
       "India                                         2\n",
       "Israel                                        5\n",
       "Italia                                       29\n",
       "Japón                                         1\n",
       "México                                       10\n",
       "Noruega                                       4\n",
       "Otro país de residencia si es extranjero      7\n",
       "Paraguay                                      7\n",
       "Países Bajos                                  3\n",
       "Perú                                         11\n",
       "Polonia                                       2\n",
       "Reino Unido                                  21\n",
       "Suiza                                         3\n",
       "Turquía                                       3\n",
       "Uruguay                                      18\n",
       "Venezuela                                    13\n",
       "dtype: int64"
      ]
     },
     "execution_count": 103,
     "metadata": {},
     "output_type": "execute_result"
    }
   ],
   "source": [
    "data_group_pais = data.groupby(data.pais_residencia_si_extranjero)\n",
    "data_group_pais.size()"
   ]
  },
  {
   "cell_type": "code",
   "execution_count": 104,
   "metadata": {},
   "outputs": [],
   "source": [
    "data_paises_frequentes = data_group_pais.filter(lambda grp: grp[\"pasajeros\"].sum() > 1000)"
   ]
  },
  {
   "cell_type": "markdown",
   "metadata": {},
   "source": [
    "Tamanho antes do filtro (também estamos contando registros que têm nulos em pais_residencia_si_extranjero):"
   ]
  },
  {
   "cell_type": "code",
   "execution_count": 105,
   "metadata": {},
   "outputs": [
    {
     "data": {
      "text/plain": [
       "(1105, 20)"
      ]
     },
     "execution_count": 105,
     "metadata": {},
     "output_type": "execute_result"
    }
   ],
   "source": [
    "data.shape"
   ]
  },
  {
   "cell_type": "markdown",
   "metadata": {},
   "source": [
    "Tamanho após o filtro (apenas registros não nulos no campo pais_residencia_si_extranjero):"
   ]
  },
  {
   "cell_type": "code",
   "execution_count": 106,
   "metadata": {},
   "outputs": [
    {
     "data": {
      "text/plain": [
       "(0, 20)"
      ]
     },
     "execution_count": 106,
     "metadata": {},
     "output_type": "execute_result"
    }
   ],
   "source": [
    "data_paises_frequentes.shape"
   ]
  },
  {
   "cell_type": "markdown",
   "metadata": {},
   "source": [
    "Outra maneira de calcular os tamanhos antes do filtro:\n",
    "\n",
    "(apenas registros que não são nulos no campo pais_residencia_si_extranjero)"
   ]
  },
  {
   "cell_type": "code",
   "execution_count": 107,
   "metadata": {},
   "outputs": [
    {
     "data": {
      "text/plain": [
       "678"
      ]
     },
     "execution_count": 107,
     "metadata": {},
     "output_type": "execute_result"
    }
   ],
   "source": [
    "data_group_pais.size().sum()"
   ]
  },
  {
   "cell_type": "markdown",
   "metadata": {},
   "source": [
    "#### Apply\n",
    "\n",
    "Podemos avaliar/aplicar funções em grupos usando [`apply`](https://pandas.pydata.org/pandas-docs/stable/user_guide/groupby.html#flexible-apply).\n",
    "\n",
    "Vejamos um exemplo em que aplicamos o método [`pandas.core.groupby.DataFrameGroupBy.describe()`](https://pandas.pydata.org/pandas-docs/stable/reference/api/pandas.core.groupby.DataFrameGroupBy.describe.html) em cada um dos grupos por país."
   ]
  },
  {
   "cell_type": "code",
   "execution_count": 108,
   "metadata": {},
   "outputs": [
    {
     "name": "stderr",
     "output_type": "stream",
     "text": [
      "C:\\Users\\costa\\AppData\\Local\\Temp\\ipykernel_26296\\19801275.py:2: DeprecationWarning: DataFrameGroupBy.apply operated on the grouping columns. This behavior is deprecated, and in a future version of pandas the grouping columns will be excluded from the operation. Either pass `include_groups=False` to exclude the groupings or explicitly select the grouping columns after groupby to silence this warning.\n",
      "  data_group_pais.apply(lambda grp: grp.describe())\n"
     ]
    },
    {
     "data": {
      "text/html": [
       "<div>\n",
       "<style scoped>\n",
       "    .dataframe tbody tr th:only-of-type {\n",
       "        vertical-align: middle;\n",
       "    }\n",
       "\n",
       "    .dataframe tbody tr th {\n",
       "        vertical-align: top;\n",
       "    }\n",
       "\n",
       "    .dataframe thead th {\n",
       "        text-align: right;\n",
       "    }\n",
       "</style>\n",
       "<table border=\"1\" class=\"dataframe\">\n",
       "  <thead>\n",
       "    <tr style=\"text-align: right;\">\n",
       "      <th></th>\n",
       "      <th></th>\n",
       "      <th>id</th>\n",
       "      <th>pasajeros</th>\n",
       "      <th>pernoctaciones</th>\n",
       "      <th>otro_alojamiento</th>\n",
       "      <th>otro_barrio</th>\n",
       "      <th>otro_motivo_viaje</th>\n",
       "    </tr>\n",
       "    <tr>\n",
       "      <th>pais_residencia_si_extranjero</th>\n",
       "      <th></th>\n",
       "      <th></th>\n",
       "      <th></th>\n",
       "      <th></th>\n",
       "      <th></th>\n",
       "      <th></th>\n",
       "      <th></th>\n",
       "    </tr>\n",
       "  </thead>\n",
       "  <tbody>\n",
       "    <tr>\n",
       "      <th rowspan=\"5\" valign=\"top\">Alemania</th>\n",
       "      <th>count</th>\n",
       "      <td>25.000000</td>\n",
       "      <td>25.000000</td>\n",
       "      <td>10.000000</td>\n",
       "      <td>0.0</td>\n",
       "      <td>0.0</td>\n",
       "      <td>0.0</td>\n",
       "    </tr>\n",
       "    <tr>\n",
       "      <th>mean</th>\n",
       "      <td>607.160000</td>\n",
       "      <td>2.080000</td>\n",
       "      <td>4.600000</td>\n",
       "      <td>NaN</td>\n",
       "      <td>NaN</td>\n",
       "      <td>NaN</td>\n",
       "    </tr>\n",
       "    <tr>\n",
       "      <th>std</th>\n",
       "      <td>295.109963</td>\n",
       "      <td>1.077033</td>\n",
       "      <td>2.319004</td>\n",
       "      <td>NaN</td>\n",
       "      <td>NaN</td>\n",
       "      <td>NaN</td>\n",
       "    </tr>\n",
       "    <tr>\n",
       "      <th>min</th>\n",
       "      <td>49.000000</td>\n",
       "      <td>1.000000</td>\n",
       "      <td>2.000000</td>\n",
       "      <td>NaN</td>\n",
       "      <td>NaN</td>\n",
       "      <td>NaN</td>\n",
       "    </tr>\n",
       "    <tr>\n",
       "      <th>25%</th>\n",
       "      <td>335.000000</td>\n",
       "      <td>2.000000</td>\n",
       "      <td>3.250000</td>\n",
       "      <td>NaN</td>\n",
       "      <td>NaN</td>\n",
       "      <td>NaN</td>\n",
       "    </tr>\n",
       "    <tr>\n",
       "      <th>...</th>\n",
       "      <th>...</th>\n",
       "      <td>...</td>\n",
       "      <td>...</td>\n",
       "      <td>...</td>\n",
       "      <td>...</td>\n",
       "      <td>...</td>\n",
       "      <td>...</td>\n",
       "    </tr>\n",
       "    <tr>\n",
       "      <th rowspan=\"5\" valign=\"top\">Venezuela</th>\n",
       "      <th>min</th>\n",
       "      <td>78.000000</td>\n",
       "      <td>1.000000</td>\n",
       "      <td>3.000000</td>\n",
       "      <td>NaN</td>\n",
       "      <td>NaN</td>\n",
       "      <td>NaN</td>\n",
       "    </tr>\n",
       "    <tr>\n",
       "      <th>25%</th>\n",
       "      <td>266.000000</td>\n",
       "      <td>2.000000</td>\n",
       "      <td>4.000000</td>\n",
       "      <td>NaN</td>\n",
       "      <td>NaN</td>\n",
       "      <td>NaN</td>\n",
       "    </tr>\n",
       "    <tr>\n",
       "      <th>50%</th>\n",
       "      <td>543.000000</td>\n",
       "      <td>2.000000</td>\n",
       "      <td>5.000000</td>\n",
       "      <td>NaN</td>\n",
       "      <td>NaN</td>\n",
       "      <td>NaN</td>\n",
       "    </tr>\n",
       "    <tr>\n",
       "      <th>75%</th>\n",
       "      <td>781.000000</td>\n",
       "      <td>2.000000</td>\n",
       "      <td>6.000000</td>\n",
       "      <td>NaN</td>\n",
       "      <td>NaN</td>\n",
       "      <td>NaN</td>\n",
       "    </tr>\n",
       "    <tr>\n",
       "      <th>max</th>\n",
       "      <td>1055.000000</td>\n",
       "      <td>4.000000</td>\n",
       "      <td>7.000000</td>\n",
       "      <td>NaN</td>\n",
       "      <td>NaN</td>\n",
       "      <td>NaN</td>\n",
       "    </tr>\n",
       "  </tbody>\n",
       "</table>\n",
       "<p>240 rows × 6 columns</p>\n",
       "</div>"
      ],
      "text/plain": [
       "                                              id  pasajeros  pernoctaciones  \\\n",
       "pais_residencia_si_extranjero                                                 \n",
       "Alemania                      count    25.000000  25.000000       10.000000   \n",
       "                              mean    607.160000   2.080000        4.600000   \n",
       "                              std     295.109963   1.077033        2.319004   \n",
       "                              min      49.000000   1.000000        2.000000   \n",
       "                              25%     335.000000   2.000000        3.250000   \n",
       "...                                          ...        ...             ...   \n",
       "Venezuela                     min      78.000000   1.000000        3.000000   \n",
       "                              25%     266.000000   2.000000        4.000000   \n",
       "                              50%     543.000000   2.000000        5.000000   \n",
       "                              75%     781.000000   2.000000        6.000000   \n",
       "                              max    1055.000000   4.000000        7.000000   \n",
       "\n",
       "                                     otro_alojamiento  otro_barrio  \\\n",
       "pais_residencia_si_extranjero                                        \n",
       "Alemania                      count               0.0          0.0   \n",
       "                              mean                NaN          NaN   \n",
       "                              std                 NaN          NaN   \n",
       "                              min                 NaN          NaN   \n",
       "                              25%                 NaN          NaN   \n",
       "...                                               ...          ...   \n",
       "Venezuela                     min                 NaN          NaN   \n",
       "                              25%                 NaN          NaN   \n",
       "                              50%                 NaN          NaN   \n",
       "                              75%                 NaN          NaN   \n",
       "                              max                 NaN          NaN   \n",
       "\n",
       "                                     otro_motivo_viaje  \n",
       "pais_residencia_si_extranjero                           \n",
       "Alemania                      count                0.0  \n",
       "                              mean                 NaN  \n",
       "                              std                  NaN  \n",
       "                              min                  NaN  \n",
       "                              25%                  NaN  \n",
       "...                                                ...  \n",
       "Venezuela                     min                  NaN  \n",
       "                              25%                  NaN  \n",
       "                              50%                  NaN  \n",
       "                              75%                  NaN  \n",
       "                              max                  NaN  \n",
       "\n",
       "[240 rows x 6 columns]"
      ]
     },
     "execution_count": 108,
     "metadata": {},
     "output_type": "execute_result"
    }
   ],
   "source": [
    "data_group_pais = data.groupby(data.pais_residencia_si_extranjero)\n",
    "data_group_pais.apply(lambda grp: grp.describe())"
   ]
  },
  {
   "cell_type": "markdown",
   "metadata": {},
   "source": [
    "#### Referências\n",
    "\n",
    "Python for Data Analysis. Wes McKinney. Cap 10\n",
    "\n",
    "- [Group by: split-apply-combine](https://pandas.pydata.org/pandas-docs/stable/user_guide/groupby.html)\n",
    "\n",
    "- [Grouping](https://pandas.pydata.org/pandas-docs/stable/user_guide/cookbook.html#cookbook-grouping)"
   ]
  },
  {
   "cell_type": "code",
   "execution_count": null,
   "metadata": {},
   "outputs": [],
   "source": []
  }
 ],
 "metadata": {
  "kernelspec": {
   "display_name": "Python 3",
   "language": "python",
   "name": "python3"
  },
  "language_info": {
   "codemirror_mode": {
    "name": "ipython",
    "version": 3
   },
   "file_extension": ".py",
   "mimetype": "text/x-python",
   "name": "python",
   "nbconvert_exporter": "python",
   "pygments_lexer": "ipython3",
   "version": "3.12.2"
  }
 },
 "nbformat": 4,
 "nbformat_minor": 4
}
