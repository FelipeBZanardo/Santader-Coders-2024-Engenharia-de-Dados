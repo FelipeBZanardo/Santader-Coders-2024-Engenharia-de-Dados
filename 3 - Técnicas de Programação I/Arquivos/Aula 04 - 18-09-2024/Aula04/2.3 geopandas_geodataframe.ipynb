{
 "cells": [
  {
   "cell_type": "markdown",
   "metadata": {
    "slideshow": {
     "slide_type": "skip"
    }
   },
   "source": [
    "<img src='letscodebr_cover.jpeg' align='left' width=100%/>"
   ]
  },
  {
   "cell_type": "markdown",
   "metadata": {},
   "source": [
    "# Aulas 4: GeoPandas - GeoDataFrame."
   ]
  },
  {
   "cell_type": "code",
   "execution_count": 29,
   "metadata": {},
   "outputs": [],
   "source": [
    "# !pip install geodatasets\n",
    "# !pip install geopandas"
   ]
  },
  {
   "cell_type": "code",
   "execution_count": 30,
   "metadata": {},
   "outputs": [],
   "source": [
    "import pandas as pd\n",
    "import geopandas as gpd\n",
    "import matplotlib.pyplot as plt\n",
    "import descartes"
   ]
  },
  {
   "cell_type": "markdown",
   "metadata": {
    "slideshow": {
     "slide_type": "slide"
    }
   },
   "source": [
    "###  Intro\n",
    "\n",
    "O [Geopandas](https://geopandas.org/getting_started/introduction.html) é uma biblioteca que permite trabalhar com dados geoespaciais em Python. Para fazer isso, ele usa recursos de outras bibliotecas Python.\n",
    "\n",
    "- Estende a funcionalidade do [pandas](https://towardsdatascience.com/geospatial-adventures-step-2-pandas-vs-geopandas-16e842d0e3a7). Em outras palavras, todas as operações que se aplicam a *Series* e *DataFrame* podem ser realizadas.\n",
    "\n",
    "- Fornece uma interface com a biblioteca [matplotlib](https://towardsdatascience.com/mapping-with-matplotlib-pandas-geopandas-and-basemap-in-python-d11b57ab5dac) para gerar mapas. As figuras geométricas podem ser facilmente mapeadas com o método `plot()`.\n",
    "\n",
    "- Permite operações em dados geométricos que representam dados espaciais (pontos, linhas e polígonos). Para isso, faz uso da biblioteca [shapely](https://www.learndatasci.com/tutorials/geospatial-data-python-geopandas-shapely/).\n",
    "\n",
    "- Facilita o acesso aos dados em múltiplos *formatos de arquivo*, ampliando as operações fornecidas pela biblioteca [fiona](https://pythonrepo.com/repo/Toblerity-Fiona-python-geolocation)\n",
    "\n",
    "- Faz projeções, ou seja, permite utilizar diferentes tipos de coordenadas para referenciar a posição geográfica dos dados geoespaciais.\n",
    "\n",
    "Vamos analisar cada um desses pontos com mais detalhes."
   ]
  },
  {
   "cell_type": "markdown",
   "metadata": {
    "slideshow": {
     "slide_type": "slide"
    }
   },
   "source": [
    "### GeoSeries e GeoDataFrame\n",
    "\n",
    "Assim como *Pandas* tem *Series* e *Dataframe* como estrutura de dados, o *Geopandas* tem algo semelhante chamado [Geoseries](https://geopandas.org/docs/reference/geoseries.html) e [GeoDataFrame](https://geopandas.org/gallery/create_geopandas_from_pandas.html).\n",
    "\n",
    "A diferença entre eles é que **GeoSeries** e **GeoDataFrame** devem conter pelo menos uma coluna com tipos de dados geoespaciais. Esta coluna é chamada por padrão de [geometry](https://automating-gis-processes.github.io/site/notebooks/L2/geopandas-basics.html).\n",
    "\n",
    "A coluna *geometry* contém uma forma geométrica que representa a posição espacial do objeto. Por exemplo, a posição espacial de uma empresa - suas coordenadas - são expressas pela forma geométrica *ponto*.\n",
    "\n",
    "As formas geométricas são:\n",
    "\n",
    "- POINT. Um ponto\n",
    "- LINESTRING. Uma linha\n",
    "- POLYGON. Uma superfície\n",
    "\n",
    "Coleções de formas também podem ser representadas:\n",
    "\n",
    "- MULTIPOINT. Vários pontos\n",
    "- MULTILINESTRING. Múltiplas linhas\n",
    "- MULTIPOLYGON. Múltiplas superfícies"
   ]
  },
  {
   "cell_type": "markdown",
   "metadata": {
    "slideshow": {
     "slide_type": "skip"
    }
   },
   "source": [
    "Em [geodatos](https://www.geodatos.net/en/coordinates) você pode pesquisar as coordenadas das cidades do mundo."
   ]
  },
  {
   "cell_type": "markdown",
   "metadata": {
    "slideshow": {
     "slide_type": "slide"
    }
   },
   "source": [
    "### Cidades\n",
    "\n",
    "Começamos gerando um `dataframe Pandas` com os dados da cidade. Observe que os dados geográficos de latitude e longitude são incluídos como *números*, para localizar cidades no espaço."
   ]
  },
  {
   "cell_type": "code",
   "execution_count": 31,
   "metadata": {},
   "outputs": [],
   "source": [
    "df_cidade = pd.DataFrame(\n",
    "    {'Cidade': ['São Paulo', 'Rio de Janeiro', 'Salvador', 'Belo Horizonte', 'Manaus','Campo Grande', 'Florianópolis'],\n",
    "     'Estado': ['SP', 'RJ', 'BA', 'MG', 'AM', 'MS', 'SC'],\n",
    "     'Latitude':  [-23.5558, -22.9068, -12.9777, -19.9191, -3.1190, -20.4649, -27.5948],\n",
    "     'Longitude': [-46.6396, -43.1729, -38.5016, -43.9387, -60.0217, -54.6218, -48.5569]})"
   ]
  },
  {
   "cell_type": "code",
   "execution_count": 32,
   "metadata": {
    "slideshow": {
     "slide_type": "fragment"
    }
   },
   "outputs": [
    {
     "data": {
      "text/plain": [
       "pandas.core.frame.DataFrame"
      ]
     },
     "execution_count": 32,
     "metadata": {},
     "output_type": "execute_result"
    }
   ],
   "source": [
    "type(df_cidade)"
   ]
  },
  {
   "cell_type": "code",
   "execution_count": 33,
   "metadata": {
    "slideshow": {
     "slide_type": "fragment"
    }
   },
   "outputs": [
    {
     "data": {
      "text/plain": [
       "Cidade        object\n",
       "Estado        object\n",
       "Latitude     float64\n",
       "Longitude    float64\n",
       "dtype: object"
      ]
     },
     "execution_count": 33,
     "metadata": {},
     "output_type": "execute_result"
    }
   ],
   "source": [
    "df_cidade.dtypes"
   ]
  },
  {
   "cell_type": "markdown",
   "metadata": {
    "slideshow": {
     "slide_type": "slide"
    }
   },
   "source": [
    "Como a latitude e a longitude são numéricas, elas devem ser transformadas em uma forma geométrica para poder representá-las como dados geoespaciais.\n",
    "\n",
    "O Geopandas faz isso com o método [`geopandas.points_from_xy()`](https://geopandas.org/docs/reference/api/geopandas.points_from_xy.html), gerando a forma geométrica **POINT**.\n",
    "\n",
    "**IMPORTANTE:** este método possui dois parâmetros, o primeiro, $x$, deve receber a **longitude**, e o segundo, $y$, a deve receber **latitude**. Você pode logicamente pensar que deveria ser o contrário."
   ]
  },
  {
   "cell_type": "code",
   "execution_count": 34,
   "metadata": {
    "collapsed": false,
    "jupyter": {
     "outputs_hidden": false
    },
    "slideshow": {
     "slide_type": "fragment"
    }
   },
   "outputs": [
    {
     "data": {
      "text/plain": [
       "<GeometryArray>\n",
       "[ <POINT (-46.64 -23.556)>, <POINT (-43.173 -22.907)>,\n",
       " <POINT (-38.502 -12.978)>, <POINT (-43.939 -19.919)>,\n",
       "  <POINT (-60.022 -3.119)>, <POINT (-54.622 -20.465)>,\n",
       " <POINT (-48.557 -27.595)>]\n",
       "Length: 7, dtype: geometry"
      ]
     },
     "execution_count": 34,
     "metadata": {},
     "output_type": "execute_result"
    }
   ],
   "source": [
    "geometria = gpd.points_from_xy(df_cidade.Longitude, \n",
    "                               df_cidade.Latitude\n",
    "                              )\n",
    "geometria"
   ]
  },
  {
   "cell_type": "markdown",
   "metadata": {
    "slideshow": {
     "slide_type": "slide"
    }
   },
   "source": [
    "Agora transformamos o `dataframe` `df_cidade` em um `geoDataFrame` chamado `geo_bra`; os dados do dataframe são combinados com a variável recém-criada *geometry* (as coordenadas da cidade como uma forma geométrica).\n",
    "\n",
    "Lembre-se de que os tipos de dados `GeoDataFrame` requerem pelo menos uma coluna com uma forma geométrica. Recomenda-se chamá-lo de *geometry*, pois é o padrão para salvar este tipo de dados."
   ]
  },
  {
   "cell_type": "code",
   "execution_count": 35,
   "metadata": {
    "collapsed": false,
    "jupyter": {
     "outputs_hidden": false
    },
    "slideshow": {
     "slide_type": "fragment"
    }
   },
   "outputs": [],
   "source": [
    "geo_bra = gpd.GeoDataFrame(df_cidade, \n",
    "                           geometry = geometria\n",
    "                          )"
   ]
  },
  {
   "cell_type": "code",
   "execution_count": 36,
   "metadata": {
    "slideshow": {
     "slide_type": "fragment"
    }
   },
   "outputs": [
    {
     "data": {
      "text/plain": [
       "Cidade         object\n",
       "Estado         object\n",
       "Latitude      float64\n",
       "Longitude     float64\n",
       "geometry     geometry\n",
       "dtype: object"
      ]
     },
     "execution_count": 36,
     "metadata": {},
     "output_type": "execute_result"
    }
   ],
   "source": [
    "geo_bra.dtypes"
   ]
  },
  {
   "cell_type": "code",
   "execution_count": 37,
   "metadata": {
    "slideshow": {
     "slide_type": "fragment"
    }
   },
   "outputs": [
    {
     "data": {
      "text/html": [
       "<div>\n",
       "<style scoped>\n",
       "    .dataframe tbody tr th:only-of-type {\n",
       "        vertical-align: middle;\n",
       "    }\n",
       "\n",
       "    .dataframe tbody tr th {\n",
       "        vertical-align: top;\n",
       "    }\n",
       "\n",
       "    .dataframe thead th {\n",
       "        text-align: right;\n",
       "    }\n",
       "</style>\n",
       "<table border=\"1\" class=\"dataframe\">\n",
       "  <thead>\n",
       "    <tr style=\"text-align: right;\">\n",
       "      <th></th>\n",
       "      <th>Cidade</th>\n",
       "      <th>Estado</th>\n",
       "      <th>Latitude</th>\n",
       "      <th>Longitude</th>\n",
       "      <th>geometry</th>\n",
       "    </tr>\n",
       "  </thead>\n",
       "  <tbody>\n",
       "    <tr>\n",
       "      <th>0</th>\n",
       "      <td>São Paulo</td>\n",
       "      <td>SP</td>\n",
       "      <td>-23.5558</td>\n",
       "      <td>-46.6396</td>\n",
       "      <td>POINT (-46.6396 -23.5558)</td>\n",
       "    </tr>\n",
       "    <tr>\n",
       "      <th>1</th>\n",
       "      <td>Rio de Janeiro</td>\n",
       "      <td>RJ</td>\n",
       "      <td>-22.9068</td>\n",
       "      <td>-43.1729</td>\n",
       "      <td>POINT (-43.1729 -22.9068)</td>\n",
       "    </tr>\n",
       "    <tr>\n",
       "      <th>2</th>\n",
       "      <td>Salvador</td>\n",
       "      <td>BA</td>\n",
       "      <td>-12.9777</td>\n",
       "      <td>-38.5016</td>\n",
       "      <td>POINT (-38.5016 -12.9777)</td>\n",
       "    </tr>\n",
       "    <tr>\n",
       "      <th>3</th>\n",
       "      <td>Belo Horizonte</td>\n",
       "      <td>MG</td>\n",
       "      <td>-19.9191</td>\n",
       "      <td>-43.9387</td>\n",
       "      <td>POINT (-43.9387 -19.9191)</td>\n",
       "    </tr>\n",
       "    <tr>\n",
       "      <th>4</th>\n",
       "      <td>Manaus</td>\n",
       "      <td>AM</td>\n",
       "      <td>-3.1190</td>\n",
       "      <td>-60.0217</td>\n",
       "      <td>POINT (-60.0217 -3.119)</td>\n",
       "    </tr>\n",
       "    <tr>\n",
       "      <th>5</th>\n",
       "      <td>Campo Grande</td>\n",
       "      <td>MS</td>\n",
       "      <td>-20.4649</td>\n",
       "      <td>-54.6218</td>\n",
       "      <td>POINT (-54.6218 -20.4649)</td>\n",
       "    </tr>\n",
       "    <tr>\n",
       "      <th>6</th>\n",
       "      <td>Florianópolis</td>\n",
       "      <td>SC</td>\n",
       "      <td>-27.5948</td>\n",
       "      <td>-48.5569</td>\n",
       "      <td>POINT (-48.5569 -27.5948)</td>\n",
       "    </tr>\n",
       "  </tbody>\n",
       "</table>\n",
       "</div>"
      ],
      "text/plain": [
       "           Cidade Estado  Latitude  Longitude                   geometry\n",
       "0       São Paulo     SP  -23.5558   -46.6396  POINT (-46.6396 -23.5558)\n",
       "1  Rio de Janeiro     RJ  -22.9068   -43.1729  POINT (-43.1729 -22.9068)\n",
       "2        Salvador     BA  -12.9777   -38.5016  POINT (-38.5016 -12.9777)\n",
       "3  Belo Horizonte     MG  -19.9191   -43.9387  POINT (-43.9387 -19.9191)\n",
       "4          Manaus     AM   -3.1190   -60.0217    POINT (-60.0217 -3.119)\n",
       "5    Campo Grande     MS  -20.4649   -54.6218  POINT (-54.6218 -20.4649)\n",
       "6   Florianópolis     SC  -27.5948   -48.5569  POINT (-48.5569 -27.5948)"
      ]
     },
     "execution_count": 37,
     "metadata": {},
     "output_type": "execute_result"
    }
   ],
   "source": [
    "geo_bra"
   ]
  },
  {
   "cell_type": "markdown",
   "metadata": {
    "slideshow": {
     "slide_type": "slide"
    }
   },
   "source": [
    "### Países\n",
    "\n",
    "Cada pais se representa por sus límites, o contornos. Dentro del tipo de datos geoespacial, usa la forma *POLYGON* o *MULTIPOLYGON*. Geopandas permite leerlos desde un archivo especial llamado *naturalearth_lowres*\n",
    "\n",
    "Este archivo se guarda en una variable del tipo GeoDataFrame, ya que contiene una columna geometry con los polígonos de cada páis, sus contornos.\n",
    "\n",
    "Cada país é representado por suas fronteiras ou contornos. No tipo de dados geoespaciais, use o formato *POLYGON* ou *MULTIPOLYGON*. O `Geopandas` permite a leitura de um arquivo especial chamado `naturalearth_lowres`.\n",
    "\n",
    "Este arquivo é salvo em uma variável do tipo `GeoDataFrame`, pois contém uma coluna geométrica com os polígonos de cada país, seus contornos."
   ]
  },
  {
   "cell_type": "markdown",
   "metadata": {},
   "source": [
    "Por que alguns países precisam de um MULTIPOLIGONO em vez de simplesmente um POLIGONO?"
   ]
  },
  {
   "cell_type": "markdown",
   "metadata": {
    "slideshow": {
     "slide_type": "slide"
    }
   },
   "source": [
    "### Referências\n",
    "\n",
    "\n",
    "- [GeoPandas 0.9.0](https://geopandas.org/index.html)\n",
    "\n",
    "- [The GeoPandas Cookbook](https://www.martinalarcon.org/2018-12-31-d-geopandas)\n",
    "\n",
    "- [The Shapely User Manual](https://shapely.readthedocs.io/en/stable/manual.html)"
   ]
  },
  {
   "cell_type": "code",
   "execution_count": null,
   "metadata": {},
   "outputs": [],
   "source": []
  }
 ],
 "metadata": {
  "kernelspec": {
   "display_name": "Python 3",
   "language": "python",
   "name": "python3"
  },
  "language_info": {
   "codemirror_mode": {
    "name": "ipython",
    "version": 3
   },
   "file_extension": ".py",
   "mimetype": "text/x-python",
   "name": "python",
   "nbconvert_exporter": "python",
   "pygments_lexer": "ipython3",
   "version": "3.12.2"
  }
 },
 "nbformat": 4,
 "nbformat_minor": 4
}
