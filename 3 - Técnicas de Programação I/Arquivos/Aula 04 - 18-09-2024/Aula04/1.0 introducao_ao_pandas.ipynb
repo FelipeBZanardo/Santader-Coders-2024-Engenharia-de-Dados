{
 "cells": [
  {
   "cell_type": "markdown",
   "id": "4f51956c",
   "metadata": {
    "id": "4f51956c"
   },
   "source": [
    "# Pandas\n",
    "Assim como foi feito com ```numpy```, para utilizar o ```pandas``` também se faz necessário realizar a importação da biblioteca "
   ]
  },
  {
   "cell_type": "code",
   "execution_count": 1,
   "id": "57ad54b6",
   "metadata": {
    "id": "57ad54b6"
   },
   "outputs": [],
   "source": [
    "import pandas as pd # importando a biblioteca Pandas\n",
    "import numpy as np"
   ]
  },
  {
   "cell_type": "markdown",
   "id": "24b9908c",
   "metadata": {
    "id": "24b9908c"
   },
   "source": [
    "## Series\n",
    "\n",
    "O objeto fundamental do Pandas são as **Series**, uma classe do pandas.\n",
    "\n",
    "As Series são as **colunas das tabelas** (que veremos mais a frente), e por baixo dos panos, os dados ficam armazenados como **numpy arrays**!\n",
    "\n",
    "A diferença é que a série possui um **índice associado**, permitindo o acesso aos conteúdos dessa estrutura por ele, como um dicionário.\n",
    "\n",
    "Além disso, as séries têm métodos específicos além dos que vimos pra arrays, o que será super útil!\n",
    "\n",
    "Podemos criar uma série **a partir de uma lista**, usando a função do pandas `pd.Series()`: "
   ]
  },
  {
   "cell_type": "code",
   "execution_count": null,
   "id": "a55ad516",
   "metadata": {
    "colab": {
     "base_uri": "https://localhost:8080/"
    },
    "id": "a55ad516",
    "outputId": "43de853d-d967-4cf2-8204-f19c3fc116a7"
   },
   "outputs": [],
   "source": [
    "lista = [4, 6, 3, 7, 25]\n",
    "pd.Series(lista)"
   ]
  },
  {
   "cell_type": "markdown",
   "id": "9adf5705",
   "metadata": {
    "id": "9adf5705"
   },
   "source": [
    "Outra forma bem natural de construir séries é apartir de um **dicionário**\n",
    "\n",
    "Neste caso, as **chaves** se tornam as labels de índice!"
   ]
  },
  {
   "cell_type": "code",
   "execution_count": null,
   "id": "34d26c9a",
   "metadata": {
    "colab": {
     "base_uri": "https://localhost:8080/"
    },
    "id": "34d26c9a",
    "outputId": "476b5c33-8afa-42e3-a41e-278c7004678c"
   },
   "outputs": [],
   "source": [
    "dic = {\"a\": 50, \"b\" : 42}\n",
    "pd.Series(dic)"
   ]
  },
  {
   "cell_type": "markdown",
   "id": "900f88e5",
   "metadata": {
    "id": "900f88e5"
   },
   "source": [
    "Trabalhando com índices"
   ]
  },
  {
   "cell_type": "code",
   "execution_count": null,
   "id": "fd9f782a",
   "metadata": {
    "id": "fd9f782a"
   },
   "outputs": [],
   "source": [
    "lista = [4, 6, 3, 7, 25]\n",
    "indices = [\"a\", \"b\", \"c\", \"d\", \"e\"]\n",
    "\n",
    "serie_pandas = pd.Series(data=lista, index=indices, name='valores_em_reais')\n",
    "serie_pandas"
   ]
  },
  {
   "cell_type": "markdown",
   "id": "549a80cd",
   "metadata": {
    "id": "549a80cd"
   },
   "source": [
    "Podemos realizar o slicing na nossa Pandas Series da mesma forma como fizemos em listas e arrays, mas veja que agora os índices são letras, podemos utilizá-las para realizar o slicing ou a busca."
   ]
  },
  {
   "cell_type": "code",
   "execution_count": null,
   "id": "331d4128",
   "metadata": {
    "colab": {
     "base_uri": "https://localhost:8080/"
    },
    "id": "331d4128",
    "outputId": "e8293857-9e35-4d40-8990-737d09321fe7"
   },
   "outputs": [],
   "source": [
    "print(serie_pandas['a'])\n",
    "print(serie_pandas[0])"
   ]
  },
  {
   "cell_type": "markdown",
   "id": "fde125cd",
   "metadata": {
    "id": "fde125cd"
   },
   "source": [
    "Da mesma forma como vimos anteriormente, é possível realizar máscaras booleanas dentro da minha série."
   ]
  },
  {
   "cell_type": "code",
   "execution_count": null,
   "id": "759e080a",
   "metadata": {
    "colab": {
     "base_uri": "https://localhost:8080/"
    },
    "id": "759e080a",
    "outputId": "f5180588-a0a5-46c9-d186-5d70285ff2bb"
   },
   "outputs": [],
   "source": [
    "np.random.seed(42)\n",
    "\n",
    "notas = pd.Series(np.random.randint(3, 12, 10))\n",
    "\n",
    "# Máscara booleana simples\n",
    "notas[notas > 6]"
   ]
  },
  {
   "cell_type": "code",
   "execution_count": null,
   "id": "ce71e2ff",
   "metadata": {
    "colab": {
     "base_uri": "https://localhost:8080/"
    },
    "id": "ce71e2ff",
    "outputId": "927248de-023b-4bcd-cd7a-dbbdc3d13156"
   },
   "outputs": [],
   "source": [
    "# Podemos utiilzar mais de um critério ao mesmo tempo com o E (AND)\n",
    "notas[(notas > 5) & (notas < 10)]"
   ]
  },
  {
   "cell_type": "code",
   "execution_count": null,
   "id": "ed80ce3c",
   "metadata": {
    "colab": {
     "base_uri": "https://localhost:8080/"
    },
    "id": "ed80ce3c",
    "outputId": "544217cc-d5a9-41a0-9f64-f864eca2530b"
   },
   "outputs": [],
   "source": [
    "# Podemos utiilzar mais de um critério ao mesmo tempo com o OU (OR)\n",
    "notas[(notas < 5) | (notas == 10)]"
   ]
  },
  {
   "cell_type": "code",
   "execution_count": null,
   "id": "d37820dd",
   "metadata": {
    "colab": {
     "base_uri": "https://localhost:8080/"
    },
    "id": "d37820dd",
    "outputId": "49c83e22-69e7-4e49-d4df-be281bb31d9a"
   },
   "outputs": [],
   "source": [
    "# E também fazer o inverso\n",
    "notas[~((notas < 5) | (notas == 10))]"
   ]
  },
  {
   "cell_type": "markdown",
   "id": "3c811a48",
   "metadata": {
    "id": "3c811a48"
   },
   "source": [
    "É possivel também ordenar os dados a partir de uma coluna com o **.sort_values()**"
   ]
  },
  {
   "cell_type": "code",
   "execution_count": null,
   "id": "c312fd90",
   "metadata": {
    "colab": {
     "base_uri": "https://localhost:8080/"
    },
    "id": "c312fd90",
    "outputId": "18c70fb2-98a3-4f48-9f74-5cc2b983ab95"
   },
   "outputs": [],
   "source": [
    "notas.sort_values(ascending=False) # ascending = True -> crescente e ascending = False -> decrescente"
   ]
  },
  {
   "cell_type": "markdown",
   "id": "9a084458",
   "metadata": {
    "id": "9a084458"
   },
   "source": [
    "Para encontrar valores únicos podemos utilizar o atributo **.unique()**"
   ]
  },
  {
   "cell_type": "code",
   "execution_count": null,
   "id": "f8defffc",
   "metadata": {
    "colab": {
     "base_uri": "https://localhost:8080/"
    },
    "id": "f8defffc",
    "outputId": "f5ee4749-df0f-42f3-baa8-4bf0a742709d"
   },
   "outputs": [],
   "source": [
    "notas.unique()"
   ]
  },
  {
   "cell_type": "markdown",
   "id": "a04d3d8a",
   "metadata": {
    "id": "a04d3d8a"
   },
   "source": [
    "Podemos mostrar a frequência absoluta com o atributo **.value_counts()**"
   ]
  },
  {
   "cell_type": "code",
   "execution_count": null,
   "id": "85beecb9",
   "metadata": {
    "colab": {
     "base_uri": "https://localhost:8080/"
    },
    "id": "85beecb9",
    "outputId": "550d56a8-df99-4702-a8a9-fc3e8aa4d121"
   },
   "outputs": [],
   "source": [
    "notas.value_counts()"
   ]
  },
  {
   "cell_type": "code",
   "execution_count": null,
   "id": "4ebe467d",
   "metadata": {
    "colab": {
     "base_uri": "https://localhost:8080/"
    },
    "id": "4ebe467d",
    "outputId": "f3aaaa9f-b7fa-4690-f7f0-f4081aba73da"
   },
   "outputs": [],
   "source": [
    "# frequencia relativa\n",
    "notas.value_counts(normalize=True)"
   ]
  },
  {
   "cell_type": "markdown",
   "id": "44612acf",
   "metadata": {
    "id": "44612acf"
   },
   "source": [
    "### DataFrame\n",
    "\n",
    "Agora que conhecemos as séries, vamos partir pro objeto do Pandas que mais utilizaremos: o **DataFrame**\n",
    "\n",
    "Como veremos a seguir, o DataFrame é uma estrutura que se assemalha a uma **tabela**.\n",
    "\n",
    "Estruturalmente, o DataFrame nada mais é que um **conjunto de Series**, uma para cada coluna (e, claro, com mesmo índice, que irão indexar as linhas).\n",
    "  \n",
    "Veremos depois como **ler um dataframe a partir de um arquivo** (que é provavelmente a forma mais comum)\n",
    "\n",
    "Há muitas formas de construir um DataFrame do zero. Todas elas fazem uso da função **pd.DataFrame()**, como veremos a seguir.\n",
    "\n",
    "Se quisermos especificar os índices de linha, o nome das colunas, e os dados, podemos passá-los separadamente: "
   ]
  },
  {
   "cell_type": "code",
   "execution_count": null,
   "id": "e5981a41",
   "metadata": {
    "colab": {
     "base_uri": "https://localhost:8080/"
    },
    "id": "e5981a41",
    "outputId": "031819e0-0c68-4739-fafe-8906feefbf6b"
   },
   "outputs": [],
   "source": [
    "# gerando uma matriz (5, 3) de numeros inteiros aleatórios entre -100 e 100\n",
    "# use a seed 42\n",
    "\n",
    "np.random.seed(42)\n",
    "\n",
    "m = np.random.randint(-100, 100, (5, 3))\n",
    "\n",
    "m"
   ]
  },
  {
   "cell_type": "code",
   "execution_count": null,
   "id": "1f84a04d",
   "metadata": {
    "colab": {
     "base_uri": "https://localhost:8080/",
     "height": 206
    },
    "id": "1f84a04d",
    "outputId": "dbd9efa0-bb0e-47b8-f62a-e4bf007aacf1"
   },
   "outputs": [],
   "source": [
    "pd.DataFrame(m)"
   ]
  },
  {
   "cell_type": "code",
   "execution_count": null,
   "id": "f7370101",
   "metadata": {
    "colab": {
     "base_uri": "https://localhost:8080/",
     "height": 206
    },
    "id": "f7370101",
    "outputId": "14eba0be-222c-4257-c3da-58c84f44e75b"
   },
   "outputs": [],
   "source": [
    "df_nome_linhas = pd.DataFrame(m,\n",
    "                              index = ['obs1', 'obs2', 'obs3', 'obs4', 'obs5'],\n",
    "                              columns = ['Variável 1', 'Variável 2', 'Variável 3'])\n",
    "\n",
    "df_nome_linhas"
   ]
  },
  {
   "cell_type": "markdown",
   "id": "f4b33c96",
   "metadata": {
    "id": "f4b33c96"
   },
   "source": [
    "A partir de um arquivo"
   ]
  },
  {
   "cell_type": "code",
   "execution_count": 17,
   "id": "63d89672",
   "metadata": {
    "id": "63d89672"
   },
   "outputs": [],
   "source": [
    "df_dados_religiao = pd.read_table('./dados/dados_religiao_income.txt', sep=' ')"
   ]
  },
  {
   "cell_type": "code",
   "execution_count": null,
   "id": "1bbd1518",
   "metadata": {
    "colab": {
     "base_uri": "https://localhost:8080/",
     "height": 363
    },
    "id": "1bbd1518",
    "outputId": "a6a21af7-2d20-413a-c25a-c467827202ff",
    "scrolled": true
   },
   "outputs": [],
   "source": [
    "df_dados_religiao"
   ]
  },
  {
   "cell_type": "markdown",
   "id": "1376b3ff",
   "metadata": {
    "id": "1376b3ff"
   },
   "source": [
    "O potencial do pandas é melhor aproveitado quando usamos o conceito de \"tidy data\" para organizarmos nossos dados.\n",
    "\n",
    "Nos dados acima, eles estão pivoteados por segmentos de rendimento.\n",
    "\n",
    "Vamos então tentar ajustar isso."
   ]
  },
  {
   "cell_type": "markdown",
   "id": "3722dcce",
   "metadata": {
    "id": "3722dcce"
   },
   "source": [
    "Para listarmos as colunas o DataFrame possui um atributo .columns que imprime esta informação em formato de lista."
   ]
  },
  {
   "cell_type": "code",
   "execution_count": null,
   "id": "2b890cd2",
   "metadata": {
    "colab": {
     "base_uri": "https://localhost:8080/"
    },
    "id": "2b890cd2",
    "outputId": "b8593a5d-0c91-497f-e74a-c67d3b8ab4c9"
   },
   "outputs": [],
   "source": [
    "df_dados_religiao.columns"
   ]
  },
  {
   "cell_type": "code",
   "execution_count": null,
   "id": "1625d2b9",
   "metadata": {
    "colab": {
     "base_uri": "https://localhost:8080/"
    },
    "id": "1625d2b9",
    "outputId": "bdc68a96-1682-40bd-91b0-922c2195a2d9"
   },
   "outputs": [],
   "source": [
    "# Veja que podemos trabalhar como listas normalmente\n",
    "value_col = [col for col in df_dados_religiao.columns if col != 'religion']\n",
    "value_col"
   ]
  },
  {
   "cell_type": "markdown",
   "id": "c4698cb6",
   "metadata": {
    "id": "c4698cb6"
   },
   "source": [
    "## Funções Pandas\n",
    "  \n",
    "### melt  \n",
    "https://pandas.pydata.org/pandas-docs/stable/reference/api/pandas.melt.html"
   ]
  },
  {
   "cell_type": "code",
   "execution_count": null,
   "id": "7d86e92f",
   "metadata": {
    "colab": {
     "base_uri": "https://localhost:8080/",
     "height": 1000
    },
    "id": "7d86e92f",
    "outputId": "b121d94d-59b0-40ec-eea0-cb0caa2bc8f1"
   },
   "outputs": [],
   "source": [
    "# Podemos utilizar a função do Pandas .melt para alterar a visão do dataframe\n",
    "df_melt = pd.melt(df_dados_religiao,\n",
    "                  id_vars=['religion'],\n",
    "                  value_vars=value_col,\n",
    "                  var_name='income',\n",
    "                  value_name='freq')\n",
    "\n",
    "df_melt"
   ]
  },
  {
   "cell_type": "markdown",
   "id": "a3c73f06",
   "metadata": {},
   "source": [
    "## Manipulação de dados\n",
    "\n",
    "Nesta parte apresentaremos algumas funções importantes na manipulação dos dados a fim de obter insights importantes e iniciarmos nossa análise exploratória de dados (EDA - Exploratory Data Analysis)."
   ]
  },
  {
   "cell_type": "markdown",
   "id": "e52bc00d",
   "metadata": {
    "id": "e52bc00d"
   },
   "source": [
    "### Pivot Table\n",
    "\n",
    "Trabalha semelhante à tablea dinâmica conhecida pelo excel."
   ]
  },
  {
   "cell_type": "code",
   "execution_count": null,
   "id": "f1295a46",
   "metadata": {
    "colab": {
     "base_uri": "https://localhost:8080/",
     "height": 394
    },
    "id": "f1295a46",
    "outputId": "8cb95648-3595-44e4-b9ff-7c665f479fa9"
   },
   "outputs": [],
   "source": [
    "# Podemos voltar para o formato anterior, que facilita apresentações para o negócio.\n",
    "# Usamos o método pivot.\n",
    "df_melt.pivot_table(index='religion', columns='income', values='freq')"
   ]
  },
  {
   "cell_type": "code",
   "execution_count": null,
   "id": "0ff46a1d",
   "metadata": {
    "colab": {
     "base_uri": "https://localhost:8080/",
     "height": 394
    },
    "id": "0ff46a1d",
    "outputId": "0b697644-33ec-4db0-98b2-941900178acb"
   },
   "outputs": [],
   "source": [
    "df_melt.pivot(index='religion', columns='income', values='freq')"
   ]
  },
  {
   "cell_type": "markdown",
   "id": "d05140f2",
   "metadata": {
    "id": "d05140f2"
   },
   "source": [
    "### Concat  \n",
    "  \n",
    "É possível realizar a concatenação de dois ou mais dataframes por meio do método \"concat\"."
   ]
  },
  {
   "cell_type": "code",
   "execution_count": null,
   "id": "4c01f6ca",
   "metadata": {
    "colab": {
     "base_uri": "https://localhost:8080/",
     "height": 143
    },
    "id": "4c01f6ca",
    "outputId": "2ce6e0e0-a66a-4f2f-d78c-e373df1734f1"
   },
   "outputs": [],
   "source": [
    "# Criação de DataFrames por meio de dicionários\n",
    "df1 = pd.DataFrame({'nome': ['eu', 'tu', 'ela/ele'],\n",
    "                    'val': [1, 1, 1]})\n",
    "\n",
    "# Criação de DataFrames por meio de listas\n",
    "lista_valores = [['nós', 2],\n",
    "                 ['vós', 2],\n",
    "                 ['eles/elas', 2]]\n",
    "df2 = pd.DataFrame(lista_valores, columns=['nome', 'val'])\n",
    "df2"
   ]
  },
  {
   "cell_type": "code",
   "execution_count": null,
   "id": "e6271650",
   "metadata": {
    "colab": {
     "base_uri": "https://localhost:8080/",
     "height": 237
    },
    "id": "e6271650",
    "outputId": "de611b71-f27c-4e42-f326-4d967d3898d6"
   },
   "outputs": [],
   "source": [
    "# Repare que por padrão o pandas já realiza o empilhamento dos dois dataframes, mas os índices estão confusos\n",
    "df_empilhado = pd.concat([df1, df2])\n",
    "df_empilhado"
   ]
  },
  {
   "cell_type": "code",
   "execution_count": 26,
   "id": "0c0d36f6",
   "metadata": {
    "id": "0c0d36f6"
   },
   "outputs": [],
   "source": [
    "# Utilizamos o método .copy() para fazermos uma cópia do dataframe\n",
    "new_df2 = df2.copy()\n",
    "\n",
    "# O atributo .index do dataframe chama os índices\n",
    "new_df2.index = [3, 4, 5]"
   ]
  },
  {
   "cell_type": "code",
   "execution_count": null,
   "id": "487037cc",
   "metadata": {
    "colab": {
     "base_uri": "https://localhost:8080/",
     "height": 143
    },
    "id": "487037cc",
    "outputId": "84daf49a-d1a9-4d88-f371-31341b450a21"
   },
   "outputs": [],
   "source": [
    "new_df2"
   ]
  },
  {
   "cell_type": "code",
   "execution_count": null,
   "id": "48aaba69",
   "metadata": {},
   "outputs": [],
   "source": [
    "pd.concat([df1, new_df2])"
   ]
  },
  {
   "cell_type": "markdown",
   "id": "6e36495e",
   "metadata": {
    "id": "6e36495e"
   },
   "source": [
    "Caso se queira colocar um do lado do outro, invés de em cima, usamos o parâmetro \"axis\"."
   ]
  },
  {
   "cell_type": "code",
   "execution_count": null,
   "id": "c9432ff2",
   "metadata": {
    "colab": {
     "base_uri": "https://localhost:8080/",
     "height": 143
    },
    "id": "c9432ff2",
    "outputId": "e29293a4-389d-4fc7-d4c9-9f38484ac717"
   },
   "outputs": [],
   "source": [
    "# Agora ao passarmos o axis=1 ele entende que desejamos realizar uma concatenação \"lateral\" - também conhecido como merge\n",
    "pd.concat([df1, df2], axis=1)"
   ]
  },
  {
   "cell_type": "markdown",
   "id": "8c438538",
   "metadata": {
    "id": "8c438538"
   },
   "source": [
    "### Rename\n",
    "  \n",
    "O rename é utilizado para renomear labels do dataframe"
   ]
  },
  {
   "cell_type": "code",
   "execution_count": null,
   "id": "2bbfe391",
   "metadata": {
    "colab": {
     "base_uri": "https://localhost:8080/",
     "height": 143
    },
    "id": "2bbfe391",
    "outputId": "30d752fb-b3b9-4b13-a789-12559fb49cb8"
   },
   "outputs": [],
   "source": [
    "# Para renomearmos as colunas de um dataframe utilizamos um dicionário tendo como chave o valor antigo e valor o novo\n",
    "df1.rename(columns={'nome': 'nome_alterado'})"
   ]
  },
  {
   "cell_type": "code",
   "execution_count": null,
   "id": "_QC-4i8kMUF6",
   "metadata": {
    "colab": {
     "base_uri": "https://localhost:8080/",
     "height": 143
    },
    "id": "_QC-4i8kMUF6",
    "outputId": "13a30a53-b4cd-4bbe-b1ae-a7accb588322"
   },
   "outputs": [],
   "source": [
    "df1.columns = ['nome_modificado', 'valor']\n",
    "df1"
   ]
  },
  {
   "cell_type": "markdown",
   "id": "8c30e202",
   "metadata": {
    "id": "8c30e202"
   },
   "source": [
    "## Exploração de dados\n",
    "\n",
    "Em estatística, a análise exploratória de dados (EDA - Exploratory Data Analysis) é uma abordagem de análise de conjuntos de dados para resumir suas principais características, muitas vezes usando gráficos estatísticos e outros métodos de visualização de dados. Neste módulo vamos nos ater ao uso de tabelas e estatísticas para este trabalho, principalmente usando o ```pandas```."
   ]
  },
  {
   "cell_type": "code",
   "execution_count": null,
   "id": "62e39ca4",
   "metadata": {
    "id": "62e39ca4"
   },
   "outputs": [],
   "source": [
    "import pandas as pd\n",
    "\n",
    "df = pd.read_table('./dados/dados_parciais.txt', sep=';', decimal=',')\n",
    "df"
   ]
  },
  {
   "cell_type": "markdown",
   "id": "e8bcaff8",
   "metadata": {
    "id": "e8bcaff8"
   },
   "source": [
    "### Head"
   ]
  },
  {
   "cell_type": "code",
   "execution_count": null,
   "id": "d2c16cfb",
   "metadata": {
    "colab": {
     "base_uri": "https://localhost:8080/",
     "height": 143
    },
    "id": "d2c16cfb",
    "outputId": "91dbe742-e282-419c-ffa3-b8aa46136212"
   },
   "outputs": [],
   "source": [
    "# O head é utilizado para observarmos o início de um dataframe\n",
    "df.head()"
   ]
  },
  {
   "cell_type": "markdown",
   "id": "05351d5c",
   "metadata": {
    "id": "05351d5c"
   },
   "source": [
    "### Tail"
   ]
  },
  {
   "cell_type": "code",
   "execution_count": null,
   "id": "82730f0d",
   "metadata": {
    "colab": {
     "base_uri": "https://localhost:8080/",
     "height": 143
    },
    "id": "82730f0d",
    "outputId": "edb746fe-96b3-4a1d-f146-1fd39d7a3254"
   },
   "outputs": [],
   "source": [
    "# O tail é utilizado para observarmos o final de um dataframe\n",
    "df.tail()"
   ]
  },
  {
   "cell_type": "markdown",
   "id": "51572bbf",
   "metadata": {
    "id": "51572bbf"
   },
   "source": [
    "### Describe"
   ]
  },
  {
   "cell_type": "code",
   "execution_count": null,
   "id": "b44ad19f",
   "metadata": {
    "colab": {
     "base_uri": "https://localhost:8080/",
     "height": 300
    },
    "id": "b44ad19f",
    "outputId": "d2a7ffda-0bf9-4974-bf75-c94ea1c85904"
   },
   "outputs": [],
   "source": [
    "# Podemos sumarizar algumas estatísticas de várias colunas de uma única vez.\n",
    "df.describe()"
   ]
  },
  {
   "cell_type": "code",
   "execution_count": null,
   "id": "EJGmc6E2N1BS",
   "metadata": {
    "colab": {
     "base_uri": "https://localhost:8080/"
    },
    "id": "EJGmc6E2N1BS",
    "outputId": "b252e2ef-9d83-4e59-db40-328e179d97af"
   },
   "outputs": [],
   "source": [
    "type(df.describe())"
   ]
  },
  {
   "cell_type": "code",
   "execution_count": null,
   "id": "psxiEMVvOA5t",
   "metadata": {
    "colab": {
     "base_uri": "https://localhost:8080/"
    },
    "id": "psxiEMVvOA5t",
    "outputId": "32bd5f61-c272-4c81-b49b-2912af680c9b"
   },
   "outputs": [],
   "source": [
    "df_statistics = df.describe()\n",
    "df_statistics['pop_urbana']"
   ]
  },
  {
   "cell_type": "markdown",
   "id": "deee974e",
   "metadata": {
    "id": "deee974e"
   },
   "source": [
    "### Bora praticar!\n",
    "  \n",
    "1) Importe o arquivo ```csv``` **alunos3.csv** que se encontra na pasta dados com nome ```df_notas```."
   ]
  },
  {
   "cell_type": "code",
   "execution_count": 38,
   "id": "b5ab5056",
   "metadata": {},
   "outputs": [],
   "source": []
  },
  {
   "cell_type": "markdown",
   "id": "094dee31",
   "metadata": {},
   "source": [
    "2. Mostre os 10 primeiros e os 10 últimos registros deste DataFrame importado"
   ]
  },
  {
   "cell_type": "code",
   "execution_count": null,
   "id": "9b985406",
   "metadata": {},
   "outputs": [],
   "source": []
  },
  {
   "cell_type": "code",
   "execution_count": null,
   "id": "108d13c5",
   "metadata": {},
   "outputs": [],
   "source": []
  },
  {
   "cell_type": "code",
   "execution_count": null,
   "id": "818f0c90",
   "metadata": {},
   "outputs": [],
   "source": []
  },
  {
   "cell_type": "markdown",
   "id": "e5641d2b",
   "metadata": {},
   "source": [
    "3. Renomeie as colunas de notas de provas (ex: Prova_1 para Prova1)."
   ]
  },
  {
   "cell_type": "code",
   "execution_count": null,
   "id": "92216bf6",
   "metadata": {},
   "outputs": [],
   "source": []
  },
  {
   "cell_type": "markdown",
   "id": "1cf84673",
   "metadata": {},
   "source": [
    "4. Utilizando o DataFrame importado anteriormente (alunos3.csv) calcule a média das provas em uma nova coluna chamada (Media_provas)"
   ]
  },
  {
   "cell_type": "code",
   "execution_count": null,
   "id": "3747dc68",
   "metadata": {},
   "outputs": [],
   "source": []
  },
  {
   "cell_type": "code",
   "execution_count": null,
   "id": "5dd42480",
   "metadata": {},
   "outputs": [],
   "source": []
  },
  {
   "cell_type": "code",
   "execution_count": 45,
   "id": "c7c221f0",
   "metadata": {},
   "outputs": [],
   "source": []
  },
  {
   "cell_type": "markdown",
   "id": "a26fb340",
   "metadata": {
    "id": "a26fb340"
   },
   "source": [
    "5) Mostre o DataFrame ```df_notas``` ordenado em ordem alfabética. "
   ]
  },
  {
   "cell_type": "code",
   "execution_count": null,
   "id": "6c9bd524",
   "metadata": {
    "id": "6c9bd524"
   },
   "outputs": [],
   "source": []
  },
  {
   "cell_type": "markdown",
   "id": "fc617543",
   "metadata": {},
   "source": [
    "6. Filtre apenas os alunos aprovados, ou seja, aqueles que obtiveram média a partir de 7."
   ]
  },
  {
   "cell_type": "code",
   "execution_count": null,
   "id": "984bbd81",
   "metadata": {},
   "outputs": [],
   "source": []
  },
  {
   "cell_type": "code",
   "execution_count": null,
   "id": "b2feed6c",
   "metadata": {},
   "outputs": [],
   "source": []
  },
  {
   "cell_type": "markdown",
   "id": "d1771d9f",
   "metadata": {},
   "source": [
    "## Mini tarefa"
   ]
  },
  {
   "cell_type": "markdown",
   "id": "d1389380",
   "metadata": {},
   "source": [
    "Filtrando apenas os alunos cujo RA é maior que 110270, qual a média da coluna ```Media_provas```?"
   ]
  },
  {
   "cell_type": "code",
   "execution_count": null,
   "id": "e70ef492",
   "metadata": {},
   "outputs": [],
   "source": []
  }
 ],
 "metadata": {
  "colab": {
   "provenance": []
  },
  "kernelspec": {
   "display_name": "Python 3 (ipykernel)",
   "language": "python",
   "name": "python3"
  },
  "language_info": {
   "codemirror_mode": {
    "name": "ipython",
    "version": 3
   },
   "file_extension": ".py",
   "mimetype": "text/x-python",
   "name": "python",
   "nbconvert_exporter": "python",
   "pygments_lexer": "ipython3",
   "version": "3.12.2"
  },
  "vscode": {
   "interpreter": {
    "hash": "6b93bc143cf2aa4a53884dec4d65996ee4069beae8d4d0185b09d3e6e44a43f0"
   }
  }
 },
 "nbformat": 4,
 "nbformat_minor": 5
}
