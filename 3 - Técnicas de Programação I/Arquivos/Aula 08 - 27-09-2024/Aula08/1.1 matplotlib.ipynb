{
 "cells": [
  {
   "cell_type": "markdown",
   "id": "de0fac3c",
   "metadata": {},
   "source": [
    "# Técnicas de Programação I\n",
    "## Aula 8 - assunto extra\n",
    "- Gráficos com Matplotlib"
   ]
  },
  {
   "cell_type": "markdown",
   "id": "75b29d81",
   "metadata": {},
   "source": [
    "## Gráficos com Matplotlib\n",
    "O matplotlib é uma biblioteca com recursos para a geração de gráficos 2D a partir de arrays. Gráficos comuns podem ser criados com alta qualidade a partir de comandos simples, inspirados nos comandos gráficos do MATLAB.  \n",
    "Devido a sua alta qualidade e simplicidade de uso é a biblioteca gráfica mais popular para análise de dados. \n",
    "  \n",
    "**Documentação**: https://matplotlib.org/"
   ]
  },
  {
   "cell_type": "markdown",
   "id": "cf8dade5",
   "metadata": {},
   "source": [
    "### Instalação\n",
    "Caso já tenha instalado o pacote do **Matplotlib** ou está na dúvida, basta rodar o seguinte código:"
   ]
  },
  {
   "cell_type": "code",
   "execution_count": 1,
   "id": "57e54140",
   "metadata": {},
   "outputs": [],
   "source": [
    "import matplotlib"
   ]
  },
  {
   "cell_type": "markdown",
   "id": "ccab54bb",
   "metadata": {},
   "source": [
    "Se este código não rodou por erro ou se você não possui este pacote, para obtê-lo é simples, rode a célula abaixo"
   ]
  },
  {
   "cell_type": "code",
   "execution_count": null,
   "id": "9c637b25",
   "metadata": {},
   "outputs": [],
   "source": [
    "!pip install matplotlib"
   ]
  },
  {
   "cell_type": "markdown",
   "id": "189a597a",
   "metadata": {},
   "source": [
    "### Import da biblioteca\n",
    "  \n",
    "Para utilizarmos o matplotlib importamos o submódulo **pyplot** conforme podem observar na célula abaixo."
   ]
  },
  {
   "cell_type": "code",
   "execution_count": 3,
   "id": "cd20961e",
   "metadata": {},
   "outputs": [],
   "source": [
    "import matplotlib.pyplot as plt"
   ]
  },
  {
   "cell_type": "markdown",
   "id": "41b0883d",
   "metadata": {},
   "source": [
    "O conjunto de funções disponível em **matplotlib.pyplot** permite a criação de uma figura, uma área para exibir o gráfico na figura, desenho de linhas na área do gráfico, decoração do gráfico com rótulos, etc. A sintaxe utilizada é semelhante ao MATLAB.  \n",
    "   \n",
    "Para simplificar o trabalho ainda mais, o pyplot já inicia com uma figura e área de desenho padrão, que você não precisa definir, e assim o código para gerar um gráfico pode ser simplesmente:"
   ]
  },
  {
   "cell_type": "code",
   "execution_count": null,
   "id": "ea6297fb",
   "metadata": {},
   "outputs": [],
   "source": [
    "x = [1, 2, 3, 4, 5 ,6]\n",
    "y = [10,5,3,4,6,8]\n",
    "plt.plot(x, y)\n",
    "plt.show()"
   ]
  },
  {
   "cell_type": "markdown",
   "id": "3aa4b94c",
   "metadata": {},
   "source": [
    "Vamos importar também outros pacotes padrões"
   ]
  },
  {
   "cell_type": "code",
   "execution_count": 5,
   "id": "40e33bed",
   "metadata": {},
   "outputs": [],
   "source": [
    "import pandas as pd\n",
    "import numpy as np"
   ]
  },
  {
   "cell_type": "markdown",
   "id": "672981a3",
   "metadata": {},
   "source": [
    "## Scatter (dispersão)\n",
    "**Documentação**: https://matplotlib.org/stable/api/_as_gen/matplotlib.pyplot.scatter.html"
   ]
  },
  {
   "cell_type": "markdown",
   "id": "1cc26dfa",
   "metadata": {},
   "source": [
    "Importando o dataset dos pinguins"
   ]
  },
  {
   "cell_type": "code",
   "execution_count": null,
   "id": "dcd99c0e",
   "metadata": {},
   "outputs": [],
   "source": [
    "df_size = pd.read_csv('./dados/penguins_size.csv')\n",
    "df_size.head()"
   ]
  },
  {
   "cell_type": "markdown",
   "id": "3a872625",
   "metadata": {},
   "source": [
    "Criando gráfico com Matplotlib"
   ]
  },
  {
   "cell_type": "code",
   "execution_count": null,
   "id": "eef2efeb",
   "metadata": {},
   "outputs": [],
   "source": [
    "# A criação de gráficos com matplotlib é simples, exige que sejam preenchidos parâmetros necessários, mas\n",
    "# vale ressaltar que alguns gráficos por natureza possuem dois eixos como o scatter, porém outros não\n",
    "# como o histograma\n",
    "plt.scatter(x=df_size['body_mass_g'], y=df_size['culmen_depth_mm']);"
   ]
  },
  {
   "cell_type": "markdown",
   "id": "027685f5",
   "metadata": {},
   "source": [
    "### Estrutura  \n",
    "No matplotlib, temos dois conceitos importantes:  \n",
    "  \n",
    "* Área de plotagem (eixos ou Axes)\n",
    "    área onde os gráficos (linhas, barras, pontos, labels, ticks, etc) aparecem. Cada Axes possui um eixo-x e eixo-y.\n",
    "* Figure\n",
    "    é o container de nível superior que mantém toda a estrutura. É a janela onde tudo é desenhado e controlado. Dentro dele podemos ter vários gráficos independentes.\n",
    "  \n",
    "  \n",
    "Antes de gerarmos múltiplos gráficos, precisamos decidir:\n",
    "\n",
    "* podemos imprimir dois gráficos, ex: duas linhas, na mesma área de plotagem\n",
    "* ou em áreas de plotagens diferentes."
   ]
  },
  {
   "cell_type": "markdown",
   "id": "a1857c8a",
   "metadata": {},
   "source": [
    "Para exemplificar este conceito criaremos três novos dataframes separados pelas espécies dos pinguins."
   ]
  },
  {
   "cell_type": "code",
   "execution_count": 8,
   "id": "e78f2118",
   "metadata": {},
   "outputs": [],
   "source": [
    "df_size_Adelie = df_size[df_size['species'] == 'Adelie']\n",
    "df_size_Gentoo = df_size[df_size['species'] == 'Gentoo']\n",
    "df_size_Chinstrap = df_size[df_size['species'] == 'Chinstrap']"
   ]
  },
  {
   "cell_type": "markdown",
   "id": "24058368",
   "metadata": {},
   "source": [
    "**No mesmo Eixo**"
   ]
  },
  {
   "cell_type": "code",
   "execution_count": null,
   "id": "8affe765",
   "metadata": {
    "scrolled": true
   },
   "outputs": [],
   "source": [
    "plt.figure(figsize=(12, 8))\n",
    "\n",
    "plt.scatter(x=df_size_Adelie['body_mass_g'], y=df_size_Adelie['culmen_depth_mm']) # criando primeiro gráfico\n",
    "plt.scatter(x=df_size_Gentoo['body_mass_g'], y=df_size_Gentoo['culmen_depth_mm']) # criando segundo gráfico\n",
    "plt.scatter(x=df_size_Chinstrap['body_mass_g'], y=df_size_Chinstrap['culmen_depth_mm']) # criando terceiro gráfico\n",
    "\n",
    "plt.xlabel('Massa corporal') # inserindo nome para o eixo X\n",
    "plt.ylabel('Altura do bico') # inserindo nome para o eixo Y\n",
    "plt.title('Relação entre massa corporal e altura do bico dos pinguins por espécie', fontsize=15); # inserindo título para o gráfico"
   ]
  },
  {
   "cell_type": "markdown",
   "id": "179e9530",
   "metadata": {},
   "source": [
    "**Em vários eixos**  \n",
    "Para plotar os gráficos em vários eixos utilizaresmos o método *plt.subplots*, cuja função é gerar uma figura e um conjunto de eixos pré-posicionados num formato de grade.  \n",
    "  \n",
    "Para isso, ao chamarmos essa função, iremos passar dois argumentos:\n",
    "* nrows: indica quantas linhas. \n",
    "* ncols: indinca quantas colunas.\n",
    "  \n",
    "No exemplo abaixo teremos 4 gráficos sendo, portanto, 2 linhas e 2 colunas. Desta forma, retornará uma tupla de dois elementos:  \n",
    "  \n",
    "* um objeto do tipo Figure que representa a figura  \n",
    "* lista ou matriz de eixos  \n",
    "  \n",
    "Podemos acessar cada eixo usando a notação de colchetes, e invocar a função de plot normalmente."
   ]
  },
  {
   "cell_type": "code",
   "execution_count": null,
   "id": "18d8aa63",
   "metadata": {},
   "outputs": [],
   "source": [
    "fig, axs = plt.subplots(2, 2)\n",
    "axs[0,0].text(0.4, 0.5, 'Gráfico[0,0]')\n",
    "axs[0,1].text(0.4, 0.5, 'Gráfico[0,1]')\n",
    "axs[1,0].text(0.4, 0.5, 'Gráfico[1,0]')\n",
    "axs[1,1].text(0.4, 0.5, 'Gráfico[1,1]');"
   ]
  },
  {
   "cell_type": "markdown",
   "id": "e3cf52fb",
   "metadata": {},
   "source": [
    "## Tipos de gráficos\n",
    "Gráficos são representações visuais dos dados, que buscam facilitar o entendimento dos mesmos. Podem ser muito úteis na identificação de variáveis importantes para uma modelagem ou tomada de decisão.\n",
    "\n",
    "- **Scatter plot (ou gráfico de dispersão):**\n",
    "Dadas duas variáveis X e Y, cada observação (par de valores (x,y)) é representado por um ponto no gráfico. Na imagem abaixo, uma observação (x,y) = (4,5) é representada pelo X vermelho.\n",
    "\n",
    "<p align='center'>\n",
    "<img src=\"./images/img_scatterplot_editada.png\" alt=\"Drawing\" style=\"width: 500px;\"/>\n",
    "</p>\n",
    "\n",
    "- **Gráfico de linhas:**\n",
    "O gráfico de linhas é muito utilizado quando estamos querendo encontrar tendências de um conjunto de variáveis. No geral, a variável alocada no eixo horizontal representa categorias ordinais, geralmente temporais (como por exemplo: meses, anos, dias, semanas, lotes em ordem de fabricação etc). Para construí-lo, primeiro aplica-se um gráfico de dispersão dessas variáveis, e depois unem-se os pontos por linhas, como mostra a imagem abaixo. Podemos imaginar que cada categoria é um lote de produção de uma mercadoria (em que o lote 1 foi produzido antes do lote 2, e assim por diante), e no eixo vertical, têm se a quantidade vendida de cada lote. Ainda, há 3 séries representadas por cores, que podem representar, por exemplo, três clientes diferentes que adquiriram as mercadorias.\n",
    "<p align='center'>\n",
    "<img src=\"./images/grafico_linhas.jpg\" alt=\"Drawing\" style=\"width: 500px;\"/>\n",
    "</p>\n",
    "\n",
    "- **Gráfico de pizza/Pie plot (ou gráfico de setores):**\n",
    "Este gráfico tem como objetivo representar um valor relativo de cada categoria em relação a um todo. Exemplo: de todo o lucro de uma empresa revendedora de aparelhos celular, quantos porcento são relativos a cada marca de produto comercializado.\n",
    "<p align='center'>\n",
    "<img src=\"./images/grafico_pizza.png\" alt=\"Drawing\" style=\"width: 400px;\"/>\n",
    "</p>\n",
    "\n",
    "- **Gráfico de barras (horizontal e vertical):**\n",
    "Um gráfico de barras é uma forma de visualização de dados categóricos, em que cada categoria é representada por uma barra, cujo tamanho representa sua frequência/quantidade de observações. Pode ser representado de forma vertical (conhecido também como gráfico de colunas) ou de forma horizontal (em que o gráfico parece \"deitado\"). No exemplo abaixo, o mesmo conjunto de dados é representado das duas formas. \n",
    "\n",
    "Observação: Aqui, os valores \"1\", \"2\" e \"3\" das barras representam categorias, e não uma variável contínua.\n",
    "<p align='center'>\n",
    "<img src=\"./images/grafico_barras.png\" alt=\"Drawing\" style=\"width: 500px;\"/>\n",
    "</p>\n",
    "\n",
    "- **Histograma:** \n",
    "Um histograma é muito parecido com um gráfico de barras, e possui a mesma ideia: cada coluna representa uma frequência/quantidade. Entretanto, o eixo horizontal deste tipo de gráfico é uma variável contínua, e a ideia é observar a distribuição das observações desta variável. Exemplos de perguntas que podemos estar tentando responder ao analisar esse tipo de gráfico, são: \"quais são os valores mais frequentes nessa variável contínua?\" e \"Qual a probabilidade de uma nova observação ter determinado valor?\"\n",
    "\n",
    "Para se construir as barras deste gráfico, a variável contínua é agrupada em intervalos, e o tamanho da barra representa o número de observações que possuem valores dentro deste intervalo. É comum encontrar histogramas com um traço linear ligando o topo dessas barras pelo meio, de forma a facilitar a identificação de uma distribuição estatística.\n",
    "<p align='center'>\n",
    "<img src=\"./images/histograma.png\" alt=\"Drawing\" style=\"width: 500px;\"/>\n",
    "</p>\n",
    "\n",
    "- **Box-Plot:**\n",
    "Os box-plot, assim como os histogramas, são gráficos estatísticos que permitem analisar uma distribuição dos dados, mas com uma representação diferente. Apesar de muito utilizados por estatísticos e cientistas de dados, a maioria das pessoas que não estão acostumadas a eles, têm dificuldade em interpretá-los. \n",
    "\n",
    "A representação do box-plot se baseia em medidas de quartis: uma caixinha central é desenhada ligando o primeiro (Q1) e terceiro (Q3) quartis (25% e 75%, respectivamente), e uma reta corta essa 'caixa' no quartil central (Q2 = 50%). Na parte inferior e superior do gráfico, é traçada uma reta de tamanho máximo 1.5xIQ, em que IQ = Q3-Q1. Essa reta é traçada até o último valor da variável que ainda esteja dentro desse limite. Observações acima ou abaixo dele, são representadas por bolinhas, e muito chamadas de 'outliers' (valor atípico). Abaixo, uma representação dos componentes de um box-plot, e um gráfico exibindo box-plots das distribuições de temperaturas de diferentes cidades.\n",
    "<p align='center'>\n",
    "<img src=\"./images/boxplot2.png\" alt=\"Drawing\" style=\"width: 500px;\"/> \n",
    "</p>\n",
    "\n",
    "<p align='center'>\n",
    "<img src=\"./images/boxplot.png\" alt=\"Drawing\" style=\"width: 500px;\"/>\n",
    "</p>\n",
    "\n",
    "\n",
    "**Documentação**\n",
    "  \n",
    "**Linhas**: https://matplotlib.org/stable/api/_as_gen/matplotlib.pyplot.plot.html  \n",
    "**Pizza**: https://matplotlib.org/stable/api/_as_gen/matplotlib.pyplot.pie.html  \n",
    "**Barras**: https://matplotlib.org/stable/api/_as_gen/matplotlib.pyplot.bar.html  \n",
    "**Histograma**: https://matplotlib.org/stable/gallery/statistics/hist.html  \n",
    "**Boxplot**: https://matplotlib.org/3.1.1/api/_as_gen/matplotlib.pyplot.boxplot.html\n"
   ]
  },
  {
   "cell_type": "markdown",
   "id": "a3848f44",
   "metadata": {},
   "source": [
    "## EDA com Matplotlib\n",
    "Os bancos obtêm uma receita importante com empréstimos concedidos. Mas muitas vezes está associado ao risco. O mutuário pode não pagar o empréstimo. Para mitigar esse problema, os bancos decidiram usar o Machine Learning para superar esse problema. Eles coletaram dados anteriores sobre os tomadores de empréstimos e gostariam que você desenvolvesse um modelo de ML forte para classificar se algum novo devedor provavelmente entrará em default ou não.  \n",
    "  \n",
    "O conjunto de dados é enorme e consiste em vários fatores determinísticos, como renda do mutuário, gênero, finalidade do empréstimo, etc. O conjunto de dados está sujeito a uma forte multicolinearidade e valores vazios. Você pode superar esses fatores e construir um classificador forte para prever inadimplentes?"
   ]
  },
  {
   "cell_type": "markdown",
   "id": "d46cf823",
   "metadata": {},
   "source": [
    "Importe a base **Loan_Default.csv** que está em csv dentro do diretório **data**."
   ]
  },
  {
   "cell_type": "code",
   "execution_count": null,
   "id": "8a440e00",
   "metadata": {},
   "outputs": [],
   "source": [
    "import pandas as pd\n",
    "df_loan = pd.read_csv('./dados/loan_default.csv')\n",
    "df_loan.head()"
   ]
  },
  {
   "cell_type": "code",
   "execution_count": null,
   "id": "48a33239",
   "metadata": {},
   "outputs": [],
   "source": [
    "df_loan.columns"
   ]
  },
  {
   "cell_type": "markdown",
   "id": "aea84c03",
   "metadata": {},
   "source": [
    "Verifique com a função .info os campos presentes na tabela"
   ]
  },
  {
   "cell_type": "code",
   "execution_count": null,
   "id": "410524e6",
   "metadata": {
    "scrolled": true
   },
   "outputs": [],
   "source": [
    "df_loan.info()"
   ]
  },
  {
   "cell_type": "markdown",
   "id": "cd9dd0b7",
   "metadata": {},
   "source": [
    "Imprima as estatísticas padrões do dataframe com a função .describe"
   ]
  },
  {
   "cell_type": "code",
   "execution_count": null,
   "id": "a46c3178",
   "metadata": {},
   "outputs": [],
   "source": [
    "df_loan.describe()"
   ]
  },
  {
   "cell_type": "markdown",
   "id": "fcb2e57b",
   "metadata": {},
   "source": [
    "### Gráficos"
   ]
  },
  {
   "cell_type": "code",
   "execution_count": null,
   "id": "125db3ed",
   "metadata": {},
   "outputs": [],
   "source": [
    "df_loan.pivot_table(index='credit_type', values='Status', aggfunc='mean')['Status']"
   ]
  },
  {
   "cell_type": "markdown",
   "id": "fd9a4007",
   "metadata": {},
   "source": [
    "1) Verifique sua variável de interesse (Status) como a contagem de distribuição"
   ]
  },
  {
   "cell_type": "code",
   "execution_count": null,
   "id": "52983dd9",
   "metadata": {},
   "outputs": [],
   "source": []
  },
  {
   "cell_type": "markdown",
   "id": "f8ac0ec9",
   "metadata": {},
   "source": [
    "2) Construa um gráfico de barras que permita verificar a Bad Rate (média da coluna Status) por tipo de crédito oferecido (credit_type). "
   ]
  },
  {
   "cell_type": "code",
   "execution_count": null,
   "id": "a21d0c85",
   "metadata": {
    "scrolled": true
   },
   "outputs": [],
   "source": []
  },
  {
   "cell_type": "markdown",
   "id": "7360bc1b",
   "metadata": {},
   "source": [
    "3) Faça um gráfico de dispersão da Credit Score pela média do Status"
   ]
  },
  {
   "cell_type": "code",
   "execution_count": null,
   "id": "d6512349",
   "metadata": {},
   "outputs": [],
   "source": []
  },
  {
   "cell_type": "markdown",
   "id": "0677a702",
   "metadata": {},
   "source": [
    "3) Por meio de um gráfico de dispersão, identifique o comportamento da média da variável de interesse (Status) por faixa etária"
   ]
  },
  {
   "cell_type": "code",
   "execution_count": null,
   "id": "36939a40",
   "metadata": {},
   "outputs": [],
   "source": []
  },
  {
   "cell_type": "markdown",
   "id": "c7cc10b5",
   "metadata": {},
   "source": [
    "4) Como se encontra a distribuição das faixas-etárias nesta base de dados.  \n",
    "*Obs.: utilize o gráfico de pizza*"
   ]
  },
  {
   "cell_type": "code",
   "execution_count": null,
   "id": "40ee3f3c",
   "metadata": {},
   "outputs": [],
   "source": []
  },
  {
   "cell_type": "code",
   "execution_count": null,
   "id": "4fb171c5",
   "metadata": {},
   "outputs": [],
   "source": []
  }
 ],
 "metadata": {
  "kernelspec": {
   "display_name": "Python 3 (ipykernel)",
   "language": "python",
   "name": "python3"
  },
  "language_info": {
   "codemirror_mode": {
    "name": "ipython",
    "version": 3
   },
   "file_extension": ".py",
   "mimetype": "text/x-python",
   "name": "python",
   "nbconvert_exporter": "python",
   "pygments_lexer": "ipython3",
   "version": "3.12.2"
  }
 },
 "nbformat": 4,
 "nbformat_minor": 5
}
