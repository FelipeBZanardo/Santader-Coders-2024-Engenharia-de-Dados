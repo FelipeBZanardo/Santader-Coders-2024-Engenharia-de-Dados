{
 "cells": [
  {
   "cell_type": "markdown",
   "metadata": {},
   "source": [
    "# Apresentação\n",
    "Apresentação dos alunos e professor\n",
    "- Nome\n",
    "- Local onde vive\n",
    "- Por que se interessou pelo curso"
   ]
  },
  {
   "cell_type": "markdown",
   "metadata": {},
   "source": [
    "# Método de aula\n",
    "- Apresentação de conteúdo (com living coding)\n",
    "- Exercícios de aula\n",
    "- Mini tarefas"
   ]
  },
  {
   "cell_type": "markdown",
   "metadata": {},
   "source": [
    "# Cronograma"
   ]
  },
  {
   "cell_type": "markdown",
   "metadata": {},
   "source": [
    "| **#** | **Data** | **Conceitos**                                                                                                     |\n",
    "|-------|----------|-------------------------------------------------------------------------------------------------------------------|\n",
    "| 1     | 11/09   | Git |\n",
    "| 2     | 13/09   | Numpy Arrays                                                                        |\n",
    "| 3     | 16/09   | Numpy matrizes                                                      |\n",
    "| 4     | 17/09   | Pandas                                                          |\n",
    "| 5     | 20/09   | Pandas (EDA)                                                                                                           |\n",
    "| 6     | 23/09   | Limpeza de Dados e Tratamento de Dados                                                                                                       |\n",
    "| 7     | 25/09   | EDA e Desenvolvimento de projeto                                                                                                         |\n",
    "| 8     | 27/09   | Desenvolvimento de projeto                                                                                                          |\n",
    "| 9     | 30/09   | Projeto e Avaliação por rubrica e feedback     "
   ]
  }
 ],
 "metadata": {
  "language_info": {
   "name": "python"
  }
 },
 "nbformat": 4,
 "nbformat_minor": 2
}
