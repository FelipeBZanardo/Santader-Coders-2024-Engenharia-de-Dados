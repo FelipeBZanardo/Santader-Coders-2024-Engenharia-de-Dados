{
 "cells": [
  {
   "cell_type": "markdown",
   "metadata": {},
   "source": [
    "<img src='letscodebr_cover.jpeg' align='left' width=100%/>"
   ]
  },
  {
   "cell_type": "markdown",
   "metadata": {},
   "source": [
    "# Aula 2 : Numpy - Resolução do Exercício 2."
   ]
  },
  {
   "cell_type": "markdown",
   "metadata": {},
   "source": [
    "Para esse desafio usaremos um resumo do conjunto de dados [Kaggle](https://www.kaggle.com/kyanyoga/sample-sales-data) que contém dados de vendas:"
   ]
  },
  {
   "cell_type": "markdown",
   "metadata": {},
   "source": [
    "## Exercício\n",
    "\n",
    "Leia os dados do arquivo `./dados/sales_data_sample_excercise.csv`, que contém alguns dados numéricos e alguns tipos de `string` de caracteres. A amostra contém dados de vendas, informações do pedido, vendas, cliente, remessa, etc., usados para segmentação, análise do cliente, clustering e outros. \n",
    "\n",
    "\n",
    "As colunas são:\n",
    "\n",
    "* `ORDERNUMBER`: `int`, id da orden de pedido\n",
    "\n",
    "* `SALES`: `float`, quantia paga\n",
    "\n",
    "* `MONTH_ID`: `int`, mês\n",
    "\n",
    "* `YEAR_ID`: `int`, ano\n",
    "\n",
    "* `PRODUCTLINE`: `str`, produto\n",
    "\n",
    "* `COUNTRY`: `str`, país de venda\n",
    "\n",
    "Lembre-se de que todos os elementos de uma instância `ndarray` devem ser do mesmo tipo. Portanto, vamos ler o arquivo e criar uma instância de `ndarray` do tipo `string`.\n",
    "\n",
    "O que aconteceria se tentássemos criar uma instância do tipo `int`? E do tipo `float`?"
   ]
  },
  {
   "cell_type": "code",
   "execution_count": 1,
   "metadata": {},
   "outputs": [
    {
     "data": {
      "text/plain": [
       "array([['10107', '2871', '2', '2003', 'Motorcycles', 'USA'],\n",
       "       ['10121', '2765.9', '5', '2003', 'Motorcycles', 'France'],\n",
       "       ['10134', '3884.34', '7', '2003', 'Motorcycles', 'France'],\n",
       "       ...,\n",
       "       ['10386', '5417.57', '3', '2005', 'Ships', 'Spain'],\n",
       "       ['10397', '2116.16', '3', '2005', 'Ships', 'France'],\n",
       "       ['10414', '3079.44', '5', '2005', 'Ships', 'USA']], dtype='<U16')"
      ]
     },
     "execution_count": 1,
     "metadata": {},
     "output_type": "execute_result"
    }
   ],
   "source": [
    "import numpy as np\n",
    "\n",
    "# local:\n",
    "data_location = './dados/sales_data_sample_excercise.csv'\n",
    "\n",
    "data = np.genfromtxt(data_location, \n",
    "                     skip_header = 1, \n",
    "                     delimiter = '\\t', \n",
    "                     dtype = str\n",
    "                    )\n",
    "data"
   ]
  },
  {
   "cell_type": "markdown",
   "metadata": {},
   "source": [
    "# Exercício 2 - Tipos\n",
    "\n",
    "Crie um arranjo de [tipo](https://docs.scipy.org/doc/numpy/reference/generated/numpy.ndarray.astype.html) numérico `float` que tenha a coluna `SALES` como valores e outro arranjo de tipo caracteres `str` que tenha a coluna `COUNTRY` como valores."
   ]
  },
  {
   "cell_type": "code",
   "execution_count": 2,
   "metadata": {},
   "outputs": [
    {
     "name": "stdout",
     "output_type": "stream",
     "text": [
      "[2871.   2765.9  3884.34 ... 5417.57 2116.16 3079.44]\n",
      "['USA' 'France' 'France' ... 'Spain' 'France' 'USA']\n"
     ]
    }
   ],
   "source": [
    "sales_vector_str = data[:, 1]\n",
    "sales_vector =  sales_vector_str.astype(float)\n",
    "print(sales_vector)\n",
    "\n",
    "country_vector = data[:, 5]\n",
    "print(country_vector)\n"
   ]
  },
  {
   "cell_type": "markdown",
   "metadata": {},
   "source": [
    "## Exercício 3\n",
    "\n",
    "Qual foi o valor mínimo de uma venda? Qual foi o valor máximo?"
   ]
  },
  {
   "cell_type": "code",
   "execution_count": 3,
   "metadata": {},
   "outputs": [
    {
     "name": "stdout",
     "output_type": "stream",
     "text": [
      "482.13\n",
      "14082.8\n"
     ]
    }
   ],
   "source": [
    "value_min = sales_vector.min()\n",
    "value_max = sales_vector.max()\n",
    "print(value_min)\n",
    "print(value_max)"
   ]
  },
  {
   "cell_type": "markdown",
   "metadata": {},
   "source": [
    "## Exercício 4\n",
    "\n",
    "Quantas vendas foram feitas na Espanha?\n",
    "\n",
    "Dica: indexação booleana."
   ]
  },
  {
   "cell_type": "code",
   "execution_count": 4,
   "metadata": {},
   "outputs": [
    {
     "name": "stdout",
     "output_type": "stream",
     "text": [
      "[False False False ...  True False False]\n"
     ]
    },
    {
     "data": {
      "text/plain": [
       "342"
      ]
     },
     "execution_count": 4,
     "metadata": {},
     "output_type": "execute_result"
    }
   ],
   "source": [
    "sales_spain_mask = country_vector == 'Spain'\n",
    "print(sales_spain_mask)\n",
    "\n",
    "sales_spain = country_vector[sales_spain_mask]\n",
    "quant_sales_spain = sales_spain.size\n",
    "quant_sales_spain"
   ]
  },
  {
   "cell_type": "markdown",
   "metadata": {},
   "source": [
    "## Exercício 5\n",
    "\n",
    "Qual a porcentagem das vendas realizadas na Espanha?"
   ]
  },
  {
   "cell_type": "code",
   "execution_count": 5,
   "metadata": {},
   "outputs": [
    {
     "data": {
      "text/plain": [
       "12.11"
      ]
     },
     "execution_count": 5,
     "metadata": {},
     "output_type": "execute_result"
    }
   ],
   "source": [
    "quant_sales_total = country_vector.size\n",
    "porc_spain = 100 *  quant_sales_spain / quant_sales_total\n",
    "round(porc_spain, 2)"
   ]
  },
  {
   "cell_type": "markdown",
   "metadata": {},
   "source": [
    "## Exercício 6\n",
    "\n",
    "Qual é o país do preço máximo de venda? Qual é o `id` dessa venda?\n",
    "\n",
    "Dica: indexação booleana"
   ]
  },
  {
   "cell_type": "code",
   "execution_count": 6,
   "metadata": {},
   "outputs": [
    {
     "name": "stdout",
     "output_type": "stream",
     "text": [
      "USA\n",
      "10407\n"
     ]
    }
   ],
   "source": [
    "precio_max = sales_vector.max()\n",
    "\n",
    "#print(precio_max)\n",
    "precio_max_mask = sales_vector == precio_max\n",
    "\n",
    "#print(precio_max_mask)\n",
    "pais_max_precio = country_vector[precio_max_mask][0]\n",
    "print(pais_max_precio)\n",
    "\n",
    "id_vector_str = data[ : , 0]\n",
    "id_vector =  id_vector_str.astype(int)\n",
    "id_max_price = id_vector[precio_max_mask][0]\n",
    "print(id_max_price)"
   ]
  },
  {
   "cell_type": "markdown",
   "metadata": {},
   "source": [
    "## Exercício 7\n",
    "\n",
    "Qual é o preço médio de venda na França? Qual é o desvio padrão?"
   ]
  },
  {
   "cell_type": "code",
   "execution_count": 7,
   "metadata": {},
   "outputs": [
    {
     "name": "stdout",
     "output_type": "stream",
     "text": [
      "3537.9507006369427\n",
      "1939.214360481481\n"
     ]
    }
   ],
   "source": [
    "ventas_france_mask = country_vector == 'France'\n",
    "prices_france = sales_vector[ventas_france_mask]\n",
    "\n",
    "mean_france = prices_france.mean()\n",
    "print(mean_france)\n",
    "\n",
    "StandardDeviation_france = prices_france.std()\n",
    "print(StandardDeviation_france)"
   ]
  },
  {
   "cell_type": "markdown",
   "metadata": {},
   "source": [
    "## Exercício 8\n",
    "\n",
    "Qual foi o ano de maior desvio padrão nas vendas na França?\n",
    "\n",
    "Dica: Use o atributo [`.unique()`](https://docs.scipy.org/doc/numpy/reference/generated/numpy.unique.html)"
   ]
  },
  {
   "cell_type": "code",
   "execution_count": 8,
   "metadata": {},
   "outputs": [
    {
     "name": "stdout",
     "output_type": "stream",
     "text": [
      "[2003 2004 2005]\n",
      "[1860.7718844747073, 1837.8438485766644, 2241.7723043613423]\n",
      "2005\n"
     ]
    }
   ],
   "source": [
    "data_france_mask = country_vector == 'France'\n",
    "data_france_sales = data[data_france_mask, 1]\n",
    "data_france_years = data[data_france_mask, 3]\n",
    "\n",
    "data_france_years_num = data_france_years.astype(int)\n",
    "\n",
    "years_unique = np.unique(data_france_years_num)\n",
    "print(years_unique)\n",
    "\n",
    "desvios = []\n",
    "for year in years_unique:\n",
    "    years_vector_mask = data_france_years_num == year\n",
    "    precios_year_mask = data_france_sales[years_vector_mask].astype(float)    \n",
    "    desvio_year = precios_year_mask.std()\n",
    "    desvios.append(desvio_year)\n",
    "\n",
    "print(desvios)\n",
    "\n",
    "desvio_max = np.array(desvios).max()\n",
    "desvios_max_mask = desvios == desvio_max\n",
    "year_desvio_max = years_unique[desvios_max_mask][0]\n",
    "print(year_desvio_max)\n",
    "    "
   ]
  },
  {
   "cell_type": "code",
   "execution_count": null,
   "metadata": {},
   "outputs": [],
   "source": []
  }
 ],
 "metadata": {
  "kernelspec": {
   "display_name": "Python 3",
   "language": "python",
   "name": "python3"
  },
  "language_info": {
   "codemirror_mode": {
    "name": "ipython",
    "version": 3
   },
   "file_extension": ".py",
   "mimetype": "text/x-python",
   "name": "python",
   "nbconvert_exporter": "python",
   "pygments_lexer": "ipython3",
   "version": "3.12.2"
  }
 },
 "nbformat": 4,
 "nbformat_minor": 4
}
