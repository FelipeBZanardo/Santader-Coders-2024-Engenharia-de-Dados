{
 "cells": [
  {
   "cell_type": "markdown",
   "id": "396e845d",
   "metadata": {},
   "source": [
    "# Numpy"
   ]
  },
  {
   "cell_type": "markdown",
   "id": "f7b40eb6",
   "metadata": {},
   "source": [
    "**Relembrando**  \n",
    "  \n",
    "A biblioteca **NumPy** _(Numerical Python)_ proporciona uma forma eficiente de armazenagem e processamento de conjuntos de dados, e é utilizada como base para a construção da biblioteca Pandas, que estudaremos a seguir.\n",
    "\n",
    "O diferencial do Numpy é sua velocidade e eficiência, o que faz com que ela seja amplamente utilizada para computação científica e analise de dados. \n",
    "\n",
    "A velocidade e eficiência é possível graças à estrutura chamada **numpy array**, que é um forma eficiente de guardar e manipular matrizes, que serve como base para as tabelas que iremos utilizar."
   ]
  },
  {
   "cell_type": "code",
   "execution_count": 1,
   "id": "9c2e96a9",
   "metadata": {},
   "outputs": [],
   "source": [
    "# A gente importa o numpy sempre chamando ele de \"np\"\n",
    "import numpy as np"
   ]
  },
  {
   "cell_type": "code",
   "execution_count": null,
   "id": "7ab9fbe9",
   "metadata": {},
   "outputs": [],
   "source": [
    "py_array = [1, 2, 3]\n",
    "\n",
    "np_array = np.array(py_array)\n",
    "\n",
    "print(np_array)\n",
    "print(type(np_array))"
   ]
  },
  {
   "cell_type": "code",
   "execution_count": null,
   "id": "5f3a07bf",
   "metadata": {},
   "outputs": [],
   "source": [
    "print(type(np_array[0]))"
   ]
  },
  {
   "cell_type": "code",
   "execution_count": null,
   "id": "7b65c4bc",
   "metadata": {},
   "outputs": [],
   "source": [
    "# Vamos fazer uma comparação com um vetor do numpy\n",
    "py_matriz = [[1, 2, 3],\n",
    "             [4, 5, 6],\n",
    "             [7, 8, 9],\n",
    "             [10, 11, 12]]\n",
    "\n",
    "np_matriz = np.array(py_matriz)\n",
    "\n",
    "print(np_matriz)\n",
    "print(type(np_matriz))"
   ]
  },
  {
   "cell_type": "code",
   "execution_count": null,
   "id": "4ec6934a",
   "metadata": {},
   "outputs": [],
   "source": [
    "np_matriz[0]"
   ]
  },
  {
   "cell_type": "code",
   "execution_count": null,
   "id": "7cbb8c76",
   "metadata": {},
   "outputs": [],
   "source": [
    "print(type(np_matriz[0]))"
   ]
  },
  {
   "cell_type": "code",
   "execution_count": null,
   "id": "70a6c74c",
   "metadata": {},
   "outputs": [],
   "source": [
    "np_matriz[0,0]"
   ]
  },
  {
   "cell_type": "code",
   "execution_count": null,
   "id": "c4d81943",
   "metadata": {},
   "outputs": [],
   "source": [
    "np_matriz[0][0]"
   ]
  },
  {
   "cell_type": "code",
   "execution_count": null,
   "id": "ad7087b8",
   "metadata": {},
   "outputs": [],
   "source": [
    "# 3 atributos básicos pra um ndarray\n",
    "print(np_matriz.shape) # O formato da matriz\n",
    "print(np_matriz.ndim)  # Quantidade de dimensões\n",
    "print(np_matriz.dtype) # Tipo de dado dos elementos da matriz"
   ]
  },
  {
   "cell_type": "code",
   "execution_count": null,
   "id": "61e3d7b5",
   "metadata": {},
   "outputs": [],
   "source": [
    "x = np.array([1, 2, 3])\n",
    "print(type(x))\n",
    "print(x.dtype)"
   ]
  },
  {
   "cell_type": "code",
   "execution_count": 11,
   "id": "30797cb3",
   "metadata": {},
   "outputs": [],
   "source": [
    "# O dtype de um array do numpy pode ser controlado na hora que a gente cria.\n",
    "py_matriz = [[1, 2, 3],\n",
    "             [4, 5, 6],\n",
    "             [7, 8, 9],\n",
    "             [10, 11, 12]]\n",
    "\n",
    "matriz = np.array(py_matriz, dtype=np.float64)"
   ]
  },
  {
   "cell_type": "code",
   "execution_count": null,
   "id": "bc3a2f7f",
   "metadata": {},
   "outputs": [],
   "source": [
    "print(matriz)\n",
    "print(matriz.dtype)"
   ]
  },
  {
   "cell_type": "code",
   "execution_count": null,
   "id": "99c0d86d",
   "metadata": {},
   "outputs": [],
   "source": [
    "# Para selecionar um elemento de uma tabela no Python e no Numpy, tem uma ligeira diferença.\n",
    "print(matriz[0][0])\n",
    "print(matriz[0, 0])"
   ]
  },
  {
   "cell_type": "markdown",
   "id": "6bda33f8",
   "metadata": {},
   "source": [
    "Slicing com matriz"
   ]
  },
  {
   "cell_type": "code",
   "execution_count": null,
   "id": "5c76be9f",
   "metadata": {},
   "outputs": [],
   "source": [
    "y = np.array([1, 2, 3, 4, 5, 6, 7])\n",
    "print(y)"
   ]
  },
  {
   "cell_type": "code",
   "execution_count": null,
   "id": "cb9332e8",
   "metadata": {},
   "outputs": [],
   "source": [
    "print(y[1:-1])\n",
    "print('')\n",
    "print(y[::2])\n",
    "print('')\n",
    "print(y[-1:])"
   ]
  },
  {
   "cell_type": "code",
   "execution_count": null,
   "id": "cb5cf979",
   "metadata": {},
   "outputs": [],
   "source": [
    "matriz[1]"
   ]
  },
  {
   "cell_type": "code",
   "execution_count": null,
   "id": "8f9e2122",
   "metadata": {},
   "outputs": [],
   "source": [
    "# Slicing funciona no numpy!\n",
    "print(matriz)\n",
    "print('')\n",
    "print(matriz[:,1:])\n",
    "print('')\n",
    "print(matriz[1:,:])\n",
    "print('')\n",
    "print(matriz[1,::-1])\n",
    "print('')\n",
    "print(matriz[1:-1,-1:])"
   ]
  },
  {
   "cell_type": "markdown",
   "id": "e864132c",
   "metadata": {},
   "source": [
    "**Funções numpy**  \n",
    "O numpy também tem diversas funções para facilitar criação de matrizes."
   ]
  },
  {
   "cell_type": "code",
   "execution_count": null,
   "id": "cb47ae67",
   "metadata": {},
   "outputs": [],
   "source": [
    "print(np.zeros((2, 3)))\n",
    "print(np.ones((3, 2)))\n",
    "print(np.identity(3))\n",
    "print(np.eye(4, 3))"
   ]
  },
  {
   "cell_type": "markdown",
   "id": "af8b483d",
   "metadata": {},
   "source": [
    "# Manipulações de matrizes"
   ]
  },
  {
   "cell_type": "code",
   "execution_count": null,
   "id": "39fd8a40",
   "metadata": {},
   "outputs": [],
   "source": [
    "matriz"
   ]
  },
  {
   "cell_type": "code",
   "execution_count": null,
   "id": "5ead4367",
   "metadata": {},
   "outputs": [],
   "source": [
    "# Transposição de matrizes\n",
    "matriz.T"
   ]
  },
  {
   "cell_type": "code",
   "execution_count": null,
   "id": "87df6a49",
   "metadata": {},
   "outputs": [],
   "source": [
    "np.transpose(matriz)"
   ]
  },
  {
   "cell_type": "code",
   "execution_count": null,
   "id": "b7bc6bc8",
   "metadata": {},
   "outputs": [],
   "source": [
    "matriz.transpose()"
   ]
  },
  {
   "cell_type": "code",
   "execution_count": null,
   "id": "e347d8b8",
   "metadata": {},
   "outputs": [],
   "source": [
    "x = np.array([0.1, 0.4, 1.0, 0.2, 0.7, 1.2, 1.1, 1.0, 0.9])\n",
    "x.shape"
   ]
  },
  {
   "cell_type": "code",
   "execution_count": null,
   "id": "5c298535",
   "metadata": {},
   "outputs": [],
   "source": [
    "# Redimensionamento\n",
    "x.reshape(3, 3)"
   ]
  },
  {
   "cell_type": "code",
   "execution_count": null,
   "id": "9e51e72f",
   "metadata": {},
   "outputs": [],
   "source": [
    "y = np.array([0.1, 0.4, 1.0, 0.2, 0.7, 1.2, 1.1, 1.0, 0.9, 2.0,\n",
    "              1.5, 1.6])\n",
    "y.shape"
   ]
  },
  {
   "cell_type": "code",
   "execution_count": 26,
   "id": "01201e9a",
   "metadata": {
    "scrolled": true
   },
   "outputs": [],
   "source": [
    "# Vejam o que acontece se as dimensões não são condizentes\n",
    "# y.reshape(3, 3)"
   ]
  },
  {
   "cell_type": "code",
   "execution_count": null,
   "id": "b64b9ce4",
   "metadata": {},
   "outputs": [],
   "source": [
    "# E se eu quiser retornar para um vetor\n",
    "x = np.array([[1, 2, 3],\n",
    "              [4, 5, 6],\n",
    "              [7, 8, 9]])\n",
    "x.reshape(-1, 9)"
   ]
  },
  {
   "cell_type": "code",
   "execution_count": null,
   "id": "69d11867",
   "metadata": {},
   "outputs": [],
   "source": [
    "# Também é possível utilizar o flatten\n",
    "x.flatten()"
   ]
  },
  {
   "cell_type": "code",
   "execution_count": 29,
   "id": "0bf692ae",
   "metadata": {},
   "outputs": [],
   "source": [
    "# Também podemos combinar arrays diferentes.\n",
    "# Imagina que temos duas features, altura e peso de pessoas físicas.\n",
    "x1 = np.array([[1.67, 89.],\n",
    "               [1.79, 85.],\n",
    "               [1.69, 65.],\n",
    "               [1.54, 57.],\n",
    "               [1.50, 45.]])\n",
    "\n",
    "# Porém, nós queremos testar agora adicionar uma terceira feature, se a pessoa é homem ou mulher.\n",
    "# 1 é mulher, 0 é homem\n",
    "x2 = np.array([1, 0, 1, 0, 1])\n",
    "\n",
    "# Como podemos fazer?"
   ]
  },
  {
   "cell_type": "code",
   "execution_count": null,
   "id": "a6d58896",
   "metadata": {},
   "outputs": [],
   "source": [
    "x2.reshape(-1, 1)"
   ]
  },
  {
   "cell_type": "code",
   "execution_count": null,
   "id": "71f46c3f",
   "metadata": {},
   "outputs": [],
   "source": [
    "# Podemos utilizar o concatenate\n",
    "np.concatenate((x1, x2.reshape(-1, 1)), axis=1)"
   ]
  },
  {
   "cell_type": "code",
   "execution_count": null,
   "id": "f50d4542",
   "metadata": {},
   "outputs": [],
   "source": [
    "np.concatenate((x1, x2.T), axis=1)"
   ]
  },
  {
   "cell_type": "markdown",
   "id": "ec055617",
   "metadata": {},
   "source": [
    "O erro ocorre porque a função `np.concatenate()` exige que todos os arrays fornecidos como entrada tenham o mesmo número de dimensões. No seu código, o array `x1` tem 2 dimensões, mas o array `x2.T` (após a transposição) tem 1 dimensão.\n",
    "\n",
    "### Análise detalhada:\n",
    "\n",
    "- **`x1`**: Esse array tem 2 dimensões (provavelmente uma matriz ou uma tabela).\n",
    "- **`x2`**: Esse array parece ser 1D (um vetor). Após a transposição (`x2.T`), ele permanece 1D porque a transposição de um array 1D não altera sua forma.\n",
    "  \n",
    "- **`np.concatenate()`**: Para concatenar arrays ao longo de um eixo específico, todos os arrays devem ter o mesmo número de dimensões. No caso, você está tentando concatenar ao longo do eixo `1` (`axis=1`), que requer que ambos os arrays tenham pelo menos 2 dimensões. No entanto, o `x2.T` ainda é 1D, causando o erro.\n",
    "\n",
    "### Solução:\n",
    "Se você deseja concatenar `x1` com `x2`, você precisa garantir que ambos os arrays tenham o mesmo número de dimensões. Uma solução é expandir a dimensão de `x2` para torná-lo 2D.\n"
   ]
  },
  {
   "cell_type": "code",
   "execution_count": null,
   "id": "a37eaf59",
   "metadata": {},
   "outputs": [],
   "source": [
    "x2 = x2[:, np.newaxis]  # Expande o array 1D para 2D, transformando-o em uma coluna\n",
    "np.concatenate((x1, x2), axis=1)"
   ]
  },
  {
   "cell_type": "markdown",
   "id": "190f5d47",
   "metadata": {},
   "source": [
    "### Explicação da Solução:\n",
    "- **`x2[:, np.newaxis]`**: Isso transforma o array 1D `x2` em um array 2D com uma única coluna, compatível com o número de dimensões de `x1`. Agora ambos os arrays têm 2 dimensões, permitindo que `np.concatenate()` funcione sem erro.\n",
    "\n",
    "Com essa mudança, o código deve funcionar corretamente sem gerar o erro de dimensões."
   ]
  },
  {
   "cell_type": "code",
   "execution_count": null,
   "id": "f8679c60",
   "metadata": {},
   "outputs": [],
   "source": [
    "np.append(x1, x2.reshape(-1, 1), axis=1)"
   ]
  },
  {
   "cell_type": "code",
   "execution_count": null,
   "id": "b44bef12",
   "metadata": {},
   "outputs": [],
   "source": [
    "np.insert(x1, 0, x2, axis=1)"
   ]
  },
  {
   "cell_type": "code",
   "execution_count": null,
   "id": "6abcbb1c",
   "metadata": {},
   "outputs": [],
   "source": [
    "np.vstack([x1.T,x2]).T"
   ]
  },
  {
   "cell_type": "code",
   "execution_count": null,
   "id": "429fec63",
   "metadata": {},
   "outputs": [],
   "source": [
    "np.hstack([x1, x2.reshape(-1, 1)])"
   ]
  },
  {
   "cell_type": "code",
   "execution_count": null,
   "id": "19ae7488",
   "metadata": {},
   "outputs": [],
   "source": [
    "np.column_stack([x1, x2])"
   ]
  },
  {
   "cell_type": "code",
   "execution_count": null,
   "id": "26224457",
   "metadata": {},
   "outputs": [],
   "source": [
    "np.row_stack([x1.T, x2])"
   ]
  },
  {
   "cell_type": "code",
   "execution_count": 68,
   "id": "42ac946c",
   "metadata": {},
   "outputs": [],
   "source": [
    "# Agora temos a tabela de dados abaixo.\n",
    "table = np.array([[1.67, 89., 1],\n",
    "                  [1.79, 85., 0],\n",
    "                  [1.69, 65., 1],\n",
    "                  [1.54, 57., 0],\n",
    "                  [1.50, 45., 1]])\n",
    "\n",
    "# Mas tinhamos esquecido de outras 3 pessoas!\n",
    "new_table = np.array([[1.78, 91, 0],\n",
    "                      [1.72, 67, 1],\n",
    "                      [1.77, 76, 1]])"
   ]
  },
  {
   "cell_type": "code",
   "execution_count": null,
   "id": "582baf26",
   "metadata": {},
   "outputs": [],
   "source": [
    "# Como podemos juntar as tabelas?\n",
    "np.vstack([table, new_table])"
   ]
  },
  {
   "cell_type": "code",
   "execution_count": null,
   "id": "2aa445e6",
   "metadata": {},
   "outputs": [],
   "source": [
    "np.concatenate((table, new_table), axis=0)"
   ]
  },
  {
   "cell_type": "code",
   "execution_count": null,
   "id": "1ff93db0",
   "metadata": {},
   "outputs": [],
   "source": [
    "np.append(table, new_table, axis=0)"
   ]
  },
  {
   "cell_type": "markdown",
   "id": "ca533559",
   "metadata": {},
   "source": [
    "Extra"
   ]
  },
  {
   "cell_type": "code",
   "execution_count": null,
   "id": "2125056d",
   "metadata": {},
   "outputs": [],
   "source": [
    "# Inversão de matriz\n",
    "A = np.array(\n",
    "    [[6, 1, 1],\n",
    "     [4, -2, 5],\n",
    "     [2, 8, 7]]\n",
    ")\n",
    "np.linalg.inv(A)"
   ]
  },
  {
   "cell_type": "markdown",
   "id": "5e63879e",
   "metadata": {},
   "source": [
    "# Operações Básicas"
   ]
  },
  {
   "cell_type": "code",
   "execution_count": null,
   "id": "92aa6dfc",
   "metadata": {},
   "outputs": [],
   "source": [
    "matriz"
   ]
  },
  {
   "cell_type": "code",
   "execution_count": null,
   "id": "dd788bdd",
   "metadata": {},
   "outputs": [],
   "source": [
    "#Podemos multiplicar por um escalar\n",
    "matriz_dobro = 2 * matriz\n",
    "matriz_dobro"
   ]
  },
  {
   "cell_type": "code",
   "execution_count": null,
   "id": "a7002dda",
   "metadata": {},
   "outputs": [],
   "source": [
    "# Podemos somar duas matrizes\n",
    "print(matriz + matriz_dobro)"
   ]
  },
  {
   "cell_type": "code",
   "execution_count": null,
   "id": "cf606dab",
   "metadata": {},
   "outputs": [],
   "source": [
    "# Multiplicação elemento por elemento\n",
    "print(matriz * matriz_dobro)"
   ]
  },
  {
   "cell_type": "code",
   "execution_count": null,
   "id": "4fedf1b6",
   "metadata": {},
   "outputs": [],
   "source": [
    "print(matriz.shape)\n",
    "print(matriz_dobro.shape)"
   ]
  },
  {
   "cell_type": "code",
   "execution_count": null,
   "id": "97971086",
   "metadata": {},
   "outputs": [],
   "source": [
    "# Produto matricial\n",
    "print(matriz @ matriz_dobro.T)"
   ]
  },
  {
   "cell_type": "markdown",
   "id": "9384d618",
   "metadata": {},
   "source": [
    "**Bora praticar!**  \n",
    "  \n",
    "Transforme os dados presentes no arquivo csv **dados_artificiais.csv**, que está na pasta **dados** em um numpy array (matriz). Apenas para facilitar o exercício, os dados do arquivo já se encontram na célula abaixo, mas aqui cabe ressaltar o motivo de estarmos utilizando o numpy para análise de dados."
   ]
  },
  {
   "cell_type": "code",
   "execution_count": null,
   "id": "4b3dd763",
   "metadata": {},
   "outputs": [],
   "source": [
    "lista_artificial =  [[1.78881069287776, 65.6481019432242, 0],\n",
    "                    [1.5667844336950, 76.6427679834926, 0],\n",
    "                    [2.0921930548074, 55.4681853258539, 1],\n",
    "                    [1.7824709172724, 67.28199736248, 1],\n",
    "                    [1.7357669765411, 69.2890076331505, 0],\n",
    "                    [1.6869746476945, 56.8400511361321, 0],\n",
    "                    [1.7971046329794, 65.2089732846482, 1],\n",
    "                    [1.1873490549389, 48.1647639458379, 0],\n",
    "                    [1.5958914364289, 45.4106481398706, 1],\n",
    "                    [1.3962817760658, 67.9301133367375, 0],\n",
    "                    [1.6061481645731, 67.7196040973561, 0],\n",
    "                    [1.7075899674617, 45.6093326162225, 0],\n",
    "                    [1.7355131159863, 64.8454515098479, 0],\n",
    "                    [1.6720551819612, 39.7059515043444, 1],\n",
    "                    [1.7233770692063, 50.0588802056305, 1],\n",
    "                    [1.6845742723083, 56.5450873826135, 1],\n",
    "                    [1.7332589297219, 37.5121875909276, 0],\n",
    "                    [1.7578996592814, 57.3624223948134, 0],\n",
    "                    [1.9133377051681, 69.3072463864561, 1],\n",
    "                    [1.4560483434458, 69.3423371108747, 0]\n",
    "]\n",
    "\n",
    "dados_matriz = np.array(lista_artificial)\n",
    "print(dados_matriz)"
   ]
  },
  {
   "cell_type": "markdown",
   "id": "5743e18c",
   "metadata": {},
   "source": [
    "Utilize esta matriz para calcular o IMC, utilizando a equação\n",
    "\n",
    "```\n",
    "IMC = peso / altura**2\n",
    "```\n",
    "e insira na nova tabela"
   ]
  },
  {
   "cell_type": "code",
   "execution_count": null,
   "id": "54d6742f",
   "metadata": {},
   "outputs": [],
   "source": []
  },
  {
   "cell_type": "code",
   "execution_count": null,
   "id": "ce9300c5",
   "metadata": {},
   "outputs": [],
   "source": []
  },
  {
   "cell_type": "code",
   "execution_count": null,
   "id": "f539c499",
   "metadata": {},
   "outputs": [],
   "source": []
  },
  {
   "cell_type": "markdown",
   "id": "e113561c",
   "metadata": {},
   "source": [
    "| IMC             | Categoria           |   |\n",
    "|-----------------|---------------------|---|\n",
    "| abaixo de 16,00 | Baixo peso Grau III |   |\n",
    "| 16,00 a 16,99   | Baixo peso Grau II  |   |\n",
    "| 17,00 a 18.49   | Baixo peso Grau I   |   |\n",
    "| 18,50 a 24,99   | Peso ideal          |   |\n",
    "| 25,00 a 29,99   | Sobrepeso           |   |\n",
    "| 30,00 a 34,99   | Obesidade Grau I    |   |\n",
    "| 35,00 a 39,99   | Obesidade Grau II   |   |\n",
    "| 40,0 e acima    | Obesidade Grau III  |   |\n",
    "\n",
    "Agora utilize a tabela acima para indicar a qual categoria cada valor de IMC se enquadra. Insira novamente na tabela."
   ]
  },
  {
   "cell_type": "code",
   "execution_count": null,
   "id": "b391ff54",
   "metadata": {},
   "outputs": [],
   "source": []
  },
  {
   "cell_type": "code",
   "execution_count": null,
   "id": "bd84b1c4",
   "metadata": {},
   "outputs": [],
   "source": []
  },
  {
   "cell_type": "markdown",
   "id": "a098d472",
   "metadata": {},
   "source": [
    "### Tipos de dados"
   ]
  },
  {
   "cell_type": "markdown",
   "id": "df4dff6f",
   "metadata": {},
   "source": [
    "Primeiro vamos falar do infinito (e além).\n",
    "\n",
    "Quando fazemos operações de ponto flutuante no computador, existe um padrão técnico (definido pela IEEE, o Instituto de Engenheiros Eletro-eletrônicos) que define algumas coisas que uma biblioteca tem que ter.\n",
    "\n",
    "Especificamente, aqui vamos falar de duas coisas:\n",
    "- Not a Number (NAN)\n",
    "- Infinito"
   ]
  },
  {
   "cell_type": "code",
   "execution_count": null,
   "id": "9b952e58",
   "metadata": {},
   "outputs": [],
   "source": [
    "# Not a Number é o resultado de operações inválidas.\n",
    "# Embora ele exista no Python, operações inválidas tendem a levantar um erro.\n",
    "0/0"
   ]
  },
  {
   "cell_type": "code",
   "execution_count": null,
   "id": "7cd1a71f",
   "metadata": {},
   "outputs": [],
   "source": [
    "# Para usá-lo no python, temos que converter string para float.\n",
    "float('NaN')"
   ]
  },
  {
   "cell_type": "code",
   "execution_count": null,
   "id": "2ed080c8",
   "metadata": {},
   "outputs": [],
   "source": [
    "# No numpy, temos o objeto nan.\n",
    "print(np.nan)\n",
    "print(type(np.nan))"
   ]
  },
  {
   "cell_type": "code",
   "execution_count": null,
   "id": "2e9e1480",
   "metadata": {},
   "outputs": [],
   "source": [
    "# Já no numpy, operações inválidas retornam NaN mesmo.\n",
    "x1 = np.array([1, 0, 1, 0])\n",
    "x2 = np.array([2, 1, 2, 0])\n",
    "\n",
    "print(x1/x2)"
   ]
  },
  {
   "cell_type": "code",
   "execution_count": null,
   "id": "14ff5b7f",
   "metadata": {},
   "outputs": [],
   "source": [
    "# \"Infinito\", no padrão, pode ser pensado como um número que é maior que qualquer outro número.\n",
    "# No caso de \"-infinito\", temos um número que é menor que qualquer outro número.\n",
    "1/0"
   ]
  },
  {
   "cell_type": "code",
   "execution_count": null,
   "id": "5fada44a",
   "metadata": {},
   "outputs": [],
   "source": [
    "print(float('inf'))\n",
    "print(float('inf') > 10000000000000000000000000000)\n",
    "print(-float('inf') < -10000000000000000000000000000)"
   ]
  },
  {
   "cell_type": "code",
   "execution_count": null,
   "id": "5d5c065e",
   "metadata": {},
   "outputs": [],
   "source": [
    "# No Numpy, não seria diferente.\n",
    "print(np.inf)\n",
    "print(np.inf > 10000000000000000000000000000)\n",
    "print(-np.inf < -10000000000000000000000000000)\n",
    "print(type(np.inf))"
   ]
  },
  {
   "cell_type": "code",
   "execution_count": null,
   "id": "2d1714ff",
   "metadata": {
    "scrolled": true
   },
   "outputs": [],
   "source": [
    "# No numpy, algumas operações podem gerar infinitos.\n",
    "x1 = np.array([1, 0, 1, 0])\n",
    "x2 = np.array([2, 1, 2, 0])\n",
    "\n",
    "print(x2/x1)"
   ]
  },
  {
   "cell_type": "markdown",
   "id": "2fa8e736",
   "metadata": {},
   "source": [
    "Notou que tanto infinito quanto NaN são do tipo \"float\"? Não são float64, nem float32, nem nada assim.\n",
    "\n",
    "Isso é devido à hierarquia de dtypes do numpy.\n",
    "\n",
    "![hierarchy](https://numpy.org/doc/stable/_images/dtype-hierarchy.png)"
   ]
  },
  {
   "cell_type": "markdown",
   "id": "569060dd",
   "metadata": {},
   "source": [
    "## Mini tarefa"
   ]
  },
  {
   "cell_type": "markdown",
   "id": "a934e3b6",
   "metadata": {},
   "source": [
    "Utilizando numpy crie duas matrizes com 5 linhas e 4 colunas, sendo uma delas apenas contendo números 1 e a segunda uma matriz olho (eye). Após isso, some as duas matrizes."
   ]
  },
  {
   "cell_type": "code",
   "execution_count": null,
   "id": "3de8b1f2",
   "metadata": {},
   "outputs": [],
   "source": []
  }
 ],
 "metadata": {
  "kernelspec": {
   "display_name": "Python 3 (ipykernel)",
   "language": "python",
   "name": "python3"
  },
  "language_info": {
   "codemirror_mode": {
    "name": "ipython",
    "version": 3
   },
   "file_extension": ".py",
   "mimetype": "text/x-python",
   "name": "python",
   "nbconvert_exporter": "python",
   "pygments_lexer": "ipython3",
   "version": "3.12.2"
  },
  "vscode": {
   "interpreter": {
    "hash": "7f52069df51f55474cef70a04f6de2c8e83f851022777c4983d9d0bb63ea6184"
   }
  }
 },
 "nbformat": 4,
 "nbformat_minor": 5
}
