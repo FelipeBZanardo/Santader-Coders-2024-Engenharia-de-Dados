{
 "cells": [
  {
   "cell_type": "markdown",
   "metadata": {},
   "source": [
    "### Calculadora de Horas\n",
    "Amanda trabalha como desenvolvedora Python em uma Consultoria em TI e recebe o valor de 25 reais por hora, sendo que em média ela trabalha em torno de 8 horas por dia. Para facilitar o acompanhamento de Amanda, desenvolva uma função chamada calculadora_horas que irá receber como entrada respectivamente duas marcações de tempo (com data e hora no formato string) time1 e time2, sendo time2 sempre posterior ao time1. A saída da função será respectivamente uma lista com dois valores float: o primeiro é o total de horas trabalhadas; e o segundo é o valor total que será recebido por Amanda.\n",
    "\n",
    "Observação: A resposta de saída da função deve ser uma lista com os respectivos valores indicados no enunciado, arredondados em 2 casas decimais."
   ]
  },
  {
   "cell_type": "code",
   "execution_count": null,
   "metadata": {},
   "outputs": [],
   "source": [
    "from datetime import datetime\n",
    "\n",
    "def calculadora_horas(time1, time2):\n",
    "    hora1 = datetime.strptime(time1, \"%Y-%m-%d %H:%M\")\n",
    "    hora2 = datetime.strptime(time2, \"%Y-%m-%d %H:%M\")\n",
    "    delta = hora2 - hora1\n",
    "    horas_trabalhadas = delta.total_seconds()/3600 - delta.days*24\n",
    "    valor_total = 25 * horas_trabalhadas\n",
    "    return [round(horas_trabalhadas,2), round(valor_total,2)]"
   ]
  },
  {
   "cell_type": "markdown",
   "metadata": {},
   "source": [
    "### Ordenando pelo MMC\n",
    "O Mínimo Múltiplo Comum (MMC) de dois ou mais números é definido pelo múltiplo comum corresponde a todos os números observados. Por exemplo, o MMC entre 6 e 10 é o 30 devido aos número 2, 3 e 5. O objetivo deste exercício, além de calcular o MMC será ordenar uma lista utilizando o MMC. Assim, desenvolva a função ordenar_mmc, que como entrada irá receber uma lista de números e um número a parte de referência. A função deve calcular O MMC de cada um dos números da lista em relação ao de referência e em seguida ordenar os números originais de acordo com o MMC do menor valor para o maior, como o exemplo a seguir:\n",
    "\n",
    "##### lista de entrada\n",
    "lista = [12, 8, 10]\n",
    "\n",
    "##### numero de referência\n",
    "ref = 4\n",
    "\n",
    "##### utilizando a função\n",
    "print(ordenar_mmc(lista, ref))\n",
    "\n",
    "##### Resultado da função, pois o mmcs = [12, 8, 20] \n",
    "[8, 12, 10]\n",
    "Resultados"
   ]
  },
  {
   "cell_type": "code",
   "execution_count": null,
   "metadata": {},
   "outputs": [],
   "source": [
    "from operator import itemgetter\n",
    "def ordenar_mmc(lista, ref):\n",
    "    dict_mmc = dict()\n",
    "    for numero in lista:\n",
    "        dict_mmc[numero] = mmc(numero, ref)\n",
    "    dict_mmc_sorted = sorted(dict_mmc.items(), key=itemgetter(1))\n",
    "    return [numero[0] for numero in dict_mmc_sorted]\n",
    "\n",
    "def mdc(a, b):\n",
    "    if b == 0:\n",
    "        return a\n",
    "    return mdc(b, a % b)\n",
    "\n",
    "def mmc(a, b):\n",
    "    return int(abs(a * b) / mdc(a, b))"
   ]
  },
  {
   "cell_type": "markdown",
   "metadata": {},
   "source": [
    "### Cálculo de IMC\n",
    "O Índice de Massa Corporal (IMC) é um coeficiente de referência para avaliar a saúde das pessoas de acordo com seu peso e altura, onde o IMC segue as seguintes faixas:\n",
    "\n",
    "IMC\tClassificação\n",
    "- <= 18,5\t1 - Abaixo do Peso\n",
    "- entre 18,6 e 24,9\t2 - Peso Ideal\n",
    "- entre 25,0 e 29,9\t3 - Sobrepeso\n",
    "- entre 30,0 e 34,9\t4 - Obesidade Grau I\n",
    "- entre 35,0 e 39,9\t5 - Obesidade Grau II\n",
    "- '>= 40,0\t6 - Obesidade Grau III\n",
    "\n",
    "Dadas as faixas e respectivas classificações, desenvolva a função calculo_imc que terá como entrada respectivamente uma lista de pesos em kg e uma lista de alturas em cm de 20 pessoas; e deve calcular o IMC de cada uma delas de acordo com a fórmula \n",
    "IMC = peso(kg)/altura²(m)\n",
    "Por fim, calcular qual é a quantidade de pessoas em cada uma das faixas e devolver isto como resposta na forma de uma lista, onde os elementos são ordenados respectivamente segundo a ordem de classificação: isto é, o primeiro elemento será o número de pessoas na classificação 1 - Abaixo do Peso, e assim por diante."
   ]
  },
  {
   "cell_type": "code",
   "execution_count": null,
   "metadata": {},
   "outputs": [],
   "source": [
    "def calculo_imc(pesos, alturas):\n",
    "    dict_imc = {\n",
    "        \"Abaixo do Peso\": 0,\n",
    "        \"Peso Ideal\": 0,\n",
    "        \"Sobrepeso\": 0,\n",
    "        \"Obesidade Grau I\": 0,\n",
    "        \"Obesidade Grau 2\": 0,\n",
    "        \"Obesidade Grau 3\": 0}\n",
    "    \n",
    "    for peso, altura in zip(pesos, alturas):\n",
    "        imc = get_imc(peso, altura/100)\n",
    "        classificacao = get_classificacao(imc)\n",
    "        dict_imc[classificacao] += 1\n",
    "    return list(dict_imc.values())\n",
    "\n",
    "def get_imc(peso, altura):\n",
    "    return peso / (altura ** 2)\n",
    "\n",
    "def get_classificacao(imc):\n",
    "    if imc <= 18.5:\n",
    "        return \"Abaixo do Peso\"\n",
    "    elif imc <= 24:\n",
    "        return \"Peso Ideal\"\n",
    "    elif imc <= 29.9:\n",
    "        return \"Sobrepeso\"\n",
    "    elif imc <= 34.9:\n",
    "        return \"Obesidade Grau I\"\n",
    "    elif imc <= 39.9:\n",
    "        return \"Obesidade Grau 2\"\n",
    "    return \"Obesidade Grau 3\""
   ]
  },
  {
   "cell_type": "markdown",
   "metadata": {},
   "source": [
    "### Frequência de Notas\n",
    "Após aplicar a prova para 40 alunos do módulo de técnicas de programação, o professor gostaria de avaliar qual foi a nota mais frequente e quantos alunos tiraram essa nota. Para isso, você deve desenvolver uma função nomeada nota_mais_frequente, onde será recebida uma lista com 40 notas de alunos e a função deve retornar uma lista com respectivamente a indicação de qual é a nota mais frequente e o valor de quantas vezes ocorreu esta nota.\n",
    "\n",
    "Importante destacar que as notas são valores positivos e inteiros que variam entre 0 e 10. Além disso, caso 2 ou mais notas sejam a mais frequente, o retorno da função deve ser a menor nota."
   ]
  },
  {
   "cell_type": "code",
   "execution_count": null,
   "metadata": {},
   "outputs": [],
   "source": [
    "def nota_mais_frequente(lista: list):\n",
    "    dict_notas = dict()\n",
    "    notas_unicas = set(lista)\n",
    "    for nota in notas_unicas:\n",
    "        dict_notas[nota] = lista.count(nota)\n",
    "\n",
    "    maior_frequencia = max(dict_notas.values())\n",
    "    notas_mais_frequente = list()\n",
    "    for nota1 in dict_notas.keys():\n",
    "        if dict_notas[nota1] == maior_frequencia:\n",
    "            notas_mais_frequente.append(nota1)\n",
    "    return [min(notas_mais_frequente), dict_notas[min(notas_mais_frequente)]]"
   ]
  },
  {
   "cell_type": "markdown",
   "metadata": {},
   "source": [
    "### Palíndromo\n",
    "Palíndromo é a característica de uma palavra ser igualmente escrita na ordem normal e reversa, como por exemplo ana e arara. O objetivo deste exercício é criar uma função nomeada palindromo, onde a função recebe uma lista de palavras e a saída será a quantidade de palindromos dentro da lista. Lembre-se de avaliar as palavras independentemente da forma como estiver grafada."
   ]
  },
  {
   "cell_type": "code",
   "execution_count": null,
   "metadata": {},
   "outputs": [],
   "source": [
    "def palindromo(lista: list[str]):\n",
    "    qtd_palindromo = 0\n",
    "    for palavra in lista:\n",
    "        if palavra.lower() == palavra.lower()[::-1]:\n",
    "            qtd_palindromo += 1\n",
    "    return qtd_palindromo"
   ]
  },
  {
   "cell_type": "markdown",
   "metadata": {},
   "source": [
    "### Máximo Divisor Comum\n",
    "O máximo divisor comum entre dois números representa o maior valor que pode dividir estes números e ter como resultado um número inteiro. Para este exercício, você deve implementar uma função nomeada mdc, que irá receber dois números inteiros quaisquer como entrada e deve devolver como saída, o maior divisor comum destes números e os respectivos resultados das divisões inteiras dos números de entrada pelo MDC. Atenção: o retorno da função deve ser uma lista com os respectivos valores."
   ]
  },
  {
   "cell_type": "code",
   "execution_count": null,
   "metadata": {},
   "outputs": [],
   "source": [
    "def mdc(num1, num2):\n",
    "    valor_mdc = calc_mdc(num1, num2)\n",
    "    div_1 = num1 // valor_mdc\n",
    "    div_2 = num2 // valor_mdc\n",
    "    return [valor_mdc, div_1, div_2]\n",
    "\n",
    "def calc_mdc(a, b):\n",
    "    while b:\n",
    "        a, b = b, a % b\n",
    "    return a"
   ]
  },
  {
   "cell_type": "markdown",
   "metadata": {},
   "source": [
    "### Restaurantes Mais Próximos\n",
    "Perto da casa de João existem vários restaurantes que entregam comida e João deseja fazer um pedido, mas ele tem um compromisso marcado e não pode esperar muito tempo. Então João quer saber qual é o restaurante mais próximo da residência dele, utilizando a distância Euclidiana, cuja a fórmula é dado pela equação a seguir:\n",
    "\n",
    " d(A, B) = \\sqrt{(x_{A, 1} - x_{B, 1})^{2} + (x_{A, 2} - x_{B, 2})^{2} + ... + (x_{A, n} - x_{B, n})^{2}}\n",
    "Desenvolva uma função chamada restaurante_mais_proximo que irá receber como parâmetros respectivamente uma lista de coordenadas da casa do João e uma lista de 4 listas com as coordenadas dos restaurantes a verificar e o retorno da função deve ser o número referente ao restaurante mais próximo. Importante ressaltar que o número do restaurante começa pelo 1 e que em caso de empate, deve-se indicar o primeiro restaurante a apresentar a menor distância.\n",
    "\n",
    "Obs.: Importante explicitar a saída como um valor inteiro, ou seja, utilize o int() para converter o retorno."
   ]
  },
  {
   "cell_type": "code",
   "execution_count": null,
   "metadata": {},
   "outputs": [],
   "source": [
    "def restaurante_mais_proximo(casa, restaurantes):\n",
    "    distancias = list()\n",
    "    for restaurante in restaurantes:\n",
    "        dist = 0\n",
    "        for cord_casa, cord_rest in zip(casa, restaurante):\n",
    "            dist += (cord_casa - cord_rest)**2\n",
    "        distancias.append(dist**0.5)\n",
    "\n",
    "    return distancias.index(min(distancias))"
   ]
  },
  {
   "cell_type": "markdown",
   "metadata": {},
   "source": [
    "### Conversão de Binário para Decimal\n",
    "O Sistema binário é uma representação da matemática onde a base de referência para a construção dos números é o 2 ao invés do 10 comum na base decimal. Por exemplo, o binário 1001 na base decimal será igual a: 1001 = 1*2^3 + 0*2^2 + 0*2^1 + 1*2^0 = 9. O objetivo deste exercício é desenvolver uma função nomeada como conversor_binario, onde irá receber uma string com o número binário correspondente e a função deve devolver o respectivo número na base decimal."
   ]
  },
  {
   "cell_type": "code",
   "execution_count": null,
   "metadata": {},
   "outputs": [],
   "source": [
    "def conversor_binario(binario):\n",
    "    decimal = 0\n",
    "    for i, num in enumerate(str(binario)[::-1]): \n",
    "        decimal += int(num) * 2 ** i\n",
    "    return decimal"
   ]
  }
 ],
 "metadata": {
  "kernelspec": {
   "display_name": "Python 3",
   "language": "python",
   "name": "python3"
  },
  "language_info": {
   "codemirror_mode": {
    "name": "ipython",
    "version": 3
   },
   "file_extension": ".py",
   "mimetype": "text/x-python",
   "name": "python",
   "nbconvert_exporter": "python",
   "pygments_lexer": "ipython3",
   "version": "3.11.5"
  }
 },
 "nbformat": 4,
 "nbformat_minor": 2
}
