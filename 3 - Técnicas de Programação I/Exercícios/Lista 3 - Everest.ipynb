{
 "cells": [
  {
   "cell_type": "markdown",
   "metadata": {},
   "source": [
    "### Regressão Linear Simples\n",
    "Uma regressão linear simples pode ser definida como a equação de reta que melhor represente um conjunto de dados (x,y). O objetivo deste exercício é definir uma função linreg que receba como entrada duas listas representando respectivamente x e y, e que retorna respectivamente os parâmetros β0 e β1 da equação y = β1x + β0 (arredondando os parâmetros com 4 casas decimais). A equação para definir β0 e β1 pode ser \n",
    "  são, respectivamente, os valores médios de x e y.\n",
    "\n",
    "Obs: A saída da função deve ser da forma de uma lista com os parâmetros , respectivamente."
   ]
  },
  {
   "cell_type": "code",
   "execution_count": null,
   "metadata": {},
   "outputs": [],
   "source": [
    "import pandas as pd\n",
    "def linreg(x, y):\n",
    "    df = pd.DataFrame({'x': x, 'y': y})\n",
    "    media_x = df['x'].mean()\n",
    "    media_y = df['y'].mean()\n",
    "    df['xi-x.mean'] = df['x'] - media_x\n",
    "    df['yi-y.mean'] = df['y'] - media_y\n",
    "    df['(xi-x.mean)*(yi-y.mean)'] = df['xi-x.mean']*df['yi-y.mean']\n",
    "    b1 = round(df['(xi-x.mean)*(yi-y.mean)'].sum() / sum(df['xi-x.mean']**2), 4)\n",
    "    b0 = round(media_y - b1*media_x, 4)\n",
    "    return [b0, b1]"
   ]
  },
  {
   "cell_type": "markdown",
   "metadata": {},
   "source": [
    "### Tradução de DNA para RNA\n",
    "O DNA, molécula que armazena o código genético de seres vivos; e o RNA, molécula que atua sobretudo no processo de síntese proteica, são compostas, dentre outras coisas, pelas bases nitrogenadas Adenina (A), Guanina (G), Citosina (C), Timina (T) e Uracila (U). Na cadeia do DNA temos as bases A,G,C,T; e no RNA as bases A,G,C,U. No processo de transcrição de DNA para RNA, a Timina (T) é substituída pela Uracila (U). O objetivo deste exercício será desenvolver uma função que deve ser chamada de tradutor_dna_to_rna onde como entrada irá receber uma string com o código do DNA e deve devolver o código traduzido para RNA."
   ]
  },
  {
   "cell_type": "code",
   "execution_count": null,
   "metadata": {},
   "outputs": [],
   "source": [
    "def tradutor_dna_to_rna(dna: str):\n",
    "    return dna.replace('T', 'U').replace('t', 'u')"
   ]
  },
  {
   "cell_type": "markdown",
   "metadata": {},
   "source": [
    "### Conversão de Número para Binário\n",
    "O Sistema binário é uma representação da matemática onde a base de referência para a construção dos números é o 2 ao invés do 10 comum na base decimal. Por exemplo, o binário 1001 na base decimal será igual a 1001 = 1*2^3 + 0*2^2 + 0*2^1 + 1*2^0 = 9. O objetivo deste exercício é desenvolver uma função nomeada como conversor_numero, que irá receber um valor númerico inteiro na base decimal e converter este valor para a base binária, que deve ser retornado na forma de string. Por exemplo, se a função receber o número inteiro 9 como input, deve retornar a string '1001'."
   ]
  },
  {
   "cell_type": "code",
   "execution_count": null,
   "metadata": {},
   "outputs": [],
   "source": [
    "def conversor_numero(num):\n",
    "    binario = ''\n",
    "    while num > 0:\n",
    "        binario += str(num % 2)\n",
    "        num //= 2\n",
    "    return binario[::-1]"
   ]
  },
  {
   "cell_type": "markdown",
   "metadata": {},
   "source": [
    "### Verificador de Aprovação\n",
    "Um professor de programação ao longo do curso passou diversas atividades para entregar valendo nota (10 atividades), além de contabilizar as frequências dos alunos ao longo de 25 aulas. Como são muitos alunos para avaliar, foi sugerida uma ferramenta que auxilie nestes fechamentos de notas. Para isto, desenvolva a função verifica_aprovacao, que receberá como entrada um lista com 11 elementos, onde os 10 primeiros são as notas dos alunos e o último é a quantidade de aulas que o aluno compareceu. A função deve devolver como saída se o aluno está Aprovado ou Reprovado, sendo que como critério de aprovação o aluno deve ter média maior ou igual a \n",
    "6.0\n",
    "6.0; e presença maior ou igual a 70%."
   ]
  },
  {
   "cell_type": "code",
   "execution_count": null,
   "metadata": {},
   "outputs": [],
   "source": [
    "def verifica_aprovacao(notas_freq):\n",
    "    media = sum(notas_freq[:-1]) / 10\n",
    "    presenca = notas_freq[-1] / 25\n",
    "    if media >= 6 and presenca >= 0.7:\n",
    "        return 'Aprovado'\n",
    "    return 'Reprovado'"
   ]
  },
  {
   "cell_type": "markdown",
   "metadata": {},
   "source": [
    "### Matching entre Vetores\n",
    "No contexto de Machine Learning, um processo bem comum é de comparar respostas entre vetores (listas de valores) para entender o quão assertivo foi um determinado modelo. Dado este contexto, desenvolva a função vector_matching que verifica os elementos de mesma posição desses vetores, checando se eles são iguais ou diferentes. Para esta função têm-se como entrada dois vetores de dimensões iguais preenchidos com 0 ou 1; e a saída da função será o percentual de valores concordantes entre os dois vetores (arredonde o percentual para 1 casa decimal). Esta métrica é denominada acurácia.\n",
    "\n",
    "Obs.: Importante explicitar a saída como um valor float, ou seja, utilize o float()."
   ]
  },
  {
   "cell_type": "code",
   "execution_count": null,
   "metadata": {},
   "outputs": [],
   "source": [
    "import pandas as pd\n",
    "def vector_matching(v1, v2):\n",
    "    df = pd.DataFrame({\"v1\": v1, \"v2\": v2})\n",
    "    df['v1 - v2'] = df['v1'] - df['v2']\n",
    "    acuracia = float(df.query(\"(v1 - v2) == 0\").count().values[0])*100 / len(v1) \n",
    "    return round(acuracia, 1)"
   ]
  },
  {
   "cell_type": "markdown",
   "metadata": {},
   "source": [
    "### Normalização ou Z-Score\n",
    "A normalização é uma ferramenta muito importante da estatística que transforma (reescala) um conjunto de dados de modo a fazer com que a distribuição transformada tenha média zero e desvio padrão 1. O processo de normalização se dá a partir do cálculo do chamado z-score. O objetivo deste exercício será desenvolver a função z_score, que recebe uma lista de entrada com um conjunto de dados quaisquer, e retorna a lista com os respectivos Z-Scores dos dados, seguindo a função z = (x−μ)/σ, onde μ é a média do conjunto de dados e σ é o desvio padrão do mesmo. \n",
    "Importante: arredonde os valores para 4 casas decimais."
   ]
  },
  {
   "cell_type": "code",
   "execution_count": null,
   "metadata": {},
   "outputs": [],
   "source": [
    "import pandas as pd\n",
    "\n",
    "def z_score(data):\n",
    "    df = pd.DataFrame({'x': data})\n",
    "    media = df['x'].mean().round(4)\n",
    "    dp = df['x'].std(ddof=0).round(4)\n",
    "    df['(x-mean)/dp'] = (df['x'] - media) / dp\n",
    "    return df['(x-mean)/dp'].round(4).to_list()"
   ]
  },
  {
   "cell_type": "markdown",
   "metadata": {},
   "source": [
    "### Escalonamento MinMaxScaler\n",
    "Um segundo método muito utilizado para reescalar um conjunto de dados é o MinMaxScaler, que altera a escala de um conjunto de dados para um intervalo determinado, a partir dos valores máximos e mínimos do conjunto de dados original. O objetivo deste exercício será desenvolver uma função chamada minmaxscaler que irá receber como entrada um conjunto de dados e de saída será uma lista com os valores na nova escala seguindo a função y = (x − min)/(max-min).Neste caso, os dados estarão escalados entre 0 e 1. Importante: arredonde para 4 casas decimais."
   ]
  },
  {
   "cell_type": "code",
   "execution_count": null,
   "metadata": {},
   "outputs": [],
   "source": [
    "import pandas as pd\n",
    "\n",
    "def minmaxscaler(data):\n",
    "    df = pd.DataFrame({'x': data})\n",
    "    minimo = df['x'].min()\n",
    "    maximo = df['x'].max()\n",
    "    df['minmaxscaler'] = (df['x'] - minimo) / (maximo - minimo)\n",
    "    return df['minmaxscaler'].round(4).to_list()"
   ]
  },
  {
   "cell_type": "markdown",
   "metadata": {},
   "source": [
    "### Número Primo\n",
    "Os números primos são números com uma característica especial: um número primo só é divisível por ele mesmo ou pelo número 1. O objetivo deste exercício será criar a função verifica_primo, onde a entrada será uma lista de números inteiros, e a função deve verificar desta lista quais números são primos ou não. A saída da função deve ser uma lista que terá apenas os números que são primos; e caso não haja nenhum, a lista deve conter o único elemento 0 - ou seja, deve ser retornado [0]."
   ]
  },
  {
   "cell_type": "code",
   "execution_count": null,
   "metadata": {},
   "outputs": [],
   "source": [
    "def verifica_primo(nums):\n",
    "    primos = []\n",
    "    for num in nums:\n",
    "        count = 0\n",
    "        for i in range(2, num+1):\n",
    "            if num % i == 0:\n",
    "                count += 1\n",
    "        if count == 1:\n",
    "            primos.append(num)\n",
    "    return [0] if len(primos) == 0 else primos"
   ]
  }
 ],
 "metadata": {
  "kernelspec": {
   "display_name": "Python 3",
   "language": "python",
   "name": "python3"
  },
  "language_info": {
   "codemirror_mode": {
    "name": "ipython",
    "version": 3
   },
   "file_extension": ".py",
   "mimetype": "text/x-python",
   "name": "python",
   "nbconvert_exporter": "python",
   "pygments_lexer": "ipython3",
   "version": "3.11.5"
  }
 },
 "nbformat": 4,
 "nbformat_minor": 2
}
