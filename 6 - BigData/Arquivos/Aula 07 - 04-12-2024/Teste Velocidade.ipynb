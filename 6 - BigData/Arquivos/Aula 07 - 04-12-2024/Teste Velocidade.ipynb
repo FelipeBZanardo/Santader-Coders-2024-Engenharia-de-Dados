{
 "cells": [
  {
   "cell_type": "code",
   "execution_count": 2,
   "id": "646dd56b",
   "metadata": {},
   "outputs": [],
   "source": [
    "import pandas as pd\n",
    "import numpy as np\n",
    "\n",
    "def get_dataset(size):\n",
    "    # Create Fake Dataset\n",
    "    df = pd.DataFrame()\n",
    "    df['size'] = np.random.choice(['big','medium','small'], size)\n",
    "    df['age'] = np.random.randint(1, 50, size)\n",
    "    df['team'] = np.random.choice(['red','blue','yellow','green'], size)\n",
    "    df['win'] = np.random.choice(['yes','no'], size)\n",
    "    dates = pd.date_range('2020-01-01', '2022-12-31')\n",
    "    df['date'] = np.random.choice(dates, size)\n",
    "    df['prob'] = np.random.uniform(0, 1, size)\n",
    "    return df\n",
    "\n",
    "def set_dtypes(df):\n",
    "    df['size'] = df['size'].astype('category')\n",
    "    df['team'] = df['team'].astype('category')\n",
    "    df['age'] = df['age'].astype('int16')\n",
    "    df['win'] = df['win'].map({'yes':True, 'no': False})\n",
    "    df['prob'] = df['prob'].astype('float32')\n",
    "    return df"
   ]
  },
  {
   "cell_type": "code",
   "execution_count": 3,
   "id": "96cccc6c",
   "metadata": {},
   "outputs": [],
   "source": [
    "df = get_dataset(5_000_000)"
   ]
  },
  {
   "cell_type": "code",
   "execution_count": 6,
   "id": "a22dc86d",
   "metadata": {},
   "outputs": [],
   "source": [
    "df_2 = set_dtypes(df)"
   ]
  },
  {
   "cell_type": "code",
   "execution_count": 4,
   "id": "7fe312d7",
   "metadata": {},
   "outputs": [
    {
     "name": "stdout",
     "output_type": "stream",
     "text": [
      "<class 'pandas.core.frame.DataFrame'>\n",
      "RangeIndex: 5000000 entries, 0 to 4999999\n",
      "Data columns (total 6 columns):\n",
      " #   Column  Dtype         \n",
      "---  ------  -----         \n",
      " 0   size    object        \n",
      " 1   age     int32         \n",
      " 2   team    object        \n",
      " 3   win     object        \n",
      " 4   date    datetime64[ns]\n",
      " 5   prob    float64       \n",
      "dtypes: datetime64[ns](1), float64(1), int32(1), object(3)\n",
      "memory usage: 209.8+ MB\n"
     ]
    }
   ],
   "source": [
    "df.info()"
   ]
  },
  {
   "cell_type": "code",
   "execution_count": 7,
   "id": "fd817088",
   "metadata": {},
   "outputs": [
    {
     "name": "stdout",
     "output_type": "stream",
     "text": [
      "<class 'pandas.core.frame.DataFrame'>\n",
      "RangeIndex: 5000000 entries, 0 to 4999999\n",
      "Data columns (total 6 columns):\n",
      " #   Column  Dtype         \n",
      "---  ------  -----         \n",
      " 0   size    category      \n",
      " 1   age     int16         \n",
      " 2   team    category      \n",
      " 3   win     bool          \n",
      " 4   date    datetime64[ns]\n",
      " 5   prob    float32       \n",
      "dtypes: bool(1), category(2), datetime64[ns](1), float32(1), int16(1)\n",
      "memory usage: 81.1 MB\n"
     ]
    }
   ],
   "source": [
    "df_2.info()"
   ]
  },
  {
   "cell_type": "code",
   "execution_count": 8,
   "id": "c3a028f0",
   "metadata": {},
   "outputs": [
    {
     "name": "stdout",
     "output_type": "stream",
     "text": [
      "Reading and writing CSV\n",
      "CPU times: total: 6.67 s\n",
      "Wall time: 6.9 s\n",
      "CPU times: total: 1.45 s\n",
      "Wall time: 1.55 s\n"
     ]
    }
   ],
   "source": [
    "print('Reading and writing CSV')\n",
    "df = get_dataset(1_000_000)\n",
    "df = set_dtypes(df)\n",
    "%time df.to_csv('test.csv')\n",
    "%time df_csv = pd.read_csv('test.csv')"
   ]
  },
  {
   "cell_type": "code",
   "execution_count": 9,
   "id": "fffbf7f5",
   "metadata": {},
   "outputs": [
    {
     "name": "stdout",
     "output_type": "stream",
     "text": [
      "Reading and writing Pickle\n",
      "CPU times: total: 15.6 ms\n",
      "Wall time: 14 ms\n",
      "CPU times: total: 15.6 ms\n",
      "Wall time: 25 ms\n"
     ]
    }
   ],
   "source": [
    "print('Reading and writing Pickle')\n",
    "df = get_dataset(1_000_000)\n",
    "df = set_dtypes(df)\n",
    "%time df.to_pickle('test.pickle')\n",
    "%time df_pickle = pd.read_pickle('test.pickle')"
   ]
  },
  {
   "cell_type": "code",
   "execution_count": 10,
   "id": "150ada56",
   "metadata": {},
   "outputs": [
    {
     "name": "stdout",
     "output_type": "stream",
     "text": [
      "Reading and writing Parquet\n",
      "CPU times: total: 344 ms\n",
      "Wall time: 334 ms\n",
      "CPU times: total: 188 ms\n",
      "Wall time: 88.4 ms\n"
     ]
    }
   ],
   "source": [
    "print('Reading and writing Parquet')\n",
    "df = get_dataset(1_000_000)\n",
    "df = set_dtypes(df)\n",
    "%time df.to_parquet('test.parquet')\n",
    "%time df_parquet = pd.read_parquet('test.parquet')"
   ]
  },
  {
   "cell_type": "code",
   "execution_count": 5,
   "id": "37d4c2ff",
   "metadata": {},
   "outputs": [
    {
     "name": "stdout",
     "output_type": "stream",
     "text": [
      "Reading and writing Feather\n",
      "CPU times: total: 391 ms\n",
      "Wall time: 204 ms\n",
      "CPU times: total: 266 ms\n",
      "Wall time: 111 ms\n"
     ]
    }
   ],
   "source": [
    "print('Reading and writing Feather')\n",
    "df = get_dataset(5_000_000)\n",
    "df = set_dtypes(df)\n",
    "%time df.to_feather('test.feather')\n",
    "%time df_feather = pd.read_feather('test.feather')"
   ]
  }
 ],
 "metadata": {
  "kernelspec": {
   "display_name": "Python 3 (ipykernel)",
   "language": "python",
   "name": "python3"
  },
  "language_info": {
   "codemirror_mode": {
    "name": "ipython",
    "version": 3
   },
   "file_extension": ".py",
   "mimetype": "text/x-python",
   "name": "python",
   "nbconvert_exporter": "python",
   "pygments_lexer": "ipython3",
   "version": "3.10.5"
  }
 },
 "nbformat": 4,
 "nbformat_minor": 5
}
