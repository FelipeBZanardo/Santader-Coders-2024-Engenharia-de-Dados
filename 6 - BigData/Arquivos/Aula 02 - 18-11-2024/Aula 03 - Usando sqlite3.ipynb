{
 "cells": [
  {
   "cell_type": "markdown",
   "id": "57a57706",
   "metadata": {},
   "source": [
    "# Tutorial Sqlite3\n",
    "\n",
    "Neste tutorial, você criará um banco de dados de filmes do Monty Python usando funcionalidades básicas do sqlite3. Pressupõe-se um entendimento fundamental de conceitos de banco de dados, incluindo cursores e transações.\n",
    "\n",
    "Primeiramente, precisamos criar um novo banco de dados e abrir uma conexão com ele para permitir que o sqlite3 trabalhe com o banco. Use o comando `sqlite3.connect()` para criar uma conexão com o banco de dados chamado **tutorial.db** no diretório de trabalho atual, criando-o implicitamente caso ele não exista:"
   ]
  },
  {
   "cell_type": "code",
   "execution_count": 11,
   "id": "3573769c",
   "metadata": {},
   "outputs": [],
   "source": [
    "import sqlite3\n",
    "con = sqlite3.connect(\"tutorial.db\")"
   ]
  },
  {
   "cell_type": "markdown",
   "id": "40f40998",
   "metadata": {},
   "source": [
    "O objeto de conexão retornado, **con**, representa a conexão com o banco de dados armazenado em disco.\n",
    "\n",
    "Para executar instruções SQL e obter os resultados das consultas SQL, será necessário usar um cursor de banco de dados. Use o comando `con.cursor()` para criar o cursor:"
   ]
  },
  {
   "cell_type": "code",
   "execution_count": 12,
   "id": "6f97773f",
   "metadata": {},
   "outputs": [],
   "source": [
    "cur = con.cursor()"
   ]
  },
  {
   "cell_type": "markdown",
   "id": "23815872",
   "metadata": {},
   "source": [
    "Agora que temos uma conexão com o banco de dados e um cursor, podemos criar uma tabela chamada **movie** com colunas para título, ano de lançamento e pontuação de avaliação. Para simplificar, podemos usar apenas os nomes das colunas na declaração da tabela – graças à funcionalidade de tipagem flexível do SQLite, especificar os tipos de dados é opcional. Execute a instrução **CREATE TABLE** chamando `cur.execute(...)`:"
   ]
  },
  {
   "cell_type": "code",
   "execution_count": 17,
   "id": "51e30d96",
   "metadata": {},
   "outputs": [
    {
     "data": {
      "text/plain": [
       "<sqlite3.Cursor at 0x1ce740b66c0>"
      ]
     },
     "execution_count": 17,
     "metadata": {},
     "output_type": "execute_result"
    }
   ],
   "source": [
    "cur.execute(\"CREATE TABLE movie(title, year, score)\")"
   ]
  },
  {
   "cell_type": "markdown",
   "id": "ac9dac8b",
   "metadata": {},
   "source": [
    "Podemos verificar se a nova tabela foi criada consultando a tabela **sqlite_master**, integrada ao SQLite, que agora deve conter uma entrada para a definição da tabela **movie** (consulte *The Schema Table* para mais detalhes). Execute essa consulta chamando `cur.execute(...)`, atribua o resultado à variável **res** e use `res.fetchone()` para obter a linha resultante:"
   ]
  },
  {
   "cell_type": "code",
   "execution_count": 18,
   "id": "afe003f3",
   "metadata": {},
   "outputs": [
    {
     "data": {
      "text/plain": [
       "('movie',)"
      ]
     },
     "execution_count": 18,
     "metadata": {},
     "output_type": "execute_result"
    }
   ],
   "source": [
    "res = cur.execute(\"SELECT name FROM sqlite_master\")\n",
    "res.fetchone()"
   ]
  },
  {
   "cell_type": "markdown",
   "id": "c8c97666",
   "metadata": {},
   "source": [
    "Podemos ver que a tabela foi criada, pois a consulta retorna uma tupla contendo o nome da tabela. Se consultarmos a **sqlite_master** para uma tabela inexistente, como **spam**, `res.fetchone()` retornará **None**:"
   ]
  },
  {
   "cell_type": "code",
   "execution_count": 19,
   "id": "e5e203ea",
   "metadata": {},
   "outputs": [
    {
     "data": {
      "text/plain": [
       "True"
      ]
     },
     "execution_count": 19,
     "metadata": {},
     "output_type": "execute_result"
    }
   ],
   "source": [
    "res = cur.execute(\"SELECT name FROM sqlite_master WHERE name='spam'\")\n",
    "res.fetchone() is None"
   ]
  },
  {
   "cell_type": "markdown",
   "id": "5b1150c7",
   "metadata": {},
   "source": [
    "Agora, adicione duas linhas de dados fornecidos como literais SQL executando uma instrução **INSERT**, novamente utilizando `cur.execute(...)`:"
   ]
  },
  {
   "cell_type": "code",
   "execution_count": 20,
   "id": "7d936d1d",
   "metadata": {},
   "outputs": [
    {
     "data": {
      "text/plain": [
       "<sqlite3.Cursor at 0x1ce740b66c0>"
      ]
     },
     "execution_count": 20,
     "metadata": {},
     "output_type": "execute_result"
    }
   ],
   "source": [
    "cur.execute(\"\"\"\n",
    "    INSERT INTO movie VALUES\n",
    "        ('Monty Python and the Holy Grail', 1975, 8.2),\n",
    "        ('And Now for Something Completely Different', 1971, 7.5)\n",
    "\"\"\")"
   ]
  },
  {
   "cell_type": "markdown",
   "id": "d83642df",
   "metadata": {},
   "source": [
    "A instrução **INSERT** abre implicitamente uma transação, que precisa ser confirmada antes que as alterações sejam salvas no banco de dados (consulte *Controle de Transações* para mais detalhes). Use `con.commit()` no objeto de conexão para confirmar a transação:"
   ]
  },
  {
   "cell_type": "code",
   "execution_count": 21,
   "id": "fbe4dd34",
   "metadata": {},
   "outputs": [],
   "source": [
    "con.commit()"
   ]
  },
  {
   "cell_type": "markdown",
   "id": "3bd4a6e2",
   "metadata": {},
   "source": [
    "Podemos verificar se os dados foram inseridos corretamente executando uma consulta **SELECT**. Use o já conhecido `cur.execute(...)` para atribuir o resultado à variável **res** e chame `res.fetchall()` para retornar todas as linhas resultantes:"
   ]
  },
  {
   "cell_type": "code",
   "execution_count": 22,
   "id": "ba06a285",
   "metadata": {},
   "outputs": [
    {
     "data": {
      "text/plain": [
       "[(8.2,), (7.5,)]"
      ]
     },
     "execution_count": 22,
     "metadata": {},
     "output_type": "execute_result"
    }
   ],
   "source": [
    "res = cur.execute(\"SELECT score FROM movie\")\n",
    "res.fetchall()"
   ]
  },
  {
   "cell_type": "markdown",
   "id": "95ef4155",
   "metadata": {},
   "source": [
    "O resultado é uma lista de duas tuplas, uma para cada linha, contendo o valor da coluna de pontuação correspondente.\n",
    "\n",
    "Agora, insira mais três linhas chamando `cur.executemany(...)`:"
   ]
  },
  {
   "cell_type": "code",
   "execution_count": null,
   "id": "2cdb92b5",
   "metadata": {},
   "outputs": [],
   "source": [
    "data = [\n",
    "    (\"Monty Python Live at the Hollywood Bowl\", 1982, 7.9),\n",
    "    (\"Monty Python's The Meaning of Life\", 1983, 7.5),\n",
    "    (\"Monty Python's Life of Brian\", 1979, 8.0),\n",
    "]\n",
    "cur.executemany(\"INSERT INTO movie VALUES(?, ?, ?)\", data)\n",
    "con.commit()  # Lembre-se de confirmar a transação após executar o INSERT."
   ]
  },
  {
   "cell_type": "markdown",
   "id": "d5632ae8",
   "metadata": {},
   "source": [
    "Note que os marcadores de posição **?** são usados para vincular os dados à consulta. Sempre use marcadores de posição em vez de formatação de strings para vincular valores do Python a instruções SQL, a fim de evitar ataques de *SQL injection* (consulte *Como usar marcadores de posição para vincular valores em consultas SQL* para mais detalhes).\n",
    "\n",
    "Podemos verificar se as novas linhas foram inseridas executando uma consulta **SELECT**, desta vez iterando sobre os resultados da consulta:"
   ]
  },
  {
   "cell_type": "code",
   "execution_count": 24,
   "id": "e3b35aa3",
   "metadata": {},
   "outputs": [
    {
     "name": "stdout",
     "output_type": "stream",
     "text": [
      "(1971, 'And Now for Something Completely Different')\n",
      "(1975, 'Monty Python and the Holy Grail')\n",
      "(1979, \"Monty Python's Life of Brian\")\n",
      "(1982, 'Monty Python Live at the Hollywood Bowl')\n",
      "(1983, \"Monty Python's The Meaning of Life\")\n"
     ]
    }
   ],
   "source": [
    "for row in cur.execute(\"SELECT year, title FROM movie ORDER BY year\"):\n",
    "    print(row)"
   ]
  },
  {
   "cell_type": "markdown",
   "id": "8e2a83da",
   "metadata": {},
   "source": [
    "Cada linha é uma tupla de dois itens (ano, título), correspondendo às colunas selecionadas na consulta.\n",
    "\n",
    "Por fim, verifique se o banco de dados foi gravado no disco chamando `con.close()` para fechar a conexão existente, abrindo uma nova conexão, criando um novo cursor e, em seguida, consultando o banco de dados:"
   ]
  },
  {
   "cell_type": "code",
   "execution_count": null,
   "id": "dda661df",
   "metadata": {},
   "outputs": [
    {
     "name": "stdout",
     "output_type": "stream",
     "text": [
      "The highest scoring Monty Python movie is 'Monty Python and the Holy Grail', released in 1975\n"
     ]
    }
   ],
   "source": [
    "con.close()\n",
    "\n",
    "new_con = sqlite3.connect(\"tutorial.db\")\n",
    "new_cur = new_con.cursor()\n",
    "\n",
    "res = new_cur.execute(\"SELECT title, year FROM movie ORDER BY score DESC\")\n",
    "title, year = res.fetchone()\n",
    "\n",
    "print(f'The highest scoring Monty Python movie is {title!r}, released in {year}')\n",
    "\n",
    "new_con.close()"
   ]
  }
 ],
 "metadata": {
  "kernelspec": {
   "display_name": "Python 3",
   "language": "python",
   "name": "python3"
  },
  "language_info": {
   "codemirror_mode": {
    "name": "ipython",
    "version": 3
   },
   "file_extension": ".py",
   "mimetype": "text/x-python",
   "name": "python",
   "nbconvert_exporter": "python",
   "pygments_lexer": "ipython3",
   "version": "3.11.2"
  }
 },
 "nbformat": 4,
 "nbformat_minor": 5
}
