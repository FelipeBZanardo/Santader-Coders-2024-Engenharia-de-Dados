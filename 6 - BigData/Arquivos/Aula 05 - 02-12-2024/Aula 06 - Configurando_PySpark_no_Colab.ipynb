{
 "cells": [
  {
   "cell_type": "markdown",
   "metadata": {
    "id": "vMmtws3ztzNS"
   },
   "source": [
    "# Aula 06 - Configurando o PySpark 3.5.3 no Google Colab"
   ]
  },
  {
   "cell_type": "markdown",
   "metadata": {
    "id": "vEfW3YhnvARb"
   },
   "source": [
    "## Instalar Dependências"
   ]
  },
  {
   "cell_type": "markdown",
   "metadata": {
    "id": "WUuuPKsFt5rC"
   },
   "source": [
    "O primeiro passo é instalar o PySpark 3.5.3, que é a versão mais recente, usando o pip. Lembre-se de verificar a versão, pois as mudanças podem afetar a configuração do ambiente e o comportamento do código. O primeiro comando instala a versão mais atual, enquanto o segundo especifica a versão 3.5.3, que é a versão atual."
   ]
  },
  {
   "cell_type": "code",
   "execution_count": null,
   "metadata": {
    "id": "BmBYTcPGtFZW"
   },
   "outputs": [],
   "source": [
    "!pip install pyspark"
   ]
  },
  {
   "cell_type": "markdown",
   "metadata": {
    "id": "KzJGzKA-t7Ka"
   },
   "source": [
    "Em seguida, é necessário realizar a instalação de alguma JDK. Acabei optando pela versão 21 da OpenJDK:"
   ]
  },
  {
   "cell_type": "code",
   "execution_count": null,
   "metadata": {
    "id": "UYpG5H-stJS6"
   },
   "outputs": [],
   "source": [
    "!apt-get install openjdk-21-jdk"
   ]
  },
  {
   "cell_type": "markdown",
   "metadata": {
    "id": "U2AmU8WNt_aj"
   },
   "source": [
    "O próximo passo é o download do Spark na versão 3.5.3 no site oficial. Além disso, fiz a verificação se o arquivo foi realmente baixado e fiz a extração:"
   ]
  },
  {
   "cell_type": "code",
   "execution_count": null,
   "metadata": {
    "id": "kGab9L2-tNql"
   },
   "outputs": [],
   "source": [
    "!wget -q https://dlcdn.apache.org/spark/spark-3.5.3/spark-3.5.3-bin-hadoop3.tgz -O spark-3.5.3-bin-hadoop3.tgz\n",
    "\n",
    "!ls -lh spark-3.5.3-bin-hadoop3.tgz\n",
    "\n",
    "!tar xf spark-3.5.3-bin-hadoop3.tgz"
   ]
  },
  {
   "cell_type": "markdown",
   "metadata": {
    "id": "vcnIGg_MuDJK"
   },
   "source": [
    "## Declarando Variáveis de Ambiente\n",
    "\n",
    "Depois dos downloads realizados, é necessário inserir as variáveis de ambiente. Para o nosso notebook funcionar da forma correta, temos que declarar o Java e Spark como variável de ambiente, assim ele não vai dar erro ao executar por não encontrar dependências.\n"
   ]
  },
  {
   "cell_type": "code",
   "execution_count": null,
   "metadata": {
    "id": "XaiBkfVptQz7"
   },
   "outputs": [],
   "source": [
    "import os\n",
    "os.environ['JAVA_HOME'] = '/usr/lib/jvm/java-21-openjdk-amd64'\n",
    "os.environ['SPARK_HOME'] = '/content/spark-3.5.3-bin-hadoop3'"
   ]
  },
  {
   "cell_type": "markdown",
   "metadata": {
    "id": "oBNpaEyJubtv"
   },
   "source": [
    "## Criando uma SparkSession\n",
    "\n",
    "Temos aqui um exemplo que podemos colocar o nome na nossa sessão, utilizando o appName()\n",
    "\n",
    "O master com o local[*] serve para pegar todas as CPU’s disponíveis, posso deixar vazio que ele vai entender ou então colocar uma quantidade, ele vai funcionar também."
   ]
  },
  {
   "cell_type": "code",
   "execution_count": null,
   "metadata": {
    "id": "2FO9TUMStTmi"
   },
   "outputs": [],
   "source": [
    "from pyspark.sql import SparkSession, Row\n",
    "from datetime import datetime, date"
   ]
  },
  {
   "cell_type": "code",
   "execution_count": null,
   "metadata": {
    "id": "b9lrQywcto3J"
   },
   "outputs": [],
   "source": [
    "from pyspark.sql import SparkSession\n",
    "\n",
    "spark = SparkSession.builder\\\n",
    "  .master('local[*]')\\\n",
    "  .appName(\"Iniciando com Spark\")\\\n",
    "  .getOrCreate()"
   ]
  },
  {
   "cell_type": "markdown",
   "metadata": {
    "id": "bK25DTXwvZVr"
   },
   "source": [
    "Com isso, o PySpark está configurado e pronto para ser utilizado no Colab para você testar. Com o apoio da documentação, acabei criando um pequeno DataFrame com 3 linhas para testar."
   ]
  },
  {
   "cell_type": "code",
   "execution_count": null,
   "metadata": {
    "id": "RGf4Ug1xtgXe"
   },
   "outputs": [],
   "source": [
    "df = spark.createDataFrame([\n",
    "    Row(a=1, b=2., c='string1', d=date(2024,1, 1), e=datetime(2024, 1, 10, 0) ),\n",
    "    Row(a=2, b=3., c='string2', d=date(2024,2, 1), e=datetime(2024, 2, 10, 0) ),\n",
    "    Row(a=3, b=4., c='string3', d=date(2024,3, 1), e=datetime(2024, 3, 10, 0) )\n",
    "])"
   ]
  },
  {
   "cell_type": "code",
   "execution_count": null,
   "metadata": {
    "id": "JxqbAaa-tvox"
   },
   "outputs": [],
   "source": [
    "df.show()"
   ]
  },
  {
   "cell_type": "markdown",
   "metadata": {
    "id": "b4KUoQ7Ov0kv"
   },
   "source": [
    "## Montar o Google Drive no Colab\n",
    "\n",
    "Cria uma celula no notebook com o seguinte conteudo:"
   ]
  },
  {
   "cell_type": "code",
   "execution_count": null,
   "metadata": {
    "id": "iURKDdXIvrdn"
   },
   "outputs": [],
   "source": [
    "from google.colab import drive\n",
    "\n",
    "drive.mount('/content/drive')"
   ]
  },
  {
   "cell_type": "markdown",
   "metadata": {
    "id": "cru7dgXuwEc5"
   },
   "source": [
    "Ao fazer isso ira aparecer uma mensagem para autorizar a conexão do Colab com o Drive.\n",
    "\n",
    "### Enviar o arquivo para Google Drive\n",
    "\n",
    "Com o drive montado, va no seu Google Drive e faca upload do arquivo.\n",
    "\n",
    "- Exemplo: Datasets/exemplo.csv.\n",
    "\n",
    "### Abrir Dataset no Colab\n",
    "\n",
    "Com o arquivo no Google Drive, crie uma cella com os seguintes valores:"
   ]
  },
  {
   "cell_type": "code",
   "execution_count": null,
   "metadata": {
    "id": "kSRgBOY4v-4D"
   },
   "outputs": [],
   "source": [
    "import pandas as pd\n",
    "\n",
    "path = '/content/drive/My Drive/Datasets/heart.csv'\n",
    "\n",
    "df = pd.read_csv(path)\n",
    "df.head()"
   ]
  },
  {
   "cell_type": "code",
   "execution_count": null,
   "metadata": {
    "id": "a8IDIJk4waws"
   },
   "outputs": [],
   "source": [
    "\n",
    "df = spark.read.format(\"csv\").option(\"header\", \"true\").option(\"sep\", \",\").load(path)\n",
    "\n",
    "df.show()"
   ]
  },
  {
   "cell_type": "markdown",
   "metadata": {
    "id": "kxN-Njb-fZ1n"
   },
   "source": []
  }
 ],
 "metadata": {
  "colab": {
   "provenance": []
  },
  "kernelspec": {
   "display_name": "Python 3",
   "name": "python3"
  },
  "language_info": {
   "name": "python"
  }
 },
 "nbformat": 4,
 "nbformat_minor": 0
}
