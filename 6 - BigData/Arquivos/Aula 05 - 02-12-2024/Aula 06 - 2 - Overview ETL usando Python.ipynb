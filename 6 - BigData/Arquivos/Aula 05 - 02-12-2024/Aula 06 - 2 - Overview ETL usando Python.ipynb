{
 "cells": [
  {
   "cell_type": "code",
   "execution_count": 3,
   "metadata": {
    "application/vnd.databricks.v1+cell": {
     "cellMetadata": {},
     "inputWidgets": {},
     "nuid": "b54af017-c640-45fa-b4ad-9d3baa15941b",
     "showTitle": false,
     "title": ""
    }
   },
   "outputs": [],
   "source": [
    "from pyspark.sql import *  # SparkSession, Row\n",
    "from pyspark.sql.functions import *  # month, year, col, lit, to_date, when,to_timestamp, date_format\n",
    "from pyspark.sql.types import * #IntegerType,FloatType,DoubleType\n",
    "from pyspark.sql.window import *  # Window\n",
    "from datetime import date\n",
    "import datetime\n",
    "import pandas as pd\n",
    "\n",
    "spark = SparkSession.builder.appName(\"Demo\").getOrCreate()"
   ]
  },
  {
   "cell_type": "markdown",
   "metadata": {
    "application/vnd.databricks.v1+cell": {
     "cellMetadata": {},
     "inputWidgets": {},
     "nuid": "da847c08-c4a6-455e-87ac-acf67c3000b2",
     "showTitle": false,
     "title": ""
    }
   },
   "source": [
    "# ETL"
   ]
  },
  {
   "cell_type": "markdown",
   "metadata": {
    "application/vnd.databricks.v1+cell": {
     "cellMetadata": {},
     "inputWidgets": {},
     "nuid": "bea49a78-eaa6-4674-a067-e0cca5a8bdc9",
     "showTitle": false,
     "title": ""
    }
   },
   "source": [
    "## Ler dados do Databricks File System"
   ]
  },
  {
   "cell_type": "code",
   "execution_count": null,
   "metadata": {
    "application/vnd.databricks.v1+cell": {
     "cellMetadata": {},
     "inputWidgets": {},
     "nuid": "de499a69-4521-4588-bc2d-e85d788822eb",
     "showTitle": false,
     "title": ""
    }
   },
   "outputs": [],
   "source": [
    "dbfs_input = spark.read.format(\"csv\").option(\"header\",\"true\").load(\"/FileStore/Sales_Data.csv\")\n",
    "display(dbfs_input) ## spark dataframe"
   ]
  },
  {
   "cell_type": "markdown",
   "metadata": {
    "application/vnd.databricks.v1+cell": {
     "cellMetadata": {},
     "inputWidgets": {},
     "nuid": "224290c5-c63f-48cc-a2f4-8fa7b16ea06b",
     "showTitle": false,
     "title": ""
    }
   },
   "source": [
    "## Transformação de Dados"
   ]
  },
  {
   "cell_type": "code",
   "execution_count": null,
   "metadata": {
    "application/vnd.databricks.v1+cell": {
     "cellMetadata": {},
     "inputWidgets": {},
     "nuid": "511376c3-c461-4e00-ab56-1025407bf390",
     "showTitle": false,
     "title": ""
    }
   },
   "outputs": [],
   "source": [
    "df = dbfs_input.toPandas() ## convert spark dataframe to pandas\n",
    "df['Date'] = pd.to_datetime(df[\"Date\"],infer_datetime_format=True)\n",
    "df['Date'] = df['Date'] - pd.to_timedelta(df['Date'].dt.day - 1, unit='d')\n",
    "df[\"Price\"] = df[\"Price\"].astype(int)\n",
    "df[\"Discount\"] = df[\"Discount\"].astype(float)\n",
    "df[\"Quantity Sold\"] = df[\"Quantity Sold\"].astype(int)\n",
    "df[\"Sales\"] = (df[\"Price\"] - (df[\"Price\"] * df[\"Discount\"])) * df[\"Quantity Sold\"]\n",
    "df = df.drop(columns=[\"Price\",\"Discount\",\"Quantity Sold\"])\n",
    "display(df)"
   ]
  },
  {
   "cell_type": "markdown",
   "metadata": {
    "application/vnd.databricks.v1+cell": {
     "cellMetadata": {},
     "inputWidgets": {},
     "nuid": "22b744be-8acd-4445-b3de-dd52ee623c88",
     "showTitle": false,
     "title": ""
    }
   },
   "source": [
    "## Carregar resultados"
   ]
  },
  {
   "cell_type": "code",
   "execution_count": null,
   "metadata": {
    "application/vnd.databricks.v1+cell": {
     "cellMetadata": {},
     "inputWidgets": {},
     "nuid": "8d9a00b6-85a7-4773-8592-66ceebca6003",
     "showTitle": false,
     "title": ""
    }
   },
   "outputs": [],
   "source": [
    "df_grouped = df.groupby([\"Region\",\"Country\",\"Category\",\"Brand\",\"Date\"]).sum(\"Sales\").reset_index()\n",
    "display(df_grouped)\n",
    "df_grouped_spark = spark.createDataFrame(df_grouped)\n",
    "df_grouped_spark.write.mode(\"overwrite\").saveAsTable(\"Sales\")"
   ]
  },
  {
   "cell_type": "markdown",
   "metadata": {
    "application/vnd.databricks.v1+cell": {
     "cellMetadata": {},
     "inputWidgets": {},
     "nuid": "619e9b71-2786-477c-b05e-00525f6f5c06",
     "showTitle": false,
     "title": ""
    }
   },
   "source": [
    "## Query Delta Tables"
   ]
  },
  {
   "cell_type": "code",
   "execution_count": null,
   "metadata": {
    "application/vnd.databricks.v1+cell": {
     "cellMetadata": {},
     "inputWidgets": {},
     "nuid": "f71b687a-9b1f-445c-af61-b76d2163adf2",
     "showTitle": false,
     "title": ""
    }
   },
   "outputs": [],
   "source": [
    "%sql\n",
    "select * from Sales"
   ]
  }
 ],
 "metadata": {
  "application/vnd.databricks.v1+notebook": {
   "dashboards": [],
   "language": "python",
   "notebookMetadata": {
    "pythonIndentUnit": 4
   },
   "notebookName": "ETL using Python",
   "notebookOrigID": 1979926274443436,
   "widgets": {}
  },
  "kernelspec": {
   "display_name": "Python 3 (ipykernel)",
   "language": "python",
   "name": "python3"
  },
  "language_info": {
   "codemirror_mode": {
    "name": "ipython",
    "version": 3
   },
   "file_extension": ".py",
   "mimetype": "text/x-python",
   "name": "python",
   "nbconvert_exporter": "python",
   "pygments_lexer": "ipython3",
   "version": "3.10.5"
  }
 },
 "nbformat": 4,
 "nbformat_minor": 1
}
