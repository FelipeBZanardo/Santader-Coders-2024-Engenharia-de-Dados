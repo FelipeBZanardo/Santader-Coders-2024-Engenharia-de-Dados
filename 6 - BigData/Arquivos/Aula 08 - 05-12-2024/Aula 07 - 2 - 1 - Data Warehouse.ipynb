{
 "cells": [
  {
   "cell_type": "markdown",
   "id": "b44c3a55",
   "metadata": {},
   "source": [
    "# Data Warehouse: Exercícios"
   ]
  },
  {
   "cell_type": "markdown",
   "id": "585af8a0",
   "metadata": {},
   "source": [
    "## Exemplo 1\n",
    "\n",
    "### Cenário Real\n",
    "\n",
    "Imagine que você está gerenciando o sistema de uma rede de lojas que vende produtos em várias cidades. O sistema operacional (OLTP) precisa registrar:\n",
    "\n",
    "- As vendas realizadas (data, cliente, produto, quantidade, valor).\n",
    "- Informações dos clientes (nome, idade, endereço).\n",
    "- Detalhes dos produtos (nome, categoria, fornecedor).\n",
    "- Dados das lojas (localização, gerente).\n",
    "\n",
    "Essas informações são organizadas em um banco de dados relacional.\n",
    "\n",
    "### Esquema Relacional (OLTP)\n",
    "\n",
    "\n",
    "#### Tabela: Vendas\n",
    "| Coluna         | Descrição          |\n",
    "|----------------|--------------------|\n",
    "| id_venda       | Identificador da venda |\n",
    "| id_cliente     | Identificador do cliente |\n",
    "| id_produto     | Identificador do produto |\n",
    "| id_loja        | Identificador da loja |\n",
    "| data           | Data da venda |\n",
    "| quantidade     | Quantidade vendida |\n",
    "| valor_total    | Valor total da venda |\n",
    "\n",
    "#### Tabela: Clientes\n",
    "| Coluna         | Descrição          |\n",
    "|----------------|--------------------|\n",
    "| id_cliente     | Identificador do cliente |\n",
    "| nome           | Nome do cliente |\n",
    "| idade          | Idade do cliente |\n",
    "| endereço       | Endereço do cliente |\n",
    "\n",
    "#### Tabela: Produtos\n",
    "| Coluna         | Descrição          |\n",
    "|----------------|--------------------|\n",
    "| id_produto     | Identificador do produto |\n",
    "| nome           | Nome do produto |\n",
    "| categoria      | Categoria do produto |\n",
    "| id_fornecedor  | Identificador do fornecedor |\n",
    "\n",
    "#### Tabela: Fornecedores\n",
    "| Coluna         | Descrição          |\n",
    "|----------------|--------------------|\n",
    "| id_fornecedor  | Identificador do fornecedor |\n",
    "| nome           | Nome do fornecedor |\n",
    "| contato        | Informações de contato |\n",
    "\n",
    "#### Tabela: Lojas\n",
    "| Coluna         | Descrição          |\n",
    "|----------------|--------------------|\n",
    "| id_loja        | Identificador da loja |\n",
    "| nome           | Nome da loja |\n",
    "| cidade         | Cidade da loja |\n",
    "| estado         | Estado da loja |\n",
    "| gerente        | Nome do gerente da loja |\n",
    "\n"
   ]
  },
  {
   "cell_type": "markdown",
   "id": "851c0929",
   "metadata": {},
   "source": [
    "### Esquema Star no Data Warehouse\n",
    "\n",
    "Para o Data Warehouse, os dados são transformados para facilitar análises, agrupando informações em tabelas de dimensões e uma tabela fato. O esquema Star é ideal para consultas rápidas e simples."
   ]
  },
  {
   "cell_type": "code",
   "execution_count": null,
   "id": "c66e0628",
   "metadata": {},
   "outputs": [],
   "source": [
    "# Tabela fato\n",
    "\n",
    "\n",
    "\n",
    "# Tabelas dimensão\n",
    "\n"
   ]
  },
  {
   "cell_type": "markdown",
   "id": "73a19e17",
   "metadata": {},
   "source": [
    "### #Esquema Snowflake no Data Warehouse\n",
    "\n",
    "O esquema Snowflake é uma normalização do esquema Star, onde as dimensões são desmembradas para reduzir redundâncias.\n"
   ]
  },
  {
   "cell_type": "code",
   "execution_count": null,
   "id": "923c87b6",
   "metadata": {},
   "outputs": [],
   "source": [
    "# Tabela fato\n",
    "\n",
    "\n",
    "\n",
    "# Tabelas dimensão"
   ]
  },
  {
   "cell_type": "markdown",
   "id": "b7c43692",
   "metadata": {},
   "source": [
    "---------------------------------------"
   ]
  },
  {
   "cell_type": "markdown",
   "id": "22045d6d",
   "metadata": {},
   "source": [
    "## EXERCÍCIO 1: Cenário de Hospital\n",
    "\n",
    "### Cenário Real\n",
    "\n",
    "Você está gerenciando o sistema de um hospital que registra:\n",
    "- Consultas médicas realizadas (data, paciente, médico, especialidade, valor).\n",
    "- Informações dos pacientes (nome, idade, endereço).\n",
    "- Dados dos médicos (nome, especialidade).\n",
    "- Departamentos hospitalares.\n",
    "\n",
    "O objetivo é transformar esses dados do sistema relacional para um esquema de Data Warehouse, permitindo análises como:\n",
    "- Quantas consultas foram realizadas por especialidade?\n",
    "- Qual é o faturamento por departamento?\n",
    "- Análise de frequência dos pacientes por idade e localização.\n",
    "\n",
    "### Esquema Relacional (OLTP)\n",
    "\n",
    "Tabelas\tCampos\n",
    "\n",
    "#### Tabela: Consultas\n",
    "| Coluna           | Descrição                      |\n",
    "|------------------|--------------------------------|\n",
    "| id_consulta      | Identificador da consulta      |\n",
    "| id_paciente      | Identificador do paciente      |\n",
    "| id_medico        | Identificador do médico        |\n",
    "| id_departamento  | Identificador do departamento  |\n",
    "| data             | Data da consulta               |\n",
    "| valor            | Valor da consulta              |\n",
    "\n",
    "#### Tabela: Pacientes\n",
    "| Coluna           | Descrição                      |\n",
    "|------------------|--------------------------------|\n",
    "| id_paciente      | Identificador do paciente      |\n",
    "| nome             | Nome do paciente               |\n",
    "| idade            | Idade do paciente              |\n",
    "| endereço         | Endereço do paciente           |\n",
    "\n",
    "#### Tabela: Médicos\n",
    "| Coluna           | Descrição                      |\n",
    "|------------------|--------------------------------|\n",
    "| id_medico        | Identificador do médico        |\n",
    "| nome             | Nome do médico                 |\n",
    "| especialidade    | Especialidade do médico        |\n",
    "\n",
    "#### Tabela: Departamentos\n",
    "| Coluna           | Descrição                      |\n",
    "|------------------|--------------------------------|\n",
    "| id_departamento  | Identificador do departamento  |\n",
    "| nome             | Nome do departamento           |\n",
    "| localização      | Localização do departamento    |\n"
   ]
  },
  {
   "cell_type": "code",
   "execution_count": null,
   "id": "a6027383",
   "metadata": {},
   "outputs": [],
   "source": [
    "### Esquema Star no Data Warehouse\n",
    "\n",
    "# Tabela fato\n",
    "\n",
    "\n",
    "\n",
    "# Tabelas dimensão\n",
    "\n",
    "\n",
    "\n",
    "### Esquema Snowflake no Data Warehouse\n",
    "\n",
    "# Tabela fato\n",
    "\n",
    "\n",
    "\n",
    "# Tabelas dimensão\n"
   ]
  }
 ],
 "metadata": {
  "kernelspec": {
   "display_name": "Python 3",
   "language": "python",
   "name": "python3"
  },
  "language_info": {
   "codemirror_mode": {
    "name": "ipython",
    "version": 3
   },
   "file_extension": ".py",
   "mimetype": "text/x-python",
   "name": "python",
   "nbconvert_exporter": "python",
   "pygments_lexer": "ipython3",
   "version": "3.11.2"
  }
 },
 "nbformat": 4,
 "nbformat_minor": 5
}
