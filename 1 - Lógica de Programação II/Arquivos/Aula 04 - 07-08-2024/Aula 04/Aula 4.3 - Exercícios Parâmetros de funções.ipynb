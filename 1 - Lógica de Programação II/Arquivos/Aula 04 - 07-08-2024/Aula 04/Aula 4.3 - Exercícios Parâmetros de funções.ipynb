{
 "cells": [
  {
   "cell_type": "markdown",
   "metadata": {},
   "source": [
    "## Aula 4 | Exercícios de parâmetros de funções"
   ]
  },
  {
   "cell_type": "markdown",
   "metadata": {},
   "source": [
    "### Questão 1\n",
    "\n",
    "Crie uma função que recebe uma quantidade variável de argumentos numéricos e retorna a quantidade de números enviados e a soma deles."
   ]
  },
  {
   "cell_type": "markdown",
   "metadata": {},
   "source": [
    "### Questão 2\n",
    "\n",
    "Crie uma função que recebe nome e idade, porém a idade *default* deve ser 99."
   ]
  },
  {
   "cell_type": "markdown",
   "metadata": {},
   "source": [
    "### Questão 3\n",
    "\n",
    "Escreva uma função chamada calcular_media que aceita uma quantidade variável de números e retorna a média dos números fornecidos."
   ]
  },
  {
   "cell_type": "markdown",
   "metadata": {},
   "source": [
    "### Questão 4\n",
    "\n",
    "Crie uma função chamada soma_multiplos que aceita um número inteiro e uma quantidade variável de argumentos inteiros. \n",
    "\n",
    "A função deve calcular a soma dos números que são múltiplos do primeiro número dado."
   ]
  }
 ],
 "metadata": {
  "kernelspec": {
   "display_name": "Python 3",
   "language": "python",
   "name": "python3"
  },
  "language_info": {
   "codemirror_mode": {
    "name": "ipython",
    "version": 3
   },
   "file_extension": ".py",
   "mimetype": "text/x-python",
   "name": "python",
   "nbconvert_exporter": "python",
   "pygments_lexer": "ipython3",
   "version": "3.11.2"
  }
 },
 "nbformat": 4,
 "nbformat_minor": 2
}
