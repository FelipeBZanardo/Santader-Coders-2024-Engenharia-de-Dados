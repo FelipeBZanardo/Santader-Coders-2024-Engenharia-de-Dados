{
 "cells": [
  {
   "cell_type": "markdown",
   "metadata": {},
   "source": [
    "# Aula 4 | Parâmetros de funções\n",
    "\n",
    "Nesta aula, vamos explorar conceitos de parâmetros de funções.\n",
    "\n",
    "**Nosso problema hoje**: Como fazer um programa que lê a quantidade de alunos e de provas realizadas por aluno pelo teclado, gera uma matriz de notas, calcula a média de cada aluno e gera uma lista informando quais alunos foram aprovados ou reprovados utilizando código \"idiomático\" em Python.\n",
    "\n",
    "__________"
   ]
  },
  {
   "cell_type": "markdown",
   "metadata": {},
   "source": [
    "## 1. Revisão de funções\n",
    "\n",
    "Um função é uma sequência de instruções que executa uma tarefa específica. Elas são essenciais para um código mais organizado, tornando-o mais modular, reutilizável e compreensível. \n",
    "\n",
    "- Reutilizável: uma vez definida a função, podemos executar/chamar muitas vezes\n",
    "- Pode receber entradas (parâmetros ou argumentos) necessários para execução das instruções que forem definidas dentro dela\n",
    "- Pode retornar um ou mais valores como resultado"
   ]
  },
  {
   "cell_type": "markdown",
   "metadata": {},
   "source": [
    "Além disso, são úteis para: \n",
    "\n",
    "- **Modularidade**: funções ajudam a dividir o programa em partes menores e gerenciáveis, tornando-o mais fácil de entender e manter.\n",
    "- **Abstração**: permitem abstrair detalhes complexos. Você sabe o que a função faz (sua interface), mas não necessariamente como ela faz (sua implementação).\n",
    "- **Facilitar a manutenção e atualização**: se precisarmos modificar a lógica da tarefa, geralmente precisa alterar apenas o código dentro da função.\n",
    "- **Testabilidade**: permitem testar partes individuais do seu programa de forma isolada."
   ]
  },
  {
   "cell_type": "markdown",
   "metadata": {},
   "source": [
    "## 2. Argumentos, parâmetros e retornos de funções\n",
    "\n",
    "Como já comentamos, funções podem receber parâmetros e retornar um ou mais valores. Vamos aprofundar a seguir esses dois conceitos."
   ]
  },
  {
   "cell_type": "markdown",
   "metadata": {},
   "source": [
    "### Argumentos e parâmetros\n",
    "\n",
    "Eles são muito relevantes para a flexibilidade e reutilização das funções:\n",
    "\n",
    "- **Parâmetros** são as **variáveis listadas na definição da função**. Eles agem como '_placeholders_' para os valores que serão passados à função.\n",
    "- **Argumentos** são os **valores reais fornecidos à função** quando ela é chamada. Eles são atribuídos aos parâmetros correspondentes da função."
   ]
  },
  {
   "cell_type": "markdown",
   "metadata": {},
   "source": [
    "#### Tipos de argumentos"
   ]
  },
  {
   "cell_type": "markdown",
   "metadata": {},
   "source": [
    "1. **Posicionais**: seu valor é determinado pela sua posição no chamado da função."
   ]
  },
  {
   "cell_type": "code",
   "execution_count": 5,
   "metadata": {},
   "outputs": [
    {
     "name": "stdout",
     "output_type": "stream",
     "text": [
      "Nome: Leao, Idade: 3\n"
     ]
    },
    {
     "ename": "TypeError",
     "evalue": "descrever_animais() takes 2 positional arguments but 3 were given",
     "output_type": "error",
     "traceback": [
      "\u001b[1;31m---------------------------------------------------------------------------\u001b[0m",
      "\u001b[1;31mTypeError\u001b[0m                                 Traceback (most recent call last)",
      "Cell \u001b[1;32mIn[5], line 5\u001b[0m\n\u001b[0;32m      2\u001b[0m     \u001b[38;5;28mprint\u001b[39m(\u001b[38;5;124mf\u001b[39m\u001b[38;5;124m\"\u001b[39m\u001b[38;5;124mNome: \u001b[39m\u001b[38;5;132;01m{\u001b[39;00mnome\u001b[38;5;132;01m}\u001b[39;00m\u001b[38;5;124m, Idade: \u001b[39m\u001b[38;5;132;01m{\u001b[39;00midade\u001b[38;5;132;01m}\u001b[39;00m\u001b[38;5;124m\"\u001b[39m)\n\u001b[0;32m      4\u001b[0m descrever_animais(\u001b[38;5;124m\"\u001b[39m\u001b[38;5;124mLeao\u001b[39m\u001b[38;5;124m\"\u001b[39m, \u001b[38;5;241m3\u001b[39m)\n\u001b[1;32m----> 5\u001b[0m \u001b[43mdescrever_animais\u001b[49m\u001b[43m(\u001b[49m\u001b[38;5;241;43m3\u001b[39;49m\u001b[43m,\u001b[49m\u001b[43m \u001b[49m\u001b[38;5;124;43m\"\u001b[39;49m\u001b[38;5;124;43mLeao\u001b[39;49m\u001b[38;5;124;43m\"\u001b[39;49m\u001b[43m,\u001b[49m\u001b[43m \u001b[49m\u001b[38;5;124;43m\"\u001b[39;49m\u001b[38;5;124;43m\"\u001b[39;49m\u001b[43m)\u001b[49m\n",
      "\u001b[1;31mTypeError\u001b[0m: descrever_animais() takes 2 positional arguments but 3 were given"
     ]
    }
   ],
   "source": [
    "def descrever_animais(nome: str, idade:int) -> None:\n",
    "    print(f\"Nome: {nome}, Idade: {idade}\")\n",
    "\n",
    "descrever_animais(\"Leao\", 3)\n",
    "descrever_animais(3, \"Leao\", \"\")"
   ]
  },
  {
   "cell_type": "markdown",
   "metadata": {},
   "source": [
    "2. **Palavra-chave:** são associados ao nome do parâmetro na chamada da função."
   ]
  },
  {
   "cell_type": "code",
   "execution_count": 6,
   "metadata": {},
   "outputs": [
    {
     "name": "stdout",
     "output_type": "stream",
     "text": [
      "Nome: Leao, Idade: 3\n",
      "Nome: Leao, Idade: 3\n"
     ]
    }
   ],
   "source": [
    "descrever_animais(nome=\"Leao\", idade=3)\n",
    "descrever_animais(idade=3, nome=\"Leao\")"
   ]
  },
  {
   "cell_type": "markdown",
   "metadata": {},
   "source": [
    "3. **Padrão (_default_)**: permitem especificar um valor padrão para um ou mais parâmetros. Este valor será usado se nenhum argumento correspondente for passado."
   ]
  },
  {
   "cell_type": "code",
   "execution_count": 10,
   "metadata": {},
   "outputs": [
    {
     "name": "stdout",
     "output_type": "stream",
     "text": [
      "Nome: Leoa, Idade: 15\n",
      "Nome: Tigre, Idade: 20\n",
      "Nome: Leao, Idade: 15\n"
     ]
    }
   ],
   "source": [
    "def descrever_animais(nome: str = \"Leao\", idade:int = 15) -> None:\n",
    "    print(f\"Nome: {nome}, Idade: {idade}\")\n",
    "\n",
    "descrever_animais(nome=\"Leoa\")\n",
    "descrever_animais(nome=\"Tigre\", idade=20)\n",
    "descrever_animais()"
   ]
  },
  {
   "cell_type": "markdown",
   "metadata": {},
   "source": [
    "🤔 E se eu não souber exatamente o número de argumentos que quero/posso receber? No Python temos algumas funções nativas que fazem isso:"
   ]
  },
  {
   "cell_type": "code",
   "execution_count": 11,
   "metadata": {},
   "outputs": [
    {
     "name": "stdout",
     "output_type": "stream",
     "text": [
      "sei la professor\n"
     ]
    }
   ],
   "source": [
    "print(\"sei\", \"la\", \"professor\")"
   ]
  },
  {
   "cell_type": "code",
   "execution_count": 12,
   "metadata": {},
   "outputs": [
    {
     "data": {
      "text/plain": [
       "4234"
      ]
     },
     "execution_count": 12,
     "metadata": {},
     "output_type": "execute_result"
    }
   ],
   "source": [
    "max(1, 2, 4234, 45)"
   ]
  },
  {
   "cell_type": "code",
   "execution_count": 21,
   "metadata": {},
   "outputs": [
    {
     "data": {
      "text/plain": [
       "15"
      ]
     },
     "execution_count": 21,
     "metadata": {},
     "output_type": "execute_result"
    }
   ],
   "source": [
    "sum((1, 2, 3, 4, 5))"
   ]
  },
  {
   "cell_type": "markdown",
   "metadata": {},
   "source": [
    "4. ***args** (argumentos posicionais variáveis): permite passar um número variável de argumentos posicionais."
   ]
  },
  {
   "cell_type": "code",
   "execution_count": 28,
   "metadata": {},
   "outputs": [
    {
     "name": "stdout",
     "output_type": "stream",
     "text": [
      "<class 'tuple'>\n",
      "(1, 2, 3, 4)\n"
     ]
    },
    {
     "data": {
      "text/plain": [
       "10"
      ]
     },
     "execution_count": 28,
     "metadata": {},
     "output_type": "execute_result"
    }
   ],
   "source": [
    "def soma(*n) -> int:\n",
    "    print(type(n))\n",
    "    print(n)\n",
    "    return sum(n)\n",
    "\n",
    "soma(1, 2, 3, 4)"
   ]
  },
  {
   "cell_type": "code",
   "execution_count": 33,
   "metadata": {},
   "outputs": [
    {
     "name": "stdout",
     "output_type": "stream",
     "text": [
      "numero1\n",
      "2\n",
      "numero2\n",
      "4\n"
     ]
    },
    {
     "data": {
      "text/plain": [
       "6"
      ]
     },
     "execution_count": 33,
     "metadata": {},
     "output_type": "execute_result"
    }
   ],
   "source": [
    "def soma(*n) -> int:\n",
    "    print(n[0])\n",
    "    print(n[1])\n",
    "    print(n[2])\n",
    "    print(n[3])\n",
    "    return sum([n[1], n[3]])\n",
    "\n",
    "soma(\"numero1\", 2, \"numero2\", 4)"
   ]
  },
  {
   "cell_type": "markdown",
   "metadata": {},
   "source": [
    "O operador * em *args **agrupa** argumentos.\n",
    "\n",
    "Quando uma função é chamada, o Python agrupa todos os argumentos posicionais extras (aqueles que não correspondem a nenhum parâmetro definido) **em uma tupla** chamada args.\n",
    "\n",
    "Mas e se eu quiser passar uma lista como um argumento nesse caso?"
   ]
  },
  {
   "cell_type": "code",
   "execution_count": 37,
   "metadata": {},
   "outputs": [
    {
     "data": {
      "text/plain": [
       "10"
      ]
     },
     "execution_count": 37,
     "metadata": {},
     "output_type": "execute_result"
    }
   ],
   "source": [
    "def soma(*n) -> int:\n",
    "    return sum(n)\n",
    "\n",
    "soma(1, 2, 3, 4)"
   ]
  },
  {
   "cell_type": "code",
   "execution_count": 38,
   "metadata": {},
   "outputs": [
    {
     "name": "stdout",
     "output_type": "stream",
     "text": [
      "12\n"
     ]
    }
   ],
   "source": [
    "print(soma(*[1, 4, 5, 2]))"
   ]
  },
  {
   "cell_type": "markdown",
   "metadata": {},
   "source": [
    "5. ****kwargs** (argumentos de palavra-chave variáveis): permite passar um número variável de argumentos nomeados."
   ]
  },
  {
   "cell_type": "code",
   "execution_count": 44,
   "metadata": {},
   "outputs": [
    {
     "name": "stdout",
     "output_type": "stream",
     "text": [
      "{'nome': 'Joey', 'idade': '8', 'especie': 'cachorro'}\n",
      "chave: nome, valor: Joey\n",
      "chave: idade, valor: 8\n",
      "chave: especie, valor: cachorro\n"
     ]
    }
   ],
   "source": [
    "def descrever(**kwargs):\n",
    "    print(kwargs)\n",
    "    for chave, valor in kwargs.items():\n",
    "        print(f\"chave: {chave}, valor: {valor}\")\n",
    "\n",
    "descrever(nome=\"Joey\", idade=\"8\", especie=\"cachorro\")"
   ]
  },
  {
   "cell_type": "markdown",
   "metadata": {},
   "source": [
    "Assim como o * desempacota uma lista ou tupla em argumentos posicionais, o ** pode ser usado para desempacotar um dicionário em argumentos de palavra-chave."
   ]
  },
  {
   "cell_type": "code",
   "execution_count": 45,
   "metadata": {},
   "outputs": [
    {
     "name": "stdout",
     "output_type": "stream",
     "text": [
      "{'nome': 'Joey', 'idade': '8', 'especie': 'cachorro'}\n",
      "chave: nome, valor: Joey\n",
      "chave: idade, valor: 8\n",
      "chave: especie, valor: cachorro\n"
     ]
    }
   ],
   "source": [
    "descrever(**{'nome': 'Joey', 'idade': '8', 'especie': 'cachorro'})"
   ]
  },
  {
   "cell_type": "markdown",
   "metadata": {},
   "source": [
    "### Retornos de funções\n",
    "\n",
    "Permitem que as funções passem dados de volta para o código que as invocou. Vamos ver mais detalhes:"
   ]
  },
  {
   "cell_type": "markdown",
   "metadata": {},
   "source": [
    "1. **Retornando um valor**: quando uma função alcança uma declaração return, ela termina imediatamente a execução e \"retorna\" o valor especificado para o local onde foi chamada."
   ]
  },
  {
   "cell_type": "code",
   "execution_count": 8,
   "metadata": {},
   "outputs": [
    {
     "data": {
      "text/plain": [
       "'marialuiza'"
      ]
     },
     "execution_count": 8,
     "metadata": {},
     "output_type": "execute_result"
    }
   ],
   "source": [
    "def limpar_string(texto):\n",
    "    texto_limpo = texto.replace(\" \", \"\").lower()\n",
    "    return texto_limpo # ou poderia colocar direto assim: texto.replace(\" \", \"\").lower()\n",
    "\n",
    "limpar_string('Maria Luiza')"
   ]
  },
  {
   "cell_type": "markdown",
   "metadata": {},
   "source": [
    "2. **Retorno múltiplo**: uma função pode retornar vários valores usando uma tupla."
   ]
  },
  {
   "cell_type": "code",
   "execution_count": 9,
   "metadata": {},
   "outputs": [],
   "source": [
    "def limpar_string(texto):\n",
    "    texto_limpo = texto.replace(\" \", \"\").lower()\n",
    "    return texto, texto_limpo\n",
    "\n",
    "texto, texto_limpo = limpar_string(\"Vytor MOASLAasuihisauh qwe wqe as\")"
   ]
  },
  {
   "cell_type": "code",
   "execution_count": 7,
   "metadata": {},
   "outputs": [
    {
     "name": "stdout",
     "output_type": "stream",
     "text": [
      "Vytor MOASLAasuihisauh qwe wqe as\n",
      "vytormoaslaasuihisauhqwewqeas\n"
     ]
    }
   ],
   "source": [
    "print(texto)\n",
    "print(texto_limpo)"
   ]
  },
  {
   "cell_type": "markdown",
   "metadata": {},
   "source": [
    "3. **Funções sem return explícito**: Se uma função não tem uma declaração return, ela retorna None por padrão."
   ]
  },
  {
   "cell_type": "code",
   "execution_count": 4,
   "metadata": {},
   "outputs": [
    {
     "name": "stdout",
     "output_type": "stream",
     "text": [
      "testesemreturn\n",
      "None\n"
     ]
    }
   ],
   "source": [
    "def limpar_string(texto):\n",
    "    print(texto.replace(\" \", \"\").lower())\n",
    "\n",
    "r = limpar_string('Teste sem return')\n",
    "print(r)"
   ]
  },
  {
   "cell_type": "markdown",
   "metadata": {},
   "source": [
    "4. **Retorno antecipado:** return também pode ser usado para sair antecipadamente de uma função, interrompendo sua execução."
   ]
  },
  {
   "cell_type": "code",
   "execution_count": 3,
   "metadata": {},
   "outputs": [
    {
     "data": {
      "text/plain": [
       "'Negativo'"
      ]
     },
     "execution_count": 3,
     "metadata": {},
     "output_type": "execute_result"
    }
   ],
   "source": [
    "def checar_valor(n):\n",
    "    if n < 0:\n",
    "        return \"Negativo\"\n",
    "    return \"Positivo\"\n",
    "\n",
    "checar_valor(-7)"
   ]
  },
  {
   "cell_type": "markdown",
   "metadata": {},
   "source": [
    "## 3. Documentar funções\n",
    "\n",
    "Documentar funções em Python é feito através da **escrita de \"docstrings\"**. \n",
    "\n",
    "As docstrings são **literais de string** que são colocadas imediatamente após a definição da função para fornecer uma descrição sobre o que a função faz, quais são seus parâmetros e o que ela retorna. Essas informações são extremamente úteis para qualquer pessoa que esteja lendo ou usando seu código. "
   ]
  },
  {
   "cell_type": "markdown",
   "metadata": {},
   "source": [
    "### Como Documentar Funções com Docstrings\n",
    "\n",
    "**Formato básico:**\n",
    "- Coloque a docstring imediatamente após a linha de definição da função.\n",
    "- Use três aspas duplas \"\"\" para iniciar e terminar a docstring.\n",
    "\n",
    "**Conteúdo da docstring:**\n",
    "- Descrição: Comece com uma linha que descreve o que a função faz.\n",
    "- Parâmetros: Explique cada parâmetro, seu tipo e o que ele representa.\n",
    "- Retorno: Descreva o valor que a função retorna e seu tipo.\n",
    "- Outras informações: Inclua detalhes sobre exceções, comportamentos especiais e notas adicionais, se necessário.\n",
    "\n",
    "**Boas práticas**\n",
    "- Clareza: Faça com que sua docstring seja clara e fácil de entender.\n",
    "- Consistência: Use um estilo consistente em todas as suas docstrings.\n",
    "- Completa: Certifique-se de que a docstring cobre todos os aspectos importantes da função."
   ]
  },
  {
   "cell_type": "markdown",
   "metadata": {},
   "source": [
    "Para acessar a documentação de uma função:"
   ]
  },
  {
   "cell_type": "code",
   "execution_count": 1,
   "metadata": {},
   "outputs": [],
   "source": [
    "def soma(a, b):\n",
    "    \"\"\"\n",
    "    Calcula a soma de dois valores\n",
    "\n",
    "    Parâmetros:\n",
    "    a (int): Primeiro valor a ser recebido\n",
    "    b (in): Segundo valor\n",
    "\n",
    "    Retorna:\n",
    "    int: O resultado da soma dos dois valores\n",
    "    \"\"\"\n",
    "\n",
    "    soma = a+b\n",
    "\n",
    "    '''\n",
    "    teste docstring2 \n",
    "    '''\n",
    "\n",
    "    return soma"
   ]
  },
  {
   "cell_type": "code",
   "execution_count": 2,
   "metadata": {},
   "outputs": [
    {
     "name": "stdout",
     "output_type": "stream",
     "text": [
      "\n",
      "    Calcula a soma de dois valores\n",
      "\n",
      "    Parâmetros:\n",
      "    a (int): Primeiro valor a ser recebido\n",
      "    b (in): Segundo valor\n",
      "\n",
      "    Retorna:\n",
      "    int: O resultado da soma dos dois valores\n",
      "    \n"
     ]
    }
   ],
   "source": [
    "print(soma.__doc__)"
   ]
  },
  {
   "cell_type": "markdown",
   "metadata": {},
   "source": [
    "Outros detalhes:\n",
    "\n",
    "- PEP 257: Esta PEP descreve as convenções recomendadas para docstrings em Python.\n",
    "- Sphinx: Uma ferramenta que gera documentação automaticamente a partir de docstrings em código Python.\n",
    "- Google e NumPy/SciPy Docstring: Estes são estilos populares de docstring que são suportados por ferramentas como Sphinx para gerar documentação."
   ]
  },
  {
   "cell_type": "markdown",
   "metadata": {},
   "source": [
    "## 🙃 Voltando ao problema inicial da aula\n",
    "**Nosso problema hoje**: Como fazer um programa que lê a quantidade de alunos e de provas realizadas por aluno pelo teclado, gera uma matriz de notas, calcula a média de cada aluno e gera uma lista informando quais alunos foram aprovados ou reprovados utilizando código \"idiomático\" em Python."
   ]
  },
  {
   "cell_type": "markdown",
   "metadata": {},
   "source": []
  },
  {
   "cell_type": "markdown",
   "metadata": {},
   "source": []
  },
  {
   "cell_type": "code",
   "execution_count": 11,
   "metadata": {},
   "outputs": [
    {
     "name": "stdout",
     "output_type": "stream",
     "text": [
      "Aluno 1: Aprovado\n",
      "Aluno 2: Aprovado\n"
     ]
    }
   ],
   "source": [
    "def ler_notas(n_alunos, n_provas):\n",
    "    matriz = []\n",
    "    for i in range(n_alunos):\n",
    "        nota = [float(input(f\"Digite a nota da prova {j+1} do aluno {i+1}: \")) for j in range(n_provas)]\n",
    "        matriz.append(nota)\n",
    "    \n",
    "    return matriz\n",
    "    \n",
    "def calcula_media(matriz):\n",
    "    return [sum(notas)/len(notas) for notas in matriz]\n",
    "\n",
    "    \n",
    "def define_status(medias, nota_minima = 6):\n",
    "    return [\"Aprovado\" if media >= nota_minima else \"Reprovado\" for media in medias]\n",
    "\n",
    "n_alunos = int(input('Digite a quantidade de alunos: '))\n",
    "n_provas = int(input('Digite a quantidade de provas: '))\n",
    "\n",
    "matriz_notas = ler_notas(n_alunos, n_provas)\n",
    "\n",
    "medias = calcula_media(matriz_notas)\n",
    "\n",
    "status_alunos = define_status(medias)\n",
    "\n",
    "for i, s in enumerate(status_alunos):\n",
    "    print(f'Aluno {i+1}: {s}')\n"
   ]
  }
 ],
 "metadata": {
  "kernelspec": {
   "display_name": "Python 3",
   "language": "python",
   "name": "python3"
  },
  "language_info": {
   "codemirror_mode": {
    "name": "ipython",
    "version": 3
   },
   "file_extension": ".py",
   "mimetype": "text/x-python",
   "name": "python",
   "nbconvert_exporter": "python",
   "pygments_lexer": "ipython3",
   "version": "3.12.2"
  }
 },
 "nbformat": 4,
 "nbformat_minor": 2
}
