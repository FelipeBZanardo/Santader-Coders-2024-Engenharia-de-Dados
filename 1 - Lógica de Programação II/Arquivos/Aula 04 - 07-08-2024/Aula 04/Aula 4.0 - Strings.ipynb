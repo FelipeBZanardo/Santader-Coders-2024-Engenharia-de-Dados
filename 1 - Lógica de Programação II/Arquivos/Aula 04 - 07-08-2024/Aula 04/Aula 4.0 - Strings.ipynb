{
 "cells": [
  {
   "cell_type": "markdown",
   "id": "04c6fc8e",
   "metadata": {},
   "source": [
    "# Aula 4 - Strings\n",
    " \n",
    "## 1. Strings\n",
    "No primeiro capítulo mencionamos quatro tipos primitivos de dados: inteiro, real, lógico e texto/literal (_string_). Na verdade, o quarto tipo básico seria um _caractere_. Uma _string_ é uma **coleção** de caracteres - como se fosse uma lista, mas aceitando apenas elementos textuais.\n",
    "Vamos verificar algumas propriedades das _strings_!\n",
    " \n",
    "### 1.1. Acessando elementos em uma _string_\n",
    "No capítulo sobre Listas, vimos que podemos acessar elementos individuais de uma lista utilizando um índice entre colchetes. Vamos testar a mesma lógica com _strings_?"
   ]
  },
  {
   "cell_type": "code",
   "execution_count": 11,
   "id": "fd427847",
   "metadata": {},
   "outputs": [
    {
     "name": "stdout",
     "output_type": "stream",
     "text": [
      "A\n"
     ]
    }
   ],
   "source": [
    "frase = \"Ada é uma escolha legal\"\n",
    "\n",
    "print(frase[0])"
   ]
  },
  {
   "cell_type": "code",
   "execution_count": 3,
   "id": "933a2e59",
   "metadata": {},
   "outputs": [
    {
     "data": {
      "text/plain": [
       "'D'"
      ]
     },
     "execution_count": 3,
     "metadata": {},
     "output_type": "execute_result"
    }
   ],
   "source": [
    "lista = ['I', 'D', 'U']\n",
    "\n",
    "lista[1]"
   ]
  },
  {
   "cell_type": "code",
   "execution_count": 6,
   "id": "e39f4999",
   "metadata": {},
   "outputs": [],
   "source": [
    "lista[1] = \"abacate\""
   ]
  },
  {
   "cell_type": "code",
   "execution_count": 7,
   "id": "6d264d94",
   "metadata": {},
   "outputs": [
    {
     "data": {
      "text/plain": [
       "['I', 'abacate', 'U']"
      ]
     },
     "execution_count": 7,
     "metadata": {},
     "output_type": "execute_result"
    }
   ],
   "source": [
    "lista"
   ]
  },
  {
   "cell_type": "markdown",
   "id": "5fafc4cd",
   "metadata": {},
   "source": [
    "Note que o programa acima imprime \"Ada\", com um caractere por linha. Ou seja, ele considerou frase[0] como \"A\", frase[1] como \"d\", e assim sucessivamente. Uma _string_ é, de fato, uma coleção de caracteres.\n",
    " \n",
    "Porém, ao contrário de uma lista, dizemos que uma _string_ é **imutável**. Isso significa que não podemos alterar um elemento individual da _string_.\n",
    "O programa abaixo produz um erro:"
   ]
  },
  {
   "cell_type": "code",
   "execution_count": 5,
   "id": "55b83325",
   "metadata": {},
   "outputs": [
    {
     "ename": "TypeError",
     "evalue": "'str' object does not support item assignment",
     "output_type": "error",
     "traceback": [
      "\u001b[1;31m---------------------------------------------------------------------------\u001b[0m",
      "\u001b[1;31mTypeError\u001b[0m                                 Traceback (most recent call last)",
      "Cell \u001b[1;32mIn[5], line 1\u001b[0m\n\u001b[1;32m----> 1\u001b[0m \u001b[43mfrase\u001b[49m\u001b[43m[\u001b[49m\u001b[38;5;241;43m5\u001b[39;49m\u001b[43m]\u001b[49m \u001b[38;5;241m=\u001b[39m \u001b[38;5;124m'\u001b[39m\u001b[38;5;124mabacate\u001b[39m\u001b[38;5;124m'\u001b[39m\n",
      "\u001b[1;31mTypeError\u001b[0m: 'str' object does not support item assignment"
     ]
    }
   ],
   "source": [
    "frase[5] = 'abacate'"
   ]
  },
  {
   "cell_type": "code",
   "execution_count": 8,
   "id": "0f5a9900",
   "metadata": {},
   "outputs": [],
   "source": [
    "frase = frase.split()"
   ]
  },
  {
   "cell_type": "code",
   "execution_count": 9,
   "id": "bbee6e5c",
   "metadata": {},
   "outputs": [
    {
     "data": {
      "text/plain": [
       "['Ada', 'é', 'uma', 'escolha', 'legal']"
      ]
     },
     "execution_count": 9,
     "metadata": {},
     "output_type": "execute_result"
    }
   ],
   "source": [
    "frase"
   ]
  },
  {
   "cell_type": "code",
   "execution_count": 13,
   "id": "2778c1e3",
   "metadata": {},
   "outputs": [],
   "source": [
    "frase_caracteres = []\n",
    "for char in frase:\n",
    "    frase_caracteres.append(char)"
   ]
  },
  {
   "cell_type": "code",
   "execution_count": 14,
   "id": "d1d52319",
   "metadata": {},
   "outputs": [
    {
     "data": {
      "text/plain": [
       "['A',\n",
       " 'd',\n",
       " 'a',\n",
       " ' ',\n",
       " 'é',\n",
       " ' ',\n",
       " 'u',\n",
       " 'm',\n",
       " 'a',\n",
       " ' ',\n",
       " 'e',\n",
       " 's',\n",
       " 'c',\n",
       " 'o',\n",
       " 'l',\n",
       " 'h',\n",
       " 'a',\n",
       " ' ',\n",
       " 'l',\n",
       " 'e',\n",
       " 'g',\n",
       " 'a',\n",
       " 'l']"
      ]
     },
     "execution_count": 14,
     "metadata": {},
     "output_type": "execute_result"
    }
   ],
   "source": [
    "frase_caracteres"
   ]
  },
  {
   "cell_type": "code",
   "execution_count": 15,
   "id": "254a5521",
   "metadata": {},
   "outputs": [
    {
     "data": {
      "text/plain": [
       "['A',\n",
       " 'd',\n",
       " 'a',\n",
       " ' ',\n",
       " 'é',\n",
       " ' ',\n",
       " 'u',\n",
       " 'm',\n",
       " 'a',\n",
       " ' ',\n",
       " 'e',\n",
       " 's',\n",
       " 'c',\n",
       " 'o',\n",
       " 'l',\n",
       " 'h',\n",
       " 'a',\n",
       " ' ',\n",
       " 'l',\n",
       " 'e',\n",
       " 'g',\n",
       " 'a',\n",
       " 'l']"
      ]
     },
     "execution_count": 15,
     "metadata": {},
     "output_type": "execute_result"
    }
   ],
   "source": [
    "frase2 = [letra for letra in frase]\n",
    "frase2"
   ]
  },
  {
   "cell_type": "code",
   "execution_count": 20,
   "id": "31a1a5a8",
   "metadata": {},
   "outputs": [
    {
     "data": {
      "text/plain": [
       "['A',\n",
       " 'd',\n",
       " 'Vytor',\n",
       " ' ',\n",
       " 'é',\n",
       " ' ',\n",
       " 'u',\n",
       " 'm',\n",
       " 'a',\n",
       " ' ',\n",
       " 'e',\n",
       " 's',\n",
       " 'c',\n",
       " 'o',\n",
       " 'l',\n",
       " 'h',\n",
       " 'a',\n",
       " ' ',\n",
       " 'l',\n",
       " 'e',\n",
       " 'g',\n",
       " 'a',\n",
       " 'l']"
      ]
     },
     "execution_count": 20,
     "metadata": {},
     "output_type": "execute_result"
    }
   ],
   "source": [
    "lista_list = list(frase)\n",
    "lista_list[2] = 'Vytor'\n",
    "lista_list"
   ]
  },
  {
   "cell_type": "markdown",
   "id": "3bb49d24",
   "metadata": {},
   "source": [
    "Para alterar uma _string_, é necessário **redefini-la**, de modo que a _string_ original será descartada e a nova (alterada) será escrita por cima da original. Ou, alternativamente, podemos gerar uma cópia da _string_ com alterações. Veremos mais detalhes adiante.\n",
    " \n",
    "### 1.2. Operações entre _strings_\n",
    " \n",
    "#### 1.2.1. Operadores aritméticos\n",
    "Alguns operadores aritméticos funcionam com _strings_ também. Naturalmente, eles não servem para fazer contas, mas nos permitem fazer de forma intuitiva algumas operações bastante úteis.\n",
    " \n",
    "O operador **+** serve como um operador de **concatenação** de _strings_: unir duas _strings_. Observe o exemplo abaixo:"
   ]
  },
  {
   "cell_type": "code",
   "execution_count": 22,
   "id": "411fb0ba",
   "metadata": {},
   "outputs": [
    {
     "name": "stdout",
     "output_type": "stream",
     "text": [
      "Olá Mundo!\n"
     ]
    }
   ],
   "source": [
    "string1 = 'Olá'\n",
    "string2 = ' Mundo!'\n",
    "resultado = string1 + string2\n",
    "print(resultado)"
   ]
  },
  {
   "cell_type": "markdown",
   "id": "ba334c15",
   "metadata": {},
   "source": [
    "Outro operador que funciona é o operador **\\***. Este operador não é usado entre duas _strings_, mas entre uma _string_ e um **int**. Ele repetirá a _string_ o número de vezes dado pelo **int**."
   ]
  },
  {
   "cell_type": "code",
   "execution_count": 26,
   "id": "1ecd16ab",
   "metadata": {},
   "outputs": [
    {
     "name": "stdout",
     "output_type": "stream",
     "text": [
      "Olá Mundo! Olá Mundo! Olá Mundo! Olá Mundo! Olá Mundo! Olá Mundo! Olá Mundo! Olá Mundo! Olá Mundo! Olá Mundo! \n"
     ]
    }
   ],
   "source": [
    "string1 = input(\"Digite algo\")\n",
    "multiplicacao = string1 * 10\n",
    "\n",
    "print(multiplicacao)"
   ]
  },
  {
   "cell_type": "code",
   "execution_count": 25,
   "id": "73aafa53",
   "metadata": {},
   "outputs": [
    {
     "name": "stdout",
     "output_type": "stream",
     "text": [
      "Olá Mundo!Olá Mundo!Olá Mundo!Olá Mundo!Olá Mundo!Olá Mundo!Olá Mundo!Olá Mundo!Olá Mundo!Olá Mundo!\n"
     ]
    }
   ],
   "source": [
    "string1 = 'Olá Mundo!'\n",
    "multiplicacao = string1 * 10\n",
    "\n",
    "print(multiplicacao)"
   ]
  },
  {
   "cell_type": "code",
   "execution_count": 27,
   "id": "8d35da1e",
   "metadata": {},
   "outputs": [
    {
     "name": "stdout",
     "output_type": "stream",
     "text": [
      "Funcionou!\n"
     ]
    }
   ],
   "source": [
    "if \"Jorge\" > \"Jarge\":\n",
    "    print(\"Funcionou!\")"
   ]
  },
  {
   "cell_type": "markdown",
   "id": "7da81194",
   "metadata": {},
   "source": [
    "#### 1.2.2. Operadores lógicos\n",
    " \n",
    "Os operadores lógicos (```<```, ```>```, ```<=```, ```=>```, ```!=``` e ```==```) também funcionam com strings. Esses operadores são _case sensitive_, ou seja, diferenciam maiúsculas de minúsculas.\n",
    " \n",
    "De maneira muito simplificada e desconsiderando diferenças entre maiúsculas e minúsculas, podemos dizer que eles consideram ordem alfabética: 'banana' é maior do que 'abacaxi'.\n",
    " \n",
    "A explicação mais completa é a seguinte: internamente, cada caractere é armazenado como um número. Quando utilizamos qualquer tipo de aplicação que irá exibir um texto (um editor de textos, navegador de internet, ou mesmo os nossos programinhas em Python rodando no terminal), a aplicação usa esses números como índices em uma **tabela de codificação de caracteres**.\n",
    " \n",
    "Temos diversos esquemas diferentes de codificação de caracteres em uso pelo mundo, e quando você está usando um programa ou navegando por um site e você nota símbolos estranhos no texto (frequentemente onde teríamos caracteres especiais, como letras com acento), é provável que o autor do texto tenha utilizado uma tabela e o seu computador esteja usando outra.\n",
    " \n",
    "Vários programas permitem a conversão entre essas tabelas, e você já deve ter visto essa \"sopa de letrinhas\" em alguma aba ou janela de configuração em algum editor de textos: **utf-8**, **utf-16**, **windows-1252** (ou **cp-2152**), e até mesmo alguns padrões ISO.\n",
    " \n",
    "Para ilustrar a ideia, vamos colocar aqui uma das tabelas mais simples, a tabela ASCII:\n",
    " \n",
    "![](https://upload.wikimedia.org/wikipedia/commons/thumb/1/1b/ASCII-Table-wide.svg/1200px-ASCII-Table-wide.svg.png)\n",
    " \n",
    "Fonte: https://upload.wikimedia.org/wikipedia/commons/thumb/1/1b/ASCII-Table-wide.svg/1200px-ASCII-Table-wide.svg.png\n",
    " \n",
    "Note que o caractere 'A' está no índice 65, o 'B' está no índice 66, e assim sucessivamente. Por isso, 'Abacate' < 'Banana' é verdadeiro: a primeira string começa com uma letra no índice 65 da tabela, a segunda com uma letra no índice 66.\n",
    " \n",
    "No caso de 'Abacate' e 'Abacaxi', temos um \"empate\" das 5 primeiras letras. Então é a sexta letra que vai mandar: 'x' é maior do que 't', por estar em uma posição superior na tabela.\n",
    " \n",
    "Note que a ordem não é exatamente alfabética: entre os caracteres maiúsculos, seguimos ordem alfabética. Entre os minúsculos, idem. E entre os dígitos numéricos, também temos ordem crescente correspondente aos valores. Mas todos os minúsculos são \"maiores\" do que qualquer maiúsculo, que por sua vez são \"maiores\" do que qualquer dígito numérico. Símbolos, operadores e sinais de pontuação estão em posições diversas.\n",
    "\n",
    "O Python disponibiliza 2 funções que são bastante uteis quando estamos trabalhando com o sistema ASCII. A primeira é a função ord() , que recebe uma letra como parâmetro e retorna o código ASCII da mesma. A segunda função, é a chr() , onde passamos o código ASCII e nos é retornado a respectiva letra.\n",
    "\n",
    "A seguir, temos 2 exemplos utilizando as funções builtin do Python ord() e chr().\n",
    " \n"
   ]
  },
  {
   "cell_type": "code",
   "execution_count": 42,
   "id": "cc81878c",
   "metadata": {},
   "outputs": [
    {
     "name": "stdout",
     "output_type": "stream",
     "text": [
      "97\n",
      "a\n",
      "65\n",
      "a\n",
      "a\n"
     ]
    }
   ],
   "source": [
    "print(ord('a'))\n",
    "print(chr(97))\n",
    "print(ord('A'))\n",
    "valor = 65 + 32\n",
    "print(chr(valor))\n",
    "\n",
    "print(chr(ord('A') + 32))"
   ]
  },
  {
   "cell_type": "code",
   "execution_count": 31,
   "id": "dc14a609",
   "metadata": {},
   "outputs": [
    {
     "data": {
      "text/plain": [
       "{'A', 'Z', 'a', 'z'}"
      ]
     },
     "execution_count": 31,
     "metadata": {},
     "output_type": "execute_result"
    }
   ],
   "source": [
    "alfabeto = {'A', 'Z', 'a', 'z'}\n",
    "alfabeto"
   ]
  },
  {
   "cell_type": "markdown",
   "id": "2ab4caf0",
   "metadata": {},
   "source": [
    "#### 1.2.3. Copiando uma _string_ através de concatenação\n",
    "Caso você já tenha resolvido problemas de somatório (a essa altura, espera-se que tenha resolvido vários!), você já deve estar acostumado a utilizar um _loop_ onde novos valores são somados em uma mesma variável. Somar os números de uma lista, por exemplo, tem mais ou menos essa carinha:"
   ]
  },
  {
   "cell_type": "code",
   "execution_count": 46,
   "id": "9618e901",
   "metadata": {},
   "outputs": [
    {
     "data": {
      "text/plain": [
       "6"
      ]
     },
     "execution_count": 46,
     "metadata": {},
     "output_type": "execute_result"
    }
   ],
   "source": [
    "lista = [1, 2 ,3]\n",
    "soma = 0\n",
    "for numero in lista:\n",
    "    soma += numero \n",
    "soma"
   ]
  },
  {
   "cell_type": "code",
   "execution_count": 47,
   "id": "91811193",
   "metadata": {},
   "outputs": [
    {
     "data": {
      "text/plain": [
       "6"
      ]
     },
     "execution_count": 47,
     "metadata": {},
     "output_type": "execute_result"
    }
   ],
   "source": [
    "lista = [1, 2, 3]\n",
    "soma = sum([numero for numero in lista])\n",
    "soma"
   ]
  },
  {
   "cell_type": "code",
   "execution_count": 49,
   "id": "98957789",
   "metadata": {},
   "outputs": [
    {
     "data": {
      "text/plain": [
       "6"
      ]
     },
     "execution_count": 49,
     "metadata": {},
     "output_type": "execute_result"
    }
   ],
   "source": [
    "sum(lista)"
   ]
  },
  {
   "cell_type": "code",
   "execution_count": 51,
   "id": "7e5cd735",
   "metadata": {},
   "outputs": [
    {
     "name": "stdout",
     "output_type": "stream",
     "text": [
      "olá oooo Mundo\n"
     ]
    }
   ],
   "source": [
    "string_inicial = 'Olá Mundo'\n",
    "string_final = ''\n",
    "\n",
    "for letra in string_inicial:\n",
    "    if letra == 'O':\n",
    "        string_final = string_final + 'o'\n",
    "    else:\n",
    "        string_final = string_final + letra\n",
    "\n",
    "print(string_final)"
   ]
  },
  {
   "cell_type": "markdown",
   "id": "4c3d3331",
   "metadata": {},
   "source": [
    "Isso é útil porque antes de \"somar\" cada letra à _string_ final podemos fazer alterações (como transformar em maiúscula ou minúscula, acrescentar caracteres entre 2 letras etc.). É um jeito de fazer tratamento de _strings_. Veremos mais sobre tratamento de _strings_ no capítulo de funções de _strings_.\n",
    " \n",
    "## 1.3. Transformando uma _string_ em lista\n",
    "_Strings_ são imutáveis, e isso pode nos dar um pouco de trabalho quando queremos fazer pequenas alterações, como forçar um caractere a ser maiúsculo ou acrescentar um caractere à _string_. Uma das formas de fazer envolve a \"soma cumulativa\" apresentada acima. Outra forma envolve transformar a nossa _string_ em lista, que é uma estrutura mutável. Execute o programa abaixo:"
   ]
  },
  {
   "cell_type": "code",
   "execution_count": 57,
   "id": "cc47161a",
   "metadata": {},
   "outputs": [
    {
     "data": {
      "text/plain": [
       "['v',\n",
       " 'i',\n",
       " 't',\n",
       " 'a',\n",
       " 'm',\n",
       " 'i',\n",
       " 'n',\n",
       " 'a',\n",
       " ' ',\n",
       " 'd',\n",
       " 'e',\n",
       " ' ',\n",
       " 'A',\n",
       " 'b',\n",
       " 'a',\n",
       " 'c',\n",
       " 'a',\n",
       " 't',\n",
       " 'e',\n",
       " '!']"
      ]
     },
     "execution_count": 57,
     "metadata": {},
     "output_type": "execute_result"
    }
   ],
   "source": [
    "vitamina = 'Vitamina de Abacate'\n",
    "lista_vitamina = list(vitamina)\n",
    "lista_vitamina[0] = 'v'\n",
    "lista_vitamina.append('!')\n",
    "lista_vitamina"
   ]
  },
  {
   "cell_type": "markdown",
   "id": "fe621e8e",
   "metadata": {},
   "source": [
    "Como a lista é mutável, nela conseguimos alterar uma letra e adicionar um símbolo ao final sem dificuldades! Porém, infelizmente nosso resultado é uma lista, o que não ficou muito legível para o usuário. Podemos resolver isso utilizando a função _join_. Veremos em breve como ele realmente funciona, mas por hora podemos utilizá-lo da seguinte maneira para transformar lista em _string_:"
   ]
  },
  {
   "cell_type": "code",
   "execution_count": 66,
   "id": "2d3e07e4",
   "metadata": {},
   "outputs": [
    {
     "name": "stdout",
     "output_type": "stream",
     "text": [
      "vitamina de Abacate!\n"
     ]
    }
   ],
   "source": [
    "vitamina = 'Vitamina de Abacate'\n",
    "lista_vitamina = list(vitamina)\n",
    "lista_vitamina[0] = 'v'\n",
    "lista_vitamina.append('!')\n",
    "string_vitamina = ''.join(lista_vitamina)\n",
    "print(string_vitamina)"
   ]
  },
  {
   "cell_type": "code",
   "execution_count": 65,
   "id": "cdfbea88",
   "metadata": {},
   "outputs": [
    {
     "name": "stdout",
     "output_type": "stream",
     "text": [
      "vitamina de Abacate!\n"
     ]
    }
   ],
   "source": [
    "vitamina = 'Vitamina de Abacate'\n",
    "lista_vitamina = list(vitamina)\n",
    "lista_vitamina[0] = 'v'\n",
    "lista_vitamina.append('!')\n",
    "string_vitamina = ''.join(';'.join(lista_vitamina).split(';'))\n",
    "print(string_vitamina)"
   ]
  },
  {
   "cell_type": "markdown",
   "id": "f74b3ba0",
   "metadata": {},
   "source": [
    "Para as modificações mais comuns, temos algumas funções prontas que poderão ser bastante úteis!\n",
    " \n",
    "## 2. Símbolos especiais\n",
    "Além de letras, números, sinais de pontuação, símbolos matemáticos etc., uma _string_ pode conter alguns operadores especiais de controle. Esses operadores podem indicar, por exemplo, uma quebra de linha ou uma tabulação. Vejamos os mais comuns:\n",
    " \n",
    "### 2.1. Quebra de linha\n",
    "Uma quebra de linha indica que o programa exibindo a _string_ deverá quebrar a linha atual e exibir o restante da _string_ na linha seguinte, e é representada na maioria dos sistemas e na _web_ pelo símbolo ```\\n```. Execute o programa abaixo e veja o resultado na tela:"
   ]
  },
  {
   "cell_type": "code",
   "execution_count": 62,
   "id": "34907026",
   "metadata": {},
   "outputs": [
    {
     "name": "stdout",
     "output_type": "stream",
     "text": [
      "Olá \n",
      " Mundo\n"
     ]
    }
   ],
   "source": [
    "print(\"Olá \\n Mundo\")"
   ]
  },
  {
   "cell_type": "markdown",
   "id": "3595afa3",
   "metadata": {},
   "source": [
    "### 2.2. Tabulação\n",
    "A tabulação indica um recuo equivalente ao da tecla _Tab_ - um recuo de início de parágrafo, ou o recuo que usamos para aninhar linhas de código em Python. Ela é representada pelo símbolo ```\\t```. Verifique o resultado do exemplo abaixo:"
   ]
  },
  {
   "cell_type": "code",
   "execution_count": 77,
   "id": "3a8a4b65",
   "metadata": {},
   "outputs": [
    {
     "name": "stdout",
     "output_type": "stream",
     "text": [
      "Candidatos aprovados:\n",
      "         Mario         \n",
      "         Luigi         \n",
      "         Peach         \n",
      "\n",
      "Candidatos reprovados:\n",
      "\t Bowser\n",
      "\t Wario\n",
      "\t Waluigi\n"
     ]
    }
   ],
   "source": [
    "aprovados = [\"Mario\", \"Luigi\", \"Peach\"]\n",
    "reprovados = [\"Bowser\", \"Wario\", \"Waluigi\"]\n",
    "\n",
    "print(\"Candidatos aprovados:\")\n",
    "for aprovado in aprovados:\n",
    "    print(f\"{aprovado:^23}\")\n",
    "\n",
    "print(\"\\nCandidatos reprovados:\")\n",
    "for reprovado in reprovados:\n",
    "    print(\"\\t\", reprovado)"
   ]
  },
  {
   "cell_type": "markdown",
   "id": "d5c35aac",
   "metadata": {},
   "source": [
    "### 2.3. Barra\n",
    "E se nós quiséssemos representar uma _string_ que explica o significado de ```\\n```, por exemplo, como proceder? Afinal, ao ver o símbolo ```\\n``` o programa entenderá que é uma quebra de linha e fará isso ao invés de escrever ```\\n``` na tela.\n",
    " \n",
    "Podemos utilizar 2 barras: ```\\\\```. Ao fazermos isso, o programa entende que é para representar a barra na tela ao invés de interpretá-la como início de outro símbolo especial."
   ]
  },
  {
   "cell_type": "code",
   "execution_count": 81,
   "id": "017dc0fd",
   "metadata": {},
   "outputs": [
    {
     "name": "stdout",
     "output_type": "stream",
     "text": [
      "Utilizamos o \\n para demonstrar as quebras de linha\n"
     ]
    }
   ],
   "source": [
    "print('Utilizamos o \\\\n para demonstrar as quebras de linha')"
   ]
  },
  {
   "cell_type": "code",
   "execution_count": 82,
   "id": "ce6438a1",
   "metadata": {},
   "outputs": [
    {
     "name": "stdout",
     "output_type": "stream",
     "text": [
      "Utilizamos o \\n para demonstrar as quebras de linha\n"
     ]
    }
   ],
   "source": [
    "print(r'Utilizamos o \\n para demonstrar as quebras de linha')"
   ]
  },
  {
   "cell_type": "markdown",
   "id": "0b21173a",
   "metadata": {},
   "source": [
    "### 2.4 Aspas\n",
    "Um problema que você deve ter se deparado é que parece impossível representar o símbolo ```'``` em uma _string_ que foi aberta por esse símbolo, já que a segunda ocorrência dele fechará a string. Idem para o símbolo ```\"```. Podemos resolver isso da mesma forma que fizemos com a barra: ```\\'``` irá sempre representar o símbolo ```'``` e ```\\\"``` irá sempre representar o símbolo ```\"``` ao invés de fechar uma _string_."
   ]
  },
  {
   "cell_type": "code",
   "execution_count": 89,
   "id": "2e20e4d2",
   "metadata": {},
   "outputs": [
    {
     "name": "stdout",
     "output_type": "stream",
     "text": [
      "Aspas simples ' \"\n",
      "Aspas simples ' \"\n"
     ]
    }
   ],
   "source": [
    "print(\"Aspas simples \\' \\\"\")\n",
    "print('Aspas simples \\' \\\"')"
   ]
  },
  {
   "cell_type": "markdown",
   "id": "87832088",
   "metadata": {},
   "source": [
    "### 2.5 Funções úteis\n",
    "\n",
    "**1. split()**\n",
    "\n",
    "A função split() divide um texto todas as vezes que a String passada como argumento for localizada. No código a seguir, definimos uma frase e sem seguida, invocamos a função split(), definindo como argumento, uma String que contém um único espaço em branco."
   ]
  },
  {
   "cell_type": "code",
   "execution_count": 91,
   "id": "01108707",
   "metadata": {},
   "outputs": [
    {
     "data": {
      "text/plain": [
       "['Toda', 'string', 'do', 'python', 'é', 'imutável']"
      ]
     },
     "execution_count": 91,
     "metadata": {},
     "output_type": "execute_result"
    }
   ],
   "source": [
    "string = \"Toda string do python é imutável\"\n",
    "lista = string.split(\" \")\n",
    "lista"
   ]
  },
  {
   "cell_type": "markdown",
   "id": "3f2835d2",
   "metadata": {},
   "source": [
    "**2. replace()**\n",
    "\n",
    "A função replace() substitui uma parte do texto por uma outra String. A palavra replace(), do Inglês, siginifca substituir e é isso que a função replace() da classe String do Python faz.\n",
    "\n",
    "No código a seguir, iremos definir uma String e em seguida, substituiremos uma parte do texto por outra."
   ]
  },
  {
   "cell_type": "code",
   "execution_count": 93,
   "id": "18d8c8ab",
   "metadata": {},
   "outputs": [
    {
     "data": {
      "text/plain": [
       "'a função marcelo substitui parte do texto por outro texto'"
      ]
     },
     "execution_count": 93,
     "metadata": {},
     "output_type": "execute_result"
    }
   ],
   "source": [
    "string_replace = \"a função replace substitui parte do texto por outro texto\"\n",
    "\n",
    "string_marcelo = string_replace.replace(\"replace\", \"marcelo\")\n",
    "string_marcelo"
   ]
  },
  {
   "cell_type": "markdown",
   "id": "5c7bae83",
   "metadata": {},
   "source": [
    "**3. Outras funções:**\n",
    "\n",
    "Agora vamos contar o numero de vezes que a palavra especificada aparece na string, nesse caso estou apenas procurando por um caracter 'r'."
   ]
  },
  {
   "cell_type": "code",
   "execution_count": 96,
   "id": "c0baee90",
   "metadata": {},
   "outputs": [
    {
     "data": {
      "text/plain": [
       "2"
      ]
     },
     "execution_count": 96,
     "metadata": {},
     "output_type": "execute_result"
    }
   ],
   "source": [
    "string_contador = \"Este é um EXEMPLO de string\"\n",
    "\n",
    "num_ocorrencias = string_contador.count(\"e\")\n",
    "num_ocorrencias"
   ]
  },
  {
   "cell_type": "markdown",
   "id": "14a3d666",
   "metadata": {},
   "source": [
    "Podemos também achar em que posição está certa levra ou palavra."
   ]
  },
  {
   "cell_type": "code",
   "execution_count": 101,
   "id": "81655662",
   "metadata": {},
   "outputs": [
    {
     "name": "stdout",
     "output_type": "stream",
     "text": [
      "5\n",
      "0\n",
      "10\n"
     ]
    }
   ],
   "source": [
    "posicao = string_contador.find(\"é\")\n",
    "print(posicao)\n",
    "\n",
    "posicao = string_contador.find(\"E\")\n",
    "print(posicao)\n",
    "\n",
    "posicao = string_contador.find(\"EXEMPLO\")\n",
    "print(posicao)"
   ]
  },
  {
   "cell_type": "markdown",
   "id": "3be09964",
   "metadata": {},
   "source": [
    "Separar uma string é uma coisa que eu frequentemente faço.O método split é usado para isso."
   ]
  },
  {
   "cell_type": "code",
   "execution_count": 102,
   "id": "8cf97637",
   "metadata": {},
   "outputs": [
    {
     "data": {
      "text/plain": [
       "['Este', 'é', 'um', 'EXEMPLO', 'de', 'string']"
      ]
     },
     "execution_count": 102,
     "metadata": {},
     "output_type": "execute_result"
    }
   ],
   "source": [
    "string_contador.split()"
   ]
  },
  {
   "cell_type": "markdown",
   "id": "c7acd611",
   "metadata": {},
   "source": [
    "Podemos escolher o ponto a ser separado."
   ]
  },
  {
   "cell_type": "code",
   "execution_count": 109,
   "id": "8d8cab1a",
   "metadata": {},
   "outputs": [],
   "source": [
    "resultado = string_contador.split(\"EXEMPLO\")"
   ]
  },
  {
   "cell_type": "code",
   "execution_count": 110,
   "id": "75bc85ca",
   "metadata": {},
   "outputs": [],
   "source": [
    "resultado.insert(1, \"EXEMPLO\")"
   ]
  },
  {
   "cell_type": "code",
   "execution_count": 111,
   "id": "e104b9af",
   "metadata": {},
   "outputs": [
    {
     "data": {
      "text/plain": [
       "['Este é um ', 'EXEMPLO', ' de string']"
      ]
     },
     "execution_count": 111,
     "metadata": {},
     "output_type": "execute_result"
    }
   ],
   "source": [
    "resultado"
   ]
  },
  {
   "cell_type": "code",
   "execution_count": 113,
   "id": "eeec8850",
   "metadata": {},
   "outputs": [
    {
     "data": {
      "text/plain": [
       "['Este é um ', ' de string']"
      ]
     },
     "execution_count": 113,
     "metadata": {},
     "output_type": "execute_result"
    }
   ],
   "source": [
    "string_contador.split(\"EXEMPLO\")"
   ]
  },
  {
   "cell_type": "code",
   "execution_count": 112,
   "id": "a673d5c5",
   "metadata": {},
   "outputs": [
    {
     "data": {
      "text/plain": [
       "['Este é um', ' EXEMPLO', ' de string']"
      ]
     },
     "execution_count": 112,
     "metadata": {},
     "output_type": "execute_result"
    }
   ],
   "source": [
    "nara = \"Este é um, EXEMPLO, de string\"\n",
    "nara.split(',')"
   ]
  },
  {
   "cell_type": "code",
   "execution_count": 114,
   "id": "18036592",
   "metadata": {},
   "outputs": [
    {
     "data": {
      "text/plain": [
       "['lauro', 'costa ', '28']"
      ]
     },
     "execution_count": 114,
     "metadata": {},
     "output_type": "execute_result"
    }
   ],
   "source": [
    "lauro = \"lauro|costa |28\"\n",
    "lauro.split(\"|\")"
   ]
  },
  {
   "cell_type": "markdown",
   "id": "77458d15",
   "metadata": {},
   "source": [
    "Para juntar nossa string separada, podemos usar o método join."
   ]
  },
  {
   "cell_type": "code",
   "execution_count": 117,
   "id": "c6b35ed6",
   "metadata": {},
   "outputs": [
    {
     "data": {
      "text/plain": [
       "'Este é um  de string'"
      ]
     },
     "execution_count": 117,
     "metadata": {},
     "output_type": "execute_result"
    }
   ],
   "source": [
    "''.join(string_contador.split('EXEMPLO'))"
   ]
  },
  {
   "cell_type": "markdown",
   "id": "4cd207a3",
   "metadata": {},
   "source": [
    "Podemos brincar com a caixa das letras (maiúsculo ou minúsculo). Vamos deixar tudo maiúsculo.\n"
   ]
  },
  {
   "cell_type": "code",
   "execution_count": 118,
   "id": "70a3215b",
   "metadata": {},
   "outputs": [
    {
     "data": {
      "text/plain": [
       "'ESTE É UM EXEMPLO DE STRING'"
      ]
     },
     "execution_count": 118,
     "metadata": {},
     "output_type": "execute_result"
    }
   ],
   "source": [
    "string_contador.upper()"
   ]
  },
  {
   "cell_type": "markdown",
   "id": "81ef2255",
   "metadata": {},
   "source": [
    "Agora vamos deixar tudo minúsculo."
   ]
  },
  {
   "cell_type": "code",
   "execution_count": null,
   "id": "b83e19b3",
   "metadata": {},
   "outputs": [],
   "source": [
    "string_contador.lower()"
   ]
  },
  {
   "cell_type": "markdown",
   "id": "3d8b0fde",
   "metadata": {},
   "source": [
    "Vamos deixar apenas a primeira letra maiúscula de uma string minúscula."
   ]
  },
  {
   "cell_type": "code",
   "execution_count": 119,
   "id": "4eabd83b",
   "metadata": {},
   "outputs": [
    {
     "data": {
      "text/plain": [
       "'Este é um exemplo de string'"
      ]
     },
     "execution_count": 119,
     "metadata": {},
     "output_type": "execute_result"
    }
   ],
   "source": [
    "string_contador.capitalize()"
   ]
  },
  {
   "cell_type": "markdown",
   "id": "2761ab4c",
   "metadata": {},
   "source": [
    "Podemos usar o método title, que deixa as letras de cada palavra da string maiúscula."
   ]
  },
  {
   "cell_type": "code",
   "execution_count": 120,
   "id": "fae2c329",
   "metadata": {},
   "outputs": [
    {
     "data": {
      "text/plain": [
       "'Este É Um Exemplo De String'"
      ]
     },
     "execution_count": 120,
     "metadata": {},
     "output_type": "execute_result"
    }
   ],
   "source": [
    "string_contador.title()"
   ]
  },
  {
   "cell_type": "markdown",
   "id": "8aa29945",
   "metadata": {},
   "source": [
    "Uma troca também é possível.O que for maiúsculo vira minúsculo e vice-versa."
   ]
  },
  {
   "cell_type": "code",
   "execution_count": 121,
   "id": "edac90c2",
   "metadata": {},
   "outputs": [
    {
     "data": {
      "text/plain": [
       "'eSTE É UM exemplo DE STRING'"
      ]
     },
     "execution_count": 121,
     "metadata": {},
     "output_type": "execute_result"
    }
   ],
   "source": [
    "string_contador.swapcase()"
   ]
  },
  {
   "cell_type": "markdown",
   "id": "2eb25499",
   "metadata": {},
   "source": [
    "Podemos rodar alguns testes numa string usando poucos métodos. Vamos ver se a string dada é totalmente maiúscula."
   ]
  },
  {
   "cell_type": "code",
   "execution_count": 125,
   "id": "13fcf0f8",
   "metadata": {},
   "outputs": [
    {
     "name": "stdout",
     "output_type": "stream",
     "text": [
      "True\n",
      "False\n"
     ]
    }
   ],
   "source": [
    "print('UPPER'.isupper())\n",
    "print('upper'.isupper())"
   ]
  },
  {
   "cell_type": "markdown",
   "id": "a044c55b",
   "metadata": {},
   "source": [
    "Do mesmo modo, podemos checar se a string dada é minúscula."
   ]
  },
  {
   "cell_type": "code",
   "execution_count": 126,
   "id": "267b48f2",
   "metadata": {},
   "outputs": [
    {
     "name": "stdout",
     "output_type": "stream",
     "text": [
      "False\n",
      "True\n"
     ]
    }
   ],
   "source": [
    "print('LOWER'.islower())\n",
    "print('lower'.islower())"
   ]
  },
  {
   "cell_type": "markdown",
   "id": "3aeb8a61",
   "metadata": {},
   "source": [
    "Checando se ela é um title, no caso, todas as palavras com a primeira letra maiúscula."
   ]
  },
  {
   "cell_type": "code",
   "execution_count": 127,
   "id": "c6205ed9",
   "metadata": {},
   "outputs": [
    {
     "data": {
      "text/plain": [
       "True"
      ]
     },
     "execution_count": 127,
     "metadata": {},
     "output_type": "execute_result"
    }
   ],
   "source": [
    "\"This Is A Title\".istitle()"
   ]
  },
  {
   "cell_type": "code",
   "execution_count": 128,
   "id": "c652c7b0",
   "metadata": {},
   "outputs": [
    {
     "data": {
      "text/plain": [
       "False"
      ]
     },
     "execution_count": 128,
     "metadata": {},
     "output_type": "execute_result"
    }
   ],
   "source": [
    "\"This Is a Title\".istitle()"
   ]
  },
  {
   "cell_type": "markdown",
   "id": "395dcf94",
   "metadata": {},
   "source": [
    "Podemos checar se a string é alfa-numérica, ou seja, contém apenas letras e números, sem caracteres especiais."
   ]
  },
  {
   "cell_type": "code",
   "execution_count": 129,
   "id": "54cb89aa",
   "metadata": {},
   "outputs": [
    {
     "data": {
      "text/plain": [
       "True"
      ]
     },
     "execution_count": 129,
     "metadata": {},
     "output_type": "execute_result"
    }
   ],
   "source": [
    "'aa44'.isalnum()"
   ]
  },
  {
   "cell_type": "code",
   "execution_count": 130,
   "id": "565de32e",
   "metadata": {},
   "outputs": [
    {
     "data": {
      "text/plain": [
       "False"
      ]
     },
     "execution_count": 130,
     "metadata": {},
     "output_type": "execute_result"
    }
   ],
   "source": [
    "'aa$44'.isalnum()"
   ]
  },
  {
   "cell_type": "markdown",
   "id": "ab28ff27",
   "metadata": {},
   "source": [
    "É possível checar se uma string contém apenas letras."
   ]
  },
  {
   "cell_type": "code",
   "execution_count": 131,
   "id": "61c55d64",
   "metadata": {},
   "outputs": [
    {
     "data": {
      "text/plain": [
       "False"
      ]
     },
     "execution_count": 131,
     "metadata": {},
     "output_type": "execute_result"
    }
   ],
   "source": [
    "'aa44'.isalpha()"
   ]
  },
  {
   "cell_type": "code",
   "execution_count": 132,
   "id": "0b92fefa",
   "metadata": {},
   "outputs": [
    {
     "data": {
      "text/plain": [
       "True"
      ]
     },
     "execution_count": 132,
     "metadata": {},
     "output_type": "execute_result"
    }
   ],
   "source": [
    "'aaAA'.isalpha()"
   ]
  },
  {
   "cell_type": "markdown",
   "id": "6b458b37",
   "metadata": {},
   "source": [
    "Agora checando se ela contém apenas números."
   ]
  },
  {
   "cell_type": "code",
   "execution_count": 133,
   "id": "defe49d6",
   "metadata": {},
   "outputs": [
    {
     "data": {
      "text/plain": [
       "True"
      ]
     },
     "execution_count": 133,
     "metadata": {},
     "output_type": "execute_result"
    }
   ],
   "source": [
    "'44'.isdigit()"
   ]
  },
  {
   "cell_type": "code",
   "execution_count": 134,
   "id": "3469c39a",
   "metadata": {},
   "outputs": [
    {
     "data": {
      "text/plain": [
       "False"
      ]
     },
     "execution_count": 134,
     "metadata": {},
     "output_type": "execute_result"
    }
   ],
   "source": [
    "'aaa'.isdigit()"
   ]
  },
  {
   "cell_type": "markdown",
   "id": "ffeb72d9",
   "metadata": {},
   "source": [
    "Podemos checar se uma string contém apenas espacos."
   ]
  },
  {
   "cell_type": "code",
   "execution_count": 136,
   "id": "e4e53e84",
   "metadata": {},
   "outputs": [
    {
     "name": "stdout",
     "output_type": "stream",
     "text": [
      "True\n"
     ]
    }
   ],
   "source": [
    "print(\"                 \".isspace())"
   ]
  },
  {
   "cell_type": "code",
   "execution_count": 137,
   "id": "dc5625b5",
   "metadata": {},
   "outputs": [
    {
     "name": "stdout",
     "output_type": "stream",
     "text": [
      "False\n"
     ]
    }
   ],
   "source": [
    "print(\"qweqweqweqwe\".isspace())"
   ]
  },
  {
   "cell_type": "markdown",
   "id": "8e508db6",
   "metadata": {},
   "source": [
    "Falando em espços, podemos adicionar espacos em ambos os lados de uma string.Vamos adicionar espacos no lado direito de uma string."
   ]
  },
  {
   "cell_type": "code",
   "execution_count": 150,
   "id": "89290747",
   "metadata": {},
   "outputs": [
    {
     "name": "stdout",
     "output_type": "stream",
     "text": [
      "A string.      \n",
      "A string.       \n"
     ]
    }
   ],
   "source": [
    "str_a = 'A string.'.ljust(15)\n",
    "print(str_a)\n",
    "\n",
    "texto = 'A string.'\n",
    "print(f\"{texto:<16}\")"
   ]
  },
  {
   "cell_type": "markdown",
   "id": "bab5c39f",
   "metadata": {},
   "source": [
    "Para adicionar espacos do lado esquerdo, o método rjust é usado."
   ]
  },
  {
   "cell_type": "code",
   "execution_count": 148,
   "id": "64db0316",
   "metadata": {},
   "outputs": [
    {
     "name": "stdout",
     "output_type": "stream",
     "text": [
      "      A string.\n",
      "      A string.\n"
     ]
    }
   ],
   "source": [
    "str_a = 'A string.'.rjust(15)\n",
    "print(str_a)\n",
    "\n",
    "texto = \"A string.\"\n",
    "print(f\"{texto:>15}\")"
   ]
  },
  {
   "cell_type": "markdown",
   "id": "08aba33f",
   "metadata": {},
   "source": [
    "O método center é usado para centralizar uma string dentro de espacos."
   ]
  },
  {
   "cell_type": "code",
   "execution_count": 151,
   "id": "0ec06061",
   "metadata": {},
   "outputs": [
    {
     "name": "stdout",
     "output_type": "stream",
     "text": [
      "   A string.   \n"
     ]
    }
   ],
   "source": [
    "str_a = 'A string.'.center(15)\n",
    "print(str_a)"
   ]
  },
  {
   "cell_type": "markdown",
   "id": "0ba5c076",
   "metadata": {},
   "source": [
    "Podemos separar os espacos de ambos os lados de uma string."
   ]
  },
  {
   "cell_type": "code",
   "execution_count": 152,
   "id": "711e3be1",
   "metadata": {},
   "outputs": [
    {
     "data": {
      "text/plain": [
       "'A string.'"
      ]
     },
     "execution_count": 152,
     "metadata": {},
     "output_type": "execute_result"
    }
   ],
   "source": [
    "\"   A string.   \".strip()"
   ]
  },
  {
   "cell_type": "code",
   "execution_count": 153,
   "id": "52e762a0",
   "metadata": {},
   "outputs": [
    {
     "data": {
      "text/plain": [
       "'A string.   '"
      ]
     },
     "execution_count": 153,
     "metadata": {},
     "output_type": "execute_result"
    }
   ],
   "source": [
    "\"   A string.   \".lstrip()"
   ]
  },
  {
   "cell_type": "code",
   "execution_count": 154,
   "id": "e9162302",
   "metadata": {},
   "outputs": [
    {
     "data": {
      "text/plain": [
       "'   A string.'"
      ]
     },
     "execution_count": 154,
     "metadata": {},
     "output_type": "execute_result"
    }
   ],
   "source": [
    "\"   A string.   \".rstrip()"
   ]
  },
  {
   "cell_type": "code",
   "execution_count": 156,
   "id": "f367c183",
   "metadata": {},
   "outputs": [
    {
     "name": "stdout",
     "output_type": "stream",
     "text": [
      "são iguais\n"
     ]
    }
   ],
   "source": [
    "if \"Bruno\" == \"Bruno       \".strip():\n",
    "    print(\"são iguais\")\n",
    "else:\n",
    "    print(\"Não são iguais\")"
   ]
  },
  {
   "cell_type": "markdown",
   "id": "8011759d",
   "metadata": {},
   "source": [
    "### Exercício 1:\n",
    "\n",
    "Dado um endereço IP válido (IPv4), retorne uma versão 'desativada' desse endereço IP.\n",
    "\n",
    "Um endereço IP desativado substitui cada ponto \".\" com \"[.]\".\n",
    "\n",
    "Exemplo 1:\n",
    "\n",
    "- **Entrada:** endereço = \"1.1.1.1\"\n",
    "- **Saída:** \"1[.]1[.]1[.]1\"\n",
    "\n",
    "Exemplo 2:\n",
    "\n",
    "- **Entrada:** endereço = \"255.100.50.0\"\n",
    "- **Saída:** \"255[.]100[.]50[.]0\""
   ]
  },
  {
   "cell_type": "code",
   "execution_count": 157,
   "id": "26f63711",
   "metadata": {},
   "outputs": [
    {
     "data": {
      "text/plain": [
       "'123[.]234[.]342[.]312'"
      ]
     },
     "execution_count": 157,
     "metadata": {},
     "output_type": "execute_result"
    }
   ],
   "source": [
    "ip_valido = input(\"Entre com um IPv4 valido\").strip()\n",
    "\n",
    "lista_ip = list(ip_valido)\n",
    "\n",
    "ip_invalido = ''.join([v if v != '.' else f'[.]' for v in lista_ip])\n",
    "\n",
    "ip_invalido"
   ]
  },
  {
   "cell_type": "code",
   "execution_count": 161,
   "id": "7557ebfe",
   "metadata": {},
   "outputs": [
    {
     "name": "stdout",
     "output_type": "stream",
     "text": [
      "312[.]534[.]52[.]0\n"
     ]
    }
   ],
   "source": [
    "ip_original = '312.534.52.0'\n",
    "ip_desativado = ip_original.replace('.', '[.]')\n",
    "print(ip_desativado)"
   ]
  },
  {
   "cell_type": "code",
   "execution_count": 160,
   "id": "a23a0fc1",
   "metadata": {},
   "outputs": [
    {
     "name": "stdout",
     "output_type": "stream",
     "text": [
      "255[.]100[.]50[.]0\n"
     ]
    }
   ],
   "source": [
    "ENDERECO_IP =  \"255.100.50.0\"\n",
    "ip_desativado = ENDERECO_IP.replace('.', '[.]')\n",
    "print(ip_desativado)"
   ]
  },
  {
   "cell_type": "code",
   "execution_count": 159,
   "id": "48f07a6e",
   "metadata": {},
   "outputs": [
    {
     "name": "stdout",
     "output_type": "stream",
     "text": [
      "255[.]100[.]50[.]0\n"
     ]
    }
   ],
   "source": [
    "ip = '255.100.50.0'\n",
    "print(ip.replace('.', '[.]'))"
   ]
  },
  {
   "cell_type": "code",
   "execution_count": 158,
   "id": "31dcde40",
   "metadata": {},
   "outputs": [
    {
     "data": {
      "text/plain": [
       "'1[.]1[.]1[.]1'"
      ]
     },
     "execution_count": 158,
     "metadata": {},
     "output_type": "execute_result"
    }
   ],
   "source": [
    "entrada = \"1.1.1.1\"\n",
    "entrada = entrada.replace('.', '[.]')\n",
    "\n",
    "entrada"
   ]
  },
  {
   "cell_type": "markdown",
   "id": "a29a1057",
   "metadata": {},
   "source": [
    "### Exercício 2:\n",
    "\n",
    "Um pangrama é uma frase em que cada letra do alfabeto aparece pelo menos uma vez.\n",
    "\n",
    "Dada uma frase de string contendo apenas letras minúsculas, retorne true se a frase for um pangrama ou false caso contrário.\n",
    "\n",
    "Exemplo 1:\n",
    "\n",
    "- **Entrada:** frase = \"thequickbrownfoxjumpsoverthelazydog\"\n",
    "- **Saída:** verdadeiro\n",
    "\n",
    "Explicação: a frase contém pelo menos uma de cada letra do alfabeto.\n",
    "\n",
    "Exemplo 2:\n",
    "\n",
    "- **Entrada:** frase = \"letscode\"\n",
    "- **Saída:** falso"
   ]
  },
  {
   "cell_type": "code",
   "execution_count": 165,
   "id": "05b161b6",
   "metadata": {},
   "outputs": [
    {
     "data": {
      "text/plain": [
       "{'a',\n",
       " 'b',\n",
       " 'c',\n",
       " 'd',\n",
       " 'e',\n",
       " 'f',\n",
       " 'g',\n",
       " 'h',\n",
       " 'i',\n",
       " 'j',\n",
       " 'k',\n",
       " 'l',\n",
       " 'm',\n",
       " 'n',\n",
       " 'o',\n",
       " 'p',\n",
       " 'q',\n",
       " 'r',\n",
       " 's',\n",
       " 't',\n",
       " 'u',\n",
       " 'v',\n",
       " 'w',\n",
       " 'x',\n",
       " 'y',\n",
       " 'z'}"
      ]
     },
     "execution_count": 165,
     "metadata": {},
     "output_type": "execute_result"
    }
   ],
   "source": [
    "frase = \"thequickbrownfoxjumpsoverthelazydog\"\n",
    "set(frase)"
   ]
  },
  {
   "cell_type": "code",
   "execution_count": 164,
   "id": "dc5b91b5",
   "metadata": {},
   "outputs": [
    {
     "name": "stdout",
     "output_type": "stream",
     "text": [
      "verdadeiro\n"
     ]
    }
   ],
   "source": [
    "frase = \"thequickbrownfoxjumpsoverthelazydog\"\n",
    "if len(set(frase)) == 26:\n",
    "  print('verdadeiro')\n",
    "else:\n",
    "  print('false')"
   ]
  },
  {
   "cell_type": "code",
   "execution_count": null,
   "id": "45dfe991",
   "metadata": {},
   "outputs": [],
   "source": [
    "frase = str(input(\"Entre com uma frase \"))\n",
    "\n",
    "if len(set(frase)) == 26:\n",
    "    print(\"verdadeiro\")\n",
    "else:\n",
    "    print(\"falso\")"
   ]
  }
 ],
 "metadata": {
  "kernelspec": {
   "display_name": "Python 3 (ipykernel)",
   "language": "python",
   "name": "python3"
  },
  "language_info": {
   "codemirror_mode": {
    "name": "ipython",
    "version": 3
   },
   "file_extension": ".py",
   "mimetype": "text/x-python",
   "name": "python",
   "nbconvert_exporter": "python",
   "pygments_lexer": "ipython3",
   "version": "3.12.2"
  }
 },
 "nbformat": 4,
 "nbformat_minor": 5
}
