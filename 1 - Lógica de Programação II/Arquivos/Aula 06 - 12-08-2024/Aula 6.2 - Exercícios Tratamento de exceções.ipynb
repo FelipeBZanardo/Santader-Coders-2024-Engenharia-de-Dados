{
 "cells": [
  {
   "cell_type": "markdown",
   "metadata": {},
   "source": [
    "# Aula 6 | Exercícios de tratamento de exceções"
   ]
  },
  {
   "cell_type": "markdown",
   "metadata": {},
   "source": [
    "### Questão 1\n",
    "\n",
    "Escreva uma função que tente converter uma string para um número inteiro. Se a conversão falhar, a função deve retornar None em vez de lançar uma exceção."
   ]
  },
  {
   "cell_type": "markdown",
   "metadata": {},
   "source": [
    "### Questão 2\n",
    "\n",
    "Escreva uma função que receba uma lista e um índice como argumentos. A função deve tentar retornar o elemento no índice fornecido. Se o índice estiver fora dos limites da lista, a função deve capturar a exceção e retornar None."
   ]
  },
  {
   "cell_type": "markdown",
   "metadata": {},
   "source": [
    "### Questão 3\n",
    "\n",
    "Escreva uma função que aceite um dicionário e uma chave. A função deve tentar acessar o valor associado à chave no dicionário. Se a chave não existir, a função deve retornar \"Chave não encontrada\"."
   ]
  }
 ],
 "metadata": {
  "kernelspec": {
   "display_name": "Python 3",
   "language": "python",
   "name": "python3"
  },
  "language_info": {
   "codemirror_mode": {
    "name": "ipython",
    "version": 3
   },
   "file_extension": ".py",
   "mimetype": "text/x-python",
   "name": "python",
   "nbconvert_exporter": "python",
   "pygments_lexer": "ipython3",
   "version": "3.11.2"
  }
 },
 "nbformat": 4,
 "nbformat_minor": 2
}
