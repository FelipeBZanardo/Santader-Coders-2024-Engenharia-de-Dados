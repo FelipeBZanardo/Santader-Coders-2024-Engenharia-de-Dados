{
 "cells": [
  {
   "cell_type": "markdown",
   "metadata": {},
   "source": [
    "# Extra | POO"
   ]
  },
  {
   "cell_type": "markdown",
   "metadata": {},
   "source": [
    "## Definições"
   ]
  },
  {
   "cell_type": "markdown",
   "metadata": {},
   "source": [
    "**Classes**\n",
    "\n",
    "Uma classe é como um \"molde\" ou \"modelo\" para criar objetos. \n",
    "\n",
    "Imagine que você está construindo um jogo e precisa de vários personagens. Cada personagem tem características como nome, idade e habilidades. \n",
    "\n",
    "Em vez de criar cada personagem manualmente com suas características, você pode criar uma classe chamada Personagem. Essa classe define quais características (chamadas de \"atributos\") um personagem pode ter. \n",
    "\n",
    "Assim, você pode usar essa classe para criar (ou \"instanciar\") quantos personagens quiser, cada um com suas próprias características específicas."
   ]
  },
  {
   "cell_type": "markdown",
   "metadata": {},
   "source": [
    "**Métodos**\n",
    "\n",
    "Métodos são como funções que \"pertencem\" a uma classe. \n",
    "\n",
    "Eles definem o comportamento ou ações que os objetos criados a partir da classe podem executar. Por exemplo, na classe Personagem, você pode ter um método chamado atacar que define como um personagem pode atacar outro. \n",
    "\n",
    "Quando você cria um personagem (um objeto) a partir da classe Personagem, esse personagem pode realizar a ação atacar.\n",
    "\n",
    "__init__\n",
    "\n",
    "O __init__ é um método especial dentro de uma classe. \n",
    "\n",
    "Ele é chamado automaticamente sempre que você cria um novo objeto a partir de uma classe. O propósito desse método é inicializar o objeto recém-criado com valores iniciais. Por exemplo, quando você cria um novo personagem no jogo, o método __init__ pode definir o nome, a idade e as habilidades iniciais desse personagem. \n",
    "\n",
    "É como configurar seu personagem quando ele é criado pela primeira vez, garantindo que ele tenha todos os atributos necessários desde o início."
   ]
  },
  {
   "cell_type": "markdown",
   "metadata": {},
   "source": [
    "# Dúvida\n",
    "\n",
    "Classes dentro de classes: como funciona?"
   ]
  },
  {
   "cell_type": "code",
   "execution_count": 30,
   "metadata": {},
   "outputs": [],
   "source": [
    "class Externa:\n",
    "\n",
    "    def __init__(self):\n",
    "        print(\"Instância da classe Externa criada\")\n",
    "        self.qualquercoisa = self.Interna()\n",
    "        self.descricao = 'Descricao xyz sobre a classe Externa'\n",
    "\n",
    "    def mostrar(self):\n",
    "        print('Método mostrar da classe Externa') \n",
    "\n",
    "    class Interna:\n",
    "\n",
    "        def __init__(self):\n",
    "            print(\"Instância da classe Interna criada\")\n",
    "\n",
    "        def mostrar(self):\n",
    "            print('Método mostrar da classe Interna') \n",
    "\n",
    "        def consultar(self):\n",
    "            print('Método consultar da classe Interna') \n",
    "\n"
   ]
  },
  {
   "cell_type": "code",
   "execution_count": 31,
   "metadata": {},
   "outputs": [
    {
     "name": "stdout",
     "output_type": "stream",
     "text": [
      "Instância da classe Externa criada\n",
      "Instância da classe Interna criada\n",
      "Método mostrar da classe Externa\n"
     ]
    }
   ],
   "source": [
    "e = Externa()\n",
    "e.mostrar()"
   ]
  },
  {
   "cell_type": "code",
   "execution_count": 29,
   "metadata": {},
   "outputs": [
    {
     "name": "stdout",
     "output_type": "stream",
     "text": [
      "Método mostrar da classe Interna\n"
     ]
    }
   ],
   "source": [
    "e.qualquercoisa.mostrar()\n"
   ]
  },
  {
   "cell_type": "code",
   "execution_count": 32,
   "metadata": {},
   "outputs": [
    {
     "data": {
      "text/plain": [
       "'Descricao xyz sobre a classe Externa'"
      ]
     },
     "execution_count": 32,
     "metadata": {},
     "output_type": "execute_result"
    }
   ],
   "source": [
    "e.descricao"
   ]
  }
 ],
 "metadata": {
  "kernelspec": {
   "display_name": "Python 3",
   "language": "python",
   "name": "python3"
  },
  "language_info": {
   "codemirror_mode": {
    "name": "ipython",
    "version": 3
   },
   "file_extension": ".py",
   "mimetype": "text/x-python",
   "name": "python",
   "nbconvert_exporter": "python",
   "pygments_lexer": "ipython3",
   "version": "3.11.2"
  }
 },
 "nbformat": 4,
 "nbformat_minor": 2
}
