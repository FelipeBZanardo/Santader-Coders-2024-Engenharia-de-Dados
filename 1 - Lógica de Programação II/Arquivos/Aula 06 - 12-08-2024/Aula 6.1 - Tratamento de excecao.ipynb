{
 "cells": [
  {
   "cell_type": "markdown",
   "metadata": {},
   "source": [
    "# Aula 6 | Tratamento de exceção\n",
    "\n",
    "Nesta aula, vamos explorar conceitos de tratamento de exceção.\n",
    "\n",
    "O tratamento de exceção em Python é uma maneira de lidar com erros que podem ocorrer durante a execução de um programa. \n",
    "\n",
    "Em vez de permitir que um programa falhe ao encontrar um erro, **o tratamento de exceção permite que o programa execute um bloco de código alternativo ou recupere-se do erro**.\n"
   ]
  },
  {
   "cell_type": "markdown",
   "metadata": {},
   "source": [
    "## O que é uma exceção?\n",
    "Uma exceção é um evento, que ocorre durante a execução do programa, que **interrompe o fluxo normal das instruções**.\n"
   ]
  },
  {
   "cell_type": "markdown",
   "metadata": {},
   "source": [
    "> Por exemplo, tentar dividir um número por zero, acessar um arquivo que não existe, ou referenciar uma variável que não foi definida são situações que geram exceções.\n",
    "\n",
    "Tratar uma exceção é importante para:\n",
    "\n",
    "- **Robustez**: permite que seu programa lide com situações inesperadas, mantendo-o em execução ou fechando-o de maneira controlada.\n",
    "- **Controle de fluxo**: oferece uma maneira de redirecionar o fluxo do programa em caso de erro, possibilitando a execução de código de recuperação ou limpeza.\n",
    "- **Informações de erro:** exceções fornecem informações úteis sobre o que deu errado, ajudando na depuração do código.\n",
    "- **Prevenção de falhas do programa**: ajuda a prevenir que falhas devido a erros menores levem à falha total do programa."
   ]
  },
  {
   "cell_type": "markdown",
   "metadata": {},
   "source": [
    "## Como funciona\n",
    "O tratamento de exceção em Python é realizado por meio dos blocos:\n",
    "\n",
    "- ```try```: bloco de código que pode gerar uma exceção.\n",
    "- ```except```: define um bloco de código que será executado se uma exceção ocorrer no bloco try.\n",
    "- ```else```: (opcional) se não ocorrer nenhuma exceção no bloco try, o bloco else é executado.\n",
    "- ```finally```: (opcional) bloco de código que é sempre executado após os blocos try e except, independentemente de uma exceção ter ocorrido ou não."
   ]
  },
  {
   "cell_type": "markdown",
   "metadata": {},
   "source": [
    "![](data:image/jpeg;base64,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)"
   ]
  },
  {
   "cell_type": "code",
   "execution_count": 2,
   "metadata": {},
   "outputs": [
    {
     "ename": "ZeroDivisionError",
     "evalue": "division by zero",
     "output_type": "error",
     "traceback": [
      "\u001b[1;31m---------------------------------------------------------------------------\u001b[0m",
      "\u001b[1;31mZeroDivisionError\u001b[0m                         Traceback (most recent call last)",
      "Cell \u001b[1;32mIn[2], line 1\u001b[0m\n\u001b[1;32m----> 1\u001b[0m \u001b[38;5;241;43m10\u001b[39;49m\u001b[43m \u001b[49m\u001b[38;5;241;43m/\u001b[39;49m\u001b[43m \u001b[49m\u001b[38;5;241;43m0\u001b[39;49m\n",
      "\u001b[1;31mZeroDivisionError\u001b[0m: division by zero"
     ]
    }
   ],
   "source": [
    "10 / 0"
   ]
  },
  {
   "cell_type": "code",
   "execution_count": 3,
   "metadata": {},
   "outputs": [
    {
     "ename": "IndexError",
     "evalue": "list index out of range",
     "output_type": "error",
     "traceback": [
      "\u001b[1;31m---------------------------------------------------------------------------\u001b[0m",
      "\u001b[1;31mIndexError\u001b[0m                                Traceback (most recent call last)",
      "Cell \u001b[1;32mIn[3], line 2\u001b[0m\n\u001b[0;32m      1\u001b[0m lista \u001b[38;5;241m=\u001b[39m [\u001b[38;5;241m1\u001b[39m, \u001b[38;5;241m2\u001b[39m, \u001b[38;5;241m3\u001b[39m]\n\u001b[1;32m----> 2\u001b[0m \u001b[43mlista\u001b[49m\u001b[43m[\u001b[49m\u001b[38;5;241;43m10\u001b[39;49m\u001b[43m]\u001b[49m\n",
      "\u001b[1;31mIndexError\u001b[0m: list index out of range"
     ]
    }
   ],
   "source": [
    "lista = [1, 2, 3]\n",
    "lista[10]"
   ]
  },
  {
   "cell_type": "code",
   "execution_count": 6,
   "metadata": {},
   "outputs": [
    {
     "name": "stdout",
     "output_type": "stream",
     "text": [
      "Divisão realizada com sucesso\n",
      "Código finalizado!\n"
     ]
    }
   ],
   "source": [
    "try:\n",
    "    r = 10/2\n",
    "except ZeroDivisionError:\n",
    "    print(\"Não é possível dividir por zero\")\n",
    "else:\n",
    "    print(\"Divisão realizada com sucesso\")\n",
    "finally:\n",
    "    print(\"Código finalizado!\")"
   ]
  },
  {
   "cell_type": "code",
   "execution_count": 7,
   "metadata": {},
   "outputs": [
    {
     "name": "stdout",
     "output_type": "stream",
     "text": [
      "Não é possível dividir por zero\n",
      "Código finalizado!\n"
     ]
    }
   ],
   "source": [
    "try:\n",
    "    r = 10/0\n",
    "except ZeroDivisionError:\n",
    "    print(\"Não é possível dividir por zero\")\n",
    "else:\n",
    "    print(\"Divisão realizada com sucesso\")\n",
    "finally:\n",
    "    print(\"Código finalizado!\")"
   ]
  },
  {
   "cell_type": "markdown",
   "metadata": {},
   "source": [
    "> Neste exemplo, tentamos dividir 10 por zero, o que gera uma ZeroDivisionError. O bloco except captura essa exceção e imprime uma mensagem. O bloco finally é executado ao final, independentemente do resultado."
   ]
  },
  {
   "cell_type": "markdown",
   "metadata": {},
   "source": [
    "### try/except\n",
    "\n",
    "É usado para capturar e tratar exceções, permitindo que o programa continue sua execução ou falhe de forma controlada, em vez de terminar abruptamente com um erro."
   ]
  },
  {
   "cell_type": "code",
   "execution_count": 12,
   "metadata": {},
   "outputs": [
    {
     "ename": "ValueError",
     "evalue": "invalid literal for int() with base 10: 'abacate'",
     "output_type": "error",
     "traceback": [
      "\u001b[1;31m---------------------------------------------------------------------------\u001b[0m",
      "\u001b[1;31mValueError\u001b[0m                                Traceback (most recent call last)",
      "Cell \u001b[1;32mIn[12], line 1\u001b[0m\n\u001b[1;32m----> 1\u001b[0m valor \u001b[38;5;241m=\u001b[39m \u001b[38;5;28;43mint\u001b[39;49m\u001b[43m(\u001b[49m\u001b[38;5;28;43minput\u001b[39;49m\u001b[43m(\u001b[49m\u001b[38;5;124;43m\"\u001b[39;49m\u001b[38;5;124;43mDigite um valor:\u001b[39;49m\u001b[38;5;124;43m\"\u001b[39;49m\u001b[43m)\u001b[49m\u001b[43m)\u001b[49m\n\u001b[0;32m      2\u001b[0m r \u001b[38;5;241m=\u001b[39m n \u001b[38;5;241m/\u001b[39m valor\n",
      "\u001b[1;31mValueError\u001b[0m: invalid literal for int() with base 10: 'abacate'"
     ]
    }
   ],
   "source": [
    "valor = int(input(\"Digite um valor:\"))\n",
    "r = n / valor"
   ]
  },
  {
   "cell_type": "code",
   "execution_count": 16,
   "metadata": {},
   "outputs": [
    {
     "name": "stdout",
     "output_type": "stream",
     "text": [
      "A divisão ocorreu com sucesso\n"
     ]
    }
   ],
   "source": [
    "n = 10\n",
    "try:\n",
    "    valor = int(input(\"Digite um valor:\"))\n",
    "    r = n / valor\n",
    "except ValueError:\n",
    "    print(\"Valor precisa ser um inteiro! valor = 10\")\n",
    "except ZeroDivisionError:\n",
    "    print(\"Não foi possível dividir por zero!\")\n",
    "else:\n",
    "    print(\"A divisão ocorreu com sucesso\")"
   ]
  },
  {
   "cell_type": "code",
   "execution_count": 21,
   "metadata": {},
   "outputs": [
    {
     "name": "stdout",
     "output_type": "stream",
     "text": [
      "A divisão ocorreu com sucesso\n"
     ]
    }
   ],
   "source": [
    "n = 10\n",
    "try:\n",
    "    valor = int(input(\"Digite um valor:\"))\n",
    "    r = n / valor\n",
    "except (ValueError, ZeroDivisionError):\n",
    "    print(\"Não foi possível realizar a divisão!\")\n",
    "else:\n",
    "    print(\"A divisão ocorreu com sucesso\")"
   ]
  },
  {
   "cell_type": "code",
   "execution_count": 37,
   "metadata": {},
   "outputs": [
    {
     "name": "stdout",
     "output_type": "stream",
     "text": [
      "A soma ocorreu com sucesso, 10 + 10 o valor final foi: 20\n",
      "Finally, 10 + 10: 20\n"
     ]
    }
   ],
   "source": [
    "def somar(a: int, b: int) -> int:\n",
    "    return a + b\n",
    "\n",
    "try:\n",
    "    soma = 0\n",
    "    a = \"\"\n",
    "    b = \"\"\n",
    "    a = input(\"Digite o A:\")\n",
    "    b = input(\"Digite o B:\")\n",
    "    soma = somar(int(a), int(b))\n",
    "except (ValueError):\n",
    "    print(f\"Não foi possível realizar a soma! {a}, {b}\")\n",
    "else:\n",
    "    print(f\"A soma ocorreu com sucesso, {a} + {b} o valor final foi: {soma}\")\n",
    "finally:\n",
    "    print(f\"Finally, {a} + {b}: {soma}\")"
   ]
  },
  {
   "cell_type": "code",
   "execution_count": 36,
   "metadata": {},
   "outputs": [
    {
     "name": "stdout",
     "output_type": "stream",
     "text": [
      "A soma ocorreu com sucesso, qwe + qwe o valor final foi: qweqwe!\n",
      "Finally, qwe + qwe: qweqwe!\n"
     ]
    }
   ],
   "source": [
    "def concatenar(a: str, b: str) -> str:\n",
    "    return a + b\n",
    "\n",
    "try:\n",
    "    a = input(\"Digite o A:\")\n",
    "    b = input(\"Digite o B:\")\n",
    "    concatenacao = concatenar(a, b)\n",
    "except (ValueError):\n",
    "    print(f\"Não foi possível concatenar! {a}, {b}\")\n",
    "else:\n",
    "    print(f\"A soma ocorreu com sucesso, {a} + {b} o valor final foi: {concatenacao}!\")\n",
    "finally:\n",
    "    print(f\"Finally, {a} + {b}: {concatenacao}!\")"
   ]
  },
  {
   "cell_type": "code",
   "execution_count": 60,
   "metadata": {},
   "outputs": [
    {
     "name": "stdout",
     "output_type": "stream",
     "text": [
      "Não é um float!\n"
     ]
    }
   ],
   "source": [
    "try:\n",
    "    n = 1\n",
    "    n_float = float(n)\n",
    "    if isinstance(n, float):\n",
    "        print(\"É um float\")\n",
    "    else:\n",
    "        print(\"Não é um float!\")\n",
    "except Exception:\n",
    "    print(\"Não é um float!\")"
   ]
  },
  {
   "cell_type": "markdown",
   "metadata": {},
   "source": [
    "Também podemos inserir um except genérico para todos os erros finalizando o código!"
   ]
  },
  {
   "cell_type": "code",
   "execution_count": 47,
   "metadata": {},
   "outputs": [
    {
     "name": "stdout",
     "output_type": "stream",
     "text": [
      "Divisão por zero!\n",
      "Erro unsupported operand type(s) for /: 'int' and 'str'\n",
      "Erro TypeError\n"
     ]
    }
   ],
   "source": [
    "divisao = lambda a, b: a/b\n",
    "\n",
    "lista = [1, 0, 4, \"a\"]\n",
    "\n",
    "for l in lista:\n",
    "    try:\n",
    "        div = divisao(1, l)\n",
    "    except ZeroDivisionError:\n",
    "        print(\"Divisão por zero!\")\n",
    "    # except TypeError:\n",
    "    #     print(\"Erro de tipo\")\n",
    "    except Exception as error:\n",
    "        print(\"Erro\", error)\n",
    "        print(\"Erro\", type(error).__name__)"
   ]
  },
  {
   "cell_type": "code",
   "execution_count": null,
   "metadata": {},
   "outputs": [],
   "source": []
  },
  {
   "cell_type": "markdown",
   "metadata": {},
   "source": [
    "### try/except com else\n",
    "\n",
    "O bloco else é executado se não ocorrer nenhuma exceção no bloco try."
   ]
  },
  {
   "cell_type": "code",
   "execution_count": null,
   "metadata": {},
   "outputs": [],
   "source": []
  },
  {
   "cell_type": "markdown",
   "metadata": {},
   "source": [
    "### try/except com finally\n",
    "\n",
    "O bloco finally é executado após a conclusão dos blocos try e except, independentemente de uma exceção ter sido lançada ou não. \n",
    "\n",
    "É útil para ações de limpeza que devem ser executadas sob quaisquer circunstâncias, como por exemplo quando precisamos fechar arquivos abertos ou conexões (com banco de dados).\n"
   ]
  },
  {
   "cell_type": "code",
   "execution_count": 68,
   "metadata": {},
   "outputs": [
    {
     "name": "stdout",
     "output_type": "stream",
     "text": [
      "Data no formato de entrada errado!\n",
      "Tentativa de conversão foi concluida.\n",
      "None\n",
      "Erro: TypeError\n",
      "Tentativa de conversão foi concluida.\n",
      "None\n",
      "Data formatada com sucesso!\n",
      "Tentativa de conversão foi concluida.\n",
      "2024-08-14\n"
     ]
    }
   ],
   "source": [
    "from datetime import datetime, date\n",
    "def string2data(data_string: str) -> date | None:\n",
    "    \"\"\"ola\"\"\"\n",
    "    try:\n",
    "        data_formatada = datetime.strptime(data_string, \"%d/%m/%Y\")\n",
    "        print(\"Data formatada com sucesso!\")\n",
    "        return data_formatada.date()\n",
    "    except ValueError:\n",
    "        print(\"Data no formato de entrada errado!\")\n",
    "    except Exception as e:\n",
    "        print(\"Erro:\", type(e).__name__)\n",
    "    finally:\n",
    "        print(\"Tentativa de conversão foi concluida.\")\n",
    "\n",
    "print(string2data(\"14-08-2024\"))\n",
    "print(string2data(123))\n",
    "print(string2data(\"14/08/2024\"))"
   ]
  },
  {
   "cell_type": "code",
   "execution_count": 69,
   "metadata": {},
   "outputs": [
    {
     "name": "stdout",
     "output_type": "stream",
     "text": [
      "ola\n"
     ]
    }
   ],
   "source": [
    "print(string2data.__doc__)"
   ]
  },
  {
   "cell_type": "markdown",
   "metadata": {},
   "source": [
    "Resumindo:\n",
    "\n",
    "```\n",
    "try:\n",
    "  Tente algum código\n",
    "except:\n",
    "  Caso ocorra um erro no bloco acima\n",
    "else:\n",
    "  Execute caso não tenha exceção\n",
    "finally:\n",
    "  Sempre execute esse código\n",
    "```"
   ]
  },
  {
   "cell_type": "markdown",
   "metadata": {},
   "source": [
    "## Raise exception\n",
    "\n",
    "O conceito de raise em Python é usado para lançar uma exceção intencionalmente. Isso pode ser feito por vários motivos, como:\n",
    "\n",
    "- Forçar a execução de um bloco except: quando você detecta uma condição que não pode ser tratada normalmente.\n",
    "- Indicar que ocorreu um erro específico: para informar outros pedaços do código (ou quem chamou sua função) que algo inesperado aconteceu.\n",
    "- Validar entradas: assegurar que os dados fornecidos a uma função estão dentro de um conjunto aceitável de parâmetros.\n"
   ]
  },
  {
   "cell_type": "markdown",
   "metadata": {},
   "source": [
    "> Para Quê Ele Serve?\n",
    "- Controle de Fluxo: Permite a você um controle mais granular sobre o fluxo do seu programa, especialmente em situações de erro.\n",
    "- Comunicação: Facilita a comunicação entre diferentes partes do seu código, permitindo que funções chamadoras saibam que algo inesperado ocorreu."
   ]
  },
  {
   "cell_type": "markdown",
   "metadata": {},
   "source": [
    "Exemplo 1: Validando Formatos de Dados\n",
    "\n",
    "Imagine que você está escrevendo uma função que processa dados de entrada para serem carregados em um banco de dados. Você quer garantir que todos os dados de entrada estejam no formato correto antes de continuar."
   ]
  },
  {
   "cell_type": "code",
   "execution_count": 72,
   "metadata": {},
   "outputs": [
    {
     "name": "stdout",
     "output_type": "stream",
     "text": [
      "Os dados devem ser do formato dict!\n"
     ]
    }
   ],
   "source": [
    "def validar_entradas(dados: dict):\n",
    "    if not isinstance(dados, dict):\n",
    "        raise ValueError(\"Os dados devem ser do formato dict!\")\n",
    "    print(\"Dados validados com sucesso\")\n",
    "\n",
    "try:\n",
    "    validar_entradas([\"isso é uma lista\"])\n",
    "except ValueError as e:\n",
    "    print(e)"
   ]
  },
  {
   "cell_type": "code",
   "execution_count": 73,
   "metadata": {},
   "outputs": [
    {
     "ename": "ValueError",
     "evalue": "Os dados devem ser do formato dict!",
     "output_type": "error",
     "traceback": [
      "\u001b[1;31m---------------------------------------------------------------------------\u001b[0m",
      "\u001b[1;31mValueError\u001b[0m                                Traceback (most recent call last)",
      "Cell \u001b[1;32mIn[73], line 1\u001b[0m\n\u001b[1;32m----> 1\u001b[0m \u001b[43mvalidar_entradas\u001b[49m\u001b[43m(\u001b[49m\u001b[43m[\u001b[49m\u001b[38;5;124;43m\"\u001b[39;49m\u001b[38;5;124;43mlista teste\u001b[39;49m\u001b[38;5;124;43m\"\u001b[39;49m\u001b[43m]\u001b[49m\u001b[43m)\u001b[49m\n",
      "Cell \u001b[1;32mIn[72], line 3\u001b[0m, in \u001b[0;36mvalidar_entradas\u001b[1;34m(dados)\u001b[0m\n\u001b[0;32m      1\u001b[0m \u001b[38;5;28;01mdef\u001b[39;00m \u001b[38;5;21mvalidar_entradas\u001b[39m(dados: \u001b[38;5;28mdict\u001b[39m):\n\u001b[0;32m      2\u001b[0m     \u001b[38;5;28;01mif\u001b[39;00m \u001b[38;5;129;01mnot\u001b[39;00m \u001b[38;5;28misinstance\u001b[39m(dados, \u001b[38;5;28mdict\u001b[39m):\n\u001b[1;32m----> 3\u001b[0m         \u001b[38;5;28;01mraise\u001b[39;00m \u001b[38;5;167;01mValueError\u001b[39;00m(\u001b[38;5;124m\"\u001b[39m\u001b[38;5;124mOs dados devem ser do formato dict!\u001b[39m\u001b[38;5;124m\"\u001b[39m)\n\u001b[0;32m      4\u001b[0m     \u001b[38;5;28mprint\u001b[39m(\u001b[38;5;124m\"\u001b[39m\u001b[38;5;124mDados validados com sucesso\u001b[39m\u001b[38;5;124m\"\u001b[39m)\n",
      "\u001b[1;31mValueError\u001b[0m: Os dados devem ser do formato dict!"
     ]
    }
   ],
   "source": [
    "validar_entradas([\"lista teste\"])"
   ]
  },
  {
   "cell_type": "code",
   "execution_count": 74,
   "metadata": {},
   "outputs": [
    {
     "name": "stdout",
     "output_type": "stream",
     "text": [
      "Dados validados com sucesso\n"
     ]
    }
   ],
   "source": [
    "\n",
    "validar_entradas({\"mensagem\": \"isso é uma lista\"})"
   ]
  },
  {
   "cell_type": "code",
   "execution_count": 76,
   "metadata": {},
   "outputs": [
    {
     "name": "stdout",
     "output_type": "stream",
     "text": [
      "Dados validados com sucesso\n"
     ]
    }
   ],
   "source": [
    "try:\n",
    "    validar_entradas({\"mensagem\": \"isso é uma lista\"})\n",
    "except ValueError as e:\n",
    "    print(e)"
   ]
  },
  {
   "cell_type": "markdown",
   "metadata": {},
   "source": [
    "Exemplo 2: Assegurando Valores Dentro de Um Intervalo\n",
    "\n",
    "Em processos de ETL (Extract, Transform, Load), você pode precisar garantir que os valores numéricos estejam dentro de um determinado intervalo."
   ]
  },
  {
   "cell_type": "code",
   "execution_count": 78,
   "metadata": {},
   "outputs": [
    {
     "name": "stdout",
     "output_type": "stream",
     "text": [
      "É um intervalo válido!\n",
      "20\n",
      "pre raise\n",
      "O valor está fora do intervalo!\n"
     ]
    }
   ],
   "source": [
    "def extrair_valor(valor, inicio_intervalo = 0, fim_intervalo = 100):\n",
    "    if not (inicio_intervalo <= valor <= fim_intervalo):\n",
    "        print(\"pre raise\")\n",
    "        raise ValueError(\"O valor está fora do intervalo!\")\n",
    "        print(\"pos raise\")\n",
    "    print(\"É um intervalo válido!\")\n",
    "    return valor * 2 \n",
    "\n",
    "try:\n",
    "    print(extrair_valor(10))\n",
    "except Exception as e:\n",
    "    print(e)\n",
    "\n",
    "try:\n",
    "    print(extrair_valor(10000))\n",
    "except Exception as e:\n",
    "    print(e)"
   ]
  },
  {
   "cell_type": "markdown",
   "metadata": {},
   "source": [
    "## Criando novas exceções\n",
    "\n",
    "Podemos criar novas exceções personalizadas para lidar com situações específicas no código. \n",
    "\n",
    "Isso é feito através da definição de uma nova classe que **herda** _(aqui um conceito de POO)_ de uma classe de exceção existente, geralmente Exception. \n",
    "\n",
    "Criar suas próprias exceções personalizadas pode ajudar a tornar o seu código mais legível e permitir um tratamento de erro mais específico."
   ]
  },
  {
   "cell_type": "markdown",
   "metadata": {},
   "source": [
    "### Passos para criar exceções personalizadas\n",
    "\n",
    "1. **Definir uma nova classe de exceção** <br>\n",
    "crie uma nova classe que herde de Exception ou de qualquer outra classe de exceção apropriada.\n",
    "\n",
    "2. **Inicializar a exceção** <br>\n",
    "você pode definir um método __init__ para sua exceção personalizada se quiser passar mensagens de erro ou outros dados para ela.\n",
    "3. **Usar raise para lançar a exceção** <br> \n",
    "quando você quiser lançar sua exceção personalizada, use a palavra-chave raise seguida de uma instância de sua exceção."
   ]
  },
  {
   "cell_type": "code",
   "execution_count": 80,
   "metadata": {},
   "outputs": [],
   "source": [
    "class DadosInvalidos(Exception):\n",
    "    def __init__(self) -> None:\n",
    "        super().__init__(\"Dados inválidos\")"
   ]
  },
  {
   "cell_type": "code",
   "execution_count": 87,
   "metadata": {},
   "outputs": [
    {
     "name": "stdout",
     "output_type": "stream",
     "text": [
      "Dados inválidos\n"
     ]
    }
   ],
   "source": [
    "def validar_dados(idade: int) -> None:\n",
    "    if idade < 0:\n",
    "        raise DadosInvalidos\n",
    "    \n",
    "try:\n",
    "    validar_dados(-5)\n",
    "except DadosInvalidos as e:\n",
    "    print(e)\n",
    "\n",
    "try:\n",
    "    validar_dados(5)\n",
    "except DadosInvalidos as e:\n",
    "    print(e)"
   ]
  },
  {
   "cell_type": "markdown",
   "metadata": {},
   "source": [
    "**Por que criar exceções personalizadas?**\n",
    "\n",
    "- Especificidade: exceções personalizadas permitem que você trate erros específicos de maneira mais direta e clara.\n",
    "- Clareza: elas tornam seu código mais legível, pois o nome da exceção pode descrever o tipo de erro que ocorreu.\n",
    "- Controle: oferecem maior controle sobre o tratamento de erros, permitindo diferentes ações de recuperação para diferentes tipos de erros."
   ]
  },
  {
   "cell_type": "markdown",
   "metadata": {},
   "source": [
    "## 🔎 Quais são os erros mais comuns e onde encontrar mais infos\n",
    "\n",
    "A maneira mais direta é visitar a documentação oficial do Python na web. Para versões específicas do Python, você pode procurar pela documentação correspondente. Por exemplo, para Python 3.8, você acessaria https://docs.python.org/3.8/library/exceptions.html.\n",
    "\n",
    "**Via linha de comando**: você pode usar o comando pydoc na linha de comando ou terminal. Por exemplo, ```pydoc exceptions``` pode fornecer informações úteis.\n",
    "\n",
    "### Principais Tipos de Exceções\n",
    "Aqui está uma breve visão geral de alguns dos principais tipos de exceções em Python:\n",
    "\n",
    "- _Exception_: Classe base para todas as exceções embutidas, exceto as que são encerradas com o programa.\n",
    "- _ArithmeticError_: Classe base para erros aritméticos como OverflowError, ZeroDivisionError, e FloatingPointError.\n",
    "- _BufferError_: Lançada quando uma operação relacionada a um buffer não pode ser realizada.\n",
    "- _LookupError_: Classe base para erros de busca como IndexError e KeyError.\n",
    "- _MemoryError_: Lançada quando uma operação fica sem memória.\n",
    "- _NameError_: Lançada quando uma variável local ou global não é encontrada.\n",
    "- _ReferenceError_: Lançada quando uma referência fraca tenta acessar um objeto que já foi coletado pelo coletor de lixo.\n",
    "- _RuntimeError_: Lançada quando um erro é detectado que não se enquadra em nenhuma das outras categorias.\n",
    "- _SyntaxError_: Lançada quando um erro de sintaxe é encontrado.\n",
    "- _SystemError_: Lançada quando o interpretador encontra um problema interno, mas a situação não parece ser tão séria para causar a parada do interpretador.\n",
    "- _TypeError_: Lançada quando uma operação ou função é aplicada a um objeto de tipo inadequado.\n",
    "- _ValueError_: Lançada quando uma operação ou função recebe um argumento com o tipo correto, mas valor inapropriado."
   ]
  }
 ],
 "metadata": {
  "kernelspec": {
   "display_name": "Python 3",
   "language": "python",
   "name": "python3"
  },
  "language_info": {
   "codemirror_mode": {
    "name": "ipython",
    "version": 3
   },
   "file_extension": ".py",
   "mimetype": "text/x-python",
   "name": "python",
   "nbconvert_exporter": "python",
   "pygments_lexer": "ipython3",
   "version": "3.12.2"
  }
 },
 "nbformat": 4,
 "nbformat_minor": 2
}
