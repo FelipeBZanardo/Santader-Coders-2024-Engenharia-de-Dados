{
 "cells": [
  {
   "cell_type": "markdown",
   "metadata": {},
   "source": [
    "## Aula 4 | Exercícios de parâmetros de funções"
   ]
  },
  {
   "cell_type": "markdown",
   "metadata": {},
   "source": [
    "### Questão 1\n",
    "\n",
    "Crie uma função que recebe uma quantidade variável de argumentos numéricos e retorna a quantidade de números enviados e a soma deles."
   ]
  },
  {
   "cell_type": "code",
   "execution_count": null,
   "metadata": {},
   "outputs": [],
   "source": [
    "def sum_numbers(*args):\n",
    "    count = len(args)\n",
    "    total_sum = sum(args)\n",
    "    return count, total_sum\n",
    "\n",
    "# Exemplo de uso:\n",
    "quantidade, soma = sum_numbers(1, 2, 3, 4, 5)\n",
    "print(f\"Quantidade de números: {quantidade}\")\n",
    "print(f\"Soma dos números: {soma}\")\n"
   ]
  },
  {
   "cell_type": "markdown",
   "metadata": {},
   "source": [
    "### Questão 2\n",
    "\n",
    "Crie uma função que recebe nome e idade, porém a idade *default* deve ser 99."
   ]
  },
  {
   "cell_type": "code",
   "execution_count": null,
   "metadata": {},
   "outputs": [],
   "source": [
    "def pessoa_info(nome, idade=99):\n",
    "    return f\"Nome: {nome}, Idade: {idade}\"\n",
    "\n",
    "# Exemplo de uso:\n",
    "info1 = pessoa_info(\"Alice\")\n",
    "info2 = pessoa_info(\"Bob\", 30)\n",
    "\n",
    "print(info1)  # Saída: Nome: Alice, Idade: 99\n",
    "print(info2)  # Saída: Nome: Bob, Idade: 30\n"
   ]
  },
  {
   "cell_type": "markdown",
   "metadata": {},
   "source": [
    "### Questão 3\n",
    "\n",
    "Escreva uma função chamada calcular_media que aceita uma quantidade variável de números e retorna a média dos números fornecidos."
   ]
  },
  {
   "cell_type": "code",
   "execution_count": null,
   "metadata": {},
   "outputs": [],
   "source": [
    "def calcular_media(*numeros):\n",
    "    if len(numeros) == 0:\n",
    "        return 0\n",
    "    total = sum(numeros)\n",
    "    media = total / len(numeros)\n",
    "    return media\n",
    "\n",
    "# Exemplo de uso:\n",
    "media1 = calcular_media(10, 20, 30, 40)\n",
    "media2 = calcular_media(5, 15)\n",
    "\n",
    "print(f\"Média 1: {media1}\")  # Saída: Média 1: 25.0\n",
    "print(f\"Média 2: {media2}\")  # Saída: Média 2: 10.0\n"
   ]
  },
  {
   "cell_type": "markdown",
   "metadata": {},
   "source": [
    "### Questão 4\n",
    "\n",
    "Crie uma função chamada soma_multiplos que aceita um número inteiro e uma quantidade variável de argumentos inteiros. \n",
    "\n",
    "A função deve calcular a soma dos números que são múltiplos do primeiro número dado."
   ]
  },
  {
   "cell_type": "code",
   "execution_count": null,
   "metadata": {},
   "outputs": [],
   "source": [
    "def soma_multiplos(multiplo, *numeros):\n",
    "    soma = 0\n",
    "    for numero in numeros:\n",
    "        if numero % multiplo == 0:\n",
    "            soma += numero\n",
    "    return soma\n",
    "\n",
    "# Exemplo de uso:\n",
    "resultado1 = soma_multiplos(3, 1, 2, 3, 4, 5, 6, 9)\n",
    "resultado2 = soma_multiplos(5, 10, 15, 20, 25, 30, 35)\n",
    "\n",
    "print(f\"Resultado 1: {resultado1}\")  # Saída: Resultado 1: 18\n",
    "print(f\"Resultado 2: {resultado2}\")  # Saída: Resultado 2: 135\n"
   ]
  }
 ],
 "metadata": {
  "kernelspec": {
   "display_name": "Python 3",
   "language": "python",
   "name": "python3"
  },
  "language_info": {
   "codemirror_mode": {
    "name": "ipython",
    "version": 3
   },
   "file_extension": ".py",
   "mimetype": "text/x-python",
   "name": "python",
   "nbconvert_exporter": "python",
   "pygments_lexer": "ipython3",
   "version": "3.11.2"
  }
 },
 "nbformat": 4,
 "nbformat_minor": 2
}
