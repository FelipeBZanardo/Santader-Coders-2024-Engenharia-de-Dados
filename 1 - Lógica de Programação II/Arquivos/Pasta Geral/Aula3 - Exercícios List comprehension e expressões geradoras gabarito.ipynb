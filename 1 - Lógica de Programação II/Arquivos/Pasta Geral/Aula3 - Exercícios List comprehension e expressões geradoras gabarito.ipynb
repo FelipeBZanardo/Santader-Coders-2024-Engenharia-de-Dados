{
 "cells": [
  {
   "cell_type": "markdown",
   "metadata": {},
   "source": [
    "# Aula 3 | Exercícios de list comprehension e expressões geradoras"
   ]
  },
  {
   "cell_type": "markdown",
   "metadata": {},
   "source": [
    "### Questão 1\n",
    "\n",
    "Dada uma lista de nomes, crie uma nova lista que contenha apenas os nomes que têm mais de 5 letras. Use list comprehension."
   ]
  },
  {
   "cell_type": "code",
   "execution_count": 3,
   "metadata": {},
   "outputs": [
    {
     "name": "stdout",
     "output_type": "stream",
     "text": [
      "['Charlie']\n"
     ]
    }
   ],
   "source": [
    "nomes = ['Alice', 'Bob', 'Charlie', 'David', 'Eva', 'Frank', 'Grace']\n",
    "nomes_com_mais_de_5_letras = [nome for nome in nomes if len(nome) > 5]\n",
    "print(nomes_com_mais_de_5_letras)"
   ]
  },
  {
   "cell_type": "markdown",
   "metadata": {},
   "source": [
    "### Questão 2"
   ]
  },
  {
   "cell_type": "markdown",
   "metadata": {},
   "source": [
    "Coloque em uma lista todos os números entre 1 e 1000 que sejam divisiveis por N, sendo N um número recebido no *standard input*;"
   ]
  },
  {
   "cell_type": "code",
   "execution_count": null,
   "metadata": {},
   "outputs": [],
   "source": [
    "N = input('Insira um número inteiro: ')\n",
    "\n",
    "acheN = [n for n in range(1,1001) if N in str(n)]\n",
    "print(acheN)"
   ]
  },
  {
   "cell_type": "markdown",
   "metadata": {},
   "source": [
    "### Questão 3\n",
    "\n",
    "Crie uma lista chamada frases com várias frases em formato de string. \n",
    "\n",
    "Use list comprehension para criar uma nova lista chamada palavras que contenha todas as palavras das frases. Considere que as palavras são separadas por espaços em branco ou pontuações."
   ]
  },
  {
   "cell_type": "code",
   "execution_count": 2,
   "metadata": {},
   "outputs": [
    {
     "name": "stdout",
     "output_type": "stream",
     "text": [
      "['Python', 'é', 'uma', 'linguagem', 'de', 'programação.', 'List', 'Comprehension', 'é', 'muito', 'útil.']\n"
     ]
    }
   ],
   "source": [
    "frases = [\"Python é uma linguagem de programação.\", \"List Comprehension é muito útil.\"]\n",
    "palavras = [palavra for frase in frases for palavra in frase.split()]\n",
    "print(palavras)"
   ]
  },
  {
   "cell_type": "markdown",
   "metadata": {},
   "source": [
    "### Questão 4\n",
    "\n",
    "Escreva uma expressão geradora que gere todos os números primos menores que 100."
   ]
  },
  {
   "cell_type": "code",
   "execution_count": 1,
   "metadata": {},
   "outputs": [],
   "source": [
    "def eh_primo(n):\n",
    "    if n <= 1:\n",
    "        return False\n",
    "    for i in range(2, int(n**0.5) + 1):\n",
    "        if n % i == 0:\n",
    "            return False\n",
    "    return True\n",
    "\n",
    "primos = (x for x in range(2, 100) if eh_primo(x))"
   ]
  },
  {
   "cell_type": "code",
   "execution_count": 2,
   "metadata": {},
   "outputs": [
    {
     "ename": "TypeError",
     "evalue": "int() argument after ** must be a mapping, not float",
     "output_type": "error",
     "traceback": [
      "\u001b[1;31m---------------------------------------------------------------------------\u001b[0m",
      "\u001b[1;31mTypeError\u001b[0m                                 Traceback (most recent call last)",
      "Cell \u001b[1;32mIn[2], line 1\u001b[0m\n\u001b[1;32m----> 1\u001b[0m \u001b[38;5;28mrange\u001b[39m(\u001b[38;5;241m2\u001b[39m, \u001b[38;5;28mint\u001b[39m(\u001b[38;5;241m*\u001b[39m\u001b[38;5;241m*\u001b[39m\u001b[38;5;241m0.5\u001b[39m) \u001b[38;5;241m+\u001b[39m \u001b[38;5;241m1\u001b[39m)\n",
      "\u001b[1;31mTypeError\u001b[0m: int() argument after ** must be a mapping, not float"
     ]
    }
   ],
   "source": [
    "range(2, int(**0.5) + 1)"
   ]
  },
  {
   "cell_type": "markdown",
   "metadata": {},
   "source": [
    "### Questão 5\n",
    "\n",
    "Receba uma frase pelo *standard input* e salve apenas os números encontrados nesta frase em uma lista;"
   ]
  },
  {
   "cell_type": "code",
   "execution_count": 4,
   "metadata": {},
   "outputs": [
    {
     "name": "stdout",
     "output_type": "stream",
     "text": [
      "['1984', '13', '1000']\n"
     ]
    }
   ],
   "source": [
    "frase = 'In 1984 there were 13 instances of a protest with over 1000 people attending'\n",
    "\n",
    "palavras = frase.split()\n",
    "resultado = [numero for numero in palavras if not numero.isalpha()]\n",
    "print(resultado)"
   ]
  },
  {
   "cell_type": "markdown",
   "metadata": {},
   "source": [
    "### Questão 6\n",
    "\n",
    "Suponha que você tem uma lista de nomes de frutas e uma lista correspondente de preços dessas frutas em reais. \n",
    "\n",
    "Crie um dicionário chamado _precos_frutas_ usando dict comprehension, onde as chaves são os nomes das frutas e os valores são os preços correspondentes.\n",
    "\n",
    "Dica: Use as listas abaixo como entrada para criar o dicionário:\n",
    "\n",
    "> frutas = ['maçã', 'banana', 'laranja', 'uva']\n",
    "\n",
    "> precos = [2.0, 1.5, 3.0, 4.0]\n"
   ]
  },
  {
   "cell_type": "code",
   "execution_count": 1,
   "metadata": {},
   "outputs": [
    {
     "name": "stdout",
     "output_type": "stream",
     "text": [
      "{'maçã': 2.0, 'banana': 1.5, 'laranja': 3.0, 'uva': 4.0}\n"
     ]
    }
   ],
   "source": [
    "frutas = ['maçã', 'banana', 'laranja', 'uva']\n",
    "precos = [2.0, 1.5, 3.0, 4.0]\n",
    "\n",
    "precos_frutas = {fruta: preco for fruta, preco in zip(frutas, precos)}\n",
    "print(precos_frutas)"
   ]
  }
 ],
 "metadata": {
  "kernelspec": {
   "display_name": "Python 3",
   "language": "python",
   "name": "python3"
  },
  "language_info": {
   "codemirror_mode": {
    "name": "ipython",
    "version": 3
   },
   "file_extension": ".py",
   "mimetype": "text/x-python",
   "name": "python",
   "nbconvert_exporter": "python",
   "pygments_lexer": "ipython3",
   "version": "3.11.2"
  }
 },
 "nbformat": 4,
 "nbformat_minor": 2
}
