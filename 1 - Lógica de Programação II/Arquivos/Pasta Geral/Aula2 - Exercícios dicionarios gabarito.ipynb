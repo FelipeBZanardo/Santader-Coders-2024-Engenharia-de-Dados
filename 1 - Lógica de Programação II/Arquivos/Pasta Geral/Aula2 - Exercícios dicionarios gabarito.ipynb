{
 "cells": [
  {
   "cell_type": "markdown",
   "metadata": {},
   "source": [
    "# Aula 2 | Exercícios de dicionários"
   ]
  },
  {
   "cell_type": "markdown",
   "metadata": {},
   "source": [
    "### Questão 1\n",
    "\n",
    "Escreva uma programa que imprima um dicionário onde as chaves são números de 1 a 16 e os valores são os quadrados das respectivas chaves."
   ]
  },
  {
   "cell_type": "code",
   "execution_count": 4,
   "metadata": {},
   "outputs": [
    {
     "name": "stdout",
     "output_type": "stream",
     "text": [
      "{1: 1, 2: 4, 3: 9, 4: 16, 5: 25, 6: 36, 7: 49, 8: 64, 9: 81, 10: 100, 11: 121, 12: 144, 13: 169, 14: 196, 15: 225, 16: 256}\n"
     ]
    }
   ],
   "source": [
    "# Inicializa um dicionário vazio\n",
    "dicionario_quadrados = {}\n",
    "\n",
    "# Preenche o dicionário com chaves de 1 a 16 e seus quadrados\n",
    "for numero in range(1, 17):\n",
    "    dicionario_quadrados[numero] = numero ** 2\n",
    "\n",
    "# Imprime o dicionário resultante\n",
    "print(dicionario_quadrados)"
   ]
  },
  {
   "cell_type": "markdown",
   "metadata": {},
   "source": [
    "### Questão 2\n",
    "\n",
    "Crie um dicionário chamado estoque com informações sobre os produtos em um estoque. Cada chave deve ser o nome de um produto e o valor deve ser a quantidade disponível desse produto. Em seguida, escreva um programa que atualiza o estoque após a venda de alguns produtos."
   ]
  },
  {
   "cell_type": "code",
   "execution_count": 1,
   "metadata": {},
   "outputs": [
    {
     "name": "stdout",
     "output_type": "stream",
     "text": [
      "{'Produto1': 8, 'Produto2': 15, 'Produto3': 15}\n"
     ]
    }
   ],
   "source": [
    "estoque = {'Produto1': 10, 'Produto2': 20, 'Produto3': 15}\n",
    "estoque['Produto1'] -= 2\n",
    "estoque['Produto2'] -= 5\n",
    "print(estoque)"
   ]
  },
  {
   "cell_type": "markdown",
   "metadata": {},
   "source": [
    "### Questão 3\n",
    "\n",
    "Escreva uma função chamada contar_palavras que recebe uma lista de palavras como argumento e retorna um dicionário onde as chaves são as palavras únicas na lista e os valores são a contagem de quantas vezes cada palavra aparece na lista."
   ]
  },
  {
   "cell_type": "code",
   "execution_count": 7,
   "metadata": {},
   "outputs": [
    {
     "name": "stdout",
     "output_type": "stream",
     "text": [
      "{'Lorem': 1, 'ipsum': 1, 'dolor': 1, 'sit': 2, 'amet,': 1, 'consectetur': 1, 'adipiscing': 1, 'elit.': 1, 'Suspendisse': 1, 'et': 1, 'dapibus': 1, 'diam.': 1, 'Phasellus': 1, 'hendrerit': 1, 'amet': 1, 'nisl': 1, 'vel': 1, 'iaculis.': 1}\n"
     ]
    }
   ],
   "source": [
    "def contar_palavras(lista_palavras):\n",
    "    contador = {}\n",
    "    for palavra in lista_palavras:\n",
    "        if palavra in contador:\n",
    "            contador[palavra] += 1\n",
    "        else:\n",
    "            contador[palavra] = 1\n",
    "    return contador\n",
    "\n",
    "frase = 'Lorem ipsum dolor sit amet, consectetur adipiscing elit. Suspendisse et dapibus diam. Phasellus hendrerit sit amet nisl vel iaculis.'\n",
    "palavras = frase.split()\n",
    "#palavras = ['python', 'é', 'uma', 'linguagem', 'de', 'programação', 'python']\n",
    "contagem = contar_palavras(palavras)\n",
    "print(contagem)\n"
   ]
  },
  {
   "cell_type": "markdown",
   "metadata": {},
   "source": [
    "### Questão 4\n",
    "\n",
    "Faça um programa que filtre um dicionário com base em seus valores. Exemplo _(pessoa: idade)_:\n",
    "\n",
    "**Dicionario original:**\n",
    "\n",
    "> {'Ana': 30, 'Maria': 45, 'Gustavo': 18, 'Gabriel': 19}<br>\n",
    "\n",
    "**Pessoas com mais de 25:**\n",
    "> {'Ana': 30, 'Maria': 45}"
   ]
  },
  {
   "cell_type": "code",
   "execution_count": 3,
   "metadata": {},
   "outputs": [
    {
     "name": "stdout",
     "output_type": "stream",
     "text": [
      "{'Alice': 25, 'Bob': 30, 'David': 35}\n"
     ]
    }
   ],
   "source": [
    "# Dicionário com pessoas e suas idades\n",
    "pessoas = {'Alice': 25, 'Bob': 30, 'Charlie': 22, 'David': 35}\n",
    "\n",
    "# Idade mínima desejada\n",
    "idade_minima = 25  # Substitua pela idade desejada\n",
    "\n",
    "# Cria um novo dicionário para armazenar as pessoas filtradas\n",
    "pessoas_filtradas = {}\n",
    "\n",
    "# Itera sobre o dicionário original e adiciona as pessoas que atendem ao critério\n",
    "for nome, idade in pessoas.items():\n",
    "    if idade >= idade_minima:\n",
    "        pessoas_filtradas[nome] = idade\n",
    "\n",
    "# Imprime o dicionário filtrado\n",
    "print(pessoas_filtradas)\n"
   ]
  }
 ],
 "metadata": {
  "kernelspec": {
   "display_name": "Python 3",
   "language": "python",
   "name": "python3"
  },
  "language_info": {
   "codemirror_mode": {
    "name": "ipython",
    "version": 3
   },
   "file_extension": ".py",
   "mimetype": "text/x-python",
   "name": "python",
   "nbconvert_exporter": "python",
   "pygments_lexer": "ipython3",
   "version": "3.11.2"
  }
 },
 "nbformat": 4,
 "nbformat_minor": 2
}
