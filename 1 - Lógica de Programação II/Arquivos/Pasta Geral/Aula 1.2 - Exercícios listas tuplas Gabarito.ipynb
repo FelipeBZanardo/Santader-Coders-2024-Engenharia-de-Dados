{
 "cells": [
  {
   "cell_type": "markdown",
   "metadata": {},
   "source": [
    "# Aula 1 | Exercícios de listas e tuplas"
   ]
  },
  {
   "cell_type": "markdown",
   "metadata": {},
   "source": [
    "### Questão 1\n",
    "Crie uma lista vazia chamada frutas. Adicione três frutas à lista e, em seguida, imprima a lista."
   ]
  },
  {
   "cell_type": "code",
   "execution_count": 1,
   "metadata": {},
   "outputs": [
    {
     "name": "stdout",
     "output_type": "stream",
     "text": [
      "['maçã', 'banana', 'laranja']\n"
     ]
    }
   ],
   "source": [
    "frutas = []\n",
    "frutas.extend([\"maçã\", \"banana\", \"laranja\"])\n",
    "print(frutas)"
   ]
  },
  {
   "cell_type": "markdown",
   "metadata": {},
   "source": [
    "### Questão 2\n",
    "\n",
    "Dada a lista numeros = [1, 2, 3, 4, 5], escreva um programa para calcular a soma de todos os números na lista."
   ]
  },
  {
   "cell_type": "code",
   "execution_count": null,
   "metadata": {},
   "outputs": [],
   "source": [
    "numeros = [1, 2, 3, 4, 5]\n",
    "soma = sum(numeros)\n",
    "print(soma)"
   ]
  },
  {
   "cell_type": "markdown",
   "metadata": {},
   "source": [
    "### Questão 3\n",
    "\n",
    "Crie uma tupla chamada meses contendo os nomes dos meses do ano. Peça ao usuário para digitar um número de 1 a 12 e imprima o mês correspondente. Lembre-se de tratar casos inválidos."
   ]
  },
  {
   "cell_type": "code",
   "execution_count": null,
   "metadata": {},
   "outputs": [],
   "source": [
    "meses = ('Janeiro', 'Fevereiro', 'Março', 'Abril', 'Maio', 'Junho', 'Julho', 'Agosto', 'Setembro', 'Outubro', 'Novembro', 'Dezembro')\n",
    "numero = int(input(\"Digite um número de 1 a 12: \"))\n",
    "\n",
    "if 1 <= numero <= 12:\n",
    "    print(meses[numero - 1])\n",
    "else:\n",
    "    print(\"Número inválido\")\n"
   ]
  },
  {
   "cell_type": "markdown",
   "metadata": {},
   "source": [
    "### Questão 4 \n",
    "\n",
    "Dada uma lista de números, crie uma nova lista chamada squared que contenha o quadrado de cada número da lista original."
   ]
  },
  {
   "cell_type": "code",
   "execution_count": 1,
   "metadata": {},
   "outputs": [
    {
     "name": "stdout",
     "output_type": "stream",
     "text": [
      "[1, 4, 9, 16, 25]\n"
     ]
    }
   ],
   "source": [
    "numeros = [1, 2, 3, 4, 5]\n",
    "squared = [x ** 2 for x in numeros]\n",
    "print(squared)"
   ]
  },
  {
   "cell_type": "markdown",
   "metadata": {},
   "source": [
    "### Questão 5\n",
    "\n",
    "Escreva um programa que recebe uma lista de palavras e retorna a lista apenas com as palavras que começam com a letra 'a'. Use uma função para fazer isso."
   ]
  },
  {
   "cell_type": "code",
   "execution_count": 2,
   "metadata": {},
   "outputs": [
    {
     "name": "stdout",
     "output_type": "stream",
     "text": [
      "['amor', 'abacaxi']\n"
     ]
    }
   ],
   "source": [
    "def palavras_com_a(lista):\n",
    "    return [palavra for palavra in lista if palavra.startswith('a')]\n",
    "\n",
    "lista_de_palavras = [\"amor\", \"banana\", \"carro\", \"abacaxi\"]\n",
    "palavras_a = palavras_com_a(lista_de_palavras)\n",
    "print(palavras_a)\n"
   ]
  },
  {
   "cell_type": "markdown",
   "metadata": {},
   "source": [
    "### Questão 6\n",
    "\n",
    "Considere a lista [(4, 5), (4, ), (8, 6, 7), (1, ), (3, 4, 6, 7)]. Faça um programa que remova as tuplas de tamanho k.  \n"
   ]
  },
  {
   "cell_type": "code",
   "execution_count": 2,
   "metadata": {},
   "outputs": [
    {
     "data": {
      "text/plain": [
       "[(4, 5), (8, 6, 7), (3, 4, 6, 7)]"
      ]
     },
     "execution_count": 2,
     "metadata": {},
     "output_type": "execute_result"
    }
   ],
   "source": [
    "lista = [(4, 5), (4, ), (8, 6, 7), (1, ), (3, 4, 6, 7)]\n",
    "\n",
    "K = 1\n",
    "  \n",
    "resultado = []\n",
    "for elemento in lista: \n",
    "    if len(elemento) != K:\n",
    "        resultado.append(elemento)\n",
    "        \n",
    "resultado"
   ]
  },
  {
   "cell_type": "code",
   "execution_count": 2,
   "metadata": {},
   "outputs": [
    {
     "name": "stdout",
     "output_type": "stream",
     "text": [
      "[(4,), (8, 6, 7), (1,), (3, 4, 6, 7)]\n"
     ]
    }
   ],
   "source": [
    "lista_de_tuplas = [(4, 5), (4, ), (8, 6, 7), (1, ), (3, 4, 6, 7)]\n",
    "k = 2  # Substitua k pelo tamanho desejado\n",
    "\n",
    "i = 0\n",
    "for elemento in lista_de_tuplas: \n",
    "    if len(lista_de_tuplas[i]) == k:\n",
    "        lista_de_tuplas.pop(i)\n",
    "\n",
    "print(lista_de_tuplas)\n"
   ]
  },
  {
   "cell_type": "markdown",
   "metadata": {},
   "source": [
    "### LMS\n",
    "\n",
    "Sabendo disso, crie uma função particionarLista() em python que recebe uma lista e retorne apenas os elementos das posições 5 até 12."
   ]
  },
  {
   "cell_type": "code",
   "execution_count": null,
   "metadata": {},
   "outputs": [],
   "source": []
  },
  {
   "cell_type": "code",
   "execution_count": null,
   "metadata": {},
   "outputs": [],
   "source": [
    "def particionarLista(listaA):\n",
    "    return listaA[5:13]"
   ]
  },
  {
   "cell_type": "markdown",
   "metadata": {},
   "source": [
    "Sabendo disso, crie uma função chamada ordena_lista() que recebe uma lista de elementos e ordene-os em ordem decrescente. A função possui como parâmetro a lista a ser ordenada e retorna a mesma lista ordenada de forma decrescente."
   ]
  },
  {
   "cell_type": "code",
   "execution_count": null,
   "metadata": {},
   "outputs": [],
   "source": [
    "def ordena_lista(listaA):\n",
    "    listaA.sort(reverse=True)\n",
    "    return listaA"
   ]
  }
 ],
 "metadata": {
  "kernelspec": {
   "display_name": "Python 3",
   "language": "python",
   "name": "python3"
  },
  "language_info": {
   "codemirror_mode": {
    "name": "ipython",
    "version": 3
   },
   "file_extension": ".py",
   "mimetype": "text/x-python",
   "name": "python",
   "nbconvert_exporter": "python",
   "pygments_lexer": "ipython3",
   "version": "3.11.2"
  }
 },
 "nbformat": 4,
 "nbformat_minor": 2
}
