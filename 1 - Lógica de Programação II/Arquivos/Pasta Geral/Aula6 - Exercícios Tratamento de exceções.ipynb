{
 "cells": [
  {
   "cell_type": "markdown",
   "metadata": {},
   "source": [
    "# Aula 6 | Exercícios de tratamento de exceções"
   ]
  },
  {
   "cell_type": "markdown",
   "metadata": {},
   "source": [
    "### Questão 1\n",
    "\n",
    "Escreva uma função que tente converter uma string para um número inteiro. Se a conversão falhar, a função deve retornar None em vez de lançar uma exceção."
   ]
  },
  {
   "cell_type": "code",
   "execution_count": null,
   "metadata": {},
   "outputs": [],
   "source": [
    "def try_convert_to_int(s):\n",
    "    try:\n",
    "        return int(s)\n",
    "    except ValueError:\n",
    "        return None\n",
    "\n",
    "# Exemplos de uso\n",
    "print(try_convert_to_int(\"123\"))  # Saída: 123\n",
    "print(try_convert_to_int(\"abc\"))  # Saída: None\n",
    "print(try_convert_to_int(\"45.67\"))  # Saída: None\n",
    "print(try_convert_to_int(\"0\"))  # Saída: 0\n"
   ]
  },
  {
   "cell_type": "markdown",
   "metadata": {},
   "source": [
    "### Questão 2\n",
    "\n",
    "Escreva uma função que receba uma lista e um índice como argumentos. A função deve tentar retornar o elemento no índice fornecido. Se o índice estiver fora dos limites da lista, a função deve capturar a exceção e retornar None."
   ]
  },
  {
   "cell_type": "code",
   "execution_count": 1,
   "metadata": {},
   "outputs": [
    {
     "name": "stdout",
     "output_type": "stream",
     "text": [
      "3\n",
      "None\n",
      "None\n",
      "30\n"
     ]
    }
   ],
   "source": [
    "def get_element_at_index(lst, index):\n",
    "    try:\n",
    "        return lst[index]\n",
    "    except IndexError:\n",
    "        return None\n",
    "\n",
    "# Exemplos de uso\n",
    "print(get_element_at_index([1, 2, 3, 4, 5], 2))  # Saída: 3\n",
    "print(get_element_at_index([1, 2, 3, 4, 5], 5))  # Saída: None\n",
    "print(get_element_at_index([], 0))  # Saída: None\n",
    "print(get_element_at_index([10, 20, 30], -1))  # Saída: 30\n"
   ]
  },
  {
   "cell_type": "markdown",
   "metadata": {},
   "source": [
    "### Questão 3\n",
    "\n",
    "Escreva uma função que aceite um dicionário e uma chave. A função deve tentar acessar o valor associado à chave no dicionário. Se a chave não existir, a função deve retornar \"Chave não encontrada\"."
   ]
  },
  {
   "cell_type": "code",
   "execution_count": null,
   "metadata": {},
   "outputs": [],
   "source": [
    "def get_value_from_dict(dct, key):\n",
    "    try:\n",
    "        return dct[key]\n",
    "    except KeyError:\n",
    "        return \"Chave não encontrada\"\n",
    "\n",
    "# Exemplos de uso\n",
    "print(get_value_from_dict({\"a\": 1, \"b\": 2, \"c\": 3}, \"b\"))  # Saída: 2\n",
    "print(get_value_from_dict({\"a\": 1, \"b\": 2, \"c\": 3}, \"d\"))  # Saída: Chave não encontrada\n",
    "print(get_value_from_dict({}, \"a\"))  # Saída: Chave não encontrada\n",
    "print(get_value_from_dict({\"x\": 10, \"y\": 20}, \"x\"))  # Saída: 10\n"
   ]
  }
 ],
 "metadata": {
  "kernelspec": {
   "display_name": "Python 3",
   "language": "python",
   "name": "python3"
  },
  "language_info": {
   "codemirror_mode": {
    "name": "ipython",
    "version": 3
   },
   "file_extension": ".py",
   "mimetype": "text/x-python",
   "name": "python",
   "nbconvert_exporter": "python",
   "pygments_lexer": "ipython3",
   "version": "3.12.2"
  }
 },
 "nbformat": 4,
 "nbformat_minor": 2
}
