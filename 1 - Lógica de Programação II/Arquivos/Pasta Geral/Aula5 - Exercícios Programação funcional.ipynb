{
 "cells": [
  {
   "cell_type": "markdown",
   "metadata": {},
   "source": [
    "# Aula 4 | Exercícios de programação funcional"
   ]
  },
  {
   "cell_type": "markdown",
   "metadata": {},
   "source": [
    "### Questão 1\n",
    "\n",
    "#### Problema da Torre de Hanoi\n",
    "- Objetivo: Mover todos os discos de uma estaca origem para uma estaca destino, usando uma estaca auxiliar.\n",
    "\n",
    "Regras:\n",
    "- Você pode mover apenas um disco de cada vez.\n",
    "- Um disco maior não pode ser colocado em cima de um disco menor.\n",
    "- Um disco só pode ser movido se estiver no topo de uma estaca."
   ]
  },
  {
   "cell_type": "code",
   "execution_count": null,
   "metadata": {},
   "outputs": [],
   "source": [
    "def hanoi(n, origem, destino, auxiliar):\n",
    "    return [] if n == 0 else (\n",
    "        hanoi(n-1, origem, auxiliar, destino) +\n",
    "        [(origem, destino)] +\n",
    "        hanoi(n-1, auxiliar, destino, origem)\n",
    "    )\n",
    "\n",
    "def imprimir_movimentos(movimentos):\n",
    "    for origem, destino in movimentos:\n",
    "        print(f\"Mova o disco da estaca {origem} para a estaca {destino}\")\n",
    "\n",
    "n = 3  \n",
    "movimentos = hanoi(n, 'A', 'C', 'B')\n",
    "imprimir_movimentos(movimentos)\n"
   ]
  },
  {
   "cell_type": "markdown",
   "metadata": {},
   "source": [
    "### Questão 2\n",
    "\n",
    "Você tem uma lista de dicionários, onde cada dicionário representa um registro de dados com informações sobre vendas. Crie uma função que use map para calcular o valor total de vendas de cada registro, considerando o preço unitário e a quantidade vendida. A função deve retornar uma nova lista de dicionários com os valores totais incluídos."
   ]
  },
  {
   "cell_type": "code",
   "execution_count": null,
   "metadata": {},
   "outputs": [],
   "source": [
    "def calcular_valor_total_vendas(registros):\n",
    "    def adicionar_valor_total(registro):\n",
    "        valor_total = registro['preco_unitario'] * registro['quantidade']\n",
    "        novo_registro = registro.copy()\n",
    "        novo_registro['valor_total'] = valor_total\n",
    "        return novo_registro\n",
    "    \n",
    "    return list(map(adicionar_valor_total, registros))\n",
    "\n",
    "registros_vendas = [\n",
    "    {'produto': 'Produto A', 'preco_unitario': 10.0, 'quantidade': 3},\n",
    "    {'produto': 'Produto B', 'preco_unitario': 20.0, 'quantidade': 2},\n",
    "    {'produto': 'Produto C', 'preco_unitario': 15.0, 'quantidade': 5},\n",
    "]\n",
    "\n",
    "novos_registros = calcular_valor_total_vendas(registros_vendas)\n",
    "for registro in novos_registros:\n",
    "    print(registro)\n"
   ]
  },
  {
   "cell_type": "markdown",
   "metadata": {},
   "source": [
    "### Questão 3\n",
    "\n",
    "Dada uma lista de registros de dados de vendas, use a função filter para filtrar apenas os registros onde o valor total de vendas seja maior do que um valor específico (por exemplo, 1000 reais). Explique como você usaria filter nesse contexto."
   ]
  },
  {
   "cell_type": "code",
   "execution_count": null,
   "metadata": {},
   "outputs": [],
   "source": [
    "def calcular_valor_total_vendas(registros):\n",
    "    return list(map(lambda registro: {**registro, 'valor_total': registro['preco_unitario'] * registro['quantidade']}, registros))\n",
    "\n",
    "def filtrar_vendas_acima_de(registros, limite):\n",
    "    return list(filter(lambda registro: registro['valor_total'] > limite, registros))\n",
    "\n",
    "registros_vendas = [\n",
    "    {'produto': 'Produto A', 'preco_unitario': 10.0, 'quantidade': 3},\n",
    "    {'produto': 'Produto B', 'preco_unitario': 200.0, 'quantidade': 2},\n",
    "    {'produto': 'Produto C', 'preco_unitario': 150.0, 'quantidade': 10},\n",
    "    {'produto': 'Produto D', 'preco_unitario': 50.0, 'quantidade': 15},\n",
    "]\n",
    "\n",
    "registros_com_valor_total = calcular_valor_total_vendas(registros_vendas)\n",
    "\n",
    "registros_filtrados = filtrar_vendas_acima_de(registros_com_valor_total, 1000)\n",
    "\n",
    "for registro in registros_filtrados:\n",
    "    print(registro)\n"
   ]
  },
  {
   "cell_type": "markdown",
   "metadata": {},
   "source": [
    "### Questão 4\n",
    "\n",
    "Suponha que você tenha uma lista de registros de dados de vendas e deseje calcular o valor total de vendas de todos os registros usando a função reduce. Crie uma função que faça isso e explique como a função reduce pode ser aplicada para obter o resultado desejado."
   ]
  },
  {
   "cell_type": "code",
   "execution_count": null,
   "metadata": {},
   "outputs": [],
   "source": [
    "from functools import reduce\n",
    "\n",
    "def calcular_valor_total_vendas(registros):\n",
    "    # Adiciona o campo 'valor_total' a cada registro\n",
    "    registros_com_valor_total = list(map(lambda registro: {**registro, 'valor_total': registro['preco_unitario'] * registro['quantidade']}, registros))\n",
    "    \n",
    "    # Usa reduce para calcular o valor total de vendas\n",
    "    valor_total_de_vendas = reduce(lambda total, registro: total + registro['valor_total'], registros_com_valor_total, 0)\n",
    "    \n",
    "    return valor_total_de_vendas\n",
    "\n",
    "# Exemplo de uso:\n",
    "registros_vendas = [\n",
    "    {'produto': 'Produto A', 'preco_unitario': 10.0, 'quantidade': 3},\n",
    "    {'produto': 'Produto B', 'preco_unitario': 200.0, 'quantidade': 2},\n",
    "    {'produto': 'Produto C', 'preco_unitario': 150.0, 'quantidade': 10},\n",
    "    {'produto': 'Produto D', 'preco_unitario': 50.0, 'quantidade': 15},\n",
    "]\n",
    "\n",
    "valor_total = calcular_valor_total_vendas(registros_vendas)\n",
    "print(f\"Valor total de vendas: {valor_total}\")\n"
   ]
  }
 ],
 "metadata": {
  "kernelspec": {
   "display_name": "Python 3",
   "language": "python",
   "name": "python3"
  },
  "language_info": {
   "codemirror_mode": {
    "name": "ipython",
    "version": 3
   },
   "file_extension": ".py",
   "mimetype": "text/x-python",
   "name": "python",
   "nbconvert_exporter": "python",
   "pygments_lexer": "ipython3",
   "version": "3.11.2"
  }
 },
 "nbformat": 4,
 "nbformat_minor": 2
}
