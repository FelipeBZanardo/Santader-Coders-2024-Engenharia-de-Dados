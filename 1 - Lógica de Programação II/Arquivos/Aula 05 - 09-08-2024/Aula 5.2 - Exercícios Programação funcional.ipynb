{
 "cells": [
  {
   "cell_type": "markdown",
   "metadata": {},
   "source": [
    "# Aula 4 | Exercícios de programação funcional"
   ]
  },
  {
   "cell_type": "markdown",
   "metadata": {},
   "source": [
    "### Questão 1\n",
    "\n",
    "#### Problema da Torre de Hanoi\n",
    "- Objetivo: Mover todos os discos de uma estaca origem para uma estaca destino, usando uma estaca auxiliar.\n",
    "\n",
    "Regras:\n",
    "- Você pode mover apenas um disco de cada vez.\n",
    "- Um disco maior não pode ser colocado em cima de um disco menor.\n",
    "- Um disco só pode ser movido se estiver no topo de uma estaca."
   ]
  },
  {
   "cell_type": "markdown",
   "metadata": {},
   "source": [
    "### Questão 2\n",
    "\n",
    "Você tem uma lista de dicionários, onde cada dicionário representa um registro de dados com informações sobre vendas. Crie uma função que use map para calcular o valor total de vendas de cada registro, considerando o preço unitário e a quantidade vendida. A função deve retornar uma nova lista de dicionários com os valores totais incluídos."
   ]
  },
  {
   "cell_type": "markdown",
   "metadata": {},
   "source": [
    "### Questão 3\n",
    "\n",
    "Dada uma lista de registros de dados de vendas, use a função filter para filtrar apenas os registros onde o valor total de vendas seja maior do que um valor específico (por exemplo, 1000 reais). Explique como você usaria filter nesse contexto."
   ]
  },
  {
   "cell_type": "markdown",
   "metadata": {},
   "source": [
    "### Questão 4\n",
    "\n",
    "Suponha que você tenha uma lista de registros de dados de vendas e deseje calcular o valor total de vendas de todos os registros usando a função reduce. Crie uma função que faça isso e explique como a função reduce pode ser aplicada para obter o resultado desejado."
   ]
  }
 ],
 "metadata": {
  "kernelspec": {
   "display_name": "Python 3",
   "language": "python",
   "name": "python3"
  },
  "language_info": {
   "codemirror_mode": {
    "name": "ipython",
    "version": 3
   },
   "file_extension": ".py",
   "mimetype": "text/x-python",
   "name": "python",
   "nbconvert_exporter": "python",
   "pygments_lexer": "ipython3",
   "version": "3.11.2"
  }
 },
 "nbformat": 4,
 "nbformat_minor": 2
}
