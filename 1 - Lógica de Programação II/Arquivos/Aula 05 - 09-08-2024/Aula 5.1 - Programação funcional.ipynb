{
 "cells": [
  {
   "cell_type": "markdown",
   "metadata": {},
   "source": [
    "# Aula 5 | Programação funcional\n",
    "\n",
    "Nesta aula, vamos explorar conceitos de programação funcional.\n",
    "\n",
    "A programação funcional é um **paradigma** de programação que trata a computação principalmente como a avaliação de funções matemáticas e evita mudanças no estado e dados mutáveis. \n",
    "\n",
    "Por ser uma **linguagem de programação multi-paradigma**, o Python suporta programação funcional, permitindo que os desenvolvedores adotem esse estilo, além da orientação a objetos e programação procedimental, por exemplo.\n",
    "\n",
    "**Nosso problema de hoje**: Imagine que você está trabalhando com um grande conjunto de dados de logs de um aplicativo web. Cada log contém informações como o timestamp, nível de log (INFO, ERROR, DEBUG), e uma mensagem. Usando os conceitos de programação funcional, implemente operações nesses logs, como filtrar por nível específico, extrair determinados campos ou transformar os dados de alguma maneira."
   ]
  },
  {
   "cell_type": "markdown",
   "metadata": {},
   "source": [
    "### Exemplos de outros paradigmas"
   ]
  },
  {
   "cell_type": "markdown",
   "metadata": {},
   "source": [
    "1. **Programação imperativa** <br>\n",
    "Foco: Como um programa opera (sequência de comandos). <br>\n",
    "Exemplo: Linguagens como C e Python (em seu uso mais tradicional). <br>\n",
    "Característica: O código é uma sequência de instruções que alteram o estado do programa.\n",
    "\n",
    "2. **Programação declarativa** <br>\n",
    "Foco: O que o programa deve realizar, em vez de como.<br>\n",
    "Exemplo: SQL para consultas de banco de dados.<br>\n",
    "Característica: O código expressa a lógica sem descrever explicitamente o fluxo de controle.\n",
    "\n",
    "3. **Programação Orientada a Objetos** (OOP) <br>\n",
    "Foco: Organização do código em objetos que combinam estado (dados) e comportamento (funções ou métodos).<br>\n",
    "Exemplo: Java, C++, Python.<br>\n",
    "Característica: Encapsulamento, herança, polimorfismo.\n",
    "\n",
    "5. **Programação lógica** <br>\n",
    "Foco: Expressar programas como fatos e regras dentro de um sistema lógico.<br>\n",
    "Exemplo: Prolog.<br>\n",
    "Característica: O código é um conjunto de sentenças lógicas, e a execução é uma dedução lógica.\n"
   ]
  },
  {
   "cell_type": "markdown",
   "metadata": {},
   "source": [
    "### Características da programação funcional"
   ]
  },
  {
   "cell_type": "markdown",
   "metadata": {},
   "source": [
    "- **Funções puras**: São funções que, para os mesmos argumentos, sempre retornarão o mesmo resultado e não têm efeitos colaterais (como modificar variáveis globais).\n",
    "- **Imutabilidade**: Os dados não são alterados. Em vez de modificar um objeto, funções funcionais geralmente retornam novos objetos com os resultados desejados.\n",
    "- **Organização do código**: a programação funcional organiza o código em torno de funções e fluxos de dados, diferente do paradigma orientado a objetos por exemplo, que organiza o código em torno de objetos e classes.\n",
    "\n",
    "Exemplos de linguagens: Haskell, Scala, e elementos em Python e JavaScript."
   ]
  },
  {
   "cell_type": "markdown",
   "metadata": {},
   "source": [
    "## Funções puras\n",
    "\n",
    "- **Determinismo**: uma função é considerada pura se, para uma mesma entrada, ela sempre retorna o mesmo resultado. \n",
    "- **Sem efeitos colaterais**: uma função pura não causa efeitos colaterais no mundo externo, ou seja, não modifica variáveis globais, não escreve em arquivos, não altera o banco de dados, etc."
   ]
  },
  {
   "cell_type": "code",
   "execution_count": 8,
   "metadata": {},
   "outputs": [
    {
     "data": {
      "text/plain": [
       "4"
      ]
     },
     "execution_count": 8,
     "metadata": {},
     "output_type": "execute_result"
    }
   ],
   "source": [
    "def soma(a, b):\n",
    "    return a + b\n",
    "\n",
    "soma(3, 1)"
   ]
  },
  {
   "cell_type": "code",
   "execution_count": 9,
   "metadata": {},
   "outputs": [
    {
     "name": "stdout",
     "output_type": "stream",
     "text": [
      "[1, 2, 3]\n",
      "[1, 4, 9]\n"
     ]
    }
   ],
   "source": [
    "def quadrados(lista):\n",
    "    return [x**2 for x in lista]\n",
    "\n",
    "minha_lista = [1, 2, 3]\n",
    "minha_lista_quadrados = quadrados(minha_lista)\n",
    "print(minha_lista)\n",
    "print(minha_lista_quadrados)"
   ]
  },
  {
   "cell_type": "code",
   "execution_count": 134,
   "metadata": {},
   "outputs": [],
   "source": [
    "minha_lista = [1, 2, 3]\n",
    "A = 4\n"
   ]
  },
  {
   "cell_type": "code",
   "execution_count": 135,
   "metadata": {},
   "outputs": [
    {
     "name": "stdout",
     "output_type": "stream",
     "text": [
      "None\n"
     ]
    },
    {
     "data": {
      "text/plain": [
       "[1, 2, 3, 5]"
      ]
     },
     "execution_count": 135,
     "metadata": {},
     "output_type": "execute_result"
    }
   ],
   "source": [
    "\n",
    "def adicionar_elemento(valor):\n",
    "    return minha_lista.append(A)\n",
    "\n",
    "A = 5\n",
    "retorno_minha_lista = adicionar_elemento(A)\n",
    "print(retorno_minha_lista)\n",
    "minha_lista"
   ]
  },
  {
   "cell_type": "code",
   "execution_count": 148,
   "metadata": {},
   "outputs": [
    {
     "name": "stdout",
     "output_type": "stream",
     "text": [
      "[1, 2, 3, 5, 1]\n",
      "[1, 2, 3, 5]\n"
     ]
    }
   ],
   "source": [
    "def adicionar_elemento_pura(lista: list, valor: int)-> list: \n",
    "    return list(lista + [valor])\n",
    "\n",
    "novas_lista = adicionar_elemento_pura(minha_lista, 1)\n",
    "print(novas_lista)\n",
    "print(minha_lista)"
   ]
  },
  {
   "cell_type": "markdown",
   "metadata": {},
   "source": [
    "## Funções de primeira classe e funções de alta ordem\n",
    "\n",
    "**Funções de primeira classe** <br>\n",
    "- Podem ser passadas como argumentos para outras funções, retornadas como valores de outras funções, atribuídas a variáveis e armazenadas em estruturas de dados.\n",
    "- São fundamentais para a **flexibilidade** e **expressividade** em linguagens de programação, permitindo que funções sejam usadas de maneira versátil.\n",
    "\n",
    "\n",
    "**Funções de alta ordem** <br>\n",
    "- São aquelas que aceitam outras funções como argumentos, ou que retornam uma função como seu resultado. Isso é uma extensão do conceito de funções de primeira classe.\n",
    "- Enriquecem a capacidade de abstração e reutilização de código, permitindo a construção de funções mais genéricas.\n",
    "\n",
    "Um uso prático e comum de funções de alta ordem em Python é com as funções integradas map, filter e reduce (vamos ver ao final deste notebook)."
   ]
  },
  {
   "cell_type": "code",
   "execution_count": 157,
   "metadata": {},
   "outputs": [
    {
     "name": "stdout",
     "output_type": "stream",
     "text": [
      "<class 'int'>\n",
      "3\n",
      "<class 'function'>\n",
      "<class 'function'>\n",
      "<class 'function'>\n",
      "<function soma at 0x00000258AF9316C0>\n",
      "4\n"
     ]
    }
   ],
   "source": [
    "def soma(a, b):\n",
    "    return a + b\n",
    "\n",
    "minha_soma = soma(1,2)\n",
    "print(type(minha_soma))\n",
    "print(minha_soma)\n",
    "\n",
    "minha_soma = soma\n",
    "print(type(minha_soma))\n",
    "print(type(minha_soma))\n",
    "print(type(minha_soma))\n",
    "print(minha_soma)\n",
    "print(minha_soma(2,2))"
   ]
  },
  {
   "cell_type": "code",
   "execution_count": 158,
   "metadata": {},
   "outputs": [],
   "source": [
    "minha_soma.__closure__"
   ]
  },
  {
   "cell_type": "code",
   "execution_count": 161,
   "metadata": {},
   "outputs": [
    {
     "name": "stdout",
     "output_type": "stream",
     "text": [
      "4\n",
      "<function criar_multiplicador.<locals>.multiplicador at 0x00000258AF997060>\n"
     ]
    },
    {
     "data": {
      "text/plain": [
       "20"
      ]
     },
     "execution_count": 161,
     "metadata": {},
     "output_type": "execute_result"
    }
   ],
   "source": [
    "def criar_multiplicador(n):\n",
    "    def multiplicador(x):\n",
    "        return n * x\n",
    "    return multiplicador\n",
    "\n",
    "dobrar = criar_multiplicador(2)\n",
    "print(dobrar(2))\n",
    "print(dobrar)\n",
    "dobrar(10)"
   ]
  },
  {
   "cell_type": "code",
   "execution_count": null,
   "metadata": {},
   "outputs": [],
   "source": [
    "def criar_somador(n):\n",
    "    def somador(x):\n",
    "        return n + x\n",
    "    return somador\n",
    "\n",
    "somar = criar_somador(20)\n",
    "\n",
    "print(somar)\n",
    "\n",
    "somar(10)\n"
   ]
  },
  {
   "cell_type": "code",
   "execution_count": 164,
   "metadata": {},
   "outputs": [
    {
     "name": "stdout",
     "output_type": "stream",
     "text": [
      "<function criar_somador.<locals>.somar at 0x00000258AF9962A0>\n",
      "30\n",
      "40\n"
     ]
    }
   ],
   "source": [
    "\n",
    "def criar_somador(n):\n",
    "    def somar(x):\n",
    "        return n + x\n",
    "    return somar\n",
    "\n",
    "somar = criar_somador(20)\n",
    "\n",
    "print(somar)\n",
    "\n",
    "print(somar(10))\n",
    "\n",
    "print(somar(20))\n"
   ]
  },
  {
   "cell_type": "markdown",
   "metadata": {},
   "source": [
    "## Clausura (closure)\n",
    "\n",
    "É uma função que tem acesso a variáveis de um escopo externo a ela, mesmo após esse escopo externo ter sido encerrado. Em outras palavras, é uma função que \"lembra\" o ambiente no qual foi criada.\n",
    "\n",
    "Clausuras são úteis para criar funções personalizadas em tempo de execução e para manter um estado em funções sem precisar de variáveis globais ou classes. Elas permitem uma programação mais limpa e modular, mantendo o estado necessário sem expor detalhes de implementação ou poluir o escopo global.\n",
    "\n",
    "#### 🤔 Diferença entre closure e uma função comum\n",
    "\n",
    "**Função Comum** <br>\n",
    "Uma função comum é qualquer função definida usando def ou lambda, que não captura variáveis do escopo em que foi definida.\n",
    "- Não depende de variáveis de escopos externos.\n",
    "- O comportamento da função é determinado apenas pelos seus argumentos e pelo seu conteúdo interno.\n",
    "\n",
    "**Closure** <br>\n",
    "É uma função que captura algumas das variáveis do escopo em que foi criada, mantendo a referência a essas variáveis mesmo após o escopo externo ter terminado.\n",
    "- Tem acesso a variáveis de um escopo externo que já foi encerrado.\n",
    "- \"Lembra\" o estado do escopo externo no qual foi definido.\n",
    "\n",
    "🧐 **Como Identificar um Closure** <br>\n",
    "Podemos verificar se uma função é um closure inspecionando a propriedade __closure__. Se for diferente de None e contiver variáveis, é um closure."
   ]
  },
  {
   "cell_type": "code",
   "execution_count": 165,
   "metadata": {},
   "outputs": [],
   "source": [
    "def criar_multiplicador(n):\n",
    "    def multiplicador(x):\n",
    "        print(f\"n: {n}\")\n",
    "        print(f\"x: {x}\")\n",
    "        return x * n \n",
    "    return multiplicador"
   ]
  },
  {
   "cell_type": "code",
   "execution_count": 166,
   "metadata": {},
   "outputs": [],
   "source": [
    "multiplica_por_3 = criar_multiplicador(3)"
   ]
  },
  {
   "cell_type": "code",
   "execution_count": 167,
   "metadata": {},
   "outputs": [
    {
     "name": "stdout",
     "output_type": "stream",
     "text": [
      "n: 3\n",
      "x: 19\n"
     ]
    },
    {
     "data": {
      "text/plain": [
       "57"
      ]
     },
     "execution_count": 167,
     "metadata": {},
     "output_type": "execute_result"
    }
   ],
   "source": [
    "multiplica_por_3(19)"
   ]
  },
  {
   "cell_type": "code",
   "execution_count": 168,
   "metadata": {},
   "outputs": [
    {
     "name": "stdout",
     "output_type": "stream",
     "text": [
      "n: 3\n",
      "x: 7\n"
     ]
    },
    {
     "data": {
      "text/plain": [
       "21"
      ]
     },
     "execution_count": 168,
     "metadata": {},
     "output_type": "execute_result"
    }
   ],
   "source": [
    "multiplica_por_3(7)"
   ]
  },
  {
   "cell_type": "code",
   "execution_count": 169,
   "metadata": {},
   "outputs": [
    {
     "name": "stdout",
     "output_type": "stream",
     "text": [
      "n: 3\n",
      "x: 10\n"
     ]
    },
    {
     "data": {
      "text/plain": [
       "30"
      ]
     },
     "execution_count": 169,
     "metadata": {},
     "output_type": "execute_result"
    }
   ],
   "source": [
    "multiplica_por_3(10)"
   ]
  },
  {
   "cell_type": "code",
   "execution_count": 181,
   "metadata": {},
   "outputs": [
    {
     "data": {
      "text/plain": [
       "(<cell at 0x00000258AF4ECFA0: int object at 0x00007FFF62BC49F8>,)"
      ]
     },
     "execution_count": 181,
     "metadata": {},
     "output_type": "execute_result"
    }
   ],
   "source": [
    "multiplica_por_3.__closure__"
   ]
  },
  {
   "cell_type": "code",
   "execution_count": 184,
   "metadata": {},
   "outputs": [
    {
     "data": {
      "text/plain": [
       "3"
      ]
     },
     "execution_count": 184,
     "metadata": {},
     "output_type": "execute_result"
    }
   ],
   "source": [
    "clausura = multiplica_por_3.__closure__\n",
    "\n",
    "valor_de_n = clausura[0].cell_contents\n",
    "valor_de_n"
   ]
  },
  {
   "cell_type": "code",
   "execution_count": 172,
   "metadata": {},
   "outputs": [
    {
     "name": "stdout",
     "output_type": "stream",
     "text": [
      "n: 9\n",
      "x: 5\n"
     ]
    },
    {
     "data": {
      "text/plain": [
       "45"
      ]
     },
     "execution_count": 172,
     "metadata": {},
     "output_type": "execute_result"
    }
   ],
   "source": [
    "multiplica_por_9 = criar_multiplicador(9)\n",
    "multiplica_por_9(5)"
   ]
  },
  {
   "cell_type": "code",
   "execution_count": 174,
   "metadata": {},
   "outputs": [
    {
     "name": "stdout",
     "output_type": "stream",
     "text": [
      "n: 9\n",
      "x: 18\n"
     ]
    },
    {
     "data": {
      "text/plain": [
       "162"
      ]
     },
     "execution_count": 174,
     "metadata": {},
     "output_type": "execute_result"
    }
   ],
   "source": [
    "criar_multiplicador(3)(18)"
   ]
  },
  {
   "cell_type": "code",
   "execution_count": 177,
   "metadata": {},
   "outputs": [],
   "source": [
    "def criar_multiplicador(n):\n",
    "    def multiplicador(x):\n",
    "        def somador(m):\n",
    "            return (x * n) + m\n",
    "        return somador\n",
    "    return multiplicador\n",
    "\n",
    "criar_multiplicador(3)(5)(2)"
   ]
  },
  {
   "cell_type": "code",
   "execution_count": 191,
   "metadata": {},
   "outputs": [
    {
     "data": {
      "text/plain": [
       "3"
      ]
     },
     "execution_count": 191,
     "metadata": {},
     "output_type": "execute_result"
    }
   ],
   "source": [
    "minha_funcao = criar_multiplicador(3)\n",
    "minha_funcao(2)\n",
    "clausura = minha_funcao.__closure__\n",
    "valor_de_n = clausura[0].cell_contents\n",
    "valor_de_n"
   ]
  },
  {
   "cell_type": "markdown",
   "metadata": {},
   "source": [
    "## Funções lambda\n",
    "\n",
    "São uma forma de criar funções pequenas e anônimas.\n",
    "\n",
    "As funções lambda podem ter **qualquer número de argumentos**, mas só podem ter **uma expressão**. Elas são frequentemente usadas em situações onde uma função simples é necessária por um curto período de tempo, e frequentemente onde funções são esperadas como parâmetros."
   ]
  },
  {
   "cell_type": "markdown",
   "metadata": {},
   "source": [
    "- Anônimas: Não têm um nome associado a elas.\n",
    "- Compactas: Destinadas a encapsular funcionalidades pequenas em uma única linha de código.\n",
    "- Versáteis: Podem ser usadas onde objetos de função são necessários."
   ]
  },
  {
   "cell_type": "markdown",
   "metadata": {},
   "source": [
    "![](./img/lambda.png)"
   ]
  },
  {
   "cell_type": "code",
   "execution_count": 192,
   "metadata": {},
   "outputs": [],
   "source": [
    "somar = lambda x, y: x + y"
   ]
  },
  {
   "cell_type": "code",
   "execution_count": 193,
   "metadata": {},
   "outputs": [
    {
     "name": "stdout",
     "output_type": "stream",
     "text": [
      "4\n",
      "<class 'int'>\n"
     ]
    }
   ],
   "source": [
    "resultado = somar(1, 3)\n",
    "print(resultado)\n",
    "print(type(resultado))"
   ]
  },
  {
   "cell_type": "code",
   "execution_count": 214,
   "metadata": {},
   "outputs": [
    {
     "name": "stdout",
     "output_type": "stream",
     "text": [
      "[(2, 'maçã'), (3, 'durian'), (4, 'abacate'), (5, 'banana')]\n"
     ]
    }
   ],
   "source": [
    "lista = [(5, 'banana'), (2, 'maçã'), (3, 'durian'), (4, 'abacate')]\n",
    "\n",
    "lista.sort(key=lambda x: x[0])\n",
    "print(lista)"
   ]
  },
  {
   "cell_type": "code",
   "execution_count": null,
   "metadata": {},
   "outputs": [],
   "source": [
    "lista = [(5, 'banana'), (2, 'maçã'), (3, 'durian'), (4, 'abacate')]\n",
    "\n",
    "lista.sort(key=lambda x: x[1])\n",
    "print(lista)"
   ]
  },
  {
   "cell_type": "code",
   "execution_count": 213,
   "metadata": {},
   "outputs": [
    {
     "name": "stdout",
     "output_type": "stream",
     "text": [
      "[{2: 'maca'}, {3: 'durian'}, {4: 'abacate'}, {5: 'banana'}]\n"
     ]
    }
   ],
   "source": [
    "lista = [{5: 'banana'}, {2: 'maca'}, {3: 'durian'}, {4: 'abacate'}]\n",
    "\n",
    "lista.sort(key=lambda x: list(x.keys()))\n",
    "\n",
    "print(lista)"
   ]
  },
  {
   "cell_type": "code",
   "execution_count": 219,
   "metadata": {},
   "outputs": [
    {
     "name": "stdout",
     "output_type": "stream",
     "text": [
      "[{4: 'abacate'}, {5: 'banana'}, {3: 'durian'}, {2: 'maca'}]\n"
     ]
    }
   ],
   "source": [
    "lista = [{5: 'banana'}, {2: 'maca'}, {3: 'durian'}, {4: 'abacate'}]\n",
    "\n",
    "lista.sort(key=lambda x: list(x.values()))\n",
    "\n",
    "print(lista)"
   ]
  },
  {
   "cell_type": "code",
   "execution_count": 217,
   "metadata": {},
   "outputs": [
    {
     "name": "stdout",
     "output_type": "stream",
     "text": [
      "[{2: 'maca'}, {3: 'durian'}, {4: 'abacate'}, {5: 'banana'}]\n"
     ]
    }
   ],
   "source": [
    "lista = [{5: 'banana'}, {2: 'maca'}, {3: 'durian'}, {4: 'abacate'}]\n",
    "\n",
    "lista.sort(key=lambda x: list(x.items()))\n",
    "\n",
    "print(lista)"
   ]
  },
  {
   "cell_type": "code",
   "execution_count": null,
   "metadata": {},
   "outputs": [],
   "source": []
  },
  {
   "cell_type": "markdown",
   "metadata": {},
   "source": [
    "Crie uma função filtraElementos() que recebe uma lista e utiliza função lambda para filtrar os elementos maiores que 10, ou seja, a função deve retornar uma lista apenas com estes elementos maiores que 10.\n",
    "\n",
    "OBS: em um cenário real, a função filtraElementos() seria utilizada para outras funcionalidades também além da utilização da lambda, de forma a melhorar o determinismo do código."
   ]
  },
  {
   "cell_type": "code",
   "execution_count": 220,
   "metadata": {},
   "outputs": [
    {
     "data": {
      "text/plain": [
       "[12, 234, 454]"
      ]
     },
     "execution_count": 220,
     "metadata": {},
     "output_type": "execute_result"
    }
   ],
   "source": [
    "def filtra(lista):\n",
    "    elementos_filtrados = [x for x in lista if x > 10]\n",
    "    return elementos_filtrados\n",
    "\n",
    "l = [12, 234,454 , 1, 2, 3, 4]\n",
    "filtra(l)"
   ]
  },
  {
   "cell_type": "code",
   "execution_count": 224,
   "metadata": {},
   "outputs": [
    {
     "data": {
      "text/plain": [
       "[12, 234, 454]"
      ]
     },
     "execution_count": 224,
     "metadata": {},
     "output_type": "execute_result"
    }
   ],
   "source": [
    "def filtra_com_lambda(lista):\n",
    "    elementos_filtrados = list(filter(lambda x: x > 10, lista))\n",
    "    return elementos_filtrados\n",
    "l = [12, 234,454 , 1, 2, 3, 4]\n",
    "filtra_com_lambda(l)"
   ]
  },
  {
   "cell_type": "code",
   "execution_count": null,
   "metadata": {},
   "outputs": [],
   "source": []
  },
  {
   "cell_type": "markdown",
   "metadata": {},
   "source": [
    "## Funções de alta ordem em coleções\n",
    "\n",
    "Essas funções são particularmente úteis quando trabalhamos com coleções (como listas, tuplas). As mais conhecidas são map, filter, e reduce. Vamos explorar cada uma delas:"
   ]
  },
  {
   "cell_type": "markdown",
   "metadata": {},
   "source": [
    "![](https://miro.medium.com/v2/resize:fit:1100/format:webp/1*DreeF8a4h2pvxRly39HjAA.jpeg)"
   ]
  },
  {
   "cell_type": "markdown",
   "metadata": {},
   "source": [
    "### Map\n",
    "\n",
    "Aplica uma função especificada a cada item de uma coleção (como uma lista) e retorna um iterador com os resultados."
   ]
  },
  {
   "cell_type": "code",
   "execution_count": 228,
   "metadata": {},
   "outputs": [
    {
     "name": "stdout",
     "output_type": "stream",
     "text": [
      "[32.0, 57.2, 66.2, 84.2, 104.0]\n"
     ]
    }
   ],
   "source": [
    "celsius = [0, 14, 19, 29, 40]\n",
    "resultado = []\n",
    "for c in celsius:\n",
    "    resultado.append((c * 9/5) + 32)\n",
    "\n",
    "print(resultado)"
   ]
  },
  {
   "cell_type": "code",
   "execution_count": 227,
   "metadata": {},
   "outputs": [
    {
     "name": "stdout",
     "output_type": "stream",
     "text": [
      "<map object at 0x00000258AF5A7C10>\n",
      "[32.0, 57.2, 66.2, 84.2, 104.0]\n"
     ]
    }
   ],
   "source": [
    "celsius = [0, 14, 19, 29, 40]\n",
    "\n",
    "fahrenheit = map(lambda x: (x * 9/5) + 32, celsius) # celsius é a lista de entrada e a lambda é a função a ser aplicada a cada um dos x\n",
    "\n",
    "print(fahrenheit)\n",
    "print(list(fahrenheit))"
   ]
  },
  {
   "cell_type": "markdown",
   "metadata": {},
   "source": [
    "### Filter\n",
    "\n",
    "Filtra itens de uma coleção, excluindo itens que não correspondem a uma condição especificada."
   ]
  },
  {
   "cell_type": "code",
   "execution_count": 237,
   "metadata": {},
   "outputs": [
    {
     "name": "stdout",
     "output_type": "stream",
     "text": [
      "<filter object at 0x00000258AFD67F10>\n",
      "[0, 2, 4, 6, 8, 10, 12, 14, 16, 18]\n",
      "()\n",
      "set()\n"
     ]
    }
   ],
   "source": [
    "numeros = range(20)\n",
    "\n",
    "pares = filter(lambda x: x % 2 ==0, numeros)\n",
    "\n",
    "print(pares)\n",
    "print(list(pares))\n",
    "print(tuple(pares))\n",
    "print(set(pares))"
   ]
  },
  {
   "cell_type": "markdown",
   "metadata": {},
   "source": [
    "### Reduce\n",
    "\n",
    "Aplica uma função de dois argumentos cumulativamente aos itens de uma coleção, da esquerda para a direita, para reduzir a coleção a um único valor. \n",
    "\n",
    "Esta função não é uma função embutida e precisa ser importada do módulo functools."
   ]
  },
  {
   "cell_type": "code",
   "execution_count": 241,
   "metadata": {},
   "outputs": [
    {
     "name": "stdout",
     "output_type": "stream",
     "text": [
      "range(0, 5)\n"
     ]
    },
    {
     "data": {
      "text/plain": [
       "10"
      ]
     },
     "execution_count": 241,
     "metadata": {},
     "output_type": "execute_result"
    }
   ],
   "source": [
    "from functools import reduce\n",
    "numeros = range(5)\n",
    "\n",
    "print(numeros)\n",
    "\n",
    "soma = reduce(lambda x, y: x + y, numeros)\n",
    "\n",
    "soma"
   ]
  },
  {
   "cell_type": "code",
   "execution_count": 261,
   "metadata": {},
   "outputs": [
    {
     "name": "stdout",
     "output_type": "stream",
     "text": [
      "[0, 14, 19, 29, 40]\n"
     ]
    }
   ],
   "source": [
    "print(celsius)"
   ]
  },
  {
   "cell_type": "code",
   "execution_count": 272,
   "metadata": {},
   "outputs": [
    {
     "name": "stdout",
     "output_type": "stream",
     "text": [
      "[32.0, 57.2, 66.2, 84.2, 104.0]\n"
     ]
    }
   ],
   "source": [
    "fahrenheit_map = map(lambda x: (x * 9/5) + 32, celsius)\n",
    "\n",
    "print(fahrenheit_map)"
   ]
  },
  {
   "cell_type": "code",
   "execution_count": 275,
   "metadata": {},
   "outputs": [
    {
     "name": "stdout",
     "output_type": "stream",
     "text": [
      "[32.0, 104.0]\n"
     ]
    }
   ],
   "source": [
    "fahrenheit = filter(lambda x: x % 2 == 0, fahrenheit_map)\n",
    "print(list(fahrenheit))"
   ]
  },
  {
   "cell_type": "code",
   "execution_count": 252,
   "metadata": {},
   "outputs": [
    {
     "name": "stdout",
     "output_type": "stream",
     "text": [
      "[32.0, 104.0]\n"
     ]
    }
   ],
   "source": [
    "fahrenheit = filter(lambda x: x % 2 == 0, map(lambda x: (x * 9/5) + 32, celsius))\n",
    "print(list(fahrenheit))"
   ]
  },
  {
   "cell_type": "code",
   "execution_count": 253,
   "metadata": {},
   "outputs": [
    {
     "name": "stdout",
     "output_type": "stream",
     "text": [
      "136.0\n"
     ]
    }
   ],
   "source": [
    "fahrenheit = reduce(lambda x, y: x + y, filter(lambda x: x % 2 ==0, map(lambda x: (x * 9/5) + 32, celsius)))\n",
    "print(fahrenheit)"
   ]
  },
  {
   "cell_type": "markdown",
   "metadata": {},
   "source": [
    "## 🙃 Voltando ao problema inicial da aula\n",
    "\n",
    "Imagine que você está trabalhando com um grande conjunto de dados de logs de um aplicativo web. Cada log contém informações como o timestamp, nível de log (INFO, ERROR, DEBUG), e uma mensagem. Usando os conceitos de programação funcional, implemente operações nesses logs, como filtrar por nível específico, extrair determinados campos ou transformar os dados de alguma maneira."
   ]
  },
  {
   "cell_type": "code",
   "execution_count": 1,
   "metadata": {},
   "outputs": [],
   "source": [
    "logs = [\n",
    "    {\"timestamp\": \"2021-01-01 10:00:00\", \"level\": \"ERROR\", \"message\": \"Falha na conexão\"},\n",
    "    {\"timestamp\": \"2021-01-01 10:05:00\", \"level\": \"INFO\", \"message\": \"Conexão estabelecida\"},\n",
    "    {\"timestamp\": \"2021-01-02 10:00:00\", \"level\": \"ERROR\", \"message\": \"Falha na conexão\"},\n",
    "    {\"timestamp\": \"2021-01-02 10:05:00\", \"level\": \"INFO\", \"message\": \"Conexão estabelecida\"},\n",
    "    {\"timestamp\": \"2021-01-03 10:00:00\", \"level\": \"ERROR\", \"message\": \"Falha na conexão\"},\n",
    "    {\"timestamp\": \"2021-01-03 10:05:00\", \"level\": \"INFO\", \"message\": \"Conexão estabelecida\"},\n",
    "    {\"timestamp\": \"2021-01-04 10:05:00\", \"level\": \"DEBUG\", \"message\": \"Teste conexão\"},\n",
    "    {\"timestamp\": \"2021-01-05 10:05:00\", \"level\": \"DEBUG\", \"message\": \"Teste conexão\"}\n",
    "]\n",
    "\n",
    "# Resultado esperado\n",
    "# Error Messages: ['Falha na conexão', 'Falha na conexão', 'Falha na conexão']\n",
    "# Debug Messages: ['Teste conexão', 'Teste conexão']\n",
    "# Info Messages: ['Conexão estabelecida', 'Conexão estabelecida', 'Conexão estabelecida']"
   ]
  },
  {
   "cell_type": "code",
   "execution_count": 2,
   "metadata": {},
   "outputs": [
    {
     "name": "stdout",
     "output_type": "stream",
     "text": [
      "Error Messages: [{'timestamp': '2021-01-01 10:00:00', 'level': 'ERROR', 'message': 'Falha na conexão'}, {'timestamp': '2021-01-02 10:00:00', 'level': 'ERROR', 'message': 'Falha na conexão'}, {'timestamp': '2021-01-03 10:00:00', 'level': 'ERROR', 'message': 'Falha na conexão'}]\n",
      "Debug Messages: [{'timestamp': '2021-01-04 10:05:00', 'level': 'DEBUG', 'message': 'Teste conexão'}, {'timestamp': '2021-01-05 10:05:00', 'level': 'DEBUG', 'message': 'Teste conexão'}]\n",
      "Info Messages: [{'timestamp': '2021-01-01 10:05:00', 'level': 'INFO', 'message': 'Conexão estabelecida'}, {'timestamp': '2021-01-02 10:05:00', 'level': 'INFO', 'message': 'Conexão estabelecida'}, {'timestamp': '2021-01-03 10:05:00', 'level': 'INFO', 'message': 'Conexão estabelecida'}]\n"
     ]
    }
   ],
   "source": [
    "logs_error = list(filter(lambda log: log['level'] == 'ERROR', logs))\n",
    "logs_debug = list(filter(lambda log: log['level'] == 'DEBUG', logs))\n",
    "logs_info = list(filter(lambda log: log['level'] == 'INFO', logs))\n",
    "print(\"Error Messages:\", logs_error)\n",
    "print(\"Debug Messages:\", logs_debug)\n",
    "print(\"Info Messages:\", logs_info)\n"
   ]
  },
  {
   "cell_type": "code",
   "execution_count": 3,
   "metadata": {},
   "outputs": [
    {
     "name": "stdout",
     "output_type": "stream",
     "text": [
      "Error Messages: 3\n",
      "Debug Messages: 2\n",
      "Info Messages: 3\n"
     ]
    }
   ],
   "source": [
    "from functools import reduce\n",
    "count_error = reduce(lambda count, log: count + 1 if log['level'] == 'ERROR' else count, logs, 0)\n",
    "count_debug = reduce(lambda count, log: count + 1 if log['level'] == 'DEBUG' else count, logs, 0)\n",
    "count_info = reduce(lambda count, log: count + 1 if log['level'] == 'INFO' else count, logs, 0)\n",
    "print(\"Error Messages:\", count_error)\n",
    "print(\"Debug Messages:\", count_debug)\n",
    "print(\"Info Messages:\", count_info)\n",
    "\n"
   ]
  },
  {
   "cell_type": "code",
   "execution_count": 4,
   "metadata": {},
   "outputs": [
    {
     "name": "stdout",
     "output_type": "stream",
     "text": [
      "Error Messages: ['Falha na conexão', 'Falha na conexão', 'Falha na conexão']\n",
      "Debug Messages: ['Teste conexão', 'Teste conexão']\n",
      "Info Messages: ['Conexão estabelecida', 'Conexão estabelecida', 'Conexão estabelecida']\n"
     ]
    }
   ],
   "source": [
    "error_messages = list(map(lambda log: log['message'], filter(lambda log: log['level'] == 'ERROR', logs)))\n",
    "debug_messages = list(map(lambda log: log['message'], filter(lambda log: log['level'] == 'DEBUG', logs)))\n",
    "info_messages = list(map(lambda log: log['message'], filter(lambda log: log['level'] == 'INFO', logs)))\n",
    "print(\"Error Messages:\", error_messages)\n",
    "print(\"Debug Messages:\", debug_messages)\n",
    "print(\"Info Messages:\", info_messages)"
   ]
  }
 ],
 "metadata": {
  "kernelspec": {
   "display_name": "Python 3",
   "language": "python",
   "name": "python3"
  },
  "language_info": {
   "codemirror_mode": {
    "name": "ipython",
    "version": 3
   },
   "file_extension": ".py",
   "mimetype": "text/x-python",
   "name": "python",
   "nbconvert_exporter": "python",
   "pygments_lexer": "ipython3",
   "version": "3.12.2"
  }
 },
 "nbformat": 4,
 "nbformat_minor": 2
}
