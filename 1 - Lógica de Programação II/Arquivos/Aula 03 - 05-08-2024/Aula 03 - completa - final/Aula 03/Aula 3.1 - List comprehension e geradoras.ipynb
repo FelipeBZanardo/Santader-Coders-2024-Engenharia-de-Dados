{
 "cells": [
  {
   "cell_type": "markdown",
   "metadata": {},
   "source": [
    "# Aula 3 | List comprehensions e expressões geradoras\n",
    "\n",
    "Nesta aula, vamos explorar conceitos de abrangência/compreensão de listas e expressões geradoras.\n",
    "\n",
    "**Nosso problema hoje**: Como fazer um programa que lê a quantidade de alunos e de provas realizadas por aluno pelo teclado, gera uma matriz de notas, calcula a média de cada aluno e gera uma lista informando quais alunos foram aprovados ou reprovados utilizando código \"idiomático\" em Python.\n",
    "\n",
    "__________"
   ]
  },
  {
   "cell_type": "markdown",
   "metadata": {},
   "source": [
    "## 1. List comprehensions\n",
    "\n",
    "As list comprehensions (compreensões de lista) são uma maneira concisa e eficiente de criar listas. Elas permitem criar novas listas transformando e filtrando elementos de uma sequência existente em uma **única linha de código.**"
   ]
  },
  {
   "cell_type": "markdown",
   "metadata": {},
   "source": [
    "Imagine que você tenhamos uma lista de números e queremos criar uma nova lista onde cada número é o quadrado do número original. Tradicionalmente, resolveríamos assim:"
   ]
  },
  {
   "cell_type": "markdown",
   "metadata": {},
   "source": [
    "Com list comprehensions podemos resumir o loop for em uma única linha.\n",
    "A sintaxe é:\n",
    "\n",
    "```python\n",
    "[operacao for item in lista_base]\n",
    "```"
   ]
  },
  {
   "cell_type": "markdown",
   "metadata": {},
   "source": [
    "![](img/list_comprehension1.png)"
   ]
  },
  {
   "cell_type": "code",
   "execution_count": null,
   "metadata": {},
   "outputs": [],
   "source": [
    "lista_base = [1, 2, 3, 4, 5]\n",
    "quadrados = []\n",
    "\n",
    "for n in lista_base:\n",
    "    quadrados.append(n*n)\n",
    "\n",
    "quadrados\n"
   ]
  },
  {
   "cell_type": "code",
   "execution_count": null,
   "metadata": {},
   "outputs": [],
   "source": [
    "quadrados = [n * n for n in lista_base]\n",
    "quadrados"
   ]
  },
  {
   "cell_type": "markdown",
   "metadata": {},
   "source": [
    "### 👉🏼 Exemplos de uso"
   ]
  },
  {
   "cell_type": "markdown",
   "metadata": {},
   "source": [
    "**Filtrando elementos:** criar uma lista apenas com números pares de outra lista.\n",
    "\n",
    "```python\n",
    "[operacao for item in lista_base if condicao]\n",
    "```"
   ]
  },
  {
   "cell_type": "markdown",
   "metadata": {},
   "source": [
    "![](img/list_comprehension2.png) "
   ]
  },
  {
   "cell_type": "code",
   "execution_count": null,
   "metadata": {},
   "outputs": [],
   "source": [
    "lista_base = [1, 2, 3, 4, 5]\n",
    "pares = []\n",
    "\n",
    "for n in lista_base:\n",
    "    if n % 2 == 0:\n",
    "        pares.append(n)\n",
    "\n",
    "pares"
   ]
  },
  {
   "cell_type": "code",
   "execution_count": null,
   "metadata": {},
   "outputs": [],
   "source": [
    "pares = [n for n in lista_base if n % 2 == 0]\n",
    "\n",
    "pares"
   ]
  },
  {
   "cell_type": "markdown",
   "metadata": {},
   "source": [
    "Se for necessário incluir o else na condição, a sintaxe muda um pouco:\n",
    "    \n",
    "```python\n",
    "[valor_caso_if if condicao else valor_caso_else for item in lista_base]\n",
    "```  "
   ]
  },
  {
   "cell_type": "markdown",
   "metadata": {},
   "source": [
    "![](img/list_comprehension3.png)\n",
    "\n",
    "Exemplo: dada uma lista de números, indicar para cada um deles se é par ou ímpar."
   ]
  },
  {
   "cell_type": "code",
   "execution_count": null,
   "metadata": {},
   "outputs": [],
   "source": [
    "par_ou_impar = []\n",
    "\n",
    "for n in range(1, 10):\n",
    "    if n % 2 == 0:\n",
    "        par_ou_impar.append(f\"{n} é par\")\n",
    "    else:\n",
    "        par_ou_impar.append(f\"{n} é impar\")\n",
    "\n",
    "par_ou_impar"
   ]
  },
  {
   "cell_type": "code",
   "execution_count": null,
   "metadata": {},
   "outputs": [],
   "source": [
    "par_ou_impar = [f\"{n} é par\" if n % 2 == 0 else f\"{n} é impar\" for n in range(1, 10)]\n",
    "par_ou_impar"
   ]
  },
  {
   "cell_type": "markdown",
   "metadata": {},
   "source": [
    "**Operações mais complexas:** aplicar uma função a cada elemento."
   ]
  },
  {
   "cell_type": "code",
   "execution_count": null,
   "metadata": {},
   "outputs": [],
   "source": [
    "nomes = [\"Beatriz\", \"Esaac\", \"Marcelo\", \"Diana\"]\n",
    "\n",
    "nomes_maiusculos = []\n",
    "\n",
    "for nome in nomes:\n",
    "    nomes_maiusculos.append(nome.upper())\n",
    "\n",
    "nomes_maiusculos"
   ]
  },
  {
   "cell_type": "code",
   "execution_count": null,
   "metadata": {},
   "outputs": [],
   "source": [
    "nomes_maiusculos = [nome.upper() for nome in nomes]\n",
    "nomes_maiusculos"
   ]
  },
  {
   "cell_type": "markdown",
   "metadata": {},
   "source": [
    "Ou também usando **loop for encadeados**. \n",
    "\n",
    "Exemplo: calcular a multiplicação entre os elementos de duas listas."
   ]
  },
  {
   "cell_type": "code",
   "execution_count": null,
   "metadata": {},
   "outputs": [],
   "source": [
    "l1 = [1, 2, 3, 4, 5, 6, 7, 8, 9, 10]\n",
    "l2 = [11, 12, 13, 14, 15]"
   ]
  },
  {
   "cell_type": "code",
   "execution_count": null,
   "metadata": {},
   "outputs": [],
   "source": [
    "for num1 in l1:\n",
    "    for num2 in l2:\n",
    "        print(num1 * num2)"
   ]
  },
  {
   "cell_type": "code",
   "execution_count": null,
   "metadata": {},
   "outputs": [],
   "source": [
    "[(num1 * num2) for num1 in l1 for num2 in l2]"
   ]
  },
  {
   "cell_type": "markdown",
   "metadata": {},
   "source": [
    "#### Dict comprehensions: também podemos fazer isso com dicionários!\n",
    "\n",
    "Elas funcionam de maneira semelhante às list comprehensions, mas produzem dicionários ao invés de listas. \n",
    "\n",
    "Exemplos:"
   ]
  },
  {
   "cell_type": "markdown",
   "metadata": {},
   "source": [
    "**Criar um dicionário com chaves e valores quadrados:** suponha que você queira criar um dicionário onde as chaves são números e os valores são os quadrados desses números."
   ]
  },
  {
   "cell_type": "code",
   "execution_count": null,
   "metadata": {},
   "outputs": [],
   "source": [
    "quadrados = {x: x*x for x in range(10)}\n",
    "quadrados"
   ]
  },
  {
   "cell_type": "markdown",
   "metadata": {},
   "source": [
    "**Inverter chave e valor de um dicionário**:"
   ]
  },
  {
   "cell_type": "code",
   "execution_count": null,
   "metadata": {},
   "outputs": [],
   "source": [
    "dict1 = {'Beatriz': 12343, 'Eduardo': 342342, 'Marcelo': 5345345, 'Nara': 12545345}\n",
    "\n",
    "dict_invertido = {valor: chave for chave, valor in dict1.items()}\n",
    "print(dict1)\n",
    "print(dict_invertido)"
   ]
  },
  {
   "cell_type": "code",
   "execution_count": null,
   "metadata": {},
   "outputs": [],
   "source": [
    "{valor: chave for chave, valor in dict1.items()}"
   ]
  },
  {
   "cell_type": "markdown",
   "metadata": {},
   "source": [
    "Em resumo:\n",
    "\n",
    "- **Menos código**: reduzem a quantidade de código necessária para criar uma nova lista.\n",
    "- **Mais legível**: quando usadas adequadamente, podem ser mais fáceis de entender do que loops tradicionais.\n",
    "- **Eficiência**: frequentemente, são mais eficientes em termos de desempenho do que os loops regulares."
   ]
  },
  {
   "cell_type": "markdown",
   "metadata": {},
   "source": [
    "### 👩‍💻 Mão na massa"
   ]
  },
  {
   "cell_type": "markdown",
   "metadata": {},
   "source": [
    "#### Desafio 1\n",
    "\n",
    "Remova todas as vogais de uma dada string utilizando compreensões de lista.\n",
    "\n",
    "Por exemplo em:  \n",
    "`\"banana\"`\n",
    "O retorno deve ser:  \n",
    "`\"bnn\"`\n",
    "\n",
    "> Lembre-se da operação `\"\".join()`"
   ]
  },
  {
   "cell_type": "code",
   "execution_count": null,
   "metadata": {},
   "outputs": [],
   "source": [
    "string = 'banana'\n",
    "\n",
    "vogais = ['a', 'e', 'i', 'o', 'u']\n",
    "\n",
    "string_sem_vogal = \"bnn\".join([letra for letra in string if letra not in vogais])\n",
    "print(string_sem_vogal)"
   ]
  },
  {
   "cell_type": "code",
   "execution_count": null,
   "metadata": {},
   "outputs": [],
   "source": [
    "[letra for letra in string if letra not in vogais]"
   ]
  },
  {
   "cell_type": "code",
   "execution_count": null,
   "metadata": {},
   "outputs": [],
   "source": [
    "entrada = 'banana'\n",
    "vogais = \"aeiouAEIOU\"\n",
    "resultado = \"\".join([char for char in entrada if char not in vogais])\n",
    "print(resultado)"
   ]
  },
  {
   "cell_type": "markdown",
   "metadata": {},
   "source": [
    "#### Desafio 2\n",
    "\n",
    "Crie um novo dicionário onde a chave é o nome e o valor a quantidade de caracteres do nome.\n",
    "\n",
    "> Exemplo de resuldado: {'ana': 3, 'bruno': 5, 'carla': 5}"
   ]
  },
  {
   "cell_type": "code",
   "execution_count": null,
   "metadata": {},
   "outputs": [],
   "source": [
    "nomes = [\"Marcelo\", \"Sarah\", \"Alice\", \"Lauro\"]\n",
    "\n",
    "dicio = {nome: len(nome) for nome in nomes}\n",
    "dicio"
   ]
  },
  {
   "cell_type": "code",
   "execution_count": null,
   "metadata": {},
   "outputs": [],
   "source": [
    "dicio = {}\n",
    "\n",
    "while True:\n",
    "  nome = input('Digite um nome (vazio para finalizar): ')\n",
    "\n",
    "  if nome == \"\":\n",
    "    break\n",
    "\n",
    "  dicio[nome] = len(nome)\n",
    "\n",
    "print(dicio)"
   ]
  },
  {
   "cell_type": "code",
   "execution_count": null,
   "metadata": {},
   "outputs": [],
   "source": [
    "nomes = ['Ana', 'Joao', 'Maria', 'Renan']\n",
    "\n",
    "dic_nome = {nome: len(nome) for nome in nomes}\n",
    "\n",
    "print(dic_nome)"
   ]
  },
  {
   "cell_type": "markdown",
   "metadata": {},
   "source": [
    "## 2. Expressões geradoras\n",
    "\n",
    "As expressões geradoras são uma maneira compacta de criar **iteradores**. Elas são semelhantes às compreensões de listas, mas, ao invés de construir uma lista inteira de uma vez, elas geram os elementos **sob demanda**. \n",
    "\n",
    "Isso as torna mais eficientes em termos de memória para grandes conjuntos de dados.\n",
    "\n",
    "- Sintaxe: uma expressão geradora é escrita de forma similar a uma compreensão de lista, mas usa parênteses () ao invés de colchetes [].\n",
    "\n",
    "- Preguiçosa: ela não computa os valores de uma só vez; em vez disso, **gera um item por vez**, apenas quando solicitado. Isso é conhecido como avaliação preguiçosa (lazy evaluation)."
   ]
  },
  {
   "cell_type": "code",
   "execution_count": null,
   "metadata": {},
   "outputs": [],
   "source": [
    "colchetes = {x: x + 1 for x in range (5)}\n",
    "print(type(colchetes))\n",
    "colchetes"
   ]
  },
  {
   "cell_type": "code",
   "execution_count": null,
   "metadata": {},
   "outputs": [],
   "source": [
    "colchetes = [x + 1 for x in range (5)]\n",
    "print(type(colchetes))\n",
    "colchetes"
   ]
  },
  {
   "cell_type": "code",
   "execution_count": null,
   "metadata": {},
   "outputs": [],
   "source": [
    "parenteses = (x + 1 for x in range (5))\n",
    "parenteses"
   ]
  },
  {
   "cell_type": "code",
   "execution_count": null,
   "metadata": {},
   "outputs": [],
   "source": [
    "type(parenteses)"
   ]
  },
  {
   "cell_type": "markdown",
   "metadata": {},
   "source": [
    "Exemplo: vamos usar uma expressão geradora para somar elementos "
   ]
  },
  {
   "cell_type": "code",
   "execution_count": null,
   "metadata": {},
   "outputs": [],
   "source": [
    "sum(parenteses)"
   ]
  },
  {
   "cell_type": "markdown",
   "metadata": {},
   "source": [
    "O que acontece se eu tentar usar essa variável gerador ```n``` outra vez?"
   ]
  },
  {
   "cell_type": "code",
   "execution_count": null,
   "metadata": {},
   "outputs": [],
   "source": [
    "n = (n * n for n in range(20))\n",
    "print(n)"
   ]
  },
  {
   "cell_type": "code",
   "execution_count": null,
   "metadata": {},
   "outputs": [],
   "source": [
    "print(id(n))\n",
    "print(type(n))"
   ]
  },
  {
   "cell_type": "code",
   "execution_count": null,
   "metadata": {},
   "outputs": [],
   "source": [
    "print(type(n))\n",
    "print(sum(n))"
   ]
  },
  {
   "cell_type": "code",
   "execution_count": null,
   "metadata": {},
   "outputs": [],
   "source": [
    "print(sum(n))\n",
    "print(type(n))"
   ]
  },
  {
   "cell_type": "code",
   "execution_count": null,
   "metadata": {},
   "outputs": [],
   "source": [
    "print(id(n))\n",
    "print(type(n))"
   ]
  },
  {
   "cell_type": "code",
   "execution_count": null,
   "metadata": {},
   "outputs": [],
   "source": [
    "print(type(n))\n",
    "print(max(n))"
   ]
  },
  {
   "cell_type": "markdown",
   "metadata": {},
   "source": [
    "📌 Isso ocorreu porque tentamos usar a expressão geradora ```n``` duas vezes: primeiro com a função sum(n) e depois com max(n).\n",
    "\n",
    "**As expressões geradoras são iteradores que podem ser percorridos apenas uma vez.**\n",
    "\n",
    "Isso significa que, depois de serem percorridos, eles ficam **esgotados** e não podem ser usados novamente. Quando você chamamos sum(n), a expressão geradora n foi totalmente consumida para calcular a soma dos quadrados dos números de 0 a 9. Depois disso, n ficou vazio."
   ]
  },
  {
   "cell_type": "markdown",
   "metadata": {},
   "source": [
    "#### Iteradores _versus_ iteráveis\n",
    "\n",
    "- Iterável é **algo que pode ser percorrido** em um loop _(listas, tuplas, dicionários, strings e arquivos são todos exemplos de iteráveis)._\n",
    "- Iterador é um objeto que representa um fluxo de dados, é o **agente que realiza a iteração** mantendo o estado do progresso atual."
   ]
  },
  {
   "cell_type": "markdown",
   "metadata": {},
   "source": [
    "![](https://media.giphy.com/media/3LrK7Q7UhF5MnhZ5ja/giphy.gif)"
   ]
  },
  {
   "cell_type": "markdown",
   "metadata": {},
   "source": [
    "## 3. Funções geradoras\n",
    "\n",
    "Funções geradoras nos permitem declarar uma função que se comporta como um iterador, ou seja, ela pode ser usada em loops e pode gerar uma sequência de valores ao longo do tempo, em vez de calcular e retornar todos os valores de uma vez.\n",
    "\n",
    "- Uso da palavra-chave yield: ao contrário de funções regulares que usam return para retornar um valor, as funções geradoras utilizam **yield**. Cada vez que a função geradora encontra um yield, ela retorna o valor especificado e \"pausa\" sua execução, mantendo o estado atual. Na próxima iteração, ela continua de onde parou.\n",
    "\n",
    "- Eficiência de memória: são úteis quando você está lidando com uma grande quantidade de dados ou uma sequência infinita, pois **elas geram os valores sob demanda** e não armazenam toda a sequência na memória.\n",
    "\n",
    "- Iterável: **retorna um objeto que é iterável**, o que significa que podemos usá-lo em um loop for, ou em qualquer lugar onde iteradores são aceitos."
   ]
  },
  {
   "cell_type": "code",
   "execution_count": null,
   "metadata": {},
   "outputs": [],
   "source": [
    "contagem = [1, 2, 3, 4, 5, 6]\n",
    "contador = 1\n",
    "list([1, 2, 3, 4, 5, 6])\n",
    "for n in contagem:\n",
    "    contador += 1\n",
    "\n",
    "print(contagem)\n",
    "print(contador)"
   ]
  },
  {
   "cell_type": "code",
   "execution_count": null,
   "metadata": {},
   "outputs": [],
   "source": [
    "def conta_ate(valor_maximo):\n",
    "    contador = 1\n",
    "    while contador <= valor_maximo:\n",
    "        contador += 1\n",
    "    return [contador]\n",
    "\n",
    "for n in conta_ate(10):\n",
    "    print(n)"
   ]
  },
  {
   "cell_type": "code",
   "execution_count": null,
   "metadata": {},
   "outputs": [],
   "source": [
    "def conta_ate(valor_maximo):\n",
    "    contador = 1\n",
    "    while contador <= valor_maximo:\n",
    "        yield contador\n",
    "        contador += 1\n",
    "\n",
    "for n in conta_ate(10):\n",
    "    print(n)"
   ]
  },
  {
   "cell_type": "code",
   "execution_count": null,
   "metadata": {},
   "outputs": [],
   "source": [
    "iterador = conta_ate(10)\n",
    "for i in iterador:\n",
    "    print(i)"
   ]
  },
  {
   "cell_type": "code",
   "execution_count": null,
   "metadata": {},
   "outputs": [],
   "source": [
    "def conta_ate(valor_maximo):\n",
    "    c = []\n",
    "    contador = 1\n",
    "    while contador <= valor_maximo:\n",
    "        # yield contador\n",
    "        c.append(contador)\n",
    "        contador += 1\n",
    "    return c\n",
    "\n",
    "for n in conta_ate(10):\n",
    "    print(n)"
   ]
  },
  {
   "cell_type": "code",
   "execution_count": null,
   "metadata": {},
   "outputs": [],
   "source": [
    "c = conta_ate(10)\n",
    "print(c)\n",
    "for v in c:\n",
    "    print(v)"
   ]
  },
  {
   "cell_type": "markdown",
   "metadata": {},
   "source": [
    "Gerador simples:"
   ]
  },
  {
   "cell_type": "code",
   "execution_count": 2,
   "metadata": {},
   "outputs": [
    {
     "name": "stdout",
     "output_type": "stream",
     "text": [
      "inicio\n",
      "contador pre: 1\n",
      "1\n",
      "contador apos: 2\n",
      "contador pre: 2\n",
      "2\n",
      "contador apos: 3\n",
      "contador pre: 3\n",
      "3\n",
      "contador apos: 4\n",
      "contador pre: 4\n",
      "4\n",
      "contador apos: 5\n",
      "contador pre: 5\n",
      "5\n",
      "contador apos: 6\n",
      "contador pre: 6\n",
      "6\n",
      "contador apos: 7\n",
      "contador pre: 7\n",
      "7\n",
      "contador apos: 8\n",
      "contador pre: 8\n",
      "8\n",
      "contador apos: 9\n",
      "contador pre: 9\n",
      "9\n",
      "contador apos: 10\n",
      "contador pre: 10\n",
      "10\n",
      "contador apos: 11\n",
      "Fim\n"
     ]
    }
   ],
   "source": [
    "def conta_ate(valor_maximo):\n",
    "    contador = 1\n",
    "    while contador <= valor_maximo:\n",
    "        print(f\"contador pre: {contador}\")\n",
    "        yield contador\n",
    "        contador += 1\n",
    "        print(f\"contador apos: {contador}\")\n",
    "\n",
    "contador_iter = conta_ate(10)\n",
    "\n",
    "print('inicio')\n",
    "while True:\n",
    "    n = next(contador_iter, None)\n",
    "    if n is None:\n",
    "        print('Fim')\n",
    "        break\n",
    "    print(n)\n",
    "    "
   ]
  },
  {
   "cell_type": "markdown",
   "metadata": {},
   "source": [
    "## 🙃 Voltando ao problema inicial da aula\n",
    "**Nosso problema hoje**: Como fazer um programa que lê a quantidade de alunos e de provas realizadas por aluno pelo teclado, gera uma matriz de notas, calcula a média de cada aluno e gera uma lista informando quais alunos foram aprovados ou reprovados utilizando código \"idiomático\" em Python."
   ]
  },
  {
   "cell_type": "code",
   "execution_count": 3,
   "metadata": {},
   "outputs": [
    {
     "name": "stdout",
     "output_type": "stream",
     "text": [
      "Lista de alunos com suas notas: {'lauro': [10.0, 10.0, 10.0], 'Beatriz': [10.0, 8.0, 6.0]}\n",
      "Média por aluno: {'lauro': 10.0, 'Beatriz': 8.0}\n",
      "Alunos aprovados: ['Beatriz', 'Beatriz']\n",
      "Alunos reprovados: []\n"
     ]
    }
   ],
   "source": [
    "dici_aluno = {}\n",
    "\n",
    "nome = str(input('Digite o nome do aluno, \"f\" para finalizar:' ))\n",
    "nota = []\n",
    "while nome != \"f\".lower():\n",
    "    dici_aluno[nome] = []\n",
    "    for nota in range(1,4):\n",
    "        nota = float(input(f'Digite a {nota}ª nota: '))\n",
    "        dici_aluno[nome].append(nota)\n",
    "    nome = str(input('Digite o nome do aluno, \"f\" para finalizar:' ))\n",
    "\n",
    "dici_medias = {}\n",
    "for nome, nota in dici_aluno.items():\n",
    "    dici_medias[nome] = sum(nota)/len(nota)\n",
    "\n",
    "aprovados = []\n",
    "reprovados = []\n",
    "for i in dici_medias:\n",
    "    if dici_medias[nome] >= 7.0:\n",
    "        aprovados.append(nome)\n",
    "    else:\n",
    "        reprovados.append(nome)\n",
    "\n",
    "print(f'Lista de alunos com suas notas: {dici_aluno}')\n",
    "print(f'Média por aluno: {dici_medias}')\n",
    "print(f'Alunos aprovados: {aprovados}')\n",
    "print(f'Alunos reprovados: {reprovados}')"
   ]
  },
  {
   "cell_type": "code",
   "execution_count": 4,
   "metadata": {},
   "outputs": [
    {
     "name": "stdout",
     "output_type": "stream",
     "text": [
      "Aluno 1: Aprovado\n",
      "Aluno 2: Reprovado\n"
     ]
    }
   ],
   "source": [
    "num_alunos = int(input(\"Digite a quantidade de alunos: \"))\n",
    "num_provas = int(input(\"Digite a quantidade de provas realizadas por aluno: \"))\n",
    "\n",
    "matriz_notas = [\n",
    "    [float(input(f\"Digite a nota do aluno {i+1} na prova {j+1}: \")) for j in range(num_provas)]\n",
    "    for i in range(num_alunos)\n",
    "]\n",
    "\n",
    "medias = [sum(notas) / num_provas for notas in matriz_notas]\n",
    "\n",
    "media_aprovacao = 7.0\n",
    "\n",
    "resultados = [\n",
    "    \"Aprovado\" if media >= media_aprovacao else \"Reprovado\"\n",
    "    for media in medias\n",
    "]\n",
    "\n",
    "for i, resultado in enumerate(resultados):\n",
    "    print(f\"Aluno {i+1}: {resultado}\")\n"
   ]
  },
  {
   "cell_type": "code",
   "execution_count": null,
   "metadata": {},
   "outputs": [],
   "source": []
  },
  {
   "cell_type": "code",
   "execution_count": null,
   "metadata": {},
   "outputs": [],
   "source": []
  }
 ],
 "metadata": {
  "kernelspec": {
   "display_name": "Python 3",
   "language": "python",
   "name": "python3"
  },
  "language_info": {
   "codemirror_mode": {
    "name": "ipython",
    "version": 3
   },
   "file_extension": ".py",
   "mimetype": "text/x-python",
   "name": "python",
   "nbconvert_exporter": "python",
   "pygments_lexer": "ipython3",
   "version": "3.12.2"
  }
 },
 "nbformat": 4,
 "nbformat_minor": 2
}
