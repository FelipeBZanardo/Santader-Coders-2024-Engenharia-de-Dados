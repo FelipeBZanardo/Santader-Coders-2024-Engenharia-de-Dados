{
 "cells": [
  {
   "cell_type": "markdown",
   "metadata": {},
   "source": [
    "# Aula 3 | Exercícios de list comprehension e expressões geradoras"
   ]
  },
  {
   "cell_type": "markdown",
   "metadata": {},
   "source": [
    "### Questão 1\n",
    "\n",
    "Dada uma lista de nomes, crie uma nova lista que contenha apenas os nomes que têm mais de 5 letras. Use list comprehension."
   ]
  },
  {
   "cell_type": "markdown",
   "metadata": {},
   "source": [
    "### Questão 2"
   ]
  },
  {
   "cell_type": "markdown",
   "metadata": {},
   "source": [
    "Coloque em uma lista todos os números entre 1 e 1000 que sejam divisiveis por N, sendo N um número recebido no *standard input*;"
   ]
  },
  {
   "cell_type": "markdown",
   "metadata": {},
   "source": [
    "### Questão 3\n",
    "\n",
    "Crie uma lista chamada frases com várias frases em formato de string. \n",
    "\n",
    "Use list comprehension para criar uma nova lista chamada palavras que contenha todas as palavras das frases. Considere que as palavras são separadas por espaços em branco ou pontuações."
   ]
  },
  {
   "cell_type": "markdown",
   "metadata": {},
   "source": [
    "### Questão 4\n",
    "\n",
    "Escreva uma expressão geradora que gere todos os números primos menores que 100."
   ]
  },
  {
   "cell_type": "markdown",
   "metadata": {},
   "source": [
    "### Questão 5\n",
    "\n",
    "Receba uma frase pelo *standard input* e salve apenas os números encontrados nesta frase em uma lista;"
   ]
  },
  {
   "cell_type": "markdown",
   "metadata": {},
   "source": [
    "### Questão 6\n",
    "\n",
    "Suponha que você tem uma lista de nomes de frutas e uma lista correspondente de preços dessas frutas em reais. \n",
    "\n",
    "Crie um dicionário chamado _precos_frutas_ usando dict comprehension, onde as chaves são os nomes das frutas e os valores são os preços correspondentes.\n",
    "\n",
    "Dica: Use as listas abaixo como entrada para criar o dicionário:\n",
    "\n",
    "> frutas = ['maçã', 'banana', 'laranja', 'uva']\n",
    "\n",
    "> precos = [2.0, 1.5, 3.0, 4.0]\n"
   ]
  }
 ],
 "metadata": {
  "kernelspec": {
   "display_name": "Python 3",
   "language": "python",
   "name": "python3"
  },
  "language_info": {
   "codemirror_mode": {
    "name": "ipython",
    "version": 3
   },
   "file_extension": ".py",
   "mimetype": "text/x-python",
   "name": "python",
   "nbconvert_exporter": "python",
   "pygments_lexer": "ipython3",
   "version": "3.11.2"
  }
 },
 "nbformat": 4,
 "nbformat_minor": 2
}
