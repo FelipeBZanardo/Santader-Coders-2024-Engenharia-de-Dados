{
 "cells": [
  {
   "cell_type": "markdown",
   "metadata": {},
   "source": [
    "# Aula 3 | List comprehensions e expressões geradoras\n",
    "\n",
    "Nesta aula, vamos explorar conceitos de abrangência/compreensão de listas e expressões geradoras.\n",
    "\n",
    "**Nosso problema hoje**: Como fazer um programa que lê a quantidade de alunos e de provas realizadas por aluno pelo teclado, gera uma matriz de notas, calcula a média de cada aluno e gera uma lista informando quais alunos foram aprovados ou reprovados utilizando código \"idiomático\" em Python.\n",
    "\n",
    "__________"
   ]
  },
  {
   "cell_type": "markdown",
   "metadata": {},
   "source": [
    "## 1. List comprehensions\n",
    "\n",
    "As list comprehensions (compreensões de lista) são uma maneira concisa e eficiente de criar listas. Elas permitem criar novas listas transformando e filtrando elementos de uma sequência existente em uma **única linha de código.**"
   ]
  },
  {
   "cell_type": "markdown",
   "metadata": {},
   "source": [
    "Imagine que você tenhamos uma lista de números e queremos criar uma nova lista onde cada número é o quadrado do número original. Tradicionalmente, resolveríamos assim:"
   ]
  },
  {
   "cell_type": "markdown",
   "metadata": {},
   "source": [
    "Com list comprehensions podemos resumir o loop for em uma única linha.\n",
    "A sintaxe é:\n",
    "\n",
    "```python\n",
    "[operacao for item in lista_base]\n",
    "```"
   ]
  },
  {
   "cell_type": "markdown",
   "metadata": {},
   "source": [
    "![](img/list_comprehension1.png)"
   ]
  },
  {
   "cell_type": "code",
   "execution_count": null,
   "metadata": {},
   "outputs": [],
   "source": []
  },
  {
   "cell_type": "code",
   "execution_count": null,
   "metadata": {},
   "outputs": [],
   "source": []
  },
  {
   "cell_type": "markdown",
   "metadata": {},
   "source": [
    "### 👉🏼 Exemplos de uso"
   ]
  },
  {
   "cell_type": "markdown",
   "metadata": {},
   "source": [
    "**Filtrando elementos:** criar uma lista apenas com números pares de outra lista.\n",
    "\n",
    "```python\n",
    "[operacao for item in lista_base if condicao]\n",
    "```"
   ]
  },
  {
   "cell_type": "markdown",
   "metadata": {},
   "source": [
    "![](img/list_comprehension2.png) "
   ]
  },
  {
   "cell_type": "code",
   "execution_count": null,
   "metadata": {},
   "outputs": [],
   "source": []
  },
  {
   "cell_type": "code",
   "execution_count": null,
   "metadata": {},
   "outputs": [],
   "source": []
  },
  {
   "cell_type": "markdown",
   "metadata": {},
   "source": [
    "Se for necessário incluir o else na condição, a sintaxe muda um pouco:\n",
    "    \n",
    "```python\n",
    "[valor_caso_if if condicao else valor_caso_else for item in lista_base]\n",
    "```  "
   ]
  },
  {
   "cell_type": "markdown",
   "metadata": {},
   "source": [
    "![](img/list_comprehension3.png)\n",
    "\n",
    "Exemplo: dada uma lista de números, indicar para cada um deles se é par ou ímpar."
   ]
  },
  {
   "cell_type": "code",
   "execution_count": null,
   "metadata": {},
   "outputs": [],
   "source": []
  },
  {
   "cell_type": "code",
   "execution_count": null,
   "metadata": {},
   "outputs": [],
   "source": []
  },
  {
   "cell_type": "markdown",
   "metadata": {},
   "source": [
    "**Operações mais complexas:** aplicar uma função a cada elemento."
   ]
  },
  {
   "cell_type": "code",
   "execution_count": null,
   "metadata": {},
   "outputs": [],
   "source": []
  },
  {
   "cell_type": "markdown",
   "metadata": {},
   "source": [
    "Ou também usando **loop for encadeados**. \n",
    "\n",
    "Exemplo: calcular a multiplicação entre os elementos de duas listas."
   ]
  },
  {
   "cell_type": "code",
   "execution_count": null,
   "metadata": {},
   "outputs": [],
   "source": []
  },
  {
   "cell_type": "markdown",
   "metadata": {},
   "source": [
    "#### Dict comprehensions: também podemos fazer isso com dicionários!\n",
    "\n",
    "Elas funcionam de maneira semelhante às list comprehensions, mas produzem dicionários ao invés de listas. \n",
    "\n",
    "Exemplos:"
   ]
  },
  {
   "cell_type": "markdown",
   "metadata": {},
   "source": [
    "**Criar um dicionário com chaves e valores quadrados:** suponha que você queira criar um dicionário onde as chaves são números e os valores são os quadrados desses números."
   ]
  },
  {
   "cell_type": "code",
   "execution_count": null,
   "metadata": {},
   "outputs": [],
   "source": []
  },
  {
   "cell_type": "markdown",
   "metadata": {},
   "source": [
    "**Inverter chave e valor de um dicionário**:"
   ]
  },
  {
   "cell_type": "code",
   "execution_count": null,
   "metadata": {},
   "outputs": [],
   "source": []
  },
  {
   "cell_type": "markdown",
   "metadata": {},
   "source": [
    "Em resumo:\n",
    "\n",
    "- **Menos código**: reduzem a quantidade de código necessária para criar uma nova lista.\n",
    "- **Mais legível**: quando usadas adequadamente, podem ser mais fáceis de entender do que loops tradicionais.\n",
    "- **Eficiência**: frequentemente, são mais eficientes em termos de desempenho do que os loops regulares."
   ]
  },
  {
   "cell_type": "markdown",
   "metadata": {},
   "source": [
    "### 👩‍💻 Mão na massa"
   ]
  },
  {
   "cell_type": "markdown",
   "metadata": {},
   "source": [
    "#### Desafio 1\n",
    "\n",
    "Remova todas as vogais de uma dada string utilizando compreensões de lista.\n",
    "\n",
    "Por exemplo em:  \n",
    "`\"banana\"`\n",
    "O retorno deve ser:  \n",
    "`\"bnn\"`\n",
    "\n",
    "> Lembre-se da operação `\"\".join()`"
   ]
  },
  {
   "cell_type": "code",
   "execution_count": null,
   "metadata": {},
   "outputs": [],
   "source": []
  },
  {
   "cell_type": "markdown",
   "metadata": {},
   "source": [
    "#### Desafio 2\n",
    "\n",
    "Crie um novo dicionário onde a chave é o nome e o valor a quantidade de caracteres do nome.\n",
    "\n",
    "> Exemplo de resuldado: {'ana': 3, 'bruno': 5, 'carla': 5}"
   ]
  },
  {
   "cell_type": "markdown",
   "metadata": {},
   "source": [
    "## 2. Expressões geradoras\n",
    "\n",
    "As expressões geradoras são uma maneira compacta de criar **iteradores**. Elas são semelhantes às compreensões de listas, mas, ao invés de construir uma lista inteira de uma vez, elas geram os elementos **sob demanda**. \n",
    "\n",
    "Isso as torna mais eficientes em termos de memória para grandes conjuntos de dados.\n",
    "\n",
    "- Sintaxe: uma expressão geradora é escrita de forma similar a uma compreensão de lista, mas usa parênteses () ao invés de colchetes [].\n",
    "\n",
    "- Preguiçosa: ela não computa os valores de uma só vez; em vez disso, **gera um item por vez**, apenas quando solicitado. Isso é conhecido como avaliação preguiçosa (lazy evaluation)."
   ]
  },
  {
   "cell_type": "code",
   "execution_count": null,
   "metadata": {},
   "outputs": [],
   "source": []
  },
  {
   "cell_type": "code",
   "execution_count": null,
   "metadata": {},
   "outputs": [],
   "source": []
  },
  {
   "cell_type": "markdown",
   "metadata": {},
   "source": [
    "Exemplo: vamos usar uma expressão geradora para somar elementos "
   ]
  },
  {
   "cell_type": "code",
   "execution_count": null,
   "metadata": {},
   "outputs": [],
   "source": []
  },
  {
   "cell_type": "markdown",
   "metadata": {},
   "source": [
    "O que acontece se eu tentar usar essa variável gerador ```n``` outra vez?"
   ]
  },
  {
   "cell_type": "code",
   "execution_count": null,
   "metadata": {},
   "outputs": [],
   "source": []
  },
  {
   "cell_type": "code",
   "execution_count": null,
   "metadata": {},
   "outputs": [],
   "source": []
  },
  {
   "cell_type": "code",
   "execution_count": null,
   "metadata": {},
   "outputs": [],
   "source": []
  },
  {
   "cell_type": "markdown",
   "metadata": {},
   "source": [
    "📌 Isso ocorreu porque tentamos usar a expressão geradora ```n``` duas vezes: primeiro com a função sum(n) e depois com max(n).\n",
    "\n",
    "**As expressões geradoras são iteradores que podem ser percorridos apenas uma vez.**\n",
    "\n",
    "Isso significa que, depois de serem percorridos, eles ficam **esgotados** e não podem ser usados novamente. Quando você chamamos sum(n), a expressão geradora n foi totalmente consumida para calcular a soma dos quadrados dos números de 0 a 9. Depois disso, n ficou vazio."
   ]
  },
  {
   "cell_type": "markdown",
   "metadata": {},
   "source": [
    "#### Iteradores _versus_ iteráveis\n",
    "\n",
    "- Iterável é **algo que pode ser percorrido** em um loop _(listas, tuplas, dicionários, strings e arquivos são todos exemplos de iteráveis)._\n",
    "- Iterador é um objeto que representa um fluxo de dados, é o **agente que realiza a iteração** mantendo o estado do progresso atual."
   ]
  },
  {
   "cell_type": "markdown",
   "metadata": {},
   "source": [
    "![](https://media.giphy.com/media/3LrK7Q7UhF5MnhZ5ja/giphy.gif)"
   ]
  },
  {
   "cell_type": "markdown",
   "metadata": {},
   "source": [
    "## 3. Funções geradoras\n",
    "\n",
    "Funções geradoras nos permitem declarar uma função que se comporta como um iterador, ou seja, ela pode ser usada em loops e pode gerar uma sequência de valores ao longo do tempo, em vez de calcular e retornar todos os valores de uma vez.\n",
    "\n",
    "- Uso da palavra-chave yield: ao contrário de funções regulares que usam return para retornar um valor, as funções geradoras utilizam **yield**. Cada vez que a função geradora encontra um yield, ela retorna o valor especificado e \"pausa\" sua execução, mantendo o estado atual. Na próxima iteração, ela continua de onde parou.\n",
    "\n",
    "- Eficiência de memória: são úteis quando você está lidando com uma grande quantidade de dados ou uma sequência infinita, pois **elas geram os valores sob demanda** e não armazenam toda a sequência na memória.\n",
    "\n",
    "- Iterável: **retorna um objeto que é iterável**, o que significa que podemos usá-lo em um loop for, ou em qualquer lugar onde iteradores são aceitos."
   ]
  },
  {
   "cell_type": "code",
   "execution_count": null,
   "metadata": {},
   "outputs": [],
   "source": []
  },
  {
   "cell_type": "code",
   "execution_count": null,
   "metadata": {},
   "outputs": [],
   "source": []
  },
  {
   "cell_type": "code",
   "execution_count": null,
   "metadata": {},
   "outputs": [],
   "source": []
  },
  {
   "cell_type": "markdown",
   "metadata": {},
   "source": [
    "Gerador simples:"
   ]
  },
  {
   "cell_type": "markdown",
   "metadata": {},
   "source": [
    "## 🙃 Voltando ao problema inicial da aula\n",
    "**Nosso problema hoje**: Como fazer um programa que lê a quantidade de alunos e de provas realizadas por aluno pelo teclado, gera uma matriz de notas, calcula a média de cada aluno e gera uma lista informando quais alunos foram aprovados ou reprovados utilizando código \"idiomático\" em Python."
   ]
  },
  {
   "cell_type": "code",
   "execution_count": null,
   "metadata": {},
   "outputs": [],
   "source": []
  },
  {
   "cell_type": "code",
   "execution_count": null,
   "metadata": {},
   "outputs": [],
   "source": []
  },
  {
   "cell_type": "code",
   "execution_count": null,
   "metadata": {},
   "outputs": [],
   "source": []
  },
  {
   "cell_type": "code",
   "execution_count": null,
   "metadata": {},
   "outputs": [],
   "source": []
  }
 ],
 "metadata": {
  "kernelspec": {
   "display_name": "Python 3",
   "language": "python",
   "name": "python3"
  },
  "language_info": {
   "codemirror_mode": {
    "name": "ipython",
    "version": 3
   },
   "file_extension": ".py",
   "mimetype": "text/x-python",
   "name": "python",
   "nbconvert_exporter": "python",
   "pygments_lexer": "ipython3",
   "version": "3.11.2"
  }
 },
 "nbformat": 4,
 "nbformat_minor": 2
}
