{
 "cells": [
  {
   "cell_type": "markdown",
   "metadata": {},
   "source": [
    "# Aula 1 | Exercícios de listas e tuplas"
   ]
  },
  {
   "cell_type": "markdown",
   "metadata": {},
   "source": [
    "### Questão 1\n",
    "Crie uma lista vazia chamada frutas. Adicione três frutas à lista e, em seguida, imprima a lista."
   ]
  },
  {
   "cell_type": "markdown",
   "metadata": {},
   "source": [
    "### Questão 2\n",
    "\n",
    "Dada a lista numeros = [1, 2, 3, 4, 5], escreva um programa para calcular a soma de todos os números na lista."
   ]
  },
  {
   "cell_type": "markdown",
   "metadata": {},
   "source": [
    "### Questão 3\n",
    "\n",
    "Crie uma tupla chamada meses contendo os nomes dos meses do ano. Peça ao usuário para digitar um número de 1 a 12 e imprima o mês correspondente. Lembre-se de tratar casos inválidos."
   ]
  },
  {
   "cell_type": "markdown",
   "metadata": {},
   "source": [
    "### Questão 4 \n",
    "\n",
    "Dada uma lista de números, crie uma nova lista chamada squared que contenha o quadrado de cada número da lista original."
   ]
  },
  {
   "cell_type": "markdown",
   "metadata": {},
   "source": [
    "### Questão 5\n",
    "\n",
    "Escreva um programa que recebe uma lista de palavras e retorna a lista apenas com as palavras que começam com a letra 'a'. Use uma função para fazer isso."
   ]
  },
  {
   "cell_type": "markdown",
   "metadata": {},
   "source": [
    "### Questão 6\n",
    "\n",
    "Considere a lista [(4, 5), (4, ), (8, 6, 7), (1, ), (3, 4, 6, 7)]. Faça um programa que remova as tuplas de tamanho k.  \n"
   ]
  }
 ],
 "metadata": {
  "kernelspec": {
   "display_name": "Python 3",
   "language": "python",
   "name": "python3"
  },
  "language_info": {
   "codemirror_mode": {
    "name": "ipython",
    "version": 3
   },
   "file_extension": ".py",
   "mimetype": "text/x-python",
   "name": "python",
   "nbconvert_exporter": "python",
   "pygments_lexer": "ipython3",
   "version": "3.11.2"
  }
 },
 "nbformat": 4,
 "nbformat_minor": 2
}
