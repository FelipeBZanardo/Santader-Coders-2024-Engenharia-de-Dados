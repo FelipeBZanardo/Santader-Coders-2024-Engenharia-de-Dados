{
 "cells": [
  {
   "cell_type": "markdown",
   "metadata": {},
   "source": [
    "# Aula 1 | Listas e Tuplas\n",
    "\n",
    "Nesta aula, vamos explorar conceitos fundamentais de Python focados em listas, tuplas e operações comuns com essas estruturas. \n",
    "\n",
    "**Nosso problema hoje**: Como fazer um sistema que cadastre usuários, permita buscá-los e não permita modificações acidentais.\n",
    "\n",
    "__________"
   ]
  },
  {
   "cell_type": "markdown",
   "metadata": {},
   "source": [
    "## 1. Revisão de listas\n",
    "Listas em Python são estruturas de dados que permitem armazenar uma coleção de itens. As listas são: \n",
    "\n",
    "- Ordenadas: os itens em uma lista são ordenados, o que significa que cada item tem uma posição específica ou índice começando do zero. Você pode acessar itens individuais usando estes índices. O fatiamento (`slicing`) permite acessar subconjuntos da lista\n",
    "- Indexadas: os elementos individuais de uma lista podem ser acessados usando índices.\n",
    "- Heterogêneas: podem conter diferentes tipos de dados como `int`, `float`, `str`, outras listas, e etc. \n",
    "- Mutáveis: é possível alterar seus elementos após a criação. Você pode adicionar, remover ou modificar itens. Elas são dinâmicas e podem ser manipuladas em tempo de execução.\n",
    "\n",
    "**Usos comuns**: listas são usadas para coletar dados que precisam ser sequenciados, como uma lista de nomes, números ou mesmo objetos complexos em programas mais avançados.\n",
    "\n",
    "> Exemplos: Lista de compras, vagão de trem."
   ]
  },
  {
   "cell_type": "markdown",
   "metadata": {},
   "source": [
    "### Criação de listas\n",
    "\n",
    "Listas são definidas usando conlchetes [] ou com a função list()."
   ]
  },
  {
   "cell_type": "code",
   "execution_count": 1,
   "metadata": {},
   "outputs": [
    {
     "name": "stdout",
     "output_type": "stream",
     "text": [
      "[]\n",
      "[]\n"
     ]
    }
   ],
   "source": [
    "lista1 = []\n",
    "lista2 = list()\n",
    "\n",
    "print(lista1)\n",
    "print(lista2)"
   ]
  },
  {
   "cell_type": "code",
   "execution_count": 6,
   "metadata": {},
   "outputs": [
    {
     "data": {
      "text/plain": [
       "['José', 'Nara', 'Thiago', 'Melissa']"
      ]
     },
     "execution_count": 6,
     "metadata": {},
     "output_type": "execute_result"
    }
   ],
   "source": [
    "usuarios = ['José', 'Nara', 'Thiago', 'Melissa']\n",
    "usuarios"
   ]
  },
  {
   "cell_type": "code",
   "execution_count": 7,
   "metadata": {},
   "outputs": [
    {
     "data": {
      "text/plain": [
       "[10, 28.5, True, 'Savannah']"
      ]
     },
     "execution_count": 7,
     "metadata": {},
     "output_type": "execute_result"
    }
   ],
   "source": [
    "lista_heterogenea = [10, 28.5, True, \"Savannah\"]\n",
    "lista_heterogenea"
   ]
  },
  {
   "cell_type": "code",
   "execution_count": 9,
   "metadata": {},
   "outputs": [
    {
     "data": {
      "text/plain": [
       "[['lucas', 'Belem', 'PA'], ['Nara', 'Guaratingueta', 'SP']]"
      ]
     },
     "execution_count": 9,
     "metadata": {},
     "output_type": "execute_result"
    }
   ],
   "source": [
    "listas_de_listas = [[\"lucas\", \"Belem\", \"PA\"], [\"Nara\", \"Guaratingueta\", \"SP\"]]\n",
    "listas_de_listas"
   ]
  },
  {
   "cell_type": "markdown",
   "metadata": {},
   "source": [
    "### Consulta de elementos em listas e slicing\n",
    "\n",
    "Como cada elemento da lista possui um índice associado à ele, podemos consultar o conteúdo da lista a partir do número do índice. Se quisermos mais de um elemento, podemos 'fatiar' ou fazer o slicing da lista, selecionando um ou mais índices.\n",
    "\n",
    "- Índices começando em 0: o primeiro elemento de uma lista tem índice 0, o segundo tem índice 1, e assim por diante.\n",
    "- Índices negativos: começam do final da lista. Por exemplo, -1 refere-se ao último elemento, -2 ao penúltimo, etc."
   ]
  },
  {
   "cell_type": "markdown",
   "metadata": {},
   "source": [
    "![](../img/slicing.png)"
   ]
  },
  {
   "cell_type": "code",
   "execution_count": 13,
   "metadata": {},
   "outputs": [
    {
     "data": {
      "text/plain": [
       "'Logica de programação'"
      ]
     },
     "execution_count": 13,
     "metadata": {},
     "output_type": "execute_result"
    }
   ],
   "source": [
    "cursos = [\"Big Data\", \"Analytics Engineering\", \"Arquitetura de Dados\", \"Logica de programação\"]\n",
    "\n",
    "cursos[0]\n",
    "cursos[-1]"
   ]
  },
  {
   "cell_type": "code",
   "execution_count": 18,
   "metadata": {},
   "outputs": [
    {
     "data": {
      "text/plain": [
       "'Nara'"
      ]
     },
     "execution_count": 18,
     "metadata": {},
     "output_type": "execute_result"
    }
   ],
   "source": [
    "listas_de_listas = [[\"lucas\", \"Belem\", \"PA\"], [\"Nara\", \"Guaratingueta\", \"SP\"]]\n",
    "listas_de_listas[1][0]"
   ]
  },
  {
   "cell_type": "markdown",
   "metadata": {},
   "source": [
    "No slicing, usamos a notação *lista[start:stop]* para selecionar a seção (fatia) que precisamos.\n",
    "\n",
    "Importante: o elemento no índice _start_ é incluído, o _stop_ não. Sendo assim, o número de elementos no resultado será _stop_-_start_"
   ]
  },
  {
   "cell_type": "code",
   "execution_count": 30,
   "metadata": {},
   "outputs": [
    {
     "data": {
      "text/plain": [
       "['Analytics Engineering', 'Arquitetura de Dados']"
      ]
     },
     "execution_count": 30,
     "metadata": {},
     "output_type": "execute_result"
    }
   ],
   "source": [
    "cursos = [\"Extração de Dados\", \"Big Data\", \"Analytics Engineering\", \"Arquitetura de Dados\", \"Logica de programação\", \"Técnicas de Programação\"]\n",
    "cursos[2:4]"
   ]
  },
  {
   "cell_type": "code",
   "execution_count": 34,
   "metadata": {},
   "outputs": [
    {
     "data": {
      "text/plain": [
       "['Extração de Dados',\n",
       " 'Big Data',\n",
       " 'Analytics Engineering',\n",
       " 'Arquitetura de Dados',\n",
       " 'Logica de programação',\n",
       " 'Técnicas de Programação']"
      ]
     },
     "execution_count": 34,
     "metadata": {},
     "output_type": "execute_result"
    }
   ],
   "source": [
    "cursos[-10:]"
   ]
  },
  {
   "cell_type": "code",
   "execution_count": 38,
   "metadata": {},
   "outputs": [
    {
     "data": {
      "text/plain": [
       "6"
      ]
     },
     "execution_count": 38,
     "metadata": {},
     "output_type": "execute_result"
    }
   ],
   "source": [
    "len(cursos)"
   ]
  },
  {
   "cell_type": "code",
   "execution_count": 40,
   "metadata": {},
   "outputs": [
    {
     "data": {
      "text/plain": [
       "['Extração de Dados', 'Analytics Engineering', 'Logica de programação']"
      ]
     },
     "execution_count": 40,
     "metadata": {},
     "output_type": "execute_result"
    }
   ],
   "source": [
    "cursos[0:len(cursos):2]"
   ]
  },
  {
   "cell_type": "code",
   "execution_count": 42,
   "metadata": {},
   "outputs": [
    {
     "data": {
      "text/plain": [
       "'Técnicas de Programação'"
      ]
     },
     "execution_count": 42,
     "metadata": {},
     "output_type": "execute_result"
    }
   ],
   "source": [
    "cursos[len(cursos) - 1]"
   ]
  },
  {
   "cell_type": "markdown",
   "metadata": {},
   "source": [
    "### Adicionando e removendo elementos\n",
    "\n",
    "Podemos adicionar e remover elementos de uma lista usando os seguintes métodos:\n",
    "- `append()`: adiciona um elemento ao final da lista\n",
    "- `insert()`: insere um elemento em uma posição específica\n",
    "- `pop()`: remove e retorna um elemento em uma posição específica. Caso nenhum índice seja específicado, ele considera o último elemento\n",
    "- `remove()`: remove a primeira ocorrência de um elemento específico. _Se o elemento não estiver na lista, gera um ValueError._\n"
   ]
  },
  {
   "cell_type": "code",
   "execution_count": 43,
   "metadata": {},
   "outputs": [
    {
     "data": {
      "text/plain": [
       "['José', 'Nara', 'Thiago', 'Melissa']"
      ]
     },
     "execution_count": 43,
     "metadata": {},
     "output_type": "execute_result"
    }
   ],
   "source": [
    "usuarios"
   ]
  },
  {
   "cell_type": "code",
   "execution_count": 56,
   "metadata": {},
   "outputs": [],
   "source": [
    "usuarios.append(\"Alessandra\")"
   ]
  },
  {
   "cell_type": "code",
   "execution_count": 48,
   "metadata": {},
   "outputs": [
    {
     "data": {
      "text/plain": [
       "['José', 'Nara', 'Thiago', 'Melissa', 'Alessandra', 123]"
      ]
     },
     "execution_count": 48,
     "metadata": {},
     "output_type": "execute_result"
    }
   ],
   "source": [
    "usuarios"
   ]
  },
  {
   "cell_type": "code",
   "execution_count": 47,
   "metadata": {},
   "outputs": [],
   "source": [
    "usuarios.append(123)"
   ]
  },
  {
   "cell_type": "code",
   "execution_count": 49,
   "metadata": {},
   "outputs": [],
   "source": [
    "usuarios.insert(-1, \"Marcelo\")"
   ]
  },
  {
   "cell_type": "code",
   "execution_count": 54,
   "metadata": {},
   "outputs": [
    {
     "data": {
      "text/plain": [
       "'Melissa'"
      ]
     },
     "execution_count": 54,
     "metadata": {},
     "output_type": "execute_result"
    }
   ],
   "source": [
    "usuarios.pop()\n",
    "usuarios.pop()\n",
    "usuarios.pop()"
   ]
  },
  {
   "cell_type": "code",
   "execution_count": 61,
   "metadata": {},
   "outputs": [
    {
     "data": {
      "text/plain": [
       "['José', 'Nara', 'Alessandra']"
      ]
     },
     "execution_count": 61,
     "metadata": {},
     "output_type": "execute_result"
    }
   ],
   "source": [
    "usuarios"
   ]
  },
  {
   "cell_type": "code",
   "execution_count": 63,
   "metadata": {},
   "outputs": [
    {
     "data": {
      "text/plain": [
       "['José', 'Nara', 'Thiago', 'Melissa', 'Alessandra', 'Thiago']"
      ]
     },
     "execution_count": 63,
     "metadata": {},
     "output_type": "execute_result"
    }
   ],
   "source": [
    "usuarios = ['José', 'Nara', 'Thiago', 'Melissa', 'Alessandra', 'Thiago']\n",
    "usuarios"
   ]
  },
  {
   "cell_type": "code",
   "execution_count": 71,
   "metadata": {},
   "outputs": [
    {
     "ename": "TypeError",
     "evalue": "list.remove() takes exactly one argument (2 given)",
     "output_type": "error",
     "traceback": [
      "\u001b[1;31m---------------------------------------------------------------------------\u001b[0m",
      "\u001b[1;31mTypeError\u001b[0m                                 Traceback (most recent call last)",
      "Cell \u001b[1;32mIn[71], line 1\u001b[0m\n\u001b[1;32m----> 1\u001b[0m \u001b[43musuarios\u001b[49m\u001b[38;5;241;43m.\u001b[39;49m\u001b[43mremove\u001b[49m\u001b[43m(\u001b[49m\u001b[38;5;124;43m'\u001b[39;49m\u001b[38;5;124;43mJosé\u001b[39;49m\u001b[38;5;124;43m'\u001b[39;49m\u001b[43m,\u001b[49m\u001b[43m \u001b[49m\u001b[38;5;124;43m'\u001b[39;49m\u001b[38;5;124;43mMelissa\u001b[39;49m\u001b[38;5;124;43m'\u001b[39;49m\u001b[43m)\u001b[49m\n",
      "\u001b[1;31mTypeError\u001b[0m: list.remove() takes exactly one argument (2 given)"
     ]
    }
   ],
   "source": [
    "usuarios.remove('José')"
   ]
  },
  {
   "cell_type": "code",
   "execution_count": 70,
   "metadata": {},
   "outputs": [
    {
     "data": {
      "text/plain": [
       "['José', 'Melissa', 'Alessandra']"
      ]
     },
     "execution_count": 70,
     "metadata": {},
     "output_type": "execute_result"
    }
   ],
   "source": [
    "usuarios"
   ]
  },
  {
   "cell_type": "code",
   "execution_count": 69,
   "metadata": {},
   "outputs": [
    {
     "data": {
      "text/plain": [
       "'Nara'"
      ]
     },
     "execution_count": 69,
     "metadata": {},
     "output_type": "execute_result"
    }
   ],
   "source": [
    "usuarios.pop(1)"
   ]
  },
  {
   "cell_type": "code",
   "execution_count": null,
   "metadata": {},
   "outputs": [],
   "source": []
  },
  {
   "cell_type": "markdown",
   "metadata": {},
   "source": [
    "### Concatenando listas\n",
    "\n",
    "Podemos concatenar listas usando o operador `+` ou o método `extend`, a diferença é a performance:\n",
    "\n",
    "- `+`: Cria uma nova lista e copia os elementos das listas originais para ela. Não é a maneira mais eficiente para listas grandes, pois cada concatenação cria uma nova lista.\n",
    "- `extend`: Modifica a lista original (lista1 neste caso) ao adicionar os elementos de lista2. Mais eficiente do que usar +, especialmente para listas grandes, pois não cria uma nova lista.\n",
    "\n",
    "> Esses dois comportamentos são conhecidos como shalow copy e deep copy, mais detalhes [aqui](https://realpython.com/copying-python-objects/#:~:text=A%20shallow%20copy%20means%20constructing,of%20the%20child%20objects%20themselves.)."
   ]
  },
  {
   "cell_type": "code",
   "execution_count": 94,
   "metadata": {},
   "outputs": [],
   "source": [
    "lista1 = [1, 2, 3]\n",
    "lista2 = [4, 5, 6]"
   ]
  },
  {
   "cell_type": "code",
   "execution_count": 95,
   "metadata": {},
   "outputs": [
    {
     "name": "stdout",
     "output_type": "stream",
     "text": [
      "[1, 2, 3]\n",
      "[4, 5, 6]\n"
     ]
    }
   ],
   "source": [
    "print(lista1)\n",
    "print(lista2)"
   ]
  },
  {
   "cell_type": "code",
   "execution_count": 96,
   "metadata": {},
   "outputs": [
    {
     "name": "stdout",
     "output_type": "stream",
     "text": [
      "[1, 2, 3, 4, 5, 6]\n"
     ]
    }
   ],
   "source": [
    "print(lista1 + lista2)"
   ]
  },
  {
   "cell_type": "code",
   "execution_count": 102,
   "metadata": {},
   "outputs": [
    {
     "data": {
      "text/plain": [
       "[1, 2, 3, 4, 5, 6, 4, 5, 6, 4, 5, 6, 4, 5, 6, 4, 5, 6]"
      ]
     },
     "execution_count": 102,
     "metadata": {},
     "output_type": "execute_result"
    }
   ],
   "source": [
    "lista1 += lista2\n",
    "lista1"
   ]
  },
  {
   "cell_type": "code",
   "execution_count": 98,
   "metadata": {},
   "outputs": [
    {
     "data": {
      "text/plain": [
       "[1, 2, 3, 4, 5, 6]"
      ]
     },
     "execution_count": 98,
     "metadata": {},
     "output_type": "execute_result"
    }
   ],
   "source": [
    "lista1"
   ]
  },
  {
   "cell_type": "code",
   "execution_count": 91,
   "metadata": {},
   "outputs": [],
   "source": [
    "lista1.extend(lista2)"
   ]
  },
  {
   "cell_type": "code",
   "execution_count": 92,
   "metadata": {},
   "outputs": [
    {
     "data": {
      "text/plain": [
       "[1, 2, 3, 4, 5, 6]"
      ]
     },
     "execution_count": 92,
     "metadata": {},
     "output_type": "execute_result"
    }
   ],
   "source": [
    "lista1"
   ]
  },
  {
   "cell_type": "markdown",
   "metadata": {},
   "source": [
    "#### 🤓 Curiosidade: shalow e deep copy()"
   ]
  },
  {
   "cell_type": "markdown",
   "metadata": {},
   "source": [
    "1. Shallow copy\n",
    "    \n",
    "    Cria uma nova coleção de objetos, mas não cria cópias dos objetos contidos nessa coleção. Em vez disso, ela apenas copia as referências aos objetos originais.\n",
    "\n",
    "    Comportamento: Se você modificar um objeto mutável dentro da coleção copiada, essa mudança também será refletida na coleção original, porque ambas as coleções apontam para os mesmos objetos."
   ]
  },
  {
   "cell_type": "code",
   "execution_count": 104,
   "metadata": {},
   "outputs": [
    {
     "name": "stdout",
     "output_type": "stream",
     "text": [
      "Lista Original: [[1, 2, 3], [4, 5, 6]]\n",
      "Lista Copia: [[1, 2, 3], [4, 5, 6]]\n"
     ]
    }
   ],
   "source": [
    "lista_original = [[1, 2, 3], [4, 5, 6]]\n",
    "lista_copia = lista_original.copy()\n",
    "\n",
    "print(f\"Lista Original: {lista_original}\")\n",
    "print(f\"Lista Copia: {lista_copia}\")"
   ]
  },
  {
   "cell_type": "code",
   "execution_count": 105,
   "metadata": {},
   "outputs": [],
   "source": [
    "lista_copia[0][2] = 4"
   ]
  },
  {
   "cell_type": "code",
   "execution_count": 106,
   "metadata": {},
   "outputs": [
    {
     "name": "stdout",
     "output_type": "stream",
     "text": [
      "Lista Original: [[1, 2, 4], [4, 5, 6]]\n",
      "Lista Copia: [[1, 2, 4], [4, 5, 6]]\n"
     ]
    }
   ],
   "source": [
    "print(f\"Lista Original: {lista_original}\")\n",
    "print(f\"Lista Copia: {lista_copia}\")"
   ]
  },
  {
   "cell_type": "code",
   "execution_count": 109,
   "metadata": {},
   "outputs": [
    {
     "name": "stdout",
     "output_type": "stream",
     "text": [
      "Lista Original: 2452838476800\n",
      "Lista Copia: 2452837616768\n",
      "Valor lista Original: 140719111752216\n",
      "Valor lista Copia: 140719111752216\n"
     ]
    }
   ],
   "source": [
    "print(f\"Lista Original: {id(lista_original)}\")\n",
    "print(f\"Lista Copia: {id(lista_copia)}\")\n",
    "\n",
    "print(f\"Valor lista Original: {id(lista_original[0][2])}\")\n",
    "print(f\"Valor lista Copia: {id(lista_copia[0][2])}\")"
   ]
  },
  {
   "cell_type": "markdown",
   "metadata": {},
   "source": [
    "2. Deep copy\n",
    "\n",
    "    Cria uma nova coleção e também cria cópias completas de todos os objetos que estavam contidos na coleção original.\n",
    "\n",
    "    Comportamento: Alterações feitas nos objetos na cópia não afetam os objetos na coleção original, pois são objetos completamente distintos."
   ]
  },
  {
   "cell_type": "code",
   "execution_count": 110,
   "metadata": {},
   "outputs": [
    {
     "name": "stdout",
     "output_type": "stream",
     "text": [
      "Lista Original: [[1, 2, 3], [4, 5, 6]]\n",
      "Lista Copia: [[1, 2, 3], [4, 5, 6]]\n"
     ]
    }
   ],
   "source": [
    "import copy\n",
    "\n",
    "lista_original = [[1, 2, 3], [4, 5, 6]]\n",
    "lista_copia = copy.deepcopy(lista_original)\n",
    "\n",
    "print(f\"Lista Original: {lista_original}\")\n",
    "print(f\"Lista Copia: {lista_copia}\")"
   ]
  },
  {
   "cell_type": "code",
   "execution_count": 115,
   "metadata": {},
   "outputs": [],
   "source": [
    "lista_copia[0][2] = 9"
   ]
  },
  {
   "cell_type": "code",
   "execution_count": 116,
   "metadata": {},
   "outputs": [
    {
     "name": "stdout",
     "output_type": "stream",
     "text": [
      "Lista Original: [[1, 2, 3], [4, 5, 6]]\n",
      "Lista Copia: [[1, 2, 9], [4, 5, 6]]\n"
     ]
    }
   ],
   "source": [
    "print(f\"Lista Original: {lista_original}\")\n",
    "print(f\"Lista Copia: {lista_copia}\")"
   ]
  },
  {
   "cell_type": "code",
   "execution_count": 117,
   "metadata": {},
   "outputs": [
    {
     "name": "stdout",
     "output_type": "stream",
     "text": [
      "Lista Original: 2452838452864\n",
      "Lista Copia: 2452838655616\n",
      "Valor lista Original: 140719111752184\n",
      "Valor lista Copia: 140719111752376\n"
     ]
    }
   ],
   "source": [
    "print(f\"Lista Original: {id(lista_original)}\")\n",
    "print(f\"Lista Copia: {id(lista_copia)}\")\n",
    "\n",
    "print(f\"Valor lista Original: {id(lista_original[0][2])}\")\n",
    "print(f\"Valor lista Copia: {id(lista_copia[0][2])}\")"
   ]
  },
  {
   "cell_type": "markdown",
   "metadata": {},
   "source": [
    "### Iterando uma lista\n",
    "\n",
    "Iterar uma lista em Python significa percorrer todos os seus elementos, um por um. A ideia, no geral é: dada uma lista, para cada elemento, execute uma tarefa. Podemos fazer isso de algumas formas:"
   ]
  },
  {
   "cell_type": "code",
   "execution_count": 119,
   "metadata": {},
   "outputs": [
    {
     "name": "stdout",
     "output_type": "stream",
     "text": [
      "Thiago\n",
      "Alessandra\n",
      "Rubens\n",
      "Diana\n",
      "Felipe\n"
     ]
    }
   ],
   "source": [
    "usuarios = [\"Thiago\", \"Alessandra\", \"Rubens\", \"Diana\", \"Felipe\"]\n",
    "\n",
    "for usuario in usuarios:\n",
    "    print(usuario)"
   ]
  },
  {
   "cell_type": "code",
   "execution_count": 121,
   "metadata": {},
   "outputs": [
    {
     "name": "stdout",
     "output_type": "stream",
     "text": [
      "0, Thiago\n",
      "1, Alessandra\n",
      "2, Rubens\n",
      "3, Diana\n",
      "4, Felipe\n"
     ]
    }
   ],
   "source": []
  },
  {
   "cell_type": "markdown",
   "metadata": {},
   "source": [
    "Podemos incrementar o código acima, trazendo não só o conteúdo de cada elemento da lista, mas também o índice correspondente.\n",
    "\n",
    "- Para cada elemento da nossa lista\n",
    "- Imprima esse elemento, além do seu indice e o nome do usuário.\n",
    "\n",
    "Por exemplo:\n",
    "\n",
    "`0 - Mariana`                                       \n",
    "`1 - Ana`                        \n",
    "`2 - João`\n",
    "\n",
    "Para recuperar o índice junto com o conteúdo do elemnto da lista numa iteração, devemos usar `enumerate()`. Esta função adiciona im contador aos itens da lista."
   ]
  },
  {
   "cell_type": "code",
   "execution_count": 122,
   "metadata": {},
   "outputs": [
    {
     "name": "stdout",
     "output_type": "stream",
     "text": [
      "0, Thiago\n",
      "1, Alessandra\n",
      "2, Rubens\n",
      "3, Diana\n",
      "4, Felipe\n"
     ]
    }
   ],
   "source": [
    "for indice, usuario in enumerate(usuarios):\n",
    "    print(f\"{indice}, {usuario}\")"
   ]
  },
  {
   "cell_type": "markdown",
   "metadata": {},
   "source": [
    "#### 👩‍💻 Mão na massa"
   ]
  },
  {
   "cell_type": "markdown",
   "metadata": {},
   "source": [
    "Crie um laço (loop) que obedeça o seguinte pseudocódigo:\n",
    "\n",
    "- Para cada elemento de uma lista\n",
    "- Imprima esse elemento, além do seu indice e o total da lista\n",
    "\n",
    "Por exemplo:\n",
    "\n",
    "Utilizando a lista `frutas = ['banana', 'maca', 'uva', 'pera']`\n",
    "\n",
    "Teriamos nos dois primeiros resultados:\n",
    "\n",
    "`>>> #1/4: banana`     \n",
    "`>>> #2/4: maca`"
   ]
  },
  {
   "cell_type": "code",
   "execution_count": null,
   "metadata": {},
   "outputs": [],
   "source": []
  },
  {
   "cell_type": "markdown",
   "metadata": {},
   "source": [
    "## 2. Tuplas\n",
    "\n",
    "Tuplas são estruturas de dados bastante similares às listas:\n",
    "\n",
    "- Ordenadas\n",
    "- Indexadas\n",
    "- Heterogêneas\n",
    "\n",
    "No entanto, são **imutáveis**. Uma tupla é uma coleção de itens que não pode ser modificada após sua criação. Isso significa que você não pode adicionar, remover ou alterar elementos em uma tupla.\n",
    "\n",
    "**Usos comuns**: tuplas são frequentemente usadas para armazenar dados que não devem ser alterados, como coordenadas geográficas, ou para retornar múltiplos valores de uma função.\n",
    "\n",
    "_E mais_: por serem imutáveis, tuplas geralmente ocupam menos espaço na memória do que listas e podem ser mais eficientes em termos de desempenho para coleções de dados fixas.\n"
   ]
  },
  {
   "cell_type": "markdown",
   "metadata": {},
   "source": [
    "### Criando tuplas \n",
    "\n",
    "As tuplas são normalmente definidas usando parênteses (), usando a função tuple() ou apenas pela separação de itens por vírgulas.\n"
   ]
  },
  {
   "cell_type": "code",
   "execution_count": 124,
   "metadata": {},
   "outputs": [
    {
     "name": "stdout",
     "output_type": "stream",
     "text": [
      "('Diana', 'Lucas', 'Felipe')\n",
      "('Diana', 'Lucas', 'Felipe')\n",
      "()\n"
     ]
    }
   ],
   "source": [
    "tupla1 = ('Diana', 'Lucas', 'Felipe') ## [] -> lista ,  () -> tupla\n",
    "\n",
    "tupla2 = 'Diana', 'Lucas', 'Felipe'\n",
    "\n",
    "tupla3 = tuple()\n",
    "\n",
    "# valor, valor2 = get_valores()\n",
    "\n",
    "print(tupla1)\n",
    "print(tupla2)\n",
    "print(tupla3)"
   ]
  },
  {
   "cell_type": "code",
   "execution_count": 126,
   "metadata": {},
   "outputs": [],
   "source": [
    "tupla_de_tuplas = (('Módulo1', 'Módulo1'),\n",
    "                   ('Lógica 1', 'Lógica 2'),\n",
    "                   ('Estatistica 1', 'Estatistica 2'))"
   ]
  },
  {
   "cell_type": "code",
   "execution_count": 127,
   "metadata": {},
   "outputs": [
    {
     "data": {
      "text/plain": [
       "(('Módulo1', 'Módulo1'),\n",
       " ('Lógica 1', 'Lógica 2'),\n",
       " ('Estatistica 1', 'Estatistica 2'))"
      ]
     },
     "execution_count": 127,
     "metadata": {},
     "output_type": "execute_result"
    }
   ],
   "source": [
    "tupla_de_tuplas"
   ]
  },
  {
   "cell_type": "markdown",
   "metadata": {},
   "source": [
    "### Consultando elementos da tupla e slicing\n",
    "\n",
    "A maneira de consultar os elementos deuma tupla segue a lógica das listas, sempre baseada no índice do elemento (ou elementos) que desejamos recuperar."
   ]
  },
  {
   "cell_type": "code",
   "execution_count": 128,
   "metadata": {},
   "outputs": [
    {
     "name": "stdout",
     "output_type": "stream",
     "text": [
      "('Diana', 'Lucas', 'Felipe')\n"
     ]
    }
   ],
   "source": [
    "print(tupla1)"
   ]
  },
  {
   "cell_type": "code",
   "execution_count": 131,
   "metadata": {},
   "outputs": [
    {
     "data": {
      "text/plain": [
       "'Felipe'"
      ]
     },
     "execution_count": 131,
     "metadata": {},
     "output_type": "execute_result"
    }
   ],
   "source": [
    "tupla1[2]"
   ]
  },
  {
   "cell_type": "code",
   "execution_count": 132,
   "metadata": {},
   "outputs": [
    {
     "data": {
      "text/plain": [
       "'Lógica 1'"
      ]
     },
     "execution_count": 132,
     "metadata": {},
     "output_type": "execute_result"
    }
   ],
   "source": [
    "tupla_de_tuplas[1][0]"
   ]
  },
  {
   "cell_type": "markdown",
   "metadata": {},
   "source": [
    "### Concatenando tuplas\n",
    "\n",
    "Podemos concatenar tuplas usando o operador `+`."
   ]
  },
  {
   "cell_type": "code",
   "execution_count": 133,
   "metadata": {},
   "outputs": [
    {
     "data": {
      "text/plain": [
       "('Diana', 'Lucas', 'Felipe', 'Diana', 'Lucas', 'Felipe')"
      ]
     },
     "execution_count": 133,
     "metadata": {},
     "output_type": "execute_result"
    }
   ],
   "source": [
    "tupla3 = tupla1 + tupla2\n",
    "tupla3"
   ]
  },
  {
   "cell_type": "code",
   "execution_count": 135,
   "metadata": {},
   "outputs": [
    {
     "data": {
      "text/plain": [
       "('Diana', 'Lucas', 'Felipe', 'Diana', 'Lucas', 'Felipe', 1.25, 5)"
      ]
     },
     "execution_count": 135,
     "metadata": {},
     "output_type": "execute_result"
    }
   ],
   "source": [
    "tupla1 = ('Diana', 'Lucas', 'Felipe') ## [] -> lista ,  () -> tupla\n",
    "\n",
    "tupla2 = 'Diana', 'Lucas', 'Felipe', 1.25, 5\n",
    "\n",
    "tupla3 = tupla1 + tupla2\n",
    "tupla3"
   ]
  },
  {
   "cell_type": "code",
   "execution_count": 136,
   "metadata": {},
   "outputs": [
    {
     "data": {
      "text/plain": [
       "('Diana',\n",
       " 'Lucas',\n",
       " 'Felipe',\n",
       " 'Diana',\n",
       " 'Lucas',\n",
       " 'Felipe',\n",
       " 1.25,\n",
       " 5,\n",
       " 'Diana',\n",
       " 'Lucas',\n",
       " 'Felipe',\n",
       " 'Diana',\n",
       " 'Lucas',\n",
       " 'Felipe',\n",
       " 1.25,\n",
       " 5)"
      ]
     },
     "execution_count": 136,
     "metadata": {},
     "output_type": "execute_result"
    }
   ],
   "source": [
    "tupla4 = tupla3 * 2\n",
    "tupla4"
   ]
  },
  {
   "cell_type": "markdown",
   "metadata": {},
   "source": [
    "### Iterando uma tupla\n",
    "\n",
    "Também seguindo a lógica de iteração de listas, podemos percorrer os elementos de uma tupla."
   ]
  },
  {
   "cell_type": "code",
   "execution_count": 137,
   "metadata": {},
   "outputs": [],
   "source": [
    "alunos = (('Lauro', 28), ('Amanda', 26), ('Rubens', 37))"
   ]
  },
  {
   "cell_type": "code",
   "execution_count": 139,
   "metadata": {},
   "outputs": [
    {
     "name": "stdout",
     "output_type": "stream",
     "text": [
      "Lauro\n",
      "Amanda\n",
      "Rubens\n"
     ]
    }
   ],
   "source": [
    "for aluno in alunos:\n",
    "    print(aluno[0])"
   ]
  },
  {
   "cell_type": "markdown",
   "metadata": {},
   "source": [
    "### Outras características e funcionalidades das tuplas"
   ]
  },
  {
   "cell_type": "markdown",
   "metadata": {},
   "source": [
    "#### Tuplas podem virar listas (_e listas podem virar tuplas_)"
   ]
  },
  {
   "cell_type": "code",
   "execution_count": 141,
   "metadata": {},
   "outputs": [
    {
     "data": {
      "text/plain": [
       "list"
      ]
     },
     "execution_count": 141,
     "metadata": {},
     "output_type": "execute_result"
    }
   ],
   "source": [
    "usuarios\n",
    "type(usuarios)"
   ]
  },
  {
   "cell_type": "code",
   "execution_count": 50,
   "metadata": {},
   "outputs": [
    {
     "data": {
      "text/plain": [
       "['lauro', 'alessandra', 'agnes']"
      ]
     },
     "execution_count": 50,
     "metadata": {},
     "output_type": "execute_result"
    }
   ],
   "source": [
    "usuarios"
   ]
  },
  {
   "cell_type": "code",
   "execution_count": 49,
   "metadata": {},
   "outputs": [
    {
     "data": {
      "text/plain": [
       "('lauro', 'alessandra', 'agnes')"
      ]
     },
     "execution_count": 49,
     "metadata": {},
     "output_type": "execute_result"
    }
   ],
   "source": [
    "tupla_usuarios = tuple(usuarios)\n",
    "type(tupla_usuarios)\n",
    "tupla_usuarios"
   ]
  },
  {
   "cell_type": "code",
   "execution_count": 144,
   "metadata": {},
   "outputs": [
    {
     "ename": "TypeError",
     "evalue": "'tuple' object does not support item assignment",
     "output_type": "error",
     "traceback": [
      "\u001b[1;31m---------------------------------------------------------------------------\u001b[0m",
      "\u001b[1;31mTypeError\u001b[0m                                 Traceback (most recent call last)",
      "Cell \u001b[1;32mIn[144], line 1\u001b[0m\n\u001b[1;32m----> 1\u001b[0m \u001b[43mtupla_usuarios\u001b[49m\u001b[43m[\u001b[49m\u001b[38;5;241;43m0\u001b[39;49m\u001b[43m]\u001b[49m \u001b[38;5;241m=\u001b[39m \u001b[38;5;124m'\u001b[39m\u001b[38;5;124mMarcio\u001b[39m\u001b[38;5;124m'\u001b[39m\n",
      "\u001b[1;31mTypeError\u001b[0m: 'tuple' object does not support item assignment"
     ]
    }
   ],
   "source": [
    "tupla_usuarios[0] = 'Marcio'"
   ]
  },
  {
   "cell_type": "markdown",
   "metadata": {},
   "source": [
    "#### Podemos desempacotar tuplas\n",
    "Isso pode ser relevante quando precisamos extrair seus elementos e atribuí-los a variáveis separadas. Alguns casos em que o desempacotamento é útil incluem:\n",
    "\n",
    "- Clareza e conveniência: Desempacotar uma tupla diretamente em variáveis torna o código mais claro e fácil de entender do que acessar cada elemento da tupla por índices.\n",
    "\n",
    "- Troca de Valores: Permite uma maneira elegante e eficiente de trocar valores entre variáveis sem a necessidade de uma variável temporária.\n"
   ]
  },
  {
   "cell_type": "markdown",
   "metadata": {},
   "source": [
    "Desempacotamento básico: cada elemento da tupla será atribuído a uma variável diferente"
   ]
  },
  {
   "cell_type": "code",
   "execution_count": 148,
   "metadata": {},
   "outputs": [
    {
     "name": "stdout",
     "output_type": "stream",
     "text": [
      "Thiago\n",
      "Alessandra\n",
      "Rubens\n"
     ]
    }
   ],
   "source": [
    "u1, u2, u3, u4, u5 = tupla_usuarios\n",
    "\n",
    "print(u1)\n",
    "print(u2)\n",
    "print(u3)"
   ]
  },
  {
   "cell_type": "markdown",
   "metadata": {},
   "source": [
    "Desempacotamento parcial: cada elemento da tupla será atribuído a uma variável diferente"
   ]
  },
  {
   "cell_type": "code",
   "execution_count": 21,
   "metadata": {},
   "outputs": [
    {
     "name": "stdout",
     "output_type": "stream",
     "text": [
      "(1, 2, 3, 4)\n",
      "5\n"
     ]
    }
   ],
   "source": [
    "tupla = (1, 2, 3, 4, 5)\n",
    "*meio, final = tupla\n",
    "\n",
    "print(tuple(meio))\n",
    "print(final)"
   ]
  },
  {
   "cell_type": "markdown",
   "metadata": {},
   "source": [
    "Troca de valores entre variáveis"
   ]
  },
  {
   "cell_type": "code",
   "execution_count": 23,
   "metadata": {},
   "outputs": [
    {
     "name": "stdout",
     "output_type": "stream",
     "text": [
      "valor 1, valor 2\n",
      "valor 2, valor 1\n"
     ]
    }
   ],
   "source": [
    "a, b = 1, 2\n",
    "\n",
    "print(f\"valor {a}, valor {b}\")\n",
    "\n",
    "a, b = b, a\n",
    "print(f\"valor {a}, valor {b}\")"
   ]
  },
  {
   "cell_type": "markdown",
   "metadata": {},
   "source": [
    "Retorno múltiplo de funções: funções podem retornar múltiplos valores na forma de uma tupla, que podem ser facilmente desempacotados."
   ]
  },
  {
   "cell_type": "code",
   "execution_count": 26,
   "metadata": {},
   "outputs": [
    {
     "name": "stdout",
     "output_type": "stream",
     "text": [
      "minimo 1, maximo 45\n"
     ]
    }
   ],
   "source": [
    "def min_max(lista):\n",
    "    return min(lista), max(lista)\n",
    "\n",
    "valores = [1, 23, 45, 3, 4]\n",
    "minimo, maximo = min_max(valores)\n",
    "\n",
    "print(f\"minimo {minimo}, maximo {maximo}\")"
   ]
  },
  {
   "cell_type": "markdown",
   "metadata": {},
   "source": [
    "Iteração com múltiplas variáveis: ao iterar sobre uma lista de tuplas, podemos desempacotar as tuplas diretamente no loop."
   ]
  },
  {
   "cell_type": "code",
   "execution_count": 34,
   "metadata": {},
   "outputs": [
    {
     "name": "stdout",
     "output_type": "stream",
     "text": [
      "numero 12, nome um\n",
      "numero 2, nome dois\n",
      "numero 3, nome tres\n"
     ]
    }
   ],
   "source": [
    "pares = [(12, 'um'), (2, 'dois'), (3, 'tres')]\n",
    "\n",
    "for numero, nome in pares:\n",
    "    print(f\"numero {numero}, nome {nome}\")"
   ]
  },
  {
   "cell_type": "code",
   "execution_count": 33,
   "metadata": {},
   "outputs": [
    {
     "name": "stdout",
     "output_type": "stream",
     "text": [
      "indice 0 numero 12, nome um\n",
      "indice 1 numero 2, nome dois\n",
      "indice 2 numero 3, nome tres\n"
     ]
    }
   ],
   "source": [
    "pares = [(12, 'um'), (2, 'dois'), (3, 'tres')]\n",
    "\n",
    "for indice, valor in enumerate(pares):\n",
    "    print(f\"indice {indice} numero {valor[0]}, nome {valor[1]}\")"
   ]
  },
  {
   "cell_type": "markdown",
   "metadata": {},
   "source": [
    "Contagem de elementos"
   ]
  },
  {
   "cell_type": "code",
   "execution_count": 37,
   "metadata": {},
   "outputs": [
    {
     "data": {
      "text/plain": [
       "2"
      ]
     },
     "execution_count": 37,
     "metadata": {},
     "output_type": "execute_result"
    }
   ],
   "source": [
    "diversos = ('a', 23, 'b', 24, 'c', 11, 'd', 12, 'a')\n",
    "\n",
    "diversos.count('a')"
   ]
  },
  {
   "cell_type": "markdown",
   "metadata": {},
   "source": [
    "#### Named tuples\n",
    "\n",
    "🤔 Como lembrar a posição que cada valor significa na tupla?\n",
    "\n",
    "Named tuples são uma extensão das tuplas normais, oferecendo mais legibilidade e funcionalidade. Elas são parte do módulo collections e oferecem algumas vantagens sobre as tuplas regulares, **simplificando o processo de acesso aos valores** da tupla."
   ]
  },
  {
   "cell_type": "code",
   "execution_count": 39,
   "metadata": {},
   "outputs": [],
   "source": [
    "from collections import namedtuple"
   ]
  },
  {
   "cell_type": "code",
   "execution_count": 40,
   "metadata": {},
   "outputs": [
    {
     "name": "stdout",
     "output_type": "stream",
     "text": [
      "Pessoa 1:\n",
      "Lucas\n",
      "23\n",
      "PA\n"
     ]
    }
   ],
   "source": [
    "from collections import namedtuple\n",
    "Pessoa = namedtuple('Pessoa', [\"nome\", \"idade\", \"estado\"])\n",
    "# nome, idade, estado = (\"Lucas\", 23, \"PA\")\n",
    "pessoa1 = Pessoa(\"Lucas\", 23, \"PA\")\n",
    "\n",
    "print(\"Pessoa 1:\")\n",
    "print(f\"{pessoa1.nome}\")\n",
    "print(f\"{pessoa1.idade}\")\n",
    "print(f\"{pessoa1.estado}\")"
   ]
  },
  {
   "cell_type": "code",
   "execution_count": 41,
   "metadata": {},
   "outputs": [
    {
     "name": "stdout",
     "output_type": "stream",
     "text": [
      "Lucas, 23, PA\n"
     ]
    }
   ],
   "source": [
    "print(f\"{pessoa1.nome}, {pessoa1.idade}, {pessoa1.estado}\")"
   ]
  },
  {
   "cell_type": "code",
   "execution_count": 45,
   "metadata": {},
   "outputs": [
    {
     "name": "stdout",
     "output_type": "stream",
     "text": [
      "\u001b[1;31mInit signature:\u001b[0m \u001b[0mPessoa\u001b[0m\u001b[1;33m(\u001b[0m\u001b[0mnome\u001b[0m\u001b[1;33m,\u001b[0m \u001b[0midade\u001b[0m\u001b[1;33m,\u001b[0m \u001b[0mestado\u001b[0m\u001b[1;33m)\u001b[0m\u001b[1;33m\u001b[0m\u001b[1;33m\u001b[0m\u001b[0m\n",
      "\u001b[1;31mDocstring:\u001b[0m      Pessoa(nome, idade, estado)\n",
      "\u001b[1;31mType:\u001b[0m           type\n",
      "\u001b[1;31mSubclasses:\u001b[0m     "
     ]
    }
   ],
   "source": [
    "Pessoa??"
   ]
  },
  {
   "cell_type": "markdown",
   "metadata": {},
   "source": [
    "### 🤷‍♀️ Mas e a imutabilidade?\n",
    "\n",
    "Como faço para alterar algo numa tupla se eu precisar?"
   ]
  },
  {
   "cell_type": "markdown",
   "metadata": {},
   "source": [
    "Para tuplas **não é possível**: alterar elementos individuais, adicionar elementos, remover elementos ou alterar a ordem dos elementos. Uma vez criada, não é possível alterar nada de uma tupla!"
   ]
  },
  {
   "cell_type": "code",
   "execution_count": 53,
   "metadata": {},
   "outputs": [
    {
     "name": "stdout",
     "output_type": "stream",
     "text": [
      "lista ['lauro', 'alessandra', 'agnes']\n",
      "tupla ('lauro', 'alessandra', 'agnes')\n",
      "lista modificada ['abacate', 'alessandra', 'agnes']\n"
     ]
    }
   ],
   "source": [
    "usuarios = [\"lauro\", \"alessandra\", \"agnes\"]\n",
    "\n",
    "print('lista', usuarios)\n",
    "print('tupla', tupla_usuarios)\n",
    "usuarios[0] = \"abacate\"\n",
    "print('lista modificada', usuarios)"
   ]
  },
  {
   "cell_type": "code",
   "execution_count": 54,
   "metadata": {},
   "outputs": [
    {
     "ename": "TypeError",
     "evalue": "'tuple' object does not support item assignment",
     "output_type": "error",
     "traceback": [
      "\u001b[1;31m---------------------------------------------------------------------------\u001b[0m",
      "\u001b[1;31mTypeError\u001b[0m                                 Traceback (most recent call last)",
      "Cell \u001b[1;32mIn[54], line 1\u001b[0m\n\u001b[1;32m----> 1\u001b[0m \u001b[43mtupla_usuarios\u001b[49m\u001b[43m[\u001b[49m\u001b[38;5;241;43m0\u001b[39;49m\u001b[43m]\u001b[49m \u001b[38;5;241m=\u001b[39m \u001b[38;5;124m\"\u001b[39m\u001b[38;5;124mabacate\u001b[39m\u001b[38;5;124m\"\u001b[39m\n",
      "\u001b[1;31mTypeError\u001b[0m: 'tuple' object does not support item assignment"
     ]
    }
   ],
   "source": [
    "tupla_usuarios[0] = \"abacate\""
   ]
  },
  {
   "cell_type": "markdown",
   "metadata": {},
   "source": [
    "Poderíamos criar uma tupla de listas, caso faça sentido:"
   ]
  },
  {
   "cell_type": "code",
   "execution_count": 56,
   "metadata": {},
   "outputs": [
    {
     "name": "stdout",
     "output_type": "stream",
     "text": [
      "([1, 2, 3], [4, 5, 6], [7, 8, 9])\n"
     ]
    }
   ],
   "source": [
    "tupla_de_listas = ([1, 2, 3], [4, 5, 6], [7, 8, 9])\n",
    "print(tupla_de_listas)"
   ]
  },
  {
   "cell_type": "code",
   "execution_count": 57,
   "metadata": {},
   "outputs": [],
   "source": [
    "tupla_de_listas[0].append(4)"
   ]
  },
  {
   "cell_type": "code",
   "execution_count": 58,
   "metadata": {},
   "outputs": [
    {
     "name": "stdout",
     "output_type": "stream",
     "text": [
      "([1, 2, 3, 4], [4, 5, 6], [7, 8, 9])\n"
     ]
    }
   ],
   "source": [
    "print(tupla_de_listas)"
   ]
  },
  {
   "cell_type": "markdown",
   "metadata": {},
   "source": [
    "### Mais detalhes sobre iteração em listas e tuplas\n",
    "\n",
    "No Python temos duas funções integradas que oferecem maneiras convenientes e eficientes de iterar sobre listas, tuplas e outras sequências iteráveis: **zip()** e **enumerate().** Vamos explorar cada uma delas com exemplos para entender seu uso e utilidade."
   ]
  },
  {
   "cell_type": "markdown",
   "metadata": {},
   "source": [
    "1. **enumerate**: é usado para iterar sobre uma sequência, obtendo ao mesmo tempo o índice e o valor de cada elemento.\n",
    "\n",
    "    Fornece uma maneira limpa e legível de obter o índice dos elementos durante a iteração, evitando a necessidade de inicializar e atualizar manualmente um contador."
   ]
  },
  {
   "cell_type": "code",
   "execution_count": 61,
   "metadata": {},
   "outputs": [
    {
     "name": "stdout",
     "output_type": "stream",
     "text": [
      "0 vermelho\n",
      "1 1\n",
      "2 verde\n",
      "3 azul\n"
     ]
    }
   ],
   "source": [
    "cores = ['vermelho', 1, 'verde', 'azul']\n",
    "\n",
    "for indice, cor in enumerate(cores):\n",
    "    print(indice, cor)"
   ]
  },
  {
   "cell_type": "markdown",
   "metadata": {},
   "source": [
    "2. **zip**: é usado para iterar sobre múltiplas sequências em paralelo. Ele retorna um iterador de tuplas, onde a i-ésima tupla contém o i-ésimo elemento de cada uma das sequências de entrada.\n",
    "\n",
    "    Permite combinar elementos de várias sequências de uma maneira que é clara e concisa, útil para operações paralelas em dados correlacionados."
   ]
  },
  {
   "cell_type": "code",
   "execution_count": 62,
   "metadata": {},
   "outputs": [
    {
     "name": "stdout",
     "output_type": "stream",
     "text": [
      "Nome: Alessandra Idade: 10\n",
      "Nome: Agnes Idade: 0\n",
      "Nome: Diana Idade: 20\n"
     ]
    }
   ],
   "source": [
    "nomes = [\"Alessandra\", \"Agnes\", \"Diana\"]\n",
    "idades = [10, 0, 20]\n",
    "\n",
    "for nome, idade in zip(nomes, idades):\n",
    "    print(f\"Nome: {nome} Idade: {idade}\")\n"
   ]
  },
  {
   "cell_type": "markdown",
   "metadata": {},
   "source": [
    "## Set \n",
    "\n",
    "Conjuntos (sets) em Python são coleções desordenadas de elementos únicos e imutáveis. \n",
    "\n",
    "- **Desordenados**: Os itens em um conjunto não têm uma ordem definida; portanto, não podem ser acessados por índices ou chaves.\n",
    "- **Elementos únicos:** Cada elemento em um conjunto é único. Se você tentar adicionar elementos duplicados, eles não serão incluídos mais de uma vez.\n",
    "- **Imutáveis**: Enquanto o conjunto em si é mutável (você pode adicionar ou remover elementos), os elementos contidos no conjunto devem ser de tipos imutáveis, como números, strings e tuplas."
   ]
  },
  {
   "cell_type": "code",
   "execution_count": 63,
   "metadata": {},
   "outputs": [
    {
     "data": {
      "text/plain": [
       "{1, 3, 5, 6, 7, 17, 18}"
      ]
     },
     "execution_count": 63,
     "metadata": {},
     "output_type": "execute_result"
    }
   ],
   "source": [
    "conjunto = {}\n",
    "conjunto = {17, 18, 7, 1, 3, 3, 5, 6}\n",
    "\n",
    "conjunto"
   ]
  },
  {
   "cell_type": "code",
   "execution_count": 64,
   "metadata": {},
   "outputs": [
    {
     "data": {
      "text/plain": [
       "{1, 3, 5, 6, 7, 17, 18}"
      ]
     },
     "execution_count": 64,
     "metadata": {},
     "output_type": "execute_result"
    }
   ],
   "source": [
    "conjunto_set = set([17, 18, 7, 1, 3, 3, 5, 6])\n",
    "conjunto_set"
   ]
  },
  {
   "cell_type": "code",
   "execution_count": 65,
   "metadata": {},
   "outputs": [],
   "source": [
    "conjunto_set.add(96)"
   ]
  },
  {
   "cell_type": "code",
   "execution_count": 66,
   "metadata": {},
   "outputs": [
    {
     "data": {
      "text/plain": [
       "{1, 3, 5, 6, 7, 17, 18, 96}"
      ]
     },
     "execution_count": 66,
     "metadata": {},
     "output_type": "execute_result"
    }
   ],
   "source": [
    "conjunto_set"
   ]
  },
  {
   "cell_type": "code",
   "execution_count": 70,
   "metadata": {},
   "outputs": [
    {
     "data": {
      "text/plain": [
       "['abacate', 'abacate', 'maca', 'uva', 'uva', 'mamao']"
      ]
     },
     "execution_count": 70,
     "metadata": {},
     "output_type": "execute_result"
    }
   ],
   "source": [
    "lista = ['abacate', 'abacate', 'maca', 'uva', 'uva', 'mamao']\n",
    "lista"
   ]
  },
  {
   "cell_type": "code",
   "execution_count": 75,
   "metadata": {},
   "outputs": [
    {
     "data": {
      "text/plain": [
       "{'abacate', 'maca', 'mamao', 'uva'}"
      ]
     },
     "execution_count": 75,
     "metadata": {},
     "output_type": "execute_result"
    }
   ],
   "source": [
    "lista_unica = set(lista)\n",
    "lista_unica"
   ]
  },
  {
   "cell_type": "code",
   "execution_count": 80,
   "metadata": {},
   "outputs": [
    {
     "data": {
      "text/plain": [
       "list[{1, 2, 3, 66, 5, 55}]"
      ]
     },
     "execution_count": 80,
     "metadata": {},
     "output_type": "execute_result"
    }
   ],
   "source": [
    "conjunto = set([1, 2, 3, 66, 5, 55, 66])\n",
    "conjunto"
   ]
  },
  {
   "cell_type": "code",
   "execution_count": 81,
   "metadata": {},
   "outputs": [
    {
     "data": {
      "text/plain": [
       "{1, 2, 4, 5, 6, 9, 10}"
      ]
     },
     "execution_count": 81,
     "metadata": {},
     "output_type": "execute_result"
    }
   ],
   "source": [
    "c1 = {1, 2, 4, 6, 9}\n",
    "c2 = {2, 4, 5, 10}\n",
    "\n",
    "c1.union(c2)"
   ]
  },
  {
   "cell_type": "code",
   "execution_count": 82,
   "metadata": {},
   "outputs": [
    {
     "data": {
      "text/plain": [
       "{2, 4}"
      ]
     },
     "execution_count": 82,
     "metadata": {},
     "output_type": "execute_result"
    }
   ],
   "source": [
    "c1 & c2"
   ]
  },
  {
   "cell_type": "code",
   "execution_count": null,
   "metadata": {},
   "outputs": [],
   "source": []
  },
  {
   "cell_type": "markdown",
   "metadata": {},
   "source": [
    "## 🙃 Voltando ao problema inicial da aula\n",
    "**Nosso problema hoje**: Como fazer um sistema que cadastre usuários, permita buscá-los e não permita modificações acidentais."
   ]
  },
  {
   "cell_type": "code",
   "execution_count": 83,
   "metadata": {},
   "outputs": [
    {
     "name": "stdout",
     "output_type": "stream",
     "text": [
      "Opção inválida, insira S ou N\n"
     ]
    }
   ],
   "source": [
    "from collections import namedtuple\n",
    "Pessoa = namedtuple('Pessoa', [\"nome\", \"idade\", \"estado\"])\n",
    "\n",
    "continuar_cadastro = True\n",
    "cadastros = []\n",
    "\n",
    "while continuar_cadastro:\n",
    "    cadastrar = input(\"Deseja continuar S/N? \")\n",
    "    if cadastrar.upper() == \"S\":\n",
    "        nome = input(\"Informe o nome: \")\n",
    "        idade = input(\"Informe o idade: \")\n",
    "        estado = input(\"Informe o estado: \")\n",
    "\n",
    "        cadastro = Pessoa(nome, idade, estado)\n",
    "\n",
    "        cadastros.append(cadastro)\n",
    "    elif cadastrar.upper() == \"N\":\n",
    "        continuar_cadastro = False\n",
    "    else:\n",
    "        print(\"Opção inválida, insira S ou N\")\n",
    "\n",
    "    \n"
   ]
  },
  {
   "cell_type": "code",
   "execution_count": 84,
   "metadata": {},
   "outputs": [
    {
     "name": "stdout",
     "output_type": "stream",
     "text": [
      "Nome: lauro, Idade: 28, Estado: SP\n",
      "Nome: beatriz, Idade: 20, Estado: SP\n",
      "Nome: Vytor, Idade: 26, Estado: PE\n"
     ]
    }
   ],
   "source": [
    "for c in cadastros:\n",
    "    print(f\"Nome: {c.nome}, Idade: {c.idade}, Estado: {c.estado}\")"
   ]
  },
  {
   "cell_type": "code",
   "execution_count": null,
   "metadata": {},
   "outputs": [],
   "source": []
  },
  {
   "cell_type": "markdown",
   "metadata": {},
   "source": []
  }
 ],
 "metadata": {
  "kernelspec": {
   "display_name": "Python 3",
   "language": "python",
   "name": "python3"
  },
  "language_info": {
   "codemirror_mode": {
    "name": "ipython",
    "version": 3
   },
   "file_extension": ".py",
   "mimetype": "text/x-python",
   "name": "python",
   "nbconvert_exporter": "python",
   "pygments_lexer": "ipython3",
   "version": "3.12.2"
  }
 },
 "nbformat": 4,
 "nbformat_minor": 2
}
