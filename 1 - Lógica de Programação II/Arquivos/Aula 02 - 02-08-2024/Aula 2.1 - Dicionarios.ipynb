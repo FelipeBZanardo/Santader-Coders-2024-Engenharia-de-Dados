{
 "cells": [
  {
   "cell_type": "markdown",
   "metadata": {},
   "source": [
    "# Aula 2 | Dicionários\n",
    "\n",
    "Nesta aula, vamos explorar conceitos fundamentais de dicionários: estruturas de dados que armazenam pares de chave-valor. \n",
    "\n",
    "**Nosso problema hoje**: Como fazer um sistema de cadastro utilizando uma estrutura fácil de navegar indexada por um identificador único (ex: cpf).\n",
    "\n",
    "__________"
   ]
  },
  {
   "cell_type": "markdown",
   "metadata": {},
   "source": [
    "## 1. Dicionários \n",
    "\n",
    "O dicionário também é uma **coleção de dados** que, diferente de listas e tuplas, é definido a partir de dois elementos: uma **chave** e um **valor** (ou como também chamamos, par chave-valor).\n",
    "\n",
    "- Par chave-valor: cada elemento em um dicionário é um par de chave-valor. A chave é usada para identificar unicamente o elemento, e o valor é o dado associado a essa chave.\n",
    "- Chaves únicas: cada chave deve ser única. Ao adicionar um par chave-valor onde a chave já existe, o valor antigo será substituído pelo novo.\n",
    "- Acesso sápido: são otimizados para recuperar rapidamente o valor quando a chave é conhecida.\n",
    "- Mutáveis: é possível adicionar, remover e modificar os pares chave-valor em um dicionário.\n",
    "\n",
    "São extremamente úteis para organizar dados de maneira a facilitar a busca e atualização, sendo uma das estruturas de dados mais versáteis e utilizadas em Python.\n",
    "\n",
    "**Usos comuns**: dicionários são úteis quando precisamos armazenar informações relacionadas de maneira estruturada, lidar com estruturas de dados mais complexas e também são análogos aos objetos JSON, tornando-os ideais para trabalhar com dados de APIs."
   ]
  },
  {
   "cell_type": "markdown",
   "metadata": {},
   "source": [
    "### Criando dicionários\n",
    "\n",
    "Dicionários são definidos **entre chaves {}** seguindo a estrutura:\n",
    "```dicionario = {\"chave\": valor}```\n",
    "ou com a função dict()."
   ]
  },
  {
   "cell_type": "code",
   "execution_count": null,
   "metadata": {},
   "outputs": [],
   "source": []
  },
  {
   "cell_type": "code",
   "execution_count": null,
   "metadata": {},
   "outputs": [],
   "source": []
  },
  {
   "cell_type": "markdown",
   "metadata": {},
   "source": [
    "Podemos também criar dicionários a partir de sequências, usando a função ```zip```.\n",
    "\n",
    "> Lembrando: A função zip() em Python é usada para *combinar elementos de duas ou mais sequências* (como listas, tuplas ou strings) em pares ou grupos de elementos. Funciona \"emparelhando\" os elementos de cada sequência, criando uma nova sequência de tuplas. "
   ]
  },
  {
   "cell_type": "code",
   "execution_count": null,
   "metadata": {},
   "outputs": [],
   "source": []
  },
  {
   "cell_type": "code",
   "execution_count": null,
   "metadata": {},
   "outputs": [],
   "source": []
  },
  {
   "cell_type": "markdown",
   "metadata": {},
   "source": [
    "### Consultando elementos de um dicionário\n",
    "\n",
    "Podemos acessar os valores do dicionário a partir das chaves:"
   ]
  },
  {
   "cell_type": "code",
   "execution_count": null,
   "metadata": {},
   "outputs": [],
   "source": []
  },
  {
   "cell_type": "code",
   "execution_count": null,
   "metadata": {},
   "outputs": [],
   "source": []
  },
  {
   "cell_type": "markdown",
   "metadata": {},
   "source": [
    "Ou usando o método get():"
   ]
  },
  {
   "cell_type": "code",
   "execution_count": null,
   "metadata": {},
   "outputs": [],
   "source": []
  },
  {
   "cell_type": "markdown",
   "metadata": {},
   "source": [
    "Se usarmos o get() com uma chave que não existe:"
   ]
  },
  {
   "cell_type": "code",
   "execution_count": null,
   "metadata": {},
   "outputs": [],
   "source": []
  },
  {
   "cell_type": "markdown",
   "metadata": {},
   "source": [
    "Poderíamos configurar um valor padrão caso a chave não exista:"
   ]
  },
  {
   "cell_type": "code",
   "execution_count": null,
   "metadata": {},
   "outputs": [],
   "source": []
  },
  {
   "cell_type": "markdown",
   "metadata": {},
   "source": [
    "Podemos verificar se um dicionário contém uma chave usando o `in`:"
   ]
  },
  {
   "cell_type": "code",
   "execution_count": null,
   "metadata": {},
   "outputs": [],
   "source": []
  },
  {
   "cell_type": "code",
   "execution_count": null,
   "metadata": {},
   "outputs": [],
   "source": []
  },
  {
   "cell_type": "code",
   "execution_count": null,
   "metadata": {},
   "outputs": [],
   "source": []
  },
  {
   "cell_type": "markdown",
   "metadata": {},
   "source": [
    "### Adicionando e removendo elementos\n",
    "\n",
    "Alterações nos dicionários para inserção ou remoção de valores podem ser feitas de algumas formas:"
   ]
  },
  {
   "cell_type": "markdown",
   "metadata": {},
   "source": [
    "Atribuição direta: para adicionar um novo par chave-valor, atribua um valor a uma nova chave usando colchetes []."
   ]
  },
  {
   "cell_type": "code",
   "execution_count": null,
   "metadata": {},
   "outputs": [],
   "source": []
  },
  {
   "cell_type": "markdown",
   "metadata": {},
   "source": [
    "Método update(): permite adicionar múltiplos pares chave-valor de uma só vez, ou atualizar o valor de chaves existentes"
   ]
  },
  {
   "cell_type": "code",
   "execution_count": null,
   "metadata": {},
   "outputs": [],
   "source": []
  },
  {
   "cell_type": "markdown",
   "metadata": {},
   "source": [
    "Método pop(): remove a chave especificada e retorna o valor associado. Se a chave não existir, um erro é gerado, a menos que um valor padrão seja fornecido."
   ]
  },
  {
   "cell_type": "code",
   "execution_count": null,
   "metadata": {},
   "outputs": [],
   "source": []
  },
  {
   "cell_type": "code",
   "execution_count": null,
   "metadata": {},
   "outputs": [],
   "source": []
  },
  {
   "cell_type": "markdown",
   "metadata": {},
   "source": [
    "Operação del: remove um par chave-valor usando a chave. Se a chave não existir, um erro é gerado."
   ]
  },
  {
   "cell_type": "code",
   "execution_count": null,
   "metadata": {},
   "outputs": [],
   "source": []
  },
  {
   "cell_type": "code",
   "execution_count": null,
   "metadata": {},
   "outputs": [],
   "source": []
  },
  {
   "cell_type": "markdown",
   "metadata": {},
   "source": [
    "### Iterando um dicionário\n",
    "\n",
    "Percorrer os elementos de um dicionário em Python pode ser feito de várias maneiras, dependendo se precisamos das chaves, valores ou de ambos."
   ]
  },
  {
   "cell_type": "markdown",
   "metadata": {},
   "source": [
    "Iterar **apenas sobre as chaves**: por padrão, quando você itera sobre um dicionário, você está iterando sobre suas chaves. "
   ]
  },
  {
   "cell_type": "code",
   "execution_count": null,
   "metadata": {},
   "outputs": [],
   "source": []
  },
  {
   "cell_type": "markdown",
   "metadata": {},
   "source": [
    "Iterar **sobre os valores**: usamos o método values()."
   ]
  },
  {
   "cell_type": "code",
   "execution_count": null,
   "metadata": {},
   "outputs": [],
   "source": []
  },
  {
   "cell_type": "markdown",
   "metadata": {},
   "source": [
    "Iterar **sobre chaves e valores**: para iterar sobre ambos, chaves e valores, use o método items(). Isso retorna cada item como uma tupla (chave, valor)."
   ]
  },
  {
   "cell_type": "code",
   "execution_count": null,
   "metadata": {},
   "outputs": [],
   "source": []
  },
  {
   "cell_type": "markdown",
   "metadata": {},
   "source": [
    "🤔 E se eu quiser trazer também o índice ao percorrer os elementos do dicionário?\n",
    "\n",
    "> Iterar com **controle de índice**: se precisarmos de um índice durante a iteração, podemos usar a função enumerate()."
   ]
  },
  {
   "cell_type": "code",
   "execution_count": null,
   "metadata": {},
   "outputs": [],
   "source": []
  },
  {
   "cell_type": "markdown",
   "metadata": {},
   "source": [
    "### Combinando outras estruturas no dicionário\n",
    "\n",
    "O conteúdo de um dicionário pode ter outras estruturas de dados, inclusive o próprio dicionário. \n",
    "\n",
    "Exemplo: Suponha que queremos criar um dicionário que agrupe números em diferentes categorias, como \"pares\" e \"ímpares\". Podemos resolver assim:"
   ]
  },
  {
   "cell_type": "code",
   "execution_count": null,
   "metadata": {},
   "outputs": [],
   "source": []
  },
  {
   "cell_type": "code",
   "execution_count": null,
   "metadata": {},
   "outputs": [],
   "source": []
  },
  {
   "cell_type": "markdown",
   "metadata": {},
   "source": [
    "Dentro de cada lista, poderíamos realizar as operações que são pertinentes às listas."
   ]
  },
  {
   "cell_type": "code",
   "execution_count": null,
   "metadata": {},
   "outputs": [],
   "source": []
  },
  {
   "cell_type": "code",
   "execution_count": null,
   "metadata": {},
   "outputs": [],
   "source": []
  },
  {
   "cell_type": "code",
   "execution_count": null,
   "metadata": {},
   "outputs": [],
   "source": []
  },
  {
   "cell_type": "code",
   "execution_count": null,
   "metadata": {},
   "outputs": [],
   "source": []
  },
  {
   "cell_type": "markdown",
   "metadata": {},
   "source": [
    "### 👩‍💻 Mão na massa "
   ]
  },
  {
   "cell_type": "markdown",
   "metadata": {},
   "source": [
    "#### Desafio 1\n",
    "\n",
    "Considere que temos um dicionário de tamanho N.\n",
    "\n",
    "Com os nomes sendo as chaves e as notas sendo os valores\n",
    "\n",
    "```\n",
    "{'Alex': [10, 5, 3],\n",
    " 'Maria': [5, 7, 6.5],\n",
    " ...}\n",
    "```\n",
    "Escreva um programa que pegue esse dicionário e retorne um novo dicionário com as chaves sendo os nomes dos estudantes e os valores a média de suas notas:\n",
    "\n",
    "```\n",
    "{'Alex': 6.0,\n",
    " 'Maria': 6.16\n",
    " ...\n",
    "```\n"
   ]
  },
  {
   "cell_type": "code",
   "execution_count": null,
   "metadata": {},
   "outputs": [],
   "source": []
  },
  {
   "cell_type": "markdown",
   "metadata": {},
   "source": [
    "#### Desafio 2\n",
    "\n",
    "Escreva um programa que aceite um inteiro (k) e retorne um dicionário em que a chave é um inteiro de 1 até o valor (k) e os valores são o fatorial desses (1!, 2!, ..., k!).\n",
    "\n",
    "Por exemplo:  \n",
    "> Entrada k=1\n",
    "```\n",
    "{1: 1}\n",
    "```\n",
    "\n",
    "> Entrada k=2\n",
    "```\n",
    "{1: 1,\n",
    " 2: 2}\n",
    "```\n",
    "\n",
    "> Entrada k=5\n",
    "```\n",
    "{1: 1,\n",
    " 2: 2,\n",
    " 3: 6,\n",
    " 4: 24,\n",
    " 5: 120}\n",
    "```"
   ]
  },
  {
   "cell_type": "code",
   "execution_count": null,
   "metadata": {},
   "outputs": [],
   "source": []
  },
  {
   "cell_type": "markdown",
   "metadata": {},
   "source": [
    "#### Desafio 3\n",
    "\n",
    "Considere uma lista de palavras qualquer, exemplo:\n",
    "\n",
    "```palavras = ['abacaxi', 'maçã', 'mamão', 'abacate', 'kiwi', 'laranja', 'limão']```\n",
    "\n",
    "Classifique essa lista de acordo com as primeiras letras, como um dicionário de listas nesse formato:\n",
    "\n",
    "```\n",
    "{'a': ['abacaxi', 'abacate'],\n",
    " 'k': ['kiwi'],\n",
    " 'l': ['laranja', 'limao'],\n",
    " 'm': ['maçã', 'mamão']\n",
    "}\n",
    "```"
   ]
  },
  {
   "cell_type": "code",
   "execution_count": null,
   "metadata": {},
   "outputs": [],
   "source": []
  },
  {
   "cell_type": "markdown",
   "metadata": {},
   "source": [
    "## 🙃 Voltando ao problema inicial da aula\n",
    "**Nosso problema hoje**: Como fazer um sistema de cadastro utilizando uma estrutura fácil de navegar indexada por um identificador único (ex: cpf)."
   ]
  },
  {
   "cell_type": "code",
   "execution_count": null,
   "metadata": {},
   "outputs": [],
   "source": []
  },
  {
   "cell_type": "code",
   "execution_count": null,
   "metadata": {},
   "outputs": [],
   "source": []
  },
  {
   "cell_type": "code",
   "execution_count": null,
   "metadata": {},
   "outputs": [],
   "source": []
  }
 ],
 "metadata": {
  "kernelspec": {
   "display_name": "Python 3",
   "language": "python",
   "name": "python3"
  },
  "language_info": {
   "codemirror_mode": {
    "name": "ipython",
    "version": 3
   },
   "file_extension": ".py",
   "mimetype": "text/x-python",
   "name": "python",
   "nbconvert_exporter": "python",
   "pygments_lexer": "ipython3",
   "version": "3.11.2"
  }
 },
 "nbformat": 4,
 "nbformat_minor": 2
}
