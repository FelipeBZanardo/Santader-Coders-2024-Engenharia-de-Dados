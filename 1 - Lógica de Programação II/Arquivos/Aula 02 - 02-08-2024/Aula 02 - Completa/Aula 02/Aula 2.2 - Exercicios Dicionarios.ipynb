{
 "cells": [
  {
   "cell_type": "markdown",
   "metadata": {},
   "source": [
    "# Aula 2 | Exercícios de dicionários"
   ]
  },
  {
   "cell_type": "markdown",
   "metadata": {},
   "source": [
    "### Questão 1\n",
    "\n",
    "Escreva uma programa que imprima um dicionário onde as chaves são números de 1 a 16 e os valores são os quadrados das respectivas chaves."
   ]
  },
  {
   "cell_type": "markdown",
   "metadata": {},
   "source": [
    "### Questão 2\n",
    "\n",
    "Crie um dicionário chamado estoque com informações sobre os produtos em um estoque. Cada chave deve ser o nome de um produto e o valor deve ser a quantidade disponível desse produto. Em seguida, escreva um programa que atualiza o estoque após a venda de alguns produtos."
   ]
  },
  {
   "cell_type": "markdown",
   "metadata": {},
   "source": [
    "### Questão 3\n",
    "\n",
    "Escreva uma função chamada contar_palavras que recebe uma lista de palavras como argumento e retorna um dicionário onde as chaves são as palavras únicas na lista e os valores são a contagem de quantas vezes cada palavra aparece na lista."
   ]
  },
  {
   "cell_type": "markdown",
   "metadata": {},
   "source": [
    "### Questão 4\n",
    "\n",
    "Faça um programa que filtre um dicionário com base em seus valores. Exemplo _(pessoa: idade)_:\n",
    "\n",
    "**Dicionario original:**\n",
    "\n",
    "> {'Ana': 30, 'Maria': 45, 'Gustavo': 18, 'Gabriel': 19}<br>\n",
    "\n",
    "**Pessoas com mais de 25:**\n",
    "> {'Ana': 30, 'Maria': 45}"
   ]
  }
 ],
 "metadata": {
  "kernelspec": {
   "display_name": "Python 3",
   "language": "python",
   "name": "python3"
  },
  "language_info": {
   "codemirror_mode": {
    "name": "ipython",
    "version": 3
   },
   "file_extension": ".py",
   "mimetype": "text/x-python",
   "name": "python",
   "nbconvert_exporter": "python",
   "pygments_lexer": "ipython3",
   "version": "3.11.2"
  }
 },
 "nbformat": 4,
 "nbformat_minor": 2
}
