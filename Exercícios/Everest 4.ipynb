{
 "cells": [
  {
   "cell_type": "markdown",
   "metadata": {},
   "source": [
    "### Validação por blocos try except - parte 6\n",
    "Quando implementamos um software, precisamos pensar nas diferentes situações que podem ocorrer nele, inclusive possíveis falhas. Uma falha que não seja detectada previamente pode resultar em uma interrupção abrupta do programa e esta pode ocorrer de n formas.\n",
    "\n",
    "Por exemplo, suponhamos que um programa necessite de arquitos externos para ser executado e um desses arquivos tenha sido movido para outro diretório, porém, o programa esteja fazendo a leitura do arquivo no diretório antigo. Quando o programa for executado, ele não encontrará o arquivo e sua execução pode ser interrompida. Um outro exemplo são operações matemáticas não permitidas, como uma divisão por zero.\n",
    "\n",
    "Para evitar isso, utilizamos blocos try-except afim de tratar possíveis erros e evitar quebra do programa. Um erro comum de ocorrer é alguma variável do programa estar vazia em um dado momento quando não deveria estar. Sabendo disso, faça um programa que lance uma exceção TypeError caso uma variável seja None."
   ]
  },
  {
   "cell_type": "code",
   "execution_count": 2,
   "metadata": {},
   "outputs": [
    {
     "ename": "TypeError",
     "evalue": "",
     "output_type": "error",
     "traceback": [
      "\u001b[1;31m---------------------------------------------------------------------------\u001b[0m",
      "\u001b[1;31mTypeError\u001b[0m                                 Traceback (most recent call last)",
      "Cell \u001b[1;32mIn[2], line 4\u001b[0m\n\u001b[0;32m      1\u001b[0m \u001b[38;5;28;01mdef\u001b[39;00m \u001b[38;5;21mvalida_variavel\u001b[39m(variavel):\n\u001b[0;32m      2\u001b[0m     \u001b[38;5;28;01mif\u001b[39;00m \u001b[38;5;129;01mnot\u001b[39;00m variavel: \u001b[38;5;28;01mraise\u001b[39;00m \u001b[38;5;167;01mTypeError\u001b[39;00m\n\u001b[1;32m----> 4\u001b[0m \u001b[43mvalida_variavel\u001b[49m\u001b[43m(\u001b[49m\u001b[38;5;28;43;01mNone\u001b[39;49;00m\u001b[43m)\u001b[49m\n",
      "Cell \u001b[1;32mIn[2], line 2\u001b[0m, in \u001b[0;36mvalida_variavel\u001b[1;34m(variavel)\u001b[0m\n\u001b[0;32m      1\u001b[0m \u001b[38;5;28;01mdef\u001b[39;00m \u001b[38;5;21mvalida_variavel\u001b[39m(variavel):\n\u001b[1;32m----> 2\u001b[0m     \u001b[38;5;28;01mif\u001b[39;00m \u001b[38;5;129;01mnot\u001b[39;00m variavel: \u001b[38;5;28;01mraise\u001b[39;00m \u001b[38;5;167;01mTypeError\u001b[39;00m\n",
      "\u001b[1;31mTypeError\u001b[0m: "
     ]
    }
   ],
   "source": [
    "def valida_variavel(variavel):\n",
    "    if not variavel: raise TypeError\n",
    "\n",
    "valida_variavel(None)\n",
    "\t"
   ]
  },
  {
   "cell_type": "markdown",
   "metadata": {},
   "source": [
    "### Validação por blocos try except - parte 5\n",
    "Quando implementamos um software, precisamos pensar nas diferentes situações que podem ocorrer nele, inclusive possíveis falhas. Uma falha que não seja detectada previamente pode resultar em uma interrupção abrupta do programa e esta pode ocorrer de diferentes formas.\n",
    "\n",
    "Por exemplo, suponhamos que um programa necessite de arquitos externos para ser executado e um desses arquivos tenha sido movido para outro diretório, porém, o programa esteja fazendo a leitura do arquivo no diretório antigo. Quando o programa for executado, ele não encontrará o arquivo e sua execução pode ser interrompida. Um outro exemplo são operações matemáticas não permitidas, como uma divisão por zero.\n",
    "\n",
    "Para evitar isso, utilizamos blocos try-except a fim de tratar possíveis erros e evitar a quebra do programa. Podemos utilizar esses blocos juntamente também de estruturas if-else. Sabendo disso, crie uma função verifica_extensao() que recebe um caminho de um arquivo a ser lido por um programa e valide a extensão deste arquivo. Será considerada uma extensão válida os arquivos nos formatos .jpg, .jpeg e .png, os demais deverão lançar uma exceção Exception(\"Formato inválido\")."
   ]
  },
  {
   "cell_type": "code",
   "execution_count": 8,
   "metadata": {},
   "outputs": [
    {
     "ename": "Exception",
     "evalue": "Formato inválido",
     "output_type": "error",
     "traceback": [
      "\u001b[1;31m---------------------------------------------------------------------------\u001b[0m",
      "\u001b[1;31mException\u001b[0m                                 Traceback (most recent call last)",
      "Cell \u001b[1;32mIn[8], line 5\u001b[0m\n\u001b[0;32m      2\u001b[0m \textensoes_validas \u001b[38;5;241m=\u001b[39m [\u001b[38;5;124m'\u001b[39m\u001b[38;5;124mjpg\u001b[39m\u001b[38;5;124m'\u001b[39m, \u001b[38;5;124m'\u001b[39m\u001b[38;5;124mjpeg\u001b[39m\u001b[38;5;124m'\u001b[39m, \u001b[38;5;124m'\u001b[39m\u001b[38;5;124mpng\u001b[39m\u001b[38;5;124m'\u001b[39m]\n\u001b[0;32m      3\u001b[0m \t\u001b[38;5;28;01mif\u001b[39;00m path\u001b[38;5;241m.\u001b[39msplit(\u001b[38;5;124m'\u001b[39m\u001b[38;5;124m.\u001b[39m\u001b[38;5;124m'\u001b[39m)[\u001b[38;5;241m1\u001b[39m] \u001b[38;5;129;01mnot\u001b[39;00m \u001b[38;5;129;01min\u001b[39;00m extensoes_validas: \u001b[38;5;28;01mraise\u001b[39;00m \u001b[38;5;167;01mException\u001b[39;00m(\u001b[38;5;124m\"\u001b[39m\u001b[38;5;124mFormato inválido\u001b[39m\u001b[38;5;124m\"\u001b[39m)\n\u001b[1;32m----> 5\u001b[0m \u001b[43mverifica_extensao\u001b[49m\u001b[43m(\u001b[49m\u001b[38;5;124;43m'\u001b[39;49m\u001b[38;5;124;43marquivo.xml\u001b[39;49m\u001b[38;5;124;43m'\u001b[39;49m\u001b[43m)\u001b[49m\n",
      "Cell \u001b[1;32mIn[8], line 3\u001b[0m, in \u001b[0;36mverifica_extensao\u001b[1;34m(path)\u001b[0m\n\u001b[0;32m      1\u001b[0m \u001b[38;5;28;01mdef\u001b[39;00m \u001b[38;5;21mverifica_extensao\u001b[39m(path):\n\u001b[0;32m      2\u001b[0m \textensoes_validas \u001b[38;5;241m=\u001b[39m [\u001b[38;5;124m'\u001b[39m\u001b[38;5;124mjpg\u001b[39m\u001b[38;5;124m'\u001b[39m, \u001b[38;5;124m'\u001b[39m\u001b[38;5;124mjpeg\u001b[39m\u001b[38;5;124m'\u001b[39m, \u001b[38;5;124m'\u001b[39m\u001b[38;5;124mpng\u001b[39m\u001b[38;5;124m'\u001b[39m]\n\u001b[1;32m----> 3\u001b[0m \t\u001b[38;5;28;01mif\u001b[39;00m path\u001b[38;5;241m.\u001b[39msplit(\u001b[38;5;124m'\u001b[39m\u001b[38;5;124m.\u001b[39m\u001b[38;5;124m'\u001b[39m)[\u001b[38;5;241m1\u001b[39m] \u001b[38;5;129;01mnot\u001b[39;00m \u001b[38;5;129;01min\u001b[39;00m extensoes_validas: \u001b[38;5;28;01mraise\u001b[39;00m \u001b[38;5;167;01mException\u001b[39;00m(\u001b[38;5;124m\"\u001b[39m\u001b[38;5;124mFormato inválido\u001b[39m\u001b[38;5;124m\"\u001b[39m)\n",
      "\u001b[1;31mException\u001b[0m: Formato inválido"
     ]
    }
   ],
   "source": [
    "def verifica_extensao(path):\n",
    "\textensoes_validas = ['jpg', 'jpeg', 'png']\n",
    "\tif path.split('.')[1] not in extensoes_validas: raise Exception(\"Formato inválido\")\n",
    "\n",
    "verifica_extensao('arquivo.xml')"
   ]
  },
  {
   "cell_type": "markdown",
   "metadata": {},
   "source": [
    "### Validação por blocos try except - parte 4\n",
    "Quando implementamos um software, precisamos pensar nas diferentes situações que podem ocorrer nele, inclusive possíveis falhas. Uma falha que não seja detectada previamente pode resultar em uma interrupção abrupta do programa e esta pode ocorrer de diferentes formas.\n",
    "\n",
    "Por exemplo, suponhamos que um programa necessite de arquitos externos para ser executado e um desses arquivos tenha sido movido para outro diretório, porém, o programa esteja fazendo a leitura do arquivo no diretório antigo. Quando o programa for executado, ele não encontrará o arquivo e sua execução pode ser interrompida. Um outro exemplo são operações matemáticas não permitidas, como uma divisão por zero.\n",
    "\n",
    "Para evitar isso, utilizamos blocos try-except a fim de tratar possíveis erros e evitar a quebra do programa. Podemos utilizar esses blocos juntamente também de estruturas if-else. Sabendo disso, crie uma função verifica_numero(x1) que recebe um número e, caso este número não seja positivo, retorne uma exceção de tipo Exception(\"Número deverá ser maior que zero\")."
   ]
  },
  {
   "cell_type": "code",
   "execution_count": 9,
   "metadata": {},
   "outputs": [
    {
     "ename": "Exception",
     "evalue": "Número deverá ser maior que zero",
     "output_type": "error",
     "traceback": [
      "\u001b[1;31m---------------------------------------------------------------------------\u001b[0m",
      "\u001b[1;31mException\u001b[0m                                 Traceback (most recent call last)",
      "Cell \u001b[1;32mIn[9], line 4\u001b[0m\n\u001b[0;32m      1\u001b[0m \u001b[38;5;28;01mdef\u001b[39;00m \u001b[38;5;21mverifica_numero\u001b[39m(x1):\n\u001b[0;32m      2\u001b[0m \t\u001b[38;5;28;01mif\u001b[39;00m x1 \u001b[38;5;241m<\u001b[39m\u001b[38;5;241m=\u001b[39m\u001b[38;5;241m0\u001b[39m: \u001b[38;5;28;01mraise\u001b[39;00m \u001b[38;5;167;01mException\u001b[39;00m(\u001b[38;5;124m\"\u001b[39m\u001b[38;5;124mNúmero deverá ser maior que zero\u001b[39m\u001b[38;5;124m\"\u001b[39m) \n\u001b[1;32m----> 4\u001b[0m \u001b[43mverifica_numero\u001b[49m\u001b[43m(\u001b[49m\u001b[38;5;241;43m-\u001b[39;49m\u001b[38;5;241;43m4\u001b[39;49m\u001b[43m)\u001b[49m\n",
      "Cell \u001b[1;32mIn[9], line 2\u001b[0m, in \u001b[0;36mverifica_numero\u001b[1;34m(x1)\u001b[0m\n\u001b[0;32m      1\u001b[0m \u001b[38;5;28;01mdef\u001b[39;00m \u001b[38;5;21mverifica_numero\u001b[39m(x1):\n\u001b[1;32m----> 2\u001b[0m \t\u001b[38;5;28;01mif\u001b[39;00m x1 \u001b[38;5;241m<\u001b[39m\u001b[38;5;241m=\u001b[39m\u001b[38;5;241m0\u001b[39m: \u001b[38;5;28;01mraise\u001b[39;00m \u001b[38;5;167;01mException\u001b[39;00m(\u001b[38;5;124m\"\u001b[39m\u001b[38;5;124mNúmero deverá ser maior que zero\u001b[39m\u001b[38;5;124m\"\u001b[39m)\n",
      "\u001b[1;31mException\u001b[0m: Número deverá ser maior que zero"
     ]
    }
   ],
   "source": [
    "def verifica_numero(x1):\n",
    "\tif x1 <=0: raise Exception(\"Número deverá ser maior que zero\") \n",
    "\t\n",
    "verifica_numero(-4)"
   ]
  },
  {
   "cell_type": "markdown",
   "metadata": {},
   "source": [
    "### Uso de Arquivos JSON - parte 2\n",
    "No python, principalmente em aplicações web, é muito comum utilizarmos o formato JSON. Essa linguagem possui sintaxe semelhante a um dicionário e torna o entendimento do arquivo legível para humanos.\n",
    "\n",
    "Em um arquivo JSON, podemos ter estruturas que variam desde estruturas semelhantes a dicionários simples como dicionários compostos e diferentes estruturas agregadas (listas e tuplas, por exemplo).\n",
    "\n",
    "Sabendo disso, crie uma função que recebe uma lista de chaves, uma lista de valores (respectivamente) e cria um json a partir dessas listas. A função deverá retornar uma string que representa o json criado."
   ]
  },
  {
   "cell_type": "code",
   "execution_count": 11,
   "metadata": {},
   "outputs": [
    {
     "data": {
      "text/plain": [
       "'{\"cinco\": 5, \"seis\": 6}'"
      ]
     },
     "execution_count": 11,
     "metadata": {},
     "output_type": "execute_result"
    }
   ],
   "source": [
    "import json\n",
    "def cria_arquivo_json(chaves, valores):\n",
    "\treturn json.dumps(dict(zip(chaves, valores)))\n",
    "\n",
    "cria_arquivo_json(['cinco', 'seis'], [5, 6])"
   ]
  },
  {
   "cell_type": "markdown",
   "metadata": {},
   "source": [
    "### Validação por blocos try except - parte 2\n",
    "Quando implementamos um software, precisamos pensar nas diferentes situações que podem ocorrer nele, inclusive possíveis falhas. Uma falha que não seja detectada previamente pode resultar em uma interrupção abrupta do programa e esta pode ocorrer de diferentes formas.\n",
    "\n",
    "Por exemplo, suponhamos que um programa necessite de arquitos externos para ser executado e um desses arquivos tenha sido movido para outro diretório, porém, o programa esteja fazendo a leitura do arquivo no diretório antigo. Quando o programa for executado, ele não encontrará o arquivo e sua execução pode ser interrompida. Um outro exemplo são operações matemáticas não permitidas, como uma divisão por zero.\n",
    "\n",
    "Para evitar isso, utilizamos blocos try-except a fim de tratar possíveis erros e evitar a quebra do programa. Sabendo disso, implemente a função divide_dois_numeros(), que recebe dois números x e y e retorna a divisão do número x por y. Para garantir o uso correto, adicione um bloco try-except nesta função de forma que, caso y seja igual a zero, acione uma cláusula except ZeroDivisionError, além de uma segunda cláusula except para caso a função seja chamada sem um dos dois parâmetros obrigatórios (variáveis x e y), subindo um erro do tipo adequado (alguma built-in Exception) caso algum dos argumentos não seja passado."
   ]
  },
  {
   "cell_type": "code",
   "execution_count": 16,
   "metadata": {},
   "outputs": [
    {
     "ename": "ZeroDivisionError",
     "evalue": "",
     "output_type": "error",
     "traceback": [
      "\u001b[1;31m---------------------------------------------------------------------------\u001b[0m",
      "\u001b[1;31mZeroDivisionError\u001b[0m                         Traceback (most recent call last)",
      "Cell \u001b[1;32mIn[16], line 3\u001b[0m, in \u001b[0;36mdivide_dois_numeros\u001b[1;34m(x, y)\u001b[0m\n\u001b[0;32m      2\u001b[0m \u001b[38;5;28;01mtry\u001b[39;00m:\n\u001b[1;32m----> 3\u001b[0m \t\u001b[38;5;28;01mreturn\u001b[39;00m \u001b[43mx\u001b[49m\u001b[38;5;241;43m/\u001b[39;49m\u001b[43my\u001b[49m\n\u001b[0;32m      4\u001b[0m \u001b[38;5;28;01mexcept\u001b[39;00m \u001b[38;5;167;01mZeroDivisionError\u001b[39;00m:\n",
      "\u001b[1;31mZeroDivisionError\u001b[0m: division by zero",
      "\nDuring handling of the above exception, another exception occurred:\n",
      "\u001b[1;31mZeroDivisionError\u001b[0m                         Traceback (most recent call last)",
      "Cell \u001b[1;32mIn[16], line 9\u001b[0m\n\u001b[0;32m      6\u001b[0m \t\u001b[38;5;28;01mexcept\u001b[39;00m \u001b[38;5;167;01mTypeError\u001b[39;00m: \n\u001b[0;32m      7\u001b[0m \t\t\u001b[38;5;28;01mraise\u001b[39;00m \u001b[38;5;167;01mTypeError\u001b[39;00m\n\u001b[1;32m----> 9\u001b[0m \u001b[43mdivide_dois_numeros\u001b[49m\u001b[43m(\u001b[49m\u001b[38;5;241;43m3\u001b[39;49m\u001b[43m,\u001b[49m\u001b[38;5;241;43m0\u001b[39;49m\u001b[43m)\u001b[49m\n",
      "Cell \u001b[1;32mIn[16], line 5\u001b[0m, in \u001b[0;36mdivide_dois_numeros\u001b[1;34m(x, y)\u001b[0m\n\u001b[0;32m      3\u001b[0m \t\u001b[38;5;28;01mreturn\u001b[39;00m x\u001b[38;5;241m/\u001b[39my\n\u001b[0;32m      4\u001b[0m \u001b[38;5;28;01mexcept\u001b[39;00m \u001b[38;5;167;01mZeroDivisionError\u001b[39;00m:\n\u001b[1;32m----> 5\u001b[0m \t\u001b[38;5;28;01mraise\u001b[39;00m \u001b[38;5;167;01mZeroDivisionError\u001b[39;00m\n\u001b[0;32m      6\u001b[0m \u001b[38;5;28;01mexcept\u001b[39;00m \u001b[38;5;167;01mTypeError\u001b[39;00m: \n\u001b[0;32m      7\u001b[0m \t\u001b[38;5;28;01mraise\u001b[39;00m \u001b[38;5;167;01mTypeError\u001b[39;00m\n",
      "\u001b[1;31mZeroDivisionError\u001b[0m: "
     ]
    }
   ],
   "source": [
    "def divide_dois_numeros(x,y):\n",
    "\ttry:\n",
    "\t\treturn x/y\n",
    "\texcept ZeroDivisionError:\n",
    "\t\traise ZeroDivisionError\n",
    "\texcept TypeError: \n",
    "\t\traise TypeError\n",
    "\t\n",
    "divide_dois_numeros(3,0)"
   ]
  },
  {
   "cell_type": "markdown",
   "metadata": {},
   "source": [
    "### Validação por blocos try except - parte 3\n",
    "Quando implementamos um software, precisamos pensar nas diferentes situações que podem ocorrer nele, inclusive possíveis falhas. Uma falha que não seja detectada previamente pode resultar em uma interrupção abrupta do programa e esta pode ocorrer de diferentes formas.\n",
    "\n",
    "Por exemplo, suponhamos que um programa necessite de arquitos externos para ser executado e um desses arquivos tenha sido movido para outro diretório, porém, o programa esteja fazendo a leitura do arquivo no diretório antigo. Quando o programa for executado, ele não encontrará o arquivo e sua execução pode ser interrompida. Um outro exemplo são operações matemáticas não permitidas, como uma divisão por zero.\n",
    "\n",
    "Para evitar isso, utilizamos blocos try-except a fim de tratar possíveis erros e evitar a quebra do programa. Podemos utilizar esses blocos juntamente também de estruturas if-else. Sabendo disso, crie uma função verifica_numero(x1) que recebe um número e, caso este número não seja de tipo int, retorne uma exceção de tipo TypeError(\"Apenas números inteiros permitidos. Digite novamente\")."
   ]
  },
  {
   "cell_type": "code",
   "execution_count": 19,
   "metadata": {},
   "outputs": [
    {
     "ename": "TypeError",
     "evalue": "Apenas números inteiros permitidos. Digite novamente",
     "output_type": "error",
     "traceback": [
      "\u001b[1;31m---------------------------------------------------------------------------\u001b[0m",
      "\u001b[1;31mTypeError\u001b[0m                                 Traceback (most recent call last)",
      "Cell \u001b[1;32mIn[19], line 4\u001b[0m\n\u001b[0;32m      1\u001b[0m \u001b[38;5;28;01mdef\u001b[39;00m \u001b[38;5;21mverifica_numero\u001b[39m(x1):\n\u001b[0;32m      2\u001b[0m \t\u001b[38;5;28;01mif\u001b[39;00m \u001b[38;5;129;01mnot\u001b[39;00m \u001b[38;5;28misinstance\u001b[39m(x1, \u001b[38;5;28mint\u001b[39m): \u001b[38;5;28;01mraise\u001b[39;00m \u001b[38;5;167;01mTypeError\u001b[39;00m(\u001b[38;5;124m\"\u001b[39m\u001b[38;5;124mApenas números inteiros permitidos. Digite novamente\u001b[39m\u001b[38;5;124m\"\u001b[39m)\n\u001b[1;32m----> 4\u001b[0m \u001b[43mverifica_numero\u001b[49m\u001b[43m(\u001b[49m\u001b[38;5;241;43m1.0\u001b[39;49m\u001b[43m)\u001b[49m\n",
      "Cell \u001b[1;32mIn[19], line 2\u001b[0m, in \u001b[0;36mverifica_numero\u001b[1;34m(x1)\u001b[0m\n\u001b[0;32m      1\u001b[0m \u001b[38;5;28;01mdef\u001b[39;00m \u001b[38;5;21mverifica_numero\u001b[39m(x1):\n\u001b[1;32m----> 2\u001b[0m \t\u001b[38;5;28;01mif\u001b[39;00m \u001b[38;5;129;01mnot\u001b[39;00m \u001b[38;5;28misinstance\u001b[39m(x1, \u001b[38;5;28mint\u001b[39m): \u001b[38;5;28;01mraise\u001b[39;00m \u001b[38;5;167;01mTypeError\u001b[39;00m(\u001b[38;5;124m\"\u001b[39m\u001b[38;5;124mApenas números inteiros permitidos. Digite novamente\u001b[39m\u001b[38;5;124m\"\u001b[39m)\n",
      "\u001b[1;31mTypeError\u001b[0m: Apenas números inteiros permitidos. Digite novamente"
     ]
    }
   ],
   "source": [
    "def verifica_numero(x1):\n",
    "\tif not isinstance(x1, int): raise TypeError(\"Apenas números inteiros permitidos. Digite novamente\")\n",
    "\t\n",
    "verifica_numero(1.0)"
   ]
  },
  {
   "cell_type": "markdown",
   "metadata": {},
   "source": [
    "### Validação por blocos try except - parte 1\n",
    "Quando implementamos um software, precisamos pensar nas diferentes situações que podem ocorrer nele, inclusive possíveis falhas. Uma falha que não seja detectada previamente pode resultar em uma interrupção abrupta do programa e esta pode ocorrer de diferentes formas.\n",
    "\n",
    "Por exemplo, suponhamos que um programa necessite de arquitos externos para ser executado e um desses arquivos tenha sido movido para outro diretório, porém, o programa esteja fazendo a leitura do arquivo no diretório antigo. Quando o programa for executado, ele não encontrará o arquivo e sua execução pode ser interrompida. Um outro exemplo são operações matemáticas não permitidas, como uma divisão por zero.\n",
    "\n",
    "Para evitar isso, utilizamos blocos try-except a fim de tratar possíveis erros e evitar a quebra do programa. Sabendo disso, implemente a função divide_dois_numeros(), que recebe dois números x e y e retorna a divisão do número x por y. Para garantir o uso correto, adicione um bloco try-except nesta função de forma que, caso y seja igual a zero, acione uma cláusula except ZeroDivisionError."
   ]
  },
  {
   "cell_type": "code",
   "execution_count": 21,
   "metadata": {},
   "outputs": [
    {
     "ename": "ZeroDivisionError",
     "evalue": "",
     "output_type": "error",
     "traceback": [
      "\u001b[1;31m---------------------------------------------------------------------------\u001b[0m",
      "\u001b[1;31mZeroDivisionError\u001b[0m                         Traceback (most recent call last)",
      "Cell \u001b[1;32mIn[21], line 3\u001b[0m, in \u001b[0;36mdivide_dois_numeros\u001b[1;34m(x, y)\u001b[0m\n\u001b[0;32m      2\u001b[0m \u001b[38;5;28;01mtry\u001b[39;00m:\n\u001b[1;32m----> 3\u001b[0m \t\u001b[38;5;28;01mreturn\u001b[39;00m \u001b[43mx\u001b[49m\u001b[38;5;241;43m/\u001b[39;49m\u001b[43my\u001b[49m \n\u001b[0;32m      4\u001b[0m \u001b[38;5;28;01mexcept\u001b[39;00m \u001b[38;5;167;01mZeroDivisionError\u001b[39;00m:\n",
      "\u001b[1;31mZeroDivisionError\u001b[0m: division by zero",
      "\nDuring handling of the above exception, another exception occurred:\n",
      "\u001b[1;31mZeroDivisionError\u001b[0m                         Traceback (most recent call last)",
      "Cell \u001b[1;32mIn[21], line 7\u001b[0m\n\u001b[0;32m      4\u001b[0m \t\u001b[38;5;28;01mexcept\u001b[39;00m \u001b[38;5;167;01mZeroDivisionError\u001b[39;00m:\n\u001b[0;32m      5\u001b[0m \t\t\u001b[38;5;28;01mraise\u001b[39;00m \u001b[38;5;167;01mZeroDivisionError\u001b[39;00m\n\u001b[1;32m----> 7\u001b[0m \u001b[43mdivide_dois_numeros\u001b[49m\u001b[43m(\u001b[49m\u001b[38;5;241;43m3\u001b[39;49m\u001b[43m,\u001b[49m\u001b[38;5;241;43m0\u001b[39;49m\u001b[43m)\u001b[49m\n",
      "Cell \u001b[1;32mIn[21], line 5\u001b[0m, in \u001b[0;36mdivide_dois_numeros\u001b[1;34m(x, y)\u001b[0m\n\u001b[0;32m      3\u001b[0m \t\u001b[38;5;28;01mreturn\u001b[39;00m x\u001b[38;5;241m/\u001b[39my \n\u001b[0;32m      4\u001b[0m \u001b[38;5;28;01mexcept\u001b[39;00m \u001b[38;5;167;01mZeroDivisionError\u001b[39;00m:\n\u001b[1;32m----> 5\u001b[0m \t\u001b[38;5;28;01mraise\u001b[39;00m \u001b[38;5;167;01mZeroDivisionError\u001b[39;00m\n",
      "\u001b[1;31mZeroDivisionError\u001b[0m: "
     ]
    }
   ],
   "source": [
    "def divide_dois_numeros(x,y):\n",
    "\ttry:\n",
    "\t\treturn x/y \n",
    "\texcept ZeroDivisionError:\n",
    "\t\traise ZeroDivisionError\n",
    "\t\t\n",
    "divide_dois_numeros(3,0)"
   ]
  },
  {
   "cell_type": "markdown",
   "metadata": {},
   "source": [
    "### Uso de Arquivos JSON - parte 1\n",
    "No python, principalmente em aplicações web, é muito comum utilizarmos o formato JSON. Essa linguagem possui sintaxe semelhante a um dicionário e torna o entendimento do arquivo legível para humanos.\n",
    "\n",
    "Em um arquivo JSON, podemos ter estruturas que variam desde estruturas semelhantes a dicionários simples como dicionários compostos e diferentes estruturas agregadas (listas e tuplas, por exemplo).\n",
    "\n",
    "Sabendo disso, crie a função converte_para_json() que recebe um JSON na forma de string como parâmetro e internamente converte esta string para um objeto do tipo JSON ou dicionário. Adicionalmente, a função recebe um segundo argumento que é alguma das chaves do JSON/dicionário. No fim, a função deve retornar o valor correspondente à chave que foi passada como segundo argumento.\n",
    "\n",
    "Obs.: Importar o módulo json pode ser útil."
   ]
  },
  {
   "cell_type": "code",
   "execution_count": 24,
   "metadata": {},
   "outputs": [
    {
     "data": {
      "text/plain": [
       "'pombo'"
      ]
     },
     "execution_count": 24,
     "metadata": {},
     "output_type": "execute_result"
    }
   ],
   "source": [
    "import json\n",
    "def converte_para_json(json_string, chave):\n",
    "\tdic = json.loads(json_string)\n",
    "\treturn dic.get(chave)\n",
    "\n",
    "converte_para_json('{\"nome\":\"Richarlison\", \"apelido\": \"pombo\"}', 'apelido')"
   ]
  }
 ],
 "metadata": {
  "kernelspec": {
   "display_name": "Python 3",
   "language": "python",
   "name": "python3"
  },
  "language_info": {
   "codemirror_mode": {
    "name": "ipython",
    "version": 3
   },
   "file_extension": ".py",
   "mimetype": "text/x-python",
   "name": "python",
   "nbconvert_exporter": "python",
   "pygments_lexer": "ipython3",
   "version": "3.11.5"
  }
 },
 "nbformat": 4,
 "nbformat_minor": 2
}
