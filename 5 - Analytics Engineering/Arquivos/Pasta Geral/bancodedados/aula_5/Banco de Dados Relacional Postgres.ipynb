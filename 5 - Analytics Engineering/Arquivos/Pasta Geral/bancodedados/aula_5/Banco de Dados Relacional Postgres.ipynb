{
 "cells": [
  {
   "cell_type": "markdown",
   "id": "69341d99",
   "metadata": {},
   "source": [
    "# Banco de Dados Relacional Postgres\n",
    "\n",
    "No curso, utilizaremos o sistema de gerenciamento de banco de dados relacional o postgreSQL.\n",
    "\n",
    "\n",
    "PostgreSQL é um poderoso sistema de banco de dados relacional de objeto, de código aberto, com mais de 30 anos de desenvolvimento ativo, que lhe rendeu uma forte reputação de confiabilidade, robustez de recursos e desempenho.\n",
    "\n",
    "Há uma grande quantidade de informações, que descrevem como [instalar](https://www.postgresql.org/download/) e [usar](https://www.postgresql.org/docs/) o PostgreSQL por meio da [documentação oficial](https://www.postgresql.org/docs/). A comunidade PostgreSQL oferece muitos lugares úteis para se familiarizar com a tecnologia, descobrir como ela funciona e encontrar oportunidades de carreira. Você pode ter contato com [a comunidade postgres por aqui](https://www.postgresql.org/community/).\n",
    "\n",
    "## Instalação PostgreSQL Version 13\n",
    "\n",
    "O PostgreSQL, na versão 13, não precisa ser instalado, basta fazer o download do site, descompactar e executar o pdAdmin4, de acordo com a imagem abaixo:\n",
    "\n",
    "![imagem 01_01](https://s3-sa-east-1.amazonaws.com/lcpi/78c678fc-7966-4884-aeaf-3c46b9fb6426.jpeg)\n",
    "\n",
    "Ele deverá abrir o pgAdmin diretamente no navegador.\n",
    "\n",
    "![Imagem 01_02](https://s3-sa-east-1.amazonaws.com/lcpi/8382cf88-3ba0-40d0-94b5-21c8be239cb3.PNG)\n",
    "\n",
    "Informe a senha master para seu banco de dados e confirme. Você precisará dessa senha para se conectar ao servidor de banco de dados usando o pgAdmin4, então lembre-se dela.\n",
    "\n",
    "Agora o pgAdmin está pronto para uso.\n"
   ]
  }
 ],
 "metadata": {
  "kernelspec": {
   "display_name": "Python 3 (ipykernel)",
   "language": "python",
   "name": "python3"
  },
  "language_info": {
   "codemirror_mode": {
    "name": "ipython",
    "version": 3
   },
   "file_extension": ".py",
   "mimetype": "text/x-python",
   "name": "python",
   "nbconvert_exporter": "python",
   "pygments_lexer": "ipython3",
   "version": "3.11.2"
  }
 },
 "nbformat": 4,
 "nbformat_minor": 5
}
