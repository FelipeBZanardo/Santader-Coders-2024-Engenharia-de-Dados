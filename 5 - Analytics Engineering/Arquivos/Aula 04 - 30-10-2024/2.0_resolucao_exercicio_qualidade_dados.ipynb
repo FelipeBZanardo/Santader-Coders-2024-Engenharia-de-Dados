{
 "cells": [
  {
   "cell_type": "markdown",
   "metadata": {
    "application/vnd.databricks.v1+cell": {
     "cellMetadata": {
      "byteLimit": 2048000,
      "rowLimit": 10000
     },
     "inputWidgets": {},
     "nuid": "09b8b956-dc92-4cb6-a366-bb534a15736f",
     "showTitle": false,
     "title": ""
    }
   },
   "source": [
    "## Módulo: Analytics Engineering\n",
    "    \n",
    "## Aula 2 - Exercício 1"
   ]
  },
  {
   "cell_type": "markdown",
   "metadata": {
    "application/vnd.databricks.v1+cell": {
     "cellMetadata": {},
     "inputWidgets": {},
     "nuid": "ff8c8c64-7811-4deb-be3b-7273774ba0ec",
     "showTitle": false,
     "title": ""
    }
   },
   "source": [
    "#### Preparar um pipeline com as camadas \"bronze\", \"silver\" e \"gold\" para o dataset sobre informações de clientes em um banco. O dataset está disponível para download no seguinte website: \"https://www.kaggle.com/datasets/parisrohan/credit-score-classification\".\n",
    "\n",
    "#### Efetuar a limpeza de dados necessária e garantir a qualidade de dados com todos os conceitos apresentados até agora.\n",
    "\n",
    "#### Armazenar todas as camadas em um banco de dados no PostgreSQL."
   ]
  },
  {
   "cell_type": "markdown",
   "metadata": {
    "application/vnd.databricks.v1+cell": {
     "cellMetadata": {},
     "inputWidgets": {},
     "nuid": "ffc5258a-6953-4bc3-a6c0-05bca8db8197",
     "showTitle": false,
     "title": ""
    }
   },
   "source": [
    "#### Dicionário de Dados\n",
    "\n",
    "- **Age (Idade):** Representa a idade da pessoa.\n",
    "- **Annual_Income (Renda Anual):** Representa a renda anual da pessoa.\n",
    "- **Monthly_Inhand_Salary (Salário Mensal Líquido):** Representa o salário base mensal de uma pessoa.\n",
    "- **Num_Bank_Accounts (Número de Contas Bancárias):** Representa o número de contas bancárias que uma pessoa possui.\n",
    "- **Num_Credit_Card (Número de Cartões de Crédito):** Representa o número de outros cartões de crédito que uma pessoa possui.\n",
    "- **Interest_Rate (Taxa de Juros):** Representa a taxa de juros no cartão de crédito (porcentagem).\n",
    "- **Num_of_Loan (Número de Empréstimos):** Representa o número de empréstimos obtidos no banco.\n",
    "- **Delay_from_due_date (Atraso a partir da Data de Vencimento):** Representa o número médio de dias de atraso a partir da data de pagamento (dias).\n",
    "- **Num_of_Delayed_Payment (Número de Pagamentos Atrasados):** Representa o número médio de pagamentos atrasados por uma pessoa.\n",
    "- **Changed_Credit_Limit (Alteração no Limite de Crédito):** Representa a alteração percentual no limite de crédito do cartão (porcentagem).\n",
    "- **Num_Credit_Inquiries (Número de Consultas de Crédito):** Representa o número de consultas de cartão de crédito.\n",
    "- **Credit_Mix (Mix de Crédito):** Representa a classificação da mistura de créditos (Ruim, Padrão, Bom).\n",
    "- **Outstanding_Debt (Dívida Pendente):** Representa a dívida restante a ser paga.\n",
    "- **Credit_Utilization_Ratio (Taxa de Utilização de Crédito):** Representa a taxa de utilização do cartão de crédito (porcentagem).\n",
    "- **Credit_History_Age (Idade da História de Crédito):** Representa a idade da história de crédito da pessoa (dias).\n",
    "- **Payment_of_Min_Amount (Pagamento do Valor Mínimo):** Representa se apenas o valor mínimo foi pago pela pessoa.\n",
    "- **Total_EMI_per_month (Total de EMI Mensal):** Representa os pagamentos mensais de EMI.\n",
    "- **Amount_invested_monthly (Valor Investido Mensalmente):** Representa o valor investido mensalmente pelo cliente.\n",
    "- **Monthly_Balance (Saldo Mensal):** Representa o valor do saldo mensal do cliente."
   ]
  },
  {
   "cell_type": "code",
   "execution_count": 36,
   "metadata": {
    "application/vnd.databricks.v1+cell": {
     "cellMetadata": {
      "byteLimit": 2048000,
      "rowLimit": 10000
     },
     "inputWidgets": {},
     "nuid": "ee7ac231-d7b6-4d42-af1e-cff768473ef6",
     "showTitle": false,
     "title": ""
    }
   },
   "outputs": [],
   "source": [
    "import pandas as pd\n",
    "import numpy as np"
   ]
  },
  {
   "cell_type": "code",
   "execution_count": null,
   "metadata": {},
   "outputs": [],
   "source": [
    "# Supondo que o DataFrame df já está carregado com os dados acima\n",
    "\n",
    "\n",
    "df = pd.read_csv(\"dados/test.csv\")\n",
    "df.head(3)"
   ]
  },
  {
   "cell_type": "code",
   "execution_count": null,
   "metadata": {},
   "outputs": [],
   "source": [
    "from ydata_profiling import ProfileReport\n",
    "profile = ProfileReport(df, title=\"Pandas Profiling Report\") #cria o relatório\n",
    "\n",
    "profile.to_file(\"resultados.html\") #salva os resultados em um arquivo"
   ]
  },
  {
   "cell_type": "code",
   "execution_count": null,
   "metadata": {},
   "outputs": [],
   "source": [
    "df.describe()"
   ]
  },
  {
   "cell_type": "code",
   "execution_count": null,
   "metadata": {},
   "outputs": [],
   "source": [
    "df.dtypes"
   ]
  },
  {
   "cell_type": "code",
   "execution_count": 57,
   "metadata": {},
   "outputs": [],
   "source": [
    "df_cln = df.copy()"
   ]
  },
  {
   "cell_type": "code",
   "execution_count": null,
   "metadata": {},
   "outputs": [],
   "source": [
    "df_cln"
   ]
  },
  {
   "cell_type": "code",
   "execution_count": null,
   "metadata": {},
   "outputs": [],
   "source": [
    "# Preencher valores NaN para dados numéricos com a média ou mediana (exemplo: Monthly_Inhand_Salary)\n",
    "df_cln['Monthly_Inhand_Salary'].fillna(df['Monthly_Inhand_Salary'].median())\n",
    "\n",
    "# Para dados categóricos, considerar preenchimento com a moda ou uma categoria específica\n",
    "df_cln['Credit_History_Age'].fillna('Unknown')"
   ]
  },
  {
   "cell_type": "code",
   "execution_count": null,
   "metadata": {},
   "outputs": [],
   "source": [
    "# Converter colunas de idade, e outras colunas numéricas de object para int ou float\n",
    "df_cln['Age'] = pd.to_numeric(df['Age'], errors='coerce')  # Converte e trata erros\n",
    "\n",
    "# Remover ou tratar linhas com valores absurdos ou claramente errados (exemplo: Age = 4975)\n",
    "df_cln = df_cln[ df_cln['Age'] <= 100]  # Supondo que a idade máxima razoável seja 100\n",
    "df_cln = df_cln[ df_cln['Age'] >= 1]\n",
    "# Converter datas de meses para tipo datetime se necessário\n",
    "df_cln['Month'] = pd.to_datetime(df_cln['Month'], format='%B', errors='coerce').dt.month\n",
    "\n",
    "# Corrigir e padronizar strings (exemplo: remoção de caracteres não desejados nos nomes)\n",
    "df_cln['Name'] = df_cln['Name'].str.replace(r'[^\\w\\s]', '', regex=True)\n",
    "df_cln['Occupation'] = df_cln['Occupation'].str.replace('_', 'Unknown')"
   ]
  },
  {
   "cell_type": "code",
   "execution_count": 63,
   "metadata": {},
   "outputs": [],
   "source": [
    "# Corrigir SSN e outros IDs que possam ter sido mal formatados\n",
    "df_cln['SSN'] = df_cln['SSN'].str.replace('-', '')\n",
    "\n",
    "# Tratar dados específicos que estejam incorretos\n",
    "df_cln['Payment_of_Min_Amount'] = df_cln['Payment_of_Min_Amount'].replace({'NM': 'No', 'Yes': 'Yes', 'No': 'No'})\n",
    "\n",
    "# Converter 'Credit_History_Age' para um formato numérico de meses totais para facilitar análises\n",
    "def convert_credit_age_to_months(age_str):\n",
    "    if pd.isnull(age_str) or age_str == 'Unknown':\n",
    "        return np.nan\n",
    "    years, months = age_str.split(' Years and ')\n",
    "    years = int(years)\n",
    "    months = int(months.split(' Months')[0])\n",
    "    return years * 12 + months\n",
    "\n",
    "df_cln['Credit_History_Age'] = df_cln['Credit_History_Age'].apply(convert_credit_age_to_months)\n"
   ]
  },
  {
   "cell_type": "code",
   "execution_count": null,
   "metadata": {},
   "outputs": [],
   "source": [
    "\n",
    "# Remover duplicatas, se houver\n",
    "df_cln.drop_duplicates(inplace=True)\n",
    "\n",
    "# Revisar as colunas e tipos de dados\n",
    "print(df_cln.info())"
   ]
  },
  {
   "cell_type": "code",
   "execution_count": null,
   "metadata": {},
   "outputs": [],
   "source": [
    "df_cln.dtypes"
   ]
  },
  {
   "cell_type": "code",
   "execution_count": null,
   "metadata": {},
   "outputs": [],
   "source": [
    "df.describe()"
   ]
  },
  {
   "cell_type": "code",
   "execution_count": null,
   "metadata": {},
   "outputs": [],
   "source": [
    "df_cln"
   ]
  },
  {
   "cell_type": "code",
   "execution_count": null,
   "metadata": {},
   "outputs": [],
   "source": [
    "# Corrigindo a idade\n",
    "# df['Age'] = df['Age'].apply(lambda x: np.nan if x < 0 or x > 100 else x)\n",
    "\n",
    "# Imputando salários faltantes\n",
    "median_salary = df_cln['Monthly_Inhand_Salary'].median()\n",
    "df_cln['Monthly_Inhand_Salary'].fillna(median_salary, inplace=True)\n",
    "\n",
    "# Corrigindo o número de contas bancárias\n",
    "df_cln['Num_Bank_Accounts'] = df_cln['Num_Bank_Accounts'].apply(lambda x: np.nan if x < 0 else x)\n",
    "\n",
    "# Investigando valores altos de cartões de crédito\n",
    "max_credit_cards = df_cln['Num_Credit_Card'].quantile(0.99)  # Exemplo: Usar o percentil 99 como corte\n",
    "df_cln['Num_Credit_Card'] = df_cln['Num_Credit_Card'].apply(lambda x: np.nan if x > max_credit_cards else x)\n",
    "\n",
    "# Corrigindo taxas de juros\n",
    "df_cln['Interest_Rate'] = df_cln['Interest_Rate'].apply(lambda x: np.nan if x > 100 else x)  #"
   ]
  },
  {
   "cell_type": "code",
   "execution_count": null,
   "metadata": {},
   "outputs": [],
   "source": [
    "df_cln"
   ]
  },
  {
   "cell_type": "code",
   "execution_count": 77,
   "metadata": {},
   "outputs": [],
   "source": [
    "# Removendo valores negativos de atrasos\n",
    "df_cln['Delay_from_due_date'] = df_cln['Delay_from_due_date'].apply(lambda x: 0 if x < 0 else x)\n",
    "\n",
    "# Verificando e corrigindo consultas de crédito\n",
    "max_inquiries = df_cln['Num_Credit_Inquiries'].quantile(0.99)\n",
    "df_cln['Num_Credit_Inquiries'] = df_cln['Num_Credit_Inquiries'].apply(lambda x: np.nan if x > max_inquiries else x)\n",
    "\n",
    "# Verificação e correção do EMI mensal\n",
    "max_emi = df_cln['Total_EMI_per_month'].quantile(0.99)\n",
    "df_cln['Total_EMI_per_month'] = df_cln['Total_EMI_per_month'].apply(lambda x: np.nan if x > max_emi else x)\n"
   ]
  },
  {
   "cell_type": "code",
   "execution_count": null,
   "metadata": {},
   "outputs": [],
   "source": [
    "# Exibindo informações atualizadas\n",
    "print(df_cln.describe())"
   ]
  },
  {
   "cell_type": "code",
   "execution_count": null,
   "metadata": {},
   "outputs": [],
   "source": [
    "from ydata_profiling import ProfileReport\n",
    "profile = ProfileReport(df_cln, title=\"Pandas Profiling Report\") #cria o relatório\n",
    "\n",
    "profile.to_file(\"novos_resultados.html\") #salva os resultados em um arquivo"
   ]
  },
  {
   "cell_type": "code",
   "execution_count": null,
   "metadata": {},
   "outputs": [],
   "source": [
    "df_cln['ID'] = df_cln['ID'].apply(lambda x: int(x, 16))\n",
    "\n",
    "# Limpeza na coluna SSN para remover caracteres não-numéricos\n",
    "df_cln['SSN'] = df_cln['SSN'].str.replace(r'\\D', '', regex=True)\n",
    "\n",
    "# Corrigir a coluna Occupation onde dados foram concatenados indevidamente\n",
    "df_cln['Occupation'] = df_cln['Occupation'].replace(r'UnknownUnknownUnknownUnknownUnknownUnknownUnknown', 'Unknown', regex=True)"
   ]
  },
  {
   "cell_type": "code",
   "execution_count": null,
   "metadata": {},
   "outputs": [],
   "source": [
    "# Removendo a coluna Month se não for possível imputar dados significativos\n",
    "df_cln.drop('Month', axis=1, inplace=True)"
   ]
  },
  {
   "cell_type": "code",
   "execution_count": null,
   "metadata": {},
   "outputs": [],
   "source": [
    "# Converter valores de Amount_invested_monthly para numérico, tratando erros\n",
    "df_cln['Amount_invested_monthly'] = pd.to_numeric(df_cln['Amount_invested_monthly'].str.replace(r'[^0-9\\.]', '', regex=True), errors='coerce')\n"
   ]
  },
  {
   "cell_type": "code",
   "execution_count": null,
   "metadata": {},
   "outputs": [],
   "source": [
    "# Substituir '_' por um valor nulo ou outro valor categórico relevante em Credit_Mix\n",
    "df_cln['Credit_Mix'] = df_cln['Credit_Mix'].replace('_', np.nan)\n"
   ]
  },
  {
   "cell_type": "code",
   "execution_count": null,
   "metadata": {},
   "outputs": [],
   "source": [
    "# Imputar Monthly_Inhand_Salary faltantes com a mediana\n",
    "df_cln['Monthly_Inhand_Salary'].fillna(df_cln['Monthly_Inhand_Salary'].median(), inplace=True)\n"
   ]
  },
  {
   "cell_type": "code",
   "execution_count": null,
   "metadata": {},
   "outputs": [],
   "source": [
    "# Verificar os tipos de dados e ajustar conforme necessário\n",
    "df_cln.info()\n",
    "\n",
    "# Verificar se há mais valores ausentes ou duplicatas\n",
    "print(df_cln.isnull().sum())\n",
    "df_cln.drop_duplicates(inplace=True)\n"
   ]
  },
  {
   "cell_type": "code",
   "execution_count": null,
   "metadata": {},
   "outputs": [],
   "source": [
    "# Visualizar as primeiras linhas do DataFrame limpo\n",
    "print(df_cln.head())\n"
   ]
  }
 ],
 "metadata": {
  "application/vnd.databricks.v1+notebook": {
   "dashboards": [],
   "language": "python",
   "notebookMetadata": {
    "pythonIndentUnit": 4
   },
   "notebookName": "Aula_6_Exercicio_1_Parte_1_Carga_em_Lotes_sem_Duplicadas",
   "widgets": {}
  },
  "kernelspec": {
   "display_name": "Python 3 (ipykernel)",
   "language": "python",
   "name": "python3"
  },
  "language_info": {
   "codemirror_mode": {
    "name": "ipython",
    "version": 3
   },
   "file_extension": ".py",
   "mimetype": "text/x-python",
   "name": "python",
   "nbconvert_exporter": "python",
   "pygments_lexer": "ipython3",
   "version": "3.12.2"
  }
 },
 "nbformat": 4,
 "nbformat_minor": 4
}
