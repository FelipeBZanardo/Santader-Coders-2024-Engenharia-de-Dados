{
 "cells": [
  {
   "cell_type": "markdown",
   "metadata": {},
   "source": [
    "## Módulo: Analytics Engineering\n",
    "    \n",
    "## Aula 6"
   ]
  },
  {
   "cell_type": "markdown",
   "metadata": {},
   "source": [
    "### Programação da Aula 6:\n",
    "\n",
    "> ### 1. **DBT e Great Expectations juntos no mesmo projeto**;\n",
    "> ### 2. **Desenvolvimento do projeto final**.\n",
    "\n",
    "#### Link para o formulário para informar os integrantes do grupo do projeto:\n",
    "https://forms.gle/YQqzRwtpT8ybEJnQ7"
   ]
  },
  {
   "cell_type": "markdown",
   "metadata": {},
   "source": [
    "### Gerando documentação:\n",
    "### dbt docs generate\n",
    "### dbt docs serve"
   ]
  },
  {
   "cell_type": "markdown",
   "metadata": {},
   "source": [
    "### Instalar nova bibliotecas:\n",
    "### dbt deps"
   ]
  }
 ],
 "metadata": {
  "kernelspec": {
   "display_name": "Python 3 (ipykernel)",
   "language": "python",
   "name": "python3"
  },
  "language_info": {
   "codemirror_mode": {
    "name": "ipython",
    "version": 3
   },
   "file_extension": ".py",
   "mimetype": "text/x-python",
   "name": "python",
   "nbconvert_exporter": "python",
   "pygments_lexer": "ipython3",
   "version": "3.12.2"
  }
 },
 "nbformat": 4,
 "nbformat_minor": 4
}
