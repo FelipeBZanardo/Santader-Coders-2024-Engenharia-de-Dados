{
 "cells": [
  {
   "cell_type": "markdown",
   "metadata": {},
   "source": [
    "## Módulo: Analytics Engineering\n",
    "    \n",
    "## Aula 3"
   ]
  },
  {
   "cell_type": "markdown",
   "metadata": {},
   "source": [
    "### Programação da Aula 3:\n",
    "\n",
    "> ### 1. **O que é a \"Great Expectations\"**:\n",
    "> ### 2. **\"Great Expectations\" na prática**;\n",
    "> ### 3. **Apresentação do projeto**;\n",
    "> ### 4. **Desenvolvimento de exercício ou projeto**;\n",
    "\n",
    "#### Link para o formulário de Feedback da aula:\n",
    "https://forms.gle/oCVMs6gb11jcpeJE9"
   ]
  },
  {
   "cell_type": "markdown",
   "metadata": {},
   "source": [
    "### Great Expectations\n",
    "\n",
    "#### Great Expectations é uma biblioteca para testar e documentar a qualidade dos dados em projetos. Ela permite que você defina, documente e teste as expectativas em seus dados, garantindo que eles atendam aos critérios desejados. Isso é útil para verificar a integridade, precisão e consistência dos seus dados.\n",
    "\n",
    "<div style=\"text-align: center;\">\n",
    "\n",
    "<br>\n",
    "\n",
    "<img src=\"https://docs.greatexpectations.io/assets/images/data_context_does_for_you-df2eca32d0152ead16cccd5d3d226abb.png\"  width=\"80%\" height=\"60%\">\n",
    "\n",
    "###### Fonte: https://docs.greatexpectations.io/assets/images/data_context_does_for_you-df2eca32d0152ead16cccd5d3d226abb.png\n",
    "<br>\n",
    "\n",
    "<img src=\"https://docs.greatexpectations.io/assets/images/data_context_flowchart-2d63bd4a6be784aa4d7f44a962a65b72.png\"  width=\"80%\" height=\"60%\">\n",
    "\n",
    "###### Fonte: https://docs.greatexpectations.io/assets/images/data_context_flowchart-2d63bd4a6be784aa4d7f44a962a65b72.png\n",
    "<br>\n",
    "\n",
    "<br>\n",
    "\n",
    "<img src=\"https://docs.greatexpectations.io/assets/images/datasource_flowchart-73d07084d7c20d480f92dacb8001222f.png\"  width=\"80%\" height=\"60%\">\n",
    "\n",
    "###### Fonte: https://docs.greatexpectations.io/assets/images/datasource_flowchart-73d07084d7c20d480f92dacb8001222f.png\n",
    "<br>\n",
    "\n",
    "<img src=\"https://docs.greatexpectations.io/assets/images/checkpoint_flowchart-80a2dc06e90a4739f6cfdec60a115c1e.png\"  width=\"80%\" height=\"60%\">\n",
    "\n",
    "###### Fonte: https://docs.greatexpectations.io/assets/images/checkpoint_flowchart-80a2dc06e90a4739f6cfdec60a115c1e.png\n",
    "<br>"
   ]
  },
  {
   "cell_type": "markdown",
   "metadata": {},
   "source": [
    "### Instalação da biblioteca \"Great Expectations\""
   ]
  },
  {
   "cell_type": "code",
   "execution_count": 4,
   "metadata": {},
   "outputs": [
    {
     "name": "stdout",
     "output_type": "stream",
     "text": [
      "Requirement already satisfied: great_expectations==0.18.12 in c:\\users\\costa\\python3.12\\lib\\site-packages (0.18.12)\n",
      "Requirement already satisfied: altair<5.0.0,>=4.2.1 in c:\\users\\costa\\python3.12\\lib\\site-packages (from great_expectations==0.18.12) (4.2.2)\n",
      "Requirement already satisfied: Click>=7.1.2 in c:\\users\\costa\\python3.12\\lib\\site-packages (from great_expectations==0.18.12) (8.1.7)\n",
      "Requirement already satisfied: colorama>=0.4.3 in c:\\users\\costa\\python3.12\\lib\\site-packages (from great_expectations==0.18.12) (0.4.6)\n",
      "Requirement already satisfied: cryptography>=3.2 in c:\\users\\costa\\python3.12\\lib\\site-packages (from great_expectations==0.18.12) (42.0.5)\n",
      "Requirement already satisfied: Ipython>=7.16.3 in c:\\users\\costa\\python3.12\\lib\\site-packages (from great_expectations==0.18.12) (8.22.2)\n",
      "Requirement already satisfied: ipywidgets>=7.5.1 in c:\\users\\costa\\python3.12\\lib\\site-packages (from great_expectations==0.18.12) (8.1.2)\n",
      "Requirement already satisfied: jinja2>=2.10 in c:\\users\\costa\\python3.12\\lib\\site-packages (from great_expectations==0.18.12) (3.1.3)\n",
      "Requirement already satisfied: jsonpatch>=1.22 in c:\\users\\costa\\python3.12\\lib\\site-packages (from great_expectations==0.18.12) (1.33)\n",
      "Requirement already satisfied: jsonschema>=2.5.1 in c:\\users\\costa\\python3.12\\lib\\site-packages (from great_expectations==0.18.12) (4.21.1)\n",
      "Requirement already satisfied: makefun<2,>=1.7.0 in c:\\users\\costa\\python3.12\\lib\\site-packages (from great_expectations==0.18.12) (1.15.2)\n",
      "Requirement already satisfied: marshmallow<4.0.0,>=3.7.1 in c:\\users\\costa\\python3.12\\lib\\site-packages (from great_expectations==0.18.12) (3.21.1)\n",
      "Requirement already satisfied: mistune>=0.8.4 in c:\\users\\costa\\python3.12\\lib\\site-packages (from great_expectations==0.18.12) (3.0.2)\n",
      "Requirement already satisfied: nbformat>=5.0 in c:\\users\\costa\\python3.12\\lib\\site-packages (from great_expectations==0.18.12) (5.9.2)\n",
      "Requirement already satisfied: notebook>=6.4.10 in c:\\users\\costa\\python3.12\\lib\\site-packages (from great_expectations==0.18.12) (7.1.1)\n",
      "Requirement already satisfied: packaging in c:\\users\\costa\\python3.12\\lib\\site-packages (from great_expectations==0.18.12) (24.0)\n",
      "Requirement already satisfied: pydantic>=1.9.2 in c:\\users\\costa\\python3.12\\lib\\site-packages (from great_expectations==0.18.12) (2.6.4)\n",
      "Requirement already satisfied: pyparsing>=2.4 in c:\\users\\costa\\python3.12\\lib\\site-packages (from great_expectations==0.18.12) (3.1.2)\n",
      "Requirement already satisfied: python-dateutil>=2.8.1 in c:\\users\\costa\\python3.12\\lib\\site-packages (from great_expectations==0.18.12) (2.9.0.post0)\n",
      "Requirement already satisfied: pytz>=2021.3 in c:\\users\\costa\\python3.12\\lib\\site-packages (from great_expectations==0.18.12) (2024.1)\n",
      "Requirement already satisfied: requests>=2.20 in c:\\users\\costa\\python3.12\\lib\\site-packages (from great_expectations==0.18.12) (2.31.0)\n",
      "Requirement already satisfied: ruamel.yaml<0.17.18,>=0.16 in c:\\users\\costa\\python3.12\\lib\\site-packages (from great_expectations==0.18.12) (0.17.17)\n",
      "Requirement already satisfied: scipy>=1.6.0 in c:\\users\\costa\\python3.12\\lib\\site-packages (from great_expectations==0.18.12) (1.11.4)\n",
      "Requirement already satisfied: tqdm>=4.59.0 in c:\\users\\costa\\python3.12\\lib\\site-packages (from great_expectations==0.18.12) (4.66.2)\n",
      "Requirement already satisfied: typing-extensions>=3.10.0.0 in c:\\users\\costa\\python3.12\\lib\\site-packages (from great_expectations==0.18.12) (4.10.0)\n",
      "Requirement already satisfied: tzlocal>=1.2 in c:\\users\\costa\\python3.12\\lib\\site-packages (from great_expectations==0.18.12) (5.2)\n",
      "Requirement already satisfied: urllib3>=1.26 in c:\\users\\costa\\python3.12\\lib\\site-packages (from great_expectations==0.18.12) (1.26.18)\n",
      "Requirement already satisfied: numpy<2.0.0,>=1.22.4 in c:\\users\\costa\\python3.12\\lib\\site-packages (from great_expectations==0.18.12) (1.26.4)\n",
      "Requirement already satisfied: pandas>=1.3.0 in c:\\users\\costa\\python3.12\\lib\\site-packages (from great_expectations==0.18.12) (2.2.1)\n",
      "Requirement already satisfied: entrypoints in c:\\users\\costa\\python3.12\\lib\\site-packages (from altair<5.0.0,>=4.2.1->great_expectations==0.18.12) (0.4)\n",
      "Requirement already satisfied: toolz in c:\\users\\costa\\python3.12\\lib\\site-packages (from altair<5.0.0,>=4.2.1->great_expectations==0.18.12) (0.12.1)\n",
      "Requirement already satisfied: cffi>=1.12 in c:\\users\\costa\\python3.12\\lib\\site-packages (from cryptography>=3.2->great_expectations==0.18.12) (1.16.0)\n",
      "Requirement already satisfied: decorator in c:\\users\\costa\\python3.12\\lib\\site-packages (from Ipython>=7.16.3->great_expectations==0.18.12) (5.1.1)\n",
      "Requirement already satisfied: jedi>=0.16 in c:\\users\\costa\\python3.12\\lib\\site-packages (from Ipython>=7.16.3->great_expectations==0.18.12) (0.19.1)\n",
      "Requirement already satisfied: matplotlib-inline in c:\\users\\costa\\python3.12\\lib\\site-packages (from Ipython>=7.16.3->great_expectations==0.18.12) (0.1.6)\n",
      "Requirement already satisfied: prompt-toolkit<3.1.0,>=3.0.41 in c:\\users\\costa\\python3.12\\lib\\site-packages (from Ipython>=7.16.3->great_expectations==0.18.12) (3.0.43)\n",
      "Requirement already satisfied: pygments>=2.4.0 in c:\\users\\costa\\python3.12\\lib\\site-packages (from Ipython>=7.16.3->great_expectations==0.18.12) (2.17.2)\n",
      "Requirement already satisfied: stack-data in c:\\users\\costa\\python3.12\\lib\\site-packages (from Ipython>=7.16.3->great_expectations==0.18.12) (0.6.3)\n",
      "Requirement already satisfied: traitlets>=5.13.0 in c:\\users\\costa\\python3.12\\lib\\site-packages (from Ipython>=7.16.3->great_expectations==0.18.12) (5.14.1)\n",
      "Requirement already satisfied: comm>=0.1.3 in c:\\users\\costa\\python3.12\\lib\\site-packages (from ipywidgets>=7.5.1->great_expectations==0.18.12) (0.2.1)\n",
      "Requirement already satisfied: widgetsnbextension~=4.0.10 in c:\\users\\costa\\python3.12\\lib\\site-packages (from ipywidgets>=7.5.1->great_expectations==0.18.12) (4.0.10)\n",
      "Requirement already satisfied: jupyterlab-widgets~=3.0.10 in c:\\users\\costa\\python3.12\\lib\\site-packages (from ipywidgets>=7.5.1->great_expectations==0.18.12) (3.0.10)\n",
      "Requirement already satisfied: MarkupSafe>=2.0 in c:\\users\\costa\\python3.12\\lib\\site-packages (from jinja2>=2.10->great_expectations==0.18.12) (2.1.5)\n",
      "Requirement already satisfied: jsonpointer>=1.9 in c:\\users\\costa\\python3.12\\lib\\site-packages (from jsonpatch>=1.22->great_expectations==0.18.12) (2.4)\n",
      "Requirement already satisfied: attrs>=22.2.0 in c:\\users\\costa\\python3.12\\lib\\site-packages (from jsonschema>=2.5.1->great_expectations==0.18.12) (23.2.0)\n",
      "Requirement already satisfied: jsonschema-specifications>=2023.03.6 in c:\\users\\costa\\python3.12\\lib\\site-packages (from jsonschema>=2.5.1->great_expectations==0.18.12) (2023.12.1)\n",
      "Requirement already satisfied: referencing>=0.28.4 in c:\\users\\costa\\python3.12\\lib\\site-packages (from jsonschema>=2.5.1->great_expectations==0.18.12) (0.33.0)\n",
      "Requirement already satisfied: rpds-py>=0.7.1 in c:\\users\\costa\\python3.12\\lib\\site-packages (from jsonschema>=2.5.1->great_expectations==0.18.12) (0.18.0)\n",
      "Requirement already satisfied: fastjsonschema in c:\\users\\costa\\python3.12\\lib\\site-packages (from nbformat>=5.0->great_expectations==0.18.12) (2.19.1)\n",
      "Requirement already satisfied: jupyter-core in c:\\users\\costa\\python3.12\\lib\\site-packages (from nbformat>=5.0->great_expectations==0.18.12) (5.7.1)\n",
      "Requirement already satisfied: jupyter-server<3,>=2.4.0 in c:\\users\\costa\\python3.12\\lib\\site-packages (from notebook>=6.4.10->great_expectations==0.18.12) (2.13.0)\n",
      "Requirement already satisfied: jupyterlab-server<3,>=2.22.1 in c:\\users\\costa\\python3.12\\lib\\site-packages (from notebook>=6.4.10->great_expectations==0.18.12) (2.25.4)\n",
      "Requirement already satisfied: jupyterlab<4.2,>=4.1.1 in c:\\users\\costa\\python3.12\\lib\\site-packages (from notebook>=6.4.10->great_expectations==0.18.12) (4.1.4)\n",
      "Requirement already satisfied: notebook-shim<0.3,>=0.2 in c:\\users\\costa\\python3.12\\lib\\site-packages (from notebook>=6.4.10->great_expectations==0.18.12) (0.2.4)\n",
      "Requirement already satisfied: tornado>=6.2.0 in c:\\users\\costa\\python3.12\\lib\\site-packages (from notebook>=6.4.10->great_expectations==0.18.12) (6.4)\n",
      "Requirement already satisfied: tzdata>=2022.7 in c:\\users\\costa\\python3.12\\lib\\site-packages (from pandas>=1.3.0->great_expectations==0.18.12) (2024.1)\n",
      "Requirement already satisfied: annotated-types>=0.4.0 in c:\\users\\costa\\python3.12\\lib\\site-packages (from pydantic>=1.9.2->great_expectations==0.18.12) (0.6.0)\n",
      "Requirement already satisfied: pydantic-core==2.16.3 in c:\\users\\costa\\python3.12\\lib\\site-packages (from pydantic>=1.9.2->great_expectations==0.18.12) (2.16.3)\n",
      "Requirement already satisfied: six>=1.5 in c:\\users\\costa\\python3.12\\lib\\site-packages (from python-dateutil>=2.8.1->great_expectations==0.18.12) (1.16.0)\n",
      "Requirement already satisfied: charset-normalizer<4,>=2 in c:\\users\\costa\\python3.12\\lib\\site-packages (from requests>=2.20->great_expectations==0.18.12) (3.3.2)\n",
      "Requirement already satisfied: idna<4,>=2.5 in c:\\users\\costa\\python3.12\\lib\\site-packages (from requests>=2.20->great_expectations==0.18.12) (3.6)\n",
      "Requirement already satisfied: certifi>=2017.4.17 in c:\\users\\costa\\python3.12\\lib\\site-packages (from requests>=2.20->great_expectations==0.18.12) (2024.2.2)\n",
      "Requirement already satisfied: pycparser in c:\\users\\costa\\python3.12\\lib\\site-packages (from cffi>=1.12->cryptography>=3.2->great_expectations==0.18.12) (2.21)\n",
      "Requirement already satisfied: parso<0.9.0,>=0.8.3 in c:\\users\\costa\\python3.12\\lib\\site-packages (from jedi>=0.16->Ipython>=7.16.3->great_expectations==0.18.12) (0.8.3)\n",
      "Requirement already satisfied: anyio>=3.1.0 in c:\\users\\costa\\python3.12\\lib\\site-packages (from jupyter-server<3,>=2.4.0->notebook>=6.4.10->great_expectations==0.18.12) (4.3.0)\n",
      "Requirement already satisfied: argon2-cffi in c:\\users\\costa\\python3.12\\lib\\site-packages (from jupyter-server<3,>=2.4.0->notebook>=6.4.10->great_expectations==0.18.12) (23.1.0)\n",
      "Requirement already satisfied: jupyter-client>=7.4.4 in c:\\users\\costa\\python3.12\\lib\\site-packages (from jupyter-server<3,>=2.4.0->notebook>=6.4.10->great_expectations==0.18.12) (8.6.0)\n",
      "Requirement already satisfied: jupyter-events>=0.9.0 in c:\\users\\costa\\python3.12\\lib\\site-packages (from jupyter-server<3,>=2.4.0->notebook>=6.4.10->great_expectations==0.18.12) (0.9.0)\n",
      "Requirement already satisfied: jupyter-server-terminals in c:\\users\\costa\\python3.12\\lib\\site-packages (from jupyter-server<3,>=2.4.0->notebook>=6.4.10->great_expectations==0.18.12) (0.5.2)\n",
      "Requirement already satisfied: nbconvert>=6.4.4 in c:\\users\\costa\\python3.12\\lib\\site-packages (from jupyter-server<3,>=2.4.0->notebook>=6.4.10->great_expectations==0.18.12) (7.16.2)\n",
      "Requirement already satisfied: overrides in c:\\users\\costa\\python3.12\\lib\\site-packages (from jupyter-server<3,>=2.4.0->notebook>=6.4.10->great_expectations==0.18.12) (7.7.0)\n",
      "Requirement already satisfied: prometheus-client in c:\\users\\costa\\python3.12\\lib\\site-packages (from jupyter-server<3,>=2.4.0->notebook>=6.4.10->great_expectations==0.18.12) (0.20.0)\n",
      "Requirement already satisfied: pywinpty in c:\\users\\costa\\python3.12\\lib\\site-packages (from jupyter-server<3,>=2.4.0->notebook>=6.4.10->great_expectations==0.18.12) (2.0.13)\n",
      "Requirement already satisfied: pyzmq>=24 in c:\\users\\costa\\python3.12\\lib\\site-packages (from jupyter-server<3,>=2.4.0->notebook>=6.4.10->great_expectations==0.18.12) (25.1.2)\n",
      "Requirement already satisfied: send2trash>=1.8.2 in c:\\users\\costa\\python3.12\\lib\\site-packages (from jupyter-server<3,>=2.4.0->notebook>=6.4.10->great_expectations==0.18.12) (1.8.2)\n",
      "Requirement already satisfied: terminado>=0.8.3 in c:\\users\\costa\\python3.12\\lib\\site-packages (from jupyter-server<3,>=2.4.0->notebook>=6.4.10->great_expectations==0.18.12) (0.18.0)\n",
      "Requirement already satisfied: websocket-client in c:\\users\\costa\\python3.12\\lib\\site-packages (from jupyter-server<3,>=2.4.0->notebook>=6.4.10->great_expectations==0.18.12) (1.7.0)\n",
      "Requirement already satisfied: platformdirs>=2.5 in c:\\users\\costa\\python3.12\\lib\\site-packages (from jupyter-core->nbformat>=5.0->great_expectations==0.18.12) (4.2.0)\n",
      "Requirement already satisfied: pywin32>=300 in c:\\users\\costa\\python3.12\\lib\\site-packages (from jupyter-core->nbformat>=5.0->great_expectations==0.18.12) (306)\n",
      "Requirement already satisfied: async-lru>=1.0.0 in c:\\users\\costa\\python3.12\\lib\\site-packages (from jupyterlab<4.2,>=4.1.1->notebook>=6.4.10->great_expectations==0.18.12) (2.0.4)\n",
      "Requirement already satisfied: httpx>=0.25.0 in c:\\users\\costa\\python3.12\\lib\\site-packages (from jupyterlab<4.2,>=4.1.1->notebook>=6.4.10->great_expectations==0.18.12) (0.27.0)\n",
      "Requirement already satisfied: ipykernel in c:\\users\\costa\\python3.12\\lib\\site-packages (from jupyterlab<4.2,>=4.1.1->notebook>=6.4.10->great_expectations==0.18.12) (6.29.3)\n",
      "Requirement already satisfied: jupyter-lsp>=2.0.0 in c:\\users\\costa\\python3.12\\lib\\site-packages (from jupyterlab<4.2,>=4.1.1->notebook>=6.4.10->great_expectations==0.18.12) (2.2.4)\n",
      "Requirement already satisfied: babel>=2.10 in c:\\users\\costa\\python3.12\\lib\\site-packages (from jupyterlab-server<3,>=2.22.1->notebook>=6.4.10->great_expectations==0.18.12) (2.14.0)\n",
      "Requirement already satisfied: json5>=0.9.0 in c:\\users\\costa\\python3.12\\lib\\site-packages (from jupyterlab-server<3,>=2.22.1->notebook>=6.4.10->great_expectations==0.18.12) (0.9.22)\n",
      "Requirement already satisfied: wcwidth in c:\\users\\costa\\python3.12\\lib\\site-packages (from prompt-toolkit<3.1.0,>=3.0.41->Ipython>=7.16.3->great_expectations==0.18.12) (0.2.13)\n",
      "Requirement already satisfied: executing>=1.2.0 in c:\\users\\costa\\python3.12\\lib\\site-packages (from stack-data->Ipython>=7.16.3->great_expectations==0.18.12) (2.0.1)\n",
      "Requirement already satisfied: asttokens>=2.1.0 in c:\\users\\costa\\python3.12\\lib\\site-packages (from stack-data->Ipython>=7.16.3->great_expectations==0.18.12) (2.4.1)\n",
      "Requirement already satisfied: pure-eval in c:\\users\\costa\\python3.12\\lib\\site-packages (from stack-data->Ipython>=7.16.3->great_expectations==0.18.12) (0.2.2)\n",
      "Requirement already satisfied: sniffio>=1.1 in c:\\users\\costa\\python3.12\\lib\\site-packages (from anyio>=3.1.0->jupyter-server<3,>=2.4.0->notebook>=6.4.10->great_expectations==0.18.12) (1.3.1)\n",
      "Requirement already satisfied: httpcore==1.* in c:\\users\\costa\\python3.12\\lib\\site-packages (from httpx>=0.25.0->jupyterlab<4.2,>=4.1.1->notebook>=6.4.10->great_expectations==0.18.12) (1.0.4)\n",
      "Requirement already satisfied: h11<0.15,>=0.13 in c:\\users\\costa\\python3.12\\lib\\site-packages (from httpcore==1.*->httpx>=0.25.0->jupyterlab<4.2,>=4.1.1->notebook>=6.4.10->great_expectations==0.18.12) (0.14.0)\n",
      "Requirement already satisfied: python-json-logger>=2.0.4 in c:\\users\\costa\\python3.12\\lib\\site-packages (from jupyter-events>=0.9.0->jupyter-server<3,>=2.4.0->notebook>=6.4.10->great_expectations==0.18.12) (2.0.7)\n",
      "Requirement already satisfied: pyyaml>=5.3 in c:\\users\\costa\\python3.12\\lib\\site-packages (from jupyter-events>=0.9.0->jupyter-server<3,>=2.4.0->notebook>=6.4.10->great_expectations==0.18.12) (6.0.1)\n",
      "Requirement already satisfied: rfc3339-validator in c:\\users\\costa\\python3.12\\lib\\site-packages (from jupyter-events>=0.9.0->jupyter-server<3,>=2.4.0->notebook>=6.4.10->great_expectations==0.18.12) (0.1.4)\n",
      "Requirement already satisfied: rfc3986-validator>=0.1.1 in c:\\users\\costa\\python3.12\\lib\\site-packages (from jupyter-events>=0.9.0->jupyter-server<3,>=2.4.0->notebook>=6.4.10->great_expectations==0.18.12) (0.1.1)\n",
      "Requirement already satisfied: beautifulsoup4 in c:\\users\\costa\\python3.12\\lib\\site-packages (from nbconvert>=6.4.4->jupyter-server<3,>=2.4.0->notebook>=6.4.10->great_expectations==0.18.12) (4.12.3)\n",
      "Requirement already satisfied: bleach!=5.0.0 in c:\\users\\costa\\python3.12\\lib\\site-packages (from nbconvert>=6.4.4->jupyter-server<3,>=2.4.0->notebook>=6.4.10->great_expectations==0.18.12) (6.1.0)\n",
      "Requirement already satisfied: defusedxml in c:\\users\\costa\\python3.12\\lib\\site-packages (from nbconvert>=6.4.4->jupyter-server<3,>=2.4.0->notebook>=6.4.10->great_expectations==0.18.12) (0.7.1)\n",
      "Requirement already satisfied: jupyterlab-pygments in c:\\users\\costa\\python3.12\\lib\\site-packages (from nbconvert>=6.4.4->jupyter-server<3,>=2.4.0->notebook>=6.4.10->great_expectations==0.18.12) (0.3.0)\n",
      "Requirement already satisfied: nbclient>=0.5.0 in c:\\users\\costa\\python3.12\\lib\\site-packages (from nbconvert>=6.4.4->jupyter-server<3,>=2.4.0->notebook>=6.4.10->great_expectations==0.18.12) (0.9.0)\n",
      "Requirement already satisfied: pandocfilters>=1.4.1 in c:\\users\\costa\\python3.12\\lib\\site-packages (from nbconvert>=6.4.4->jupyter-server<3,>=2.4.0->notebook>=6.4.10->great_expectations==0.18.12) (1.5.1)\n",
      "Requirement already satisfied: tinycss2 in c:\\users\\costa\\python3.12\\lib\\site-packages (from nbconvert>=6.4.4->jupyter-server<3,>=2.4.0->notebook>=6.4.10->great_expectations==0.18.12) (1.2.1)\n",
      "Requirement already satisfied: argon2-cffi-bindings in c:\\users\\costa\\python3.12\\lib\\site-packages (from argon2-cffi->jupyter-server<3,>=2.4.0->notebook>=6.4.10->great_expectations==0.18.12) (21.2.0)\n",
      "Requirement already satisfied: debugpy>=1.6.5 in c:\\users\\costa\\python3.12\\lib\\site-packages (from ipykernel->jupyterlab<4.2,>=4.1.1->notebook>=6.4.10->great_expectations==0.18.12) (1.8.1)\n",
      "Requirement already satisfied: nest-asyncio in c:\\users\\costa\\python3.12\\lib\\site-packages (from ipykernel->jupyterlab<4.2,>=4.1.1->notebook>=6.4.10->great_expectations==0.18.12) (1.6.0)\n",
      "Requirement already satisfied: psutil in c:\\users\\costa\\python3.12\\lib\\site-packages (from ipykernel->jupyterlab<4.2,>=4.1.1->notebook>=6.4.10->great_expectations==0.18.12) (5.9.8)\n",
      "Requirement already satisfied: webencodings in c:\\users\\costa\\python3.12\\lib\\site-packages (from bleach!=5.0.0->nbconvert>=6.4.4->jupyter-server<3,>=2.4.0->notebook>=6.4.10->great_expectations==0.18.12) (0.5.1)\n",
      "Requirement already satisfied: fqdn in c:\\users\\costa\\python3.12\\lib\\site-packages (from jsonschema[format-nongpl]>=4.18.0->jupyter-events>=0.9.0->jupyter-server<3,>=2.4.0->notebook>=6.4.10->great_expectations==0.18.12) (1.5.1)\n",
      "Requirement already satisfied: isoduration in c:\\users\\costa\\python3.12\\lib\\site-packages (from jsonschema[format-nongpl]>=4.18.0->jupyter-events>=0.9.0->jupyter-server<3,>=2.4.0->notebook>=6.4.10->great_expectations==0.18.12) (20.11.0)\n",
      "Requirement already satisfied: uri-template in c:\\users\\costa\\python3.12\\lib\\site-packages (from jsonschema[format-nongpl]>=4.18.0->jupyter-events>=0.9.0->jupyter-server<3,>=2.4.0->notebook>=6.4.10->great_expectations==0.18.12) (1.3.0)\n",
      "Requirement already satisfied: webcolors>=1.11 in c:\\users\\costa\\python3.12\\lib\\site-packages (from jsonschema[format-nongpl]>=4.18.0->jupyter-events>=0.9.0->jupyter-server<3,>=2.4.0->notebook>=6.4.10->great_expectations==0.18.12) (1.13)\n",
      "Requirement already satisfied: soupsieve>1.2 in c:\\users\\costa\\python3.12\\lib\\site-packages (from beautifulsoup4->nbconvert>=6.4.4->jupyter-server<3,>=2.4.0->notebook>=6.4.10->great_expectations==0.18.12) (2.5)\n",
      "Requirement already satisfied: arrow>=0.15.0 in c:\\users\\costa\\python3.12\\lib\\site-packages (from isoduration->jsonschema[format-nongpl]>=4.18.0->jupyter-events>=0.9.0->jupyter-server<3,>=2.4.0->notebook>=6.4.10->great_expectations==0.18.12) (1.3.0)\n",
      "Requirement already satisfied: types-python-dateutil>=2.8.10 in c:\\users\\costa\\python3.12\\lib\\site-packages (from arrow>=0.15.0->isoduration->jsonschema[format-nongpl]>=4.18.0->jupyter-events>=0.9.0->jupyter-server<3,>=2.4.0->notebook>=6.4.10->great_expectations==0.18.12) (2.8.19.20240311)\n"
     ]
    }
   ],
   "source": [
    "!pip install great_expectations==0.18.12"
   ]
  },
  {
   "cell_type": "code",
   "execution_count": 5,
   "metadata": {},
   "outputs": [
    {
     "name": "stdout",
     "output_type": "stream",
     "text": [
      "Name: great-expectations\n",
      "Version: 0.18.12\n",
      "Summary: Always know what to expect from your data.\n",
      "Home-page: https://greatexpectations.io\n",
      "Author: The Great Expectations Team\n",
      "Author-email: team@greatexpectations.io\n",
      "License: Apache-2.0\n",
      "Location: C:\\Users\\costa\\Python3.12\\Lib\\site-packages\n",
      "Requires: altair, Click, colorama, cryptography, Ipython, ipywidgets, jinja2, jsonpatch, jsonschema, makefun, marshmallow, mistune, nbformat, notebook, numpy, packaging, pandas, pydantic, pyparsing, python-dateutil, pytz, requests, ruamel.yaml, scipy, tqdm, typing-extensions, tzlocal, urllib3\n",
      "Required-by: \n"
     ]
    }
   ],
   "source": [
    "!pip show great_expectations"
   ]
  },
  {
   "cell_type": "markdown",
   "metadata": {},
   "source": [
    "### Leitura de um arquivo csv com o Pandas direto pelo \"great_expectations\""
   ]
  },
  {
   "cell_type": "code",
   "execution_count": 3,
   "metadata": {},
   "outputs": [
    {
     "data": {
      "text/html": [
       "<div>\n",
       "<style scoped>\n",
       "    .dataframe tbody tr th:only-of-type {\n",
       "        vertical-align: middle;\n",
       "    }\n",
       "\n",
       "    .dataframe tbody tr th {\n",
       "        vertical-align: top;\n",
       "    }\n",
       "\n",
       "    .dataframe thead th {\n",
       "        text-align: right;\n",
       "    }\n",
       "</style>\n",
       "<table border=\"1\" class=\"dataframe\">\n",
       "  <thead>\n",
       "    <tr style=\"text-align: right;\">\n",
       "      <th></th>\n",
       "      <th>Unnamed: 0</th>\n",
       "      <th>dateCrawled</th>\n",
       "      <th>name</th>\n",
       "      <th>price</th>\n",
       "      <th>abtest</th>\n",
       "      <th>vehicleType</th>\n",
       "      <th>yearOfRegistration</th>\n",
       "      <th>gearbox</th>\n",
       "      <th>powerPS</th>\n",
       "      <th>model</th>\n",
       "      <th>kilometer</th>\n",
       "      <th>monthOfRegistration</th>\n",
       "      <th>fuelType</th>\n",
       "      <th>brand</th>\n",
       "      <th>notRepairedDamage</th>\n",
       "      <th>dateCreated</th>\n",
       "      <th>postalCode</th>\n",
       "      <th>lastSeen</th>\n",
       "    </tr>\n",
       "  </thead>\n",
       "  <tbody>\n",
       "    <tr>\n",
       "      <th>0</th>\n",
       "      <td>1</td>\n",
       "      <td>2016-03-24 10:58:45</td>\n",
       "      <td>A5_Sportback_2.7_Tdi</td>\n",
       "      <td>18300.0</td>\n",
       "      <td>test</td>\n",
       "      <td>coupe</td>\n",
       "      <td>2011</td>\n",
       "      <td>manuell</td>\n",
       "      <td>190.0</td>\n",
       "      <td>coupe</td>\n",
       "      <td>125000.0</td>\n",
       "      <td>5</td>\n",
       "      <td>diesel</td>\n",
       "      <td>audi</td>\n",
       "      <td>ja</td>\n",
       "      <td>2016-03-24</td>\n",
       "      <td>66954</td>\n",
       "      <td>2016-04-07 01:46:50</td>\n",
       "    </tr>\n",
       "    <tr>\n",
       "      <th>1</th>\n",
       "      <td>2</td>\n",
       "      <td>2016-03-14 12:52:21</td>\n",
       "      <td>Jeep_Grand_Cherokee_\"Overland\"</td>\n",
       "      <td>9800.0</td>\n",
       "      <td>test</td>\n",
       "      <td>suv</td>\n",
       "      <td>2004</td>\n",
       "      <td>automatik</td>\n",
       "      <td>163.0</td>\n",
       "      <td>grand</td>\n",
       "      <td>125000.0</td>\n",
       "      <td>8</td>\n",
       "      <td>diesel</td>\n",
       "      <td>jeep</td>\n",
       "      <td>no_info</td>\n",
       "      <td>2016-03-14</td>\n",
       "      <td>90480</td>\n",
       "      <td>2016-04-05 12:47:46</td>\n",
       "    </tr>\n",
       "    <tr>\n",
       "      <th>2</th>\n",
       "      <td>3</td>\n",
       "      <td>2016-03-17 16:54:04</td>\n",
       "      <td>GOLF_4_1_4__3TÜRER</td>\n",
       "      <td>1500.0</td>\n",
       "      <td>test</td>\n",
       "      <td>kleinwagen</td>\n",
       "      <td>2001</td>\n",
       "      <td>manuell</td>\n",
       "      <td>75.0</td>\n",
       "      <td>golf</td>\n",
       "      <td>150000.0</td>\n",
       "      <td>6</td>\n",
       "      <td>benzin</td>\n",
       "      <td>volkswagen</td>\n",
       "      <td>nein</td>\n",
       "      <td>2016-03-17</td>\n",
       "      <td>91074</td>\n",
       "      <td>2016-03-17 17:40:17</td>\n",
       "    </tr>\n",
       "  </tbody>\n",
       "</table>\n",
       "</div>"
      ],
      "text/plain": [
       "   Unnamed: 0          dateCrawled                            name    price  \\\n",
       "0           1  2016-03-24 10:58:45            A5_Sportback_2.7_Tdi  18300.0   \n",
       "1           2  2016-03-14 12:52:21  Jeep_Grand_Cherokee_\"Overland\"   9800.0   \n",
       "2           3  2016-03-17 16:54:04              GOLF_4_1_4__3TÜRER   1500.0   \n",
       "\n",
       "  abtest vehicleType  yearOfRegistration    gearbox  powerPS  model  \\\n",
       "0   test       coupe                2011    manuell    190.0  coupe   \n",
       "1   test         suv                2004  automatik    163.0  grand   \n",
       "2   test  kleinwagen                2001    manuell     75.0   golf   \n",
       "\n",
       "   kilometer  monthOfRegistration fuelType       brand notRepairedDamage  \\\n",
       "0   125000.0                    5   diesel        audi                ja   \n",
       "1   125000.0                    8   diesel        jeep           no_info   \n",
       "2   150000.0                    6   benzin  volkswagen              nein   \n",
       "\n",
       "  dateCreated  postalCode             lastSeen  \n",
       "0  2016-03-24       66954  2016-04-07 01:46:50  \n",
       "1  2016-03-14       90480  2016-04-05 12:47:46  \n",
       "2  2016-03-17       91074  2016-03-17 17:40:17  "
      ]
     },
     "execution_count": 3,
     "metadata": {},
     "output_type": "execute_result"
    }
   ],
   "source": [
    "import great_expectations as gx\n",
    "\n",
    "df = gx.read_csv(\"dados/autos_cleaned.csv\")\n",
    "\n",
    "df.head(3)"
   ]
  },
  {
   "cell_type": "markdown",
   "metadata": {},
   "source": [
    "### Ou leitura do arquivo com o Pandas e depois convertando para o formato do \"great_expectations\""
   ]
  },
  {
   "cell_type": "code",
   "execution_count": 6,
   "metadata": {},
   "outputs": [
    {
     "data": {
      "text/html": [
       "<div>\n",
       "<style scoped>\n",
       "    .dataframe tbody tr th:only-of-type {\n",
       "        vertical-align: middle;\n",
       "    }\n",
       "\n",
       "    .dataframe tbody tr th {\n",
       "        vertical-align: top;\n",
       "    }\n",
       "\n",
       "    .dataframe thead th {\n",
       "        text-align: right;\n",
       "    }\n",
       "</style>\n",
       "<table border=\"1\" class=\"dataframe\">\n",
       "  <thead>\n",
       "    <tr style=\"text-align: right;\">\n",
       "      <th></th>\n",
       "      <th>Unnamed: 0</th>\n",
       "      <th>dateCrawled</th>\n",
       "      <th>name</th>\n",
       "      <th>price</th>\n",
       "      <th>abtest</th>\n",
       "      <th>vehicleType</th>\n",
       "      <th>yearOfRegistration</th>\n",
       "      <th>gearbox</th>\n",
       "      <th>powerPS</th>\n",
       "      <th>model</th>\n",
       "      <th>kilometer</th>\n",
       "      <th>monthOfRegistration</th>\n",
       "      <th>fuelType</th>\n",
       "      <th>brand</th>\n",
       "      <th>notRepairedDamage</th>\n",
       "      <th>dateCreated</th>\n",
       "      <th>postalCode</th>\n",
       "      <th>lastSeen</th>\n",
       "    </tr>\n",
       "  </thead>\n",
       "  <tbody>\n",
       "    <tr>\n",
       "      <th>0</th>\n",
       "      <td>1</td>\n",
       "      <td>2016-03-24 10:58:45</td>\n",
       "      <td>A5_Sportback_2.7_Tdi</td>\n",
       "      <td>18300.0</td>\n",
       "      <td>test</td>\n",
       "      <td>coupe</td>\n",
       "      <td>2011</td>\n",
       "      <td>manuell</td>\n",
       "      <td>190.0</td>\n",
       "      <td>coupe</td>\n",
       "      <td>125000.0</td>\n",
       "      <td>5</td>\n",
       "      <td>diesel</td>\n",
       "      <td>audi</td>\n",
       "      <td>ja</td>\n",
       "      <td>2016-03-24</td>\n",
       "      <td>66954</td>\n",
       "      <td>2016-04-07 01:46:50</td>\n",
       "    </tr>\n",
       "    <tr>\n",
       "      <th>1</th>\n",
       "      <td>2</td>\n",
       "      <td>2016-03-14 12:52:21</td>\n",
       "      <td>Jeep_Grand_Cherokee_\"Overland\"</td>\n",
       "      <td>9800.0</td>\n",
       "      <td>test</td>\n",
       "      <td>suv</td>\n",
       "      <td>2004</td>\n",
       "      <td>automatik</td>\n",
       "      <td>163.0</td>\n",
       "      <td>grand</td>\n",
       "      <td>125000.0</td>\n",
       "      <td>8</td>\n",
       "      <td>diesel</td>\n",
       "      <td>jeep</td>\n",
       "      <td>no_info</td>\n",
       "      <td>2016-03-14</td>\n",
       "      <td>90480</td>\n",
       "      <td>2016-04-05 12:47:46</td>\n",
       "    </tr>\n",
       "    <tr>\n",
       "      <th>2</th>\n",
       "      <td>3</td>\n",
       "      <td>2016-03-17 16:54:04</td>\n",
       "      <td>GOLF_4_1_4__3TÜRER</td>\n",
       "      <td>1500.0</td>\n",
       "      <td>test</td>\n",
       "      <td>kleinwagen</td>\n",
       "      <td>2001</td>\n",
       "      <td>manuell</td>\n",
       "      <td>75.0</td>\n",
       "      <td>golf</td>\n",
       "      <td>150000.0</td>\n",
       "      <td>6</td>\n",
       "      <td>benzin</td>\n",
       "      <td>volkswagen</td>\n",
       "      <td>nein</td>\n",
       "      <td>2016-03-17</td>\n",
       "      <td>91074</td>\n",
       "      <td>2016-03-17 17:40:17</td>\n",
       "    </tr>\n",
       "  </tbody>\n",
       "</table>\n",
       "</div>"
      ],
      "text/plain": [
       "   Unnamed: 0          dateCrawled                            name    price  \\\n",
       "0           1  2016-03-24 10:58:45            A5_Sportback_2.7_Tdi  18300.0   \n",
       "1           2  2016-03-14 12:52:21  Jeep_Grand_Cherokee_\"Overland\"   9800.0   \n",
       "2           3  2016-03-17 16:54:04              GOLF_4_1_4__3TÜRER   1500.0   \n",
       "\n",
       "  abtest vehicleType  yearOfRegistration    gearbox  powerPS  model  \\\n",
       "0   test       coupe                2011    manuell    190.0  coupe   \n",
       "1   test         suv                2004  automatik    163.0  grand   \n",
       "2   test  kleinwagen                2001    manuell     75.0   golf   \n",
       "\n",
       "   kilometer  monthOfRegistration fuelType       brand notRepairedDamage  \\\n",
       "0   125000.0                    5   diesel        audi                ja   \n",
       "1   125000.0                    8   diesel        jeep           no_info   \n",
       "2   150000.0                    6   benzin  volkswagen              nein   \n",
       "\n",
       "  dateCreated  postalCode             lastSeen  \n",
       "0  2016-03-24       66954  2016-04-07 01:46:50  \n",
       "1  2016-03-14       90480  2016-04-05 12:47:46  \n",
       "2  2016-03-17       91074  2016-03-17 17:40:17  "
      ]
     },
     "execution_count": 6,
     "metadata": {},
     "output_type": "execute_result"
    }
   ],
   "source": [
    "import pandas as pd\n",
    "\n",
    "df = pd.read_csv(\"dados/autos_cleaned.csv\")\n",
    "\n",
    "df = gx.from_pandas(df)\n",
    "\n",
    "df.head(3)"
   ]
  },
  {
   "cell_type": "code",
   "execution_count": 8,
   "metadata": {},
   "outputs": [
    {
     "data": {
      "text/plain": [
       "Unnamed: 0               int64\n",
       "dateCrawled             object\n",
       "name                    object\n",
       "price                  float64\n",
       "abtest                  object\n",
       "vehicleType             object\n",
       "yearOfRegistration       int64\n",
       "gearbox                 object\n",
       "powerPS                float64\n",
       "model                   object\n",
       "kilometer              float64\n",
       "monthOfRegistration      int64\n",
       "fuelType                object\n",
       "brand                   object\n",
       "notRepairedDamage       object\n",
       "dateCreated             object\n",
       "postalCode               int64\n",
       "lastSeen                object\n",
       "dtype: object"
      ]
     },
     "execution_count": 8,
     "metadata": {},
     "output_type": "execute_result"
    }
   ],
   "source": [
    "df.dtypes"
   ]
  },
  {
   "cell_type": "markdown",
   "metadata": {},
   "source": [
    "### Adiciona duas expectativas de tipo de coluna para a base de dados "
   ]
  },
  {
   "cell_type": "code",
   "execution_count": 7,
   "metadata": {},
   "outputs": [
    {
     "data": {
      "text/plain": [
       "{\n",
       "  \"success\": true,\n",
       "  \"result\": {\n",
       "    \"observed_value\": \"int64\"\n",
       "  },\n",
       "  \"meta\": {},\n",
       "  \"exception_info\": {\n",
       "    \"raised_exception\": false,\n",
       "    \"exception_traceback\": null,\n",
       "    \"exception_message\": null\n",
       "  }\n",
       "}"
      ]
     },
     "execution_count": 7,
     "metadata": {},
     "output_type": "execute_result"
    }
   ],
   "source": [
    "df.expect_column_values_to_be_of_type(column=\"yearOfRegistration\", type_=\"int64\")"
   ]
  },
  {
   "cell_type": "code",
   "execution_count": 9,
   "metadata": {},
   "outputs": [
    {
     "data": {
      "text/plain": [
       "{\n",
       "  \"success\": true,\n",
       "  \"result\": {\n",
       "    \"observed_value\": \"int64\"\n",
       "  },\n",
       "  \"meta\": {},\n",
       "  \"exception_info\": {\n",
       "    \"raised_exception\": false,\n",
       "    \"exception_traceback\": null,\n",
       "    \"exception_message\": null\n",
       "  }\n",
       "}"
      ]
     },
     "execution_count": 9,
     "metadata": {},
     "output_type": "execute_result"
    }
   ],
   "source": [
    "df.expect_column_values_to_be_of_type(column=\"monthOfRegistration\", type_=\"int64\")"
   ]
  },
  {
   "cell_type": "markdown",
   "metadata": {},
   "source": [
    "### Lista com todas as expectativas disponíveis:\n",
    "https://greatexpectations.io/expectations/"
   ]
  },
  {
   "cell_type": "markdown",
   "metadata": {},
   "source": [
    "### As expectativas ficam armazenadas em um \"Expectation Suite\":"
   ]
  },
  {
   "cell_type": "code",
   "execution_count": 10,
   "metadata": {},
   "outputs": [
    {
     "data": {
      "text/plain": [
       "{\n",
       "  \"expectation_suite_name\": \"default\",\n",
       "  \"ge_cloud_id\": null,\n",
       "  \"expectations\": [\n",
       "    {\n",
       "      \"expectation_type\": \"expect_column_values_to_be_of_type\",\n",
       "      \"kwargs\": {\n",
       "        \"column\": \"yearOfRegistration\",\n",
       "        \"type_\": \"int64\"\n",
       "      },\n",
       "      \"meta\": {}\n",
       "    },\n",
       "    {\n",
       "      \"expectation_type\": \"expect_column_values_to_be_of_type\",\n",
       "      \"kwargs\": {\n",
       "        \"column\": \"monthOfRegistration\",\n",
       "        \"type_\": \"int64\"\n",
       "      },\n",
       "      \"meta\": {}\n",
       "    }\n",
       "  ],\n",
       "  \"data_asset_type\": \"Dataset\",\n",
       "  \"meta\": {\n",
       "    \"great_expectations_version\": \"0.18.12\"\n",
       "  }\n",
       "}"
      ]
     },
     "execution_count": 10,
     "metadata": {},
     "output_type": "execute_result"
    }
   ],
   "source": [
    "df.get_expectation_suite()"
   ]
  },
  {
   "cell_type": "markdown",
   "metadata": {},
   "source": [
    "### Adicionando uma nova expectativa, agora com relação a valores esperados de 1 a 12 para a coluna 'monthOfRegistration'"
   ]
  },
  {
   "cell_type": "code",
   "execution_count": 11,
   "metadata": {},
   "outputs": [
    {
     "data": {
      "text/plain": [
       "{\n",
       "  \"success\": false,\n",
       "  \"result\": {\n",
       "    \"element_count\": 303950,\n",
       "    \"missing_count\": 0,\n",
       "    \"missing_percent\": 0.0,\n",
       "    \"unexpected_count\": 18520,\n",
       "    \"unexpected_percent\": 6.093107418983386,\n",
       "    \"unexpected_percent_total\": 6.093107418983386,\n",
       "    \"unexpected_percent_nonmissing\": 6.093107418983386,\n",
       "    \"partial_unexpected_list\": [\n",
       "      -1,\n",
       "      -1,\n",
       "      -1,\n",
       "      -1,\n",
       "      -1,\n",
       "      -1,\n",
       "      -1,\n",
       "      -1,\n",
       "      -1,\n",
       "      -1,\n",
       "      -1,\n",
       "      -1,\n",
       "      -1,\n",
       "      -1,\n",
       "      -1,\n",
       "      -1,\n",
       "      -1,\n",
       "      -1,\n",
       "      -1,\n",
       "      -1\n",
       "    ]\n",
       "  },\n",
       "  \"meta\": {},\n",
       "  \"exception_info\": {\n",
       "    \"raised_exception\": false,\n",
       "    \"exception_traceback\": null,\n",
       "    \"exception_message\": null\n",
       "  }\n",
       "}"
      ]
     },
     "execution_count": 11,
     "metadata": {},
     "output_type": "execute_result"
    }
   ],
   "source": [
    "df.expect_column_values_to_be_between(column=\"monthOfRegistration\", min_value=1, max_value=12)"
   ]
  },
  {
   "cell_type": "markdown",
   "metadata": {},
   "source": [
    "### Agora trabalhando com checkpoints e validadores "
   ]
  },
  {
   "cell_type": "code",
   "execution_count": 12,
   "metadata": {},
   "outputs": [
    {
     "name": "stdout",
     "output_type": "stream",
     "text": [
      "{\n",
      "  \"anonymous_usage_statistics\": {\n",
      "    \"explicit_id\": true,\n",
      "    \"data_context_id\": \"5f7cfd21-7cd3-44b2-89ce-bff5e62480ec\",\n",
      "    \"enabled\": true,\n",
      "    \"usage_statistics_url\": \"https://stats.greatexpectations.io/great_expectations/v1/usage_statistics\",\n",
      "    \"explicit_url\": false\n",
      "  },\n",
      "  \"checkpoint_store_name\": \"checkpoint_store\",\n",
      "  \"config_version\": 3,\n",
      "  \"data_docs_sites\": {\n",
      "    \"local_site\": {\n",
      "      \"class_name\": \"SiteBuilder\",\n",
      "      \"show_how_to_buttons\": true,\n",
      "      \"store_backend\": {\n",
      "        \"class_name\": \"TupleFilesystemStoreBackend\",\n",
      "        \"base_directory\": \"C:\\\\Users\\\\costa\\\\AppData\\\\Local\\\\Temp\\\\tmpaw8jir3e\"\n",
      "      },\n",
      "      \"site_index_builder\": {\n",
      "        \"class_name\": \"DefaultSiteIndexBuilder\"\n",
      "      }\n",
      "    }\n",
      "  },\n",
      "  \"datasources\": {},\n",
      "  \"evaluation_parameter_store_name\": \"evaluation_parameter_store\",\n",
      "  \"expectations_store_name\": \"expectations_store\",\n",
      "  \"fluent_datasources\": {},\n",
      "  \"include_rendered_content\": {\n",
      "    \"globally\": false,\n",
      "    \"expectation_suite\": false,\n",
      "    \"expectation_validation_result\": false\n",
      "  },\n",
      "  \"profiler_store_name\": \"profiler_store\",\n",
      "  \"stores\": {\n",
      "    \"expectations_store\": {\n",
      "      \"class_name\": \"ExpectationsStore\",\n",
      "      \"store_backend\": {\n",
      "        \"class_name\": \"InMemoryStoreBackend\"\n",
      "      }\n",
      "    },\n",
      "    \"validations_store\": {\n",
      "      \"class_name\": \"ValidationsStore\",\n",
      "      \"store_backend\": {\n",
      "        \"class_name\": \"InMemoryStoreBackend\"\n",
      "      }\n",
      "    },\n",
      "    \"evaluation_parameter_store\": {\n",
      "      \"class_name\": \"EvaluationParameterStore\"\n",
      "    },\n",
      "    \"checkpoint_store\": {\n",
      "      \"class_name\": \"CheckpointStore\",\n",
      "      \"store_backend\": {\n",
      "        \"class_name\": \"InMemoryStoreBackend\"\n",
      "      }\n",
      "    },\n",
      "    \"profiler_store\": {\n",
      "      \"class_name\": \"ProfilerStore\",\n",
      "      \"store_backend\": {\n",
      "        \"class_name\": \"InMemoryStoreBackend\"\n",
      "      }\n",
      "    }\n",
      "  },\n",
      "  \"validations_store_name\": \"validations_store\"\n",
      "}\n"
     ]
    }
   ],
   "source": [
    "context = gx.get_context()\n",
    "\n",
    "print(context)"
   ]
  },
  {
   "cell_type": "markdown",
   "metadata": {},
   "source": [
    "### Perceba que o contexto inicia sem nenhuma lista de Expectativas (as \"Expectation Suites\")"
   ]
  },
  {
   "cell_type": "code",
   "execution_count": 13,
   "metadata": {},
   "outputs": [
    {
     "data": {
      "text/plain": [
       "[]"
      ]
     },
     "execution_count": 13,
     "metadata": {},
     "output_type": "execute_result"
    }
   ],
   "source": [
    "context.list_expectation_suite_names()"
   ]
  },
  {
   "cell_type": "markdown",
   "metadata": {},
   "source": [
    "### Cria um validador a partir da base de dados pelo arquivo csv e o Pandas"
   ]
  },
  {
   "cell_type": "code",
   "execution_count": 14,
   "metadata": {},
   "outputs": [],
   "source": [
    "validator = context.sources.pandas_default.read_csv(\"dados/autos.csv\", encoding='ISO-8859-1')"
   ]
  },
  {
   "cell_type": "code",
   "execution_count": 15,
   "metadata": {},
   "outputs": [
    {
     "data": {
      "application/vnd.jupyter.widget-view+json": {
       "model_id": "876ca365d9994bc990660aeb895f839b",
       "version_major": 2,
       "version_minor": 0
      },
      "text/plain": [
       "Calculating Metrics:   0%|          | 0/1 [00:00<?, ?it/s]"
      ]
     },
     "metadata": {},
     "output_type": "display_data"
    },
    {
     "data": {
      "text/plain": [
       "{\n",
       "  \"success\": true,\n",
       "  \"result\": {\n",
       "    \"observed_value\": \"int64\"\n",
       "  },\n",
       "  \"meta\": {},\n",
       "  \"exception_info\": {\n",
       "    \"raised_exception\": false,\n",
       "    \"exception_traceback\": null,\n",
       "    \"exception_message\": null\n",
       "  }\n",
       "}"
      ]
     },
     "execution_count": 15,
     "metadata": {},
     "output_type": "execute_result"
    }
   ],
   "source": [
    "validator.expect_column_values_to_be_of_type(column='yearOfRegistration', type_ ='int64')"
   ]
  },
  {
   "cell_type": "code",
   "execution_count": 16,
   "metadata": {},
   "outputs": [
    {
     "data": {
      "application/vnd.jupyter.widget-view+json": {
       "model_id": "ecd44c83988340bf81184c58251e15a6",
       "version_major": 2,
       "version_minor": 0
      },
      "text/plain": [
       "Calculating Metrics:   0%|          | 0/1 [00:00<?, ?it/s]"
      ]
     },
     "metadata": {},
     "output_type": "display_data"
    },
    {
     "data": {
      "text/plain": [
       "{\n",
       "  \"success\": true,\n",
       "  \"result\": {\n",
       "    \"observed_value\": \"int64\"\n",
       "  },\n",
       "  \"meta\": {},\n",
       "  \"exception_info\": {\n",
       "    \"raised_exception\": false,\n",
       "    \"exception_traceback\": null,\n",
       "    \"exception_message\": null\n",
       "  }\n",
       "}"
      ]
     },
     "execution_count": 16,
     "metadata": {},
     "output_type": "execute_result"
    }
   ],
   "source": [
    "validator.expect_column_values_to_be_of_type(column='monthOfRegistration', type_ ='int64')"
   ]
  },
  {
   "cell_type": "code",
   "execution_count": 17,
   "metadata": {},
   "outputs": [
    {
     "data": {
      "application/vnd.jupyter.widget-view+json": {
       "model_id": "1558e729ec194c63884e9bb6133b35e6",
       "version_major": 2,
       "version_minor": 0
      },
      "text/plain": [
       "Calculating Metrics:   0%|          | 0/8 [00:00<?, ?it/s]"
      ]
     },
     "metadata": {},
     "output_type": "display_data"
    },
    {
     "data": {
      "text/plain": [
       "{\n",
       "  \"success\": false,\n",
       "  \"result\": {\n",
       "    \"element_count\": 371528,\n",
       "    \"unexpected_count\": 37675,\n",
       "    \"unexpected_percent\": 10.14055468228505,\n",
       "    \"partial_unexpected_list\": [\n",
       "      0,\n",
       "      0,\n",
       "      0,\n",
       "      0,\n",
       "      0,\n",
       "      0,\n",
       "      0,\n",
       "      0,\n",
       "      0,\n",
       "      0,\n",
       "      0,\n",
       "      0,\n",
       "      0,\n",
       "      0,\n",
       "      0,\n",
       "      0,\n",
       "      0,\n",
       "      0,\n",
       "      0,\n",
       "      0\n",
       "    ],\n",
       "    \"missing_count\": 0,\n",
       "    \"missing_percent\": 0.0,\n",
       "    \"unexpected_percent_total\": 10.14055468228505,\n",
       "    \"unexpected_percent_nonmissing\": 10.14055468228505\n",
       "  },\n",
       "  \"meta\": {},\n",
       "  \"exception_info\": {\n",
       "    \"raised_exception\": false,\n",
       "    \"exception_traceback\": null,\n",
       "    \"exception_message\": null\n",
       "  }\n",
       "}"
      ]
     },
     "execution_count": 17,
     "metadata": {},
     "output_type": "execute_result"
    }
   ],
   "source": [
    "validator.expect_column_values_to_be_between(column='monthOfRegistration', min_value = 1, max_value=12)"
   ]
  },
  {
   "cell_type": "code",
   "execution_count": 18,
   "metadata": {},
   "outputs": [
    {
     "data": {
      "application/vnd.jupyter.widget-view+json": {
       "model_id": "4b8266d8f6054a4daf59caed57762b79",
       "version_major": 2,
       "version_minor": 0
      },
      "text/plain": [
       "Calculating Metrics:   0%|          | 0/8 [00:00<?, ?it/s]"
      ]
     },
     "metadata": {},
     "output_type": "display_data"
    },
    {
     "data": {
      "text/plain": [
       "{\n",
       "  \"success\": true,\n",
       "  \"result\": {\n",
       "    \"element_count\": 371528,\n",
       "    \"unexpected_count\": 0,\n",
       "    \"unexpected_percent\": 0.0,\n",
       "    \"partial_unexpected_list\": [],\n",
       "    \"missing_count\": 0,\n",
       "    \"missing_percent\": 0.0,\n",
       "    \"unexpected_percent_total\": 0.0,\n",
       "    \"unexpected_percent_nonmissing\": 0.0\n",
       "  },\n",
       "  \"meta\": {},\n",
       "  \"exception_info\": {\n",
       "    \"raised_exception\": false,\n",
       "    \"exception_traceback\": null,\n",
       "    \"exception_message\": null\n",
       "  }\n",
       "}"
      ]
     },
     "execution_count": 18,
     "metadata": {},
     "output_type": "execute_result"
    }
   ],
   "source": [
    "\n",
    "validator.expect_column_values_to_be_between(column='kilometer', min_value = 1000, max_value=500000)"
   ]
  },
  {
   "cell_type": "markdown",
   "metadata": {},
   "source": [
    "### Salva a \"Expectation Suite\" criada pelo validador"
   ]
  },
  {
   "cell_type": "code",
   "execution_count": 19,
   "metadata": {},
   "outputs": [],
   "source": [
    "validator.save_expectation_suite(discard_failed_expectations=False)"
   ]
  },
  {
   "cell_type": "code",
   "execution_count": 20,
   "metadata": {},
   "outputs": [
    {
     "data": {
      "text/plain": [
       "['default']"
      ]
     },
     "execution_count": 20,
     "metadata": {},
     "output_type": "execute_result"
    }
   ],
   "source": [
    "context.list_expectation_suite_names()"
   ]
  },
  {
   "cell_type": "markdown",
   "metadata": {},
   "source": [
    "### Cria um \"checkpoint\" a partir do resultado atual do validador"
   ]
  },
  {
   "cell_type": "code",
   "execution_count": 21,
   "metadata": {},
   "outputs": [],
   "source": [
    "checkpoint = context.add_or_update_checkpoint(name=\"primeiro_checkpoint\", validator=validator)"
   ]
  },
  {
   "cell_type": "markdown",
   "metadata": {},
   "source": [
    "### Processa esse \"checkpoint\""
   ]
  },
  {
   "cell_type": "code",
   "execution_count": 22,
   "metadata": {},
   "outputs": [
    {
     "data": {
      "application/vnd.jupyter.widget-view+json": {
       "model_id": "f8183dda0d0c4ea5b330f22b931fd1bf",
       "version_major": 2,
       "version_minor": 0
      },
      "text/plain": [
       "Calculating Metrics:   0%|          | 0/17 [00:00<?, ?it/s]"
      ]
     },
     "metadata": {},
     "output_type": "display_data"
    }
   ],
   "source": [
    "checkpoint_result = checkpoint.run()"
   ]
  },
  {
   "cell_type": "markdown",
   "metadata": {},
   "source": [
    "### Disponibiliza uma documentação web com as informações das expectativas e testes dos \"checkpoints\" no link indicado"
   ]
  },
  {
   "cell_type": "code",
   "execution_count": 23,
   "metadata": {},
   "outputs": [
    {
     "data": {
      "text/plain": [
       "{'local_site': 'file://C:\\\\Users\\\\costa\\\\AppData\\\\Local\\\\Temp\\\\tmpaw8jir3e\\\\index.html'}"
      ]
     },
     "execution_count": 23,
     "metadata": {},
     "output_type": "execute_result"
    }
   ],
   "source": [
    "context.build_data_docs()"
   ]
  },
  {
   "cell_type": "markdown",
   "metadata": {},
   "source": [
    "### Continuação dos testes com a adição de uma nova expectativa"
   ]
  },
  {
   "cell_type": "code",
   "execution_count": 24,
   "metadata": {},
   "outputs": [
    {
     "data": {
      "application/vnd.jupyter.widget-view+json": {
       "model_id": "231d26e607ce4718875833831196005e",
       "version_major": 2,
       "version_minor": 0
      },
      "text/plain": [
       "Calculating Metrics:   0%|          | 0/8 [00:00<?, ?it/s]"
      ]
     },
     "metadata": {},
     "output_type": "display_data"
    },
    {
     "data": {
      "text/plain": [
       "{\n",
       "  \"success\": true,\n",
       "  \"result\": {\n",
       "    \"element_count\": 371528,\n",
       "    \"unexpected_count\": 0,\n",
       "    \"unexpected_percent\": 0.0,\n",
       "    \"partial_unexpected_list\": [],\n",
       "    \"missing_count\": 0,\n",
       "    \"missing_percent\": 0.0,\n",
       "    \"unexpected_percent_total\": 0.0,\n",
       "    \"unexpected_percent_nonmissing\": 0.0\n",
       "  },\n",
       "  \"meta\": {},\n",
       "  \"exception_info\": {\n",
       "    \"raised_exception\": false,\n",
       "    \"exception_traceback\": null,\n",
       "    \"exception_message\": null\n",
       "  }\n",
       "}"
      ]
     },
     "execution_count": 24,
     "metadata": {},
     "output_type": "execute_result"
    }
   ],
   "source": [
    "validator.expect_column_values_to_be_between(column = 'powerPS', min_value = 0, max_value = 30000)"
   ]
  },
  {
   "cell_type": "markdown",
   "metadata": {},
   "source": [
    "### Salva a novo conjunto de expectativas (\"Expectation Suite\") e processa mais um \"checkpoint\""
   ]
  },
  {
   "cell_type": "code",
   "execution_count": 25,
   "metadata": {},
   "outputs": [],
   "source": [
    "validator.save_expectation_suite(discard_failed_expectations=False)"
   ]
  },
  {
   "cell_type": "code",
   "execution_count": 26,
   "metadata": {},
   "outputs": [],
   "source": [
    "checkpoint = context.add_or_update_checkpoint(name=\"segundo_checkpoint\", validator=validator)"
   ]
  },
  {
   "cell_type": "code",
   "execution_count": 27,
   "metadata": {},
   "outputs": [
    {
     "data": {
      "application/vnd.jupyter.widget-view+json": {
       "model_id": "06c1c1aedfda45139b1f65fd2f8653c8",
       "version_major": 2,
       "version_minor": 0
      },
      "text/plain": [
       "Calculating Metrics:   0%|          | 0/24 [00:00<?, ?it/s]"
      ]
     },
     "metadata": {},
     "output_type": "display_data"
    }
   ],
   "source": [
    "checkpoint_result = checkpoint.run()"
   ]
  },
  {
   "cell_type": "code",
   "execution_count": 28,
   "metadata": {},
   "outputs": [
    {
     "data": {
      "application/vnd.jupyter.widget-view+json": {
       "model_id": "3631c4c3c38544ce997b4001afc84d7f",
       "version_major": 2,
       "version_minor": 0
      },
      "text/plain": [
       "Calculating Metrics:   0%|          | 0/8 [00:00<?, ?it/s]"
      ]
     },
     "metadata": {},
     "output_type": "display_data"
    },
    {
     "data": {
      "text/plain": [
       "{\n",
       "  \"success\": false,\n",
       "  \"result\": {\n",
       "    \"element_count\": 371528,\n",
       "    \"unexpected_count\": 14748,\n",
       "    \"unexpected_percent\": 3.9695527658749814,\n",
       "    \"partial_unexpected_list\": [\n",
       "      2018,\n",
       "      2017,\n",
       "      2017,\n",
       "      2017,\n",
       "      2018,\n",
       "      2017,\n",
       "      2017,\n",
       "      2017,\n",
       "      2018,\n",
       "      2018,\n",
       "      2017,\n",
       "      2017,\n",
       "      2017,\n",
       "      2017,\n",
       "      2017,\n",
       "      2017,\n",
       "      2017,\n",
       "      2017,\n",
       "      2018,\n",
       "      2017\n",
       "    ],\n",
       "    \"missing_count\": 0,\n",
       "    \"missing_percent\": 0.0,\n",
       "    \"unexpected_percent_total\": 3.9695527658749814,\n",
       "    \"unexpected_percent_nonmissing\": 3.9695527658749814\n",
       "  },\n",
       "  \"meta\": {},\n",
       "  \"exception_info\": {\n",
       "    \"raised_exception\": false,\n",
       "    \"exception_traceback\": null,\n",
       "    \"exception_message\": null\n",
       "  }\n",
       "}"
      ]
     },
     "execution_count": 28,
     "metadata": {},
     "output_type": "execute_result"
    }
   ],
   "source": [
    "validator.expect_column_values_to_be_between(column = 'yearOfRegistration', min_value = 1900, max_value = 2016)"
   ]
  },
  {
   "cell_type": "code",
   "execution_count": 29,
   "metadata": {},
   "outputs": [],
   "source": [
    "validator.save_expectation_suite()"
   ]
  },
  {
   "cell_type": "code",
   "execution_count": 30,
   "metadata": {},
   "outputs": [],
   "source": [
    "checkpoint = context.add_or_update_checkpoint(name=\"segundo_checkpoint\", validator=validator)"
   ]
  },
  {
   "cell_type": "code",
   "execution_count": 31,
   "metadata": {},
   "outputs": [
    {
     "data": {
      "application/vnd.jupyter.widget-view+json": {
       "model_id": "55bf69e88e2a4459bd6c81adfed9e3b6",
       "version_major": 2,
       "version_minor": 0
      },
      "text/plain": [
       "Calculating Metrics:   0%|          | 0/17 [00:00<?, ?it/s]"
      ]
     },
     "metadata": {},
     "output_type": "display_data"
    }
   ],
   "source": [
    "checkpoint_result = checkpoint.run()"
   ]
  }
 ],
 "metadata": {
  "kernelspec": {
   "display_name": "Python 3",
   "language": "python",
   "name": "python3"
  },
  "language_info": {
   "codemirror_mode": {
    "name": "ipython",
    "version": 3
   },
   "file_extension": ".py",
   "mimetype": "text/x-python",
   "name": "python",
   "nbconvert_exporter": "python",
   "pygments_lexer": "ipython3",
   "version": "3.12.2"
  }
 },
 "nbformat": 4,
 "nbformat_minor": 4
}
