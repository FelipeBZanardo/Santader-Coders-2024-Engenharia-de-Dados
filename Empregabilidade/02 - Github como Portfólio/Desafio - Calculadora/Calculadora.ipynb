{
 "cells": [
  {
   "cell_type": "code",
   "execution_count": null,
   "metadata": {},
   "outputs": [],
   "source": [
    "!pip install customtkinter"
   ]
  },
  {
   "cell_type": "code",
   "execution_count": 3,
   "metadata": {},
   "outputs": [],
   "source": [
    "import customtkinter\n",
    "\n",
    "class App(customtkinter.CTk):\n",
    "    def __init__(self):\n",
    "        super().__init__()\n",
    "        self.maxsize(width=360, height=400)\n",
    "        self.minsize(width=360, height=400)\n",
    "        self.geometry('361x354+423+159')\n",
    "        self.title('Calculadora do Felipe')\n",
    "        customtkinter.set_appearance_mode('dark')\n",
    "\n",
    "        self.output = customtkinter.CTkLabel(self, text='', width=340, height=50,corner_radius=10, font=(('Arial', 50)), bg_color='white', text_color= 'black')\n",
    "        self.output.grid(row=0, column=0, columnspan=5, padx=5, pady=5)\n",
    "    \n",
    "        customtkinter.CTkButton(self, text='1', command= lambda:self.output.configure(text=self.output.cget('text') + '1') , corner_radius=20, width=80, height=55, font=(('arial', 30))).grid(row=2, column=0, padx=5, pady=5)  \n",
    "\n",
    "        customtkinter.CTkButton(self ,text='2', command= lambda:self.output.configure(text=self.output.cget('text') + '2'), corner_radius=20, width=80, height=55, font=(('arial', 30))).grid(row=2, column=1, padx=5, pady=5)\n",
    "\n",
    "        customtkinter.CTkButton(self ,text='3', command= lambda:self.output.configure(text=self.output.cget('text') + '3'), corner_radius=20, width=80, height=55, font=(('arial', 30))).grid(row=2, column=2, padx=5, pady=5)\n",
    "\n",
    "        customtkinter.CTkButton(self ,text='4', command= lambda:self.output.configure(text=self.output.cget('text') + '4'), corner_radius=20, width=80, height=55, font=(('arial', 30))).grid(row=3, column=0, padx=5, pady=5)\n",
    "\n",
    "        customtkinter.CTkButton(self ,text='5', command= lambda:self.output.configure(text=self.output.cget('text') + '5'), corner_radius=20, width=80, height=55, font=(('arial', 30))).grid(row=3, column=1, padx=5, pady=5)\n",
    "\n",
    "        customtkinter.CTkButton(self ,text='6', command= lambda:self.output.configure(text=self.output.cget('text') + '6'), corner_radius=20, width=80, height=55, font=(('arial', 30))).grid(row=3, column=2, padx=5, pady=5)\n",
    "\n",
    "        customtkinter.CTkButton(self ,text='7', command= lambda:self.output.configure(text=self.output.cget('text') + '7'), corner_radius=20, width=80, height=55, font=(('arial', 30))).grid(row=4, column=0, padx=5, pady=5)\n",
    "\n",
    "        customtkinter.CTkButton(self ,text='8', command= lambda:self.output.configure(text=self.output.cget('text') + '8'), corner_radius=20, width=80, height=55, font=(('arial', 30))).grid(row=4, column=1, padx=5, pady=5)\n",
    "\n",
    "        customtkinter.CTkButton(self ,text='9', command= lambda:self.output.configure(text=self.output.cget('text') + '9'), corner_radius=20, width=80, height=55, font=(('arial', 30))).grid(row=4, column=2, padx=5, pady=5)\n",
    "\n",
    "        customtkinter.CTkButton(self ,text='0', command= lambda:self.output.configure(text=self.output.cget('text') + '0'), corner_radius=20, width=80, height=55, font=(('arial', 30))).grid(row=5, column=0, padx=5, pady=5)\n",
    "\n",
    "        customtkinter.CTkButton(self ,text='00', command= lambda:self.output.configure(text=self.output.cget('text') + '00'), corner_radius=20, width=80, height=55, font=(('arial', 30))).grid(row=5, column=1, padx=5, pady=5)\n",
    "\n",
    "        customtkinter.CTkButton(self,text='C', command= lambda:self.output.configure(text=''), corner_radius=20, width=80, height=55, font=(('arial', 30))).grid(row=1, column=0, padx=5, pady=5)\n",
    "\n",
    "        customtkinter.CTkButton(self,text='=', command= lambda:self.output.configure(text=eval(self.output.cget('text'))), corner_radius=20, width=80, height=55, font=(('arial', 30))).grid(row=5, column=2, padx=5, pady=5)\n",
    "\n",
    "        customtkinter.CTkButton(self,text='+', command=lambda:self.output.configure(text=self.output.cget('text') + '+'), corner_radius=20, width=80, height=55, font=(('arial', 30))).grid(row=2, column=3, padx=5, pady=5)\n",
    "\n",
    "        customtkinter.CTkButton(self,text='-', command=lambda:self.output.configure(text=self.output.cget('text') + '-'), corner_radius=20, width=80, height=55, font=(('arial', 30))).grid(row=3, column=3, padx=5, pady=5)\n",
    "\n",
    "        customtkinter.CTkButton(self,text='x', command=lambda:self.output.configure(text=self.output.cget('text') + '*'), corner_radius=20, width=80, height=55, font=(('arial', 30))).grid(row=4, column=3, padx=5, pady=5)\n",
    "\n",
    "        customtkinter.CTkButton(self, text='/', command=lambda:self.output.configure(text=self.output.cget('text') + '/'), corner_radius=20, width=80, height=55, font=(('arial', 30))).grid(row=5, column=3, padx=5, pady=5)\n",
    "\n",
    "        customtkinter.CTkButton(self, text='(', command=lambda:self.output.configure(text=self.output.cget('text') + '('), corner_radius=20, width=80, height=55, font=(('arial', 30))).grid(row=1, column=1, padx=5, pady=5)\n",
    "\n",
    "        customtkinter.CTkButton(self, text=')', command=lambda:self.output.configure(text=self.output.cget('text') + ')'), corner_radius=20, width=80, height=55, font=(('arial', 30))).grid(row=1, column=2, padx=5, pady=5)\n",
    "\n",
    "        customtkinter.CTkButton(self, text='<x', command=lambda:self.output.configure(text=self.output.cget('text')[:-1]), corner_radius=20, width=80, height=55, font=(('arial', 30))).grid(row=1, column=3, padx=5, pady=5)\n",
    "\n",
    "\n",
    "app = App()\n",
    "app.mainloop()\n"
   ]
  }
 ],
 "metadata": {
  "kernelspec": {
   "display_name": "Python 3",
   "language": "python",
   "name": "python3"
  },
  "language_info": {
   "codemirror_mode": {
    "name": "ipython",
    "version": 3
   },
   "file_extension": ".py",
   "mimetype": "text/x-python",
   "name": "python",
   "nbconvert_exporter": "python",
   "pygments_lexer": "ipython3",
   "version": "3.11.5"
  },
  "toc-autonumbering": false,
  "toc-showcode": true
 },
 "nbformat": 4,
 "nbformat_minor": 4
}
